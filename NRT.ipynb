{
 "cells": [
  {
   "cell_type": "code",
   "execution_count": 1,
   "id": "30ed1049-5466-4d04-bcef-ac0c8ffa1d6d",
   "metadata": {},
   "outputs": [],
   "source": [
    "import datetime\n",
    "import pandas as pd\n",
    "import geopandas as gpd\n",
    "\n",
    "import FireMain, FireTime, FireObj, FireConsts, postprocess, preprocess\n",
    "from utils import timed"
   ]
  },
  {
   "cell_type": "code",
   "execution_count": 2,
   "id": "27a71fa5-d7cd-4f33-a962-9b09ba3e6433",
   "metadata": {},
   "outputs": [],
   "source": [
    "tst = [2023, 8, 28, 'AM']\n",
    "ted = [2023, 9, 6, 'AM']\n",
    "region = ('WesternUS',[-125.698046875,31.676476158707615,\n",
    "                       -101.00078125,49.51429477264348])\n",
    "list_of_ts = list(FireTime.t_generator(tst, ted))"
   ]
  },
  {
   "cell_type": "markdown",
   "id": "c5cbf654-16f4-4790-95e0-a90140e79e78",
   "metadata": {},
   "source": [
    "## Once per landcover file\n",
    "\n",
    "If your landcover file is not in lat,lon then transform it and resave it. You will use this file a bunch later on."
   ]
  },
  {
   "cell_type": "code",
   "execution_count": null,
   "id": "94bc6f4a-f61b-4d82-9e3b-d3749552c84c",
   "metadata": {},
   "outputs": [],
   "source": [
    "preprocess.preprocess_landcover()"
   ]
  },
  {
   "cell_type": "markdown",
   "id": "5e54a2d4-b41b-4d53-a4ba-7a41f02799f5",
   "metadata": {},
   "source": [
    "## Once per region\n",
    "\n",
    "Preprocess the region to get rid of static flare sources. Save that new \"swiss cheese\" shape off into a geojson file for later."
   ]
  },
  {
   "cell_type": "code",
   "execution_count": 3,
   "id": "1a3c495d-66fa-458f-8afb-01e982b0709a",
   "metadata": {},
   "outputs": [
    {
     "name": "stderr",
     "output_type": "stream",
     "text": [
      "2024-03-20 20:16:40,004 - FireLog - INFO - func:preprocess_region took: 40.61 sec\n"
     ]
    }
   ],
   "source": [
    "preprocess.preprocess_region(region)"
   ]
  },
  {
   "cell_type": "markdown",
   "id": "16bd857f-f57a-4fc3-9e49-2c9536c97019",
   "metadata": {},
   "source": [
    "## Once per input file\n",
    "\n",
    "Next process each NRT file into half day files. First we'll get all the times that are of interest. This could also be done by inspecting all looking at all the files that exist and seeing which have not been preprocessed yet."
   ]
  },
  {
   "cell_type": "code",
   "execution_count": 4,
   "id": "864146bf-ee1e-4785-9106-9df1359f2aaf",
   "metadata": {
    "scrolled": true
   },
   "outputs": [
    {
     "name": "stderr",
     "output_type": "stream",
     "text": [
      "2024-03-20 20:16:40,010 - FireLog - INFO - preprocessing NRT file for 2023-8-28, SNPP\n",
      "/home/jovyan/fireatlas_nrt/FireIO.py:312: FutureWarning: Support for nested sequences for 'parse_dates' in pd.read_csv is deprecated. Combine the desired columns with pd.to_datetime after parsing instead.\n",
      "  df = pd.read_csv(\n",
      "2024-03-20 20:16:41,605 - FireLog - INFO - func:preprocess_NRT_file took: 1.59 sec\n",
      "2024-03-20 20:16:41,606 - FireLog - INFO - preprocessing NRT file for 2023-8-29, SNPP\n",
      "/home/jovyan/fireatlas_nrt/FireIO.py:312: FutureWarning: Support for nested sequences for 'parse_dates' in pd.read_csv is deprecated. Combine the desired columns with pd.to_datetime after parsing instead.\n",
      "  df = pd.read_csv(\n",
      "2024-03-20 20:16:43,064 - FireLog - INFO - func:preprocess_NRT_file took: 1.46 sec\n",
      "2024-03-20 20:16:43,064 - FireLog - INFO - preprocessing NRT file for 2023-8-30, SNPP\n",
      "/home/jovyan/fireatlas_nrt/FireIO.py:312: FutureWarning: Support for nested sequences for 'parse_dates' in pd.read_csv is deprecated. Combine the desired columns with pd.to_datetime after parsing instead.\n",
      "  df = pd.read_csv(\n",
      "2024-03-20 20:16:44,300 - FireLog - INFO - func:preprocess_NRT_file took: 1.24 sec\n",
      "2024-03-20 20:16:44,301 - FireLog - INFO - preprocessing NRT file for 2023-8-31, SNPP\n",
      "/home/jovyan/fireatlas_nrt/FireIO.py:312: FutureWarning: Support for nested sequences for 'parse_dates' in pd.read_csv is deprecated. Combine the desired columns with pd.to_datetime after parsing instead.\n",
      "  df = pd.read_csv(\n",
      "2024-03-20 20:16:45,639 - FireLog - INFO - func:preprocess_NRT_file took: 1.34 sec\n",
      "2024-03-20 20:16:45,639 - FireLog - INFO - preprocessing NRT file for 2023-9-1, SNPP\n",
      "/home/jovyan/fireatlas_nrt/FireIO.py:312: FutureWarning: Support for nested sequences for 'parse_dates' in pd.read_csv is deprecated. Combine the desired columns with pd.to_datetime after parsing instead.\n",
      "  df = pd.read_csv(\n",
      "2024-03-20 20:16:47,182 - FireLog - INFO - func:preprocess_NRT_file took: 1.54 sec\n",
      "2024-03-20 20:16:47,183 - FireLog - INFO - preprocessing NRT file for 2023-9-2, SNPP\n",
      "/home/jovyan/fireatlas_nrt/FireIO.py:312: FutureWarning: Support for nested sequences for 'parse_dates' in pd.read_csv is deprecated. Combine the desired columns with pd.to_datetime after parsing instead.\n",
      "  df = pd.read_csv(\n",
      "2024-03-20 20:16:48,955 - FireLog - INFO - func:preprocess_NRT_file took: 1.77 sec\n",
      "2024-03-20 20:16:48,956 - FireLog - INFO - preprocessing NRT file for 2023-9-3, SNPP\n",
      "/home/jovyan/fireatlas_nrt/FireIO.py:312: FutureWarning: Support for nested sequences for 'parse_dates' in pd.read_csv is deprecated. Combine the desired columns with pd.to_datetime after parsing instead.\n",
      "  df = pd.read_csv(\n",
      "2024-03-20 20:16:50,408 - FireLog - INFO - func:preprocess_NRT_file took: 1.45 sec\n",
      "2024-03-20 20:16:50,409 - FireLog - INFO - preprocessing NRT file for 2023-9-4, SNPP\n",
      "/home/jovyan/fireatlas_nrt/FireIO.py:312: FutureWarning: Support for nested sequences for 'parse_dates' in pd.read_csv is deprecated. Combine the desired columns with pd.to_datetime after parsing instead.\n",
      "  df = pd.read_csv(\n",
      "2024-03-20 20:16:51,796 - FireLog - INFO - func:preprocess_NRT_file took: 1.39 sec\n",
      "2024-03-20 20:16:51,797 - FireLog - INFO - preprocessing NRT file for 2023-9-5, SNPP\n",
      "/home/jovyan/fireatlas_nrt/FireIO.py:312: FutureWarning: Support for nested sequences for 'parse_dates' in pd.read_csv is deprecated. Combine the desired columns with pd.to_datetime after parsing instead.\n",
      "  df = pd.read_csv(\n",
      "2024-03-20 20:16:53,147 - FireLog - INFO - func:preprocess_NRT_file took: 1.35 sec\n",
      "2024-03-20 20:16:53,147 - FireLog - INFO - preprocessing NRT file for 2023-9-6, SNPP\n",
      "/home/jovyan/fireatlas_nrt/FireIO.py:312: FutureWarning: Support for nested sequences for 'parse_dates' in pd.read_csv is deprecated. Combine the desired columns with pd.to_datetime after parsing instead.\n",
      "  df = pd.read_csv(\n",
      "2024-03-20 20:16:54,272 - FireLog - INFO - func:preprocess_NRT_file took: 1.12 sec\n",
      "2024-03-20 20:16:54,272 - FireLog - INFO - preprocessing NRT file for 2023-8-28, NOAA20\n",
      "2024-03-20 20:16:55,775 - FireLog - INFO - func:preprocess_NRT_file took: 1.50 sec\n",
      "2024-03-20 20:16:55,776 - FireLog - INFO - preprocessing NRT file for 2023-8-29, NOAA20\n",
      "2024-03-20 20:16:57,213 - FireLog - INFO - func:preprocess_NRT_file took: 1.44 sec\n",
      "2024-03-20 20:16:57,214 - FireLog - INFO - preprocessing NRT file for 2023-8-30, NOAA20\n",
      "2024-03-20 20:16:58,363 - FireLog - INFO - func:preprocess_NRT_file took: 1.15 sec\n",
      "2024-03-20 20:16:58,363 - FireLog - INFO - preprocessing NRT file for 2023-8-31, NOAA20\n",
      "2024-03-20 20:16:59,632 - FireLog - INFO - func:preprocess_NRT_file took: 1.27 sec\n",
      "2024-03-20 20:16:59,632 - FireLog - INFO - preprocessing NRT file for 2023-9-1, NOAA20\n",
      "2024-03-20 20:17:01,525 - FireLog - INFO - func:preprocess_NRT_file took: 1.89 sec\n",
      "2024-03-20 20:17:01,525 - FireLog - INFO - preprocessing NRT file for 2023-9-2, NOAA20\n",
      "2024-03-20 20:17:03,200 - FireLog - INFO - func:preprocess_NRT_file took: 1.67 sec\n",
      "2024-03-20 20:17:03,201 - FireLog - INFO - preprocessing NRT file for 2023-9-3, NOAA20\n",
      "2024-03-20 20:17:04,622 - FireLog - INFO - func:preprocess_NRT_file took: 1.42 sec\n",
      "2024-03-20 20:17:04,622 - FireLog - INFO - preprocessing NRT file for 2023-9-4, NOAA20\n",
      "2024-03-20 20:17:06,084 - FireLog - INFO - func:preprocess_NRT_file took: 1.46 sec\n",
      "2024-03-20 20:17:06,085 - FireLog - INFO - preprocessing NRT file for 2023-9-5, NOAA20\n",
      "2024-03-20 20:17:07,445 - FireLog - INFO - func:preprocess_NRT_file took: 1.36 sec\n",
      "2024-03-20 20:17:07,445 - FireLog - INFO - preprocessing NRT file for 2023-9-6, NOAA20\n",
      "2024-03-20 20:17:08,763 - FireLog - INFO - func:preprocess_NRT_file took: 1.32 sec\n"
     ]
    },
    {
     "name": "stdout",
     "output_type": "stream",
     "text": [
      "CPU times: user 14.5 s, sys: 420 ms, total: 14.9 s\n",
      "Wall time: 28.8 s\n"
     ]
    }
   ],
   "source": [
    "%%time\n",
    "for sat in [\"SNPP\", \"NOAA20\"]:\n",
    "    for t in list_of_ts[::2]:\n",
    "        preprocess.preprocess_NRT_file(t, sat)"
   ]
  },
  {
   "cell_type": "markdown",
   "id": "73f9065d-3519-4673-98e5-3afd0e29ab80",
   "metadata": {},
   "source": [
    "## Once per region and t\n",
    "\n",
    "Do initial filtering and clustering using the preprocessed region and the half day files.\n",
    "\n",
    "Note: for the purpose of timing I am running the full month, but each of these steps could run in a separate proccess."
   ]
  },
  {
   "cell_type": "code",
   "execution_count": 5,
   "id": "5ed3b8b4-7330-48e4-a3ff-4ca4d56add2c",
   "metadata": {
    "editable": true,
    "scrolled": true,
    "slideshow": {
     "slide_type": ""
    },
    "tags": []
   },
   "outputs": [
    {
     "name": "stderr",
     "output_type": "stream",
     "text": [
      "2024-03-20 20:17:08,771 - FireLog - INFO - filtering and clustering 2023-8-28 AM, VIIRS, WesternUS\n",
      "2024-03-20 20:17:08,829 - FireLog - INFO - func:read_preprocessed took: 57.61 ms\n",
      "2024-03-20 20:17:08,874 - FireLog - INFO - func:read_preprocessed took: 44.29 ms\n",
      "2024-03-20 20:17:09,085 - FireLog - INFO - func:read_region took: 208.89 ms\n",
      "2024-03-20 20:18:00,720 - FireLog - INFO - func:do_clustering took: 394.16 ms\n",
      "2024-03-20 20:18:00,784 - FireLog - INFO - func:preprocess_region_t took: 52.01 sec\n",
      "2024-03-20 20:18:00,784 - FireLog - INFO - filtering and clustering 2023-8-28 PM, VIIRS, WesternUS\n",
      "2024-03-20 20:18:00,850 - FireLog - INFO - func:read_preprocessed took: 64.68 ms\n",
      "2024-03-20 20:18:00,918 - FireLog - INFO - func:read_preprocessed took: 67.74 ms\n",
      "2024-03-20 20:18:01,093 - FireLog - INFO - func:read_region took: 171.81 ms\n",
      "2024-03-20 20:18:22,657 - FireLog - INFO - func:do_clustering took: 18.69 ms\n",
      "2024-03-20 20:18:22,699 - FireLog - INFO - func:preprocess_region_t took: 21.91 sec\n",
      "2024-03-20 20:18:22,700 - FireLog - INFO - filtering and clustering 2023-8-29 AM, VIIRS, WesternUS\n",
      "2024-03-20 20:18:22,747 - FireLog - INFO - func:read_preprocessed took: 47.23 ms\n",
      "2024-03-20 20:18:22,794 - FireLog - INFO - func:read_preprocessed took: 45.96 ms\n",
      "2024-03-20 20:18:22,965 - FireLog - INFO - func:read_region took: 169.18 ms\n",
      "2024-03-20 20:18:53,701 - FireLog - INFO - func:do_clustering took: 27.99 ms\n",
      "2024-03-20 20:18:53,756 - FireLog - INFO - func:preprocess_region_t took: 31.06 sec\n",
      "2024-03-20 20:18:53,757 - FireLog - INFO - filtering and clustering 2023-8-29 PM, VIIRS, WesternUS\n",
      "2024-03-20 20:18:53,817 - FireLog - INFO - func:read_preprocessed took: 59.96 ms\n",
      "2024-03-20 20:18:53,879 - FireLog - INFO - func:read_preprocessed took: 61.19 ms\n",
      "2024-03-20 20:18:54,052 - FireLog - INFO - func:read_region took: 170.32 ms\n",
      "2024-03-20 20:19:09,717 - FireLog - INFO - func:do_clustering took: 13.43 ms\n",
      "2024-03-20 20:19:09,749 - FireLog - INFO - func:preprocess_region_t took: 15.99 sec\n",
      "2024-03-20 20:19:09,750 - FireLog - INFO - filtering and clustering 2023-8-30 AM, VIIRS, WesternUS\n",
      "2024-03-20 20:19:09,784 - FireLog - INFO - func:read_preprocessed took: 33.87 ms\n",
      "2024-03-20 20:19:09,812 - FireLog - INFO - func:read_preprocessed took: 27.67 ms\n",
      "2024-03-20 20:19:09,982 - FireLog - INFO - func:read_region took: 167.91 ms\n",
      "2024-03-20 20:19:35,748 - FireLog - INFO - func:do_clustering took: 22.71 ms\n",
      "2024-03-20 20:19:35,790 - FireLog - INFO - func:preprocess_region_t took: 26.04 sec\n",
      "2024-03-20 20:19:35,790 - FireLog - INFO - filtering and clustering 2023-8-30 PM, VIIRS, WesternUS\n",
      "2024-03-20 20:19:35,864 - FireLog - INFO - func:read_preprocessed took: 73.08 ms\n",
      "2024-03-20 20:19:35,934 - FireLog - INFO - func:read_preprocessed took: 69.31 ms\n",
      "2024-03-20 20:19:36,137 - FireLog - INFO - func:read_region took: 199.94 ms\n",
      "2024-03-20 20:20:06,688 - FireLog - INFO - func:do_clustering took: 32.04 ms\n",
      "2024-03-20 20:20:06,739 - FireLog - INFO - func:preprocess_region_t took: 30.95 sec\n",
      "2024-03-20 20:20:06,739 - FireLog - INFO - filtering and clustering 2023-8-31 AM, VIIRS, WesternUS\n",
      "2024-03-20 20:20:06,764 - FireLog - INFO - func:read_preprocessed took: 23.80 ms\n",
      "2024-03-20 20:20:06,788 - FireLog - INFO - func:read_preprocessed took: 23.56 ms\n",
      "2024-03-20 20:20:06,958 - FireLog - INFO - func:read_region took: 168.36 ms\n",
      "2024-03-20 20:20:46,842 - FireLog - INFO - func:do_clustering took: 37.56 ms\n",
      "2024-03-20 20:20:46,904 - FireLog - INFO - func:preprocess_region_t took: 40.16 sec\n",
      "2024-03-20 20:20:46,904 - FireLog - INFO - filtering and clustering 2023-8-31 PM, VIIRS, WesternUS\n",
      "2024-03-20 20:20:46,976 - FireLog - INFO - func:read_preprocessed took: 71.54 ms\n",
      "2024-03-20 20:20:47,041 - FireLog - INFO - func:read_preprocessed took: 63.63 ms\n",
      "2024-03-20 20:20:47,216 - FireLog - INFO - func:read_region took: 172.22 ms\n",
      "2024-03-20 20:20:50,378 - FireLog - INFO - func:do_clustering took: 3.29 ms\n",
      "2024-03-20 20:20:50,394 - FireLog - INFO - func:preprocess_region_t took: 3.49 sec\n",
      "2024-03-20 20:20:50,394 - FireLog - INFO - filtering and clustering 2023-9-1 AM, VIIRS, WesternUS\n",
      "2024-03-20 20:20:50,420 - FireLog - INFO - func:read_preprocessed took: 25.12 ms\n",
      "2024-03-20 20:20:50,456 - FireLog - INFO - func:read_preprocessed took: 35.51 ms\n",
      "2024-03-20 20:20:50,627 - FireLog - INFO - func:read_region took: 169.13 ms\n",
      "2024-03-20 20:20:56,941 - FireLog - INFO - func:do_clustering took: 5.57 ms\n",
      "2024-03-20 20:20:56,961 - FireLog - INFO - func:preprocess_region_t took: 6.57 sec\n",
      "2024-03-20 20:20:56,961 - FireLog - INFO - filtering and clustering 2023-9-1 PM, VIIRS, WesternUS\n",
      "2024-03-20 20:20:57,046 - FireLog - INFO - func:read_preprocessed took: 84.34 ms\n",
      "2024-03-20 20:20:57,130 - FireLog - INFO - func:read_preprocessed took: 82.72 ms\n",
      "2024-03-20 20:20:57,304 - FireLog - INFO - func:read_region took: 170.75 ms\n",
      "2024-03-20 20:20:59,284 - FireLog - INFO - func:do_clustering took: 2.49 ms\n",
      "2024-03-20 20:20:59,301 - FireLog - INFO - func:preprocess_region_t took: 2.34 sec\n",
      "2024-03-20 20:20:59,301 - FireLog - INFO - filtering and clustering 2023-9-2 AM, VIIRS, WesternUS\n",
      "2024-03-20 20:20:59,351 - FireLog - INFO - func:read_preprocessed took: 49.29 ms\n",
      "2024-03-20 20:20:59,400 - FireLog - INFO - func:read_preprocessed took: 48.37 ms\n",
      "2024-03-20 20:20:59,574 - FireLog - INFO - func:read_region took: 171.73 ms\n",
      "2024-03-20 20:21:05,374 - FireLog - INFO - func:do_clustering took: 4.70 ms\n",
      "2024-03-20 20:21:05,392 - FireLog - INFO - func:preprocess_region_t took: 6.09 sec\n",
      "2024-03-20 20:21:05,392 - FireLog - INFO - filtering and clustering 2023-9-2 PM, VIIRS, WesternUS\n",
      "2024-03-20 20:21:05,477 - FireLog - INFO - func:read_preprocessed took: 83.92 ms\n",
      "2024-03-20 20:21:05,563 - FireLog - INFO - func:read_preprocessed took: 85.19 ms\n",
      "2024-03-20 20:21:05,739 - FireLog - INFO - func:read_region took: 171.60 ms\n",
      "2024-03-20 20:21:07,368 - FireLog - INFO - func:do_clustering took: 2.27 ms\n",
      "2024-03-20 20:21:07,384 - FireLog - INFO - func:preprocess_region_t took: 1.99 sec\n",
      "2024-03-20 20:21:07,385 - FireLog - INFO - filtering and clustering 2023-9-3 AM, VIIRS, WesternUS\n",
      "2024-03-20 20:21:07,434 - FireLog - INFO - func:read_preprocessed took: 48.87 ms\n",
      "2024-03-20 20:21:07,482 - FireLog - INFO - func:read_preprocessed took: 47.07 ms\n",
      "2024-03-20 20:21:07,653 - FireLog - INFO - func:read_region took: 169.28 ms\n",
      "2024-03-20 20:21:14,200 - FireLog - INFO - func:do_clustering took: 5.59 ms\n",
      "2024-03-20 20:21:14,219 - FireLog - INFO - func:preprocess_region_t took: 6.83 sec\n",
      "2024-03-20 20:21:14,220 - FireLog - INFO - filtering and clustering 2023-9-3 PM, VIIRS, WesternUS\n",
      "2024-03-20 20:21:14,306 - FireLog - INFO - func:read_preprocessed took: 86.27 ms\n",
      "2024-03-20 20:21:14,372 - FireLog - INFO - func:read_preprocessed took: 64.54 ms\n",
      "2024-03-20 20:21:14,547 - FireLog - INFO - func:read_region took: 171.88 ms\n",
      "2024-03-20 20:21:15,563 - FireLog - INFO - func:do_clustering took: 1.86 ms\n",
      "2024-03-20 20:21:15,575 - FireLog - INFO - func:preprocess_region_t took: 1.36 sec\n",
      "2024-03-20 20:21:15,575 - FireLog - INFO - filtering and clustering 2023-9-4 AM, VIIRS, WesternUS\n",
      "2024-03-20 20:21:15,605 - FireLog - INFO - func:read_preprocessed took: 29.08 ms\n",
      "2024-03-20 20:21:15,629 - FireLog - INFO - func:read_preprocessed took: 23.74 ms\n",
      "2024-03-20 20:21:15,804 - FireLog - INFO - func:read_region took: 173.89 ms\n",
      "2024-03-20 20:21:19,952 - FireLog - INFO - func:do_clustering took: 4.02 ms\n",
      "2024-03-20 20:21:19,970 - FireLog - INFO - func:preprocess_region_t took: 4.40 sec\n",
      "2024-03-20 20:21:19,971 - FireLog - INFO - filtering and clustering 2023-9-4 PM, VIIRS, WesternUS\n",
      "2024-03-20 20:21:20,040 - FireLog - INFO - func:read_preprocessed took: 69.15 ms\n",
      "2024-03-20 20:21:20,109 - FireLog - INFO - func:read_preprocessed took: 68.15 ms\n",
      "2024-03-20 20:21:20,283 - FireLog - INFO - func:read_region took: 170.05 ms\n",
      "2024-03-20 20:21:21,735 - FireLog - INFO - func:do_clustering took: 2.14 ms\n",
      "2024-03-20 20:21:21,750 - FireLog - INFO - func:preprocess_region_t took: 1.78 sec\n",
      "2024-03-20 20:21:21,751 - FireLog - INFO - filtering and clustering 2023-9-5 AM, VIIRS, WesternUS\n",
      "2024-03-20 20:21:21,782 - FireLog - INFO - func:read_preprocessed took: 30.36 ms\n",
      "2024-03-20 20:21:21,809 - FireLog - INFO - func:read_preprocessed took: 26.86 ms\n",
      "2024-03-20 20:21:21,980 - FireLog - INFO - func:read_region took: 169.66 ms\n",
      "2024-03-20 20:21:27,798 - FireLog - INFO - func:do_clustering took: 4.91 ms\n",
      "2024-03-20 20:21:27,815 - FireLog - INFO - func:preprocess_region_t took: 6.06 sec\n",
      "2024-03-20 20:21:27,815 - FireLog - INFO - filtering and clustering 2023-9-5 PM, VIIRS, WesternUS\n",
      "2024-03-20 20:21:27,901 - FireLog - INFO - func:read_preprocessed took: 84.86 ms\n",
      "2024-03-20 20:21:27,981 - FireLog - INFO - func:read_preprocessed took: 79.90 ms\n",
      "2024-03-20 20:21:28,154 - FireLog - INFO - func:read_region took: 168.78 ms\n",
      "2024-03-20 20:21:33,481 - FireLog - INFO - func:do_clustering took: 4.95 ms\n",
      "2024-03-20 20:21:33,498 - FireLog - INFO - func:preprocess_region_t took: 5.68 sec\n",
      "2024-03-20 20:21:33,499 - FireLog - INFO - filtering and clustering 2023-9-6 AM, VIIRS, WesternUS\n",
      "2024-03-20 20:21:33,531 - FireLog - INFO - func:read_preprocessed took: 31.48 ms\n",
      "2024-03-20 20:21:33,571 - FireLog - INFO - func:read_preprocessed took: 39.50 ms\n",
      "2024-03-20 20:21:33,741 - FireLog - INFO - func:read_region took: 167.63 ms\n",
      "2024-03-20 20:21:40,973 - FireLog - INFO - func:do_clustering took: 5.76 ms\n",
      "2024-03-20 20:21:40,993 - FireLog - INFO - func:preprocess_region_t took: 7.49 sec\n"
     ]
    },
    {
     "name": "stdout",
     "output_type": "stream",
     "text": [
      "CPU times: user 4min 18s, sys: 323 ms, total: 4min 18s\n",
      "Wall time: 4min 32s\n"
     ]
    }
   ],
   "source": [
    "%%time\n",
    "for t in list_of_ts:\n",
    "    preprocess.preprocess_region_t(t, sensor=\"VIIRS\", region=region)"
   ]
  },
  {
   "cell_type": "markdown",
   "id": "f14a2dc9-e4ba-46ea-9e35-fca95f4514b0",
   "metadata": {},
   "source": [
    "## Run the fire expansion and merging algorithm\n",
    "\n",
    "`Fire_Forward` is responsible for reading in the preprocessed data created in the `Ingest` notebook"
   ]
  },
  {
   "cell_type": "code",
   "execution_count": 6,
   "id": "f9177ca7-7ddb-4472-97a2-054467bf86f0",
   "metadata": {
    "scrolled": true
   },
   "outputs": [
    {
     "name": "stderr",
     "output_type": "stream",
     "text": [
      "2024-03-20 20:21:41,013 - FireLog - INFO - func:read_preprocessed took: 8.24 ms\n",
      "2024-03-20 20:21:41,020 - FireLog - INFO - func:read_preprocessed took: 6.08 ms\n",
      "2024-03-20 20:21:41,026 - FireLog - INFO - func:read_preprocessed took: 6.31 ms\n",
      "2024-03-20 20:21:41,032 - FireLog - INFO - func:read_preprocessed took: 5.49 ms\n",
      "2024-03-20 20:21:41,039 - FireLog - INFO - func:read_preprocessed took: 5.86 ms\n",
      "2024-03-20 20:21:41,045 - FireLog - INFO - func:read_preprocessed took: 6.42 ms\n",
      "2024-03-20 20:21:41,053 - FireLog - INFO - func:read_preprocessed took: 7.46 ms\n",
      "2024-03-20 20:21:41,058 - FireLog - INFO - func:read_preprocessed took: 3.95 ms\n",
      "2024-03-20 20:21:41,063 - FireLog - INFO - func:read_preprocessed took: 4.21 ms\n",
      "2024-03-20 20:21:41,067 - FireLog - INFO - func:read_preprocessed took: 4.15 ms\n",
      "2024-03-20 20:21:41,073 - FireLog - INFO - func:read_preprocessed took: 5.52 ms\n",
      "2024-03-20 20:21:41,078 - FireLog - INFO - func:read_preprocessed took: 3.87 ms\n",
      "2024-03-20 20:21:41,082 - FireLog - INFO - func:read_preprocessed took: 4.21 ms\n",
      "2024-03-20 20:21:41,087 - FireLog - INFO - func:read_preprocessed took: 4.20 ms\n",
      "2024-03-20 20:21:41,092 - FireLog - INFO - func:read_preprocessed took: 4.03 ms\n",
      "2024-03-20 20:21:41,096 - FireLog - INFO - func:read_preprocessed took: 3.83 ms\n",
      "2024-03-20 20:21:41,101 - FireLog - INFO - func:read_preprocessed took: 4.39 ms\n",
      "2024-03-20 20:21:41,106 - FireLog - INFO - func:read_preprocessed took: 4.36 ms\n",
      "2024-03-20 20:21:41,110 - FireLog - INFO - func:read_preprocessed took: 4.12 ms\n",
      "2024-03-20 20:21:41,114 - FireLog - INFO - --------------------\n",
      "2024-03-20 20:21:41,115 - FireLog - INFO - Fire tracking at [2023, 8, 28, 'AM']\n",
      "2024-03-20 20:21:43,496 - FireLog - INFO - func:Fire_expand_rtree took: 2.38 sec\n",
      "2024-03-20 20:21:45,856 - FireLog - INFO - func:Fire_merge_rtree took: 2.36 sec\n",
      "2024-03-20 20:21:45,966 - FireLog - INFO - func:invalidate_statfires took: 109.19 ms\n",
      "2024-03-20 20:21:45,967 - FireLog - INFO - fids_expand: 0\n",
      "2024-03-20 20:21:45,967 - FireLog - INFO - fids_new: 264\n",
      "2024-03-20 20:21:45,968 - FireLog - INFO - fids_merged: 32\n",
      "2024-03-20 20:21:45,968 - FireLog - INFO - fids_invalid: 87\n",
      "2024-03-20 20:21:47,807 - FireLog - INFO - func:update_gdf took: 1.84 sec\n",
      "2024-03-20 20:21:47,808 - FireLog - INFO - func:Fire_Forward_one_step took: 6.69 sec\n",
      "2024-03-20 20:21:47,809 - FireLog - INFO - --------------------\n",
      "2024-03-20 20:21:47,809 - FireLog - INFO - Fire tracking at [2023, 8, 28, 'PM']\n",
      "2024-03-20 20:21:49,972 - FireLog - INFO - func:Fire_expand_rtree took: 2.16 sec\n",
      "2024-03-20 20:21:50,343 - FireLog - INFO - func:Fire_merge_rtree took: 369.32 ms\n",
      "2024-03-20 20:21:50,502 - FireLog - INFO - func:invalidate_statfires took: 157.88 ms\n",
      "2024-03-20 20:21:50,503 - FireLog - INFO - fids_expand: 56\n",
      "2024-03-20 20:21:50,503 - FireLog - INFO - fids_new: 93\n",
      "2024-03-20 20:21:50,503 - FireLog - INFO - fids_merged: 13\n",
      "2024-03-20 20:21:50,504 - FireLog - INFO - fids_invalid: 17\n",
      "2024-03-20 20:21:51,631 - FireLog - INFO - func:update_gdf took: 1.13 sec\n",
      "2024-03-20 20:21:51,632 - FireLog - INFO - func:Fire_Forward_one_step took: 3.82 sec\n",
      "2024-03-20 20:21:51,633 - FireLog - INFO - --------------------\n",
      "2024-03-20 20:21:51,633 - FireLog - INFO - Fire tracking at [2023, 8, 29, 'AM']\n",
      "2024-03-20 20:21:54,566 - FireLog - INFO - func:Fire_expand_rtree took: 2.93 sec\n",
      "2024-03-20 20:21:55,233 - FireLog - INFO - func:Fire_merge_rtree took: 664.99 ms\n",
      "2024-03-20 20:21:55,430 - FireLog - INFO - func:invalidate_statfires took: 196.53 ms\n",
      "2024-03-20 20:21:55,431 - FireLog - INFO - fids_expand: 115\n",
      "2024-03-20 20:21:55,431 - FireLog - INFO - fids_new: 70\n",
      "2024-03-20 20:21:55,432 - FireLog - INFO - fids_merged: 9\n",
      "2024-03-20 20:21:55,433 - FireLog - INFO - fids_invalid: 20\n",
      "2024-03-20 20:21:56,828 - FireLog - INFO - func:update_gdf took: 1.39 sec\n",
      "2024-03-20 20:21:56,829 - FireLog - INFO - func:Fire_Forward_one_step took: 5.20 sec\n",
      "2024-03-20 20:21:56,829 - FireLog - INFO - --------------------\n",
      "2024-03-20 20:21:56,830 - FireLog - INFO - Fire tracking at [2023, 8, 29, 'PM']\n",
      "2024-03-20 20:21:58,372 - FireLog - INFO - func:Fire_expand_rtree took: 1.54 sec\n",
      "2024-03-20 20:21:58,513 - FireLog - INFO - func:Fire_merge_rtree took: 138.71 ms\n",
      "2024-03-20 20:21:58,729 - FireLog - INFO - func:invalidate_statfires took: 215.38 ms\n",
      "2024-03-20 20:21:58,729 - FireLog - INFO - fids_expand: 30\n",
      "2024-03-20 20:21:58,730 - FireLog - INFO - fids_new: 39\n",
      "2024-03-20 20:21:58,730 - FireLog - INFO - fids_merged: 3\n",
      "2024-03-20 20:21:58,730 - FireLog - INFO - fids_invalid: 6\n",
      "2024-03-20 20:21:59,278 - FireLog - INFO - func:update_gdf took: 546.16 ms\n",
      "2024-03-20 20:21:59,279 - FireLog - INFO - func:Fire_Forward_one_step took: 2.45 sec\n",
      "2024-03-20 20:21:59,279 - FireLog - INFO - --------------------\n",
      "2024-03-20 20:21:59,280 - FireLog - INFO - Fire tracking at [2023, 8, 30, 'AM']\n",
      "2024-03-20 20:22:01,949 - FireLog - INFO - func:Fire_expand_rtree took: 2.67 sec\n",
      "2024-03-20 20:22:02,161 - FireLog - INFO - func:Fire_merge_rtree took: 210.51 ms\n",
      "2024-03-20 20:22:02,417 - FireLog - INFO - func:invalidate_statfires took: 254.96 ms\n",
      "2024-03-20 20:22:02,418 - FireLog - INFO - fids_expand: 94\n",
      "2024-03-20 20:22:02,419 - FireLog - INFO - fids_new: 48\n",
      "2024-03-20 20:22:02,419 - FireLog - INFO - fids_merged: 5\n",
      "2024-03-20 20:22:02,419 - FireLog - INFO - fids_invalid: 13\n",
      "2024-03-20 20:22:03,512 - FireLog - INFO - func:update_gdf took: 1.09 sec\n",
      "2024-03-20 20:22:03,512 - FireLog - INFO - func:Fire_Forward_one_step took: 4.23 sec\n",
      "2024-03-20 20:22:03,513 - FireLog - INFO - --------------------\n",
      "2024-03-20 20:22:03,513 - FireLog - INFO - Fire tracking at [2023, 8, 30, 'PM']\n",
      "2024-03-20 20:22:05,735 - FireLog - INFO - func:Fire_expand_rtree took: 2.22 sec\n",
      "2024-03-20 20:22:06,172 - FireLog - INFO - func:Fire_merge_rtree took: 433.28 ms\n",
      "2024-03-20 20:22:06,427 - FireLog - INFO - func:invalidate_statfires took: 255.12 ms\n",
      "2024-03-20 20:22:06,428 - FireLog - INFO - fids_expand: 43\n",
      "2024-03-20 20:22:06,428 - FireLog - INFO - fids_new: 37\n",
      "2024-03-20 20:22:06,429 - FireLog - INFO - fids_merged: 4\n",
      "2024-03-20 20:22:06,430 - FireLog - INFO - fids_invalid: 6\n",
      "2024-03-20 20:22:07,076 - FireLog - INFO - func:update_gdf took: 646.16 ms\n",
      "2024-03-20 20:22:07,077 - FireLog - INFO - func:Fire_Forward_one_step took: 3.56 sec\n",
      "2024-03-20 20:22:07,078 - FireLog - INFO - --------------------\n",
      "2024-03-20 20:22:07,078 - FireLog - INFO - Fire tracking at [2023, 8, 31, 'AM']\n",
      "2024-03-20 20:22:10,503 - FireLog - INFO - func:Fire_expand_rtree took: 3.42 sec\n",
      "2024-03-20 20:22:10,827 - FireLog - INFO - func:Fire_merge_rtree took: 321.23 ms\n",
      "2024-03-20 20:22:11,094 - FireLog - INFO - func:invalidate_statfires took: 266.91 ms\n",
      "2024-03-20 20:22:11,095 - FireLog - INFO - fids_expand: 98\n",
      "2024-03-20 20:22:11,095 - FireLog - INFO - fids_new: 36\n",
      "2024-03-20 20:22:11,096 - FireLog - INFO - fids_merged: 5\n",
      "2024-03-20 20:22:11,096 - FireLog - INFO - fids_invalid: 17\n",
      "2024-03-20 20:22:12,157 - FireLog - INFO - func:update_gdf took: 1.06 sec\n",
      "2024-03-20 20:22:12,158 - FireLog - INFO - func:Fire_Forward_one_step took: 5.08 sec\n",
      "2024-03-20 20:22:12,158 - FireLog - INFO - --------------------\n",
      "2024-03-20 20:22:12,159 - FireLog - INFO - Fire tracking at [2023, 8, 31, 'PM']\n",
      "2024-03-20 20:22:12,747 - FireLog - INFO - func:Fire_expand_rtree took: 584.63 ms\n",
      "2024-03-20 20:22:12,885 - FireLog - INFO - func:Fire_merge_rtree took: 135.74 ms\n",
      "2024-03-20 20:22:13,161 - FireLog - INFO - func:invalidate_statfires took: 275.18 ms\n",
      "2024-03-20 20:22:13,162 - FireLog - INFO - fids_expand: 19\n",
      "2024-03-20 20:22:13,162 - FireLog - INFO - fids_new: 23\n",
      "2024-03-20 20:22:13,163 - FireLog - INFO - fids_merged: 3\n",
      "2024-03-20 20:22:13,163 - FireLog - INFO - fids_invalid: 6\n",
      "2024-03-20 20:22:13,518 - FireLog - INFO - func:update_gdf took: 353.87 ms\n",
      "2024-03-20 20:22:13,518 - FireLog - INFO - func:Fire_Forward_one_step took: 1.36 sec\n",
      "2024-03-20 20:22:13,519 - FireLog - INFO - --------------------\n",
      "2024-03-20 20:22:13,519 - FireLog - INFO - Fire tracking at [2023, 9, 1, 'AM']\n",
      "2024-03-20 20:22:15,004 - FireLog - INFO - func:Fire_expand_rtree took: 1.48 sec\n",
      "2024-03-20 20:22:15,087 - FireLog - INFO - func:Fire_merge_rtree took: 81.18 ms\n",
      "2024-03-20 20:22:15,388 - FireLog - INFO - func:invalidate_statfires took: 300.12 ms\n",
      "2024-03-20 20:22:15,388 - FireLog - INFO - fids_expand: 78\n",
      "2024-03-20 20:22:15,389 - FireLog - INFO - fids_new: 37\n",
      "2024-03-20 20:22:15,389 - FireLog - INFO - fids_merged: 0\n",
      "2024-03-20 20:22:15,390 - FireLog - INFO - fids_invalid: 10\n",
      "2024-03-20 20:22:16,304 - FireLog - INFO - func:update_gdf took: 913.01 ms\n",
      "2024-03-20 20:22:16,304 - FireLog - INFO - func:Fire_Forward_one_step took: 2.79 sec\n",
      "2024-03-20 20:22:16,305 - FireLog - INFO - --------------------\n",
      "2024-03-20 20:22:16,305 - FireLog - INFO - Fire tracking at [2023, 9, 1, 'PM']\n",
      "2024-03-20 20:22:16,751 - FireLog - INFO - func:Fire_expand_rtree took: 442.49 ms\n",
      "2024-03-20 20:22:16,845 - FireLog - INFO - func:Fire_merge_rtree took: 91.24 ms\n",
      "2024-03-20 20:22:17,143 - FireLog - INFO - func:invalidate_statfires took: 297.94 ms\n",
      "2024-03-20 20:22:17,144 - FireLog - INFO - fids_expand: 10\n",
      "2024-03-20 20:22:17,144 - FireLog - INFO - fids_new: 20\n",
      "2024-03-20 20:22:17,145 - FireLog - INFO - fids_merged: 1\n",
      "2024-03-20 20:22:17,145 - FireLog - INFO - fids_invalid: 2\n",
      "2024-03-20 20:22:17,415 - FireLog - INFO - func:update_gdf took: 268.08 ms\n",
      "2024-03-20 20:22:17,415 - FireLog - INFO - func:Fire_Forward_one_step took: 1.11 sec\n",
      "2024-03-20 20:22:17,416 - FireLog - INFO - --------------------\n",
      "2024-03-20 20:22:17,416 - FireLog - INFO - Fire tracking at [2023, 9, 2, 'AM']\n",
      "2024-03-20 20:22:18,545 - FireLog - INFO - func:Fire_expand_rtree took: 1.12 sec\n",
      "2024-03-20 20:22:18,688 - FireLog - INFO - func:Fire_merge_rtree took: 140.83 ms\n",
      "2024-03-20 20:22:19,001 - FireLog - INFO - func:invalidate_statfires took: 312.35 ms\n",
      "2024-03-20 20:22:19,002 - FireLog - INFO - fids_expand: 55\n",
      "2024-03-20 20:22:19,002 - FireLog - INFO - fids_new: 22\n",
      "2024-03-20 20:22:19,003 - FireLog - INFO - fids_merged: 2\n",
      "2024-03-20 20:22:19,003 - FireLog - INFO - fids_invalid: 9\n",
      "2024-03-20 20:22:19,618 - FireLog - INFO - func:update_gdf took: 614.52 ms\n",
      "2024-03-20 20:22:19,619 - FireLog - INFO - func:Fire_Forward_one_step took: 2.20 sec\n",
      "2024-03-20 20:22:19,619 - FireLog - INFO - --------------------\n",
      "2024-03-20 20:22:19,620 - FireLog - INFO - Fire tracking at [2023, 9, 2, 'PM']\n",
      "2024-03-20 20:22:20,112 - FireLog - INFO - func:Fire_expand_rtree took: 488.29 ms\n",
      "2024-03-20 20:22:20,224 - FireLog - INFO - func:Fire_merge_rtree took: 109.41 ms\n",
      "2024-03-20 20:22:20,533 - FireLog - INFO - func:invalidate_statfires took: 308.25 ms\n",
      "2024-03-20 20:22:20,533 - FireLog - INFO - fids_expand: 14\n",
      "2024-03-20 20:22:20,534 - FireLog - INFO - fids_new: 22\n",
      "2024-03-20 20:22:20,534 - FireLog - INFO - fids_merged: 1\n",
      "2024-03-20 20:22:20,535 - FireLog - INFO - fids_invalid: 1\n",
      "2024-03-20 20:22:20,841 - FireLog - INFO - func:update_gdf took: 305.70 ms\n",
      "2024-03-20 20:22:20,842 - FireLog - INFO - func:Fire_Forward_one_step took: 1.22 sec\n",
      "2024-03-20 20:22:20,842 - FireLog - INFO - --------------------\n",
      "2024-03-20 20:22:20,843 - FireLog - INFO - Fire tracking at [2023, 9, 3, 'AM']\n",
      "2024-03-20 20:22:22,370 - FireLog - INFO - func:Fire_expand_rtree took: 1.52 sec\n",
      "2024-03-20 20:22:22,499 - FireLog - INFO - func:Fire_merge_rtree took: 126.24 ms\n",
      "2024-03-20 20:22:22,779 - FireLog - INFO - func:invalidate_statfires took: 279.33 ms\n",
      "2024-03-20 20:22:22,780 - FireLog - INFO - fids_expand: 79\n",
      "2024-03-20 20:22:22,780 - FireLog - INFO - fids_new: 30\n",
      "2024-03-20 20:22:22,781 - FireLog - INFO - fids_merged: 1\n",
      "2024-03-20 20:22:22,781 - FireLog - INFO - fids_invalid: 11\n",
      "2024-03-20 20:22:23,643 - FireLog - INFO - func:update_gdf took: 860.98 ms\n",
      "2024-03-20 20:22:23,644 - FireLog - INFO - func:Fire_Forward_one_step took: 2.80 sec\n",
      "2024-03-20 20:22:23,644 - FireLog - INFO - --------------------\n",
      "2024-03-20 20:22:23,645 - FireLog - INFO - Fire tracking at [2023, 9, 3, 'PM']\n",
      "2024-03-20 20:22:24,040 - FireLog - INFO - func:Fire_expand_rtree took: 391.40 ms\n",
      "2024-03-20 20:22:24,123 - FireLog - INFO - func:Fire_merge_rtree took: 80.79 ms\n",
      "2024-03-20 20:22:24,382 - FireLog - INFO - func:invalidate_statfires took: 258.12 ms\n",
      "2024-03-20 20:22:24,383 - FireLog - INFO - fids_expand: 12\n",
      "2024-03-20 20:22:24,383 - FireLog - INFO - fids_new: 10\n",
      "2024-03-20 20:22:24,383 - FireLog - INFO - fids_merged: 0\n",
      "2024-03-20 20:22:24,384 - FireLog - INFO - fids_invalid: 1\n",
      "2024-03-20 20:22:24,590 - FireLog - INFO - func:update_gdf took: 205.06 ms\n",
      "2024-03-20 20:22:24,590 - FireLog - INFO - func:Fire_Forward_one_step took: 946.27 ms\n",
      "2024-03-20 20:22:24,591 - FireLog - INFO - --------------------\n",
      "2024-03-20 20:22:24,591 - FireLog - INFO - Fire tracking at [2023, 9, 4, 'AM']\n",
      "2024-03-20 20:22:25,904 - FireLog - INFO - func:Fire_expand_rtree took: 1.31 sec\n",
      "2024-03-20 20:22:26,033 - FireLog - INFO - func:Fire_merge_rtree took: 126.54 ms\n",
      "2024-03-20 20:22:26,282 - FireLog - INFO - func:invalidate_statfires took: 248.79 ms\n",
      "2024-03-20 20:22:26,283 - FireLog - INFO - fids_expand: 67\n",
      "2024-03-20 20:22:26,283 - FireLog - INFO - fids_new: 30\n",
      "2024-03-20 20:22:26,284 - FireLog - INFO - fids_merged: 2\n",
      "2024-03-20 20:22:26,285 - FireLog - INFO - fids_invalid: 12\n",
      "2024-03-20 20:22:27,115 - FireLog - INFO - func:update_gdf took: 829.72 ms\n",
      "2024-03-20 20:22:27,116 - FireLog - INFO - func:Fire_Forward_one_step took: 2.52 sec\n",
      "2024-03-20 20:22:27,116 - FireLog - INFO - --------------------\n",
      "2024-03-20 20:22:27,117 - FireLog - INFO - Fire tracking at [2023, 9, 4, 'PM']\n",
      "2024-03-20 20:22:27,527 - FireLog - INFO - func:Fire_expand_rtree took: 406.34 ms\n",
      "2024-03-20 20:22:27,620 - FireLog - INFO - func:Fire_merge_rtree took: 89.77 ms\n",
      "2024-03-20 20:22:27,854 - FireLog - INFO - func:invalidate_statfires took: 233.98 ms\n",
      "2024-03-20 20:22:27,855 - FireLog - INFO - fids_expand: 13\n",
      "2024-03-20 20:22:27,855 - FireLog - INFO - fids_new: 14\n",
      "2024-03-20 20:22:27,856 - FireLog - INFO - fids_merged: 1\n",
      "2024-03-20 20:22:27,856 - FireLog - INFO - fids_invalid: 1\n",
      "2024-03-20 20:22:28,098 - FireLog - INFO - func:update_gdf took: 241.13 ms\n",
      "2024-03-20 20:22:28,099 - FireLog - INFO - func:Fire_Forward_one_step took: 982.43 ms\n",
      "2024-03-20 20:22:28,099 - FireLog - INFO - --------------------\n",
      "2024-03-20 20:22:28,100 - FireLog - INFO - Fire tracking at [2023, 9, 5, 'AM']\n",
      "2024-03-20 20:22:29,580 - FireLog - INFO - func:Fire_expand_rtree took: 1.48 sec\n",
      "2024-03-20 20:22:29,762 - FireLog - INFO - func:Fire_merge_rtree took: 179.14 ms\n",
      "2024-03-20 20:22:29,991 - FireLog - INFO - func:invalidate_statfires took: 228.69 ms\n",
      "2024-03-20 20:22:29,992 - FireLog - INFO - fids_expand: 79\n",
      "2024-03-20 20:22:29,992 - FireLog - INFO - fids_new: 32\n",
      "2024-03-20 20:22:29,993 - FireLog - INFO - fids_merged: 3\n",
      "2024-03-20 20:22:29,994 - FireLog - INFO - fids_invalid: 16\n",
      "2024-03-20 20:22:30,882 - FireLog - INFO - func:update_gdf took: 887.90 ms\n",
      "2024-03-20 20:22:30,883 - FireLog - INFO - func:Fire_Forward_one_step took: 2.78 sec\n",
      "2024-03-20 20:22:30,883 - FireLog - INFO - --------------------\n",
      "2024-03-20 20:22:30,884 - FireLog - INFO - Fire tracking at [2023, 9, 5, 'PM']\n",
      "2024-03-20 20:22:32,030 - FireLog - INFO - func:Fire_expand_rtree took: 1.14 sec\n",
      "2024-03-20 20:22:32,232 - FireLog - INFO - func:Fire_merge_rtree took: 198.52 ms\n",
      "2024-03-20 20:22:32,470 - FireLog - INFO - func:invalidate_statfires took: 237.55 ms\n",
      "2024-03-20 20:22:32,470 - FireLog - INFO - fids_expand: 28\n",
      "2024-03-20 20:22:32,471 - FireLog - INFO - fids_new: 65\n",
      "2024-03-20 20:22:32,471 - FireLog - INFO - fids_merged: 5\n",
      "2024-03-20 20:22:32,472 - FireLog - INFO - fids_invalid: 8\n",
      "2024-03-20 20:22:33,248 - FireLog - INFO - func:update_gdf took: 775.27 ms\n",
      "2024-03-20 20:22:33,248 - FireLog - INFO - func:Fire_Forward_one_step took: 2.36 sec\n",
      "2024-03-20 20:22:33,249 - FireLog - INFO - --------------------\n",
      "2024-03-20 20:22:33,249 - FireLog - INFO - Fire tracking at [2023, 9, 6, 'AM']\n",
      "2024-03-20 20:22:35,009 - FireLog - INFO - func:Fire_expand_rtree took: 1.76 sec\n",
      "2024-03-20 20:22:35,309 - FireLog - INFO - func:Fire_merge_rtree took: 297.00 ms\n",
      "2024-03-20 20:22:35,562 - FireLog - INFO - func:invalidate_statfires took: 253.20 ms\n",
      "2024-03-20 20:22:35,563 - FireLog - INFO - fids_expand: 82\n",
      "2024-03-20 20:22:35,563 - FireLog - INFO - fids_new: 42\n",
      "2024-03-20 20:22:35,564 - FireLog - INFO - fids_merged: 10\n",
      "2024-03-20 20:22:35,564 - FireLog - INFO - fids_invalid: 23\n",
      "2024-03-20 20:22:36,614 - FireLog - INFO - func:update_gdf took: 1.05 sec\n",
      "2024-03-20 20:22:36,615 - FireLog - INFO - func:Fire_Forward_one_step took: 3.37 sec\n",
      "2024-03-20 20:22:36,616 - FireLog - INFO - func:Fire_Forward took: 55.62 sec\n"
     ]
    }
   ],
   "source": [
    "allfires, allpixels = FireMain.Fire_Forward(tst=tst, ted=ted, restart=False, region=region)"
   ]
  },
  {
   "cell_type": "markdown",
   "id": "7adb3eb7-c0ae-441d-906f-47cad2e52f4c",
   "metadata": {},
   "source": [
    "We can save these files off in case something goes wrong later"
   ]
  },
  {
   "cell_type": "code",
   "execution_count": 7,
   "id": "228d5db2-cfa1-4ba2-9521-d23c6d2e08e3",
   "metadata": {},
   "outputs": [
    {
     "name": "stderr",
     "output_type": "stream",
     "text": [
      "2024-03-20 20:22:36,826 - FireLog - INFO - func:save_allpixels took: 206.06 ms\n",
      "2024-03-20 20:22:37,036 - FireLog - INFO - func:save_allfires_gdf took: 208.92 ms\n"
     ]
    }
   ],
   "source": [
    "postprocess.save_allpixels(allpixels, tst, ted, region)\n",
    "postprocess.save_allfires_gdf(allfires.gdf, tst, ted, region)"
   ]
  },
  {
   "cell_type": "markdown",
   "id": "2b48478f-189a-455d-b9ca-c323b46054e4",
   "metadata": {},
   "source": [
    "## Write Snapshot files\n",
    "\n",
    "Start by reading in the outputs from the run:"
   ]
  },
  {
   "cell_type": "code",
   "execution_count": 3,
   "id": "8d41cbc8-f2c0-4b03-b9bc-d360a2bdd231",
   "metadata": {},
   "outputs": [
    {
     "name": "stderr",
     "output_type": "stream",
     "text": [
      "2024-03-20 20:23:11,766 - FireLog - INFO - func:read_allpixels took: 41.47 ms\n",
      "2024-03-20 20:23:11,879 - FireLog - INFO - func:read_allfires_gdf took: 112.90 ms\n"
     ]
    }
   ],
   "source": [
    "allpixels = postprocess.read_allpixels(tst, ted, region)\n",
    "allfires_gdf = postprocess.read_allfires_gdf(tst, ted, region)"
   ]
  },
  {
   "cell_type": "markdown",
   "id": "e08a1bb9-74fe-4d91-878d-89709f0c9548",
   "metadata": {},
   "source": [
    "Then iterate through all of the ts and save the snapshot layers."
   ]
  },
  {
   "cell_type": "code",
   "execution_count": 4,
   "id": "be5fe52c-793d-4f9a-9bd7-8cf0421daecb",
   "metadata": {
    "scrolled": true
   },
   "outputs": [
    {
     "name": "stderr",
     "output_type": "stream",
     "text": [
      "2024-03-20 20:23:14,054 - FireLog - INFO - func:save_snapshot_layers took: 477.00 ms\n",
      "2024-03-20 20:23:14,552 - FireLog - INFO - func:save_snapshot_layers took: 493.32 ms\n",
      "2024-03-20 20:23:15,116 - FireLog - INFO - func:save_snapshot_layers took: 559.62 ms\n",
      "2024-03-20 20:23:15,658 - FireLog - INFO - func:save_snapshot_layers took: 537.54 ms\n",
      "2024-03-20 20:23:16,252 - FireLog - INFO - func:save_snapshot_layers took: 590.23 ms\n",
      "2024-03-20 20:23:16,858 - FireLog - INFO - func:save_snapshot_layers took: 602.23 ms\n",
      "2024-03-20 20:23:17,465 - FireLog - INFO - func:save_snapshot_layers took: 602.80 ms\n",
      "2024-03-20 20:23:18,119 - FireLog - INFO - func:save_snapshot_layers took: 649.83 ms\n",
      "2024-03-20 20:23:18,734 - FireLog - INFO - func:save_snapshot_layers took: 610.33 ms\n",
      "2024-03-20 20:23:19,389 - FireLog - INFO - func:save_snapshot_layers took: 651.16 ms\n",
      "2024-03-20 20:23:20,054 - FireLog - INFO - func:save_snapshot_layers took: 661.04 ms\n",
      "2024-03-20 20:23:20,760 - FireLog - INFO - func:save_snapshot_layers took: 701.78 ms\n",
      "2024-03-20 20:23:21,504 - FireLog - INFO - func:save_snapshot_layers took: 739.71 ms\n",
      "2024-03-20 20:23:22,249 - FireLog - INFO - func:save_snapshot_layers took: 740.53 ms\n",
      "2024-03-20 20:23:23,021 - FireLog - INFO - func:save_snapshot_layers took: 767.85 ms\n",
      "2024-03-20 20:23:23,812 - FireLog - INFO - func:save_snapshot_layers took: 786.87 ms\n",
      "2024-03-20 20:23:24,628 - FireLog - INFO - func:save_snapshot_layers took: 810.89 ms\n",
      "2024-03-20 20:23:25,502 - FireLog - INFO - func:save_snapshot_layers took: 869.80 ms\n",
      "2024-03-20 20:23:26,335 - FireLog - INFO - func:save_snapshot_layers took: 830.33 ms\n",
      "2024-03-20 20:23:26,336 - FireLog - INFO - func:save_snapshots took: 12.76 sec\n"
     ]
    },
    {
     "name": "stdout",
     "output_type": "stream",
     "text": [
      "CPU times: user 7.7 s, sys: 191 ms, total: 7.89 s\n",
      "Wall time: 12.8 s\n"
     ]
    }
   ],
   "source": [
    "%%time\n",
    "postprocess.save_snapshots(allfires_gdf, region, tst, ted)"
   ]
  },
  {
   "cell_type": "markdown",
   "id": "a81ffd2d-ed4b-498e-b45e-127f7c5fd594",
   "metadata": {},
   "source": [
    "## Write Largefire files\n",
    "\n",
    "First we will find all the large fires:"
   ]
  },
  {
   "cell_type": "code",
   "execution_count": 5,
   "id": "130838af-f05c-48fe-b52f-1e8d0a5d6747",
   "metadata": {},
   "outputs": [
    {
     "name": "stderr",
     "output_type": "stream",
     "text": [
      "2024-03-20 20:23:26,346 - FireLog - INFO - func:find_largefires took: 4.80 ms\n"
     ]
    }
   ],
   "source": [
    "large_fires = postprocess.find_largefires(allfires_gdf)"
   ]
  },
  {
   "cell_type": "markdown",
   "id": "ceab6685-4dec-4ad6-9e0a-31f69db864cd",
   "metadata": {},
   "source": [
    "First we'll use the `allpixels` object to create the `nplist` layer"
   ]
  },
  {
   "cell_type": "code",
   "execution_count": 6,
   "id": "0718c1ae-99f2-4edd-9e89-a101279e3515",
   "metadata": {
    "scrolled": true
   },
   "outputs": [
    {
     "name": "stderr",
     "output_type": "stream",
     "text": [
      "2024-03-20 20:23:33,084 - FireLog - INFO - func:save_fire_nplist took: 45.78 ms\n",
      "2024-03-20 20:23:33,127 - FireLog - INFO - func:save_fire_nplist took: 41.89 ms\n",
      "2024-03-20 20:23:33,187 - FireLog - INFO - func:save_fire_nplist took: 58.72 ms\n",
      "2024-03-20 20:23:33,241 - FireLog - INFO - func:save_fire_nplist took: 52.89 ms\n",
      "2024-03-20 20:23:33,289 - FireLog - INFO - func:save_fire_nplist took: 46.89 ms\n",
      "2024-03-20 20:23:33,338 - FireLog - INFO - func:save_fire_nplist took: 47.36 ms\n",
      "2024-03-20 20:23:33,390 - FireLog - INFO - func:save_fire_nplist took: 51.62 ms\n",
      "2024-03-20 20:23:33,433 - FireLog - INFO - func:save_fire_nplist took: 41.51 ms\n",
      "2024-03-20 20:23:33,483 - FireLog - INFO - func:save_fire_nplist took: 49.14 ms\n",
      "2024-03-20 20:23:33,523 - FireLog - INFO - func:save_fire_nplist took: 38.98 ms\n",
      "2024-03-20 20:23:33,565 - FireLog - INFO - func:save_fire_nplist took: 40.72 ms\n",
      "2024-03-20 20:23:33,617 - FireLog - INFO - func:save_fire_nplist took: 51.16 ms\n",
      "2024-03-20 20:23:33,666 - FireLog - INFO - func:save_fire_nplist took: 47.66 ms\n",
      "2024-03-20 20:23:33,727 - FireLog - INFO - func:save_fire_nplist took: 60.14 ms\n",
      "2024-03-20 20:23:33,768 - FireLog - INFO - func:save_fire_nplist took: 39.82 ms\n",
      "2024-03-20 20:23:33,808 - FireLog - INFO - func:save_fire_nplist took: 38.93 ms\n",
      "2024-03-20 20:23:34,065 - FireLog - INFO - func:save_fire_nplist took: 255.00 ms\n",
      "2024-03-20 20:23:34,103 - FireLog - INFO - func:save_fire_nplist took: 37.00 ms\n",
      "2024-03-20 20:23:34,144 - FireLog - INFO - func:save_fire_nplist took: 39.82 ms\n",
      "2024-03-20 20:23:34,183 - FireLog - INFO - func:save_fire_nplist took: 38.38 ms\n",
      "2024-03-20 20:23:34,241 - FireLog - INFO - func:save_fire_nplist took: 56.96 ms\n",
      "2024-03-20 20:23:34,280 - FireLog - INFO - func:save_fire_nplist took: 37.15 ms\n",
      "2024-03-20 20:23:34,317 - FireLog - INFO - func:save_fire_nplist took: 36.24 ms\n",
      "2024-03-20 20:23:34,417 - FireLog - INFO - func:save_fire_nplist took: 98.51 ms\n",
      "2024-03-20 20:23:34,468 - FireLog - INFO - func:save_fire_nplist took: 49.03 ms\n",
      "2024-03-20 20:23:34,557 - FireLog - INFO - func:save_fire_nplist took: 88.02 ms\n",
      "2024-03-20 20:23:34,691 - FireLog - INFO - func:save_fire_nplist took: 132.93 ms\n",
      "2024-03-20 20:23:34,818 - FireLog - INFO - func:save_fire_nplist took: 126.01 ms\n",
      "2024-03-20 20:23:34,928 - FireLog - INFO - func:save_fire_nplist took: 108.78 ms\n",
      "2024-03-20 20:23:34,972 - FireLog - INFO - func:save_fire_nplist took: 41.82 ms\n",
      "2024-03-20 20:23:35,008 - FireLog - INFO - func:save_fire_nplist took: 35.14 ms\n",
      "2024-03-20 20:23:35,045 - FireLog - INFO - func:save_fire_nplist took: 35.67 ms\n",
      "2024-03-20 20:23:35,045 - FireLog - INFO - func:save_large_fires_nplist took: 2.01 sec\n"
     ]
    },
    {
     "name": "stdout",
     "output_type": "stream",
     "text": [
      "CPU times: user 919 ms, sys: 38.9 ms, total: 958 ms\n",
      "Wall time: 2.01 s\n"
     ]
    }
   ],
   "source": [
    "%%time\n",
    "postprocess.save_large_fires_nplist(allpixels, region, large_fires, tst)"
   ]
  },
  {
   "cell_type": "markdown",
   "id": "308bd400-ae4e-40aa-86b0-8f0986d34062",
   "metadata": {},
   "source": [
    "The rest of the layers will be created directly from the `allfires_gdf` and have some merge handling"
   ]
  },
  {
   "cell_type": "code",
   "execution_count": 7,
   "id": "09f77f34-e642-4de7-872c-3ba8b7d9a4c3",
   "metadata": {
    "scrolled": true
   },
   "outputs": [
    {
     "name": "stderr",
     "output_type": "stream",
     "text": [
      "2024-03-20 20:23:39,277 - FireLog - INFO - func:save_fire_layers took: 135.38 ms\n"
     ]
    },
    {
     "name": "stdout",
     "output_type": "stream",
     "text": [
      "44 rows that potentially need a merge\n"
     ]
    },
    {
     "name": "stderr",
     "output_type": "stream",
     "text": [
      "2024-03-20 20:23:39,431 - FireLog - INFO - func:save_fire_layers took: 153.16 ms\n",
      "2024-03-20 20:23:39,572 - FireLog - INFO - func:save_fire_layers took: 139.53 ms\n",
      "2024-03-20 20:23:39,598 - FireLog - INFO - func:merge_rows took: 24.20 ms\n",
      "2024-03-20 20:23:39,724 - FireLog - INFO - func:save_fire_layers took: 126.22 ms\n",
      "2024-03-20 20:23:39,740 - FireLog - INFO - func:merge_rows took: 14.42 ms\n",
      "2024-03-20 20:23:39,862 - FireLog - INFO - func:save_fire_layers took: 120.99 ms\n",
      "2024-03-20 20:23:39,989 - FireLog - INFO - func:save_fire_layers took: 126.25 ms\n",
      "2024-03-20 20:23:40,106 - FireLog - INFO - func:save_fire_layers took: 114.94 ms\n",
      "2024-03-20 20:23:40,237 - FireLog - INFO - func:save_fire_layers took: 130.32 ms\n",
      "2024-03-20 20:23:40,361 - FireLog - INFO - func:save_fire_layers took: 122.80 ms\n",
      "2024-03-20 20:23:40,545 - FireLog - INFO - func:save_fire_layers took: 182.24 ms\n",
      "2024-03-20 20:23:40,693 - FireLog - INFO - func:save_fire_layers took: 147.22 ms\n",
      "2024-03-20 20:23:40,832 - FireLog - INFO - func:save_fire_layers took: 137.08 ms\n",
      "2024-03-20 20:23:40,955 - FireLog - INFO - func:save_fire_layers took: 121.72 ms\n",
      "2024-03-20 20:23:41,103 - FireLog - INFO - func:save_fire_layers took: 147.26 ms\n",
      "2024-03-20 20:23:41,245 - FireLog - INFO - func:save_fire_layers took: 140.21 ms\n",
      "2024-03-20 20:23:41,396 - FireLog - INFO - func:save_fire_layers took: 150.64 ms\n",
      "2024-03-20 20:23:41,461 - FireLog - INFO - func:merge_rows took: 63.63 ms\n",
      "2024-03-20 20:23:41,670 - FireLog - INFO - func:save_fire_layers took: 208.37 ms\n",
      "2024-03-20 20:23:41,849 - FireLog - INFO - func:save_fire_layers took: 177.85 ms\n",
      "2024-03-20 20:23:41,865 - FireLog - INFO - func:merge_rows took: 14.75 ms\n",
      "2024-03-20 20:23:42,034 - FireLog - INFO - func:save_fire_layers took: 168.74 ms\n",
      "2024-03-20 20:23:42,154 - FireLog - INFO - func:save_fire_layers took: 118.49 ms\n",
      "2024-03-20 20:23:42,292 - FireLog - INFO - func:save_fire_layers took: 136.67 ms\n",
      "2024-03-20 20:23:42,324 - FireLog - INFO - func:merge_rows took: 31.65 ms\n",
      "2024-03-20 20:23:42,477 - FireLog - INFO - func:save_fire_layers took: 152.42 ms\n",
      "2024-03-20 20:23:42,535 - FireLog - INFO - func:merge_rows took: 56.52 ms\n",
      "2024-03-20 20:23:42,675 - FireLog - INFO - func:save_fire_layers took: 139.72 ms\n",
      "2024-03-20 20:23:42,808 - FireLog - INFO - func:save_fire_layers took: 131.44 ms\n",
      "2024-03-20 20:23:42,942 - FireLog - INFO - func:save_fire_layers took: 132.14 ms\n",
      "2024-03-20 20:23:43,085 - FireLog - INFO - func:save_fire_layers took: 141.67 ms\n",
      "2024-03-20 20:23:43,225 - FireLog - INFO - func:save_fire_layers took: 139.20 ms\n",
      "2024-03-20 20:23:43,355 - FireLog - INFO - func:save_fire_layers took: 128.24 ms\n",
      "2024-03-20 20:23:43,480 - FireLog - INFO - func:save_fire_layers took: 124.02 ms\n",
      "2024-03-20 20:23:43,631 - FireLog - INFO - func:save_fire_layers took: 149.90 ms\n",
      "2024-03-20 20:23:43,772 - FireLog - INFO - func:save_fire_layers took: 139.47 ms\n",
      "2024-03-20 20:23:43,896 - FireLog - INFO - func:save_fire_layers took: 122.92 ms\n",
      "2024-03-20 20:23:43,897 - FireLog - INFO - func:save_large_fires_layers took: 4.76 sec\n"
     ]
    },
    {
     "name": "stdout",
     "output_type": "stream",
     "text": [
      "CPU times: user 1.46 s, sys: 66.5 ms, total: 1.53 s\n",
      "Wall time: 4.76 s\n"
     ]
    }
   ],
   "source": [
    "%%time\n",
    "postprocess.save_large_fires_layers(allfires_gdf, region, large_fires, tst)"
   ]
  }
 ],
 "metadata": {
  "kernelspec": {
   "display_name": "Python 3 (ipykernel)",
   "language": "python",
   "name": "python3"
  },
  "language_info": {
   "codemirror_mode": {
    "name": "ipython",
    "version": 3
   },
   "file_extension": ".py",
   "mimetype": "text/x-python",
   "name": "python",
   "nbconvert_exporter": "python",
   "pygments_lexer": "ipython3",
   "version": "3.11.7"
  }
 },
 "nbformat": 4,
 "nbformat_minor": 5
}
