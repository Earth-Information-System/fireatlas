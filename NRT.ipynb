{
 "cells": [
  {
   "cell_type": "code",
   "execution_count": 2,
   "id": "30ed1049-5466-4d04-bcef-ac0c8ffa1d6d",
   "metadata": {},
   "outputs": [],
   "source": [
    "import datetime\n",
    "import pandas as pd\n",
    "import geopandas as gpd\n",
    "\n",
    "import FireMain, FireTime, FireObj, FireConsts, postprocess, preprocess\n",
    "from utils import timed"
   ]
  },
  {
   "cell_type": "code",
   "execution_count": 3,
   "id": "27a71fa5-d7cd-4f33-a962-9b09ba3e6433",
   "metadata": {},
   "outputs": [],
   "source": [
    "tst = [2023, 8, 28, 'AM']\n",
    "ted = [2023, 9, 6, 'AM']\n",
    "region = ('WesternUS',[-125.698046875,31.676476158707615,\n",
    "                       -101.00078125,49.51429477264348])\n",
    "list_of_ts = list(FireTime.t_generator(tst, ted))"
   ]
  },
  {
   "cell_type": "markdown",
   "id": "c5cbf654-16f4-4790-95e0-a90140e79e78",
   "metadata": {},
   "source": [
    "## Once per landcover file\n",
    "\n",
    "If your landcover file is not in lat,lon then transform it and resave it. You will use this file a bunch later on."
   ]
  },
  {
   "cell_type": "code",
   "execution_count": 4,
   "id": "94bc6f4a-f61b-4d82-9e3b-d3749552c84c",
   "metadata": {},
   "outputs": [
    {
     "name": "stderr",
     "output_type": "stream",
     "text": [
      "2024-02-28 18:55:18,259 - FireLog - INFO - func:preprocess_landcover took: 23.96 sec\n"
     ]
    }
   ],
   "source": [
    "preprocess.preprocess_landcover()"
   ]
  },
  {
   "cell_type": "markdown",
   "id": "5e54a2d4-b41b-4d53-a4ba-7a41f02799f5",
   "metadata": {},
   "source": [
    "## Once per region\n",
    "\n",
    "Preprocess the region to get rid of static flare sources. Save that new \"swiss cheese\" shape off into a geojson file for later."
   ]
  },
  {
   "cell_type": "code",
   "execution_count": 5,
   "id": "1a3c495d-66fa-458f-8afb-01e982b0709a",
   "metadata": {},
   "outputs": [
    {
     "name": "stderr",
     "output_type": "stream",
     "text": [
      "2024-02-28 18:58:37,262 - FireLog - INFO - func:preprocess_region took: 42.20 sec\n"
     ]
    }
   ],
   "source": [
    "preprocess.preprocess_region(region)"
   ]
  },
  {
   "cell_type": "markdown",
   "id": "16bd857f-f57a-4fc3-9e49-2c9536c97019",
   "metadata": {},
   "source": [
    "## Once per input file\n",
    "\n",
    "Next process each NRT file into half day files. First we'll get all the times that are of interest. This could also be done by inspecting all looking at all the files that exist and seeing which have not been preprocessed yet."
   ]
  },
  {
   "cell_type": "code",
   "execution_count": 6,
   "id": "864146bf-ee1e-4785-9106-9df1359f2aaf",
   "metadata": {
    "scrolled": true
   },
   "outputs": [
    {
     "name": "stderr",
     "output_type": "stream",
     "text": [
      "2024-02-28 18:58:37,268 - FireLog - INFO - preprocessing NRT file for 2023-8-28, SNPP\n",
      "/home/jovyan/fireatlas_nrt/FireIO.py:238: FutureWarning: Support for nested sequences for 'parse_dates' in pd.read_csv is deprecated. Combine the desired columns with pd.to_datetime after parsing instead.\n",
      "  df = pd.read_csv(\n",
      "2024-02-28 18:58:39,096 - FireLog - INFO - func:preprocess_NRT_file took: 1.83 sec\n",
      "2024-02-28 18:58:39,097 - FireLog - INFO - preprocessing NRT file for 2023-8-29, SNPP\n",
      "/home/jovyan/fireatlas_nrt/FireIO.py:238: FutureWarning: Support for nested sequences for 'parse_dates' in pd.read_csv is deprecated. Combine the desired columns with pd.to_datetime after parsing instead.\n",
      "  df = pd.read_csv(\n",
      "2024-02-28 18:58:40,275 - FireLog - INFO - func:preprocess_NRT_file took: 1.18 sec\n",
      "2024-02-28 18:58:40,276 - FireLog - INFO - preprocessing NRT file for 2023-8-30, SNPP\n",
      "/home/jovyan/fireatlas_nrt/FireIO.py:238: FutureWarning: Support for nested sequences for 'parse_dates' in pd.read_csv is deprecated. Combine the desired columns with pd.to_datetime after parsing instead.\n",
      "  df = pd.read_csv(\n",
      "2024-02-28 18:58:41,322 - FireLog - INFO - func:preprocess_NRT_file took: 1.05 sec\n",
      "2024-02-28 18:58:41,323 - FireLog - INFO - preprocessing NRT file for 2023-8-31, SNPP\n",
      "/home/jovyan/fireatlas_nrt/FireIO.py:238: FutureWarning: Support for nested sequences for 'parse_dates' in pd.read_csv is deprecated. Combine the desired columns with pd.to_datetime after parsing instead.\n",
      "  df = pd.read_csv(\n",
      "2024-02-28 18:58:42,238 - FireLog - INFO - func:preprocess_NRT_file took: 915.00 ms\n",
      "2024-02-28 18:58:42,239 - FireLog - INFO - preprocessing NRT file for 2023-9-1, SNPP\n",
      "/home/jovyan/fireatlas_nrt/FireIO.py:238: FutureWarning: Support for nested sequences for 'parse_dates' in pd.read_csv is deprecated. Combine the desired columns with pd.to_datetime after parsing instead.\n",
      "  df = pd.read_csv(\n",
      "2024-02-28 18:58:43,360 - FireLog - INFO - func:preprocess_NRT_file took: 1.12 sec\n",
      "2024-02-28 18:58:43,361 - FireLog - INFO - preprocessing NRT file for 2023-9-2, SNPP\n",
      "/home/jovyan/fireatlas_nrt/FireIO.py:238: FutureWarning: Support for nested sequences for 'parse_dates' in pd.read_csv is deprecated. Combine the desired columns with pd.to_datetime after parsing instead.\n",
      "  df = pd.read_csv(\n",
      "2024-02-28 18:58:44,827 - FireLog - INFO - func:preprocess_NRT_file took: 1.47 sec\n",
      "2024-02-28 18:58:44,828 - FireLog - INFO - preprocessing NRT file for 2023-9-3, SNPP\n",
      "/home/jovyan/fireatlas_nrt/FireIO.py:238: FutureWarning: Support for nested sequences for 'parse_dates' in pd.read_csv is deprecated. Combine the desired columns with pd.to_datetime after parsing instead.\n",
      "  df = pd.read_csv(\n",
      "2024-02-28 18:58:46,020 - FireLog - INFO - func:preprocess_NRT_file took: 1.19 sec\n",
      "2024-02-28 18:58:46,021 - FireLog - INFO - preprocessing NRT file for 2023-9-4, SNPP\n",
      "/home/jovyan/fireatlas_nrt/FireIO.py:238: FutureWarning: Support for nested sequences for 'parse_dates' in pd.read_csv is deprecated. Combine the desired columns with pd.to_datetime after parsing instead.\n",
      "  df = pd.read_csv(\n",
      "2024-02-28 18:58:47,318 - FireLog - INFO - func:preprocess_NRT_file took: 1.30 sec\n",
      "2024-02-28 18:58:47,319 - FireLog - INFO - preprocessing NRT file for 2023-9-5, SNPP\n",
      "/home/jovyan/fireatlas_nrt/FireIO.py:238: FutureWarning: Support for nested sequences for 'parse_dates' in pd.read_csv is deprecated. Combine the desired columns with pd.to_datetime after parsing instead.\n",
      "  df = pd.read_csv(\n",
      "2024-02-28 18:58:48,551 - FireLog - INFO - func:preprocess_NRT_file took: 1.23 sec\n",
      "2024-02-28 18:58:48,552 - FireLog - INFO - preprocessing NRT file for 2023-9-6, SNPP\n",
      "/home/jovyan/fireatlas_nrt/FireIO.py:238: FutureWarning: Support for nested sequences for 'parse_dates' in pd.read_csv is deprecated. Combine the desired columns with pd.to_datetime after parsing instead.\n",
      "  df = pd.read_csv(\n",
      "2024-02-28 18:58:49,512 - FireLog - INFO - func:preprocess_NRT_file took: 959.87 ms\n",
      "2024-02-28 18:58:49,513 - FireLog - INFO - preprocessing NRT file for 2023-8-28, NOAA20\n",
      "2024-02-28 18:58:50,663 - FireLog - INFO - func:preprocess_NRT_file took: 1.15 sec\n",
      "2024-02-28 18:58:50,664 - FireLog - INFO - preprocessing NRT file for 2023-8-29, NOAA20\n",
      "2024-02-28 18:58:51,917 - FireLog - INFO - func:preprocess_NRT_file took: 1.25 sec\n",
      "2024-02-28 18:58:51,918 - FireLog - INFO - preprocessing NRT file for 2023-8-30, NOAA20\n",
      "2024-02-28 18:58:52,882 - FireLog - INFO - func:preprocess_NRT_file took: 963.93 ms\n",
      "2024-02-28 18:58:52,883 - FireLog - INFO - preprocessing NRT file for 2023-8-31, NOAA20\n",
      "2024-02-28 18:58:54,027 - FireLog - INFO - func:preprocess_NRT_file took: 1.14 sec\n",
      "2024-02-28 18:58:54,027 - FireLog - INFO - preprocessing NRT file for 2023-9-1, NOAA20\n",
      "2024-02-28 18:58:55,414 - FireLog - INFO - func:preprocess_NRT_file took: 1.39 sec\n",
      "2024-02-28 18:58:55,414 - FireLog - INFO - preprocessing NRT file for 2023-9-2, NOAA20\n",
      "2024-02-28 18:58:56,999 - FireLog - INFO - func:preprocess_NRT_file took: 1.58 sec\n",
      "2024-02-28 18:58:57,000 - FireLog - INFO - preprocessing NRT file for 2023-9-3, NOAA20\n",
      "2024-02-28 18:58:58,253 - FireLog - INFO - func:preprocess_NRT_file took: 1.25 sec\n",
      "2024-02-28 18:58:58,254 - FireLog - INFO - preprocessing NRT file for 2023-9-4, NOAA20\n",
      "2024-02-28 18:58:59,387 - FireLog - INFO - func:preprocess_NRT_file took: 1.13 sec\n",
      "2024-02-28 18:58:59,388 - FireLog - INFO - preprocessing NRT file for 2023-9-5, NOAA20\n",
      "2024-02-28 18:59:00,543 - FireLog - INFO - func:preprocess_NRT_file took: 1.15 sec\n",
      "2024-02-28 18:59:00,543 - FireLog - INFO - preprocessing NRT file for 2023-9-6, NOAA20\n",
      "2024-02-28 18:59:01,776 - FireLog - INFO - func:preprocess_NRT_file took: 1.23 sec\n"
     ]
    },
    {
     "name": "stdout",
     "output_type": "stream",
     "text": [
      "CPU times: user 14.4 s, sys: 545 ms, total: 14.9 s\n",
      "Wall time: 24.5 s\n"
     ]
    }
   ],
   "source": [
    "%%time\n",
    "for sat in [\"SNPP\", \"NOAA20\"]:\n",
    "    for t in list_of_ts[::2]:\n",
    "        preprocess.preprocess_NRT_file(t, sat)"
   ]
  },
  {
   "cell_type": "markdown",
   "id": "73f9065d-3519-4673-98e5-3afd0e29ab80",
   "metadata": {},
   "source": [
    "## Once per region and t\n",
    "\n",
    "Do initial filtering and clustering using the preprocessed region and the half day files.\n",
    "\n",
    "Note: for the purpose of timing I am running the full month, but each of these steps could run in a separate proccess."
   ]
  },
  {
   "cell_type": "code",
   "execution_count": 4,
   "id": "66bc471a-5176-4223-9b47-7c0ba124786b",
   "metadata": {
    "editable": true,
    "slideshow": {
     "slide_type": ""
    },
    "tags": []
   },
   "outputs": [
    {
     "name": "stderr",
     "output_type": "stream",
     "text": [
      "2024-02-28 19:00:50,879 - FireLog - INFO - func:read_region took: 195.86 ms\n"
     ]
    }
   ],
   "source": [
    "region = preprocess.read_region(region)"
   ]
  },
  {
   "cell_type": "code",
   "execution_count": 5,
   "id": "5ed3b8b4-7330-48e4-a3ff-4ca4d56add2c",
   "metadata": {
    "editable": true,
    "scrolled": true,
    "slideshow": {
     "slide_type": ""
    },
    "tags": []
   },
   "outputs": [
    {
     "name": "stderr",
     "output_type": "stream",
     "text": [
      "2024-02-28 19:00:51,205 - FireLog - INFO - filtering and clustering 2023-8-28 AM, VIIRS, WesternUS\n",
      "2024-02-28 19:00:51,238 - FireLog - INFO - func:read_preprocessed took: 31.93 ms\n",
      "2024-02-28 19:00:51,266 - FireLog - INFO - func:read_preprocessed took: 27.58 ms\n",
      "2024-02-28 19:00:51,270 - FireLog - INFO - func:preprocess_region_t took: 65.44 ms\n",
      "2024-02-28 19:00:51,271 - FireLog - INFO - filtering and clustering 2023-8-28 PM, VIIRS, WesternUS\n",
      "2024-02-28 19:00:51,316 - FireLog - INFO - func:read_preprocessed took: 44.30 ms\n",
      "2024-02-28 19:00:51,361 - FireLog - INFO - func:read_preprocessed took: 44.18 ms\n",
      "2024-02-28 19:00:51,366 - FireLog - INFO - func:preprocess_region_t took: 94.75 ms\n",
      "2024-02-28 19:00:51,366 - FireLog - INFO - filtering and clustering 2023-8-29 AM, VIIRS, WesternUS\n",
      "2024-02-28 19:00:51,395 - FireLog - INFO - func:read_preprocessed took: 28.58 ms\n",
      "2024-02-28 19:00:51,423 - FireLog - INFO - func:read_preprocessed took: 26.52 ms\n",
      "2024-02-28 19:01:32,442 - FireLog - INFO - func:do_clustering took: 457.97 ms\n",
      "2024-02-28 19:01:32,486 - FireLog - INFO - func:preprocess_region_t took: 41.12 sec\n",
      "2024-02-28 19:01:32,487 - FireLog - INFO - filtering and clustering 2023-8-29 PM, VIIRS, WesternUS\n",
      "2024-02-28 19:01:32,565 - FireLog - INFO - func:read_preprocessed took: 77.93 ms\n",
      "2024-02-28 19:01:32,646 - FireLog - INFO - func:read_preprocessed took: 79.62 ms\n",
      "2024-02-28 19:01:48,139 - FireLog - INFO - func:do_clustering took: 13.53 ms\n",
      "2024-02-28 19:01:48,171 - FireLog - INFO - func:preprocess_region_t took: 15.68 sec\n",
      "2024-02-28 19:01:48,172 - FireLog - INFO - filtering and clustering 2023-8-30 AM, VIIRS, WesternUS\n",
      "2024-02-28 19:01:48,194 - FireLog - INFO - func:read_preprocessed took: 21.88 ms\n",
      "2024-02-28 19:01:48,212 - FireLog - INFO - func:read_preprocessed took: 17.38 ms\n",
      "2024-02-28 19:02:13,521 - FireLog - INFO - func:do_clustering took: 22.75 ms\n",
      "2024-02-28 19:02:13,558 - FireLog - INFO - func:preprocess_region_t took: 25.39 sec\n",
      "2024-02-28 19:02:13,559 - FireLog - INFO - filtering and clustering 2023-8-30 PM, VIIRS, WesternUS\n",
      "2024-02-28 19:02:13,636 - FireLog - INFO - func:read_preprocessed took: 76.84 ms\n",
      "2024-02-28 19:02:13,714 - FireLog - INFO - func:read_preprocessed took: 76.92 ms\n",
      "2024-02-28 19:02:43,818 - FireLog - INFO - func:do_clustering took: 32.73 ms\n",
      "2024-02-28 19:02:43,862 - FireLog - INFO - func:preprocess_region_t took: 30.30 sec\n",
      "2024-02-28 19:02:43,863 - FireLog - INFO - filtering and clustering 2023-8-31 AM, VIIRS, WesternUS\n",
      "2024-02-28 19:02:43,892 - FireLog - INFO - func:read_preprocessed took: 29.17 ms\n",
      "2024-02-28 19:02:43,921 - FireLog - INFO - func:read_preprocessed took: 27.53 ms\n",
      "2024-02-28 19:03:23,128 - FireLog - INFO - func:do_clustering took: 38.44 ms\n",
      "2024-02-28 19:03:23,177 - FireLog - INFO - func:preprocess_region_t took: 39.31 sec\n",
      "2024-02-28 19:03:23,177 - FireLog - INFO - filtering and clustering 2023-8-31 PM, VIIRS, WesternUS\n",
      "2024-02-28 19:03:23,248 - FireLog - INFO - func:read_preprocessed took: 70.28 ms\n",
      "2024-02-28 19:03:23,321 - FireLog - INFO - func:read_preprocessed took: 72.29 ms\n",
      "2024-02-28 19:03:26,380 - FireLog - INFO - func:do_clustering took: 3.36 ms\n",
      "2024-02-28 19:03:26,395 - FireLog - INFO - func:preprocess_region_t took: 3.22 sec\n",
      "2024-02-28 19:03:26,395 - FireLog - INFO - filtering and clustering 2023-9-1 AM, VIIRS, WesternUS\n",
      "2024-02-28 19:03:26,425 - FireLog - INFO - func:read_preprocessed took: 28.90 ms\n",
      "2024-02-28 19:03:26,447 - FireLog - INFO - func:read_preprocessed took: 21.50 ms\n",
      "2024-02-28 19:03:32,923 - FireLog - INFO - func:do_clustering took: 5.78 ms\n",
      "2024-02-28 19:03:32,938 - FireLog - INFO - func:preprocess_region_t took: 6.54 sec\n",
      "2024-02-28 19:03:32,938 - FireLog - INFO - filtering and clustering 2023-9-1 PM, VIIRS, WesternUS\n",
      "2024-02-28 19:03:33,029 - FireLog - INFO - func:read_preprocessed took: 90.32 ms\n",
      "2024-02-28 19:03:33,121 - FireLog - INFO - func:read_preprocessed took: 90.72 ms\n",
      "2024-02-28 19:03:35,057 - FireLog - INFO - func:do_clustering took: 2.61 ms\n",
      "2024-02-28 19:03:35,069 - FireLog - INFO - func:preprocess_region_t took: 2.13 sec\n",
      "2024-02-28 19:03:35,070 - FireLog - INFO - filtering and clustering 2023-9-2 AM, VIIRS, WesternUS\n",
      "2024-02-28 19:03:35,132 - FireLog - INFO - func:read_preprocessed took: 61.88 ms\n",
      "2024-02-28 19:03:35,188 - FireLog - INFO - func:read_preprocessed took: 54.94 ms\n",
      "2024-02-28 19:03:40,851 - FireLog - INFO - func:do_clustering took: 4.73 ms\n",
      "2024-02-28 19:03:40,866 - FireLog - INFO - func:preprocess_region_t took: 5.80 sec\n",
      "2024-02-28 19:03:40,867 - FireLog - INFO - filtering and clustering 2023-9-2 PM, VIIRS, WesternUS\n",
      "2024-02-28 19:03:40,966 - FireLog - INFO - func:read_preprocessed took: 98.28 ms\n",
      "2024-02-28 19:03:41,054 - FireLog - INFO - func:read_preprocessed took: 87.60 ms\n",
      "2024-02-28 19:03:42,661 - FireLog - INFO - func:do_clustering took: 2.31 ms\n",
      "2024-02-28 19:03:42,673 - FireLog - INFO - func:preprocess_region_t took: 1.81 sec\n",
      "2024-02-28 19:03:42,673 - FireLog - INFO - filtering and clustering 2023-9-3 AM, VIIRS, WesternUS\n",
      "2024-02-28 19:03:42,731 - FireLog - INFO - func:read_preprocessed took: 57.27 ms\n",
      "2024-02-28 19:03:42,761 - FireLog - INFO - func:read_preprocessed took: 28.73 ms\n",
      "2024-02-28 19:03:49,195 - FireLog - INFO - func:do_clustering took: 5.86 ms\n",
      "2024-02-28 19:03:49,214 - FireLog - INFO - func:preprocess_region_t took: 6.54 sec\n",
      "2024-02-28 19:03:49,214 - FireLog - INFO - filtering and clustering 2023-9-3 PM, VIIRS, WesternUS\n",
      "2024-02-28 19:03:49,296 - FireLog - INFO - func:read_preprocessed took: 81.07 ms\n",
      "2024-02-28 19:03:49,365 - FireLog - INFO - func:read_preprocessed took: 68.25 ms\n",
      "2024-02-28 19:03:50,378 - FireLog - INFO - func:do_clustering took: 1.89 ms\n",
      "2024-02-28 19:03:50,390 - FireLog - INFO - func:preprocess_region_t took: 1.18 sec\n",
      "2024-02-28 19:03:50,390 - FireLog - INFO - filtering and clustering 2023-9-4 AM, VIIRS, WesternUS\n",
      "2024-02-28 19:03:50,425 - FireLog - INFO - func:read_preprocessed took: 33.97 ms\n",
      "2024-02-28 19:03:50,454 - FireLog - INFO - func:read_preprocessed took: 28.45 ms\n",
      "2024-02-28 19:03:54,561 - FireLog - INFO - func:do_clustering took: 4.14 ms\n",
      "2024-02-28 19:03:54,576 - FireLog - INFO - func:preprocess_region_t took: 4.19 sec\n",
      "2024-02-28 19:03:54,577 - FireLog - INFO - filtering and clustering 2023-9-4 PM, VIIRS, WesternUS\n",
      "2024-02-28 19:03:54,628 - FireLog - INFO - func:read_preprocessed took: 50.92 ms\n",
      "2024-02-28 19:03:54,710 - FireLog - INFO - func:read_preprocessed took: 80.92 ms\n",
      "2024-02-28 19:03:56,186 - FireLog - INFO - func:do_clustering took: 2.15 ms\n",
      "2024-02-28 19:03:56,200 - FireLog - INFO - func:preprocess_region_t took: 1.62 sec\n",
      "2024-02-28 19:03:56,201 - FireLog - INFO - filtering and clustering 2023-9-5 AM, VIIRS, WesternUS\n",
      "2024-02-28 19:03:56,233 - FireLog - INFO - func:read_preprocessed took: 31.07 ms\n",
      "2024-02-28 19:03:56,261 - FireLog - INFO - func:read_preprocessed took: 27.88 ms\n",
      "2024-02-28 19:04:02,001 - FireLog - INFO - func:do_clustering took: 5.09 ms\n",
      "2024-02-28 19:04:02,017 - FireLog - INFO - func:preprocess_region_t took: 5.82 sec\n",
      "2024-02-28 19:04:02,017 - FireLog - INFO - filtering and clustering 2023-9-5 PM, VIIRS, WesternUS\n",
      "2024-02-28 19:04:02,101 - FireLog - INFO - func:read_preprocessed took: 83.63 ms\n",
      "2024-02-28 19:04:02,191 - FireLog - INFO - func:read_preprocessed took: 89.09 ms\n",
      "2024-02-28 19:04:07,475 - FireLog - INFO - func:do_clustering took: 4.95 ms\n",
      "2024-02-28 19:04:07,491 - FireLog - INFO - func:preprocess_region_t took: 5.47 sec\n",
      "2024-02-28 19:04:07,491 - FireLog - INFO - filtering and clustering 2023-9-6 AM, VIIRS, WesternUS\n",
      "2024-02-28 19:04:07,526 - FireLog - INFO - func:read_preprocessed took: 34.03 ms\n",
      "2024-02-28 19:04:07,549 - FireLog - INFO - func:read_preprocessed took: 22.71 ms\n",
      "2024-02-28 19:04:15,440 - FireLog - INFO - func:do_clustering took: 5.97 ms\n",
      "2024-02-28 19:04:15,454 - FireLog - INFO - func:preprocess_region_t took: 7.96 sec\n"
     ]
    },
    {
     "name": "stdout",
     "output_type": "stream",
     "text": [
      "CPU times: user 3min 11s, sys: 530 ms, total: 3min 11s\n",
      "Wall time: 3min 24s\n"
     ]
    }
   ],
   "source": [
    "%%time\n",
    "for t in list_of_ts:\n",
    "    preprocess.preprocess_region_t(t, sensor=\"VIIRS\", region=region)"
   ]
  },
  {
   "cell_type": "markdown",
   "id": "f14a2dc9-e4ba-46ea-9e35-fca95f4514b0",
   "metadata": {},
   "source": [
    "## Run the fire expansion and merging algorithm\n",
    "\n",
    "`Fire_Forward` is responsible for reading in the preprocessed data created in the `Ingest` notebook"
   ]
  },
  {
   "cell_type": "code",
   "execution_count": 4,
   "id": "f9177ca7-7ddb-4472-97a2-054467bf86f0",
   "metadata": {
    "scrolled": true
   },
   "outputs": [
    {
     "name": "stderr",
     "output_type": "stream",
     "text": [
      "2024-02-28 19:11:28,260 - FireLog - INFO - func:read_preprocessed took: 10.74 ms\n",
      "2024-02-28 19:11:28,268 - FireLog - INFO - func:read_preprocessed took: 7.06 ms\n",
      "2024-02-28 19:11:28,276 - FireLog - INFO - func:read_preprocessed took: 7.71 ms\n",
      "2024-02-28 19:11:28,283 - FireLog - INFO - func:read_preprocessed took: 5.99 ms\n",
      "2024-02-28 19:11:28,290 - FireLog - INFO - func:read_preprocessed took: 6.81 ms\n",
      "2024-02-28 19:11:28,298 - FireLog - INFO - func:read_preprocessed took: 7.40 ms\n",
      "2024-02-28 19:11:28,307 - FireLog - INFO - func:read_preprocessed took: 8.66 ms\n",
      "2024-02-28 19:11:28,312 - FireLog - INFO - func:read_preprocessed took: 3.87 ms\n",
      "2024-02-28 19:11:28,316 - FireLog - INFO - func:read_preprocessed took: 3.91 ms\n",
      "2024-02-28 19:11:28,320 - FireLog - INFO - func:read_preprocessed took: 3.64 ms\n",
      "2024-02-28 19:11:28,325 - FireLog - INFO - func:read_preprocessed took: 3.88 ms\n",
      "2024-02-28 19:11:28,329 - FireLog - INFO - func:read_preprocessed took: 3.59 ms\n",
      "2024-02-28 19:11:28,333 - FireLog - INFO - func:read_preprocessed took: 3.96 ms\n",
      "2024-02-28 19:11:28,337 - FireLog - INFO - func:read_preprocessed took: 3.52 ms\n",
      "2024-02-28 19:11:28,341 - FireLog - INFO - func:read_preprocessed took: 3.75 ms\n",
      "2024-02-28 19:11:28,345 - FireLog - INFO - func:read_preprocessed took: 3.61 ms\n",
      "2024-02-28 19:11:28,350 - FireLog - INFO - func:read_preprocessed took: 3.88 ms\n",
      "2024-02-28 19:11:28,354 - FireLog - INFO - func:read_preprocessed took: 3.83 ms\n",
      "2024-02-28 19:11:28,359 - FireLog - INFO - func:read_preprocessed took: 4.21 ms\n",
      "2024-02-28 19:11:28,403 - FireLog - INFO - --------------------\n",
      "2024-02-28 19:11:28,404 - FireLog - INFO - Fire tracking at [2023, 8, 28, 'AM']\n",
      "2024-02-28 19:11:31,008 - FireLog - INFO - func:Fire_expand_rtree took: 2.60 sec\n",
      "2024-02-28 19:11:33,196 - FireLog - INFO - func:Fire_merge_rtree took: 2.19 sec\n",
      "2024-02-28 19:11:33,322 - FireLog - INFO - func:invalidate_statfires took: 125.32 ms\n",
      "2024-02-28 19:11:33,323 - FireLog - INFO - fids_expand: 0\n",
      "2024-02-28 19:11:33,323 - FireLog - INFO - fids_new: 264\n",
      "2024-02-28 19:11:33,324 - FireLog - INFO - fids_merged: 32\n",
      "2024-02-28 19:11:33,324 - FireLog - INFO - fids_invalid: 87\n",
      "2024-02-28 19:11:35,724 - FireLog - INFO - func:update_gdf took: 2.40 sec\n",
      "2024-02-28 19:11:35,725 - FireLog - INFO - func:Fire_Forward_one_step took: 7.32 sec\n",
      "2024-02-28 19:11:35,725 - FireLog - INFO - --------------------\n",
      "2024-02-28 19:11:35,726 - FireLog - INFO - Fire tracking at [2023, 8, 28, 'PM']\n",
      "2024-02-28 19:11:37,584 - FireLog - INFO - func:Fire_expand_rtree took: 1.85 sec\n",
      "2024-02-28 19:11:37,901 - FireLog - INFO - func:Fire_merge_rtree took: 315.57 ms\n",
      "2024-02-28 19:11:38,073 - FireLog - INFO - func:invalidate_statfires took: 171.77 ms\n",
      "2024-02-28 19:11:38,074 - FireLog - INFO - fids_expand: 56\n",
      "2024-02-28 19:11:38,075 - FireLog - INFO - fids_new: 93\n",
      "2024-02-28 19:11:38,075 - FireLog - INFO - fids_merged: 14\n",
      "2024-02-28 19:11:38,076 - FireLog - INFO - fids_invalid: 16\n",
      "2024-02-28 19:11:39,554 - FireLog - INFO - func:update_gdf took: 1.48 sec\n",
      "2024-02-28 19:11:39,555 - FireLog - INFO - func:Fire_Forward_one_step took: 3.83 sec\n",
      "2024-02-28 19:11:39,556 - FireLog - INFO - --------------------\n",
      "2024-02-28 19:11:39,556 - FireLog - INFO - Fire tracking at [2023, 8, 29, 'AM']\n",
      "2024-02-28 19:11:42,020 - FireLog - INFO - func:Fire_expand_rtree took: 2.46 sec\n",
      "2024-02-28 19:11:42,403 - FireLog - INFO - func:Fire_merge_rtree took: 381.22 ms\n",
      "2024-02-28 19:11:42,613 - FireLog - INFO - func:invalidate_statfires took: 209.16 ms\n",
      "2024-02-28 19:11:42,613 - FireLog - INFO - fids_expand: 116\n",
      "2024-02-28 19:11:42,614 - FireLog - INFO - fids_new: 70\n",
      "2024-02-28 19:11:42,615 - FireLog - INFO - fids_merged: 11\n",
      "2024-02-28 19:11:42,615 - FireLog - INFO - fids_invalid: 18\n",
      "2024-02-28 19:11:44,469 - FireLog - INFO - func:update_gdf took: 1.85 sec\n",
      "2024-02-28 19:11:44,470 - FireLog - INFO - func:Fire_Forward_one_step took: 4.91 sec\n",
      "2024-02-28 19:11:44,471 - FireLog - INFO - --------------------\n",
      "2024-02-28 19:11:44,472 - FireLog - INFO - Fire tracking at [2023, 8, 29, 'PM']\n",
      "2024-02-28 19:11:45,550 - FireLog - INFO - func:Fire_expand_rtree took: 1.07 sec\n",
      "2024-02-28 19:11:45,773 - FireLog - INFO - func:Fire_merge_rtree took: 220.76 ms\n",
      "2024-02-28 19:11:46,004 - FireLog - INFO - func:invalidate_statfires took: 230.65 ms\n",
      "2024-02-28 19:11:46,005 - FireLog - INFO - fids_expand: 33\n",
      "2024-02-28 19:11:46,005 - FireLog - INFO - fids_new: 41\n",
      "2024-02-28 19:11:46,006 - FireLog - INFO - fids_merged: 5\n",
      "2024-02-28 19:11:46,007 - FireLog - INFO - fids_invalid: 10\n",
      "2024-02-28 19:11:46,779 - FireLog - INFO - func:update_gdf took: 771.50 ms\n",
      "2024-02-28 19:11:46,780 - FireLog - INFO - func:Fire_Forward_one_step took: 2.31 sec\n",
      "2024-02-28 19:11:46,780 - FireLog - INFO - --------------------\n",
      "2024-02-28 19:11:46,781 - FireLog - INFO - Fire tracking at [2023, 8, 30, 'AM']\n",
      "2024-02-28 19:11:48,860 - FireLog - INFO - func:Fire_expand_rtree took: 2.08 sec\n",
      "2024-02-28 19:11:49,193 - FireLog - INFO - func:Fire_merge_rtree took: 330.49 ms\n",
      "2024-02-28 19:11:49,449 - FireLog - INFO - func:invalidate_statfires took: 255.74 ms\n",
      "2024-02-28 19:11:49,450 - FireLog - INFO - fids_expand: 95\n",
      "2024-02-28 19:11:49,451 - FireLog - INFO - fids_new: 57\n",
      "2024-02-28 19:11:49,451 - FireLog - INFO - fids_merged: 7\n",
      "2024-02-28 19:11:49,452 - FireLog - INFO - fids_invalid: 20\n",
      "2024-02-28 19:11:50,980 - FireLog - INFO - func:update_gdf took: 1.53 sec\n",
      "2024-02-28 19:11:50,981 - FireLog - INFO - func:Fire_Forward_one_step took: 4.20 sec\n",
      "2024-02-28 19:11:50,982 - FireLog - INFO - --------------------\n",
      "2024-02-28 19:11:50,982 - FireLog - INFO - Fire tracking at [2023, 8, 30, 'PM']\n",
      "2024-02-28 19:11:52,531 - FireLog - INFO - func:Fire_expand_rtree took: 1.54 sec\n",
      "2024-02-28 19:11:53,002 - FireLog - INFO - func:Fire_merge_rtree took: 468.26 ms\n",
      "2024-02-28 19:11:53,280 - FireLog - INFO - func:invalidate_statfires took: 277.88 ms\n",
      "2024-02-28 19:11:53,281 - FireLog - INFO - fids_expand: 46\n",
      "2024-02-28 19:11:53,282 - FireLog - INFO - fids_new: 38\n",
      "2024-02-28 19:11:53,282 - FireLog - INFO - fids_merged: 5\n",
      "2024-02-28 19:11:53,283 - FireLog - INFO - fids_invalid: 9\n",
      "2024-02-28 19:11:54,173 - FireLog - INFO - func:update_gdf took: 889.23 ms\n",
      "2024-02-28 19:11:54,174 - FireLog - INFO - func:Fire_Forward_one_step took: 3.19 sec\n",
      "2024-02-28 19:11:54,175 - FireLog - INFO - --------------------\n",
      "2024-02-28 19:11:54,175 - FireLog - INFO - Fire tracking at [2023, 8, 31, 'AM']\n",
      "2024-02-28 19:11:56,493 - FireLog - INFO - func:Fire_expand_rtree took: 2.31 sec\n",
      "2024-02-28 19:11:56,938 - FireLog - INFO - func:Fire_merge_rtree took: 442.60 ms\n",
      "2024-02-28 19:11:57,232 - FireLog - INFO - func:invalidate_statfires took: 292.92 ms\n",
      "2024-02-28 19:11:57,232 - FireLog - INFO - fids_expand: 99\n",
      "2024-02-28 19:11:57,233 - FireLog - INFO - fids_new: 40\n",
      "2024-02-28 19:11:57,234 - FireLog - INFO - fids_merged: 6\n",
      "2024-02-28 19:11:57,234 - FireLog - INFO - fids_invalid: 23\n",
      "2024-02-28 19:11:58,675 - FireLog - INFO - func:update_gdf took: 1.44 sec\n",
      "2024-02-28 19:11:58,676 - FireLog - INFO - func:Fire_Forward_one_step took: 4.50 sec\n",
      "2024-02-28 19:11:58,676 - FireLog - INFO - --------------------\n",
      "2024-02-28 19:11:58,677 - FireLog - INFO - Fire tracking at [2023, 8, 31, 'PM']\n",
      "2024-02-28 19:11:59,184 - FireLog - INFO - func:Fire_expand_rtree took: 504.05 ms\n",
      "2024-02-28 19:11:59,331 - FireLog - INFO - func:Fire_merge_rtree took: 144.50 ms\n",
      "2024-02-28 19:11:59,631 - FireLog - INFO - func:invalidate_statfires took: 298.92 ms\n",
      "2024-02-28 19:11:59,631 - FireLog - INFO - fids_expand: 18\n",
      "2024-02-28 19:11:59,632 - FireLog - INFO - fids_new: 24\n",
      "2024-02-28 19:11:59,633 - FireLog - INFO - fids_merged: 3\n",
      "2024-02-28 19:11:59,633 - FireLog - INFO - fids_invalid: 5\n",
      "2024-02-28 19:12:00,117 - FireLog - INFO - func:update_gdf took: 482.60 ms\n",
      "2024-02-28 19:12:00,118 - FireLog - INFO - func:Fire_Forward_one_step took: 1.44 sec\n",
      "2024-02-28 19:12:00,119 - FireLog - INFO - --------------------\n",
      "2024-02-28 19:12:00,119 - FireLog - INFO - Fire tracking at [2023, 9, 1, 'AM']\n",
      "2024-02-28 19:12:01,448 - FireLog - INFO - func:Fire_expand_rtree took: 1.32 sec\n",
      "2024-02-28 19:12:01,539 - FireLog - INFO - func:Fire_merge_rtree took: 88.44 ms\n",
      "2024-02-28 19:12:01,864 - FireLog - INFO - func:invalidate_statfires took: 324.10 ms\n",
      "2024-02-28 19:12:01,864 - FireLog - INFO - fids_expand: 78\n",
      "2024-02-28 19:12:01,865 - FireLog - INFO - fids_new: 37\n",
      "2024-02-28 19:12:01,866 - FireLog - INFO - fids_merged: 0\n",
      "2024-02-28 19:12:01,866 - FireLog - INFO - fids_invalid: 9\n",
      "2024-02-28 19:12:03,050 - FireLog - INFO - func:update_gdf took: 1.18 sec\n",
      "2024-02-28 19:12:03,051 - FireLog - INFO - func:Fire_Forward_one_step took: 2.93 sec\n",
      "2024-02-28 19:12:03,051 - FireLog - INFO - --------------------\n",
      "2024-02-28 19:12:03,052 - FireLog - INFO - Fire tracking at [2023, 9, 1, 'PM']\n",
      "2024-02-28 19:12:03,442 - FireLog - INFO - func:Fire_expand_rtree took: 386.29 ms\n",
      "2024-02-28 19:12:03,544 - FireLog - INFO - func:Fire_merge_rtree took: 99.26 ms\n",
      "2024-02-28 19:12:03,882 - FireLog - INFO - func:invalidate_statfires took: 337.58 ms\n",
      "2024-02-28 19:12:03,883 - FireLog - INFO - fids_expand: 10\n",
      "2024-02-28 19:12:03,884 - FireLog - INFO - fids_new: 20\n",
      "2024-02-28 19:12:03,884 - FireLog - INFO - fids_merged: 1\n",
      "2024-02-28 19:12:03,885 - FireLog - INFO - fids_invalid: 2\n",
      "2024-02-28 19:12:04,257 - FireLog - INFO - func:update_gdf took: 370.54 ms\n",
      "2024-02-28 19:12:04,257 - FireLog - INFO - func:Fire_Forward_one_step took: 1.21 sec\n",
      "2024-02-28 19:12:04,258 - FireLog - INFO - --------------------\n",
      "2024-02-28 19:12:04,258 - FireLog - INFO - Fire tracking at [2023, 9, 2, 'AM']\n",
      "2024-02-28 19:12:05,267 - FireLog - INFO - func:Fire_expand_rtree took: 1.00 sec\n",
      "2024-02-28 19:12:05,412 - FireLog - INFO - func:Fire_merge_rtree took: 142.88 ms\n",
      "2024-02-28 19:12:05,760 - FireLog - INFO - func:invalidate_statfires took: 347.09 ms\n",
      "2024-02-28 19:12:05,760 - FireLog - INFO - fids_expand: 55\n",
      "2024-02-28 19:12:05,761 - FireLog - INFO - fids_new: 22\n",
      "2024-02-28 19:12:05,762 - FireLog - INFO - fids_merged: 2\n",
      "2024-02-28 19:12:05,762 - FireLog - INFO - fids_invalid: 9\n",
      "2024-02-28 19:12:06,584 - FireLog - INFO - func:update_gdf took: 821.18 ms\n",
      "2024-02-28 19:12:06,585 - FireLog - INFO - func:Fire_Forward_one_step took: 2.33 sec\n",
      "2024-02-28 19:12:06,586 - FireLog - INFO - --------------------\n",
      "2024-02-28 19:12:06,587 - FireLog - INFO - Fire tracking at [2023, 9, 2, 'PM']\n",
      "2024-02-28 19:12:07,022 - FireLog - INFO - func:Fire_expand_rtree took: 431.91 ms\n",
      "2024-02-28 19:12:07,141 - FireLog - INFO - func:Fire_merge_rtree took: 115.95 ms\n",
      "2024-02-28 19:12:07,482 - FireLog - INFO - func:invalidate_statfires took: 340.99 ms\n",
      "2024-02-28 19:12:07,483 - FireLog - INFO - fids_expand: 14\n",
      "2024-02-28 19:12:07,484 - FireLog - INFO - fids_new: 22\n",
      "2024-02-28 19:12:07,484 - FireLog - INFO - fids_merged: 1\n",
      "2024-02-28 19:12:07,485 - FireLog - INFO - fids_invalid: 1\n",
      "2024-02-28 19:12:07,906 - FireLog - INFO - func:update_gdf took: 420.13 ms\n",
      "2024-02-28 19:12:07,907 - FireLog - INFO - func:Fire_Forward_one_step took: 1.32 sec\n",
      "2024-02-28 19:12:07,907 - FireLog - INFO - --------------------\n",
      "2024-02-28 19:12:07,908 - FireLog - INFO - Fire tracking at [2023, 9, 3, 'AM']\n",
      "2024-02-28 19:12:09,303 - FireLog - INFO - func:Fire_expand_rtree took: 1.39 sec\n",
      "2024-02-28 19:12:09,439 - FireLog - INFO - func:Fire_merge_rtree took: 133.32 ms\n",
      "2024-02-28 19:12:09,752 - FireLog - INFO - func:invalidate_statfires took: 312.25 ms\n",
      "2024-02-28 19:12:09,753 - FireLog - INFO - fids_expand: 80\n",
      "2024-02-28 19:12:09,754 - FireLog - INFO - fids_new: 29\n",
      "2024-02-28 19:12:09,756 - FireLog - INFO - fids_merged: 1\n",
      "2024-02-28 19:12:09,756 - FireLog - INFO - fids_invalid: 12\n",
      "2024-02-28 19:12:10,897 - FireLog - INFO - func:update_gdf took: 1.14 sec\n",
      "2024-02-28 19:12:10,898 - FireLog - INFO - func:Fire_Forward_one_step took: 2.99 sec\n",
      "2024-02-28 19:12:10,899 - FireLog - INFO - --------------------\n",
      "2024-02-28 19:12:10,899 - FireLog - INFO - Fire tracking at [2023, 9, 3, 'PM']\n",
      "2024-02-28 19:12:11,207 - FireLog - INFO - func:Fire_expand_rtree took: 303.73 ms\n",
      "2024-02-28 19:12:11,299 - FireLog - INFO - func:Fire_merge_rtree took: 89.47 ms\n",
      "2024-02-28 19:12:11,578 - FireLog - INFO - func:invalidate_statfires took: 277.70 ms\n",
      "2024-02-28 19:12:11,578 - FireLog - INFO - fids_expand: 11\n",
      "2024-02-28 19:12:11,579 - FireLog - INFO - fids_new: 11\n",
      "2024-02-28 19:12:11,579 - FireLog - INFO - fids_merged: 0\n",
      "2024-02-28 19:12:11,580 - FireLog - INFO - fids_invalid: 0\n",
      "2024-02-28 19:12:11,873 - FireLog - INFO - func:update_gdf took: 291.90 ms\n",
      "2024-02-28 19:12:11,873 - FireLog - INFO - func:Fire_Forward_one_step took: 974.37 ms\n",
      "2024-02-28 19:12:11,874 - FireLog - INFO - --------------------\n",
      "2024-02-28 19:12:11,874 - FireLog - INFO - Fire tracking at [2023, 9, 4, 'AM']\n",
      "2024-02-28 19:12:13,020 - FireLog - INFO - func:Fire_expand_rtree took: 1.14 sec\n",
      "2024-02-28 19:12:13,204 - FireLog - INFO - func:Fire_merge_rtree took: 180.71 ms\n",
      "2024-02-28 19:12:13,480 - FireLog - INFO - func:invalidate_statfires took: 275.42 ms\n",
      "2024-02-28 19:12:13,481 - FireLog - INFO - fids_expand: 68\n",
      "2024-02-28 19:12:13,481 - FireLog - INFO - fids_new: 29\n",
      "2024-02-28 19:12:13,482 - FireLog - INFO - fids_merged: 2\n",
      "2024-02-28 19:12:13,483 - FireLog - INFO - fids_invalid: 12\n",
      "2024-02-28 19:12:14,548 - FireLog - INFO - func:update_gdf took: 1.06 sec\n",
      "2024-02-28 19:12:14,548 - FireLog - INFO - func:Fire_Forward_one_step took: 2.67 sec\n",
      "2024-02-28 19:12:14,549 - FireLog - INFO - --------------------\n",
      "2024-02-28 19:12:14,550 - FireLog - INFO - Fire tracking at [2023, 9, 4, 'PM']\n",
      "2024-02-28 19:12:14,904 - FireLog - INFO - func:Fire_expand_rtree took: 350.18 ms\n",
      "2024-02-28 19:12:15,004 - FireLog - INFO - func:Fire_merge_rtree took: 97.13 ms\n",
      "2024-02-28 19:12:15,265 - FireLog - INFO - func:invalidate_statfires took: 260.39 ms\n",
      "2024-02-28 19:12:15,266 - FireLog - INFO - fids_expand: 13\n",
      "2024-02-28 19:12:15,267 - FireLog - INFO - fids_new: 14\n",
      "2024-02-28 19:12:15,267 - FireLog - INFO - fids_merged: 1\n",
      "2024-02-28 19:12:15,268 - FireLog - INFO - fids_invalid: 2\n",
      "2024-02-28 19:12:15,610 - FireLog - INFO - func:update_gdf took: 341.29 ms\n",
      "2024-02-28 19:12:15,611 - FireLog - INFO - func:Fire_Forward_one_step took: 1.06 sec\n",
      "2024-02-28 19:12:15,611 - FireLog - INFO - --------------------\n",
      "2024-02-28 19:12:15,612 - FireLog - INFO - Fire tracking at [2023, 9, 5, 'AM']\n",
      "2024-02-28 19:12:16,905 - FireLog - INFO - func:Fire_expand_rtree took: 1.29 sec\n",
      "2024-02-28 19:12:17,084 - FireLog - INFO - func:Fire_merge_rtree took: 175.86 ms\n",
      "2024-02-28 19:12:17,335 - FireLog - INFO - func:invalidate_statfires took: 250.12 ms\n",
      "2024-02-28 19:12:17,336 - FireLog - INFO - fids_expand: 78\n",
      "2024-02-28 19:12:17,336 - FireLog - INFO - fids_new: 33\n",
      "2024-02-28 19:12:17,337 - FireLog - INFO - fids_merged: 3\n",
      "2024-02-28 19:12:17,337 - FireLog - INFO - fids_invalid: 15\n",
      "2024-02-28 19:12:18,530 - FireLog - INFO - func:update_gdf took: 1.19 sec\n",
      "2024-02-28 19:12:18,530 - FireLog - INFO - func:Fire_Forward_one_step took: 2.92 sec\n",
      "2024-02-28 19:12:18,531 - FireLog - INFO - --------------------\n",
      "2024-02-28 19:12:18,532 - FireLog - INFO - Fire tracking at [2023, 9, 5, 'PM']\n",
      "2024-02-28 19:12:19,482 - FireLog - INFO - func:Fire_expand_rtree took: 946.32 ms\n",
      "2024-02-28 19:12:19,679 - FireLog - INFO - func:Fire_merge_rtree took: 193.37 ms\n",
      "2024-02-28 19:12:19,950 - FireLog - INFO - func:invalidate_statfires took: 270.17 ms\n",
      "2024-02-28 19:12:19,950 - FireLog - INFO - fids_expand: 29\n",
      "2024-02-28 19:12:19,951 - FireLog - INFO - fids_new: 64\n",
      "2024-02-28 19:12:19,951 - FireLog - INFO - fids_merged: 5\n",
      "2024-02-28 19:12:19,952 - FireLog - INFO - fids_invalid: 8\n",
      "2024-02-28 19:12:20,982 - FireLog - INFO - func:update_gdf took: 1.03 sec\n",
      "2024-02-28 19:12:20,982 - FireLog - INFO - func:Fire_Forward_one_step took: 2.45 sec\n",
      "2024-02-28 19:12:20,983 - FireLog - INFO - --------------------\n",
      "2024-02-28 19:12:20,984 - FireLog - INFO - Fire tracking at [2023, 9, 6, 'AM']\n",
      "2024-02-28 19:12:22,412 - FireLog - INFO - func:Fire_expand_rtree took: 1.42 sec\n",
      "2024-02-28 19:12:22,686 - FireLog - INFO - func:Fire_merge_rtree took: 269.92 ms\n",
      "2024-02-28 19:12:22,957 - FireLog - INFO - func:invalidate_statfires took: 270.51 ms\n",
      "2024-02-28 19:12:22,958 - FireLog - INFO - fids_expand: 82\n",
      "2024-02-28 19:12:22,958 - FireLog - INFO - fids_new: 42\n",
      "2024-02-28 19:12:22,959 - FireLog - INFO - fids_merged: 10\n",
      "2024-02-28 19:12:22,959 - FireLog - INFO - fids_invalid: 23\n",
      "2024-02-28 19:12:24,350 - FireLog - INFO - func:update_gdf took: 1.39 sec\n",
      "2024-02-28 19:12:24,351 - FireLog - INFO - func:Fire_Forward_one_step took: 3.37 sec\n",
      "2024-02-28 19:12:24,352 - FireLog - INFO - func:Fire_Forward took: 56.11 sec\n"
     ]
    }
   ],
   "source": [
    "allfires, allpixels = FireMain.Fire_Forward(tst=tst, ted=ted, restart=False, region=region)"
   ]
  },
  {
   "cell_type": "markdown",
   "id": "7adb3eb7-c0ae-441d-906f-47cad2e52f4c",
   "metadata": {},
   "source": [
    "We can save these files off in case something goes wrong later"
   ]
  },
  {
   "cell_type": "code",
   "execution_count": 5,
   "id": "228d5db2-cfa1-4ba2-9521-d23c6d2e08e3",
   "metadata": {},
   "outputs": [
    {
     "name": "stderr",
     "output_type": "stream",
     "text": [
      "2024-02-28 19:13:27,669 - FireLog - INFO - func:save_allpixels took: 186.95 ms\n",
      "2024-02-28 19:13:27,841 - FireLog - INFO - func:save_allfires_gdf took: 171.88 ms\n"
     ]
    }
   ],
   "source": [
    "postprocess.save_allpixels(allpixels, ted, region)\n",
    "postprocess.save_allfires_gdf(allfires.gdf, ted, region)"
   ]
  },
  {
   "cell_type": "markdown",
   "id": "2b48478f-189a-455d-b9ca-c323b46054e4",
   "metadata": {},
   "source": [
    "## Write Snapshot files\n",
    "\n",
    "Start by reading in the outputs from the run:"
   ]
  },
  {
   "cell_type": "code",
   "execution_count": 7,
   "id": "8d41cbc8-f2c0-4b03-b9bc-d360a2bdd231",
   "metadata": {},
   "outputs": [
    {
     "name": "stderr",
     "output_type": "stream",
     "text": [
      "2024-02-28 19:22:07,335 - FireLog - INFO - func:read_allpixels took: 63.09 ms\n",
      "2024-02-28 19:22:07,422 - FireLog - INFO - func:read_allfires_gdf took: 86.79 ms\n"
     ]
    }
   ],
   "source": [
    "allpixels = postprocess.read_allpixels(ted, region)\n",
    "allfires_gdf = postprocess.read_allfires_gdf(ted, region)"
   ]
  },
  {
   "cell_type": "markdown",
   "id": "e08a1bb9-74fe-4d91-878d-89709f0c9548",
   "metadata": {},
   "source": [
    "Then iterate through all of the ts and save the snapshot layers."
   ]
  },
  {
   "cell_type": "code",
   "execution_count": 9,
   "id": "be5fe52c-793d-4f9a-9bd7-8cf0421daecb",
   "metadata": {
    "scrolled": true
   },
   "outputs": [
    {
     "name": "stderr",
     "output_type": "stream",
     "text": [
      "2024-02-28 19:22:21,425 - FireLog - INFO - func:save_snapshot_layers took: 415.79 ms\n",
      "2024-02-28 19:22:21,847 - FireLog - INFO - func:save_snapshot_layers took: 418.61 ms\n",
      "2024-02-28 19:22:22,314 - FireLog - INFO - func:save_snapshot_layers took: 462.75 ms\n",
      "2024-02-28 19:22:22,816 - FireLog - INFO - func:save_snapshot_layers took: 498.63 ms\n",
      "2024-02-28 19:22:23,372 - FireLog - INFO - func:save_snapshot_layers took: 551.80 ms\n",
      "2024-02-28 19:22:23,947 - FireLog - INFO - func:save_snapshot_layers took: 570.85 ms\n",
      "2024-02-28 19:22:24,556 - FireLog - INFO - func:save_snapshot_layers took: 605.07 ms\n",
      "2024-02-28 19:22:25,193 - FireLog - INFO - func:save_snapshot_layers took: 633.35 ms\n",
      "2024-02-28 19:22:25,813 - FireLog - INFO - func:save_snapshot_layers took: 616.10 ms\n",
      "2024-02-28 19:22:26,458 - FireLog - INFO - func:save_snapshot_layers took: 641.12 ms\n",
      "2024-02-28 19:22:27,105 - FireLog - INFO - func:save_snapshot_layers took: 642.86 ms\n",
      "2024-02-28 19:22:27,849 - FireLog - INFO - func:save_snapshot_layers took: 740.19 ms\n",
      "2024-02-28 19:22:28,527 - FireLog - INFO - func:save_snapshot_layers took: 673.49 ms\n",
      "2024-02-28 19:22:29,232 - FireLog - INFO - func:save_snapshot_layers took: 701.15 ms\n",
      "2024-02-28 19:22:29,942 - FireLog - INFO - func:save_snapshot_layers took: 706.02 ms\n",
      "2024-02-28 19:22:30,653 - FireLog - INFO - func:save_snapshot_layers took: 706.78 ms\n",
      "2024-02-28 19:22:31,380 - FireLog - INFO - func:save_snapshot_layers took: 723.39 ms\n",
      "2024-02-28 19:22:32,158 - FireLog - INFO - func:save_snapshot_layers took: 773.11 ms\n",
      "2024-02-28 19:22:32,946 - FireLog - INFO - func:save_snapshot_layers took: 784.22 ms\n",
      "2024-02-28 19:22:32,947 - FireLog - INFO - func:save_snapshots took: 11.94 sec\n"
     ]
    },
    {
     "name": "stdout",
     "output_type": "stream",
     "text": [
      "CPU times: user 7.83 s, sys: 129 ms, total: 7.95 s\n",
      "Wall time: 11.9 s\n"
     ]
    }
   ],
   "source": [
    "%%time\n",
    "postprocess.save_snapshots(allfires_gdf, region, tst, ted)"
   ]
  },
  {
   "cell_type": "markdown",
   "id": "a81ffd2d-ed4b-498e-b45e-127f7c5fd594",
   "metadata": {},
   "source": [
    "## Write Largefire files\n",
    "\n",
    "First we will find all the large fires:"
   ]
  },
  {
   "cell_type": "code",
   "execution_count": 10,
   "id": "130838af-f05c-48fe-b52f-1e8d0a5d6747",
   "metadata": {},
   "outputs": [
    {
     "name": "stderr",
     "output_type": "stream",
     "text": [
      "2024-02-28 19:22:42,401 - FireLog - INFO - func:find_largefires took: 4.84 ms\n"
     ]
    }
   ],
   "source": [
    "large_fires = postprocess.find_largefires(allfires_gdf)"
   ]
  },
  {
   "cell_type": "markdown",
   "id": "ceab6685-4dec-4ad6-9e0a-31f69db864cd",
   "metadata": {},
   "source": [
    "First we'll use the `allpixels` object to create the `nplist` layer"
   ]
  },
  {
   "cell_type": "code",
   "execution_count": 11,
   "id": "0718c1ae-99f2-4edd-9e89-a101279e3515",
   "metadata": {
    "scrolled": true
   },
   "outputs": [
    {
     "name": "stderr",
     "output_type": "stream",
     "text": [
      "2024-02-28 19:22:44,359 - FireLog - INFO - func:save_fire_nplist took: 55.39 ms\n",
      "2024-02-28 19:22:44,400 - FireLog - INFO - func:save_fire_nplist took: 39.66 ms\n",
      "2024-02-28 19:22:44,460 - FireLog - INFO - func:save_fire_nplist took: 58.99 ms\n",
      "2024-02-28 19:22:44,514 - FireLog - INFO - func:save_fire_nplist took: 51.87 ms\n",
      "2024-02-28 19:22:44,564 - FireLog - INFO - func:save_fire_nplist took: 48.66 ms\n",
      "2024-02-28 19:22:44,610 - FireLog - INFO - func:save_fire_nplist took: 44.39 ms\n",
      "2024-02-28 19:22:44,653 - FireLog - INFO - func:save_fire_nplist took: 42.27 ms\n",
      "2024-02-28 19:22:44,704 - FireLog - INFO - func:save_fire_nplist took: 49.54 ms\n",
      "2024-02-28 19:22:44,755 - FireLog - INFO - func:save_fire_nplist took: 49.01 ms\n",
      "2024-02-28 19:22:44,800 - FireLog - INFO - func:save_fire_nplist took: 43.62 ms\n",
      "2024-02-28 19:22:44,845 - FireLog - INFO - func:save_fire_nplist took: 43.55 ms\n",
      "2024-02-28 19:22:44,894 - FireLog - INFO - func:save_fire_nplist took: 48.16 ms\n",
      "2024-02-28 19:22:44,940 - FireLog - INFO - func:save_fire_nplist took: 44.26 ms\n",
      "2024-02-28 19:22:44,998 - FireLog - INFO - func:save_fire_nplist took: 57.19 ms\n",
      "2024-02-28 19:22:45,043 - FireLog - INFO - func:save_fire_nplist took: 42.86 ms\n",
      "2024-02-28 19:22:45,088 - FireLog - INFO - func:save_fire_nplist took: 43.76 ms\n",
      "2024-02-28 19:22:45,138 - FireLog - INFO - func:save_fire_nplist took: 47.50 ms\n",
      "2024-02-28 19:22:45,397 - FireLog - INFO - func:save_fire_nplist took: 257.82 ms\n",
      "2024-02-28 19:22:45,440 - FireLog - INFO - func:save_fire_nplist took: 40.93 ms\n",
      "2024-02-28 19:22:45,500 - FireLog - INFO - func:save_fire_nplist took: 58.16 ms\n",
      "2024-02-28 19:22:45,545 - FireLog - INFO - func:save_fire_nplist took: 43.91 ms\n",
      "2024-02-28 19:22:45,600 - FireLog - INFO - func:save_fire_nplist took: 53.60 ms\n",
      "2024-02-28 19:22:45,647 - FireLog - INFO - func:save_fire_nplist took: 45.27 ms\n",
      "2024-02-28 19:22:45,690 - FireLog - INFO - func:save_fire_nplist took: 41.97 ms\n",
      "2024-02-28 19:22:45,787 - FireLog - INFO - func:save_fire_nplist took: 95.74 ms\n",
      "2024-02-28 19:22:45,836 - FireLog - INFO - func:save_fire_nplist took: 46.73 ms\n",
      "2024-02-28 19:22:45,927 - FireLog - INFO - func:save_fire_nplist took: 89.45 ms\n",
      "2024-02-28 19:22:46,059 - FireLog - INFO - func:save_fire_nplist took: 129.61 ms\n",
      "2024-02-28 19:22:46,191 - FireLog - INFO - func:save_fire_nplist took: 130.85 ms\n",
      "2024-02-28 19:22:46,304 - FireLog - INFO - func:save_fire_nplist took: 110.45 ms\n",
      "2024-02-28 19:22:46,353 - FireLog - INFO - func:save_fire_nplist took: 47.32 ms\n",
      "2024-02-28 19:22:46,353 - FireLog - INFO - func:save_large_fires_nplist took: 2.05 sec\n"
     ]
    },
    {
     "name": "stdout",
     "output_type": "stream",
     "text": [
      "CPU times: user 928 ms, sys: 40.2 ms, total: 968 ms\n",
      "Wall time: 2.05 s\n"
     ]
    }
   ],
   "source": [
    "%%time\n",
    "postprocess.save_large_fires_nplist(allpixels, region, large_fires)"
   ]
  },
  {
   "cell_type": "markdown",
   "id": "308bd400-ae4e-40aa-86b0-8f0986d34062",
   "metadata": {},
   "source": [
    "The rest of the layers will be created directly from the `allfires_gdf` and have some merge handling"
   ]
  },
  {
   "cell_type": "code",
   "execution_count": 12,
   "id": "09f77f34-e642-4de7-872c-3ba8b7d9a4c3",
   "metadata": {
    "scrolled": true
   },
   "outputs": [
    {
     "name": "stderr",
     "output_type": "stream",
     "text": [
      "2024-02-28 19:22:59,132 - FireLog - INFO - func:save_fire_layers took: 110.01 ms\n"
     ]
    },
    {
     "name": "stdout",
     "output_type": "stream",
     "text": [
      "53 rows that potentially need a merge\n"
     ]
    },
    {
     "name": "stderr",
     "output_type": "stream",
     "text": [
      "2024-02-28 19:22:59,257 - FireLog - INFO - func:save_fire_layers took: 123.48 ms\n",
      "2024-02-28 19:22:59,363 - FireLog - INFO - func:save_fire_layers took: 105.17 ms\n",
      "2024-02-28 19:22:59,387 - FireLog - INFO - func:merge_rows took: 22.99 ms\n",
      "2024-02-28 19:22:59,495 - FireLog - INFO - func:save_fire_layers took: 107.07 ms\n",
      "2024-02-28 19:22:59,511 - FireLog - INFO - func:merge_rows took: 14.80 ms\n",
      "2024-02-28 19:22:59,614 - FireLog - INFO - func:save_fire_layers took: 102.90 ms\n",
      "2024-02-28 19:22:59,718 - FireLog - INFO - func:save_fire_layers took: 102.66 ms\n",
      "2024-02-28 19:22:59,829 - FireLog - INFO - func:save_fire_layers took: 110.35 ms\n",
      "2024-02-28 19:22:59,937 - FireLog - INFO - func:save_fire_layers took: 106.84 ms\n",
      "2024-02-28 19:23:00,041 - FireLog - INFO - func:save_fire_layers took: 102.75 ms\n",
      "2024-02-28 19:23:00,197 - FireLog - INFO - func:save_fire_layers took: 154.83 ms\n",
      "2024-02-28 19:23:00,306 - FireLog - INFO - func:save_fire_layers took: 107.06 ms\n",
      "2024-02-28 19:23:00,412 - FireLog - INFO - func:save_fire_layers took: 105.23 ms\n",
      "2024-02-28 19:23:00,516 - FireLog - INFO - func:save_fire_layers took: 102.97 ms\n",
      "2024-02-28 19:23:00,627 - FireLog - INFO - func:save_fire_layers took: 110.45 ms\n",
      "2024-02-28 19:23:00,741 - FireLog - INFO - func:save_fire_layers took: 113.11 ms\n",
      "2024-02-28 19:23:00,860 - FireLog - INFO - func:save_fire_layers took: 117.95 ms\n",
      "2024-02-28 19:23:00,924 - FireLog - INFO - func:merge_rows took: 62.98 ms\n",
      "2024-02-28 19:23:01,088 - FireLog - INFO - func:save_fire_layers took: 162.67 ms\n",
      "2024-02-28 19:23:01,246 - FireLog - INFO - func:save_fire_layers took: 157.35 ms\n",
      "2024-02-28 19:23:01,262 - FireLog - INFO - func:merge_rows took: 14.53 ms\n",
      "2024-02-28 19:23:01,390 - FireLog - INFO - func:save_fire_layers took: 127.91 ms\n",
      "2024-02-28 19:23:01,499 - FireLog - INFO - func:save_fire_layers took: 107.80 ms\n",
      "2024-02-28 19:23:01,628 - FireLog - INFO - func:save_fire_layers took: 127.74 ms\n",
      "2024-02-28 19:23:01,661 - FireLog - INFO - func:merge_rows took: 32.18 ms\n",
      "2024-02-28 19:23:01,778 - FireLog - INFO - func:save_fire_layers took: 116.78 ms\n",
      "2024-02-28 19:23:01,838 - FireLog - INFO - func:merge_rows took: 58.71 ms\n",
      "2024-02-28 19:23:01,954 - FireLog - INFO - func:save_fire_layers took: 114.69 ms\n",
      "2024-02-28 19:23:02,054 - FireLog - INFO - func:save_fire_layers took: 99.71 ms\n",
      "2024-02-28 19:23:02,159 - FireLog - INFO - func:save_fire_layers took: 103.87 ms\n",
      "2024-02-28 19:23:02,269 - FireLog - INFO - func:save_fire_layers took: 107.89 ms\n",
      "2024-02-28 19:23:02,373 - FireLog - INFO - func:save_fire_layers took: 103.28 ms\n",
      "2024-02-28 19:23:02,482 - FireLog - INFO - func:save_fire_layers took: 107.48 ms\n",
      "2024-02-28 19:23:02,595 - FireLog - INFO - func:save_fire_layers took: 112.39 ms\n",
      "2024-02-28 19:23:02,701 - FireLog - INFO - func:save_fire_layers took: 104.55 ms\n",
      "2024-02-28 19:23:02,803 - FireLog - INFO - func:save_fire_layers took: 100.91 ms\n",
      "2024-02-28 19:23:02,804 - FireLog - INFO - func:save_large_fires_layers took: 3.79 sec\n"
     ]
    },
    {
     "name": "stdout",
     "output_type": "stream",
     "text": [
      "CPU times: user 1.25 s, sys: 68.5 ms, total: 1.32 s\n",
      "Wall time: 3.79 s\n"
     ]
    }
   ],
   "source": [
    "%%time\n",
    "postprocess.save_large_fires_layers(allfires_gdf, region, large_fires)"
   ]
  }
 ],
 "metadata": {
  "kernelspec": {
   "display_name": "Python [conda env:eis-feds-nrt]",
   "language": "python",
   "name": "conda-env-eis-feds-nrt-py"
  },
  "language_info": {
   "codemirror_mode": {
    "name": "ipython",
    "version": 3
   },
   "file_extension": ".py",
   "mimetype": "text/x-python",
   "name": "python",
   "nbconvert_exporter": "python",
   "pygments_lexer": "ipython3",
   "version": "3.10.13"
  }
 },
 "nbformat": 4,
 "nbformat_minor": 5
}
