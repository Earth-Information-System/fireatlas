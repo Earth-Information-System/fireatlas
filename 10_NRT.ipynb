{
 "cells": [
  {
   "cell_type": "markdown",
   "id": "3932eb24-10cc-4efc-890b-b5afe57be5ac",
   "metadata": {},
   "source": [
    "## NRT\n",
    "\n",
    "This notebook runs all the preprocessing steps using NRT data for a specific region and time. "
   ]
  },
  {
   "cell_type": "code",
   "execution_count": 1,
   "id": "b83d030e-eabd-4ed1-b0a1-82b3602f9190",
   "metadata": {},
   "outputs": [],
   "source": [
    "import datetime\n",
    "import pandas as pd\n",
    "import geopandas as gpd\n",
    "\n",
    "import FireIO, FireMain, FireTime, FireObj, FireConsts, postprocess, preprocess\n",
    "from utils import timed\n",
    "\n",
    "tst = [2023, 8, 28, 'AM']\n",
    "ted = [2023, 9, 6, 'AM']\n",
    "region = ('WesternUS',[-125.698046875,31.676476158707615,\n",
    "                       -101.00078125,49.51429477264348])\n",
    "list_of_ts = list(FireTime.t_generator(tst, ted))"
   ]
  },
  {
   "cell_type": "markdown",
   "id": "5e54a2d4-b41b-4d53-a4ba-7a41f02799f5",
   "metadata": {},
   "source": [
    "## Preprocess the region\n",
    "\n",
    "Preprocess the region to get rid of static flare sources. Save that new \"swiss cheese\" shape off into a geojson file for later."
   ]
  },
  {
   "cell_type": "code",
   "execution_count": 2,
   "id": "1a3c495d-66fa-458f-8afb-01e982b0709a",
   "metadata": {},
   "outputs": [
    {
     "name": "stderr",
     "output_type": "stream",
     "text": [
      "2024-03-26 17:01:46,293 - FireLog - INFO - Preprocessing has already occurred for this region.\n",
      "2024-03-26 17:01:46,293 - FireLog - INFO - func:preprocess_region took: 1.52 ms\n"
     ]
    },
    {
     "data": {
      "text/plain": [
       "'data/FEDSpreprocessed/WesternUS/WesternUS.json'"
      ]
     },
     "execution_count": 2,
     "metadata": {},
     "output_type": "execute_result"
    }
   ],
   "source": [
    "preprocess.preprocess_region(region)"
   ]
  },
  {
   "cell_type": "markdown",
   "id": "16bd857f-f57a-4fc3-9e49-2c9536c97019",
   "metadata": {},
   "source": [
    "## Are preprocessed input files available?\n",
    "\n",
    "Check to see if all the files that we need have already been processed and are available on s3."
   ]
  },
  {
   "cell_type": "code",
   "execution_count": 5,
   "id": "8451d5d6-05b0-4393-a850-70758cd365db",
   "metadata": {},
   "outputs": [],
   "source": [
    "ts_that_need_preprocessing = set([\n",
    "    *preprocess.check_preprocessed_file(tst, ted, sat=\"NOAA20\", freq=\"NRT\", location=\"s3\"),\n",
    "    *preprocess.check_preprocessed_file(tst, ted, sat=\"SNPP\", freq=\"NRT\", location=\"s3\")\n",
    "])"
   ]
  },
  {
   "cell_type": "code",
   "execution_count": 6,
   "id": "ba10e2b4-a8a1-4f26-943e-0779b140c4ee",
   "metadata": {},
   "outputs": [],
   "source": [
    "assert len(ts_that_need_preprocessing) == 0, \"All input fires should be on s3\""
   ]
  },
  {
   "cell_type": "markdown",
   "id": "73f9065d-3519-4673-98e5-3afd0e29ab80",
   "metadata": {},
   "source": [
    "## Preprocess for region and t\n",
    "\n",
    "Do initial filtering and clustering using the preprocessed region (from local) and the half day files (from s3)."
   ]
  },
  {
   "cell_type": "code",
   "execution_count": 8,
   "id": "5ed3b8b4-7330-48e4-a3ff-4ca4d56add2c",
   "metadata": {
    "editable": true,
    "scrolled": true,
    "slideshow": {
     "slide_type": ""
    },
    "tags": []
   },
   "outputs": [
    {
     "name": "stderr",
     "output_type": "stream",
     "text": [
      "2024-03-26 17:03:09,044 - FireLog - INFO - func:read_region took: 193.62 ms\n",
      "2024-03-26 17:03:09,045 - FireLog - INFO - filtering and clustering 2023-8-28 AM, VIIRS, WesternUS\n",
      "2024-03-26 17:03:09,615 - FireLog - INFO - func:read_preprocessed_input took: 569.50 ms\n",
      "2024-03-26 17:03:09,837 - FireLog - INFO - func:read_preprocessed_input took: 220.85 ms\n",
      "2024-03-26 17:04:08,320 - FireLog - INFO - func:do_clustering took: 509.26 ms\n",
      "2024-03-26 17:04:08,427 - FireLog - INFO - func:preprocess_region_t took: 59.58 sec\n",
      "2024-03-26 17:04:08,614 - FireLog - INFO - func:read_region took: 185.85 ms\n",
      "2024-03-26 17:04:08,614 - FireLog - INFO - filtering and clustering 2023-8-28 PM, VIIRS, WesternUS\n",
      "2024-03-26 17:04:09,267 - FireLog - INFO - func:read_preprocessed_input took: 651.60 ms\n",
      "2024-03-26 17:04:09,535 - FireLog - INFO - func:read_preprocessed_input took: 268.06 ms\n",
      "2024-03-26 17:04:32,132 - FireLog - INFO - func:do_clustering took: 18.73 ms\n",
      "2024-03-26 17:04:32,208 - FireLog - INFO - func:preprocess_region_t took: 23.78 sec\n",
      "2024-03-26 17:04:32,386 - FireLog - INFO - func:read_region took: 177.67 ms\n",
      "2024-03-26 17:04:32,387 - FireLog - INFO - filtering and clustering 2023-8-29 AM, VIIRS, WesternUS\n",
      "2024-03-26 17:04:32,738 - FireLog - INFO - func:read_preprocessed_input took: 350.42 ms\n",
      "2024-03-26 17:04:32,963 - FireLog - INFO - func:read_preprocessed_input took: 224.30 ms\n",
      "2024-03-26 17:05:03,541 - FireLog - INFO - func:do_clustering took: 27.33 ms\n",
      "2024-03-26 17:05:03,627 - FireLog - INFO - func:preprocess_region_t took: 31.42 sec\n",
      "2024-03-26 17:05:03,799 - FireLog - INFO - func:read_region took: 171.38 ms\n",
      "2024-03-26 17:05:03,800 - FireLog - INFO - filtering and clustering 2023-8-29 PM, VIIRS, WesternUS\n",
      "2024-03-26 17:05:04,290 - FireLog - INFO - func:read_preprocessed_input took: 489.32 ms\n",
      "2024-03-26 17:05:04,685 - FireLog - INFO - func:read_preprocessed_input took: 394.72 ms\n",
      "2024-03-26 17:05:20,602 - FireLog - INFO - func:do_clustering took: 12.68 ms\n",
      "2024-03-26 17:05:20,667 - FireLog - INFO - func:preprocess_region_t took: 17.04 sec\n",
      "2024-03-26 17:05:20,835 - FireLog - INFO - func:read_region took: 167.69 ms\n",
      "2024-03-26 17:05:20,836 - FireLog - INFO - filtering and clustering 2023-8-30 AM, VIIRS, WesternUS\n",
      "2024-03-26 17:05:21,228 - FireLog - INFO - func:read_preprocessed_input took: 391.63 ms\n",
      "2024-03-26 17:05:21,487 - FireLog - INFO - func:read_preprocessed_input took: 258.27 ms\n",
      "2024-03-26 17:05:47,182 - FireLog - INFO - func:do_clustering took: 22.51 ms\n",
      "2024-03-26 17:05:47,261 - FireLog - INFO - func:preprocess_region_t took: 26.59 sec\n",
      "2024-03-26 17:05:47,431 - FireLog - INFO - func:read_region took: 169.44 ms\n",
      "2024-03-26 17:05:47,432 - FireLog - INFO - filtering and clustering 2023-8-30 PM, VIIRS, WesternUS\n",
      "2024-03-26 17:05:47,830 - FireLog - INFO - func:read_preprocessed_input took: 398.04 ms\n",
      "2024-03-26 17:05:48,390 - FireLog - INFO - func:read_preprocessed_input took: 558.89 ms\n",
      "2024-03-26 17:06:18,951 - FireLog - INFO - func:do_clustering took: 30.95 ms\n",
      "2024-03-26 17:06:19,028 - FireLog - INFO - func:preprocess_region_t took: 31.77 sec\n",
      "2024-03-26 17:06:19,200 - FireLog - INFO - func:read_region took: 170.75 ms\n",
      "2024-03-26 17:06:19,201 - FireLog - INFO - filtering and clustering 2023-8-31 AM, VIIRS, WesternUS\n",
      "2024-03-26 17:06:19,379 - FireLog - INFO - func:read_preprocessed_input took: 177.87 ms\n",
      "2024-03-26 17:06:19,500 - FireLog - INFO - func:read_preprocessed_input took: 120.56 ms\n",
      "2024-03-26 17:06:58,869 - FireLog - INFO - func:do_clustering took: 36.29 ms\n",
      "2024-03-26 17:06:58,960 - FireLog - INFO - func:preprocess_region_t took: 39.93 sec\n",
      "2024-03-26 17:06:59,129 - FireLog - INFO - func:read_region took: 168.31 ms\n",
      "2024-03-26 17:06:59,130 - FireLog - INFO - filtering and clustering 2023-8-31 PM, VIIRS, WesternUS\n",
      "2024-03-26 17:06:59,586 - FireLog - INFO - func:read_preprocessed_input took: 456.02 ms\n",
      "2024-03-26 17:07:00,132 - FireLog - INFO - func:read_preprocessed_input took: 545.39 ms\n",
      "2024-03-26 17:07:03,275 - FireLog - INFO - func:do_clustering took: 3.20 ms\n",
      "2024-03-26 17:07:03,303 - FireLog - INFO - func:preprocess_region_t took: 4.34 sec\n",
      "2024-03-26 17:07:03,473 - FireLog - INFO - func:read_region took: 169.67 ms\n",
      "2024-03-26 17:07:03,474 - FireLog - INFO - filtering and clustering 2023-9-1 AM, VIIRS, WesternUS\n",
      "2024-03-26 17:07:03,600 - FireLog - INFO - func:read_preprocessed_input took: 125.73 ms\n",
      "2024-03-26 17:07:03,917 - FireLog - INFO - func:read_preprocessed_input took: 317.27 ms\n",
      "2024-03-26 17:07:10,285 - FireLog - INFO - func:do_clustering took: 5.27 ms\n",
      "2024-03-26 17:07:10,321 - FireLog - INFO - func:preprocess_region_t took: 7.02 sec\n",
      "2024-03-26 17:07:10,491 - FireLog - INFO - func:read_region took: 169.59 ms\n",
      "2024-03-26 17:07:10,492 - FireLog - INFO - filtering and clustering 2023-9-1 PM, VIIRS, WesternUS\n",
      "2024-03-26 17:07:11,685 - FireLog - INFO - func:read_preprocessed_input took: 1.19 sec\n",
      "2024-03-26 17:07:12,162 - FireLog - INFO - func:read_preprocessed_input took: 476.23 ms\n",
      "2024-03-26 17:07:14,174 - FireLog - INFO - func:do_clustering took: 2.37 ms\n",
      "2024-03-26 17:07:14,200 - FireLog - INFO - func:preprocess_region_t took: 3.88 sec\n",
      "2024-03-26 17:07:14,369 - FireLog - INFO - func:read_region took: 169.08 ms\n",
      "2024-03-26 17:07:14,370 - FireLog - INFO - filtering and clustering 2023-9-2 AM, VIIRS, WesternUS\n",
      "2024-03-26 17:07:14,773 - FireLog - INFO - func:read_preprocessed_input took: 402.24 ms\n",
      "2024-03-26 17:07:15,049 - FireLog - INFO - func:read_preprocessed_input took: 274.83 ms\n",
      "2024-03-26 17:07:20,910 - FireLog - INFO - func:do_clustering took: 4.26 ms\n",
      "2024-03-26 17:07:20,940 - FireLog - INFO - func:preprocess_region_t took: 6.74 sec\n",
      "2024-03-26 17:07:21,108 - FireLog - INFO - func:read_region took: 167.56 ms\n",
      "2024-03-26 17:07:21,109 - FireLog - INFO - filtering and clustering 2023-9-2 PM, VIIRS, WesternUS\n",
      "2024-03-26 17:07:21,859 - FireLog - INFO - func:read_preprocessed_input took: 749.21 ms\n",
      "2024-03-26 17:07:22,593 - FireLog - INFO - func:read_preprocessed_input took: 733.49 ms\n",
      "2024-03-26 17:07:24,231 - FireLog - INFO - func:do_clustering took: 2.15 ms\n",
      "2024-03-26 17:07:24,255 - FireLog - INFO - func:preprocess_region_t took: 3.31 sec\n",
      "2024-03-26 17:07:24,425 - FireLog - INFO - func:read_region took: 169.31 ms\n",
      "2024-03-26 17:07:24,426 - FireLog - INFO - filtering and clustering 2023-9-3 AM, VIIRS, WesternUS\n",
      "2024-03-26 17:07:24,946 - FireLog - INFO - func:read_preprocessed_input took: 519.82 ms\n",
      "2024-03-26 17:07:25,332 - FireLog - INFO - func:read_preprocessed_input took: 385.22 ms\n",
      "2024-03-26 17:07:31,864 - FireLog - INFO - func:do_clustering took: 5.30 ms\n",
      "2024-03-26 17:07:31,900 - FireLog - INFO - func:preprocess_region_t took: 7.64 sec\n",
      "2024-03-26 17:07:32,068 - FireLog - INFO - func:read_region took: 167.51 ms\n",
      "2024-03-26 17:07:32,068 - FireLog - INFO - filtering and clustering 2023-9-3 PM, VIIRS, WesternUS\n",
      "2024-03-26 17:07:32,926 - FireLog - INFO - func:read_preprocessed_input took: 857.35 ms\n",
      "2024-03-26 17:07:33,341 - FireLog - INFO - func:read_preprocessed_input took: 413.47 ms\n",
      "2024-03-26 17:07:34,352 - FireLog - INFO - func:do_clustering took: 1.71 ms\n",
      "2024-03-26 17:07:34,372 - FireLog - INFO - func:preprocess_region_t took: 2.47 sec\n",
      "2024-03-26 17:07:34,544 - FireLog - INFO - func:read_region took: 171.53 ms\n",
      "2024-03-26 17:07:34,545 - FireLog - INFO - filtering and clustering 2023-9-4 AM, VIIRS, WesternUS\n",
      "2024-03-26 17:07:34,774 - FireLog - INFO - func:read_preprocessed_input took: 228.63 ms\n",
      "2024-03-26 17:07:34,878 - FireLog - INFO - func:read_preprocessed_input took: 103.30 ms\n",
      "2024-03-26 17:07:39,021 - FireLog - INFO - func:do_clustering took: 3.77 ms\n",
      "2024-03-26 17:07:39,050 - FireLog - INFO - func:preprocess_region_t took: 4.68 sec\n",
      "2024-03-26 17:07:39,220 - FireLog - INFO - func:read_region took: 169.63 ms\n",
      "2024-03-26 17:07:39,221 - FireLog - INFO - filtering and clustering 2023-9-4 PM, VIIRS, WesternUS\n",
      "2024-03-26 17:07:39,994 - FireLog - INFO - func:read_preprocessed_input took: 772.53 ms\n",
      "2024-03-26 17:07:40,468 - FireLog - INFO - func:read_preprocessed_input took: 473.76 ms\n",
      "2024-03-26 17:07:41,919 - FireLog - INFO - func:do_clustering took: 1.95 ms\n",
      "2024-03-26 17:07:41,943 - FireLog - INFO - func:preprocess_region_t took: 2.89 sec\n",
      "2024-03-26 17:07:42,110 - FireLog - INFO - func:read_region took: 167.06 ms\n",
      "2024-03-26 17:07:42,111 - FireLog - INFO - filtering and clustering 2023-9-5 AM, VIIRS, WesternUS\n",
      "2024-03-26 17:07:42,594 - FireLog - INFO - func:read_preprocessed_input took: 482.57 ms\n",
      "2024-03-26 17:07:42,752 - FireLog - INFO - func:read_preprocessed_input took: 157.49 ms\n",
      "2024-03-26 17:07:48,560 - FireLog - INFO - func:do_clustering took: 4.63 ms\n",
      "2024-03-26 17:07:48,591 - FireLog - INFO - func:preprocess_region_t took: 6.65 sec\n",
      "2024-03-26 17:07:48,761 - FireLog - INFO - func:read_region took: 169.19 ms\n",
      "2024-03-26 17:07:48,762 - FireLog - INFO - filtering and clustering 2023-9-5 PM, VIIRS, WesternUS\n",
      "2024-03-26 17:07:49,326 - FireLog - INFO - func:read_preprocessed_input took: 563.38 ms\n",
      "2024-03-26 17:07:49,822 - FireLog - INFO - func:read_preprocessed_input took: 495.37 ms\n",
      "2024-03-26 17:07:55,151 - FireLog - INFO - func:do_clustering took: 4.55 ms\n",
      "2024-03-26 17:07:55,184 - FireLog - INFO - func:preprocess_region_t took: 6.59 sec\n",
      "2024-03-26 17:07:55,354 - FireLog - INFO - func:read_region took: 169.22 ms\n",
      "2024-03-26 17:07:55,355 - FireLog - INFO - filtering and clustering 2023-9-6 AM, VIIRS, WesternUS\n",
      "2024-03-26 17:07:55,531 - FireLog - INFO - func:read_preprocessed_input took: 175.82 ms\n",
      "2024-03-26 17:07:55,878 - FireLog - INFO - func:read_preprocessed_input took: 346.51 ms\n",
      "2024-03-26 17:08:02,931 - FireLog - INFO - func:do_clustering took: 5.40 ms\n",
      "2024-03-26 17:08:02,962 - FireLog - INFO - func:preprocess_region_t took: 7.78 sec\n"
     ]
    },
    {
     "name": "stdout",
     "output_type": "stream",
     "text": [
      "CPU times: user 4min 22s, sys: 700 ms, total: 4min 22s\n",
      "Wall time: 4min 54s\n"
     ]
    }
   ],
   "source": [
    "%%time\n",
    "for t in list_of_ts:\n",
    "    preprocess.preprocess_region_t(t, sensor=\"VIIRS\", region=region, read_location=\"s3\", read_region_location=\"local\")"
   ]
  },
  {
   "cell_type": "markdown",
   "id": "f14a2dc9-e4ba-46ea-9e35-fca95f4514b0",
   "metadata": {},
   "source": [
    "## Run the fire expansion and merging algorithm\n",
    "\n",
    "Now that we have all the region-specific preprocessed fires, we can go ahead and run `Fire_Forward`."
   ]
  },
  {
   "cell_type": "code",
   "execution_count": 2,
   "id": "f9177ca7-7ddb-4472-97a2-054467bf86f0",
   "metadata": {
    "scrolled": true
   },
   "outputs": [
    {
     "name": "stderr",
     "output_type": "stream",
     "text": [
      "2024-03-26 17:08:50,650 - FireLog - INFO - func:read_preprocessed took: 17.51 ms\n",
      "2024-03-26 17:08:50,663 - FireLog - INFO - func:read_preprocessed took: 12.57 ms\n",
      "2024-03-26 17:08:50,678 - FireLog - INFO - func:read_preprocessed took: 14.06 ms\n",
      "2024-03-26 17:08:50,688 - FireLog - INFO - func:read_preprocessed took: 9.17 ms\n",
      "2024-03-26 17:08:50,700 - FireLog - INFO - func:read_preprocessed took: 11.88 ms\n",
      "2024-03-26 17:08:50,713 - FireLog - INFO - func:read_preprocessed took: 12.79 ms\n",
      "2024-03-26 17:08:50,728 - FireLog - INFO - func:read_preprocessed took: 14.26 ms\n",
      "2024-03-26 17:08:50,733 - FireLog - INFO - func:read_preprocessed took: 4.85 ms\n",
      "2024-03-26 17:08:50,738 - FireLog - INFO - func:read_preprocessed took: 4.92 ms\n",
      "2024-03-26 17:08:50,743 - FireLog - INFO - func:read_preprocessed took: 4.28 ms\n",
      "2024-03-26 17:08:50,748 - FireLog - INFO - func:read_preprocessed took: 4.79 ms\n",
      "2024-03-26 17:08:50,753 - FireLog - INFO - func:read_preprocessed took: 4.27 ms\n",
      "2024-03-26 17:08:50,758 - FireLog - INFO - func:read_preprocessed took: 4.95 ms\n",
      "2024-03-26 17:08:50,763 - FireLog - INFO - func:read_preprocessed took: 4.02 ms\n",
      "2024-03-26 17:08:50,768 - FireLog - INFO - func:read_preprocessed took: 4.49 ms\n",
      "2024-03-26 17:08:50,772 - FireLog - INFO - func:read_preprocessed took: 4.24 ms\n",
      "2024-03-26 17:08:50,778 - FireLog - INFO - func:read_preprocessed took: 4.76 ms\n",
      "2024-03-26 17:08:50,783 - FireLog - INFO - func:read_preprocessed took: 4.76 ms\n",
      "2024-03-26 17:08:50,788 - FireLog - INFO - func:read_preprocessed took: 4.97 ms\n",
      "2024-03-26 17:08:50,792 - FireLog - INFO - --------------------\n",
      "2024-03-26 17:08:50,793 - FireLog - INFO - Fire tracking at [2023, 8, 28, 'AM']\n",
      "2024-03-26 17:09:33,674 - FireLog - INFO - func:Fire_expand_rtree took: 42.88 sec\n",
      "2024-03-26 17:09:45,895 - FireLog - INFO - func:Fire_merge_rtree took: 12.22 sec\n",
      "2024-03-26 17:09:45,896 - FireLog - INFO - fids_expand: 0\n",
      "2024-03-26 17:09:45,896 - FireLog - INFO - fids_new: 264\n",
      "2024-03-26 17:09:45,897 - FireLog - INFO - fids_merged: 32\n",
      "2024-03-26 17:09:45,897 - FireLog - INFO - fids_invalid: 87\n",
      "2024-03-26 17:09:48,025 - FireLog - INFO - func:update_gdf took: 2.13 sec\n",
      "2024-03-26 17:09:48,026 - FireLog - INFO - func:Fire_Forward_one_step took: 57.23 sec\n",
      "2024-03-26 17:09:48,027 - FireLog - INFO - --------------------\n",
      "2024-03-26 17:09:48,027 - FireLog - INFO - Fire tracking at [2023, 8, 28, 'PM']\n",
      "2024-03-26 17:10:10,183 - FireLog - INFO - func:Fire_expand_rtree took: 22.15 sec\n",
      "2024-03-26 17:10:12,693 - FireLog - INFO - func:Fire_merge_rtree took: 2.51 sec\n",
      "2024-03-26 17:10:12,694 - FireLog - INFO - fids_expand: 56\n",
      "2024-03-26 17:10:12,694 - FireLog - INFO - fids_new: 93\n",
      "2024-03-26 17:10:12,695 - FireLog - INFO - fids_merged: 13\n",
      "2024-03-26 17:10:12,695 - FireLog - INFO - fids_invalid: 17\n",
      "2024-03-26 17:10:14,042 - FireLog - INFO - func:update_gdf took: 1.35 sec\n",
      "2024-03-26 17:10:14,043 - FireLog - INFO - func:Fire_Forward_one_step took: 26.02 sec\n",
      "2024-03-26 17:10:14,044 - FireLog - INFO - --------------------\n",
      "2024-03-26 17:10:14,044 - FireLog - INFO - Fire tracking at [2023, 8, 29, 'AM']\n",
      "2024-03-26 17:10:40,696 - FireLog - INFO - func:Fire_expand_rtree took: 26.65 sec\n",
      "2024-03-26 17:10:43,440 - FireLog - INFO - func:Fire_merge_rtree took: 2.74 sec\n",
      "2024-03-26 17:10:43,440 - FireLog - INFO - fids_expand: 115\n",
      "2024-03-26 17:10:43,441 - FireLog - INFO - fids_new: 70\n",
      "2024-03-26 17:10:43,441 - FireLog - INFO - fids_merged: 9\n",
      "2024-03-26 17:10:43,442 - FireLog - INFO - fids_invalid: 16\n",
      "2024-03-26 17:10:45,112 - FireLog - INFO - func:update_gdf took: 1.67 sec\n",
      "2024-03-26 17:10:45,112 - FireLog - INFO - func:Fire_Forward_one_step took: 31.07 sec\n",
      "2024-03-26 17:10:45,113 - FireLog - INFO - --------------------\n",
      "2024-03-26 17:10:45,113 - FireLog - INFO - Fire tracking at [2023, 8, 29, 'PM']\n",
      "2024-03-26 17:10:56,402 - FireLog - INFO - func:Fire_expand_rtree took: 11.28 sec\n",
      "2024-03-26 17:10:56,939 - FireLog - INFO - func:Fire_merge_rtree took: 534.59 ms\n",
      "2024-03-26 17:10:56,939 - FireLog - INFO - fids_expand: 31\n",
      "2024-03-26 17:10:56,940 - FireLog - INFO - fids_new: 38\n",
      "2024-03-26 17:10:56,940 - FireLog - INFO - fids_merged: 3\n",
      "2024-03-26 17:10:56,941 - FireLog - INFO - fids_invalid: 3\n",
      "2024-03-26 17:10:57,602 - FireLog - INFO - func:update_gdf took: 660.38 ms\n",
      "2024-03-26 17:10:57,603 - FireLog - INFO - func:Fire_Forward_one_step took: 12.49 sec\n",
      "2024-03-26 17:10:57,603 - FireLog - INFO - --------------------\n",
      "2024-03-26 17:10:57,604 - FireLog - INFO - Fire tracking at [2023, 8, 30, 'AM']\n",
      "2024-03-26 17:11:18,686 - FireLog - INFO - func:Fire_expand_rtree took: 21.08 sec\n",
      "2024-03-26 17:11:19,639 - FireLog - INFO - func:Fire_merge_rtree took: 950.73 ms\n",
      "2024-03-26 17:11:19,639 - FireLog - INFO - fids_expand: 99\n",
      "2024-03-26 17:11:19,640 - FireLog - INFO - fids_new: 42\n",
      "2024-03-26 17:11:19,640 - FireLog - INFO - fids_merged: 4\n",
      "2024-03-26 17:11:19,641 - FireLog - INFO - fids_invalid: 6\n",
      "2024-03-26 17:11:20,952 - FireLog - INFO - func:update_gdf took: 1.31 sec\n",
      "2024-03-26 17:11:20,953 - FireLog - INFO - func:Fire_Forward_one_step took: 23.35 sec\n",
      "2024-03-26 17:11:20,954 - FireLog - INFO - --------------------\n",
      "2024-03-26 17:11:20,954 - FireLog - INFO - Fire tracking at [2023, 8, 30, 'PM']\n",
      "2024-03-26 17:11:34,780 - FireLog - INFO - func:Fire_expand_rtree took: 13.82 sec\n",
      "2024-03-26 17:11:35,842 - FireLog - INFO - func:Fire_merge_rtree took: 1.06 sec\n",
      "2024-03-26 17:11:35,842 - FireLog - INFO - fids_expand: 43\n",
      "2024-03-26 17:11:35,843 - FireLog - INFO - fids_new: 37\n",
      "2024-03-26 17:11:35,843 - FireLog - INFO - fids_merged: 4\n",
      "2024-03-26 17:11:35,843 - FireLog - INFO - fids_invalid: 5\n",
      "2024-03-26 17:11:36,619 - FireLog - INFO - func:update_gdf took: 775.22 ms\n",
      "2024-03-26 17:11:36,620 - FireLog - INFO - func:Fire_Forward_one_step took: 15.67 sec\n",
      "2024-03-26 17:11:36,621 - FireLog - INFO - --------------------\n",
      "2024-03-26 17:11:36,621 - FireLog - INFO - Fire tracking at [2023, 8, 31, 'AM']\n",
      "2024-03-26 17:11:57,830 - FireLog - INFO - func:Fire_expand_rtree took: 21.21 sec\n",
      "2024-03-26 17:11:58,984 - FireLog - INFO - func:Fire_merge_rtree took: 1.15 sec\n",
      "2024-03-26 17:11:58,985 - FireLog - INFO - fids_expand: 105\n",
      "2024-03-26 17:11:58,985 - FireLog - INFO - fids_new: 29\n",
      "2024-03-26 17:11:58,986 - FireLog - INFO - fids_merged: 5\n",
      "2024-03-26 17:11:58,986 - FireLog - INFO - fids_invalid: 6\n",
      "2024-03-26 17:12:00,278 - FireLog - INFO - func:update_gdf took: 1.29 sec\n",
      "2024-03-26 17:12:00,279 - FireLog - INFO - func:Fire_Forward_one_step took: 23.66 sec\n",
      "2024-03-26 17:12:00,279 - FireLog - INFO - --------------------\n",
      "2024-03-26 17:12:00,280 - FireLog - INFO - Fire tracking at [2023, 8, 31, 'PM']\n",
      "2024-03-26 17:12:06,548 - FireLog - INFO - func:Fire_expand_rtree took: 6.27 sec\n",
      "2024-03-26 17:12:07,129 - FireLog - INFO - func:Fire_merge_rtree took: 578.14 ms\n",
      "2024-03-26 17:12:07,130 - FireLog - INFO - fids_expand: 22\n",
      "2024-03-26 17:12:07,130 - FireLog - INFO - fids_new: 20\n",
      "2024-03-26 17:12:07,130 - FireLog - INFO - fids_merged: 3\n",
      "2024-03-26 17:12:07,131 - FireLog - INFO - fids_invalid: 3\n",
      "2024-03-26 17:12:07,562 - FireLog - INFO - func:update_gdf took: 430.50 ms\n",
      "2024-03-26 17:12:07,563 - FireLog - INFO - func:Fire_Forward_one_step took: 7.28 sec\n",
      "2024-03-26 17:12:07,564 - FireLog - INFO - --------------------\n",
      "2024-03-26 17:12:07,564 - FireLog - INFO - Fire tracking at [2023, 9, 1, 'AM']\n",
      "2024-03-26 17:12:23,832 - FireLog - INFO - func:Fire_expand_rtree took: 16.26 sec\n",
      "2024-03-26 17:12:24,153 - FireLog - INFO - func:Fire_merge_rtree took: 318.12 ms\n",
      "2024-03-26 17:12:24,153 - FireLog - INFO - fids_expand: 84\n",
      "2024-03-26 17:12:24,154 - FireLog - INFO - fids_new: 31\n",
      "2024-03-26 17:12:24,154 - FireLog - INFO - fids_merged: 1\n",
      "2024-03-26 17:12:24,155 - FireLog - INFO - fids_invalid: 1\n",
      "2024-03-26 17:12:25,292 - FireLog - INFO - func:update_gdf took: 1.14 sec\n",
      "2024-03-26 17:12:25,293 - FireLog - INFO - func:Fire_Forward_one_step took: 17.73 sec\n",
      "2024-03-26 17:12:25,293 - FireLog - INFO - --------------------\n",
      "2024-03-26 17:12:25,294 - FireLog - INFO - Fire tracking at [2023, 9, 1, 'PM']\n",
      "2024-03-26 17:12:29,593 - FireLog - INFO - func:Fire_expand_rtree took: 4.30 sec\n",
      "2024-03-26 17:12:29,795 - FireLog - INFO - func:Fire_merge_rtree took: 199.21 ms\n",
      "2024-03-26 17:12:29,796 - FireLog - INFO - fids_expand: 10\n",
      "2024-03-26 17:12:29,796 - FireLog - INFO - fids_new: 20\n",
      "2024-03-26 17:12:29,797 - FireLog - INFO - fids_merged: 1\n",
      "2024-03-26 17:12:29,797 - FireLog - INFO - fids_invalid: 1\n",
      "2024-03-26 17:12:30,132 - FireLog - INFO - func:update_gdf took: 333.37 ms\n",
      "2024-03-26 17:12:30,132 - FireLog - INFO - func:Fire_Forward_one_step took: 4.84 sec\n",
      "2024-03-26 17:12:30,133 - FireLog - INFO - --------------------\n",
      "2024-03-26 17:12:30,133 - FireLog - INFO - Fire tracking at [2023, 9, 2, 'AM']\n",
      "2024-03-26 17:12:41,902 - FireLog - INFO - func:Fire_expand_rtree took: 11.76 sec\n",
      "2024-03-26 17:12:42,522 - FireLog - INFO - func:Fire_merge_rtree took: 617.05 ms\n",
      "2024-03-26 17:12:42,522 - FireLog - INFO - fids_expand: 58\n",
      "2024-03-26 17:12:42,523 - FireLog - INFO - fids_new: 19\n",
      "2024-03-26 17:12:42,523 - FireLog - INFO - fids_merged: 2\n",
      "2024-03-26 17:12:42,524 - FireLog - INFO - fids_invalid: 3\n",
      "2024-03-26 17:12:43,265 - FireLog - INFO - func:update_gdf took: 741.22 ms\n",
      "2024-03-26 17:12:43,266 - FireLog - INFO - func:Fire_Forward_one_step took: 13.13 sec\n",
      "2024-03-26 17:12:43,267 - FireLog - INFO - --------------------\n",
      "2024-03-26 17:12:43,267 - FireLog - INFO - Fire tracking at [2023, 9, 2, 'PM']\n",
      "2024-03-26 17:12:48,856 - FireLog - INFO - func:Fire_expand_rtree took: 5.58 sec\n",
      "2024-03-26 17:12:49,073 - FireLog - INFO - func:Fire_merge_rtree took: 214.62 ms\n",
      "2024-03-26 17:12:49,074 - FireLog - INFO - fids_expand: 15\n",
      "2024-03-26 17:12:49,074 - FireLog - INFO - fids_new: 21\n",
      "2024-03-26 17:12:49,075 - FireLog - INFO - fids_merged: 1\n",
      "2024-03-26 17:12:49,075 - FireLog - INFO - fids_invalid: 1\n",
      "2024-03-26 17:12:49,465 - FireLog - INFO - func:update_gdf took: 388.76 ms\n",
      "2024-03-26 17:12:49,465 - FireLog - INFO - func:Fire_Forward_one_step took: 6.20 sec\n",
      "2024-03-26 17:12:49,466 - FireLog - INFO - --------------------\n",
      "2024-03-26 17:12:49,466 - FireLog - INFO - Fire tracking at [2023, 9, 3, 'AM']\n",
      "2024-03-26 17:13:04,354 - FireLog - INFO - func:Fire_expand_rtree took: 14.88 sec\n",
      "2024-03-26 17:13:04,693 - FireLog - INFO - func:Fire_merge_rtree took: 336.58 ms\n",
      "2024-03-26 17:13:04,694 - FireLog - INFO - fids_expand: 87\n",
      "2024-03-26 17:13:04,694 - FireLog - INFO - fids_new: 22\n",
      "2024-03-26 17:13:04,695 - FireLog - INFO - fids_merged: 1\n",
      "2024-03-26 17:13:04,695 - FireLog - INFO - fids_invalid: 1\n",
      "2024-03-26 17:13:05,718 - FireLog - INFO - func:update_gdf took: 1.02 sec\n",
      "2024-03-26 17:13:05,719 - FireLog - INFO - func:Fire_Forward_one_step took: 16.25 sec\n",
      "2024-03-26 17:13:05,719 - FireLog - INFO - --------------------\n",
      "2024-03-26 17:13:05,720 - FireLog - INFO - Fire tracking at [2023, 9, 3, 'PM']\n",
      "2024-03-26 17:13:08,952 - FireLog - INFO - func:Fire_expand_rtree took: 3.23 sec\n",
      "2024-03-26 17:13:09,047 - FireLog - INFO - func:Fire_merge_rtree took: 91.36 ms\n",
      "2024-03-26 17:13:09,047 - FireLog - INFO - fids_expand: 14\n",
      "2024-03-26 17:13:09,047 - FireLog - INFO - fids_new: 8\n",
      "2024-03-26 17:13:09,048 - FireLog - INFO - fids_merged: 0\n",
      "2024-03-26 17:13:09,048 - FireLog - INFO - fids_invalid: 0\n",
      "2024-03-26 17:13:09,308 - FireLog - INFO - func:update_gdf took: 259.07 ms\n",
      "2024-03-26 17:13:09,309 - FireLog - INFO - func:Fire_Forward_one_step took: 3.59 sec\n",
      "2024-03-26 17:13:09,309 - FireLog - INFO - --------------------\n",
      "2024-03-26 17:13:09,310 - FireLog - INFO - Fire tracking at [2023, 9, 4, 'AM']\n",
      "2024-03-26 17:13:24,127 - FireLog - INFO - func:Fire_expand_rtree took: 14.81 sec\n",
      "2024-03-26 17:13:24,469 - FireLog - INFO - func:Fire_merge_rtree took: 338.60 ms\n",
      "2024-03-26 17:13:24,470 - FireLog - INFO - fids_expand: 76\n",
      "2024-03-26 17:13:24,470 - FireLog - INFO - fids_new: 21\n",
      "2024-03-26 17:13:24,470 - FireLog - INFO - fids_merged: 2\n",
      "2024-03-26 17:13:24,471 - FireLog - INFO - fids_invalid: 2\n",
      "2024-03-26 17:13:25,511 - FireLog - INFO - func:update_gdf took: 1.04 sec\n",
      "2024-03-26 17:13:25,512 - FireLog - INFO - func:Fire_Forward_one_step took: 16.20 sec\n",
      "2024-03-26 17:13:25,512 - FireLog - INFO - --------------------\n",
      "2024-03-26 17:13:25,513 - FireLog - INFO - Fire tracking at [2023, 9, 4, 'PM']\n",
      "2024-03-26 17:13:29,903 - FireLog - INFO - func:Fire_expand_rtree took: 4.39 sec\n",
      "2024-03-26 17:13:30,110 - FireLog - INFO - func:Fire_merge_rtree took: 203.21 ms\n",
      "2024-03-26 17:13:30,111 - FireLog - INFO - fids_expand: 14\n",
      "2024-03-26 17:13:30,111 - FireLog - INFO - fids_new: 13\n",
      "2024-03-26 17:13:30,112 - FireLog - INFO - fids_merged: 1\n",
      "2024-03-26 17:13:30,112 - FireLog - INFO - fids_invalid: 1\n",
      "2024-03-26 17:13:30,412 - FireLog - INFO - func:update_gdf took: 298.43 ms\n",
      "2024-03-26 17:13:30,413 - FireLog - INFO - func:Fire_Forward_one_step took: 4.90 sec\n",
      "2024-03-26 17:13:30,413 - FireLog - INFO - --------------------\n",
      "2024-03-26 17:13:30,414 - FireLog - INFO - Fire tracking at [2023, 9, 5, 'AM']\n",
      "2024-03-26 17:13:45,151 - FireLog - INFO - func:Fire_expand_rtree took: 14.73 sec\n",
      "2024-03-26 17:13:45,703 - FireLog - INFO - func:Fire_merge_rtree took: 549.06 ms\n",
      "2024-03-26 17:13:45,704 - FireLog - INFO - fids_expand: 87\n",
      "2024-03-26 17:13:45,704 - FireLog - INFO - fids_new: 23\n",
      "2024-03-26 17:13:45,705 - FireLog - INFO - fids_merged: 3\n",
      "2024-03-26 17:13:45,705 - FireLog - INFO - fids_invalid: 4\n",
      "2024-03-26 17:13:46,781 - FireLog - INFO - func:update_gdf took: 1.07 sec\n",
      "2024-03-26 17:13:46,781 - FireLog - INFO - func:Fire_Forward_one_step took: 16.37 sec\n",
      "2024-03-26 17:13:46,782 - FireLog - INFO - --------------------\n",
      "2024-03-26 17:13:46,782 - FireLog - INFO - Fire tracking at [2023, 9, 5, 'PM']\n",
      "2024-03-26 17:13:59,967 - FireLog - INFO - func:Fire_expand_rtree took: 13.18 sec\n",
      "2024-03-26 17:14:00,868 - FireLog - INFO - func:Fire_merge_rtree took: 897.25 ms\n",
      "2024-03-26 17:14:00,868 - FireLog - INFO - fids_expand: 30\n",
      "2024-03-26 17:14:00,869 - FireLog - INFO - fids_new: 63\n",
      "2024-03-26 17:14:00,869 - FireLog - INFO - fids_merged: 5\n",
      "2024-03-26 17:14:00,870 - FireLog - INFO - fids_invalid: 6\n",
      "2024-03-26 17:14:01,800 - FireLog - INFO - func:update_gdf took: 928.92 ms\n",
      "2024-03-26 17:14:01,800 - FireLog - INFO - func:Fire_Forward_one_step took: 15.02 sec\n",
      "2024-03-26 17:14:01,801 - FireLog - INFO - --------------------\n",
      "2024-03-26 17:14:01,802 - FireLog - INFO - Fire tracking at [2023, 9, 6, 'AM']\n",
      "2024-03-26 17:14:19,149 - FireLog - INFO - func:Fire_expand_rtree took: 17.34 sec\n",
      "2024-03-26 17:14:20,790 - FireLog - INFO - func:Fire_merge_rtree took: 1.64 sec\n",
      "2024-03-26 17:14:20,791 - FireLog - INFO - fids_expand: 93\n",
      "2024-03-26 17:14:20,791 - FireLog - INFO - fids_new: 30\n",
      "2024-03-26 17:14:20,792 - FireLog - INFO - fids_merged: 10\n",
      "2024-03-26 17:14:20,792 - FireLog - INFO - fids_invalid: 11\n",
      "2024-03-26 17:14:22,061 - FireLog - INFO - func:update_gdf took: 1.27 sec\n",
      "2024-03-26 17:14:22,061 - FireLog - INFO - func:Fire_Forward_one_step took: 20.26 sec\n",
      "2024-03-26 17:14:22,062 - FireLog - INFO - func:Fire_Forward took: 5.53 min\n"
     ]
    }
   ],
   "source": [
    "allfires, allpixels = FireMain.Fire_Forward(tst=tst, ted=ted, region=region, read_location=\"local\")"
   ]
  },
  {
   "cell_type": "markdown",
   "id": "7adb3eb7-c0ae-441d-906f-47cad2e52f4c",
   "metadata": {},
   "source": [
    "We can save these files off in case something goes wrong later"
   ]
  },
  {
   "cell_type": "code",
   "execution_count": 3,
   "id": "228d5db2-cfa1-4ba2-9521-d23c6d2e08e3",
   "metadata": {},
   "outputs": [
    {
     "name": "stderr",
     "output_type": "stream",
     "text": [
      "2024-03-26 17:14:58,175 - FireLog - INFO - func:save_allpixels took: 234.29 ms\n",
      "2024-03-26 17:14:58,364 - FireLog - INFO - func:save_allfires_gdf took: 187.83 ms\n"
     ]
    },
    {
     "data": {
      "text/plain": [
       "'data/FEDSoutput-s3-conus/WesternUS/2023/allfires_20230906_AM.parq'"
      ]
     },
     "execution_count": 3,
     "metadata": {},
     "output_type": "execute_result"
    }
   ],
   "source": [
    "postprocess.save_allpixels(allpixels, tst, ted, region)\n",
    "postprocess.save_allfires_gdf(allfires.gdf, tst, ted, region)"
   ]
  },
  {
   "cell_type": "markdown",
   "id": "2b48478f-189a-455d-b9ca-c323b46054e4",
   "metadata": {},
   "source": [
    "## Write Snapshot files\n",
    "\n",
    "Start by reading in the outputs from the run:"
   ]
  },
  {
   "cell_type": "code",
   "execution_count": 2,
   "id": "8d41cbc8-f2c0-4b03-b9bc-d360a2bdd231",
   "metadata": {},
   "outputs": [
    {
     "name": "stderr",
     "output_type": "stream",
     "text": [
      "2024-03-26 17:21:38,182 - FireLog - INFO - func:read_allpixels took: 51.24 ms\n",
      "2024-03-26 17:21:38,327 - FireLog - INFO - func:read_allfires_gdf took: 143.50 ms\n"
     ]
    }
   ],
   "source": [
    "allpixels = postprocess.read_allpixels(tst, ted, region, location=\"local\")\n",
    "allfires_gdf = postprocess.read_allfires_gdf(tst, ted, region, location=\"local\")"
   ]
  },
  {
   "cell_type": "markdown",
   "id": "e08a1bb9-74fe-4d91-878d-89709f0c9548",
   "metadata": {},
   "source": [
    "Then iterate through all of the ts and save the snapshot layers."
   ]
  },
  {
   "cell_type": "code",
   "execution_count": 3,
   "id": "be5fe52c-793d-4f9a-9bd7-8cf0421daecb",
   "metadata": {
    "scrolled": true
   },
   "outputs": [
    {
     "name": "stderr",
     "output_type": "stream",
     "text": [
      "2024-03-26 17:20:01,846 - FireLog - INFO - func:save_snapshot_layers took: 433.92 ms\n",
      "2024-03-26 17:20:02,304 - FireLog - INFO - func:save_snapshot_layers took: 454.04 ms\n",
      "2024-03-26 17:20:02,798 - FireLog - INFO - func:save_snapshot_layers took: 490.36 ms\n",
      "2024-03-26 17:20:03,296 - FireLog - INFO - func:save_snapshot_layers took: 494.19 ms\n",
      "2024-03-26 17:20:03,838 - FireLog - INFO - func:save_snapshot_layers took: 538.16 ms\n",
      "2024-03-26 17:20:04,393 - FireLog - INFO - func:save_snapshot_layers took: 550.41 ms\n",
      "2024-03-26 17:20:04,972 - FireLog - INFO - func:save_snapshot_layers took: 575.37 ms\n",
      "2024-03-26 17:20:05,554 - FireLog - INFO - func:save_snapshot_layers took: 579.09 ms\n",
      "2024-03-26 17:20:06,142 - FireLog - INFO - func:save_snapshot_layers took: 583.98 ms\n",
      "2024-03-26 17:20:06,762 - FireLog - INFO - func:save_snapshot_layers took: 616.14 ms\n",
      "2024-03-26 17:20:07,405 - FireLog - INFO - func:save_snapshot_layers took: 638.92 ms\n",
      "2024-03-26 17:20:08,042 - FireLog - INFO - func:save_snapshot_layers took: 632.29 ms\n",
      "2024-03-26 17:20:08,700 - FireLog - INFO - func:save_snapshot_layers took: 654.00 ms\n",
      "2024-03-26 17:20:09,363 - FireLog - INFO - func:save_snapshot_layers took: 658.81 ms\n",
      "2024-03-26 17:20:10,060 - FireLog - INFO - func:save_snapshot_layers took: 692.81 ms\n",
      "2024-03-26 17:20:10,751 - FireLog - INFO - func:save_snapshot_layers took: 687.22 ms\n",
      "2024-03-26 17:20:11,478 - FireLog - INFO - func:save_snapshot_layers took: 722.23 ms\n",
      "2024-03-26 17:20:12,201 - FireLog - INFO - func:save_snapshot_layers took: 719.33 ms\n",
      "2024-03-26 17:20:12,937 - FireLog - INFO - func:save_snapshot_layers took: 732.73 ms\n",
      "2024-03-26 17:20:12,938 - FireLog - INFO - func:save_snapshots took: 11.53 sec\n"
     ]
    },
    {
     "name": "stdout",
     "output_type": "stream",
     "text": [
      "CPU times: user 7.1 s, sys: 191 ms, total: 7.29 s\n",
      "Wall time: 11.5 s\n"
     ]
    }
   ],
   "source": [
    "%%time\n",
    "postprocess.save_snapshots(allfires_gdf, region, tst, ted)"
   ]
  },
  {
   "cell_type": "markdown",
   "id": "a81ffd2d-ed4b-498e-b45e-127f7c5fd594",
   "metadata": {},
   "source": [
    "## Write Largefire files\n",
    "\n",
    "First we will find all the large fires:"
   ]
  },
  {
   "cell_type": "code",
   "execution_count": 3,
   "id": "130838af-f05c-48fe-b52f-1e8d0a5d6747",
   "metadata": {},
   "outputs": [
    {
     "name": "stderr",
     "output_type": "stream",
     "text": [
      "2024-03-26 17:21:41,878 - FireLog - INFO - func:find_largefires took: 5.79 ms\n"
     ]
    }
   ],
   "source": [
    "large_fires = postprocess.find_largefires(allfires_gdf)"
   ]
  },
  {
   "cell_type": "markdown",
   "id": "ceab6685-4dec-4ad6-9e0a-31f69db864cd",
   "metadata": {},
   "source": [
    "First we'll use the `allpixels` object to create the `nplist` layer"
   ]
  },
  {
   "cell_type": "code",
   "execution_count": 4,
   "id": "0718c1ae-99f2-4edd-9e89-a101279e3515",
   "metadata": {
    "scrolled": true
   },
   "outputs": [
    {
     "name": "stderr",
     "output_type": "stream",
     "text": [
      "2024-03-26 17:21:42,814 - FireLog - INFO - func:save_fire_nplist took: 77.39 ms\n",
      "2024-03-26 17:21:42,855 - FireLog - INFO - func:save_fire_nplist took: 39.39 ms\n",
      "2024-03-26 17:21:42,908 - FireLog - INFO - func:save_fire_nplist took: 50.98 ms\n",
      "2024-03-26 17:21:42,963 - FireLog - INFO - func:save_fire_nplist took: 53.26 ms\n",
      "2024-03-26 17:21:43,014 - FireLog - INFO - func:save_fire_nplist took: 48.82 ms\n",
      "2024-03-26 17:21:43,062 - FireLog - INFO - func:save_fire_nplist took: 46.87 ms\n",
      "2024-03-26 17:21:43,107 - FireLog - INFO - func:save_fire_nplist took: 42.90 ms\n",
      "2024-03-26 17:21:43,154 - FireLog - INFO - func:save_fire_nplist took: 45.88 ms\n",
      "2024-03-26 17:21:43,208 - FireLog - INFO - func:save_fire_nplist took: 52.34 ms\n",
      "2024-03-26 17:21:43,254 - FireLog - INFO - func:save_fire_nplist took: 43.89 ms\n",
      "2024-03-26 17:21:43,301 - FireLog - INFO - func:save_fire_nplist took: 45.06 ms\n",
      "2024-03-26 17:21:43,355 - FireLog - INFO - func:save_fire_nplist took: 52.92 ms\n",
      "2024-03-26 17:21:43,413 - FireLog - INFO - func:save_fire_nplist took: 56.13 ms\n",
      "2024-03-26 17:21:43,463 - FireLog - INFO - func:save_fire_nplist took: 47.28 ms\n",
      "2024-03-26 17:21:43,548 - FireLog - INFO - func:save_fire_nplist took: 84.05 ms\n",
      "2024-03-26 17:21:43,608 - FireLog - INFO - func:save_fire_nplist took: 58.14 ms\n",
      "2024-03-26 17:21:43,656 - FireLog - INFO - func:save_fire_nplist took: 45.80 ms\n",
      "2024-03-26 17:21:43,921 - FireLog - INFO - func:save_fire_nplist took: 263.03 ms\n",
      "2024-03-26 17:21:43,966 - FireLog - INFO - func:save_fire_nplist took: 43.15 ms\n",
      "2024-03-26 17:21:44,014 - FireLog - INFO - func:save_fire_nplist took: 45.80 ms\n",
      "2024-03-26 17:21:44,065 - FireLog - INFO - func:save_fire_nplist took: 49.25 ms\n",
      "2024-03-26 17:21:44,127 - FireLog - INFO - func:save_fire_nplist took: 60.96 ms\n",
      "2024-03-26 17:21:44,170 - FireLog - INFO - func:save_fire_nplist took: 41.05 ms\n",
      "2024-03-26 17:21:44,215 - FireLog - INFO - func:save_fire_nplist took: 43.09 ms\n",
      "2024-03-26 17:21:44,312 - FireLog - INFO - func:save_fire_nplist took: 95.77 ms\n",
      "2024-03-26 17:21:44,363 - FireLog - INFO - func:save_fire_nplist took: 48.64 ms\n",
      "2024-03-26 17:21:44,455 - FireLog - INFO - func:save_fire_nplist took: 90.92 ms\n",
      "2024-03-26 17:21:44,593 - FireLog - INFO - func:save_fire_nplist took: 136.19 ms\n",
      "2024-03-26 17:21:44,721 - FireLog - INFO - func:save_fire_nplist took: 125.71 ms\n",
      "2024-03-26 17:21:44,838 - FireLog - INFO - func:save_fire_nplist took: 115.32 ms\n",
      "2024-03-26 17:21:44,888 - FireLog - INFO - func:save_fire_nplist took: 47.99 ms\n",
      "2024-03-26 17:21:44,934 - FireLog - INFO - func:save_fire_nplist took: 44.54 ms\n",
      "2024-03-26 17:21:44,973 - FireLog - INFO - func:save_fire_nplist took: 36.67 ms\n",
      "2024-03-26 17:21:44,973 - FireLog - INFO - func:save_large_fires_nplist took: 2.24 sec\n"
     ]
    },
    {
     "name": "stdout",
     "output_type": "stream",
     "text": [
      "CPU times: user 1.05 s, sys: 64.8 ms, total: 1.12 s\n",
      "Wall time: 2.24 s\n"
     ]
    }
   ],
   "source": [
    "%%time\n",
    "postprocess.save_large_fires_nplist(allpixels, region, large_fires, tst)"
   ]
  },
  {
   "cell_type": "markdown",
   "id": "308bd400-ae4e-40aa-86b0-8f0986d34062",
   "metadata": {},
   "source": [
    "The rest of the layers will be created directly from the `allfires_gdf` and have some merge handling"
   ]
  },
  {
   "cell_type": "code",
   "execution_count": 5,
   "id": "09f77f34-e642-4de7-872c-3ba8b7d9a4c3",
   "metadata": {
    "scrolled": true
   },
   "outputs": [
    {
     "name": "stderr",
     "output_type": "stream",
     "text": [
      "2024-03-26 17:21:45,118 - FireLog - INFO - func:save_fire_layers took: 132.35 ms\n"
     ]
    },
    {
     "name": "stdout",
     "output_type": "stream",
     "text": [
      "45 rows that potentially need a merge\n"
     ]
    },
    {
     "name": "stderr",
     "output_type": "stream",
     "text": [
      "2024-03-26 17:21:45,240 - FireLog - INFO - func:save_fire_layers took: 120.91 ms\n",
      "2024-03-26 17:21:45,348 - FireLog - INFO - func:save_fire_layers took: 106.30 ms\n",
      "2024-03-26 17:21:45,375 - FireLog - INFO - func:merge_rows took: 24.94 ms\n",
      "2024-03-26 17:21:45,481 - FireLog - INFO - func:save_fire_layers took: 105.58 ms\n",
      "2024-03-26 17:21:45,497 - FireLog - INFO - func:merge_rows took: 14.63 ms\n",
      "2024-03-26 17:21:45,603 - FireLog - INFO - func:save_fire_layers took: 105.25 ms\n",
      "2024-03-26 17:21:45,704 - FireLog - INFO - func:save_fire_layers took: 99.94 ms\n",
      "2024-03-26 17:21:45,808 - FireLog - INFO - func:save_fire_layers took: 102.39 ms\n",
      "2024-03-26 17:21:45,919 - FireLog - INFO - func:save_fire_layers took: 109.17 ms\n",
      "2024-03-26 17:21:46,020 - FireLog - INFO - func:save_fire_layers took: 99.36 ms\n",
      "2024-03-26 17:21:46,156 - FireLog - INFO - func:save_fire_layers took: 135.07 ms\n",
      "2024-03-26 17:21:46,270 - FireLog - INFO - func:save_fire_layers took: 112.90 ms\n",
      "2024-03-26 17:21:46,373 - FireLog - INFO - func:save_fire_layers took: 101.48 ms\n",
      "2024-03-26 17:21:46,476 - FireLog - INFO - func:save_fire_layers took: 101.80 ms\n",
      "2024-03-26 17:21:46,584 - FireLog - INFO - func:save_fire_layers took: 106.70 ms\n",
      "2024-03-26 17:21:46,700 - FireLog - INFO - func:save_fire_layers took: 114.32 ms\n",
      "2024-03-26 17:21:46,840 - FireLog - INFO - func:save_fire_layers took: 139.08 ms\n",
      "2024-03-26 17:21:46,908 - FireLog - INFO - func:merge_rows took: 66.33 ms\n",
      "2024-03-26 17:21:47,086 - FireLog - INFO - func:save_fire_layers took: 177.44 ms\n",
      "2024-03-26 17:21:47,238 - FireLog - INFO - func:save_fire_layers took: 150.51 ms\n",
      "2024-03-26 17:21:47,255 - FireLog - INFO - func:merge_rows took: 15.34 ms\n",
      "2024-03-26 17:21:47,408 - FireLog - INFO - func:save_fire_layers took: 152.19 ms\n",
      "2024-03-26 17:21:47,527 - FireLog - INFO - func:save_fire_layers took: 118.09 ms\n",
      "2024-03-26 17:21:47,646 - FireLog - INFO - func:save_fire_layers took: 117.47 ms\n",
      "2024-03-26 17:21:47,770 - FireLog - INFO - func:save_fire_layers took: 122.78 ms\n",
      "2024-03-26 17:21:47,901 - FireLog - INFO - func:save_fire_layers took: 129.71 ms\n",
      "2024-03-26 17:21:47,935 - FireLog - INFO - func:merge_rows took: 31.91 ms\n",
      "2024-03-26 17:21:48,075 - FireLog - INFO - func:save_fire_layers took: 140.00 ms\n",
      "2024-03-26 17:21:48,119 - FireLog - INFO - func:merge_rows took: 42.64 ms\n",
      "2024-03-26 17:21:48,241 - FireLog - INFO - func:save_fire_layers took: 120.55 ms\n",
      "2024-03-26 17:21:48,345 - FireLog - INFO - func:save_fire_layers took: 102.85 ms\n",
      "2024-03-26 17:21:48,448 - FireLog - INFO - func:save_fire_layers took: 101.91 ms\n",
      "2024-03-26 17:21:48,556 - FireLog - INFO - func:save_fire_layers took: 106.96 ms\n",
      "2024-03-26 17:21:48,679 - FireLog - INFO - func:save_fire_layers took: 121.45 ms\n",
      "2024-03-26 17:21:48,791 - FireLog - INFO - func:save_fire_layers took: 110.68 ms\n",
      "2024-03-26 17:21:48,907 - FireLog - INFO - func:save_fire_layers took: 114.33 ms\n",
      "2024-03-26 17:21:49,042 - FireLog - INFO - func:save_fire_layers took: 133.77 ms\n",
      "2024-03-26 17:21:49,155 - FireLog - INFO - func:save_fire_layers took: 111.10 ms\n",
      "2024-03-26 17:21:49,156 - FireLog - INFO - func:save_large_fires_layers took: 4.18 sec\n"
     ]
    },
    {
     "name": "stdout",
     "output_type": "stream",
     "text": [
      "CPU times: user 1.49 s, sys: 104 ms, total: 1.6 s\n",
      "Wall time: 4.18 s\n"
     ]
    }
   ],
   "source": [
    "%%time\n",
    "postprocess.save_large_fires_layers(allfires_gdf, region, large_fires, tst)"
   ]
  }
 ],
 "metadata": {
  "kernelspec": {
   "display_name": "Python 3 (ipykernel)",
   "language": "python",
   "name": "python3"
  },
  "language_info": {
   "codemirror_mode": {
    "name": "ipython",
    "version": 3
   },
   "file_extension": ".py",
   "mimetype": "text/x-python",
   "name": "python",
   "nbconvert_exporter": "python",
   "pygments_lexer": "ipython3",
   "version": "3.11.8"
  }
 },
 "nbformat": 4,
 "nbformat_minor": 5
}
