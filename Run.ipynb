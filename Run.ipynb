{
 "cells": [
  {
   "cell_type": "markdown",
   "id": "f14a2dc9-e4ba-46ea-9e35-fca95f4514b0",
   "metadata": {},
   "source": [
    "## Run the fire expansion and merging algorithm\n",
    "\n",
    "`Fire_Forward` is responsible for reading in the preprocessed data created in the `Ingest` notebook"
   ]
  },
  {
   "cell_type": "code",
   "execution_count": 1,
   "id": "2ed6f4c1-f380-4b1d-b478-b3dcd61d705d",
   "metadata": {
    "scrolled": true
   },
   "outputs": [],
   "source": [
    "import datetime\n",
    "import pandas as pd\n",
    "import geopandas as gpd\n",
    "\n",
    "import FireMain, FireTime, FireObj, FireConsts, postprocess\n",
    "from utils import timed\n",
    "\n",
    "region = [\"CONUS\",]  # note you don't need the shape in here, just the name\n",
    "tst = [2023, 8, 28, 'AM']\n",
    "ted = [2023, 9, 6, 'AM']"
   ]
  },
  {
   "cell_type": "code",
   "execution_count": 2,
   "id": "7ccd529a-94e5-42b5-a099-e47fe352f1f9",
   "metadata": {},
   "outputs": [
    {
     "name": "stderr",
     "output_type": "stream",
     "text": [
      "2024-03-20 19:54:29,941 - FireLog - INFO - func:read_preprocessed took: 10.57 ms\n",
      "2024-03-20 19:54:29,949 - FireLog - INFO - func:read_preprocessed took: 7.96 ms\n",
      "2024-03-20 19:54:29,959 - FireLog - INFO - func:read_preprocessed took: 9.11 ms\n",
      "2024-03-20 19:54:29,967 - FireLog - INFO - func:read_preprocessed took: 7.43 ms\n",
      "2024-03-20 19:54:29,976 - FireLog - INFO - func:read_preprocessed took: 8.54 ms\n",
      "2024-03-20 19:54:29,985 - FireLog - INFO - func:read_preprocessed took: 8.86 ms\n",
      "2024-03-20 19:54:29,996 - FireLog - INFO - func:read_preprocessed took: 10.43 ms\n",
      "2024-03-20 19:54:30,003 - FireLog - INFO - func:read_preprocessed took: 6.50 ms\n",
      "2024-03-20 19:54:30,010 - FireLog - INFO - func:read_preprocessed took: 6.36 ms\n",
      "2024-03-20 19:54:30,015 - FireLog - INFO - func:read_preprocessed took: 4.41 ms\n",
      "2024-03-20 19:54:30,022 - FireLog - INFO - func:read_preprocessed took: 6.83 ms\n",
      "2024-03-20 19:54:30,027 - FireLog - INFO - func:read_preprocessed took: 4.32 ms\n",
      "2024-03-20 19:54:30,034 - FireLog - INFO - func:read_preprocessed took: 6.59 ms\n",
      "2024-03-20 19:54:30,038 - FireLog - INFO - func:read_preprocessed took: 4.34 ms\n",
      "2024-03-20 19:54:30,045 - FireLog - INFO - func:read_preprocessed took: 6.05 ms\n",
      "2024-03-20 19:54:30,051 - FireLog - INFO - func:read_preprocessed took: 5.43 ms\n",
      "2024-03-20 19:54:30,057 - FireLog - INFO - func:read_preprocessed took: 5.92 ms\n",
      "2024-03-20 19:54:30,063 - FireLog - INFO - func:read_preprocessed took: 5.44 ms\n",
      "2024-03-20 19:54:30,070 - FireLog - INFO - func:read_preprocessed took: 6.52 ms\n",
      "2024-03-20 19:54:30,077 - FireLog - INFO - --------------------\n",
      "2024-03-20 19:54:30,077 - FireLog - INFO - Fire tracking at [2023, 8, 28, 'AM']\n",
      "2024-03-20 19:54:35,360 - FireLog - INFO - func:Fire_expand_rtree took: 5.28 sec\n",
      "2024-03-20 19:54:38,208 - FireLog - INFO - func:Fire_merge_rtree took: 2.85 sec\n",
      "2024-03-20 19:54:38,482 - FireLog - INFO - func:invalidate_statfires took: 273.10 ms\n",
      "2024-03-20 19:54:38,483 - FireLog - INFO - fids_expand: 0\n",
      "2024-03-20 19:54:38,483 - FireLog - INFO - fids_new: 507\n",
      "2024-03-20 19:54:38,484 - FireLog - INFO - fids_merged: 50\n",
      "2024-03-20 19:54:38,484 - FireLog - INFO - fids_invalid: 107\n",
      "2024-03-20 19:54:42,175 - FireLog - INFO - func:update_gdf took: 3.69 sec\n",
      "2024-03-20 19:54:42,176 - FireLog - INFO - func:Fire_Forward_one_step took: 12.10 sec\n",
      "2024-03-20 19:54:42,176 - FireLog - INFO - --------------------\n",
      "2024-03-20 19:54:42,177 - FireLog - INFO - Fire tracking at [2023, 8, 28, 'PM']\n",
      "2024-03-20 19:54:47,388 - FireLog - INFO - func:Fire_expand_rtree took: 5.21 sec\n",
      "2024-03-20 19:54:48,019 - FireLog - INFO - func:Fire_merge_rtree took: 627.53 ms\n",
      "2024-03-20 19:54:48,566 - FireLog - INFO - func:invalidate_statfires took: 546.17 ms\n",
      "2024-03-20 19:54:48,567 - FireLog - INFO - fids_expand: 93\n",
      "2024-03-20 19:54:48,567 - FireLog - INFO - fids_new: 405\n",
      "2024-03-20 19:54:48,567 - FireLog - INFO - fids_merged: 22\n",
      "2024-03-20 19:54:48,568 - FireLog - INFO - fids_invalid: 27\n",
      "2024-03-20 19:54:52,478 - FireLog - INFO - func:update_gdf took: 3.91 sec\n",
      "2024-03-20 19:54:52,479 - FireLog - INFO - func:Fire_Forward_one_step took: 10.30 sec\n",
      "2024-03-20 19:54:52,479 - FireLog - INFO - --------------------\n",
      "2024-03-20 19:54:52,480 - FireLog - INFO - Fire tracking at [2023, 8, 29, 'AM']\n",
      "2024-03-20 19:54:59,037 - FireLog - INFO - func:Fire_expand_rtree took: 6.55 sec\n",
      "2024-03-20 19:54:59,993 - FireLog - INFO - func:Fire_merge_rtree took: 952.19 ms\n",
      "2024-03-20 19:55:00,655 - FireLog - INFO - func:invalidate_statfires took: 661.67 ms\n",
      "2024-03-20 19:55:00,656 - FireLog - INFO - fids_expand: 264\n",
      "2024-03-20 19:55:00,657 - FireLog - INFO - fids_new: 225\n",
      "2024-03-20 19:55:00,657 - FireLog - INFO - fids_merged: 17\n",
      "2024-03-20 19:55:00,658 - FireLog - INFO - fids_invalid: 32\n",
      "2024-03-20 19:55:04,530 - FireLog - INFO - func:update_gdf took: 3.87 sec\n",
      "2024-03-20 19:55:04,530 - FireLog - INFO - func:Fire_Forward_one_step took: 12.05 sec\n",
      "2024-03-20 19:55:04,531 - FireLog - INFO - --------------------\n",
      "2024-03-20 19:55:04,532 - FireLog - INFO - Fire tracking at [2023, 8, 29, 'PM']\n",
      "2024-03-20 19:55:09,356 - FireLog - INFO - func:Fire_expand_rtree took: 4.82 sec\n",
      "2024-03-20 19:55:10,008 - FireLog - INFO - func:Fire_merge_rtree took: 647.79 ms\n",
      "2024-03-20 19:55:10,865 - FireLog - INFO - func:invalidate_statfires took: 855.67 ms\n",
      "2024-03-20 19:55:10,865 - FireLog - INFO - fids_expand: 92\n",
      "2024-03-20 19:55:10,866 - FireLog - INFO - fids_new: 289\n",
      "2024-03-20 19:55:10,866 - FireLog - INFO - fids_merged: 12\n",
      "2024-03-20 19:55:10,867 - FireLog - INFO - fids_invalid: 21\n",
      "2024-03-20 19:55:13,952 - FireLog - INFO - func:update_gdf took: 3.08 sec\n",
      "2024-03-20 19:55:13,952 - FireLog - INFO - func:Fire_Forward_one_step took: 9.42 sec\n",
      "2024-03-20 19:55:13,953 - FireLog - INFO - --------------------\n",
      "2024-03-20 19:55:13,953 - FireLog - INFO - Fire tracking at [2023, 8, 30, 'AM']\n",
      "2024-03-20 19:55:20,558 - FireLog - INFO - func:Fire_expand_rtree took: 6.60 sec\n",
      "2024-03-20 19:55:20,987 - FireLog - INFO - func:Fire_merge_rtree took: 423.18 ms\n",
      "2024-03-20 19:55:21,927 - FireLog - INFO - func:invalidate_statfires took: 939.19 ms\n",
      "2024-03-20 19:55:21,927 - FireLog - INFO - fids_expand: 271\n",
      "2024-03-20 19:55:21,928 - FireLog - INFO - fids_new: 158\n",
      "2024-03-20 19:55:21,928 - FireLog - INFO - fids_merged: 8\n",
      "2024-03-20 19:55:21,929 - FireLog - INFO - fids_invalid: 30\n",
      "2024-03-20 19:55:25,491 - FireLog - INFO - func:update_gdf took: 3.56 sec\n",
      "2024-03-20 19:55:25,491 - FireLog - INFO - func:Fire_Forward_one_step took: 11.54 sec\n",
      "2024-03-20 19:55:25,492 - FireLog - INFO - --------------------\n",
      "2024-03-20 19:55:25,492 - FireLog - INFO - Fire tracking at [2023, 8, 30, 'PM']\n",
      "2024-03-20 19:55:31,133 - FireLog - INFO - func:Fire_expand_rtree took: 5.63 sec\n",
      "2024-03-20 19:55:32,037 - FireLog - INFO - func:Fire_merge_rtree took: 897.63 ms\n",
      "2024-03-20 19:55:33,165 - FireLog - INFO - func:invalidate_statfires took: 1.13 sec\n",
      "2024-03-20 19:55:33,166 - FireLog - INFO - fids_expand: 116\n",
      "2024-03-20 19:55:33,167 - FireLog - INFO - fids_new: 275\n",
      "2024-03-20 19:55:33,167 - FireLog - INFO - fids_merged: 12\n",
      "2024-03-20 19:55:33,167 - FireLog - INFO - fids_invalid: 21\n",
      "2024-03-20 19:55:36,483 - FireLog - INFO - func:update_gdf took: 3.32 sec\n",
      "2024-03-20 19:55:36,484 - FireLog - INFO - func:Fire_Forward_one_step took: 10.99 sec\n",
      "2024-03-20 19:55:36,485 - FireLog - INFO - --------------------\n",
      "2024-03-20 19:55:36,485 - FireLog - INFO - Fire tracking at [2023, 8, 31, 'AM']\n",
      "2024-03-20 19:55:44,559 - FireLog - INFO - func:Fire_expand_rtree took: 8.07 sec\n",
      "2024-03-20 19:55:45,144 - FireLog - INFO - func:Fire_merge_rtree took: 577.93 ms\n",
      "2024-03-20 19:55:46,350 - FireLog - INFO - func:invalidate_statfires took: 1.21 sec\n",
      "2024-03-20 19:55:46,351 - FireLog - INFO - fids_expand: 324\n",
      "2024-03-20 19:55:46,352 - FireLog - INFO - fids_new: 149\n",
      "2024-03-20 19:55:46,352 - FireLog - INFO - fids_merged: 7\n",
      "2024-03-20 19:55:46,352 - FireLog - INFO - fids_invalid: 50\n",
      "2024-03-20 19:55:50,376 - FireLog - INFO - func:update_gdf took: 4.02 sec\n",
      "2024-03-20 19:55:50,377 - FireLog - INFO - func:Fire_Forward_one_step took: 13.89 sec\n",
      "2024-03-20 19:55:50,378 - FireLog - INFO - --------------------\n",
      "2024-03-20 19:55:50,379 - FireLog - INFO - Fire tracking at [2023, 8, 31, 'PM']\n",
      "2024-03-20 19:55:55,427 - FireLog - INFO - func:Fire_expand_rtree took: 5.04 sec\n",
      "2024-03-20 19:55:56,327 - FireLog - INFO - func:Fire_merge_rtree took: 891.98 ms\n",
      "2024-03-20 19:55:57,714 - FireLog - INFO - func:invalidate_statfires took: 1.39 sec\n",
      "2024-03-20 19:55:57,715 - FireLog - INFO - fids_expand: 122\n",
      "2024-03-20 19:55:57,715 - FireLog - INFO - fids_new: 310\n",
      "2024-03-20 19:55:57,715 - FireLog - INFO - fids_merged: 12\n",
      "2024-03-20 19:55:57,716 - FireLog - INFO - fids_invalid: 33\n",
      "2024-03-20 19:56:01,448 - FireLog - INFO - func:update_gdf took: 3.73 sec\n",
      "2024-03-20 19:56:01,448 - FireLog - INFO - func:Fire_Forward_one_step took: 11.07 sec\n",
      "2024-03-20 19:56:01,449 - FireLog - INFO - --------------------\n",
      "2024-03-20 19:56:01,449 - FireLog - INFO - Fire tracking at [2023, 9, 1, 'AM']\n",
      "2024-03-20 19:56:07,755 - FireLog - INFO - func:Fire_expand_rtree took: 6.30 sec\n",
      "2024-03-20 19:56:08,145 - FireLog - INFO - func:Fire_merge_rtree took: 382.70 ms\n",
      "2024-03-20 19:56:09,609 - FireLog - INFO - func:invalidate_statfires took: 1.46 sec\n",
      "2024-03-20 19:56:09,610 - FireLog - INFO - fids_expand: 298\n",
      "2024-03-20 19:56:09,610 - FireLog - INFO - fids_new: 168\n",
      "2024-03-20 19:56:09,611 - FireLog - INFO - fids_merged: 2\n",
      "2024-03-20 19:56:09,612 - FireLog - INFO - fids_invalid: 46\n",
      "2024-03-20 19:56:13,710 - FireLog - INFO - func:update_gdf took: 4.10 sec\n",
      "2024-03-20 19:56:13,711 - FireLog - INFO - func:Fire_Forward_one_step took: 12.26 sec\n",
      "2024-03-20 19:56:13,712 - FireLog - INFO - --------------------\n",
      "2024-03-20 19:56:13,713 - FireLog - INFO - Fire tracking at [2023, 9, 1, 'PM']\n",
      "2024-03-20 19:56:17,523 - FireLog - INFO - func:Fire_expand_rtree took: 3.80 sec\n",
      "2024-03-20 19:56:18,068 - FireLog - INFO - func:Fire_merge_rtree took: 535.74 ms\n",
      "2024-03-20 19:56:19,662 - FireLog - INFO - func:invalidate_statfires took: 1.59 sec\n",
      "2024-03-20 19:56:19,663 - FireLog - INFO - fids_expand: 97\n",
      "2024-03-20 19:56:19,664 - FireLog - INFO - fids_new: 213\n",
      "2024-03-20 19:56:19,665 - FireLog - INFO - fids_merged: 7\n",
      "2024-03-20 19:56:19,665 - FireLog - INFO - fids_invalid: 13\n",
      "2024-03-20 19:56:22,454 - FireLog - INFO - func:update_gdf took: 2.79 sec\n",
      "2024-03-20 19:56:22,455 - FireLog - INFO - func:Fire_Forward_one_step took: 8.74 sec\n",
      "2024-03-20 19:56:22,456 - FireLog - INFO - --------------------\n",
      "2024-03-20 19:56:22,456 - FireLog - INFO - Fire tracking at [2023, 9, 2, 'AM']\n",
      "2024-03-20 19:56:28,681 - FireLog - INFO - func:Fire_expand_rtree took: 6.21 sec\n",
      "2024-03-20 19:56:29,194 - FireLog - INFO - func:Fire_merge_rtree took: 503.83 ms\n",
      "2024-03-20 19:56:30,886 - FireLog - INFO - func:invalidate_statfires took: 1.69 sec\n",
      "2024-03-20 19:56:30,887 - FireLog - INFO - fids_expand: 282\n",
      "2024-03-20 19:56:30,887 - FireLog - INFO - fids_new: 151\n",
      "2024-03-20 19:56:30,888 - FireLog - INFO - fids_merged: 5\n",
      "2024-03-20 19:56:30,888 - FireLog - INFO - fids_invalid: 40\n",
      "2024-03-20 19:56:34,806 - FireLog - INFO - func:update_gdf took: 3.92 sec\n",
      "2024-03-20 19:56:34,806 - FireLog - INFO - func:Fire_Forward_one_step took: 12.35 sec\n",
      "2024-03-20 19:56:34,807 - FireLog - INFO - --------------------\n",
      "2024-03-20 19:56:34,807 - FireLog - INFO - Fire tracking at [2023, 9, 2, 'PM']\n",
      "2024-03-20 19:56:38,279 - FireLog - INFO - func:Fire_expand_rtree took: 3.46 sec\n",
      "2024-03-20 19:56:39,033 - FireLog - INFO - func:Fire_merge_rtree took: 744.12 ms\n",
      "2024-03-20 19:56:40,796 - FireLog - INFO - func:invalidate_statfires took: 1.76 sec\n",
      "2024-03-20 19:56:40,797 - FireLog - INFO - fids_expand: 84\n",
      "2024-03-20 19:56:40,797 - FireLog - INFO - fids_new: 198\n",
      "2024-03-20 19:56:40,798 - FireLog - INFO - fids_merged: 10\n",
      "2024-03-20 19:56:40,798 - FireLog - INFO - fids_invalid: 17\n",
      "2024-03-20 19:56:43,428 - FireLog - INFO - func:update_gdf took: 2.63 sec\n",
      "2024-03-20 19:56:43,429 - FireLog - INFO - func:Fire_Forward_one_step took: 8.62 sec\n",
      "2024-03-20 19:56:43,429 - FireLog - INFO - --------------------\n",
      "2024-03-20 19:56:43,430 - FireLog - INFO - Fire tracking at [2023, 9, 3, 'AM']\n",
      "2024-03-20 19:56:49,600 - FireLog - INFO - func:Fire_expand_rtree took: 6.16 sec\n",
      "2024-03-20 19:56:50,361 - FireLog - INFO - func:Fire_merge_rtree took: 750.10 ms\n",
      "2024-03-20 19:56:51,964 - FireLog - INFO - func:invalidate_statfires took: 1.60 sec\n",
      "2024-03-20 19:56:51,964 - FireLog - INFO - fids_expand: 284\n",
      "2024-03-20 19:56:51,965 - FireLog - INFO - fids_new: 149\n",
      "2024-03-20 19:56:51,965 - FireLog - INFO - fids_merged: 11\n",
      "2024-03-20 19:56:51,966 - FireLog - INFO - fids_invalid: 53\n",
      "2024-03-20 19:56:56,034 - FireLog - INFO - func:update_gdf took: 4.07 sec\n",
      "2024-03-20 19:56:56,034 - FireLog - INFO - func:Fire_Forward_one_step took: 12.61 sec\n",
      "2024-03-20 19:56:56,035 - FireLog - INFO - --------------------\n",
      "2024-03-20 19:56:56,035 - FireLog - INFO - Fire tracking at [2023, 9, 3, 'PM']\n",
      "2024-03-20 19:56:59,468 - FireLog - INFO - func:Fire_expand_rtree took: 3.42 sec\n",
      "2024-03-20 19:57:00,134 - FireLog - INFO - func:Fire_merge_rtree took: 655.09 ms\n",
      "2024-03-20 19:57:01,788 - FireLog - INFO - func:invalidate_statfires took: 1.65 sec\n",
      "2024-03-20 19:57:01,789 - FireLog - INFO - fids_expand: 81\n",
      "2024-03-20 19:57:01,789 - FireLog - INFO - fids_new: 195\n",
      "2024-03-20 19:57:01,790 - FireLog - INFO - fids_merged: 7\n",
      "2024-03-20 19:57:01,790 - FireLog - INFO - fids_invalid: 14\n",
      "2024-03-20 19:57:04,409 - FireLog - INFO - func:update_gdf took: 2.62 sec\n",
      "2024-03-20 19:57:04,410 - FireLog - INFO - func:Fire_Forward_one_step took: 8.38 sec\n",
      "2024-03-20 19:57:04,411 - FireLog - INFO - --------------------\n",
      "2024-03-20 19:57:04,411 - FireLog - INFO - Fire tracking at [2023, 9, 4, 'AM']\n",
      "2024-03-20 19:57:09,705 - FireLog - INFO - func:Fire_expand_rtree took: 5.28 sec\n",
      "2024-03-20 19:57:10,277 - FireLog - INFO - func:Fire_merge_rtree took: 559.41 ms\n",
      "2024-03-20 19:57:11,838 - FireLog - INFO - func:invalidate_statfires took: 1.56 sec\n",
      "2024-03-20 19:57:11,839 - FireLog - INFO - fids_expand: 252\n",
      "2024-03-20 19:57:11,839 - FireLog - INFO - fids_new: 106\n",
      "2024-03-20 19:57:11,840 - FireLog - INFO - fids_merged: 5\n",
      "2024-03-20 19:57:11,840 - FireLog - INFO - fids_invalid: 46\n",
      "2024-03-20 19:57:15,304 - FireLog - INFO - func:update_gdf took: 3.46 sec\n",
      "2024-03-20 19:57:15,305 - FireLog - INFO - func:Fire_Forward_one_step took: 10.89 sec\n",
      "2024-03-20 19:57:15,305 - FireLog - INFO - --------------------\n",
      "2024-03-20 19:57:15,306 - FireLog - INFO - Fire tracking at [2023, 9, 4, 'PM']\n",
      "2024-03-20 19:57:19,323 - FireLog - INFO - func:Fire_expand_rtree took: 4.00 sec\n",
      "2024-03-20 19:57:20,075 - FireLog - INFO - func:Fire_merge_rtree took: 739.82 ms\n",
      "2024-03-20 19:57:21,707 - FireLog - INFO - func:invalidate_statfires took: 1.63 sec\n",
      "2024-03-20 19:57:21,707 - FireLog - INFO - fids_expand: 91\n",
      "2024-03-20 19:57:21,708 - FireLog - INFO - fids_new: 270\n",
      "2024-03-20 19:57:21,708 - FireLog - INFO - fids_merged: 18\n",
      "2024-03-20 19:57:21,709 - FireLog - INFO - fids_invalid: 21\n",
      "2024-03-20 19:57:25,284 - FireLog - INFO - func:update_gdf took: 3.57 sec\n",
      "2024-03-20 19:57:25,284 - FireLog - INFO - func:Fire_Forward_one_step took: 9.98 sec\n",
      "2024-03-20 19:57:25,285 - FireLog - INFO - --------------------\n",
      "2024-03-20 19:57:25,285 - FireLog - INFO - Fire tracking at [2023, 9, 5, 'AM']\n",
      "2024-03-20 19:57:30,941 - FireLog - INFO - func:Fire_expand_rtree took: 5.64 sec\n",
      "2024-03-20 19:57:31,768 - FireLog - INFO - func:Fire_merge_rtree took: 813.50 ms\n",
      "2024-03-20 19:57:33,320 - FireLog - INFO - func:invalidate_statfires took: 1.55 sec\n",
      "2024-03-20 19:57:33,320 - FireLog - INFO - fids_expand: 260\n",
      "2024-03-20 19:57:33,321 - FireLog - INFO - fids_new: 129\n",
      "2024-03-20 19:57:33,321 - FireLog - INFO - fids_merged: 13\n",
      "2024-03-20 19:57:33,321 - FireLog - INFO - fids_invalid: 76\n",
      "2024-03-20 19:57:37,130 - FireLog - INFO - func:update_gdf took: 3.81 sec\n",
      "2024-03-20 19:57:37,131 - FireLog - INFO - func:Fire_Forward_one_step took: 11.85 sec\n",
      "2024-03-20 19:57:37,131 - FireLog - INFO - --------------------\n",
      "2024-03-20 19:57:37,132 - FireLog - INFO - Fire tracking at [2023, 9, 5, 'PM']\n",
      "2024-03-20 19:57:41,945 - FireLog - INFO - func:Fire_expand_rtree took: 4.80 sec\n",
      "2024-03-20 19:57:42,771 - FireLog - INFO - func:Fire_merge_rtree took: 812.18 ms\n",
      "2024-03-20 19:57:44,390 - FireLog - INFO - func:invalidate_statfires took: 1.62 sec\n",
      "2024-03-20 19:57:44,391 - FireLog - INFO - fids_expand: 121\n",
      "2024-03-20 19:57:44,391 - FireLog - INFO - fids_new: 291\n",
      "2024-03-20 19:57:44,391 - FireLog - INFO - fids_merged: 16\n",
      "2024-03-20 19:57:44,392 - FireLog - INFO - fids_invalid: 27\n",
      "2024-03-20 19:57:48,524 - FireLog - INFO - func:update_gdf took: 4.13 sec\n",
      "2024-03-20 19:57:48,525 - FireLog - INFO - func:Fire_Forward_one_step took: 11.39 sec\n",
      "2024-03-20 19:57:48,526 - FireLog - INFO - --------------------\n",
      "2024-03-20 19:57:48,526 - FireLog - INFO - Fire tracking at [2023, 9, 6, 'AM']\n",
      "2024-03-20 19:57:54,423 - FireLog - INFO - func:Fire_expand_rtree took: 5.88 sec\n",
      "2024-03-20 19:57:55,308 - FireLog - INFO - func:Fire_merge_rtree took: 869.69 ms\n",
      "2024-03-20 19:57:56,957 - FireLog - INFO - func:invalidate_statfires took: 1.65 sec\n",
      "2024-03-20 19:57:56,958 - FireLog - INFO - fids_expand: 266\n",
      "2024-03-20 19:57:56,959 - FireLog - INFO - fids_new: 127\n",
      "2024-03-20 19:57:56,959 - FireLog - INFO - fids_merged: 19\n",
      "2024-03-20 19:57:56,960 - FireLog - INFO - fids_invalid: 73\n",
      "2024-03-20 19:58:01,021 - FireLog - INFO - func:update_gdf took: 4.06 sec\n",
      "2024-03-20 19:58:01,022 - FireLog - INFO - func:Fire_Forward_one_step took: 12.50 sec\n",
      "2024-03-20 19:58:01,022 - FireLog - INFO - func:Fire_Forward took: 3.52 min\n"
     ]
    }
   ],
   "source": [
    "allfires, allpixels = FireMain.Fire_Forward(tst=tst, ted=ted, restart=False, region=region)"
   ]
  },
  {
   "cell_type": "markdown",
   "id": "01ab5572-6511-4b87-9a69-7db28cb72f36",
   "metadata": {
    "execution": {
     "iopub.execute_input": "2024-01-24T22:27:41.929188Z",
     "iopub.status.busy": "2024-01-24T22:27:41.928952Z",
     "iopub.status.idle": "2024-01-24T22:27:41.932259Z",
     "shell.execute_reply": "2024-01-24T22:27:41.931921Z",
     "shell.execute_reply.started": "2024-01-24T22:27:41.929171Z"
    }
   },
   "source": [
    "From the logs that Eli shared we expect that for [2023, 9, 6, 'AM'] we should have:\n",
    "\n",
    "```python\n",
    "actual_fids_expand = 260\n",
    "actual_fids_new = 131\n",
    "actual_fids_merged = 6\n",
    "actual_fids_invalid = 44\n",
    "```"
   ]
  },
  {
   "cell_type": "markdown",
   "id": "e4458cb6-0c9c-4712-8d79-c43f84e756df",
   "metadata": {},
   "source": [
    "# Concepts\n",
    "This outputs two dataframes: an `allpixels` dataframe with 1 row per pixel and an `allfires` geodataframe with one row per-fire/per-t. \n",
    "\n",
    "The core concept is that if you use a dataframe to back the allfires and fire objects there are well-defined ways to serialize that to disk whenever you like (aka no more pickles!).\n",
    "\n",
    "Here's a bit of an overview of the lifecycle of each of these dataframes:\n",
    "\n",
    "## allpixels:\n",
    "\n",
    "- At the start of `Fire_Forward` all of the preprocessed pixel data is loaded and concatenated into one long dataframe.\n",
    "- Each row represents a fire pixel and there is a unique id per row.\n",
    "- As `Fire_Forward` iterates through the timesteps of interest the `allpixels` dataframe is updated in place.\n",
    "- Each `Fire` object refers to the `allpixels` object as the source of truth and does not hold pixel data but instead refers to subsets of the `allpixels` dataframe to return `n_pixels` or `newpixels`.\n",
    "- Merging fires at a particular `t` can update the `allpixels` at a former timestep.\n",
    "- When `Fire_Forward` is complete, the `allpixels` object can be serialized to csv (or any tabular format) optionally partitioned into files by `t`.\n",
    "- This dataframe can be used:\n",
    "    - together with `allfires_gdf` to rehydrate the `allfires` object at the latest `t` in order to run `Fire_Forward` on one new ingest file.\n",
    "    - independently to write the `nplist` output file for largefires\n",
    "\n",
    "## allfires_gdf:\n",
    "\n",
    "- At the start of `Fire_Forward` a new geodataframe object is initialized. It has a column for each of the `Fire` attributes that take a non-trivial amount of time to compute (`ftype`, `hull`, `fline`...).\n",
    "- As `Fire_Forward` iterates through the timesteps of interest it writes a row for every fire that is burning (aka has new pixels) at the `t`.\n",
    "- So each row contains the information about one fire at one `t`. The index is a MultiIndex of `(fid, t)`\n",
    "- Merging fires at a particular `t` updates the `mergeid` on the existing rows (_this part I am not totally confident is correct_).\n",
    "- When `Fire_Forward` is complete, the `allfires_gdf` object can be serialized to geoparquet (this is the best choice since it contains multiple geometry columns) optionally partitioned into files by `t`.\n",
    "- This geodataframe can be used:\n",
    "    - together with `allpixels` to rehydrate the `allfires` object at the latest `t` in order to run `Fire_Forward` on one new ingest file.\n",
    "    - independently to write all the snapshot and largefires output files.\n",
    "\n",
    "Side note: I like that in this branch the `allpixels` dataframe is referenced by all the `Fire` objects but it isn't copied around. This is different from how it works in `preprocess` where each `Fire` object (at each `t`) has its own dataframe. It is also different than the original version of this algorithm where each `Fire` object (at each `t`) holds a bunch of lists."
   ]
  },
  {
   "cell_type": "markdown",
   "id": "f88b111a-a729-45a6-95b2-65a2db573574",
   "metadata": {},
   "source": [
    "## Serialize to disk\n",
    "\n",
    "- allpixels -> one file for each t (one row for each pixel).\n",
    "- allfires -> one geoparquet file to hold all information about each fire at each time (one row for each burning fire at each t)."
   ]
  },
  {
   "cell_type": "code",
   "execution_count": 3,
   "id": "228d5db2-cfa1-4ba2-9521-d23c6d2e08e3",
   "metadata": {},
   "outputs": [
    {
     "name": "stderr",
     "output_type": "stream",
     "text": [
      "2024-03-20 19:58:01,432 - FireLog - INFO - func:save_allpixels took: 405.37 ms\n"
     ]
    }
   ],
   "source": [
    "postprocess.save_allpixels(allpixels, tst, ted, region)"
   ]
  },
  {
   "cell_type": "code",
   "execution_count": 4,
   "id": "48b4f931-7f4c-47e0-aaa7-d79dac3972cc",
   "metadata": {},
   "outputs": [
    {
     "name": "stderr",
     "output_type": "stream",
     "text": [
      "2024-03-20 19:58:01,921 - FireLog - INFO - func:save_allfires_gdf took: 484.29 ms\n"
     ]
    }
   ],
   "source": [
    "postprocess.save_allfires_gdf(allfires.gdf, tst, ted, region)"
   ]
  },
  {
   "cell_type": "markdown",
   "id": "fd6f2be6-286a-4868-adbe-a90aa5dfb4fd",
   "metadata": {},
   "source": [
    "## Read from disk"
   ]
  },
  {
   "cell_type": "code",
   "execution_count": 5,
   "id": "bb9d9818-89b0-4534-875d-8f5295eba2a0",
   "metadata": {},
   "outputs": [
    {
     "name": "stderr",
     "output_type": "stream",
     "text": [
      "2024-03-20 19:58:02,027 - FireLog - INFO - func:read_allpixels took: 101.77 ms\n"
     ]
    }
   ],
   "source": [
    "allpixels = postprocess.read_allpixels(tst, ted, region)"
   ]
  },
  {
   "cell_type": "code",
   "execution_count": 6,
   "id": "713e07d4-3f8f-4ff3-a67b-88883a39b6c4",
   "metadata": {},
   "outputs": [
    {
     "name": "stderr",
     "output_type": "stream",
     "text": [
      "2024-03-20 19:58:02,262 - FireLog - INFO - func:read_allfires_gdf took: 230.96 ms\n"
     ]
    }
   ],
   "source": [
    "allfires_gdf = postprocess.read_allfires_gdf(tst, ted, region)"
   ]
  },
  {
   "cell_type": "markdown",
   "id": "a81ffd2d-ed4b-498e-b45e-127f7c5fd594",
   "metadata": {},
   "source": [
    "## Pick out the large fires\n",
    "\n",
    "Let's compare the existing object-oriented approach with the new geodataframe approach"
   ]
  },
  {
   "cell_type": "code",
   "execution_count": 7,
   "id": "94fa151c-0c50-45ca-81f3-6a188ce39bea",
   "metadata": {},
   "outputs": [
    {
     "name": "stdout",
     "output_type": "stream",
     "text": [
      "CPU times: user 55.8 ms, sys: 0 ns, total: 55.8 ms\n",
      "Wall time: 55.4 ms\n"
     ]
    }
   ],
   "source": [
    "%%time\n",
    "import FireGpkg_sfs\n",
    "\n",
    "large_fires_original = FireGpkg_sfs.find_largefires(allfires)"
   ]
  },
  {
   "cell_type": "code",
   "execution_count": 8,
   "id": "130838af-f05c-48fe-b52f-1e8d0a5d6747",
   "metadata": {},
   "outputs": [
    {
     "name": "stderr",
     "output_type": "stream",
     "text": [
      "2024-03-20 19:58:02,334 - FireLog - INFO - func:find_largefires took: 7.45 ms\n"
     ]
    }
   ],
   "source": [
    "large_fires_new = postprocess.find_largefires(allfires_gdf)"
   ]
  },
  {
   "cell_type": "code",
   "execution_count": 9,
   "id": "693c4ef5-817e-4093-a013-954f3caa20c0",
   "metadata": {},
   "outputs": [],
   "source": [
    "assert set(large_fires_original) == set(large_fires_new), \"The large fires should match\""
   ]
  },
  {
   "cell_type": "markdown",
   "id": "ea5af427-e791-48de-b94c-8b555970d9d1",
   "metadata": {},
   "source": [
    "## Rehydrate the latest allfires"
   ]
  },
  {
   "cell_type": "markdown",
   "id": "cab20ea3-0592-4796-b604-6e5dcb70c26a",
   "metadata": {},
   "source": [
    "For instance let's rehydrate just the last allfires object. \n",
    "\n",
    "This should be equivalent to the allfires object that we generated at the top of this notebook."
   ]
  },
  {
   "cell_type": "code",
   "execution_count": 2,
   "id": "5755e2d2-19b1-48f5-a3e6-8738c29f0ac8",
   "metadata": {},
   "outputs": [
    {
     "name": "stderr",
     "output_type": "stream",
     "text": [
      "2024-03-20 20:06:19,082 - FireLog - INFO - func:read_allfires_gdf took: 162.82 ms\n",
      "2024-03-20 20:06:19,168 - FireLog - INFO - func:read_allpixels took: 85.11 ms\n",
      "2024-03-20 20:06:23,130 - FireLog - INFO - func:rehydrate took: 4.21 sec\n"
     ]
    },
    {
     "data": {
      "text/plain": [
       "<Allfires at t=[2023, 9, 6, 'AM'] with n_fires=4315>"
      ]
     },
     "execution_count": 2,
     "metadata": {},
     "output_type": "execute_result"
    }
   ],
   "source": [
    "a = FireObj.Allfires.rehydrate(tst, ted, region)\n",
    "a"
   ]
  },
  {
   "cell_type": "code",
   "execution_count": null,
   "id": "1d740653-f436-414b-a217-ec44de246ad1",
   "metadata": {},
   "outputs": [],
   "source": []
  }
 ],
 "metadata": {
  "kernelspec": {
   "display_name": "Python 3 (ipykernel)",
   "language": "python",
   "name": "python3"
  },
  "language_info": {
   "codemirror_mode": {
    "name": "ipython",
    "version": 3
   },
   "file_extension": ".py",
   "mimetype": "text/x-python",
   "name": "python",
   "nbconvert_exporter": "python",
   "pygments_lexer": "ipython3",
   "version": "3.11.7"
  }
 },
 "nbformat": 4,
 "nbformat_minor": 5
}
