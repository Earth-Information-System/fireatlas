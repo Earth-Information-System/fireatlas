{
 "cells": [
  {
   "cell_type": "markdown",
   "id": "f14a2dc9-e4ba-46ea-9e35-fca95f4514b0",
   "metadata": {},
   "source": [
    "## Run the fire expansion and merging algorithm\n",
    "\n",
    "`Fire_Forward` is responsible for reading in the preprocessed data created in the `Ingest` notebook"
   ]
  },
  {
   "cell_type": "code",
   "execution_count": 46,
   "id": "2ed6f4c1-f380-4b1d-b478-b3dcd61d705d",
   "metadata": {
    "execution": {
     "iopub.execute_input": "2024-01-26T21:50:25.860493Z",
     "iopub.status.busy": "2024-01-26T21:50:25.860084Z",
     "iopub.status.idle": "2024-01-26T21:50:25.866648Z",
     "shell.execute_reply": "2024-01-26T21:50:25.865873Z",
     "shell.execute_reply.started": "2024-01-26T21:50:25.860454Z"
    },
    "scrolled": true
   },
   "outputs": [],
   "source": [
    "import pandas as pd\n",
    "\n",
    "import FireMain, FireTime, FireObj, FireConsts, FireVector\n",
    "from utils import timed\n",
    "\n",
    "region = [\"CONUS\",]\n",
    "tst = [2023, 8, 28, 'AM']\n",
    "ted = [2023, 9, 6, 'AM']"
   ]
  },
  {
   "cell_type": "code",
   "execution_count": 2,
   "id": "7ccd529a-94e5-42b5-a099-e47fe352f1f9",
   "metadata": {
    "execution": {
     "iopub.execute_input": "2024-01-26T20:53:10.787873Z",
     "iopub.status.busy": "2024-01-26T20:53:10.787405Z",
     "iopub.status.idle": "2024-01-26T20:54:15.436838Z",
     "shell.execute_reply": "2024-01-26T20:54:15.436341Z",
     "shell.execute_reply.started": "2024-01-26T20:53:10.787842Z"
    }
   },
   "outputs": [
    {
     "name": "stderr",
     "output_type": "stream",
     "text": [
      "2024-01-26 15:53:10,846 - FireLog - INFO - func:read_preprocessed took: 5.96 ms\n",
      "2024-01-26 15:53:10,851 - FireLog - INFO - func:read_preprocessed took: 4.17 ms\n",
      "2024-01-26 15:53:10,857 - FireLog - INFO - func:read_preprocessed took: 5.03 ms\n",
      "2024-01-26 15:53:10,861 - FireLog - INFO - func:read_preprocessed took: 4.11 ms\n",
      "2024-01-26 15:53:10,866 - FireLog - INFO - func:read_preprocessed took: 4.40 ms\n",
      "2024-01-26 15:53:10,871 - FireLog - INFO - func:read_preprocessed took: 4.37 ms\n",
      "2024-01-26 15:53:10,876 - FireLog - INFO - func:read_preprocessed took: 4.90 ms\n",
      "2024-01-26 15:53:10,880 - FireLog - INFO - func:read_preprocessed took: 3.16 ms\n",
      "2024-01-26 15:53:10,884 - FireLog - INFO - func:read_preprocessed took: 3.44 ms\n",
      "2024-01-26 15:53:10,886 - FireLog - INFO - func:read_preprocessed took: 2.00 ms\n",
      "2024-01-26 15:53:10,890 - FireLog - INFO - func:read_preprocessed took: 3.41 ms\n",
      "2024-01-26 15:53:10,892 - FireLog - INFO - func:read_preprocessed took: 1.85 ms\n",
      "2024-01-26 15:53:10,896 - FireLog - INFO - func:read_preprocessed took: 3.20 ms\n",
      "2024-01-26 15:53:10,899 - FireLog - INFO - func:read_preprocessed took: 2.09 ms\n",
      "2024-01-26 15:53:10,902 - FireLog - INFO - func:read_preprocessed took: 3.05 ms\n",
      "2024-01-26 15:53:10,905 - FireLog - INFO - func:read_preprocessed took: 2.68 ms\n",
      "2024-01-26 15:53:10,908 - FireLog - INFO - func:read_preprocessed took: 2.76 ms\n",
      "2024-01-26 15:53:10,912 - FireLog - INFO - func:read_preprocessed took: 2.83 ms\n",
      "2024-01-26 15:53:10,915 - FireLog - INFO - func:read_preprocessed took: 3.13 ms\n",
      "2024-01-26 15:53:10,919 - FireLog - INFO - --------------------\n",
      "2024-01-26 15:53:10,919 - FireLog - INFO - Fire tracking at [2023, 8, 28, 'AM']\n",
      "2024-01-26 15:53:12,902 - FireLog - INFO - func:Fire_expand_rtree took: 1.98 sec\n",
      "2024-01-26 15:53:14,137 - FireLog - INFO - func:Fire_merge_rtree took: 1.23 sec\n",
      "2024-01-26 15:53:14,263 - FireLog - INFO - func:invalidate_statfires took: 125.45 ms\n",
      "2024-01-26 15:53:14,264 - FireLog - INFO - fids_expand: 0\n",
      "2024-01-26 15:53:14,264 - FireLog - INFO - fids_new: 507\n",
      "2024-01-26 15:53:14,265 - FireLog - INFO - fids_merged: 50\n",
      "2024-01-26 15:53:14,265 - FireLog - INFO - fids_invalid: 107\n",
      "2024-01-26 15:53:14,265 - FireLog - INFO - func:Fire_Forward_one_step took: 3.35 sec\n",
      "2024-01-26 15:53:14,266 - FireLog - INFO - --------------------\n",
      "2024-01-26 15:53:14,266 - FireLog - INFO - Fire tracking at [2023, 8, 28, 'PM']\n",
      "2024-01-26 15:53:16,382 - FireLog - INFO - func:Fire_expand_rtree took: 2.11 sec\n",
      "2024-01-26 15:53:16,660 - FireLog - INFO - func:Fire_merge_rtree took: 276.32 ms\n",
      "2024-01-26 15:53:16,997 - FireLog - INFO - func:invalidate_statfires took: 336.48 ms\n",
      "2024-01-26 15:53:16,998 - FireLog - INFO - fids_expand: 93\n",
      "2024-01-26 15:53:16,998 - FireLog - INFO - fids_new: 405\n",
      "2024-01-26 15:53:16,999 - FireLog - INFO - fids_merged: 23\n",
      "2024-01-26 15:53:16,999 - FireLog - INFO - fids_invalid: 26\n",
      "2024-01-26 15:53:16,999 - FireLog - INFO - func:Fire_Forward_one_step took: 2.73 sec\n",
      "2024-01-26 15:53:17,000 - FireLog - INFO - --------------------\n",
      "2024-01-26 15:53:17,000 - FireLog - INFO - Fire tracking at [2023, 8, 29, 'AM']\n",
      "2024-01-26 15:53:20,629 - FireLog - INFO - func:Fire_expand_rtree took: 3.63 sec\n",
      "2024-01-26 15:53:21,038 - FireLog - INFO - func:Fire_merge_rtree took: 406.58 ms\n",
      "2024-01-26 15:53:21,338 - FireLog - INFO - func:invalidate_statfires took: 299.15 ms\n",
      "2024-01-26 15:53:21,338 - FireLog - INFO - fids_expand: 265\n",
      "2024-01-26 15:53:21,339 - FireLog - INFO - fids_new: 225\n",
      "2024-01-26 15:53:21,339 - FireLog - INFO - fids_merged: 19\n",
      "2024-01-26 15:53:21,339 - FireLog - INFO - fids_invalid: 31\n",
      "2024-01-26 15:53:21,340 - FireLog - INFO - func:Fire_Forward_one_step took: 4.34 sec\n",
      "2024-01-26 15:53:21,340 - FireLog - INFO - --------------------\n",
      "2024-01-26 15:53:21,340 - FireLog - INFO - Fire tracking at [2023, 8, 29, 'PM']\n",
      "2024-01-26 15:53:23,091 - FireLog - INFO - func:Fire_expand_rtree took: 1.75 sec\n",
      "2024-01-26 15:53:23,470 - FireLog - INFO - func:Fire_merge_rtree took: 375.68 ms\n",
      "2024-01-26 15:53:23,854 - FireLog - INFO - func:invalidate_statfires took: 383.79 ms\n",
      "2024-01-26 15:53:23,854 - FireLog - INFO - fids_expand: 95\n",
      "2024-01-26 15:53:23,855 - FireLog - INFO - fids_new: 291\n",
      "2024-01-26 15:53:23,855 - FireLog - INFO - fids_merged: 14\n",
      "2024-01-26 15:53:23,855 - FireLog - INFO - fids_invalid: 25\n",
      "2024-01-26 15:53:23,856 - FireLog - INFO - func:Fire_Forward_one_step took: 2.52 sec\n",
      "2024-01-26 15:53:23,856 - FireLog - INFO - --------------------\n",
      "2024-01-26 15:53:23,856 - FireLog - INFO - Fire tracking at [2023, 8, 30, 'AM']\n",
      "2024-01-26 15:53:26,244 - FireLog - INFO - func:Fire_expand_rtree took: 2.38 sec\n",
      "2024-01-26 15:53:26,484 - FireLog - INFO - func:Fire_merge_rtree took: 236.81 ms\n",
      "2024-01-26 15:53:26,911 - FireLog - INFO - func:invalidate_statfires took: 426.87 ms\n",
      "2024-01-26 15:53:26,912 - FireLog - INFO - fids_expand: 272\n",
      "2024-01-26 15:53:26,912 - FireLog - INFO - fids_new: 167\n",
      "2024-01-26 15:53:26,913 - FireLog - INFO - fids_merged: 10\n",
      "2024-01-26 15:53:26,913 - FireLog - INFO - fids_invalid: 39\n",
      "2024-01-26 15:53:26,914 - FireLog - INFO - func:Fire_Forward_one_step took: 3.06 sec\n",
      "2024-01-26 15:53:26,914 - FireLog - INFO - --------------------\n",
      "2024-01-26 15:53:26,915 - FireLog - INFO - Fire tracking at [2023, 8, 30, 'PM']\n",
      "2024-01-26 15:53:28,983 - FireLog - INFO - func:Fire_expand_rtree took: 2.06 sec\n",
      "2024-01-26 15:53:29,400 - FireLog - INFO - func:Fire_merge_rtree took: 413.06 ms\n",
      "2024-01-26 15:53:29,901 - FireLog - INFO - func:invalidate_statfires took: 500.73 ms\n",
      "2024-01-26 15:53:29,902 - FireLog - INFO - fids_expand: 119\n",
      "2024-01-26 15:53:29,902 - FireLog - INFO - fids_new: 276\n",
      "2024-01-26 15:53:29,902 - FireLog - INFO - fids_merged: 13\n",
      "2024-01-26 15:53:29,903 - FireLog - INFO - fids_invalid: 24\n",
      "2024-01-26 15:53:29,904 - FireLog - INFO - func:Fire_Forward_one_step took: 2.99 sec\n",
      "2024-01-26 15:53:29,904 - FireLog - INFO - --------------------\n",
      "2024-01-26 15:53:29,904 - FireLog - INFO - Fire tracking at [2023, 8, 31, 'AM']\n",
      "2024-01-26 15:53:32,723 - FireLog - INFO - func:Fire_expand_rtree took: 2.81 sec\n",
      "2024-01-26 15:53:33,108 - FireLog - INFO - func:Fire_merge_rtree took: 381.42 ms\n",
      "2024-01-26 15:53:33,651 - FireLog - INFO - func:invalidate_statfires took: 542.60 ms\n",
      "2024-01-26 15:53:33,652 - FireLog - INFO - fids_expand: 323\n",
      "2024-01-26 15:53:33,652 - FireLog - INFO - fids_new: 155\n",
      "2024-01-26 15:53:33,652 - FireLog - INFO - fids_merged: 8\n",
      "2024-01-26 15:53:33,653 - FireLog - INFO - fids_invalid: 57\n",
      "2024-01-26 15:53:33,654 - FireLog - INFO - func:Fire_Forward_one_step took: 3.75 sec\n",
      "2024-01-26 15:53:33,654 - FireLog - INFO - --------------------\n",
      "2024-01-26 15:53:33,654 - FireLog - INFO - Fire tracking at [2023, 8, 31, 'PM']\n",
      "2024-01-26 15:53:35,550 - FireLog - INFO - func:Fire_expand_rtree took: 1.89 sec\n",
      "2024-01-26 15:53:35,958 - FireLog - INFO - func:Fire_merge_rtree took: 403.09 ms\n",
      "2024-01-26 15:53:36,584 - FireLog - INFO - func:invalidate_statfires took: 626.01 ms\n",
      "2024-01-26 15:53:36,585 - FireLog - INFO - fids_expand: 120\n",
      "2024-01-26 15:53:36,585 - FireLog - INFO - fids_new: 312\n",
      "2024-01-26 15:53:36,585 - FireLog - INFO - fids_merged: 12\n",
      "2024-01-26 15:53:36,586 - FireLog - INFO - fids_invalid: 32\n",
      "2024-01-26 15:53:36,586 - FireLog - INFO - func:Fire_Forward_one_step took: 2.93 sec\n",
      "2024-01-26 15:53:36,587 - FireLog - INFO - --------------------\n",
      "2024-01-26 15:53:36,587 - FireLog - INFO - Fire tracking at [2023, 9, 1, 'AM']\n",
      "2024-01-26 15:53:38,979 - FireLog - INFO - func:Fire_expand_rtree took: 2.39 sec\n",
      "2024-01-26 15:53:39,193 - FireLog - INFO - func:Fire_merge_rtree took: 209.35 ms\n",
      "2024-01-26 15:53:39,859 - FireLog - INFO - func:invalidate_statfires took: 665.55 ms\n",
      "2024-01-26 15:53:39,860 - FireLog - INFO - fids_expand: 298\n",
      "2024-01-26 15:53:39,860 - FireLog - INFO - fids_new: 170\n",
      "2024-01-26 15:53:39,860 - FireLog - INFO - fids_merged: 3\n",
      "2024-01-26 15:53:39,860 - FireLog - INFO - fids_invalid: 46\n",
      "2024-01-26 15:53:39,861 - FireLog - INFO - func:Fire_Forward_one_step took: 3.27 sec\n",
      "2024-01-26 15:53:39,861 - FireLog - INFO - --------------------\n",
      "2024-01-26 15:53:39,862 - FireLog - INFO - Fire tracking at [2023, 9, 1, 'PM']\n",
      "2024-01-26 15:53:41,290 - FireLog - INFO - func:Fire_expand_rtree took: 1.42 sec\n",
      "2024-01-26 15:53:41,626 - FireLog - INFO - func:Fire_merge_rtree took: 331.02 ms\n",
      "2024-01-26 15:53:42,335 - FireLog - INFO - func:invalidate_statfires took: 708.73 ms\n",
      "2024-01-26 15:53:42,336 - FireLog - INFO - fids_expand: 98\n",
      "2024-01-26 15:53:42,336 - FireLog - INFO - fids_new: 215\n",
      "2024-01-26 15:53:42,336 - FireLog - INFO - fids_merged: 8\n",
      "2024-01-26 15:53:42,336 - FireLog - INFO - fids_invalid: 16\n",
      "2024-01-26 15:53:42,337 - FireLog - INFO - func:Fire_Forward_one_step took: 2.48 sec\n",
      "2024-01-26 15:53:42,338 - FireLog - INFO - --------------------\n",
      "2024-01-26 15:53:42,338 - FireLog - INFO - Fire tracking at [2023, 9, 2, 'AM']\n",
      "2024-01-26 15:53:44,788 - FireLog - INFO - func:Fire_expand_rtree took: 2.44 sec\n",
      "2024-01-26 15:53:45,058 - FireLog - INFO - func:Fire_merge_rtree took: 265.16 ms\n",
      "2024-01-26 15:53:45,830 - FireLog - INFO - func:invalidate_statfires took: 771.25 ms\n",
      "2024-01-26 15:53:45,830 - FireLog - INFO - fids_expand: 282\n",
      "2024-01-26 15:53:45,830 - FireLog - INFO - fids_new: 151\n",
      "2024-01-26 15:53:45,831 - FireLog - INFO - fids_merged: 6\n",
      "2024-01-26 15:53:45,831 - FireLog - INFO - fids_invalid: 48\n",
      "2024-01-26 15:53:45,832 - FireLog - INFO - func:Fire_Forward_one_step took: 3.49 sec\n",
      "2024-01-26 15:53:45,832 - FireLog - INFO - --------------------\n",
      "2024-01-26 15:53:45,832 - FireLog - INFO - Fire tracking at [2023, 9, 2, 'PM']\n",
      "2024-01-26 15:53:47,173 - FireLog - INFO - func:Fire_expand_rtree took: 1.34 sec\n",
      "2024-01-26 15:53:47,602 - FireLog - INFO - func:Fire_merge_rtree took: 422.84 ms\n",
      "2024-01-26 15:53:48,393 - FireLog - INFO - func:invalidate_statfires took: 790.00 ms\n",
      "2024-01-26 15:53:48,393 - FireLog - INFO - fids_expand: 79\n",
      "2024-01-26 15:53:48,394 - FireLog - INFO - fids_new: 202\n",
      "2024-01-26 15:53:48,394 - FireLog - INFO - fids_merged: 9\n",
      "2024-01-26 15:53:48,394 - FireLog - INFO - fids_invalid: 12\n",
      "2024-01-26 15:53:48,395 - FireLog - INFO - func:Fire_Forward_one_step took: 2.56 sec\n",
      "2024-01-26 15:53:48,396 - FireLog - INFO - --------------------\n",
      "2024-01-26 15:53:48,396 - FireLog - INFO - Fire tracking at [2023, 9, 3, 'AM']\n",
      "2024-01-26 15:53:50,767 - FireLog - INFO - func:Fire_expand_rtree took: 2.36 sec\n",
      "2024-01-26 15:53:51,440 - FireLog - INFO - func:Fire_merge_rtree took: 666.84 ms\n",
      "2024-01-26 15:53:52,179 - FireLog - INFO - func:invalidate_statfires took: 738.70 ms\n",
      "2024-01-26 15:53:52,180 - FireLog - INFO - fids_expand: 286\n",
      "2024-01-26 15:53:52,180 - FireLog - INFO - fids_new: 148\n",
      "2024-01-26 15:53:52,180 - FireLog - INFO - fids_merged: 8\n",
      "2024-01-26 15:53:52,181 - FireLog - INFO - fids_invalid: 49\n",
      "2024-01-26 15:53:52,181 - FireLog - INFO - func:Fire_Forward_one_step took: 3.79 sec\n",
      "2024-01-26 15:53:52,182 - FireLog - INFO - --------------------\n",
      "2024-01-26 15:53:52,182 - FireLog - INFO - Fire tracking at [2023, 9, 3, 'PM']\n",
      "2024-01-26 15:53:53,516 - FireLog - INFO - func:Fire_expand_rtree took: 1.33 sec\n",
      "2024-01-26 15:53:54,266 - FireLog - INFO - func:Fire_merge_rtree took: 743.35 ms\n",
      "2024-01-26 15:53:55,013 - FireLog - INFO - func:invalidate_statfires took: 746.67 ms\n",
      "2024-01-26 15:53:55,013 - FireLog - INFO - fids_expand: 84\n",
      "2024-01-26 15:53:55,014 - FireLog - INFO - fids_new: 192\n",
      "2024-01-26 15:53:55,014 - FireLog - INFO - fids_merged: 7\n",
      "2024-01-26 15:53:55,015 - FireLog - INFO - fids_invalid: 13\n",
      "2024-01-26 15:53:55,015 - FireLog - INFO - func:Fire_Forward_one_step took: 2.83 sec\n",
      "2024-01-26 15:53:55,016 - FireLog - INFO - --------------------\n",
      "2024-01-26 15:53:55,016 - FireLog - INFO - Fire tracking at [2023, 9, 4, 'AM']\n",
      "2024-01-26 15:53:57,039 - FireLog - INFO - func:Fire_expand_rtree took: 2.02 sec\n",
      "2024-01-26 15:53:57,901 - FireLog - INFO - func:Fire_merge_rtree took: 855.42 ms\n",
      "2024-01-26 15:53:58,606 - FireLog - INFO - func:invalidate_statfires took: 704.30 ms\n",
      "2024-01-26 15:53:58,606 - FireLog - INFO - fids_expand: 256\n",
      "2024-01-26 15:53:58,607 - FireLog - INFO - fids_new: 103\n",
      "2024-01-26 15:53:58,607 - FireLog - INFO - fids_merged: 2\n",
      "2024-01-26 15:53:58,607 - FireLog - INFO - fids_invalid: 44\n",
      "2024-01-26 15:53:58,608 - FireLog - INFO - func:Fire_Forward_one_step took: 3.59 sec\n",
      "2024-01-26 15:53:58,609 - FireLog - INFO - --------------------\n",
      "2024-01-26 15:53:58,609 - FireLog - INFO - Fire tracking at [2023, 9, 4, 'PM']\n",
      "2024-01-26 15:54:00,243 - FireLog - INFO - func:Fire_expand_rtree took: 1.63 sec\n",
      "2024-01-26 15:54:01,277 - FireLog - INFO - func:Fire_merge_rtree took: 1.03 sec\n",
      "2024-01-26 15:54:02,030 - FireLog - INFO - func:invalidate_statfires took: 752.35 ms\n",
      "2024-01-26 15:54:02,030 - FireLog - INFO - fids_expand: 90\n",
      "2024-01-26 15:54:02,030 - FireLog - INFO - fids_new: 275\n",
      "2024-01-26 15:54:02,031 - FireLog - INFO - fids_merged: 14\n",
      "2024-01-26 15:54:02,031 - FireLog - INFO - fids_invalid: 17\n",
      "2024-01-26 15:54:02,032 - FireLog - INFO - func:Fire_Forward_one_step took: 3.42 sec\n",
      "2024-01-26 15:54:02,032 - FireLog - INFO - --------------------\n",
      "2024-01-26 15:54:02,032 - FireLog - INFO - Fire tracking at [2023, 9, 5, 'AM']\n",
      "2024-01-26 15:54:04,296 - FireLog - INFO - func:Fire_expand_rtree took: 2.26 sec\n",
      "2024-01-26 15:54:05,566 - FireLog - INFO - func:Fire_merge_rtree took: 1.26 sec\n",
      "2024-01-26 15:54:06,350 - FireLog - INFO - func:invalidate_statfires took: 783.70 ms\n",
      "2024-01-26 15:54:06,351 - FireLog - INFO - fids_expand: 260\n",
      "2024-01-26 15:54:06,351 - FireLog - INFO - fids_new: 126\n",
      "2024-01-26 15:54:06,351 - FireLog - INFO - fids_merged: 9\n",
      "2024-01-26 15:54:06,352 - FireLog - INFO - fids_invalid: 73\n",
      "2024-01-26 15:54:06,353 - FireLog - INFO - func:Fire_Forward_one_step took: 4.32 sec\n",
      "2024-01-26 15:54:06,353 - FireLog - INFO - --------------------\n",
      "2024-01-26 15:54:06,354 - FireLog - INFO - Fire tracking at [2023, 9, 5, 'PM']\n",
      "2024-01-26 15:54:08,400 - FireLog - INFO - func:Fire_expand_rtree took: 2.04 sec\n",
      "2024-01-26 15:54:09,862 - FireLog - INFO - func:Fire_merge_rtree took: 1.45 sec\n",
      "2024-01-26 15:54:10,658 - FireLog - INFO - func:invalidate_statfires took: 795.99 ms\n",
      "2024-01-26 15:54:10,659 - FireLog - INFO - fids_expand: 119\n",
      "2024-01-26 15:54:10,659 - FireLog - INFO - fids_new: 293\n",
      "2024-01-26 15:54:10,660 - FireLog - INFO - fids_merged: 9\n",
      "2024-01-26 15:54:10,660 - FireLog - INFO - fids_invalid: 18\n",
      "2024-01-26 15:54:10,661 - FireLog - INFO - func:Fire_Forward_one_step took: 4.31 sec\n",
      "2024-01-26 15:54:10,662 - FireLog - INFO - --------------------\n",
      "2024-01-26 15:54:10,662 - FireLog - INFO - Fire tracking at [2023, 9, 6, 'AM']\n",
      "2024-01-26 15:54:13,009 - FireLog - INFO - func:Fire_expand_rtree took: 2.34 sec\n",
      "2024-01-26 15:54:14,701 - FireLog - INFO - func:Fire_merge_rtree took: 1.68 sec\n",
      "2024-01-26 15:54:15,431 - FireLog - INFO - func:invalidate_statfires took: 729.61 ms\n",
      "2024-01-26 15:54:15,432 - FireLog - INFO - fids_expand: 267\n",
      "2024-01-26 15:54:15,432 - FireLog - INFO - fids_new: 129\n",
      "2024-01-26 15:54:15,432 - FireLog - INFO - fids_merged: 11\n",
      "2024-01-26 15:54:15,433 - FireLog - INFO - fids_invalid: 63\n",
      "2024-01-26 15:54:15,433 - FireLog - INFO - func:Fire_Forward_one_step took: 4.77 sec\n",
      "2024-01-26 15:54:15,434 - FireLog - INFO - func:Fire_Forward took: 1.08 min\n"
     ]
    }
   ],
   "source": [
    "allfires, allpixels = FireMain.Fire_Forward(tst=tst, ted=ted, restart=False, region=region)"
   ]
  },
  {
   "cell_type": "markdown",
   "id": "f88b111a-a729-45a6-95b2-65a2db573574",
   "metadata": {},
   "source": [
    "## Serialize to disk\n",
    "\n",
    "- allpixels -> one file for each t\n",
    "- fire attributes -> one file to hold all the metadata"
   ]
  },
  {
   "cell_type": "code",
   "execution_count": 3,
   "id": "228d5db2-cfa1-4ba2-9521-d23c6d2e08e3",
   "metadata": {
    "execution": {
     "iopub.execute_input": "2024-01-26T20:54:31.036177Z",
     "iopub.status.busy": "2024-01-26T20:54:31.035537Z",
     "iopub.status.idle": "2024-01-26T20:54:31.188774Z",
     "shell.execute_reply": "2024-01-26T20:54:31.188346Z",
     "shell.execute_reply.started": "2024-01-26T20:54:31.036137Z"
    }
   },
   "outputs": [
    {
     "name": "stdout",
     "output_type": "stream",
     "text": [
      "CPU times: user 136 ms, sys: 11.9 ms, total: 148 ms\n",
      "Wall time: 148 ms\n"
     ]
    }
   ],
   "source": [
    "%%time\n",
    "for t in FireTime.t_generator(tst, ted):\n",
    "    pixels = allpixels[allpixels[\"t\"] == FireTime.t2dt(t)]\n",
    "    filepath = f\"out/{region[0]}/{t[0]}{t[1]:02}{t[2]:02}_{t[3]}.txt\"\n",
    "    pixels.to_csv(filepath)"
   ]
  },
  {
   "cell_type": "code",
   "execution_count": 4,
   "id": "e43c0a92-8cd2-4a4c-8270-28b59e9ffdd1",
   "metadata": {
    "execution": {
     "iopub.execute_input": "2024-01-26T20:54:39.310667Z",
     "iopub.status.busy": "2024-01-26T20:54:39.310319Z",
     "iopub.status.idle": "2024-01-26T20:54:39.356039Z",
     "shell.execute_reply": "2024-01-26T20:54:39.355590Z",
     "shell.execute_reply.started": "2024-01-26T20:54:39.310638Z"
    }
   },
   "outputs": [
    {
     "name": "stdout",
     "output_type": "stream",
     "text": [
      "CPU times: user 42.1 ms, sys: 10 µs, total: 42.1 ms\n",
      "Wall time: 40.9 ms\n"
     ]
    }
   ],
   "source": [
    "%%time\n",
    "fires_df = pd.DataFrame.from_dict(\n",
    "    {\n",
    "        f.fireID: {\n",
    "            \"t_st\": FireTime.t2dt(f.t_st), \n",
    "            \"t_ed\": FireTime.t2dt(f.t_ed), \n",
    "            \"ftype\": f.ftype\n",
    "        } for f in allfires.fires.values()\n",
    "    }, orient=\"index\"\n",
    ")\n",
    "fires_df.index.name = \"fireID\"\n",
    "fires_df.to_csv(f\"out/{region[0]}/fire_metadata.txt\")"
   ]
  },
  {
   "cell_type": "markdown",
   "id": "fd6f2be6-286a-4868-adbe-a90aa5dfb4fd",
   "metadata": {},
   "source": [
    "## Read from disk"
   ]
  },
  {
   "cell_type": "code",
   "execution_count": 41,
   "id": "bb9d9818-89b0-4534-875d-8f5295eba2a0",
   "metadata": {
    "execution": {
     "iopub.execute_input": "2024-01-26T21:22:52.303751Z",
     "iopub.status.busy": "2024-01-26T21:22:52.303414Z",
     "iopub.status.idle": "2024-01-26T21:22:52.397145Z",
     "shell.execute_reply": "2024-01-26T21:22:52.396634Z",
     "shell.execute_reply.started": "2024-01-26T21:22:52.303728Z"
    }
   },
   "outputs": [
    {
     "name": "stdout",
     "output_type": "stream",
     "text": [
      "CPU times: user 76.8 ms, sys: 12 ms, total: 88.7 ms\n",
      "Wall time: 89.4 ms\n"
     ]
    }
   ],
   "source": [
    "%%time\n",
    "allpixels = pd.concat([\n",
    "    pd.read_csv(f\"out/{region[0]}/{t[0]}{t[1]:02}{t[2]:02}_{t[3]}.txt\", index_col=\"uuid\", parse_dates=[\"t\"])\n",
    "    for t in FireTime.t_generator(tst, ted)\n",
    "])"
   ]
  },
  {
   "cell_type": "code",
   "execution_count": 6,
   "id": "713e07d4-3f8f-4ff3-a67b-88883a39b6c4",
   "metadata": {
    "execution": {
     "iopub.execute_input": "2024-01-26T20:54:50.069852Z",
     "iopub.status.busy": "2024-01-26T20:54:50.069506Z",
     "iopub.status.idle": "2024-01-26T20:54:50.087450Z",
     "shell.execute_reply": "2024-01-26T20:54:50.086991Z",
     "shell.execute_reply.started": "2024-01-26T20:54:50.069823Z"
    }
   },
   "outputs": [
    {
     "name": "stdout",
     "output_type": "stream",
     "text": [
      "CPU times: user 10.7 ms, sys: 4.08 ms, total: 14.8 ms\n",
      "Wall time: 13.7 ms\n"
     ]
    }
   ],
   "source": [
    "%%time\n",
    "fires_df = pd.read_csv(f\"out/{region[0]}/fire_metadata.txt\", index_col=\"fireID\", parse_dates=[\"t_st\", \"t_ed\"])"
   ]
  },
  {
   "cell_type": "markdown",
   "id": "ea5af427-e791-48de-b94c-8b555970d9d1",
   "metadata": {},
   "source": [
    "## Rehydrate a particular allfires"
   ]
  },
  {
   "cell_type": "code",
   "execution_count": 58,
   "id": "3ad32d44-96ee-4cfb-9443-cbdcdb4d96db",
   "metadata": {
    "execution": {
     "iopub.execute_input": "2024-01-26T21:52:52.098097Z",
     "iopub.status.busy": "2024-01-26T21:52:52.097657Z",
     "iopub.status.idle": "2024-01-26T21:52:52.106970Z",
     "shell.execute_reply": "2024-01-26T21:52:52.105861Z",
     "shell.execute_reply.started": "2024-01-26T21:52:52.098065Z"
    }
   },
   "outputs": [],
   "source": [
    "@timed\n",
    "def rehydrate_allfires(t, allpixels, fires_df, activeonly):\n",
    "    has_started = fires_df.t_st <= FireTime.t2dt(t)\n",
    "    if activeonly:\n",
    "        # this does not currently include sleeper fires\n",
    "        is_active = (FireTime.t2dt(t) - fires_df.t_ed).dt.days <= FireConsts.maxoffdays\n",
    "        fids = fires_df.index[(has_started & is_active)]\n",
    "    else:\n",
    "        fids = fires_df.index[has_started]\n",
    "    a = FireObj.Allfires(t)\n",
    "    for fid in fids:\n",
    "        f = FireObj.Fire(fid, t, allpixels)\n",
    "        metadata = fires_df.loc[fid]\n",
    "        f.t_st = FireTime.dt2t(metadata.t_st)\n",
    "        f.t_ed = FireTime.dt2t(metadata.t_ed)\n",
    "        f.ftype = metadata.ftype\n",
    "        if f.isactive:\n",
    "            f.hull = FireVector.cal_hull(f.locs, sensor=f.sensor)\n",
    "        a.fires[fid] = f\n",
    "        if f.isignition:\n",
    "            a.fids_new.append(fid)\n",
    "        else:\n",
    "            a.fids_expanded.append(fid)\n",
    "    return a"
   ]
  },
  {
   "cell_type": "markdown",
   "id": "cab20ea3-0592-4796-b604-6e5dcb70c26a",
   "metadata": {},
   "source": [
    "For instance let's rehydrate just the last allfires object. \n",
    "\n",
    "This should be equivalent to the allfires object that we generated at the top of this notebook."
   ]
  },
  {
   "cell_type": "code",
   "execution_count": 59,
   "id": "5755e2d2-19b1-48f5-a3e6-8738c29f0ac8",
   "metadata": {
    "execution": {
     "iopub.execute_input": "2024-01-26T21:52:53.149999Z",
     "iopub.status.busy": "2024-01-26T21:52:53.149848Z",
     "iopub.status.idle": "2024-01-26T21:52:56.551622Z",
     "shell.execute_reply": "2024-01-26T21:52:56.550810Z",
     "shell.execute_reply.started": "2024-01-26T21:52:53.149987Z"
    }
   },
   "outputs": [
    {
     "name": "stderr",
     "output_type": "stream",
     "text": [
      "2024-01-26 16:52:56,547 - FireLog - INFO - func:rehydrate_allfires took: 3.40 sec\n"
     ]
    },
    {
     "data": {
      "text/plain": [
       "<Allfires at t=[2023, 9, 6, 'AM'] with n_fires=4342>"
      ]
     },
     "execution_count": 59,
     "metadata": {},
     "output_type": "execute_result"
    }
   ],
   "source": [
    "a = rehydrate_allfires(ted, allpixels, fires_df, activeonly=False)\n",
    "a"
   ]
  },
  {
   "cell_type": "code",
   "execution_count": 94,
   "id": "482241f7-c94f-47fb-8e24-253a07dc6338",
   "metadata": {
    "execution": {
     "iopub.execute_input": "2024-01-26T21:58:19.625222Z",
     "iopub.status.busy": "2024-01-26T21:58:19.624729Z",
     "iopub.status.idle": "2024-01-26T21:58:19.661174Z",
     "shell.execute_reply": "2024-01-26T21:58:19.660792Z",
     "shell.execute_reply.started": "2024-01-26T21:58:19.625190Z"
    }
   },
   "outputs": [
    {
     "data": {
      "text/plain": [
       "217"
      ]
     },
     "metadata": {},
     "output_type": "display_data"
    },
    {
     "data": {
      "text/plain": [
       "38.86283884403084"
      ]
     },
     "metadata": {},
     "output_type": "display_data"
    },
    {
     "data": {
      "image/svg+xml": [
       "<svg xmlns=\"http://www.w3.org/2000/svg\" xmlns:xlink=\"http://www.w3.org/1999/xlink\" width=\"300\" height=\"300\" viewBox=\"-1878941.5550067325 89291.28564916023 10033.975324908504 8138.809438197073\" preserveAspectRatio=\"xMinYMin meet\"><g transform=\"matrix(1,0,0,-1,0,186721.38073651755)\"><path fill-rule=\"evenodd\" fill=\"#66cc99\" stroke=\"#555555\" stroke-width=\"66.89316883272336\" opacity=\"0.6\" d=\"M -1877388.310306147,95856.34283135811 L -1877384.3723539554,95907.9505562946 L -1877381.704673817,95928.23727605434 L -1877376.842341326,95948.1125179064 L -1877369.8432608568,95967.33959226828 L -1877282.4335801448,96171.96735408615 L -1877274.0913391174,96189.04456215622 L -1877264.0631529982,96205.1895150515 L -1877252.4520595607,96220.23632634207 L -1877239.3773606603,96234.03039280164 L -1877224.97339643,96246.42998292726 L -1877209.3881649608,96257.30769320457 L -1877192.7818016473,96266.55175715554 L -1875916.971011588,96894.26530281495 L -1875757.1684160447,97002.88982379509 L -1875740.202896,97013.15420614544 L -1875722.2482630385,97021.5695237652 L -1875703.5053212214,97028.04166000166 L -1875684.1836910318,97032.49823068285 L -1875664.4994649854,97034.88939365975 L -1875323.4187319474,97058.11253073845 L -1875305.2305678972,97058.46637161994 L -1875287.0937188054,97057.05597454256 L -1875269.1789113386,97053.89461592434 L -1875251.6547820296,97049.0120544193 L -1875234.6862898609,97042.45425079188 L -1875218.433163465,97034.28293527669 L -1874892.1171264383,96849.87502462007 L -1874474.4734252957,96676.71028359773 L -1873893.59370327,96751.50981215763 L -1873487.1851957715,96851.44205738208 L -1873469.4583553318,96854.90506089183 L -1873451.4805582662,96856.64634718222 L -1873433.4186299734,96856.64975794534 L -1873415.4401765508,96854.91526153094 L -1873397.7120294878,96851.4589532401 L -1873380.3986975509,96846.31290596853 L -1873363.6608402187,96839.52487258533 L -1873347.65377684,96831.15784280915 L -1873332.5260453436,96821.2894586935 L -1873318.4180238766,96810.01129414553 L -1873305.4606281628,96797.42800516373 L -1873293.7740966666,96783.6563586801 L -1873283.4668748374,96768.82414901856 L -1873274.6346087873,96753.06901202448 L -1873267.359257741,96736.53714786959 L -1873261.7083334932,96719.38196438387 L -1873075.3284694988,96046.00259480164 L -1872522.234526545,95507.39427718229 L -1872220.2425314991,95336.57927554139 L -1872140.774687857,95305.63888993704 L -1870944.6877776193,95268.14842960493 L -1870357.4317648658,95439.46414094683 L -1870340.0268503355,95443.65135319036 L -1870322.3019453317,95446.15964718751 L -1870304.4186197126,95446.96615879842 L -1870286.5398874069,95446.06353633534 L -1870268.8287204725,95443.46000757627 L -1870251.44656354,95439.17930476542 L -1870234.5518621777,95433.2604482839 L -1870218.2986185933,95425.75739096272 L -1870202.8349878418,95416.73852628055 L -1870188.3019273293,95406.28606492856 L -1870174.8319119285,95394.49528542605 L -1869479.2203697688,94724.32145991929 L -1869466.3417760553,94710.60276136154 L -1869454.9030344726,94695.66234446088 L -1869445.019345327,94679.65067512162 L -1869436.7902478904,94662.72900790062 L -1869430.298617935,94645.06776200226 L -1869425.6098330861,94626.84480497552 L -1869283.0065367413,93929.23794162592 L -1869280.1859653515,93910.81458747432 L -1869279.2083975612,93892.20222700134 L -1869280.0834926262,93873.58476719103 L -1869282.802603814,93855.14616541355 L -1869287.338863843,93837.06861175962 L -1869293.647450354,93819.53072883737 L -1869301.6660287967,93802.70580681923 L -1869311.3153683518,93786.7600911779 L -1869322.5001248016,93771.85114003056 L -1869335.1097826199,93758.12626732189 L -1869349.0197469627,93745.72108722877 L -1869896.0293501427,93304.68106280534 L -1869910.2654678884,93294.2684695164 L -1869925.4170057743,93285.23962423227 L -1869941.3498915087,93277.67442101965 L -1869957.9231388418,93271.63980253079 L -1869974.9900951192,93267.18916764416 L -1869992.3997389756,93264.36189895068 L -1871117.9225446517,93135.5619934592 L -1871125.5366981463,93134.84764260578 L -1871418.4637321194,93113.38172634876 L -1872138.6172307348,92715.05770306865 L -1872413.7286246137,92035.97889183498 L -1872394.1465816188,91684.14892009976 L -1872394.0344014454,91665.57111741905 L -1872410.9199557207,91277.85359671555 L -1872345.830108848,91037.61542362129 L -1872341.824863112,91019.2173754034 L -1872339.6850359933,91000.51038976875 L -1872339.432206394,90981.68311570089 L -1872341.068923952,90962.92541522169 L -1872344.5786833307,90944.42644874415 L -1872349.926090664,90926.37276750061 L -1872357.0572204841,90908.94643228278 L -1872365.9001595268,90892.32317746553 L -1872376.365731936,90876.67063882863 L -1872388.3483985492,90862.14666304829 L -1872401.7273211984,90848.89771590586 L -1872416.3675812914,90837.05740526634 L -1872432.121540388,90826.74513372142 L -1872448.8303290461,90818.06489448427 L -1872466.325448927,90811.10422267899 L -1872484.4304720033,90805.93331260017 L -1873148.7826256892,90651.80283670092 L -1874582.8903829243,90238.13966793111 L -1875058.3776078883,89811.67199447093 L -1875072.455035767,89800.22510776627 L -1875087.5729484903,89790.19246575105 L -1875103.589781035,89781.66801467465 L -1875120.3555508396,89774.73157799788 L -1875137.7132622506,89769.4481089214 L -1875155.5003766385,89765.86708216008 L -1875821.5569177398,89665.01969981252 L -1875836.3944204953,89663.37422314167 L -1875851.315801527,89662.91436489759 L -1876102.6392744274,89665.17904412546 L -1876120.8157987108,89666.22682593788 L -1876138.805008771,89669.03257061123 L -1876156.437286597,89673.56982313012 L -1876173.546379648,89679.79580230832 L -1876189.9709684264,89687.65180416731 L -1876205.5561875405,89697.06375544866 L -1876220.1550859092,89707.94291204156 L -1876233.630012347,89720.18669573993 L -1876245.8539134585,89733.67966143948 L -1876256.71153161,89748.29458565515 L -1876266.1004916786,89763.89366609545 L -1876273.932266335,89780.32982098297 L -1876367.7670344843,90004.70651659327 L -1876373.9384340153,90021.72964583914 L -1876378.4390142506,90039.26868455393 L -1876381.2268020217,90057.1600607122 L -1876382.2757979508,90075.23691633019 L -1876381.5762189256,90093.33066361152 L -1876379.1345893377,90111.27255722531 L -1876374.9736802354,90128.89526805353 L -1876369.1322969568,90146.03444373049 L -1876361.664917225,90162.53024142068 L -1876352.64118308,90178.22881853995 L -1876169.3115234685,90464.24983030112 L -1876048.916000666,90686.05602891532 L -1876969.3943894573,92008.4611160953 L -1876978.4751747062,92022.85964609202 L -1876986.2126594852,92038.02241813722 L -1876992.5430669303,92053.8244518159 L -1877130.9810195228,92450.70394922594 L -1877734.8149809267,92849.7089875834 L -1877995.3367598762,92991.19646661158 L -1878375.5743057353,93132.7984312712 L -1878392.899591541,93140.2631415606 L -1878409.3870876562,93149.43101480372 L -1878424.8698908251,93160.2092444348 L -1878439.1912683193,93172.48872221788 L -1878452.206244545,93186.14514275164 L -1878463.7830686355,93201.04026181552 L -1878473.8045481672,93217.02329581878 L -1878482.1692355005,93233.93244818576 L -1878488.7924547365,93251.59654722596 L -1878493.6071588937,93269.83677890844 L -1878496.5646086247,93288.46849699994 L -1878568.941763727,93961.73131504362 L -1878569.9262909952,93987.56872743627 L -1878557.018058161,94404.93157191426 L -1878555.515571698,94423.51774201466 L -1878552.1744144605,94441.862764579 L -1878547.0276312416,94459.78520322635 L -1878540.1261248793,94477.10780102534 L -1878531.5381528176,94493.65923360495 L -1878521.3486520227,94509.27580359082 L -1878509.6583989393,94523.80305960898 L -1878069.7488831654,95017.99387724967 L -1878056.9976555924,95030.98909245482 L -1878043.0461893075,95042.68635757745 L -1878028.0260252026,95052.97538537931 L -1878012.078780348,95061.7591661365 L -1877811.2897958045,95159.96510092705 L -1877388.310306147,95856.34283135811 z\" /></g></svg>"
      ],
      "text/plain": [
       "<POLYGON ((-1877388.31 95856.343, -1877384.372 95907.951, -1877381.705 95928...>"
      ]
     },
     "metadata": {},
     "output_type": "display_data"
    },
    {
     "data": {
      "text/plain": [
       "305"
      ]
     },
     "metadata": {},
     "output_type": "display_data"
    },
    {
     "data": {
      "text/plain": [
       "159.38362074239555"
      ]
     },
     "metadata": {},
     "output_type": "display_data"
    },
    {
     "data": {
      "image/svg+xml": [
       "<svg xmlns=\"http://www.w3.org/2000/svg\" xmlns:xlink=\"http://www.w3.org/1999/xlink\" width=\"300\" height=\"300\" viewBox=\"-1952491.9290453775 -77860.7580972586 26093.970536390552 36551.94422329949\" preserveAspectRatio=\"xMinYMin meet\"><g transform=\"matrix(1,0,0,-1,0,-119169.57197121771)\"><g><path fill-rule=\"evenodd\" fill=\"#66cc99\" stroke=\"#555555\" stroke-width=\"243.67962815532994\" opacity=\"0.6\" d=\"M -1936666.0207978622,-48441.619808829775 L -1936369.0558312188,-47208.16970578431 L -1936364.2114211083,-47191.486566959415 L -1936357.8437366157,-47175.323398192944 L -1936350.0074405132,-47159.81895064504 L -1936340.7698027275,-47145.10632074722 L -1936330.2101228673,-47131.3118076489 L -1936318.4190494837,-47118.55382901456 L -1936305.4978019067,-47106.941904478816 L -1935537.1948960645,-46478.321295079564 L -1935454.170435928,-46181.82246125864 L -1935448.314484772,-46164.28897372629 L -1935440.7604757925,-46147.41733191756 L -1935431.5818332254,-46131.37152655866 L -1935420.867772589,-46116.30752132541 L -1935408.722433516,-46102.371736891386 L -1935395.2638675275,-46089.699627733135 L -1935380.6228905828,-46078.41436552578 L -1935364.9418115611,-46068.62564192624 L -1935348.373049034,-46060.428602380955 L -1935331.07764977,-46053.9029213213 L -1935313.2237233773,-46049.1120277359 L -1935294.984808293,-46046.10248864693 L -1935276.538185007,-46044.903556483194 L -1935258.0631529132,-46045.526884749335 L -1934890.152291276,-46076.1489659335 L -1934588.541175089,-46056.415911524855 L -1933467.7479068683,-45924.11659049479 L -1932787.0117799516,-45588.45935897598 L -1932771.48780339,-45581.65882971064 L -1932589.377212475,-45511.51150462328 L -1932572.396207248,-45505.885060247005 L -1932554.9562946623,-45501.902490242945 L -1932537.2162223402,-45499.60004614138 L -1932519.3374701221,-45498.998686047744 L -1932501.482780189,-45500.1038838705 L -1932222.4419402268,-45530.7935536049 L -1931125.9176659894,-44309.84581342697 L -1930881.4568091328,-43836.37558790789 L -1930871.5531139611,-43819.43283250903 L -1930859.9327562042,-43803.61804752267 L -1930846.723038012,-43789.10448545671 L -1930832.068673132,-43776.051143795376 L -1930816.1302015572,-43764.601023166346 L -1930799.082230794,-43754.879560754904 L -1930781.1115230203,-43746.99325612743 L -1929969.7593374162,-43440.50517662574 L -1929965.0788138171,-43435.14645415249 L -1929947.170032708,-43417.24228239306 L -1929498.2160784553,-43025.311539128284 L -1929392.4927054397,-42841.74902028655 L -1929382.9962319175,-42826.9178638931 L -1929372.1501652163,-42813.04310096065 L -1929360.0501886485,-42800.247133768404 L -1929346.803047441,-42788.64284752794 L -1929332.5256070336,-42778.332614517 L -1929317.3438221011,-42769.40739095775 L -1929301.3916253876,-42761.94591460675 L -1929284.8097461616,-42756.01401013546 L -1929005.6545730599,-42670.709705633446 L -1928989.3042464138,-42666.50802579682 L -1928972.6422753183,-42663.79398561731 L -1928955.8037267975,-42662.589585933165 L -1928938.9250992662,-42662.904589975886 L -1928841.1436662478,-42669.14106338766 L -1928823.5778172645,-42671.096117840585 L -1928806.2740935497,-42674.69645588429 L -1928789.386247552,-42679.910086671145 L -1928401.7261586406,-42819.91965327814 L -1928384.0615141084,-42827.34036071302 L -1928367.2464058672,-42836.525059952044 L -1928351.4564196696,-42847.377843058755 L -1928336.8564367988,-42859.7853837276 L -1928323.5989123532,-42873.61812065326 L -1927971.421230907,-43280.83041175392 L -1927960.0045966387,-43295.431550550085 L -1927950.0853207316,-43311.088522084705 L -1927941.7603303762,-43327.64833270383 L -1927935.1109740434,-43344.94916657159 L -1927930.20222658,-43362.821966869786 L -1927927.0820542993,-43381.09208775336 L -1927925.7809462757,-43399.58100091964 L -1927926.3116164152,-43418.10804011545 L -1927955.7156065619,-43793.925474373216 L -1927955.8211746286,-43795.2173227065 L -1927987.8718000795,-44171.40225490062 L -1927990.676588837,-44191.45018609245 L -1928063.2844568065,-44562.954272370705 L -1928041.9582210488,-45307.020537818236 L -1928031.3752563994,-45384.09997171347 L -1927971.6345074247,-45615.3989794873 L -1927758.9845979377,-46354.4383846626 L -1927754.6465139734,-46373.0295192854 L -1927752.221341418,-46391.96540577436 L -1927751.734220961,-46411.0497441885 L -1927753.1902023638,-46430.08469565154 L -1927756.5741921125,-46448.8729332598 L -1927761.851109886,-46467.21968768282 L -1927768.9662522166,-46484.93476625052 L -1928022.2157777376,-47033.00155024368 L -1928179.9295880613,-47547.75709073476 L -1928186.1178750382,-47564.92362939194 L -1928193.9455583256,-47581.407327991634 L -1928203.33849746,-47597.05205999944 L -1928214.2077265438,-47611.709645213276 L -1928226.4502968937,-47625.24125326274 L -1928239.950252126,-47637.51871855099 L -1928254.5797264455,-47648.42575418435 L -1928270.2001557364,-47657.859053391956 L -1928286.6635899819,-47665.72926800332 L -1928303.814094582,-47671.96185471586 L -1928321.4892273024,-47676.4977811372 L -1928339.5215768542,-47679.29408491469 L -1928605.9865913605,-47707.42089078819 L -1929464.6238981066,-48437.79287510399 L -1929616.0346822343,-48703.808485275775 L -1929689.0638172629,-50383.848108334576 L -1929677.360856273,-50536.301241756424 L -1929062.6372632543,-51758.592897356786 L -1929055.0203192066,-51775.84997748616 L -1929049.1758609926,-51793.78505371687 L -1929045.1630417446,-51812.21660093622 L -1929043.0224761472,-51830.958069132175 L -1929042.7758293669,-51849.819771509814 L -1929044.4255977736,-51868.610804355856 L -1929047.9550836743,-51887.14097921993 L -1929053.3285643146,-51905.22274785647 L -1929060.4916534366,-51922.6731004445 L -1929069.3718517355,-51939.31541787298 L -1929079.8792806414,-51954.98125934419 L -1929091.9075920025,-51969.51206720259 L -1929105.3350444585,-51982.76077173403 L -1929120.025735614,-51994.59327969281 L -1929135.8309775381,-52004.88983149089 L -1929152.5908016711,-52013.54621331273 L -1929170.1355779024,-52020.47481188777 L -1930597.7297463012,-52502.75071741129 L -1930798.9171104995,-52688.01751506696 L -1931005.3128128417,-53241.328021154266 L -1931012.6875391903,-53258.447268992684 L -1931021.7256141747,-53274.749674822524 L -1931032.3377129538,-53290.07411917702 L -1931044.4189543386,-53304.269147950035 L -1931057.8499373535,-53317.19446924293 L -1931072.4979212945,-53328.722339893364 L -1931088.2181376296,-53338.73882798286 L -1931104.8552207702,-53347.14493884544 L -1931122.244743577,-53353.85759344887 L -1931140.2148424196,-53358.810449478915 L -1931158.587915736,-53361.954557011806 L -1931177.1823792984,-53363.25884229474 L -1931195.8144608408,-53362.71041485304 L -1931214.3000163133,-53360.314694888984 L -1931232.456349807,-53356.09535971296 L -1931250.1040191713,-53350.0941097366 L -1931267.0686094696,-53342.37025634046 L -1931283.1824567523,-53333.00013568947 L -1931298.2863051095,-53322.07635428961 L -1931312.2308806228,-53309.7068737419 L -1931324.8783666661,-53296.013943739476 L -1931336.1037659706,-53281.1328938529 L -1931345.7961359934,-53265.2107960449 L -1931353.8596853833,-53248.405011132956 L -1931360.2147207013,-53230.88163356545 L -1931364.798434046,-53212.81384988176 L -1931367.5655237942,-53194.380227080095 L -1931368.488642324,-53175.762947809264 L -1931367.5586662972,-53157.14600982641 L -1931291.868354263,-52400.01839861564 L -1932815.6284587674,-51638.044425769316 L -1932960.5348124108,-51760.937288321584 L -1932974.0251525508,-51771.36192809399 L -1932988.40662718,-51780.518105187504 L -1933003.5603341456,-51788.33011879984 L -1933019.360986686,-51794.73338130975 L -1933035.6779492686,-51799.674952270114 L -1933495.1653160565,-51916.31099142206 L -1934182.2935308816,-52916.978257108494 L -1934192.790235333,-52930.84036033061 L -1934204.52592992,-52943.67048825834 L -1934217.3996893514,-52955.358303630856 L -1934231.3008011417,-52965.80329291146 L -1934246.1097177225,-52974.915630689735 L -1934261.699084534,-52982.616952167096 L -1934277.9348352565,-52988.84102708288 L -1934294.6773447613,-52993.53432928509 L -1934311.7826298669,-52996.6564970476 L -1934736.6997205338,-53054.00559300431 L -1934754.9593166292,-53055.56628984598 L -1934773.284055119,-53055.33697897196 L -1934791.498879272,-53053.31985099534 L -1934809.4297823713,-53049.53417559523 L -1934826.9054700064,-53044.01611743295 L -1934843.7589964517,-53036.81839067004 L -1934859.8293595053,-53028.00975538846 L -1934874.9630385463,-53017.67436072357 L -1934889.0154611224,-53005.910940985166 L -1934901.8523840536,-52992.83187244589 L -1934913.3511758617,-52978.56209980759 L -1934923.401988272,-52963.237942601176 L -1934931.9088055973,-52947.005792922355 L -1934938.7903619767,-52930.020716943916 L -1934943.9809177131,-52912.44497356436 L -1935179.0496825662,-51944.6339526635 L -1935180.4877485991,-51938.22593122531 L -1935216.8294055928,-51761.8877432413 L -1935378.2615619455,-51359.60160298443 L -1935584.4531889176,-51151.42854002006 L -1935597.0150488669,-51137.40250923239 L -1935608.106836013,-51122.18731541348 L -1935617.6166962816,-51105.93639474072 L -1935625.44872839,-51088.81362808061 L -1935631.5239509537,-51070.99168834772 L -1935635.781098968,-51052.6502992011 L -1935638.1772416274,-51033.97442263809 L -1935638.6882152592,-51015.15239376261 L -1935637.3088669984,-50996.37402153771 L -1935634.0531067513,-50977.828674675075 L -1935572.9973020882,-50709.85390512849 L -1935730.2642421746,-49824.94253855828 L -1936623.9867055872,-49297.563667162 L -1936761.6275075062,-49320.94718171392 L -1936779.4823410802,-49323.10560050055 L -1936797.4618335206,-49323.54344203484 L -1936815.4005651327,-49322.256677971 L -1936833.133491242,-49319.257147137 L -1936850.497460679,-49314.57244661179 L -1936867.3327168475,-49308.24567781939 L -1936883.48436756,-49300.33504997569 L -1936898.8038101164,-49290.91334453666 L -1936913.150098519,-49280.067245575025 L -1936926.391240241,-49267.89654224649 L -1936938.4054106195,-49254.51321068314 L -1936949.082073698,-49240.04038376086 L -1936958.32299921,-49224.61121821966 L -1936966.0431663424,-49208.367669559695 L -1936972.1715459658,-49191.45918598464 L -1936976.6517541371,-49174.041333408706 L -1936979.4425708575,-49156.274364177836 L -1936980.5183193146,-49138.32174267361 L -1936983.0350746089,-48926.34137783066 L -1936982.4143660832,-48908.71026702726 L -1936980.1393158725,-48891.215539427976 L -1936976.230065194,-48874.01207738197 L -1936970.721222985,-48857.25218463905 L -1936963.6615595066,-48841.0842379913 L -1936955.1135745747,-48825.651373680405 L -1936945.1529442454,-48811.09022019999 L -1936666.0207978622,-48441.619808829775 z\" /><path fill-rule=\"evenodd\" fill=\"#66cc99\" stroke=\"#555555\" stroke-width=\"243.67962815532994\" opacity=\"0.6\" d=\"M -1931507.455885664,-56822.1460249145 L -1931459.5438125546,-56939.02370570611 L -1931453.7009629677,-56955.403040834404 L -1931449.4007620793,-56972.253256941585 L -1931446.6802011284,-56989.42940489893 L -1931445.5626829567,-57006.783731842836 L -1931434.3856066733,-57630.6211684484 L -1931434.8758787026,-57647.93936704284 L -1931436.962563263,-57665.13838203688 L -1931440.6278444608,-57682.0713700473 L -1931445.84042851,-57698.593759001335 L -1931572.9133697078,-58044.75463904453 L -1931580.474781014,-58062.47925473997 L -1931589.8154797696,-58079.334173584306 L -1931600.8368050961,-58095.14136595181 L -1931613.4223445416,-58109.7338687994 L -1931627.4391636853,-58122.9575492093 L -1931642.739210253,-58134.67273241382 L -1931659.1608779158,-58144.75567710633 L -1931772.4950890613,-58206.55898054994 L -1931789.1090552392,-58214.584847085105 L -1931806.431410413,-58220.938933725265 L -1931824.2944121477,-58225.55971015567 L -1931842.5250826136,-58228.402430712005 L -1931860.9468836307,-58229.439567678586 L -1931879.3814261905,-58228.66107785526 L -1931897.6501979013,-58226.074499811526 L -1931915.5762916266,-58221.70488088623 L -1931932.98611858,-58215.59453463956 L -1931949.7110892863,-58207.8026311063 L -1931965.5892461315,-58198.40462381796 L -1931980.466831693,-58187.49151914235 L -1931994.1997776607,-58175.16899501607 L -1932006.655099936,-58161.55637760357 L -1932017.7121863924,-58146.78548579254 L -1932027.2639648342,-58130.999354715015 L -1932035.217939838,-58114.35085065501 L -1932041.4970884402,-58097.00119075547 L -1932046.0406059944,-58079.118381858905 L -1932048.8044949793,-58060.8755935995 L -1932131.6397327804,-57244.65339808233 L -1932203.7671303486,-56756.312480704764 L -1933032.2841989312,-55323.460463733594 L -1933040.8251209706,-55306.82715943659 L -1933047.6669232664,-55289.42589791726 L -1933052.7415669644,-55271.42972742303 L -1933055.9985868616,-55253.01761232156 L -1933057.405593261,-55234.372653375176 L -1933056.9485940738,-55215.68026688059 L -1933054.6321339656,-55197.126340781586 L -1933050.4792491607,-55178.89538609138 L -1933044.5312383564,-55161.16870200801 L -1933036.8472520255,-55144.1225729698 L -1933027.5037041896,-55127.92651558059 L -1933016.5935125125,-55112.741592838225 L -1933004.225174275,-55098.7188124305 L -1932809.2228366614,-54898.68923182765 L -1932795.9285187111,-54886.31253305492 L -1932781.4990162726,-54875.280261228705 L -1932766.0697420812,-54865.695947992965 L -1932749.7854911664,-54857.64953671756 L -1932732.7990820312,-54851.21653843049 L -1932715.2699225373,-54846.45732318957 L -1932697.3625139522,-54843.4165535435 L -1932679.2449071978,-54842.122765399035 L -1932661.0871257868,-54842.58810022764 L -1932643.0595702487,-54844.80819112459 L -1932625.3314190162,-54848.76220378997 L -1932608.0690407825,-54854.41303204675 L -1932591.4344332234,-54861.70764606136 L -1932575.5837027412,-54870.57758999872 L -1932560.6655994945,-54880.93962444163 L -1932546.820121462,-54892.6965075457 L -1932534.1772006399,-54905.737907599214 L -1932380.7455570817,-55080.171360980836 L -1932369.421385305,-55094.37829782921 L -1932359.5253475867,-55109.61451647157 L -1931683.7392044235,-56269.47002274551 L -1931674.0872606658,-56288.43419369081 L -1931666.6462211555,-56308.36985843895 L -1931507.455885664,-56822.1460249145 z\" /><path fill-rule=\"evenodd\" fill=\"#66cc99\" stroke=\"#555555\" stroke-width=\"243.67962815532994\" opacity=\"0.6\" d=\"M -1950690.6397224427,-66742.0779965234 L -1950689.9101780576,-66739.0274863977 L -1950442.985457086,-65743.42507414804 L -1950474.5674853865,-65663.7691267183 L -1951093.5289023933,-64935.49148372748 L -1951104.8968735011,-64920.68033825307 L -1951114.735450174,-64904.812030012195 L -1951122.947075486,-64888.04390527769 L -1951129.4503249638,-64870.54223268324 L -1951134.1807139723,-64852.480554544134 L -1951137.0913371285,-64834.037966054 L -1951138.1533334034,-64815.39733942058 L -1951137.3561723009,-64796.74351054953 L -1951134.7077582758,-64778.261446256656 L -1951130.2343523556,-64760.13441018212 L -1951123.9803117418,-64742.54214559293 L -1951074.9478405148,-64623.72262241094 L -1951073.1888336174,-64619.60046868819 L -1950960.5416312332,-64364.119105668506 L -1950952.6843978416,-64348.35061542478 L -1950943.3818652222,-64333.38918875481 L -1950932.7161619612,-64319.36691450685 L -1950920.7814515694,-64306.40759010321 L -1950907.6831011472,-64294.62562857902 L -1950893.536751139,-64284.12504847226 L -1950878.4672943852,-64274.99855548296 L -1950862.6077734916,-64267.32672400914 L -1949517.749799243,-63693.08611871026 L -1949507.4102428074,-63684.66942429372 L -1949490.9235866617,-63673.91042512519 L -1949473.3997148795,-63664.93937102124 L -1949412.0802646067,-63637.50968650986 L -1948510.8711034276,-62621.80252950478 L -1948398.3312897868,-62233.99269574154 L -1948390.394807233,-62015.68623863707 L -1948451.2583744111,-61746.3061877003 L -1949168.0216920841,-60400.61673474939 L -1949429.6843355577,-59937.193311897754 L -1949439.758592439,-59916.47178420311 L -1949560.4958326006,-59623.61698180502 L -1949567.4906664717,-59603.46793505279 L -1949572.1519433386,-59582.65485541821 L -1949609.2523712781,-59357.64918958339 L -1949611.4046476963,-59338.52607256893 L -1949611.5854945735,-59319.283068839366 L -1949609.7930069205,-59300.12287870089 L -1949606.0460662902,-59281.24733012495 L -1949481.691691573,-58788.69139430027 L -1949476.0539464036,-58770.36559933718 L -1949468.574167694,-58752.711369190336 L -1949459.3305693676,-58735.913309135445 L -1949135.8527156245,-58213.255690923324 L -1948881.3258727542,-57732.32167156411 L -1949127.0446509288,-56918.769095393734 L -1949131.6378785367,-56900.17953980849 L -1949134.3111542226,-56881.21845034025 L -1949135.0365965096,-56862.08358555884 L -1949133.806639249,-56842.974516459275 L -1949130.6341105315,-56824.090544995284 L -1949125.5520988964,-56805.62862541862 L -1949118.6136082257,-56787.78131010436 L -1949109.89100493,-56770.73474128643 L -1949099.475263189,-56754.66670964903 L -1949087.4750161166,-56739.74480002219 L -1949074.0154227493,-56726.1246435215 L -1949059.2368626758,-56713.948294361435 L -1948735.7449040276,-56474.06248904565 L -1948583.7632541424,-56295.72788491745 L -1948572.0625237797,-56283.20580274008 L -1948559.2673166748,-56271.804385800824 L -1948545.4845292,-56261.61888618101 L -1948530.8293083762,-56252.73439769343 L -1948515.4240898879,-56245.225144973934 L -1948499.3975752054,-56239.15386337855 L -1948482.8836563607,-56234.57127486684 L -1948241.4562050905,-56179.32198352576 L -1948222.306674985,-56175.973552183554 L -1948202.9133701224,-56174.625879295 L -1948183.4847612528,-56175.29345183796 L -1948164.2296986312,-56177.96909365808 L -1948145.3551669556,-56182.62404260977 L -1947835.7995081777,-56276.23598153895 L -1947465.4395434407,-56306.00919401487 L -1947447.5388391034,-56308.319763532665 L -1947429.9432361345,-56312.340796163946 L -1947412.8157834662,-56318.03503117493 L -1947396.3151919357,-56325.34970317065 L -1947380.5943635968,-56334.21703104337 L -1947365.79897486,-56344.55484606342 L -1947352.0661265873,-56356.26735329234 L -1947339.523073654,-56369.246019262755 L -1947328.2860457445,-56383.370577699294 L -1947318.459170317,-56398.510143961095 L -1947310.133507709,-56414.52442787897 L -1947303.3862073314,-56431.26503374845 L -1947298.279792766,-56448.57683543256 L -1947294.8615823938,-56466.29941383174 L -1947293.1632509208,-56484.26854340085 L -1947293.200535866,-56502.317713938486 L -1947294.9730917297,-56520.27967354687 L -1947298.4644931962,-56537.987978464735 L -1947303.6423873368,-56555.27853541156 L -1947399.2646989038,-56826.36222869931 L -1947394.6879568002,-57502.916235754776 L -1947395.357477257,-57520.06619465102 L -1947397.5923884704,-57537.08308389829 L -1947401.373964429,-57553.82432133928 L -1947406.6705198314,-57570.149634465015 L -1947413.437675574,-57585.92223573872 L -1947756.2112335602,-58293.57258528289 L -1947271.8635455684,-59815.41415168053 L -1946794.215685736,-60300.55027457236 L -1945465.5799289034,-61015.19842164 L -1944850.8307573951,-61175.69514902792 L -1944638.9364479424,-61164.81319893004 L -1944428.3971900751,-61109.73051351569 L -1943671.9653911814,-60887.024737940315 L -1943295.781517988,-60498.51400731991 L -1943281.992135732,-60485.637336441185 L -1943266.9785152336,-60474.211623533134 L -1943250.8926688388,-60464.35255351144 L -1943233.8974651408,-60456.159949091205 L -1943216.164979941,-60449.71676008568 L -1943197.8747539886,-60445.088223542465 L -1943179.2119751368,-60442.321203220905 L -1943160.3656033238,-60441.44371509822 L -1943141.5264573586,-60442.46464370884 L -1943122.8852828895,-60445.373652188755 L -1943104.6308211104,-60450.141286935956 L -1943086.947897764,-60456.719275827 L -1943070.0155517876,-60465.04101697053 L -1942460.0591173302,-60803.93330952891 L -1941446.6215536343,-59981.47555347105 L -1942032.0208385694,-58929.28163725642 L -1942040.0998020552,-58912.93732012022 L -1942046.5531721641,-58895.88562319899 L -1942051.3199315453,-58878.287772232026 L -1942054.3550099453,-58860.310156907406 L -1942055.6297103518,-58842.12275762855 L -1942055.131980327,-58823.89753833009 L -1942052.8665259648,-58805.806820539256 L -1942048.854767395,-58788.02165405616 L -1942043.1346362522,-58770.71019965848 L -1942035.7602170287,-58754.03613912209 L -1942026.8012356996,-58738.15712759117 L -1942016.3424004551,-58723.22330293093 L -1942004.4826007753,-58709.37586615685 L -1941991.3339724191,-58696.74574636308 L -1941977.0208371673,-58685.45236277281 L -1940696.230545086,-57772.29559736173 L -1940633.431465023,-57606.68120871276 L -1940625.9161023523,-57589.50526151663 L -1940616.7230298794,-57573.16570042519 L -1940605.944160374,-57557.8258891374 L -1940593.6872614801,-57543.63919580676 L -1940580.0748782482,-57530.74745965928 L -1940565.2431079245,-57519.27957287825 L -1940549.3402392454,-57509.35019193412 L -1939255.4489101502,-56788.765595770274 L -1939239.0881567928,-56780.67110028071 L -1939222.0178464246,-56774.20583836885 L -1939204.399763761,-56769.43108487599 L -1939186.4008850567,-56766.39209276581 L -1939168.1917955799,-56765.11766423715 L -1939149.945072881,-56765.61987774977 L -1939131.8336511825,-56767.89397355013 L -1939114.0291823836,-56771.9183987822 L -1939096.700409223,-56777.65501175571 L -1939080.0115660103,-56785.04944343592 L -1939064.1208220867,-56794.031612728875 L -1939049.1787827678,-56804.516390678415 L -1939035.3270619747,-56816.40440728014 L -1939022.6969400796,-56829.582993265525 L -1939011.4081196913,-56843.92724793054 L -1939001.5675911661,-56859.30122288826 L -1938993.2686186025,-56875.55921052651 L -1938986.5898559259,-56892.54712495895 L -1938981.5946014414,-56910.103962381756 L -1938978.3301979217,-56928.06332699517 L -1938976.827583914,-56946.255008027976 L -1938977.101000517,-56964.50659291852 L -1938979.147856411,-56982.64510136339 L -1938982.9487524177,-57000.49862474678 L -1938988.4676653564,-57017.89795541299 L -1938995.6522894548,-57034.67819034039 L -1939004.4345320812,-57050.68029401798 L -1939014.731159094,-57065.75260571241 L -1939973.5015081752,-58332.14468887827 L -1939910.488069035,-58880.04105166069 L -1939909.2644697635,-58900.19617864358 L -1939910.2153612413,-58920.36601117316 L -1939913.329715458,-58940.31662862442 L -1939918.5714135375,-58959.81665273001 L -1939925.879664628,-58978.63993100108 L -1940023.2382387742,-59194.20868583268 L -1939866.9112752406,-60087.91987058717 L -1939864.4690999347,-60108.57998567001 L -1939864.3307583106,-60129.38348145933 L -1939866.4979534762,-60150.07424849624 L -1939879.6064714731,-60231.370751010916 L -1938779.5064286701,-61257.030890978174 L -1938766.7053160798,-61270.195054375 L -1938755.253217718,-61284.54821167948 L -1938745.2599641744,-61299.95270988943 L -1938736.821395083,-61316.260813187524 L -1938730.018439981,-61333.31611979183 L -1938724.916342157,-61350.9550619167 L -1938721.5640329416,-61369.00847445881 L -1938719.993662434,-61387.30321736378 L -1938720.2202911682,-61405.663836114436 L -1938722.2417456764,-61423.914244415675 L -1938726.038639333,-61441.87941293837 L -1938731.574558282,-61459.38704792658 L -1938738.79641066,-61476.269243569346 L -1938747.6349357713,-61492.3640922902 L -1938758.0053683277,-61507.51723751108 L -1938769.8082513842,-61521.583353998816 L -1938782.9303901743,-61534.42754159712 L -1938797.2459376976,-61545.926618977595 L -1938812.6176016456,-61555.97030500209 L -1938828.897961096,-61564.46227636662 L -1938845.9308803424,-61571.321091383616 L -1938863.5530063035,-61576.48097104304 L -1938881.5953351504,-61579.8924298616 L -1938899.884833126,-61581.522750469994 L -1940744.807584699,-61655.21078418527 L -1940952.2001632226,-62119.582904021096 L -1940960.8840061733,-62136.632770263386 L -1940971.260265164,-62152.7088492825 L -1941263.7495366114,-62558.78048504549 L -1941275.555364147,-62573.5408875395 L -1941288.7872426186,-62587.03771819342 L -1941303.3107137296,-62599.13382634761 L -1941318.9781944142,-62609.70629505555 L -1941335.6304765325,-62618.64769012815 L -1941353.098344693,-62625.867151847066 L -1941371.2042957696,-62631.29131825332 L -1941389.7643426321,-62634.8650706291 L -1941408.589883769,-62636.55209359726 L -1941934.5350411169,-62657.04844777532 L -1941951.0984670531,-62656.961765444794 L -1941967.5896136293,-62655.41364491403 L -1941983.8797861808,-62652.41616750506 L -1942336.246109577,-62571.34019155607 L -1942882.4139228587,-62504.27757640913 L -1943242.9699772426,-62530.13244454451 L -1944040.569872395,-62793.86680955584 L -1944046.9991895114,-62795.86540907901 L -1945005.5654511536,-63075.071103003575 L -1945179.5641231814,-63146.74255107105 L -1945198.1237515437,-63153.271056269376 L -1945217.2652990108,-63157.81884096412 L -1945236.7780112254,-63160.33583263936 L -1945256.4470471917,-63160.794318438326 L -1946079.6906681687,-63136.76252951116 L -1946787.0364715273,-63357.64822635247 L -1946806.3543167452,-63362.57046425561 L -1946826.0855716781,-63365.41390382887 L -1946846.0071934797,-63366.14640272455 L -1946865.8939873893,-63364.75968074764 L -1946885.5211523415,-63361.26941345541 L -1947224.2054094034,-63282.26378010792 L -1948176.7314982,-63092.59629880441 L -1948856.9534277418,-64365.28241582866 L -1948867.4165438765,-64382.55219097467 L -1948879.6760944987,-64398.59667137722 L -1948893.589900403,-64413.22978239632 L -1949070.138129604,-64579.9310011201 L -1949078.4601741547,-64587.33388607377 L -1949940.0829192859,-65309.10972732072 L -1949955.3936669792,-66073.32709656535 L -1949525.3291435423,-67103.00647591641 L -1949334.823744283,-67261.15211876997 L -1949324.4297504309,-67270.45492144342 L -1949174.7869332589,-67414.76580883421 L -1949163.2593755503,-67426.92240464463 L -1949152.8629403189,-67440.05943409944 L -1948971.8037316864,-67691.13204767568 L -1948537.0820253768,-68160.10757597387 L -1946982.3554866447,-68395.68279868396 L -1946602.9240699469,-68424.97819586367 L -1946602.257773586,-68425.03083452642 L -1946209.818242514,-68456.73821494922 L -1945830.3347562007,-68486.86218302744 L -1945505.1508247172,-68475.77764178107 L -1945478.0100167224,-68476.82086730697 L -1944337.845108157,-68603.79881444195 L -1944101.7901583884,-68406.62286639042 L -1944100.7389268808,-68405.75125542574 L -1944001.0468419332,-68323.7039984738 L -1943579.3004975503,-67964.29491223037 L -1943564.4083711433,-67952.8406493297 L -1943548.4447200436,-67942.93421651643 L -1943531.5698224038,-67934.67507629715 L -1943513.9531054685,-67928.14615204126 L -1943495.771444492,-67923.41299541437 L -1943477.2073868765,-67920.5231282269 L -1943458.4473193602,-67919.50556530578 L -1943439.6795966588,-67920.3705231801 L -1943421.092650348,-67923.10931750505 L -1943402.873096973,-67927.69445025454 L -1942519.3253123595,-68197.77941016619 L -1941677.4522909753,-67749.04819872872 L -1941244.385396421,-66710.38251823478 L -1941236.4214790473,-66693.6592977483 L -1941226.846389913,-66677.80345493095 L -1941215.7535723788,-66662.96972706084 L -1941203.251281326,-66649.30287658935 L -1941189.4615266987,-66636.9362784034 L -1941174.5188828062,-66625.99061821896 L -1941158.5691750117,-66616.57271480837 L -1941141.768056623,-66608.77447755523 L -1941124.279489868,-66602.67200951002 L -1941106.27414579,-66598.32486470001 L -1939756.9810741842,-66342.34112806871 L -1939739.0362688773,-66339.82786553209 L -1939720.9326616668,-66339.05849433399 L -1939702.8393264178,-66340.0401998138 L -1939684.9252410638,-66342.76381359209 L -1939667.3577094811,-66347.20389919617 L -1939650.3007989984,-66353.31898961744 L -1939633.913808133,-66361.05197458151 L -1938723.3070478886,-66845.88526737942 L -1938440.8456407576,-66886.46770090968 L -1938423.9056807419,-66889.70282347838 L -1938407.3346275836,-66894.48073731142 L -1938391.2726754039,-66900.76102038957 L -1938375.8557112366,-66908.49054037678 L -1938361.2141654,-66917.60390412938 L -1937307.3095022615,-67642.89133512665 L -1936206.791307367,-66469.44801131924 L -1936189.7932351383,-66453.44785011822 L -1935951.8246189363,-66255.89072680661 L -1935936.379097354,-66244.35609201135 L -1935919.830877395,-66234.46830393697 L -1935902.3548786282,-66226.3318794212 L -1935884.1358275167,-66220.03282287213 L -1935569.5963966704,-66129.09296338547 L -1935089.0894629203,-65413.8915393262 L -1935111.0218091076,-64948.70569499168 L -1935111.0003806208,-64930.60165966211 L -1935109.2330565602,-64912.584081576846 L -1935105.7363134283,-64894.820935969634 L -1935100.5427508475,-64877.477826037604 L -1935093.700787639,-64860.716439047 L -1935085.274210421,-64844.69303894654 L -1935075.3415789343,-64829.55700954157 L -1935063.995493644,-64815.449461810786 L -1935051.341732436,-64802.50191834932 L -1935037.4982644676,-64790.83508720291 L -1935022.5941503567,-64780.557736524504 L -1935006.7683389701,-64771.76568054477 L -1934990.1683720227,-64764.54088631007 L -1934972.9490085675,-64758.95070951575 L -1934955.2707822006,-64755.0472665589 L -1934937.2985044296,-64752.86694866478 L -1934919.1997281604,-64752.43008261684 L -1934901.1431856249,-64753.74074125308 L -1934883.2972153171,-64756.78670549556 L -1934865.8281925966,-64761.53957826709 L -1934848.8989785959,-64767.955049233 L -1934832.6674018905,-64775.973307899905 L -1934817.2847870854,-64785.5196012201 L -1934802.8945440392,-64796.50493050329 L -1934789.6308308733,-64808.82688113828 L -1934777.6173032376,-64822.37057738936 L -1934766.9659614854,-64837.00975336592 L -1934757.7761065112,-64852.60793018078 L -1934750.133413983,-64869.01968832282 L -1934744.1091356005,-64886.092023381716 L -1934589.3871163393,-65402.81873162484 L -1934430.694249098,-65920.73388274995 L -1934426.264274413,-65938.12258782328 L -1934423.5168143883,-65955.85513426339 L -1934422.4770326703,-65973.76911187352 L -1934414.4852952063,-66764.32227083277 L -1934415.242512147,-66783.15753773673 L -1934417.8871288835,-66801.82158497076 L -1934422.3924150385,-66820.1257662827 L -1934428.7128335782,-66837.88507275346 L -1934436.784501077,-66854.9200027688 L -1934446.5258334174,-66871.05837632602 L -1934457.8383703986,-66886.13707533768 L -1934470.6077709203,-66900.00369234246 L -1934830.1670537218,-67253.06408970614 L -1934843.8278237616,-67265.22756711427 L -1934858.608762054,-67276.00210580243 L -1934874.3692048036,-67285.28516914762 L -1934890.9591666963,-67292.98841425234 L -1934908.220768242,-67299.03853266577 L -1934925.9897382474,-67303.37794802859 L -1934944.0969771123,-67305.96536400226 L -1934962.3701660794,-67306.7761572684 L -1934980.6354071146,-67305.80261185831 L -1934998.7188778217,-67303.05399258243 L -1935016.448485634,-67298.55645686122 L -1935033.6555055445,-67292.35280579624 L -1935050.1761857898,-67284.50207685067 L -1935065.8533062034,-67275.07898201524 L -1935167.7688323867,-67206.84028225577 L -1935357.7403738897,-67122.20898180547 L -1936569.2686114307,-68319.86748275143 L -1936659.664604135,-68569.41656843755 L -1935767.754934109,-69854.94771406993 L -1935757.5886269775,-69871.34137887646 L -1935749.1604734645,-69888.6928132506 L -1935742.5596800947,-69906.81836354203 L -1935583.417348011,-70425.35700894996 L -1935578.9076816284,-70443.0957931076 L -1935576.1490313055,-70461.18975349965 L -1935575.1676840368,-70479.46647398805 L -1935575.9729910146,-70497.751796926 L -1935578.5572785225,-70515.87148269449 L -1935582.895921058,-70533.65287002007 L -1935963.9186868966,-71819.15675423261 L -1934845.7153133699,-72937.98160570057 L -1934833.7932987546,-72951.09511547376 L -1934823.1626686293,-72965.27567520158 L -1934813.9184008637,-72980.39659066765 L -1934806.1430870676,-72996.3227661794 L -1934799.906194689,-73012.91191156166 L -1934642.905541656,-73499.12561710266 L -1934440.0735220392,-73714.46724000892 L -1934428.8029876011,-73727.597433454 L -1934418.7909144377,-73741.71073630612 L -1934410.1225757021,-73756.68694510515 L -1934402.871799918,-73772.39850699286 L -1934397.1003421785,-73788.7116060849 L -1934362.5277540435,-73902.9431680897 L -1933745.232539442,-75623.88647504663 L -1933394.4435421615,-75754.74978570951 L -1933379.0421673707,-75761.29228357498 L -1933364.2854279948,-75769.18185053162 L -1933247.9304907527,-75838.23632945532 L -1933024.4919234305,-75968.99062415509 L -1933009.3345090176,-75978.87215615928 L -1932995.2001401267,-75990.16868228401 L -1932982.22044279,-76002.77500385202 L -1932970.5162901834,-76016.57372474168 L -1932960.1966769977,-76031.43634463625 L -1932951.3577044278,-76047.22445568035 L -1932944.081685232,-76063.79103140053 L -1932938.4363771956,-76080.98179588631 L -1932934.4743521388,-76098.63666048167 L -1932932.2325063422,-76116.59121460741 L -1932931.7317169502,-76134.6782568315 L -1932932.9766475544,-76152.72935192907 L -1932935.955704763,-76170.57639943219 L -1932940.6411461644,-76188.05319906211 L -1932946.9893386778,-76204.99699846614 L -1932954.9411648852,-76221.25000884572 L -1932964.4225735615,-76236.66087436142 L -1932975.345269275,-76251.08608163137 L -1932987.6075346367,-76264.3912961967 L -1933165.1781170939,-76439.31812675633 L -1933179.419921597,-76451.98777987382 L -1933194.87449319,-76463.14597518 L -1933211.3821048045,-76472.67738978677 L -1933228.7721459253,-76480.48351401312 L -1933246.864885896,-76486.48366950863 L -1933265.4733314826,-76490.61584308556 L -1933284.4051594976,-76492.83732764133 L -1933494.389662081,-76506.70675027872 L -1933513.7820470633,-76506.98238528454 L -1933533.0991639849,-76505.25334977341 L -1933552.1343368955,-76501.53814288566 L -1933570.6839063952,-76495.87651402675 L -1933706.9385527377,-76446.45186959421 L -1933723.3930403534,-76439.58127421502 L -1933739.1204639305,-76431.1786918035 L -1933753.9785837028,-76421.32011582138 L -1933767.8330219393,-76410.09470782393 L -1933780.5584782658,-76397.60399107751 L -1933792.0398628886,-76383.96093237713 L -1933802.173337473,-76369.28892036778 L -1933810.8672542647,-76353.72064961019 L -1934047.7405498964,-75877.69475646323 L -1935309.3923362507,-74544.3321162067 L -1935453.7420654236,-74497.93872657207 L -1935476.5839317641,-74488.90756288682 L -1935868.5991151154,-74303.36600183364 L -1937006.4903812916,-74078.17646089396 L -1937135.5468588178,-74130.27110201826 L -1937154.893436366,-74136.8785908867 L -1937174.844381613,-74141.3405137586 L -1937195.162511212,-74143.60382583884 L -1937215.6062766078,-74143.64162013488 L -1937407.584561457,-74133.51592190555 L -1937425.089890032,-74131.76614539712 L -1937442.3541689648,-74128.38340696698 L -1937459.2254120775,-74123.39748657208 L -1937475.5550932859,-74116.85227779094 L -1937491.1994541485,-74108.80540140616 L -1937506.020769446,-74099.32769813968 L -1937519.8885596448,-74088.50260500597 L -1937532.6807395755,-74076.42542077386 L -1937544.2846932092,-74063.20246700331 L -1937683.7358580914,-73888.38993033339 L -1937693.538582922,-73874.9140015734 L -1937702.1060958959,-73860.62093362112 L -1937709.370723483,-73845.623625327 L -1937848.2106343322,-73523.21620024586 L -1937854.5230559136,-73506.37743770954 L -1937859.1933023822,-73489.01139648256 L -1937862.1784137026,-73471.2778209722 L -1937863.4509308334,-73453.33983641071 L -1937862.999148315,-73435.36244832088 L -1937860.8272219438,-73417.51102468539 L -1937856.9551305443,-73399.94977478197 L -1937851.4184921908,-73382.84023867725 L -1937844.2682365684,-73366.33980127364 L -1937667.4721047182,-73006.68695434934 L -1937617.759463546,-72806.94426462268 L -1937612.3903335824,-72789.17569560601 L -1937605.2906245878,-72772.02507656005 L -1937596.5299174166,-72755.66049250403 L -1937461.2808458852,-72530.56292391919 L -1937051.5878185243,-71288.39431399823 L -1937107.9777002868,-71198.02444763668 L -1937117.188500084,-71181.4525673225 L -1937124.6786413402,-71164.03522441334 L -1937130.3715387685,-71145.95050796754 L -1937134.2089835622,-71127.38333081247 L -1937136.1517385696,-71108.52353884558 L -1937136.1799394859,-71089.5639698958 L -1937134.2932979616,-71070.69848199296 L -1937130.511104552,-71052.11997120586 L -1937124.8720314743,-71034.0183993162 L -1937117.4337371907,-71016.57885149513 L -1937108.2722768628,-70999.97964384202 L -1937097.4813247004,-70984.390500136 L -1937085.1712161624,-70969.9708164421 L -1937071.4678197948,-70956.86803131651 L -1937056.5112502507,-70945.21611827503 L -1936530.627117701,-70576.68269441399 L -1937471.219481082,-69219.67339274388 L -1937650.1232984797,-68982.1838225387 L -1937844.607254504,-68829.59805441604 L -1938922.210732756,-68464.48242871494 L -1939100.7120122425,-68526.61597803704 L -1939118.528646481,-68531.8441913383 L -1939136.7750280083,-68535.28457374028 L -1939155.2722201005,-68536.90338645728 L -1939173.838826411,-68536.6847542845 L -1939192.2927698684,-68534.63082128126 L -1939210.453078252,-68530.76172974492 L -1939228.1416589317,-68525.11542268147 L -1939245.1850453666,-68517.74727171003 L -1939599.7637395905,-68343.13615533302 L -1939617.1210627034,-68333.41198715952 L -1939633.350291302,-68321.90337076077 L -1940583.2890355461,-67569.45499853692 L -1941421.6839599009,-68386.67614133316 L -1942008.525428611,-69086.03795862822 L -1942020.274774238,-69098.79252843138 L -1942033.152247784,-69110.4070386924 L -1942047.0476954824,-69120.78213901896 L -1942061.8422558275,-69129.82908091765 L -1942077.409376314,-69137.4704769476 L -1942093.6158959654,-69143.64096269166 L -1942110.3231843917,-69148.2877558831 L -1942127.3883276328,-69151.37110790433 L -1942772.9513527793,-69237.40731148716 L -1943548.07771464,-69414.83421723546 L -1943704.159766007,-69563.3631096073 L -1943723.6832408905,-69579.57159743471 L -1944267.7288941655,-69972.23382260783 L -1944505.8229410485,-70288.49527672472 L -1944562.2160396536,-70387.15068700312 L -1944572.7652243,-70403.56066886094 L -1944584.9623610042,-70418.78573560945 L -1944598.6754135427,-70432.66107313159 L -1944996.8345751774,-70795.65781349987 L -1945033.4595294974,-70844.08339872054 L -1945375.965877029,-71373.47249335836 L -1945387.7836129912,-71389.75178295627 L -1945401.2773923832,-71404.67130274742 L -1945416.2918919344,-71418.05931814587 L -1945432.6542837722,-71429.76172330152 L -1945544.7943683073,-71501.19554223963 L -1945560.7176962588,-71510.27639411465 L -1945577.4516449908,-71517.75898749303 L -1945594.836275797,-71523.57180570398 L -1945612.705430923,-71527.65929135116 L -1945630.8883216565,-71529.98237731565 L -1945649.211160683,-71530.51886014934 L -1945667.498823099,-71529.26361228958 L -1945694.9007682814,-71526.03084837188 L -1946018.8115557171,-71501.92202210087 L -1946476.1832910548,-71583.65207917216 L -1947430.268435265,-72222.5151511247 L -1947612.5472661064,-72421.44902554517 L -1947625.9456936389,-72434.6728178568 L -1947640.6025967451,-72446.48644282026 L -1947656.3702290293,-72456.77081521697 L -1947673.0896475809,-72465.4222651963 L -1947690.592315171,-72472.35358330181 L -1947708.7017991631,-72477.49489957112 L -1947727.2355500127,-72480.79438784809 L -1947746.0067414257,-72482.2187882075 L -1947764.826153629,-72481.75374222605 L -1947783.5040807687,-72479.40393771992 L -1947801.8522432058,-72475.19306149006 L -1948210.3890552006,-72359.56604383508 L -1949057.343206005,-72297.40484517274 L -1949075.4628233728,-72295.18391212713 L -1949093.280584727,-72291.21144973199 L -1949110.627591968,-72285.52511374743 L -1949127.3394093686,-72278.17880608179 L -1949143.2576222923,-72269.24216384468 L -1949158.2313388363,-72258.79989924307 L -1949172.1186201673,-72246.9509965773 L -1949184.7878259872,-72233.80777394945 L -1949196.1188623772,-72219.49481857753 L -1949206.0043201928,-72204.14780580862 L -1949214.3504932155,-72187.9122130253 L -1949221.0782664134,-72170.94194063656 L -1949226.1238658882,-72153.39785322534 L -1949229.4394634,-72135.44625468116 L -1949238.6745548057,-72066.90880320745 L -1949240.2410505058,-72048.37382660706 L -1949239.96332714,-72029.77484448202 L -1949237.8441179942,-72011.29490349317 L -1949233.9042798094,-71993.11587872742 L -1949228.1825875156,-71975.41668372738 L -1949220.7353526172,-71958.37150966772 L -1949211.6358689899,-71942.14811100802 L -1949200.9736915394,-71926.90615449417 L -1949188.8537548245,-71912.79564775695 L -1949175.395340316,-71899.9554629736 L -1949160.7309024578,-71888.51197012138 L -1949145.0047650826,-71878.57779327518 L -1949128.3717010114,-71870.2507021886 L -1949110.995408818,-71863.61265006787 L -1949093.0469017455,-71858.72896700833 L -1947992.7703250952,-71617.25734263948 L -1948813.8858582317,-70229.60956531756 L -1948891.1030170736,-70194.24107045386 L -1948908.0785287113,-70185.39064671713 L -1950477.2890042902,-69262.4488402929 L -1950480.0616028798,-69260.78577879274 L -1950752.4103069827,-69094.2158156828 L -1950768.1023383245,-69083.48909670404 L -1950782.6277043768,-69071.2287505126 L -1950795.8371273053,-69057.56077723262 L -1950807.594853282,-69042.62564323445 L -1950817.7800476332,-69026.57683755567 L -1950826.2880366626,-69009.57929448731 L -1950833.0313833882,-68991.80769853684 L -1950837.9407861347,-68973.44468918769 L -1950840.9657907519,-68954.6789839051 L -1950842.075309132,-68935.70343867842 L -1950841.2579387059,-68916.71306603141 L -1950838.5220796252,-68897.90303086991 L -1950833.8958484356,-68879.4666447634 L -1950827.4267891217,-68861.59337927333 L -1950819.181384494,-68844.46691874547 L -1950668.0428629913,-68567.41556330402 L -1950799.8002487791,-67260.2316046116 L -1950800.7387568045,-67239.8359681197 L -1950799.4540767712,-67219.45920727713 L -1950795.9614416827,-67199.34293810606 L -1950690.6397224427,-66742.0779965234 z\" /><path fill-rule=\"evenodd\" fill=\"#66cc99\" stroke=\"#555555\" stroke-width=\"243.67962815532994\" opacity=\"0.6\" d=\"M -1933388.3554305104,-62403.301938014476 L -1933386.1051411277,-62419.2388185133 L -1933374.6569847255,-62536.477490750265 L -1933373.7931803742,-62557.68582515187 L -1933375.3319492084,-62578.85589356278 L -1933379.2535713685,-62599.71639417232 L -1933503.3759215055,-63101.58178258624 L -1933508.5632035867,-63118.918403139825 L -1933515.3975723807,-63135.67422931452 L -1933523.8153684952,-63151.69318733884 L -1933533.73818355,-63166.82606707132 L -1933545.0735905198,-63180.931911832864 L -1933557.716004655,-63193.87933136144 L -1933571.5476669597,-63205.54772565942 L -1933586.4397410715,-63215.828408334026 L -1933602.2535133187,-63224.625618967264 L -1933618.8416847826,-63231.857415085644 L -1933636.0497433275,-63237.456435421336 L -1933653.71740282,-63241.37052735524 L -1933671.6800961285,-63243.5632326976 L -1933689.7705080002,-63244.014127281385 L -1933707.8201335352,-63242.719011205176 L -1933988.1329562783,-63208.9460538542 L -1934541.5739328524,-63192.388268892355 L -1934559.1552370898,-63191.03272974889 L -1934576.5314513368,-63188.03157605366 L -1934593.548891522,-63183.41135153543 L -1934610.0570467548,-63177.212919808335 L -1934625.9099105184,-63169.491102953245 L -1934640.9672720286,-63160.314196643456 L -1934655.0959563255,-63149.763366103034 L -1934668.1710021442,-63137.93192824031 L -1934680.076767133,-63124.924526305695 L -1934690.707950655,-63110.856204373624 L -1934699.9705251188,-63095.85138983426 L -1934811.6977797344,-62894.2247366905 L -1934820.1195450267,-62877.00491439773 L -1934826.7391426105,-62859.01521350365 L -1934831.4873853398,-62840.443659949495 L -1934834.3146452182,-62821.484361122515 L -1934835.1913721047,-62802.335477071545 L -1934834.1084025674,-62783.19714936476 L -1934831.077055659,-62764.269409236826 L -1934826.12901461,-62745.750086889304 L -1934819.315995683,-62727.832743795836 L -1934652.0019533327,-62347.56898399825 L -1934538.9494872224,-61766.73400921165 L -1934534.475202943,-61748.61035458898 L -1934528.2209132004,-61731.02143942893 L -1934520.2486135964,-61714.14161372723 L -1934510.637329494,-61698.1381986355 L -1934314.6633388419,-61405.85358147492 L -1934138.8328303571,-61085.362609515636 L -1934129.1502948138,-61069.60956209586 L -1934117.963204032,-61054.886824667046 L -1934105.3803573912,-61041.33758232766 L -1934091.5241286105,-61029.093607420175 L -1934076.5292756106,-61018.27397798706 L -1934060.5416299335,-61008.98391968444 L -1934043.7166784673,-61001.3137824163 L -1934026.2180512664,-60995.33816164188 L -1934008.2159301785,-60991.11517290208 L -1933989.885393751,-60988.68588662022 L -1933971.4047145147,-60988.07392867409 L -1933952.9536252057,-60989.28525062396 L -1933934.7115707844,-60992.30807183096 L -1933916.8559632555,-60997.11299402901 L -1933899.5604562573,-61003.65328723592 L -1933882.993256204,-61011.86534422296 L -1933867.315486405,-61021.66929912321 L -1933852.6796200685,-61032.96980416221 L -1933839.2279974334,-61045.656956957 L -1933827.0914414474,-61059.6073693652 L -1933816.387985457,-61074.68536748891 L -1933807.2217252804,-61090.74431116314 L -1933799.6818068302,-61107.62802009581 L -1933478.770513175,-61933.352304685235 L -1933473.1804130543,-61950.008230458174 L -1933469.1738202167,-61967.1142614574 L -1933388.3554305104,-62403.301938014476 z\" /><path fill-rule=\"evenodd\" fill=\"#66cc99\" stroke=\"#555555\" stroke-width=\"243.67962815532994\" opacity=\"0.6\" d=\"M -1942017.5724177798,-46262.912184668734 L -1942014.1839215567,-46244.12796434883 L -1942008.9032381212,-46225.78557567847 L -1942001.7850918898,-46208.07510324235 L -1941992.9032491476,-46191.18008299422 L -1941491.142318834,-45344.39733659053 L -1941481.389223903,-45329.58336965176 L -1941470.2800255474,-45315.75722814048 L -1941457.9141283531,-45303.04262772287 L -1941444.402181789,-45291.55333804751 L -1941429.8650901194,-45281.39216473992 L -1941414.4329305594,-45272.650029502576 L -1941398.243789349,-45265.405156551846 L -1941381.4425261654,-45259.722372671305 L -1941364.179477924,-45255.65252714476 L -1941094.417429106,-45205.38911099475 L -1940451.5264056374,-44725.67133619493 L -1940360.890514316,-44348.73787426079 L -1940355.127713471,-44329.41103213145 L -1940347.3224399793,-44310.81494636062 L -1940337.5649961685,-44293.164762493216 L -1940325.9682698038,-44276.664682557246 L -1940092.2581827692,-43979.496388193336 L -1940080.1128767035,-43965.530953807014 L -1940066.6499087717,-43952.830941543514 L -1940052.0004542125,-43941.52009285069 L -1940036.3072486932,-43931.70861398386 L -1940019.7231975754,-43923.492102220844 L -1940002.4098860968,-43916.95061441837 L -1939984.5360049785,-43912.14788698511 L -1939966.275706803,-43909.13071487168 L -1939947.8069091723,-43907.92849562808 L -1939929.3095611855,-43908.55294297134 L -1939910.963890119,-43910.99797265394 L -1939892.9486453987,-43915.23976174507 L -1939875.4393569704,-43921.23698074736 L -1939858.6066250396,-43928.93119628713 L -1939191.431785134,-44274.673332096354 L -1939185.5525238642,-44277.85427944895 L -1938850.2989098243,-44467.04369910638 L -1938835.2938880082,-44476.472939543666 L -1938821.246107884,-44487.27669484016 L -1938808.2810624565,-44499.35845183113 L -1938796.5145723394,-44512.61028058203 L -1938786.0517510937,-44526.91379855864 L -1938776.9860662192,-44542.141228173634 L -1938769.3985041794,-44558.15653826171 L -1938763.3568469265,-44574.816659286604 L -1938476.029673832,-45501.642381580314 L -1938471.6212165202,-45518.63941145221 L -1938468.8221217787,-45535.97430657629 L -1938467.6569387198,-45553.4950334098 L -1938468.1358864368,-45571.04792859606 L -1938470.2547643783,-45588.479046649816 L -1938577.8161098652,-46223.43749732639 L -1938581.974828044,-46242.1315380264 L -1938588.018749843,-46260.30385499125 L -1938595.8848229905,-46277.764868358674 L -1938605.490985906,-46294.33241883022 L -1938616.7370237925,-46309.833668019746 L -1938629.5056141142,-46324.106901562904 L -1938643.6635505443,-46337.00321617709 L -1938803.6402250316,-46468.42226848913 L -1939255.018026216,-47544.258263927055 L -1939205.4100384295,-48354.49878517545 L -1939205.32640147,-48375.95645913346 L -1939207.6949434862,-48397.2831742004 L -1939275.9575069998,-48800.1231480681 L -1939279.863641887,-48817.891705287024 L -1939285.4734158008,-48835.19806111464 L -1939292.7340153656,-48851.87928437187 L -1939301.5770854603,-48867.77832920796 L -1939311.9193727497,-48882.74551361317 L -1939323.6635094765,-48896.63992860429 L -1939336.6989301308,-48909.33076481624 L -1939350.9029123748,-48920.69854401061 L -1939366.1417324133,-48930.6362439069 L -1939382.271923942,-48939.050305746816 L -1939399.141628814,-48945.861515105906 L -1939416.5920267128,-48951.00574765995 L -1939434.4588303713,-48954.43457288527 L -1939452.5738322583,-48956.11571000929 L -1939470.7664881735,-48956.03333191874 L -1939488.8655228403,-48954.1882141645 L -1939506.7005423822,-48950.59772766012 L -1939524.1036385007,-48945.29567514292 L -1939540.910969252,-48938.33197293713 L -1940735.8068617259,-48373.858902319866 L -1941116.407032907,-48322.4624215783 L -1942134.839536853,-48772.20031335938 L -1942151.7392007553,-48778.7071988702 L -1942169.1877571596,-48783.55344261861 L -1942187.0224455849,-48786.69383874657 L -1942205.0769037027,-48788.09909357654 L -1942223.1827191687,-48787.756098863516 L -1942241.1710005763,-48785.66805406902 L -1942258.8739528789,-48781.8544365164 L -1942276.1264425854,-48776.35081970602 L -1942292.7675381287,-48769.20854148494 L -1942308.6420110385,-48760.49422516641 L -1942323.601783916,-48750.28915806633 L -1942337.5073117022,-48738.68853325354 L -1942350.228883358,-48725.80056158696 L -1942361.6478318092,-48711.74546232257 L -1942371.6576408779,-48696.65434170579 L -1942380.1649388664,-48680.66797000981 L -1942387.0903695293,-48663.93546842769 L -1942392.3693323124,-48646.61291806691 L -1942395.9525849451,-48628.86190402168 L -1942397.806702776,-48610.84800810398 L -1942397.9143905574,-48592.739264293145 L -1942396.274643775,-48574.70459131151 L -1942392.9027580195,-48556.91221694728 L -1941999.4298619966,-46917.849850653 L -1942059.6518016092,-46733.55695726769 L -1942064.1092311095,-46717.54433064752 L -1942067.131057666,-46701.19986818197 L -1942068.6935344702,-46684.65201166631 L -1942068.7843829088,-46668.03080125349 L -1942067.4028890564,-46651.466853542835 L -1942017.5724177798,-46262.912184668734 z\" /><path fill-rule=\"evenodd\" fill=\"#66cc99\" stroke=\"#555555\" stroke-width=\"243.67962815532994\" opacity=\"0.6\" d=\"M -1945511.8437207523,-53353.233642631305 L -1945519.5891912149,-53334.732981701694 L -1945525.3141938988,-53315.51083011062 L -1945528.953221865,-53295.78713261289 L -1945530.4646364285,-53275.787572779285 L -1945540.102158425,-52836.17483851675 L -1945539.8010413726,-52820.67718730174 L -1945538.22086145,-52805.25736576992 L -1945535.372418058,-52790.020757390615 L -1945321.1321292596,-51858.934523220945 L -1945316.1814589282,-51841.37655972585 L -1945309.5479638155,-51824.382797299106 L -1945301.2944369933,-51808.114099938146 L -1945291.4990068527,-51792.72446813003 L -1945280.2543975364,-51778.3595810734 L -1945267.6670512059,-51765.1554176702 L -1945253.8561204532,-51753.23696934107 L -1945004.4444588094,-51558.34074022328 L -1944988.2413562029,-51547.00280301455 L -1944970.934208196,-51537.434523017815 L -1944952.7155450312,-51529.74234083596 L -1944933.788036937,-51524.01182676054 L -1944914.3622395587,-51520.306728860494 L -1944894.6542516714,-51518.66826382832 L -1944664.0325099481,-51511.70461611071 L -1944645.0333641262,-51512.09435898219 L -1944626.1712461421,-51514.405191434635 L -1944607.6399046895,-51518.61337696244 L -1944589.629690778,-51524.67568974924 L -1944572.325602477,-51532.52985867658 L -1944555.9053846456,-51542.09520696306 L -1944540.5377031653,-51553.273480863456 L -1944526.3804124307,-51565.94985891565 L -1944513.5789338935,-51579.99413136854 L -1944502.2647623173,-51595.26203767597 L -1944417.958335716,-51721.98387677532 L -1944413.0048886572,-51729.84509803682 L -1943957.0596518929,-52494.83098673099 L -1943947.4238107996,-52513.248375084506 L -1943939.885748094,-52532.61915818661 L -1943934.5381021318,-52552.70528051033 L -1943882.6278381555,-52802.691352447124 L -1943867.1758133818,-52856.368984614506 L -1943863.7715195315,-52870.132795089194 L -1943861.4170204862,-52884.114498477844 L -1943828.82704035,-53135.317952452315 L -1943735.0882117567,-53478.84907709773 L -1943731.058411202,-53497.189199077024 L -1943728.8832297076,-53515.84041759465 L -1943728.5844832412,-53534.615670383224 L -1943730.1651680784,-53553.326651174495 L -1943733.6094307518,-53571.78569831575 L -1943738.8827270523,-53589.80767692112 L -1944047.6816834991,-54477.561233007254 L -1943880.8901290786,-54970.34564794458 L -1943875.778757679,-54988.36528561047 L -1943872.490737701,-55006.80498148155 L -1943871.05888116,-55025.48072098607 L -1943871.4974769289,-55044.20613401077 L -1943873.8021481452,-55062.79435473732 L -1943877.949895889,-55081.05988642538 L -1943883.8993286956,-55098.82045253331 L -1943891.5910756113,-55115.898815703775 L -1943900.9483786714,-55132.124546461804 L -1943911.8778588898,-55147.335723975426 L -1943924.2704481105,-55161.38055190612 L -1943938.0024774284,-55174.11887322444 L -1943952.9369113133,-55185.42356887382 L -1943968.9247151248,-55195.18182632505 L -1943985.806342366,-55203.29626536219 L -1944003.4133268413,-55209.685909865264 L -1944390.3309497698,-55328.591858352986 L -1944408.1011805562,-55333.11491021669 L -1944426.2282419216,-55335.88054696495 L -1944444.5387642146,-55336.8623176762 L -1944462.8576231387,-55336.050832563385 L -1944481.0096146648,-55333.453852779196 L -1944498.8211307065,-55329.09621618735 L -1944516.12181953,-55323.01959980992 L -1944532.7462150222,-55315.28212122272 L -1944548.5353192298,-55305.95778271093 L -1944563.3381230384,-55295.135763501385 L -1944577.0130504426,-55282.919566840385 L -1944589.4293125984,-55269.42603007478 L -1944600.4681587059,-55254.78420720388 L -1944610.024011757,-55239.13413458962 L -1944618.005478289,-55222.62549163003 L -1944624.3362224828,-55205.41616920531 L -1944743.38921021,-54825.381242100564 L -1945349.185525862,-53662.24161606237 L -1945360.4570057685,-53650.59835255834 L -1945371.1780331824,-53637.285732223405 L -1945380.642168455,-53623.05209486232 L -1945388.7707598172,-53608.015729229046 L -1945511.8437207523,-53353.233642631305 z\" /></g></g></svg>"
      ],
      "text/plain": [
       "<MULTIPOLYGON (((-1936666.021 -48441.62, -1936369.056 -47208.17, -1936364.21...>"
      ]
     },
     "metadata": {},
     "output_type": "display_data"
    },
    {
     "data": {
      "text/plain": [
       "308"
      ]
     },
     "metadata": {},
     "output_type": "display_data"
    },
    {
     "data": {
      "text/plain": [
       "38.1056976942764"
      ]
     },
     "metadata": {},
     "output_type": "display_data"
    },
    {
     "data": {
      "image/svg+xml": [
       "<svg xmlns=\"http://www.w3.org/2000/svg\" xmlns:xlink=\"http://www.w3.org/1999/xlink\" width=\"300\" height=\"300\" viewBox=\"-1929777.5279829134 -99773.96146817018 12971.988083840813 7904.793282439132\" preserveAspectRatio=\"xMinYMin meet\"><g transform=\"matrix(1,0,0,-1,0,-191643.1296539012)\"><path fill-rule=\"evenodd\" fill=\"#66cc99\" stroke=\"#555555\" stroke-width=\"86.47992055893876\" opacity=\"0.6\" d=\"M -1928925.5583116314,-96218.32794892941 L -1928915.7352158704,-96207.15245584301 L -1928317.9454586713,-95579.16873084118 L -1928158.7409524317,-95092.45549297961 L -1928152.1561176775,-95075.23897294955 L -1928143.9126210345,-95058.75220935608 L -1928134.0901320188,-95043.1545390102 L -1928122.7835803633,-95028.59670605505 L -1928110.102238569,-95015.21940509482 L -1928096.1686658359,-95003.15192144753 L -1928081.117523587,-94992.51088166331 L -1928065.0942740284,-94983.39912638371 L -1928048.2537743265,-94975.90471643522 L -1928030.7587799851,-94970.10008176294 L -1928012.7783718908,-94966.04132142912 L -1927994.4863222258,-94963.76766144222 L -1927976.059415041,-94963.30107565595 L -1927957.6757377228,-94964.64607340237 L -1927939.5129598598,-94967.78965591124 L -1927921.7466161526,-94972.70144193707 L -1927724.4908806505,-95037.82970676519 L -1927706.5070939371,-95044.81261549915 L -1927295.8808202157,-95229.09302798561 L -1926317.2935040973,-95373.40528183976 L -1926300.6902487876,-95376.62476810353 L -1926284.4446384152,-95381.32724854547 L -1925722.5859961489,-95571.81875889734 L -1925227.77628382,-95676.08402070048 L -1924961.486045538,-95715.33475133512 L -1923291.9770000104,-95186.06788755767 L -1923160.0342262401,-94905.6097070348 L -1923214.1890598184,-93125.23988337695 L -1923213.8117267403,-93106.35625026794 L -1923211.536520835,-93087.60638579546 L -1923207.3865288438,-93069.1805467068 L -1923201.4038611501,-93051.2657018313 L -1923193.6492244801,-93034.043634889 L -1923022.4896057544,-92699.96777806342 L -1923013.719827809,-92684.66914862335 L -1923003.5516224217,-92670.26204387755 L -1922992.0749273798,-92656.87389468247 L -1922979.3912540628,-92644.62311923178 L -1922965.6127895745,-92633.6180756471 L -1922950.8614044476,-92623.95610355042 L -1922935.2675746994,-92615.72266309503 L -1922918.9692277696,-92608.99057907036 L -1922902.1105225543,-92603.81939676663 L -1922884.8405743185,-92600.25485529672 L -1922867.3121357725,-92598.32848303365 L -1922453.44053714,-92572.46131939445 L -1922433.6297642367,-92572.27185303082 L -1922413.9095887174,-92574.17377258856 L -1922394.5001768556,-92578.14584405065 L -1922375.6182253985,-92584.14372114984 L -1922095.2122053902,-92689.82598387427 L -1921155.5664370526,-92468.01311453145 L -1921057.9730902626,-92406.82796414202 L -1921040.80367979,-92397.27860957314 L -1921022.729308359,-92389.57822477596 L -1921003.9484136503,-92383.81135191591 L -1920984.6671902302,-92380.04130522108 L -1920965.0973257516,-92378.30947585826 L -1920945.4536768436,-92378.63487750123 L -1920079.0172034628,-92438.49486990814 L -1919413.5835137346,-92463.1197125643 L -1918753.2310520585,-92352.15228482847 L -1918735.5375534007,-92350.03764421372 L -1918717.7232168312,-92349.61218883627 L -1918699.9489416154,-92350.87976141331 L -1918682.3752651836,-92353.82891321671 L -1918665.1609131563,-92358.43300747804 L -1918648.4613657324,-92364.65045997218 L -1918632.4274533899,-92372.42511460632 L -1918435.78983199,-92479.5990562387 L -1917390.4924359769,-92994.12130237983 L -1917374.5641620196,-93002.94721284733 L -1917359.5671731336,-93013.27663350837 L -1917345.6429264026,-93025.01213348973 L -1917332.9227604142,-93038.04301926385 L -1917321.526656425,-93052.24637875064 L -1917311.5621066564,-93067.48824066918 L -1917303.1231003855,-93083.62483820382 L -1917296.2892374054,-93100.50396506535 L -1917291.1249772112,-93117.96641115645 L -1917287.6790309937,-93135.84746429946 L -1917285.9839021778,-93153.97846386192 L -1917286.055579838,-93172.18839162537 L -1917287.893387885,-93190.30548489167 L -1917291.479991441,-93208.15885661161 L -1917296.7815603493,-93225.58010725403 L -1917303.7480882737,-93242.40491321185 L -1917312.3138643745,-93258.47457676234 L -1917322.3980931195,-93273.63752296212 L -1917333.905656375,-93287.75072935746 L -1917346.728010596,-93300.68107502437 L -1917360.7442106486,-93312.3065962138 L -1917375.8220506078,-93322.5176367584 L -1917391.819310773,-93331.21788238951 L -1917408.5850991362,-93338.32526920861 L -1917425.9612746502,-93343.772757744 L -1917443.783938873,-93347.50896529162 L -1917461.8849819177,-93349.49865057558 L -1917480.0936681267,-93349.7230461566 L -1917498.2382465128,-93348.18003545352 L -1917516.147570777,-93344.88417270756 L -1918808.3425943858,-93041.54344890207 L -1918827.777399612,-93044.86873860341 L -1919480.5739723686,-93489.58477833259 L -1920384.482751727,-94196.51499024821 L -1920365.9207961566,-94654.85391600995 L -1919340.991668082,-95417.9756637879 L -1919326.8390693236,-95429.63066126542 L -1919313.8924057225,-95442.61214497939 L -1919302.27546258,-95456.79599670735 L -1919292.099311509,-95472.04660217722 L -1919283.4612484588,-95488.2181476989 L -1919276.443863452,-95505.15601431442 L -1919271.1142509265,-95522.69825613656 L -1919267.5233682343,-95540.67714874174 L -1919265.705548429,-95558.92079281229 L -1919265.6781720016,-95577.25475769579 L -1919267.4415007029,-95595.50374916679 L -1919270.9786750409,-95613.49328544544 L -1919307.9932752496,-95762.76998842316 L -1918534.7989081023,-97329.12553429871 L -1918386.7121571403,-97497.88311140226 L -1918375.9808077586,-97511.30650952106 L -1918366.5235947573,-97525.65609484079 L -1918358.4199686719,-97540.81131575213 L -1918351.7380084847,-97556.64485245949 L -1918346.5338496896,-97573.02368660114 L -1918342.851212694,-97589.8102187434 L -1918308.9254455753,-97787.31164050668 L -1918306.7463508553,-97805.00117825707 L -1918306.256721021,-97822.8177004274 L -1918307.4609803157,-97840.60021878593 L -1918310.3482471786,-97858.18805235584 L -1918314.8924325684,-97875.42227931168 L -1918321.0524757004,-97892.14717298043 L -1918328.7727150694,-97908.2116089714 L -1918337.983391399,-97923.47043072038 L -1918348.6012779814,-97937.78576110929 L -1918360.5304327034,-97951.02824830933 L -1918373.6630649697,-97963.07823459058 L -1918387.8805096883,-97973.8268375367 L -1918593.563965354,-98114.47999455221 L -1918673.9772009207,-98184.09611384783 L -1918687.495019674,-98194.75373699318 L -1918701.9332852724,-98204.12672165505 L -1918717.170304013,-98212.13606712518 L -1918733.077649859,-98218.71426620196 L -1918749.5212468856,-98223.80587417867 L -1919212.5726476894,-98344.19435665433 L -1919231.3203858673,-98348.0589860711 L -1919250.3644522575,-98349.99201029039 L -1919269.5063616864,-98349.97328253042 L -1919288.546609219,-98348.00299797973 L -1919307.286749483,-98344.10169176268 L -1919325.5314649488,-98338.31002491391 L -1919343.0906016098,-98330.68836059216 L -1919359.7811508467,-98321.31613495032 L -1919375.4291568194,-98310.29102921882 L -1919710.1514094626,-98047.89852344453 L -1920146.6326700838,-97944.18466279906 L -1920163.13892505,-97939.45444567264 L -1920179.143242735,-97933.23405802308 L -1920194.5114058799,-97925.57566598424 L -1920209.114532219,-97916.54349524861 L -1920629.3472479396,-97629.2178550955 L -1920643.9723798172,-97618.1301138988 L -1920657.4434529864,-97605.66565743463 L -1920669.6314009207,-97591.94390782202 L -1920680.4194507326,-97577.09633332198 L -1920689.7042419773,-97561.26518873843 L -1920697.396816949,-97544.60215247294 L -1921181.0539485123,-96346.02712194157 L -1922618.9313543467,-96659.92096737139 L -1922733.2781529985,-96904.17130879569 L -1922931.8887289432,-97680.17999063795 L -1922937.5947788525,-97698.51061478115 L -1922945.1453367213,-97716.16167318894 L -1922954.4612440772,-97732.94811584917 L -1922965.4448348917,-97748.6939572007 L -1922977.980959491,-97763.23412112935 L -1922991.9381917622,-97776.4161715914 L -1923007.1702069945,-97788.10191072118 L -1923023.5173159197,-97798.16882766875 L -1923040.8081388602,-97806.51138297805 L -1923058.861402437,-97813.04211504052 L -1923910.8031019042,-98072.74184328718 L -1923987.3097982768,-98114.26645881709 L -1924002.7092181847,-98121.7358177201 L -1924487.586648437,-98330.14964038933 L -1924508.1763315757,-98337.60771014533 L -1924731.7771103438,-98404.11214485519 L -1924745.1717783136,-98407.56374811895 L -1924903.319215794,-98442.1495970768 L -1925095.376849708,-98515.09053197321 L -1925540.1057333986,-98715.24521848653 L -1925557.182582432,-98721.94671609324 L -1925574.8325780593,-98726.94736579484 L -1925592.8867678863,-98730.19929949225 L -1925611.17233042,-98731.67138845343 L -1925629.5142293805,-98731.34954128938 L -1925647.7368892152,-98729.23683884217 L -1925665.6658757727,-98725.35350469395 L -1925683.1295660525,-98719.73671157923 L -1925913.191274299,-98633.11013634235 L -1926425.778963472,-98621.66508441721 L -1927349.9999396547,-98938.73075965338 L -1927708.1168563096,-99217.02869085717 L -1927722.6765167634,-99227.27288681005 L -1927738.1421037912,-99236.09007917086 L -1927754.3741979115,-99243.40078253814 L -1927771.226469718,-99249.13909223747 L -1927788.5469990151,-99253.25327844018 L -1927806.1796443504,-99255.7062524985 L -1928213.4135250556,-99292.75928987405 L -1928232.6251149443,-99293.51746506496 L -1928251.813344297,-99292.3042585766 L -1928270.7764532228,-99289.13242700072 L -1928289.3150489212,-99284.03532142883 L -1928307.234202252,-99277.06653677295 L -1928324.3454973716,-99268.29934822724 L -1928340.4690128833,-99257.82594079594 L -1928355.4352136685,-99245.75643998888 L -1928493.3773626967,-99122.32074145017 L -1928506.1449144168,-99109.74677797261 L -1928517.6538158199,-99096.01141765862 L -1928527.798945338,-99081.24011840906 L -1928536.4876380085,-99065.56780032461 L -1928543.6405318691,-99049.13761335432 L -1928549.1922928458,-99032.099629773 L -1928553.0922115098,-99014.60947343077 L -1928555.3046662537,-98996.82689829479 L -1928582.938531538,-98633.81301639543 L -1928593.2026244828,-98568.513551629 L -1928865.6135021085,-98014.9173796134 L -1928976.4996015052,-97873.52138534849 L -1929076.9890229139,-97749.2461012778 L -1929086.9231000107,-97735.77212249275 L -1929095.6158130225,-97721.46580456807 L -1929102.9978714623,-97706.44118459766 L -1929109.0104322028,-97690.81802533305 L -1929113.6055685196,-97674.72086054244 L -1929292.100376577,-96923.93750380742 L -1929295.5263152092,-96905.45263129973 L -1929297.0839798083,-96886.71760399432 L -1929296.7577110927,-96867.92076607239 L -1929294.5507890584,-96849.25108310045 L -1929290.485400005,-96830.89624234979 L -1929284.6024134948,-96813.04076596693 L -1929183.2758537345,-96550.57638227665 L -1929175.2930036017,-96532.72890133648 L -1929165.4950502787,-96515.80972337667 L -1929153.9885281848,-96500.00281281656 L -1928925.5583116314,-96218.32794892941 z\" /></g></svg>"
      ],
      "text/plain": [
       "<POLYGON ((-1928925.558 -96218.328, -1928915.735 -96207.152, -1928317.945 -9...>"
      ]
     },
     "metadata": {},
     "output_type": "display_data"
    }
   ],
   "source": [
    "for fid in allfires.fids_active:\n",
    "    if allfires.fires[fid].farea > 35:\n",
    "        display(fid, a.fires[fid].farea, a.fires[fid].hull)"
   ]
  },
  {
   "cell_type": "markdown",
   "id": "3156f464-8ada-4803-9cd7-2c089a3ee20f",
   "metadata": {},
   "source": [
    "What does it look like to rehydrate the object for all timesteps?"
   ]
  },
  {
   "cell_type": "code",
   "execution_count": 27,
   "id": "407d9366-85e8-4b1f-9e33-beb1e605c241",
   "metadata": {
    "execution": {
     "iopub.execute_input": "2024-01-26T21:03:11.462587Z",
     "iopub.status.busy": "2024-01-26T21:03:11.462376Z",
     "iopub.status.idle": "2024-01-26T21:03:14.099687Z",
     "shell.execute_reply": "2024-01-26T21:03:14.099245Z",
     "shell.execute_reply.started": "2024-01-26T21:03:11.462571Z"
    }
   },
   "outputs": [
    {
     "name": "stderr",
     "output_type": "stream",
     "text": [
      "2024-01-26 16:03:11,499 - FireLog - INFO - func:rehydrate_allfires took: 36.18 ms\n",
      "2024-01-26 16:03:11,546 - FireLog - INFO - func:rehydrate_allfires took: 45.90 ms\n",
      "2024-01-26 16:03:11,605 - FireLog - INFO - func:rehydrate_allfires took: 58.53 ms\n",
      "2024-01-26 16:03:11,676 - FireLog - INFO - func:rehydrate_allfires took: 70.20 ms\n",
      "2024-01-26 16:03:11,759 - FireLog - INFO - func:rehydrate_allfires took: 81.00 ms\n",
      "2024-01-26 16:03:11,853 - FireLog - INFO - func:rehydrate_allfires took: 93.10 ms\n",
      "2024-01-26 16:03:11,958 - FireLog - INFO - func:rehydrate_allfires took: 103.71 ms\n",
      "2024-01-26 16:03:12,073 - FireLog - INFO - func:rehydrate_allfires took: 114.42 ms\n",
      "2024-01-26 16:03:12,198 - FireLog - INFO - func:rehydrate_allfires took: 123.18 ms\n",
      "2024-01-26 16:03:12,333 - FireLog - INFO - func:rehydrate_allfires took: 134.00 ms\n",
      "2024-01-26 16:03:12,479 - FireLog - INFO - func:rehydrate_allfires took: 144.04 ms\n",
      "2024-01-26 16:03:12,633 - FireLog - INFO - func:rehydrate_allfires took: 152.77 ms\n",
      "2024-01-26 16:03:12,956 - FireLog - INFO - func:rehydrate_allfires took: 321.87 ms\n",
      "2024-01-26 16:03:13,124 - FireLog - INFO - func:rehydrate_allfires took: 166.66 ms\n",
      "2024-01-26 16:03:13,299 - FireLog - INFO - func:rehydrate_allfires took: 173.24 ms\n",
      "2024-01-26 16:03:13,485 - FireLog - INFO - func:rehydrate_allfires took: 184.25 ms\n",
      "2024-01-26 16:03:13,678 - FireLog - INFO - func:rehydrate_allfires took: 191.83 ms\n",
      "2024-01-26 16:03:13,883 - FireLog - INFO - func:rehydrate_allfires took: 203.11 ms\n",
      "2024-01-26 16:03:14,096 - FireLog - INFO - func:rehydrate_allfires took: 211.57 ms\n"
     ]
    },
    {
     "name": "stdout",
     "output_type": "stream",
     "text": [
      "CPU times: user 2.63 s, sys: 0 ns, total: 2.63 s\n",
      "Wall time: 2.63 s\n"
     ]
    }
   ],
   "source": [
    "%%time\n",
    "for t in FireTime.t_generator(tst, ted):\n",
    "    a = rehydrate_allfires(t, allpixels, fires_df, activeonly=False)"
   ]
  },
  {
   "cell_type": "code",
   "execution_count": 25,
   "id": "6e8d16ad-cf81-4749-bf03-333e3a86d3cc",
   "metadata": {
    "execution": {
     "iopub.execute_input": "2024-01-26T21:02:35.795057Z",
     "iopub.status.busy": "2024-01-26T21:02:35.794809Z",
     "iopub.status.idle": "2024-01-26T21:02:38.139799Z",
     "shell.execute_reply": "2024-01-26T21:02:38.139291Z",
     "shell.execute_reply.started": "2024-01-26T21:02:35.795037Z"
    }
   },
   "outputs": [
    {
     "name": "stderr",
     "output_type": "stream",
     "text": [
      "2024-01-26 16:02:35,829 - FireLog - INFO - func:rehydrate_allfires took: 33.23 ms\n",
      "2024-01-26 16:02:35,877 - FireLog - INFO - func:rehydrate_allfires took: 46.14 ms\n",
      "2024-01-26 16:02:35,934 - FireLog - INFO - func:rehydrate_allfires took: 56.36 ms\n",
      "2024-01-26 16:02:36,006 - FireLog - INFO - func:rehydrate_allfires took: 71.10 ms\n",
      "2024-01-26 16:02:36,087 - FireLog - INFO - func:rehydrate_allfires took: 80.70 ms\n",
      "2024-01-26 16:02:36,185 - FireLog - INFO - func:rehydrate_allfires took: 96.73 ms\n",
      "2024-01-26 16:02:36,286 - FireLog - INFO - func:rehydrate_allfires took: 99.69 ms\n",
      "2024-01-26 16:02:36,402 - FireLog - INFO - func:rehydrate_allfires took: 114.92 ms\n",
      "2024-01-26 16:02:36,525 - FireLog - INFO - func:rehydrate_allfires took: 122.72 ms\n",
      "2024-01-26 16:02:36,660 - FireLog - INFO - func:rehydrate_allfires took: 133.77 ms\n",
      "2024-01-26 16:02:36,804 - FireLog - INFO - func:rehydrate_allfires took: 142.17 ms\n",
      "2024-01-26 16:02:36,957 - FireLog - INFO - func:rehydrate_allfires took: 151.84 ms\n",
      "2024-01-26 16:02:37,109 - FireLog - INFO - func:rehydrate_allfires took: 150.76 ms\n",
      "2024-01-26 16:02:37,255 - FireLog - INFO - func:rehydrate_allfires took: 144.57 ms\n",
      "2024-01-26 16:02:37,398 - FireLog - INFO - func:rehydrate_allfires took: 141.51 ms\n",
      "2024-01-26 16:02:37,697 - FireLog - INFO - func:rehydrate_allfires took: 297.58 ms\n",
      "2024-01-26 16:02:37,845 - FireLog - INFO - func:rehydrate_allfires took: 147.34 ms\n",
      "2024-01-26 16:02:37,992 - FireLog - INFO - func:rehydrate_allfires took: 145.42 ms\n",
      "2024-01-26 16:02:38,136 - FireLog - INFO - func:rehydrate_allfires took: 142.40 ms\n"
     ]
    },
    {
     "name": "stdout",
     "output_type": "stream",
     "text": [
      "CPU times: user 2.32 s, sys: 7.99 ms, total: 2.33 s\n",
      "Wall time: 2.34 s\n"
     ]
    }
   ],
   "source": [
    "%%time\n",
    "for t in FireTime.t_generator(tst, ted):\n",
    "    a = rehydrate_allfires(t, allpixels, fires_df, activeonly=True)"
   ]
  },
  {
   "cell_type": "markdown",
   "id": "718a7d8c-2140-4e7f-92e5-f8d9aae1501b",
   "metadata": {},
   "source": [
    "## Experiments with not using a metadata file\n",
    "\n",
    "Notice that we don't have `ftype` (or hull) in the fire objects in this version."
   ]
  },
  {
   "cell_type": "code",
   "execution_count": 30,
   "id": "90df453e-e038-4ca2-ad18-7943fa3d2c75",
   "metadata": {
    "execution": {
     "iopub.execute_input": "2024-01-26T21:04:12.345769Z",
     "iopub.status.busy": "2024-01-26T21:04:12.345409Z",
     "iopub.status.idle": "2024-01-26T21:04:12.351677Z",
     "shell.execute_reply": "2024-01-26T21:04:12.351012Z",
     "shell.execute_reply.started": "2024-01-26T21:04:12.345741Z"
    }
   },
   "outputs": [],
   "source": [
    "@timed\n",
    "def rehydrate_allfires_no_metadata(t, allpixels, activeonly):\n",
    "    has_started = allpixels[\"t\"] <= FireTime.t2dt(t)\n",
    "    if activeonly:\n",
    "        is_active = (FireTime.t2dt(t) - allpixels[\"t\"]).dt.days <= FireConsts.maxoffdays\n",
    "        fids = allpixels[has_started & is_active].fid.unique()\n",
    "    else:\n",
    "        fids = allpixels[has_started].fid.unique()\n",
    "    a = FireObj.Allfires(t)\n",
    "    for fid in fids:\n",
    "        f = FireObj.Fire(fid, t, allpixels)\n",
    "        f.t_st = FireTime.dt2t(f.pixels.t.min())\n",
    "        f.t_ed = FireTime.dt2t(f.pixels.t.max())\n",
    "        a.fires[fid] = f\n",
    "        if f.isignition:\n",
    "            a.fids_new.append(fid)\n",
    "        else:\n",
    "            a.fids_expanded.append(fid)\n",
    "    return a"
   ]
  },
  {
   "cell_type": "code",
   "execution_count": 32,
   "id": "2f9da6e2-8124-45c2-b295-762ded4e7491",
   "metadata": {
    "execution": {
     "iopub.execute_input": "2024-01-26T21:04:44.400535Z",
     "iopub.status.busy": "2024-01-26T21:04:44.400362Z",
     "iopub.status.idle": "2024-01-26T21:05:16.762106Z",
     "shell.execute_reply": "2024-01-26T21:05:16.761636Z",
     "shell.execute_reply.started": "2024-01-26T21:04:44.400523Z"
    }
   },
   "outputs": [
    {
     "name": "stderr",
     "output_type": "stream",
     "text": [
      "2024-01-26 16:04:44,681 - FireLog - INFO - func:rehydrate_allfires_no_metadata took: 280.28 ms\n",
      "2024-01-26 16:04:45,234 - FireLog - INFO - func:rehydrate_allfires_no_metadata took: 551.73 ms\n",
      "2024-01-26 16:04:45,932 - FireLog - INFO - func:rehydrate_allfires_no_metadata took: 697.67 ms\n",
      "2024-01-26 16:04:46,824 - FireLog - INFO - func:rehydrate_allfires_no_metadata took: 891.16 ms\n",
      "2024-01-26 16:04:47,826 - FireLog - INFO - func:rehydrate_allfires_no_metadata took: 1.00 sec\n",
      "2024-01-26 16:04:49,068 - FireLog - INFO - func:rehydrate_allfires_no_metadata took: 1.24 sec\n",
      "2024-01-26 16:04:50,357 - FireLog - INFO - func:rehydrate_allfires_no_metadata took: 1.29 sec\n",
      "2024-01-26 16:04:51,851 - FireLog - INFO - func:rehydrate_allfires_no_metadata took: 1.49 sec\n",
      "2024-01-26 16:04:53,467 - FireLog - INFO - func:rehydrate_allfires_no_metadata took: 1.62 sec\n",
      "2024-01-26 16:04:55,220 - FireLog - INFO - func:rehydrate_allfires_no_metadata took: 1.75 sec\n",
      "2024-01-26 16:04:57,096 - FireLog - INFO - func:rehydrate_allfires_no_metadata took: 1.87 sec\n",
      "2024-01-26 16:04:59,113 - FireLog - INFO - func:rehydrate_allfires_no_metadata took: 2.02 sec\n",
      "2024-01-26 16:05:01,204 - FireLog - INFO - func:rehydrate_allfires_no_metadata took: 2.09 sec\n",
      "2024-01-26 16:05:03,416 - FireLog - INFO - func:rehydrate_allfires_no_metadata took: 2.21 sec\n",
      "2024-01-26 16:05:05,713 - FireLog - INFO - func:rehydrate_allfires_no_metadata took: 2.30 sec\n",
      "2024-01-26 16:05:08,191 - FireLog - INFO - func:rehydrate_allfires_no_metadata took: 2.48 sec\n",
      "2024-01-26 16:05:10,758 - FireLog - INFO - func:rehydrate_allfires_no_metadata took: 2.57 sec\n",
      "2024-01-26 16:05:13,567 - FireLog - INFO - func:rehydrate_allfires_no_metadata took: 2.81 sec\n",
      "2024-01-26 16:05:16,758 - FireLog - INFO - func:rehydrate_allfires_no_metadata took: 3.19 sec\n"
     ]
    },
    {
     "name": "stdout",
     "output_type": "stream",
     "text": [
      "CPU times: user 32.3 s, sys: 12.1 ms, total: 32.3 s\n",
      "Wall time: 32.4 s\n"
     ]
    }
   ],
   "source": [
    "%%time\n",
    "for t in FireTime.t_generator(tst, ted):\n",
    "    rehydrate_allfires_no_metadata(t, allpixels, activeonly=False)"
   ]
  },
  {
   "cell_type": "code",
   "execution_count": 31,
   "id": "6c75062e-5e9d-441e-9e88-5ea581bc17cb",
   "metadata": {
    "execution": {
     "iopub.execute_input": "2024-01-26T21:04:13.470069Z",
     "iopub.status.busy": "2024-01-26T21:04:13.469660Z",
     "iopub.status.idle": "2024-01-26T21:04:41.909111Z",
     "shell.execute_reply": "2024-01-26T21:04:41.908644Z",
     "shell.execute_reply.started": "2024-01-26T21:04:13.470038Z"
    }
   },
   "outputs": [
    {
     "name": "stderr",
     "output_type": "stream",
     "text": [
      "2024-01-26 16:04:13,761 - FireLog - INFO - func:rehydrate_allfires_no_metadata took: 289.11 ms\n",
      "2024-01-26 16:04:14,304 - FireLog - INFO - func:rehydrate_allfires_no_metadata took: 542.67 ms\n",
      "2024-01-26 16:04:14,995 - FireLog - INFO - func:rehydrate_allfires_no_metadata took: 689.73 ms\n",
      "2024-01-26 16:04:15,875 - FireLog - INFO - func:rehydrate_allfires_no_metadata took: 879.25 ms\n",
      "2024-01-26 16:04:16,860 - FireLog - INFO - func:rehydrate_allfires_no_metadata took: 983.34 ms\n",
      "2024-01-26 16:04:18,032 - FireLog - INFO - func:rehydrate_allfires_no_metadata took: 1.17 sec\n",
      "2024-01-26 16:04:19,308 - FireLog - INFO - func:rehydrate_allfires_no_metadata took: 1.27 sec\n",
      "2024-01-26 16:04:20,790 - FireLog - INFO - func:rehydrate_allfires_no_metadata took: 1.48 sec\n",
      "2024-01-26 16:04:22,388 - FireLog - INFO - func:rehydrate_allfires_no_metadata took: 1.60 sec\n",
      "2024-01-26 16:04:24,135 - FireLog - INFO - func:rehydrate_allfires_no_metadata took: 1.75 sec\n",
      "2024-01-26 16:04:25,986 - FireLog - INFO - func:rehydrate_allfires_no_metadata took: 1.85 sec\n",
      "2024-01-26 16:04:27,974 - FireLog - INFO - func:rehydrate_allfires_no_metadata took: 1.99 sec\n",
      "2024-01-26 16:04:30,182 - FireLog - INFO - func:rehydrate_allfires_no_metadata took: 2.21 sec\n",
      "2024-01-26 16:04:32,137 - FireLog - INFO - func:rehydrate_allfires_no_metadata took: 1.95 sec\n",
      "2024-01-26 16:04:34,064 - FireLog - INFO - func:rehydrate_allfires_no_metadata took: 1.93 sec\n",
      "2024-01-26 16:04:36,005 - FireLog - INFO - func:rehydrate_allfires_no_metadata took: 1.94 sec\n",
      "2024-01-26 16:04:37,961 - FireLog - INFO - func:rehydrate_allfires_no_metadata took: 1.95 sec\n",
      "2024-01-26 16:04:39,959 - FireLog - INFO - func:rehydrate_allfires_no_metadata took: 2.00 sec\n",
      "2024-01-26 16:04:41,905 - FireLog - INFO - func:rehydrate_allfires_no_metadata took: 1.94 sec\n"
     ]
    },
    {
     "name": "stdout",
     "output_type": "stream",
     "text": [
      "CPU times: user 28.4 s, sys: 7.98 ms, total: 28.4 s\n",
      "Wall time: 28.4 s\n"
     ]
    }
   ],
   "source": [
    "%%time\n",
    "for t in FireTime.t_generator(tst, ted):\n",
    "    rehydrate_allfires_no_metadata(t, allpixels, activeonly=True)"
   ]
  }
 ],
 "metadata": {
  "kernelspec": {
   "display_name": "Python 3 (ipykernel)",
   "language": "python",
   "name": "python3"
  },
  "language_info": {
   "codemirror_mode": {
    "name": "ipython",
    "version": 3
   },
   "file_extension": ".py",
   "mimetype": "text/x-python",
   "name": "python",
   "nbconvert_exporter": "python",
   "pygments_lexer": "ipython3",
   "version": "3.11.7"
  }
 },
 "nbformat": 4,
 "nbformat_minor": 5
}
