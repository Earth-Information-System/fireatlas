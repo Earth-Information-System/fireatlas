{
 "cells": [
  {
   "cell_type": "markdown",
   "id": "f14a2dc9-e4ba-46ea-9e35-fca95f4514b0",
   "metadata": {},
   "source": [
    "## Run the fire expansion and merging algorithm\n",
    "\n",
    "`Fire_Forward` is responsible for reading in the preprocessed data created in the `Ingest` notebook"
   ]
  },
  {
   "cell_type": "code",
   "execution_count": 2,
   "id": "2ed6f4c1-f380-4b1d-b478-b3dcd61d705d",
   "metadata": {
    "execution": {
     "iopub.execute_input": "2024-02-05T21:01:10.636782Z",
     "iopub.status.busy": "2024-02-05T21:01:10.636493Z",
     "iopub.status.idle": "2024-02-05T21:01:10.641009Z",
     "shell.execute_reply": "2024-02-05T21:01:10.640293Z",
     "shell.execute_reply.started": "2024-02-05T21:01:10.636760Z"
    },
    "scrolled": true
   },
   "outputs": [],
   "source": [
    "import datetime\n",
    "import pandas as pd\n",
    "import geopandas as gpd\n",
    "\n",
    "import FireMain, FireTime, FireObj, FireConsts, FireVector\n",
    "from utils import timed\n",
    "\n",
    "region = [\"CONUS\",]  # note you don't need the shape in here, just the name\n",
    "tst = [2023, 8, 28, 'AM']\n",
    "ted = [2023, 9, 6, 'AM']"
   ]
  },
  {
   "cell_type": "code",
   "execution_count": 3,
   "id": "7ccd529a-94e5-42b5-a099-e47fe352f1f9",
   "metadata": {
    "execution": {
     "iopub.execute_input": "2024-02-05T21:01:11.658529Z",
     "iopub.status.busy": "2024-02-05T21:01:11.657831Z",
     "iopub.status.idle": "2024-02-05T21:02:50.225442Z",
     "shell.execute_reply": "2024-02-05T21:02:50.224848Z",
     "shell.execute_reply.started": "2024-02-05T21:01:11.658479Z"
    }
   },
   "outputs": [
    {
     "name": "stderr",
     "output_type": "stream",
     "text": [
      "2024-02-05 16:01:11,680 - FireLog - INFO - func:read_preprocessed took: 5.93 ms\n",
      "2024-02-05 16:01:11,686 - FireLog - INFO - func:read_preprocessed took: 5.16 ms\n",
      "2024-02-05 16:01:11,692 - FireLog - INFO - func:read_preprocessed took: 5.03 ms\n",
      "2024-02-05 16:01:11,699 - FireLog - INFO - func:read_preprocessed took: 6.04 ms\n",
      "2024-02-05 16:01:11,707 - FireLog - INFO - func:read_preprocessed took: 7.27 ms\n",
      "2024-02-05 16:01:11,712 - FireLog - INFO - func:read_preprocessed took: 5.00 ms\n",
      "2024-02-05 16:01:11,719 - FireLog - INFO - func:read_preprocessed took: 5.98 ms\n",
      "2024-02-05 16:01:11,723 - FireLog - INFO - func:read_preprocessed took: 3.22 ms\n",
      "2024-02-05 16:01:11,726 - FireLog - INFO - func:read_preprocessed took: 3.07 ms\n",
      "2024-02-05 16:01:11,729 - FireLog - INFO - func:read_preprocessed took: 2.07 ms\n",
      "2024-02-05 16:01:11,734 - FireLog - INFO - func:read_preprocessed took: 5.27 ms\n",
      "2024-02-05 16:01:11,737 - FireLog - INFO - func:read_preprocessed took: 1.93 ms\n",
      "2024-02-05 16:01:11,740 - FireLog - INFO - func:read_preprocessed took: 3.07 ms\n",
      "2024-02-05 16:01:11,742 - FireLog - INFO - func:read_preprocessed took: 1.78 ms\n",
      "2024-02-05 16:01:11,746 - FireLog - INFO - func:read_preprocessed took: 3.52 ms\n",
      "2024-02-05 16:01:11,750 - FireLog - INFO - func:read_preprocessed took: 3.16 ms\n",
      "2024-02-05 16:01:11,754 - FireLog - INFO - func:read_preprocessed took: 3.03 ms\n",
      "2024-02-05 16:01:11,756 - FireLog - INFO - func:read_preprocessed took: 2.58 ms\n",
      "2024-02-05 16:01:11,759 - FireLog - INFO - func:read_preprocessed took: 2.69 ms\n",
      "2024-02-05 16:01:11,768 - FireLog - INFO - --------------------\n",
      "2024-02-05 16:01:11,769 - FireLog - INFO - Fire tracking at [2023, 8, 28, 'AM']\n",
      "2024-02-05 16:01:14,270 - FireLog - INFO - func:Fire_expand_rtree took: 2.50 sec\n",
      "2024-02-05 16:01:15,731 - FireLog - INFO - func:Fire_merge_rtree took: 1.46 sec\n",
      "2024-02-05 16:01:15,858 - FireLog - INFO - func:invalidate_statfires took: 125.83 ms\n",
      "2024-02-05 16:01:15,858 - FireLog - INFO - fids_expand: 0\n",
      "2024-02-05 16:01:15,858 - FireLog - INFO - fids_new: 507\n",
      "2024-02-05 16:01:15,859 - FireLog - INFO - fids_merged: 50\n",
      "2024-02-05 16:01:15,859 - FireLog - INFO - fids_invalid: 107\n",
      "2024-02-05 16:01:15,860 - FireLog - INFO - func:Fire_Forward_one_step took: 4.09 sec\n",
      "2024-02-05 16:01:17,790 - FireLog - INFO - func:Fire_to_gdf_one_step took: 1.93 sec\n",
      "2024-02-05 16:01:17,790 - FireLog - INFO - --------------------\n",
      "2024-02-05 16:01:17,790 - FireLog - INFO - Fire tracking at [2023, 8, 28, 'PM']\n",
      "2024-02-05 16:01:20,167 - FireLog - INFO - func:Fire_expand_rtree took: 2.37 sec\n",
      "2024-02-05 16:01:20,448 - FireLog - INFO - func:Fire_merge_rtree took: 278.73 ms\n",
      "2024-02-05 16:01:20,690 - FireLog - INFO - func:invalidate_statfires took: 241.92 ms\n",
      "2024-02-05 16:01:20,691 - FireLog - INFO - fids_expand: 93\n",
      "2024-02-05 16:01:20,691 - FireLog - INFO - fids_new: 405\n",
      "2024-02-05 16:01:20,692 - FireLog - INFO - fids_merged: 23\n",
      "2024-02-05 16:01:20,692 - FireLog - INFO - fids_invalid: 26\n",
      "2024-02-05 16:01:20,693 - FireLog - INFO - func:Fire_Forward_one_step took: 2.90 sec\n",
      "2024-02-05 16:01:22,703 - FireLog - INFO - func:Fire_to_gdf_one_step took: 2.01 sec\n",
      "2024-02-05 16:01:22,703 - FireLog - INFO - --------------------\n",
      "2024-02-05 16:01:22,704 - FireLog - INFO - Fire tracking at [2023, 8, 29, 'AM']\n",
      "2024-02-05 16:01:25,564 - FireLog - INFO - func:Fire_expand_rtree took: 2.86 sec\n",
      "2024-02-05 16:01:25,931 - FireLog - INFO - func:Fire_merge_rtree took: 364.94 ms\n",
      "2024-02-05 16:01:26,230 - FireLog - INFO - func:invalidate_statfires took: 298.17 ms\n",
      "2024-02-05 16:01:26,231 - FireLog - INFO - fids_expand: 265\n",
      "2024-02-05 16:01:26,231 - FireLog - INFO - fids_new: 225\n",
      "2024-02-05 16:01:26,231 - FireLog - INFO - fids_merged: 19\n",
      "2024-02-05 16:01:26,232 - FireLog - INFO - fids_invalid: 31\n",
      "2024-02-05 16:01:26,232 - FireLog - INFO - func:Fire_Forward_one_step took: 3.53 sec\n",
      "2024-02-05 16:01:28,282 - FireLog - INFO - func:Fire_to_gdf_one_step took: 2.05 sec\n",
      "2024-02-05 16:01:28,283 - FireLog - INFO - --------------------\n",
      "2024-02-05 16:01:28,283 - FireLog - INFO - Fire tracking at [2023, 8, 29, 'PM']\n",
      "2024-02-05 16:01:30,150 - FireLog - INFO - func:Fire_expand_rtree took: 1.86 sec\n",
      "2024-02-05 16:01:30,545 - FireLog - INFO - func:Fire_merge_rtree took: 392.21 ms\n",
      "2024-02-05 16:01:30,939 - FireLog - INFO - func:invalidate_statfires took: 393.65 ms\n",
      "2024-02-05 16:01:30,940 - FireLog - INFO - fids_expand: 95\n",
      "2024-02-05 16:01:30,940 - FireLog - INFO - fids_new: 291\n",
      "2024-02-05 16:01:30,940 - FireLog - INFO - fids_merged: 14\n",
      "2024-02-05 16:01:30,941 - FireLog - INFO - fids_invalid: 25\n",
      "2024-02-05 16:01:30,941 - FireLog - INFO - func:Fire_Forward_one_step took: 2.66 sec\n",
      "2024-02-05 16:01:32,584 - FireLog - INFO - func:Fire_to_gdf_one_step took: 1.64 sec\n",
      "2024-02-05 16:01:32,585 - FireLog - INFO - --------------------\n",
      "2024-02-05 16:01:32,585 - FireLog - INFO - Fire tracking at [2023, 8, 30, 'AM']\n",
      "2024-02-05 16:01:35,164 - FireLog - INFO - func:Fire_expand_rtree took: 2.58 sec\n",
      "2024-02-05 16:01:35,414 - FireLog - INFO - func:Fire_merge_rtree took: 247.53 ms\n",
      "2024-02-05 16:01:35,836 - FireLog - INFO - func:invalidate_statfires took: 421.17 ms\n",
      "2024-02-05 16:01:35,837 - FireLog - INFO - fids_expand: 272\n",
      "2024-02-05 16:01:35,838 - FireLog - INFO - fids_new: 167\n",
      "2024-02-05 16:01:35,838 - FireLog - INFO - fids_merged: 10\n",
      "2024-02-05 16:01:35,838 - FireLog - INFO - fids_invalid: 39\n",
      "2024-02-05 16:01:35,839 - FireLog - INFO - func:Fire_Forward_one_step took: 3.25 sec\n",
      "2024-02-05 16:01:37,703 - FireLog - INFO - func:Fire_to_gdf_one_step took: 1.86 sec\n",
      "2024-02-05 16:01:37,703 - FireLog - INFO - --------------------\n",
      "2024-02-05 16:01:37,704 - FireLog - INFO - Fire tracking at [2023, 8, 30, 'PM']\n",
      "2024-02-05 16:01:40,051 - FireLog - INFO - func:Fire_expand_rtree took: 2.34 sec\n",
      "2024-02-05 16:01:40,511 - FireLog - INFO - func:Fire_merge_rtree took: 455.86 ms\n",
      "2024-02-05 16:01:41,004 - FireLog - INFO - func:invalidate_statfires took: 492.29 ms\n",
      "2024-02-05 16:01:41,005 - FireLog - INFO - fids_expand: 119\n",
      "2024-02-05 16:01:41,005 - FireLog - INFO - fids_new: 276\n",
      "2024-02-05 16:01:41,005 - FireLog - INFO - fids_merged: 13\n",
      "2024-02-05 16:01:41,005 - FireLog - INFO - fids_invalid: 24\n",
      "2024-02-05 16:01:41,006 - FireLog - INFO - func:Fire_Forward_one_step took: 3.30 sec\n",
      "2024-02-05 16:01:42,758 - FireLog - INFO - func:Fire_to_gdf_one_step took: 1.75 sec\n",
      "2024-02-05 16:01:42,758 - FireLog - INFO - --------------------\n",
      "2024-02-05 16:01:42,759 - FireLog - INFO - Fire tracking at [2023, 8, 31, 'AM']\n",
      "2024-02-05 16:01:46,132 - FireLog - INFO - func:Fire_expand_rtree took: 3.37 sec\n",
      "2024-02-05 16:01:46,554 - FireLog - INFO - func:Fire_merge_rtree took: 418.27 ms\n",
      "2024-02-05 16:01:47,106 - FireLog - INFO - func:invalidate_statfires took: 551.91 ms\n",
      "2024-02-05 16:01:47,107 - FireLog - INFO - fids_expand: 323\n",
      "2024-02-05 16:01:47,107 - FireLog - INFO - fids_new: 155\n",
      "2024-02-05 16:01:47,108 - FireLog - INFO - fids_merged: 8\n",
      "2024-02-05 16:01:47,108 - FireLog - INFO - fids_invalid: 57\n",
      "2024-02-05 16:01:47,108 - FireLog - INFO - func:Fire_Forward_one_step took: 4.35 sec\n",
      "2024-02-05 16:01:49,299 - FireLog - INFO - func:Fire_to_gdf_one_step took: 2.19 sec\n",
      "2024-02-05 16:01:49,300 - FireLog - INFO - --------------------\n",
      "2024-02-05 16:01:49,300 - FireLog - INFO - Fire tracking at [2023, 8, 31, 'PM']\n",
      "2024-02-05 16:01:51,322 - FireLog - INFO - func:Fire_expand_rtree took: 2.02 sec\n",
      "2024-02-05 16:01:51,771 - FireLog - INFO - func:Fire_merge_rtree took: 445.20 ms\n",
      "2024-02-05 16:01:52,398 - FireLog - INFO - func:invalidate_statfires took: 626.36 ms\n",
      "2024-02-05 16:01:52,398 - FireLog - INFO - fids_expand: 120\n",
      "2024-02-05 16:01:52,399 - FireLog - INFO - fids_new: 312\n",
      "2024-02-05 16:01:52,399 - FireLog - INFO - fids_merged: 12\n",
      "2024-02-05 16:01:52,399 - FireLog - INFO - fids_invalid: 32\n",
      "2024-02-05 16:01:52,399 - FireLog - INFO - func:Fire_Forward_one_step took: 3.10 sec\n",
      "2024-02-05 16:01:54,493 - FireLog - INFO - func:Fire_to_gdf_one_step took: 2.09 sec\n",
      "2024-02-05 16:01:54,493 - FireLog - INFO - --------------------\n",
      "2024-02-05 16:01:54,493 - FireLog - INFO - Fire tracking at [2023, 9, 1, 'AM']\n",
      "2024-02-05 16:01:57,080 - FireLog - INFO - func:Fire_expand_rtree took: 2.58 sec\n",
      "2024-02-05 16:01:57,293 - FireLog - INFO - func:Fire_merge_rtree took: 208.68 ms\n",
      "2024-02-05 16:01:57,961 - FireLog - INFO - func:invalidate_statfires took: 667.04 ms\n",
      "2024-02-05 16:01:57,961 - FireLog - INFO - fids_expand: 298\n",
      "2024-02-05 16:01:57,962 - FireLog - INFO - fids_new: 170\n",
      "2024-02-05 16:01:57,962 - FireLog - INFO - fids_merged: 3\n",
      "2024-02-05 16:01:57,962 - FireLog - INFO - fids_invalid: 46\n",
      "2024-02-05 16:01:57,962 - FireLog - INFO - func:Fire_Forward_one_step took: 3.47 sec\n",
      "2024-02-05 16:02:00,235 - FireLog - INFO - func:Fire_to_gdf_one_step took: 2.27 sec\n",
      "2024-02-05 16:02:00,235 - FireLog - INFO - --------------------\n",
      "2024-02-05 16:02:00,236 - FireLog - INFO - Fire tracking at [2023, 9, 1, 'PM']\n",
      "2024-02-05 16:02:01,813 - FireLog - INFO - func:Fire_expand_rtree took: 1.57 sec\n",
      "2024-02-05 16:02:02,123 - FireLog - INFO - func:Fire_merge_rtree took: 305.15 ms\n",
      "2024-02-05 16:02:02,844 - FireLog - INFO - func:invalidate_statfires took: 720.24 ms\n",
      "2024-02-05 16:02:02,844 - FireLog - INFO - fids_expand: 98\n",
      "2024-02-05 16:02:02,844 - FireLog - INFO - fids_new: 215\n",
      "2024-02-05 16:02:02,845 - FireLog - INFO - fids_merged: 8\n",
      "2024-02-05 16:02:02,845 - FireLog - INFO - fids_invalid: 16\n",
      "2024-02-05 16:02:02,846 - FireLog - INFO - func:Fire_Forward_one_step took: 2.61 sec\n",
      "2024-02-05 16:02:04,365 - FireLog - INFO - func:Fire_to_gdf_one_step took: 1.52 sec\n",
      "2024-02-05 16:02:04,366 - FireLog - INFO - --------------------\n",
      "2024-02-05 16:02:04,367 - FireLog - INFO - Fire tracking at [2023, 9, 2, 'AM']\n",
      "2024-02-05 16:02:07,020 - FireLog - INFO - func:Fire_expand_rtree took: 2.65 sec\n",
      "2024-02-05 16:02:07,327 - FireLog - INFO - func:Fire_merge_rtree took: 302.67 ms\n",
      "2024-02-05 16:02:08,072 - FireLog - INFO - func:invalidate_statfires took: 743.50 ms\n",
      "2024-02-05 16:02:08,072 - FireLog - INFO - fids_expand: 282\n",
      "2024-02-05 16:02:08,073 - FireLog - INFO - fids_new: 151\n",
      "2024-02-05 16:02:08,073 - FireLog - INFO - fids_merged: 6\n",
      "2024-02-05 16:02:08,073 - FireLog - INFO - fids_invalid: 48\n",
      "2024-02-05 16:02:08,074 - FireLog - INFO - func:Fire_Forward_one_step took: 3.71 sec\n",
      "2024-02-05 16:02:10,150 - FireLog - INFO - func:Fire_to_gdf_one_step took: 2.08 sec\n",
      "2024-02-05 16:02:10,151 - FireLog - INFO - --------------------\n",
      "2024-02-05 16:02:10,151 - FireLog - INFO - Fire tracking at [2023, 9, 2, 'PM']\n",
      "2024-02-05 16:02:11,570 - FireLog - INFO - func:Fire_expand_rtree took: 1.41 sec\n",
      "2024-02-05 16:02:11,920 - FireLog - INFO - func:Fire_merge_rtree took: 343.89 ms\n",
      "2024-02-05 16:02:12,706 - FireLog - INFO - func:invalidate_statfires took: 785.47 ms\n",
      "2024-02-05 16:02:12,707 - FireLog - INFO - fids_expand: 79\n",
      "2024-02-05 16:02:12,707 - FireLog - INFO - fids_new: 202\n",
      "2024-02-05 16:02:12,707 - FireLog - INFO - fids_merged: 9\n",
      "2024-02-05 16:02:12,707 - FireLog - INFO - fids_invalid: 12\n",
      "2024-02-05 16:02:12,708 - FireLog - INFO - func:Fire_Forward_one_step took: 2.56 sec\n",
      "2024-02-05 16:02:14,099 - FireLog - INFO - func:Fire_to_gdf_one_step took: 1.39 sec\n",
      "2024-02-05 16:02:14,100 - FireLog - INFO - --------------------\n",
      "2024-02-05 16:02:14,100 - FireLog - INFO - Fire tracking at [2023, 9, 3, 'AM']\n",
      "2024-02-05 16:02:16,629 - FireLog - INFO - func:Fire_expand_rtree took: 2.52 sec\n",
      "2024-02-05 16:02:17,046 - FireLog - INFO - func:Fire_merge_rtree took: 411.24 ms\n",
      "2024-02-05 16:02:17,782 - FireLog - INFO - func:invalidate_statfires took: 736.01 ms\n",
      "2024-02-05 16:02:17,783 - FireLog - INFO - fids_expand: 286\n",
      "2024-02-05 16:02:17,783 - FireLog - INFO - fids_new: 148\n",
      "2024-02-05 16:02:17,783 - FireLog - INFO - fids_merged: 9\n",
      "2024-02-05 16:02:17,784 - FireLog - INFO - fids_invalid: 50\n",
      "2024-02-05 16:02:17,785 - FireLog - INFO - func:Fire_Forward_one_step took: 3.69 sec\n",
      "2024-02-05 16:02:19,960 - FireLog - INFO - func:Fire_to_gdf_one_step took: 2.18 sec\n",
      "2024-02-05 16:02:19,961 - FireLog - INFO - --------------------\n",
      "2024-02-05 16:02:19,961 - FireLog - INFO - Fire tracking at [2023, 9, 3, 'PM']\n",
      "2024-02-05 16:02:21,367 - FireLog - INFO - func:Fire_expand_rtree took: 1.40 sec\n",
      "2024-02-05 16:02:21,685 - FireLog - INFO - func:Fire_merge_rtree took: 312.08 ms\n",
      "2024-02-05 16:02:22,446 - FireLog - INFO - func:invalidate_statfires took: 760.00 ms\n",
      "2024-02-05 16:02:22,446 - FireLog - INFO - fids_expand: 83\n",
      "2024-02-05 16:02:22,447 - FireLog - INFO - fids_new: 192\n",
      "2024-02-05 16:02:22,447 - FireLog - INFO - fids_merged: 7\n",
      "2024-02-05 16:02:22,447 - FireLog - INFO - fids_invalid: 13\n",
      "2024-02-05 16:02:22,448 - FireLog - INFO - func:Fire_Forward_one_step took: 2.49 sec\n",
      "2024-02-05 16:02:23,870 - FireLog - INFO - func:Fire_to_gdf_one_step took: 1.42 sec\n",
      "2024-02-05 16:02:23,871 - FireLog - INFO - --------------------\n",
      "2024-02-05 16:02:23,871 - FireLog - INFO - Fire tracking at [2023, 9, 4, 'AM']\n",
      "2024-02-05 16:02:26,054 - FireLog - INFO - func:Fire_expand_rtree took: 2.18 sec\n",
      "2024-02-05 16:02:26,345 - FireLog - INFO - func:Fire_merge_rtree took: 284.48 ms\n",
      "2024-02-05 16:02:27,040 - FireLog - INFO - func:invalidate_statfires took: 694.26 ms\n",
      "2024-02-05 16:02:27,041 - FireLog - INFO - fids_expand: 256\n",
      "2024-02-05 16:02:27,041 - FireLog - INFO - fids_new: 103\n",
      "2024-02-05 16:02:27,041 - FireLog - INFO - fids_merged: 5\n",
      "2024-02-05 16:02:27,042 - FireLog - INFO - fids_invalid: 47\n",
      "2024-02-05 16:02:27,042 - FireLog - INFO - func:Fire_Forward_one_step took: 3.17 sec\n",
      "2024-02-05 16:02:28,910 - FireLog - INFO - func:Fire_to_gdf_one_step took: 1.87 sec\n",
      "2024-02-05 16:02:28,910 - FireLog - INFO - --------------------\n",
      "2024-02-05 16:02:28,911 - FireLog - INFO - Fire tracking at [2023, 9, 4, 'PM']\n",
      "2024-02-05 16:02:30,730 - FireLog - INFO - func:Fire_expand_rtree took: 1.81 sec\n",
      "2024-02-05 16:02:31,126 - FireLog - INFO - func:Fire_merge_rtree took: 389.39 ms\n",
      "2024-02-05 16:02:31,866 - FireLog - INFO - func:invalidate_statfires took: 739.25 ms\n",
      "2024-02-05 16:02:31,867 - FireLog - INFO - fids_expand: 90\n",
      "2024-02-05 16:02:31,867 - FireLog - INFO - fids_new: 275\n",
      "2024-02-05 16:02:31,867 - FireLog - INFO - fids_merged: 19\n",
      "2024-02-05 16:02:31,868 - FireLog - INFO - fids_invalid: 22\n",
      "2024-02-05 16:02:31,869 - FireLog - INFO - func:Fire_Forward_one_step took: 2.96 sec\n",
      "2024-02-05 16:02:33,807 - FireLog - INFO - func:Fire_to_gdf_one_step took: 1.94 sec\n",
      "2024-02-05 16:02:33,808 - FireLog - INFO - --------------------\n",
      "2024-02-05 16:02:33,808 - FireLog - INFO - Fire tracking at [2023, 9, 5, 'AM']\n",
      "2024-02-05 16:02:36,017 - FireLog - INFO - func:Fire_expand_rtree took: 2.20 sec\n",
      "2024-02-05 16:02:36,393 - FireLog - INFO - func:Fire_merge_rtree took: 369.28 ms\n",
      "2024-02-05 16:02:37,086 - FireLog - INFO - func:invalidate_statfires took: 692.68 ms\n",
      "2024-02-05 16:02:37,086 - FireLog - INFO - fids_expand: 260\n",
      "2024-02-05 16:02:37,087 - FireLog - INFO - fids_new: 126\n",
      "2024-02-05 16:02:37,087 - FireLog - INFO - fids_merged: 12\n",
      "2024-02-05 16:02:37,087 - FireLog - INFO - fids_invalid: 76\n",
      "2024-02-05 16:02:37,089 - FireLog - INFO - func:Fire_Forward_one_step took: 3.28 sec\n",
      "2024-02-05 16:02:39,132 - FireLog - INFO - func:Fire_to_gdf_one_step took: 2.04 sec\n",
      "2024-02-05 16:02:39,133 - FireLog - INFO - --------------------\n",
      "2024-02-05 16:02:39,133 - FireLog - INFO - Fire tracking at [2023, 9, 5, 'PM']\n",
      "2024-02-05 16:02:41,148 - FireLog - INFO - func:Fire_expand_rtree took: 2.01 sec\n",
      "2024-02-05 16:02:41,552 - FireLog - INFO - func:Fire_merge_rtree took: 395.89 ms\n",
      "2024-02-05 16:02:42,277 - FireLog - INFO - func:invalidate_statfires took: 723.93 ms\n",
      "2024-02-05 16:02:42,277 - FireLog - INFO - fids_expand: 119\n",
      "2024-02-05 16:02:42,277 - FireLog - INFO - fids_new: 293\n",
      "2024-02-05 16:02:42,278 - FireLog - INFO - fids_merged: 16\n",
      "2024-02-05 16:02:42,278 - FireLog - INFO - fids_invalid: 26\n",
      "2024-02-05 16:02:42,279 - FireLog - INFO - func:Fire_Forward_one_step took: 3.15 sec\n",
      "2024-02-05 16:02:44,555 - FireLog - INFO - func:Fire_to_gdf_one_step took: 2.28 sec\n",
      "2024-02-05 16:02:44,556 - FireLog - INFO - --------------------\n",
      "2024-02-05 16:02:44,556 - FireLog - INFO - Fire tracking at [2023, 9, 6, 'AM']\n",
      "2024-02-05 16:02:46,848 - FireLog - INFO - func:Fire_expand_rtree took: 2.28 sec\n",
      "2024-02-05 16:02:47,290 - FireLog - INFO - func:Fire_merge_rtree took: 434.67 ms\n",
      "2024-02-05 16:02:47,976 - FireLog - INFO - func:invalidate_statfires took: 685.33 ms\n",
      "2024-02-05 16:02:47,977 - FireLog - INFO - fids_expand: 268\n",
      "2024-02-05 16:02:47,977 - FireLog - INFO - fids_new: 129\n",
      "2024-02-05 16:02:47,977 - FireLog - INFO - fids_merged: 22\n",
      "2024-02-05 16:02:47,978 - FireLog - INFO - fids_invalid: 77\n",
      "2024-02-05 16:02:47,979 - FireLog - INFO - func:Fire_Forward_one_step took: 3.42 sec\n",
      "2024-02-05 16:02:50,222 - FireLog - INFO - func:Fire_to_gdf_one_step took: 2.24 sec\n",
      "2024-02-05 16:02:50,222 - FireLog - INFO - func:Fire_Forward took: 1.64 min\n"
     ]
    }
   ],
   "source": [
    "allfires, allpixels, allfires_gdf = FireMain.Fire_Forward(tst=tst, ted=ted, restart=False, region=region)"
   ]
  },
  {
   "cell_type": "markdown",
   "id": "e4458cb6-0c9c-4712-8d79-c43f84e756df",
   "metadata": {},
   "source": [
    "This outputs two dataframes: an `allpixels` dataframe with 1 row per pixel and an `allfires` geodataframe with one row per-fire/per-t. \n",
    "\n",
    "The core concept is that if you use a dataframe to back the allfires and fire objects there are well-defined ways to serialize that to disk whenever you like (aka no more pickles!).\n",
    "\n",
    "Here's a bit of an overview of the lifecycle of each of these dataframes:\n",
    "\n",
    "## allpixels:\n",
    "\n",
    "- At the start of `Fire_Forward` all of the preprocessed pixel data is loaded and concatenated into one long dataframe.\n",
    "- Each row represents a fire pixel and there is a unique id per row.\n",
    "- As `Fire_Forward` iterates through the timesteps of interest the `allpixels` dataframe is updated in place.\n",
    "- Each `Fire` object refers to the `allpixels` object as the source of truth and does not hold pixel data but instead refers to subsets of the `allpixels` dataframe to return `n_pixels` or `newpixels`.\n",
    "- Merging fires at a particular `t` can update the `allpixels` at a former timestep.\n",
    "- When `Fire_Forward` is complete, the `allpixels` object can be serialized to csv (or any tabular format) optionally partitioned into files by `t`.\n",
    "- This dataframe can be used:\n",
    "    - together with `allfires_gdf` to rehydrate the `allfires` object at the latest `t` in order to run `Fire_Forward` on one new ingest file.\n",
    "    - independently to write the `nplist` output file for largefires\n",
    "\n",
    "## allfires_gdf:\n",
    "\n",
    "- At the start of `Fire_Forward` a new geodataframe object is initialized. It has a column for each of the `Fire` attributes that take a non-trivial amount of time to compute (`ftype`, `hull`, `fline`...).\n",
    "- As `Fire_Forward` iterates through the timesteps of interest it writes a row for every fire that is burning (aka has new pixels) at the `t`.\n",
    "- So each row contains the information about one fire at one `t`. The index is a MultiIndex of `(fid, t)`\n",
    "- Merging fires at a particular `t` updates the `mergeid` on the existing rows (_this part I am not totally confident is correct_).\n",
    "- When `Fire_Forward` is complete, the `allfires_gdf` object can be serialized to geoparquet (this is the best choice since it contains multiple geometry columns) optionally partitioned into files by `t`.\n",
    "- This geodataframe can be used:\n",
    "    - together with `allpixels` to rehydrate the `allfires` object at the latest `t` in order to run `Fire_Forward` on one new ingest file.\n",
    "    - independently to write all the snapshot and largefires output files.\n",
    "\n",
    "Side note: I like that in this branch the `allpixels` dataframe is referenced by all the `Fire` objects but it isn't copied around. This is different from how it works in `preprocess` where each `Fire` object (at each `t`) has its own dataframe. It is also different than the original version of this algorithm where each `Fire` object (at each `t`) holds a bunch of lists."
   ]
  },
  {
   "cell_type": "markdown",
   "id": "f88b111a-a729-45a6-95b2-65a2db573574",
   "metadata": {},
   "source": [
    "## Serialize to disk\n",
    "\n",
    "- allpixels -> one file for each t (one row for each pixel).\n",
    "- allfires -> one geoparquet file to hold all information about each fire at each time (one row for each burning fire at each t)."
   ]
  },
  {
   "cell_type": "code",
   "execution_count": 4,
   "id": "228d5db2-cfa1-4ba2-9521-d23c6d2e08e3",
   "metadata": {
    "execution": {
     "iopub.execute_input": "2024-02-05T21:03:51.710181Z",
     "iopub.status.busy": "2024-02-05T21:03:51.709678Z",
     "iopub.status.idle": "2024-02-05T21:03:51.883474Z",
     "shell.execute_reply": "2024-02-05T21:03:51.882924Z",
     "shell.execute_reply.started": "2024-02-05T21:03:51.710146Z"
    }
   },
   "outputs": [
    {
     "name": "stdout",
     "output_type": "stream",
     "text": [
      "CPU times: user 159 ms, sys: 27 µs, total: 159 ms\n",
      "Wall time: 169 ms\n"
     ]
    }
   ],
   "source": [
    "%%time\n",
    "for t in FireTime.t_generator(tst, ted):\n",
    "    pixels = allpixels[allpixels[\"t\"] == FireTime.t2dt(t)]\n",
    "    filepath = f\"out/{region[0]}/{t[0]}{t[1]:02}{t[2]:02}_{t[3]}.txt\"\n",
    "    pixels.to_csv(filepath)"
   ]
  },
  {
   "cell_type": "code",
   "execution_count": 6,
   "id": "48b4f931-7f4c-47e0-aaa7-d79dac3972cc",
   "metadata": {
    "execution": {
     "iopub.execute_input": "2024-02-05T21:04:00.990217Z",
     "iopub.status.busy": "2024-02-05T21:04:00.989747Z",
     "iopub.status.idle": "2024-02-05T21:04:01.159830Z",
     "shell.execute_reply": "2024-02-05T21:04:01.159356Z",
     "shell.execute_reply.started": "2024-02-05T21:04:00.990180Z"
    }
   },
   "outputs": [
    {
     "name": "stdout",
     "output_type": "stream",
     "text": [
      "CPU times: user 112 ms, sys: 51.9 ms, total: 164 ms\n",
      "Wall time: 165 ms\n"
     ]
    }
   ],
   "source": [
    "%%time\n",
    "t = ted\n",
    "allfires_gdf.to_parquet(f\"out/{region[0]}/allfires_{t[0]}{t[1]:02}{t[2]:02}_{t[3]}.parq\")"
   ]
  },
  {
   "cell_type": "markdown",
   "id": "fd6f2be6-286a-4868-adbe-a90aa5dfb4fd",
   "metadata": {},
   "source": [
    "## Read from disk"
   ]
  },
  {
   "cell_type": "code",
   "execution_count": 7,
   "id": "bb9d9818-89b0-4534-875d-8f5295eba2a0",
   "metadata": {
    "execution": {
     "iopub.execute_input": "2024-02-05T21:04:05.862256Z",
     "iopub.status.busy": "2024-02-05T21:04:05.862104Z",
     "iopub.status.idle": "2024-02-05T21:04:05.951244Z",
     "shell.execute_reply": "2024-02-05T21:04:05.950558Z",
     "shell.execute_reply.started": "2024-02-05T21:04:05.862243Z"
    }
   },
   "outputs": [
    {
     "name": "stdout",
     "output_type": "stream",
     "text": [
      "CPU times: user 82.1 ms, sys: 3.96 ms, total: 86.1 ms\n",
      "Wall time: 85 ms\n"
     ]
    }
   ],
   "source": [
    "%%time\n",
    "allpixels = pd.concat([\n",
    "    pd.read_csv(f\"out/{region[0]}/{t[0]}{t[1]:02}{t[2]:02}_{t[3]}.txt\", index_col=\"uuid\", parse_dates=[\"t\"])\n",
    "    for t in FireTime.t_generator(tst, ted)\n",
    "])"
   ]
  },
  {
   "cell_type": "code",
   "execution_count": 8,
   "id": "713e07d4-3f8f-4ff3-a67b-88883a39b6c4",
   "metadata": {
    "execution": {
     "iopub.execute_input": "2024-02-05T21:04:06.553272Z",
     "iopub.status.busy": "2024-02-05T21:04:06.552978Z",
     "iopub.status.idle": "2024-02-05T21:04:06.678383Z",
     "shell.execute_reply": "2024-02-05T21:04:06.677883Z",
     "shell.execute_reply.started": "2024-02-05T21:04:06.553248Z"
    }
   },
   "outputs": [
    {
     "name": "stdout",
     "output_type": "stream",
     "text": [
      "CPU times: user 91.3 ms, sys: 43.8 ms, total: 135 ms\n",
      "Wall time: 120 ms\n"
     ]
    }
   ],
   "source": [
    "%%time\n",
    "t = ted\n",
    "allfires_gdf = gpd.read_parquet(f\"out/{region[0]}/allfires_{t[0]}{t[1]:02}{t[2]:02}_{t[3]}.parq\")"
   ]
  },
  {
   "cell_type": "markdown",
   "id": "a81ffd2d-ed4b-498e-b45e-127f7c5fd594",
   "metadata": {},
   "source": [
    "## Pick out the large fires\n",
    "\n",
    "Let's compare the existing object-oriented approach with the new geodataframe approach"
   ]
  },
  {
   "cell_type": "code",
   "execution_count": 57,
   "id": "94fa151c-0c50-45ca-81f3-6a188ce39bea",
   "metadata": {
    "execution": {
     "iopub.execute_input": "2024-02-05T21:13:39.132131Z",
     "iopub.status.busy": "2024-02-05T21:13:39.131766Z",
     "iopub.status.idle": "2024-02-05T21:13:39.175077Z",
     "shell.execute_reply": "2024-02-05T21:13:39.174165Z",
     "shell.execute_reply.started": "2024-02-05T21:13:39.132102Z"
    }
   },
   "outputs": [
    {
     "name": "stdout",
     "output_type": "stream",
     "text": [
      "CPU times: user 38.7 ms, sys: 64 µs, total: 38.8 ms\n",
      "Wall time: 38.5 ms\n"
     ]
    }
   ],
   "source": [
    "%%time\n",
    "import FireGpkg_sfs\n",
    "\n",
    "large_fire_ids = FireGpkg_sfs.find_largefires(allfires)"
   ]
  },
  {
   "cell_type": "code",
   "execution_count": 58,
   "id": "130838af-f05c-48fe-b52f-1e8d0a5d6747",
   "metadata": {
    "execution": {
     "iopub.execute_input": "2024-02-05T21:14:14.477506Z",
     "iopub.status.busy": "2024-02-05T21:14:14.477006Z",
     "iopub.status.idle": "2024-02-05T21:14:14.490139Z",
     "shell.execute_reply": "2024-02-05T21:14:14.489490Z",
     "shell.execute_reply.started": "2024-02-05T21:14:14.477465Z"
    }
   },
   "outputs": [
    {
     "name": "stdout",
     "output_type": "stream",
     "text": [
      "CPU times: user 8.3 ms, sys: 7 µs, total: 8.31 ms\n",
      "Wall time: 7.75 ms\n"
     ]
    }
   ],
   "source": [
    "%%time\n",
    "t = ted\n",
    "dt = FireTime.t2dt(t)\n",
    "gdf = allfires_gdf.reset_index()\n",
    "\n",
    "gdf = gdf[gdf.t >= dt - datetime.timedelta(days=20)]\n",
    "last_seen = gdf.drop_duplicates(\"fireID\", keep=\"last\")\n",
    "last_large = last_seen[(last_seen.farea > 4) & (last_seen.invalid == False)]\n",
    "large_fires = last_large.fireID.values"
   ]
  },
  {
   "cell_type": "code",
   "execution_count": 56,
   "id": "693c4ef5-817e-4093-a013-954f3caa20c0",
   "metadata": {
    "execution": {
     "iopub.execute_input": "2024-02-05T21:13:26.448872Z",
     "iopub.status.busy": "2024-02-05T21:13:26.448269Z",
     "iopub.status.idle": "2024-02-05T21:13:26.456295Z",
     "shell.execute_reply": "2024-02-05T21:13:26.455628Z",
     "shell.execute_reply.started": "2024-02-05T21:13:26.448818Z"
    }
   },
   "outputs": [
    {
     "data": {
      "text/plain": [
       "True"
      ]
     },
     "execution_count": 56,
     "metadata": {},
     "output_type": "execute_result"
    }
   ],
   "source": [
    "assert set(large_fires) == set(large_fire_ids), \"The large fires should match\""
   ]
  },
  {
   "cell_type": "markdown",
   "id": "ea5af427-e791-48de-b94c-8b555970d9d1",
   "metadata": {},
   "source": [
    "## Rehydrate the latest allfires"
   ]
  },
  {
   "cell_type": "code",
   "execution_count": 59,
   "id": "3ad32d44-96ee-4cfb-9443-cbdcdb4d96db",
   "metadata": {
    "execution": {
     "iopub.execute_input": "2024-02-05T21:15:40.357125Z",
     "iopub.status.busy": "2024-02-05T21:15:40.356720Z",
     "iopub.status.idle": "2024-02-05T21:15:40.362300Z",
     "shell.execute_reply": "2024-02-05T21:15:40.361919Z",
     "shell.execute_reply.started": "2024-02-05T21:15:40.357104Z"
    }
   },
   "outputs": [],
   "source": [
    "@timed\n",
    "def rehydrate_allfires(t, allpixels, gdf, notdead=True):\n",
    "    dt = FireTime.t2dt(t)\n",
    "    dt_dead = dt - datetime.timedelta(days=FireConsts.limoffdays)\n",
    "    \n",
    "    gdf_ = gdf[(gdf.t_st <= dt) & (gdf.t_ed >= dt_dead)]\n",
    "    a = FireObj.Allfires(t)\n",
    "    for fid, gdf_fid in gdf_.groupby(level=0):\n",
    "        f = FireObj.Fire(fid, t, allpixels)\n",
    "        dt_st = gdf_fid.t_st.min()\n",
    "        dt_ed = gdf_fid.t_ed.max()\n",
    "        \n",
    "        f.t_st = FireTime.dt2t(dt_st)\n",
    "        f.t_ed = FireTime.dt2t(dt_ed)\n",
    "        \n",
    "        gdf_fid_t = gdf_fid.loc[(fid, dt_ed)]\n",
    "        for k, v in gdf_fid_t.items():\n",
    "            if k in [\"hull\", \"ftype\", \"fline\", \"invalid\"]:\n",
    "                setattr(f, k, v)\n",
    "        if f.isignition:\n",
    "            a.fids_new.append(fid)\n",
    "        else:\n",
    "            a.fids_expanded.append(fid)\n",
    "        a.fires[fid] = f\n",
    "    return a"
   ]
  },
  {
   "cell_type": "markdown",
   "id": "cab20ea3-0592-4796-b604-6e5dcb70c26a",
   "metadata": {},
   "source": [
    "For instance let's rehydrate just the last allfires object. \n",
    "\n",
    "This should be equivalent to the allfires object that we generated at the top of this notebook."
   ]
  },
  {
   "cell_type": "code",
   "execution_count": 60,
   "id": "5755e2d2-19b1-48f5-a3e6-8738c29f0ac8",
   "metadata": {
    "execution": {
     "iopub.execute_input": "2024-02-05T21:15:49.854570Z",
     "iopub.status.busy": "2024-02-05T21:15:49.854327Z",
     "iopub.status.idle": "2024-02-05T21:15:51.866396Z",
     "shell.execute_reply": "2024-02-05T21:15:51.865856Z",
     "shell.execute_reply.started": "2024-02-05T21:15:49.854556Z"
    }
   },
   "outputs": [
    {
     "name": "stderr",
     "output_type": "stream",
     "text": [
      "2024-02-05 16:15:51,863 - FireLog - INFO - func:rehydrate_allfires took: 2.01 sec\n"
     ]
    },
    {
     "data": {
      "text/plain": [
       "<Allfires at t=[2023, 9, 6, 'AM'] with n_fires=4342>"
      ]
     },
     "execution_count": 60,
     "metadata": {},
     "output_type": "execute_result"
    }
   ],
   "source": [
    "a = rehydrate_allfires(ted, allpixels, allfires_gdf)\n",
    "a"
   ]
  },
  {
   "cell_type": "markdown",
   "id": "3156f464-8ada-4803-9cd7-2c089a3ee20f",
   "metadata": {},
   "source": [
    "What does it look like to rehydrate the object for all timesteps? \n",
    "\n",
    "Note that it takes longer if you have more data. But it should max out at some point as long as `notdead=True`"
   ]
  },
  {
   "cell_type": "code",
   "execution_count": 9,
   "id": "407d9366-85e8-4b1f-9e33-beb1e605c241",
   "metadata": {
    "execution": {
     "iopub.execute_input": "2024-01-31T14:12:51.397468Z",
     "iopub.status.busy": "2024-01-31T14:12:51.397069Z",
     "iopub.status.idle": "2024-01-31T14:13:12.396312Z",
     "shell.execute_reply": "2024-01-31T14:13:12.395751Z",
     "shell.execute_reply.started": "2024-01-31T14:12:51.397435Z"
    }
   },
   "outputs": [
    {
     "name": "stderr",
     "output_type": "stream",
     "text": [
      "2024-01-31 09:12:51,583 - FireLog - INFO - func:rehydrate_allfires took: 184.15 ms\n",
      "2024-01-31 09:12:51,927 - FireLog - INFO - func:rehydrate_allfires took: 342.98 ms\n",
      "2024-01-31 09:12:52,421 - FireLog - INFO - func:rehydrate_allfires took: 493.79 ms\n",
      "2024-01-31 09:12:53,004 - FireLog - INFO - func:rehydrate_allfires took: 582.32 ms\n",
      "2024-01-31 09:12:53,661 - FireLog - INFO - func:rehydrate_allfires took: 655.69 ms\n",
      "2024-01-31 09:12:54,438 - FireLog - INFO - func:rehydrate_allfires took: 776.19 ms\n",
      "2024-01-31 09:12:55,279 - FireLog - INFO - func:rehydrate_allfires took: 840.69 ms\n",
      "2024-01-31 09:12:56,288 - FireLog - INFO - func:rehydrate_allfires took: 1.01 sec\n",
      "2024-01-31 09:12:57,338 - FireLog - INFO - func:rehydrate_allfires took: 1.05 sec\n",
      "2024-01-31 09:12:58,476 - FireLog - INFO - func:rehydrate_allfires took: 1.14 sec\n",
      "2024-01-31 09:12:59,727 - FireLog - INFO - func:rehydrate_allfires took: 1.25 sec\n",
      "2024-01-31 09:13:01,028 - FireLog - INFO - func:rehydrate_allfires took: 1.30 sec\n",
      "2024-01-31 09:13:02,434 - FireLog - INFO - func:rehydrate_allfires took: 1.41 sec\n",
      "2024-01-31 09:13:03,875 - FireLog - INFO - func:rehydrate_allfires took: 1.44 sec\n",
      "2024-01-31 09:13:05,377 - FireLog - INFO - func:rehydrate_allfires took: 1.50 sec\n",
      "2024-01-31 09:13:07,036 - FireLog - INFO - func:rehydrate_allfires took: 1.66 sec\n",
      "2024-01-31 09:13:08,711 - FireLog - INFO - func:rehydrate_allfires took: 1.67 sec\n",
      "2024-01-31 09:13:10,539 - FireLog - INFO - func:rehydrate_allfires took: 1.83 sec\n",
      "2024-01-31 09:13:12,393 - FireLog - INFO - func:rehydrate_allfires took: 1.85 sec\n"
     ]
    },
    {
     "name": "stdout",
     "output_type": "stream",
     "text": [
      "CPU times: user 21 s, sys: 28.3 ms, total: 21 s\n",
      "Wall time: 21 s\n"
     ]
    }
   ],
   "source": [
    "%%time\n",
    "for t in FireTime.t_generator(tst, ted):\n",
    "    a = rehydrate_allfires(t, allpixels, allfires_gdf)"
   ]
  },
  {
   "cell_type": "markdown",
   "id": "6846513f-ff56-49b1-807f-501bb822e284",
   "metadata": {},
   "source": [
    "## TO DO:\n",
    "\n",
    "- [ ] figure out if the merge behavior is correct\n",
    "- [ ] what to do with invalid fires?\n",
    "- [ ] do we really need allpixels when rehydrating?\n",
    "- [ ] should the allfires object hold on to the gdf and update it itself?\n",
    "- [ ] do the snapshot files have rows merged based on the fid?\n",
    "- [ ] figure out how to write the desired output files solely from the allfires geodataframe and the allpixels dataframe. I think it's important not to reinstantiate the objects for this."
   ]
  }
 ],
 "metadata": {
  "kernelspec": {
   "display_name": "Python 3 (ipykernel)",
   "language": "python",
   "name": "python3"
  },
  "language_info": {
   "codemirror_mode": {
    "name": "ipython",
    "version": 3
   },
   "file_extension": ".py",
   "mimetype": "text/x-python",
   "name": "python",
   "nbconvert_exporter": "python",
   "pygments_lexer": "ipython3",
   "version": "3.11.7"
  }
 },
 "nbformat": 4,
 "nbformat_minor": 5
}
