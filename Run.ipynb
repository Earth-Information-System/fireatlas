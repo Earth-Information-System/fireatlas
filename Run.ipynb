{
 "cells": [
  {
   "cell_type": "markdown",
   "id": "f14a2dc9-e4ba-46ea-9e35-fca95f4514b0",
   "metadata": {},
   "source": [
    "## Run the fire expansion and merging algorithm\n",
    "\n",
    "`Fire_Forward` is responsible for reading in the preprocessed data created in the `Ingest` notebook"
   ]
  },
  {
   "cell_type": "code",
   "execution_count": 1,
   "id": "2ed6f4c1-f380-4b1d-b478-b3dcd61d705d",
   "metadata": {
    "execution": {
     "iopub.execute_input": "2024-02-08T16:11:05.957323Z",
     "iopub.status.busy": "2024-02-08T16:11:05.957110Z",
     "iopub.status.idle": "2024-02-08T16:11:06.372260Z",
     "shell.execute_reply": "2024-02-08T16:11:06.371871Z",
     "shell.execute_reply.started": "2024-02-08T16:11:05.957305Z"
    },
    "scrolled": true
   },
   "outputs": [],
   "source": [
    "import datetime\n",
    "import pandas as pd\n",
    "import geopandas as gpd\n",
    "\n",
    "import FireMain, FireTime, FireObj, FireConsts, postprocess\n",
    "from utils import timed\n",
    "\n",
    "region = [\"CONUS\",]  # note you don't need the shape in here, just the name\n",
    "tst = [2023, 8, 28, 'AM']\n",
    "ted = [2023, 9, 6, 'AM']"
   ]
  },
  {
   "cell_type": "code",
   "execution_count": 2,
   "id": "7ccd529a-94e5-42b5-a099-e47fe352f1f9",
   "metadata": {
    "execution": {
     "iopub.execute_input": "2024-02-08T16:11:06.372934Z",
     "iopub.status.busy": "2024-02-08T16:11:06.372717Z",
     "iopub.status.idle": "2024-02-08T16:13:38.868784Z",
     "shell.execute_reply": "2024-02-08T16:13:38.868398Z",
     "shell.execute_reply.started": "2024-02-08T16:11:06.372917Z"
    }
   },
   "outputs": [
    {
     "name": "stderr",
     "output_type": "stream",
     "text": [
      "2024-02-08 11:11:06,450 - FireLog - INFO - func:read_preprocessed took: 5.85 ms\n",
      "2024-02-08 11:11:06,456 - FireLog - INFO - func:read_preprocessed took: 3.92 ms\n",
      "2024-02-08 11:11:06,463 - FireLog - INFO - func:read_preprocessed took: 4.82 ms\n",
      "2024-02-08 11:11:06,467 - FireLog - INFO - func:read_preprocessed took: 3.31 ms\n",
      "2024-02-08 11:11:06,473 - FireLog - INFO - func:read_preprocessed took: 4.39 ms\n",
      "2024-02-08 11:11:06,479 - FireLog - INFO - func:read_preprocessed took: 4.78 ms\n",
      "2024-02-08 11:11:06,488 - FireLog - INFO - func:read_preprocessed took: 6.94 ms\n",
      "2024-02-08 11:11:06,493 - FireLog - INFO - func:read_preprocessed took: 3.19 ms\n",
      "2024-02-08 11:11:06,498 - FireLog - INFO - func:read_preprocessed took: 3.53 ms\n",
      "2024-02-08 11:11:06,501 - FireLog - INFO - func:read_preprocessed took: 1.93 ms\n",
      "2024-02-08 11:11:06,506 - FireLog - INFO - func:read_preprocessed took: 3.73 ms\n",
      "2024-02-08 11:11:06,509 - FireLog - INFO - func:read_preprocessed took: 1.53 ms\n",
      "2024-02-08 11:11:06,514 - FireLog - INFO - func:read_preprocessed took: 3.33 ms\n",
      "2024-02-08 11:11:06,518 - FireLog - INFO - func:read_preprocessed took: 1.73 ms\n",
      "2024-02-08 11:11:06,526 - FireLog - INFO - func:read_preprocessed took: 6.82 ms\n",
      "2024-02-08 11:11:06,533 - FireLog - INFO - func:read_preprocessed took: 4.38 ms\n",
      "2024-02-08 11:11:06,538 - FireLog - INFO - func:read_preprocessed took: 3.29 ms\n",
      "2024-02-08 11:11:06,541 - FireLog - INFO - func:read_preprocessed took: 2.57 ms\n",
      "2024-02-08 11:11:06,545 - FireLog - INFO - func:read_preprocessed took: 2.82 ms\n",
      "2024-02-08 11:11:06,552 - FireLog - INFO - --------------------\n",
      "2024-02-08 11:11:06,553 - FireLog - INFO - Fire tracking at [2023, 8, 28, 'AM']\n",
      "2024-02-08 11:11:09,382 - FireLog - INFO - func:Fire_expand_rtree took: 2.83 sec\n",
      "2024-02-08 11:11:11,211 - FireLog - INFO - func:Fire_merge_rtree took: 1.83 sec\n",
      "2024-02-08 11:11:11,375 - FireLog - INFO - func:invalidate_statfires took: 163.31 ms\n",
      "2024-02-08 11:11:11,376 - FireLog - INFO - fids_expand: 0\n",
      "2024-02-08 11:11:11,376 - FireLog - INFO - fids_new: 507\n",
      "2024-02-08 11:11:11,376 - FireLog - INFO - fids_merged: 50\n",
      "2024-02-08 11:11:11,377 - FireLog - INFO - fids_invalid: 107\n",
      "2024-02-08 11:11:13,916 - FireLog - INFO - func:update_gdf took: 2.54 sec\n",
      "2024-02-08 11:11:13,916 - FireLog - INFO - func:Fire_Forward_one_step took: 7.36 sec\n",
      "2024-02-08 11:11:13,917 - FireLog - INFO - --------------------\n",
      "2024-02-08 11:11:13,917 - FireLog - INFO - Fire tracking at [2023, 8, 28, 'PM']\n",
      "2024-02-08 11:11:17,544 - FireLog - INFO - func:Fire_expand_rtree took: 3.62 sec\n",
      "2024-02-08 11:11:17,976 - FireLog - INFO - func:Fire_merge_rtree took: 427.80 ms\n",
      "2024-02-08 11:11:18,321 - FireLog - INFO - func:invalidate_statfires took: 345.34 ms\n",
      "2024-02-08 11:11:18,322 - FireLog - INFO - fids_expand: 93\n",
      "2024-02-08 11:11:18,323 - FireLog - INFO - fids_new: 405\n",
      "2024-02-08 11:11:18,323 - FireLog - INFO - fids_merged: 23\n",
      "2024-02-08 11:11:18,324 - FireLog - INFO - fids_invalid: 26\n",
      "2024-02-08 11:11:21,282 - FireLog - INFO - func:update_gdf took: 2.96 sec\n",
      "2024-02-08 11:11:21,283 - FireLog - INFO - func:Fire_Forward_one_step took: 7.37 sec\n",
      "2024-02-08 11:11:21,283 - FireLog - INFO - --------------------\n",
      "2024-02-08 11:11:21,284 - FireLog - INFO - Fire tracking at [2023, 8, 29, 'AM']\n",
      "2024-02-08 11:11:25,596 - FireLog - INFO - func:Fire_expand_rtree took: 4.31 sec\n",
      "2024-02-08 11:11:26,170 - FireLog - INFO - func:Fire_merge_rtree took: 569.88 ms\n",
      "2024-02-08 11:11:26,674 - FireLog - INFO - func:invalidate_statfires took: 503.66 ms\n",
      "2024-02-08 11:11:26,675 - FireLog - INFO - fids_expand: 265\n",
      "2024-02-08 11:11:26,675 - FireLog - INFO - fids_new: 225\n",
      "2024-02-08 11:11:26,676 - FireLog - INFO - fids_merged: 19\n",
      "2024-02-08 11:11:26,676 - FireLog - INFO - fids_invalid: 31\n",
      "2024-02-08 11:11:29,719 - FireLog - INFO - func:update_gdf took: 3.04 sec\n",
      "2024-02-08 11:11:29,720 - FireLog - INFO - func:Fire_Forward_one_step took: 8.44 sec\n",
      "2024-02-08 11:11:29,721 - FireLog - INFO - --------------------\n",
      "2024-02-08 11:11:29,721 - FireLog - INFO - Fire tracking at [2023, 8, 29, 'PM']\n",
      "2024-02-08 11:11:32,816 - FireLog - INFO - func:Fire_expand_rtree took: 3.09 sec\n",
      "2024-02-08 11:11:33,452 - FireLog - INFO - func:Fire_merge_rtree took: 631.75 ms\n",
      "2024-02-08 11:11:33,984 - FireLog - INFO - func:invalidate_statfires took: 530.84 ms\n",
      "2024-02-08 11:11:33,985 - FireLog - INFO - fids_expand: 95\n",
      "2024-02-08 11:11:33,985 - FireLog - INFO - fids_new: 291\n",
      "2024-02-08 11:11:33,985 - FireLog - INFO - fids_merged: 14\n",
      "2024-02-08 11:11:33,986 - FireLog - INFO - fids_invalid: 25\n",
      "2024-02-08 11:11:36,539 - FireLog - INFO - func:update_gdf took: 2.55 sec\n",
      "2024-02-08 11:11:36,540 - FireLog - INFO - func:Fire_Forward_one_step took: 6.82 sec\n",
      "2024-02-08 11:11:36,540 - FireLog - INFO - --------------------\n",
      "2024-02-08 11:11:36,541 - FireLog - INFO - Fire tracking at [2023, 8, 30, 'AM']\n",
      "2024-02-08 11:11:40,317 - FireLog - INFO - func:Fire_expand_rtree took: 3.77 sec\n",
      "2024-02-08 11:11:40,742 - FireLog - INFO - func:Fire_merge_rtree took: 420.95 ms\n",
      "2024-02-08 11:11:41,339 - FireLog - INFO - func:invalidate_statfires took: 595.99 ms\n",
      "2024-02-08 11:11:41,339 - FireLog - INFO - fids_expand: 272\n",
      "2024-02-08 11:11:41,340 - FireLog - INFO - fids_new: 167\n",
      "2024-02-08 11:11:41,340 - FireLog - INFO - fids_merged: 10\n",
      "2024-02-08 11:11:41,341 - FireLog - INFO - fids_invalid: 39\n",
      "2024-02-08 11:11:44,087 - FireLog - INFO - func:update_gdf took: 2.75 sec\n",
      "2024-02-08 11:11:44,088 - FireLog - INFO - func:Fire_Forward_one_step took: 7.55 sec\n",
      "2024-02-08 11:11:44,088 - FireLog - INFO - --------------------\n",
      "2024-02-08 11:11:44,089 - FireLog - INFO - Fire tracking at [2023, 8, 30, 'PM']\n",
      "2024-02-08 11:11:47,346 - FireLog - INFO - func:Fire_expand_rtree took: 3.25 sec\n",
      "2024-02-08 11:11:48,025 - FireLog - INFO - func:Fire_merge_rtree took: 672.38 ms\n",
      "2024-02-08 11:11:48,786 - FireLog - INFO - func:invalidate_statfires took: 759.74 ms\n",
      "2024-02-08 11:11:48,787 - FireLog - INFO - fids_expand: 119\n",
      "2024-02-08 11:11:48,787 - FireLog - INFO - fids_new: 276\n",
      "2024-02-08 11:11:48,787 - FireLog - INFO - fids_merged: 13\n",
      "2024-02-08 11:11:48,788 - FireLog - INFO - fids_invalid: 24\n",
      "2024-02-08 11:11:51,306 - FireLog - INFO - func:update_gdf took: 2.52 sec\n",
      "2024-02-08 11:11:51,306 - FireLog - INFO - func:Fire_Forward_one_step took: 7.22 sec\n",
      "2024-02-08 11:11:51,307 - FireLog - INFO - --------------------\n",
      "2024-02-08 11:11:51,307 - FireLog - INFO - Fire tracking at [2023, 8, 31, 'AM']\n",
      "2024-02-08 11:11:56,032 - FireLog - INFO - func:Fire_expand_rtree took: 4.72 sec\n",
      "2024-02-08 11:11:56,639 - FireLog - INFO - func:Fire_merge_rtree took: 601.31 ms\n",
      "2024-02-08 11:11:57,484 - FireLog - INFO - func:invalidate_statfires took: 844.63 ms\n",
      "2024-02-08 11:11:57,485 - FireLog - INFO - fids_expand: 323\n",
      "2024-02-08 11:11:57,485 - FireLog - INFO - fids_new: 155\n",
      "2024-02-08 11:11:57,486 - FireLog - INFO - fids_merged: 8\n",
      "2024-02-08 11:11:57,487 - FireLog - INFO - fids_invalid: 57\n",
      "2024-02-08 11:12:00,798 - FireLog - INFO - func:update_gdf took: 3.31 sec\n",
      "2024-02-08 11:12:00,799 - FireLog - INFO - func:Fire_Forward_one_step took: 9.49 sec\n",
      "2024-02-08 11:12:00,799 - FireLog - INFO - --------------------\n",
      "2024-02-08 11:12:00,800 - FireLog - INFO - Fire tracking at [2023, 8, 31, 'PM']\n",
      "2024-02-08 11:12:03,906 - FireLog - INFO - func:Fire_expand_rtree took: 3.10 sec\n",
      "2024-02-08 11:12:04,561 - FireLog - INFO - func:Fire_merge_rtree took: 649.54 ms\n",
      "2024-02-08 11:12:05,497 - FireLog - INFO - func:invalidate_statfires took: 935.42 ms\n",
      "2024-02-08 11:12:05,498 - FireLog - INFO - fids_expand: 120\n",
      "2024-02-08 11:12:05,499 - FireLog - INFO - fids_new: 312\n",
      "2024-02-08 11:12:05,499 - FireLog - INFO - fids_merged: 12\n",
      "2024-02-08 11:12:05,500 - FireLog - INFO - fids_invalid: 32\n",
      "2024-02-08 11:12:08,754 - FireLog - INFO - func:update_gdf took: 3.25 sec\n",
      "2024-02-08 11:12:08,755 - FireLog - INFO - func:Fire_Forward_one_step took: 7.96 sec\n",
      "2024-02-08 11:12:08,755 - FireLog - INFO - --------------------\n",
      "2024-02-08 11:12:08,756 - FireLog - INFO - Fire tracking at [2023, 9, 1, 'AM']\n",
      "2024-02-08 11:12:13,038 - FireLog - INFO - func:Fire_expand_rtree took: 4.28 sec\n",
      "2024-02-08 11:12:13,398 - FireLog - INFO - func:Fire_merge_rtree took: 352.99 ms\n",
      "2024-02-08 11:12:14,405 - FireLog - INFO - func:invalidate_statfires took: 1.01 sec\n",
      "2024-02-08 11:12:14,406 - FireLog - INFO - fids_expand: 298\n",
      "2024-02-08 11:12:14,406 - FireLog - INFO - fids_new: 170\n",
      "2024-02-08 11:12:14,406 - FireLog - INFO - fids_merged: 3\n",
      "2024-02-08 11:12:14,406 - FireLog - INFO - fids_invalid: 46\n",
      "2024-02-08 11:12:18,835 - FireLog - INFO - func:update_gdf took: 4.43 sec\n",
      "2024-02-08 11:12:18,835 - FireLog - INFO - func:Fire_Forward_one_step took: 10.08 sec\n",
      "2024-02-08 11:12:18,836 - FireLog - INFO - --------------------\n",
      "2024-02-08 11:12:18,836 - FireLog - INFO - Fire tracking at [2023, 9, 1, 'PM']\n",
      "2024-02-08 11:12:21,556 - FireLog - INFO - func:Fire_expand_rtree took: 2.71 sec\n",
      "2024-02-08 11:12:22,091 - FireLog - INFO - func:Fire_merge_rtree took: 528.61 ms\n",
      "2024-02-08 11:12:23,290 - FireLog - INFO - func:invalidate_statfires took: 1.20 sec\n",
      "2024-02-08 11:12:23,291 - FireLog - INFO - fids_expand: 98\n",
      "2024-02-08 11:12:23,291 - FireLog - INFO - fids_new: 215\n",
      "2024-02-08 11:12:23,292 - FireLog - INFO - fids_merged: 8\n",
      "2024-02-08 11:12:23,292 - FireLog - INFO - fids_invalid: 16\n",
      "2024-02-08 11:12:25,778 - FireLog - INFO - func:update_gdf took: 2.48 sec\n",
      "2024-02-08 11:12:25,779 - FireLog - INFO - func:Fire_Forward_one_step took: 6.94 sec\n",
      "2024-02-08 11:12:25,779 - FireLog - INFO - --------------------\n",
      "2024-02-08 11:12:25,780 - FireLog - INFO - Fire tracking at [2023, 9, 2, 'AM']\n",
      "2024-02-08 11:12:30,302 - FireLog - INFO - func:Fire_expand_rtree took: 4.51 sec\n",
      "2024-02-08 11:12:30,762 - FireLog - INFO - func:Fire_merge_rtree took: 451.67 ms\n",
      "2024-02-08 11:12:31,983 - FireLog - INFO - func:invalidate_statfires took: 1.22 sec\n",
      "2024-02-08 11:12:31,984 - FireLog - INFO - fids_expand: 282\n",
      "2024-02-08 11:12:31,985 - FireLog - INFO - fids_new: 151\n",
      "2024-02-08 11:12:31,985 - FireLog - INFO - fids_merged: 6\n",
      "2024-02-08 11:12:31,985 - FireLog - INFO - fids_invalid: 48\n",
      "2024-02-08 11:12:35,579 - FireLog - INFO - func:update_gdf took: 3.59 sec\n",
      "2024-02-08 11:12:35,580 - FireLog - INFO - func:Fire_Forward_one_step took: 9.80 sec\n",
      "2024-02-08 11:12:35,581 - FireLog - INFO - --------------------\n",
      "2024-02-08 11:12:35,582 - FireLog - INFO - Fire tracking at [2023, 9, 2, 'PM']\n",
      "2024-02-08 11:12:37,806 - FireLog - INFO - func:Fire_expand_rtree took: 2.21 sec\n",
      "2024-02-08 11:12:38,315 - FireLog - INFO - func:Fire_merge_rtree took: 500.95 ms\n",
      "2024-02-08 11:12:39,537 - FireLog - INFO - func:invalidate_statfires took: 1.22 sec\n",
      "2024-02-08 11:12:39,538 - FireLog - INFO - fids_expand: 79\n",
      "2024-02-08 11:12:39,538 - FireLog - INFO - fids_new: 202\n",
      "2024-02-08 11:12:39,539 - FireLog - INFO - fids_merged: 9\n",
      "2024-02-08 11:12:39,540 - FireLog - INFO - fids_invalid: 12\n",
      "2024-02-08 11:12:41,752 - FireLog - INFO - func:update_gdf took: 2.21 sec\n",
      "2024-02-08 11:12:41,753 - FireLog - INFO - func:Fire_Forward_one_step took: 6.17 sec\n",
      "2024-02-08 11:12:41,754 - FireLog - INFO - --------------------\n",
      "2024-02-08 11:12:41,754 - FireLog - INFO - Fire tracking at [2023, 9, 3, 'AM']\n",
      "2024-02-08 11:12:46,031 - FireLog - INFO - func:Fire_expand_rtree took: 4.27 sec\n",
      "2024-02-08 11:12:46,650 - FireLog - INFO - func:Fire_merge_rtree took: 604.70 ms\n",
      "2024-02-08 11:12:47,860 - FireLog - INFO - func:invalidate_statfires took: 1.21 sec\n",
      "2024-02-08 11:12:47,861 - FireLog - INFO - fids_expand: 286\n",
      "2024-02-08 11:12:47,862 - FireLog - INFO - fids_new: 148\n",
      "2024-02-08 11:12:47,862 - FireLog - INFO - fids_merged: 9\n",
      "2024-02-08 11:12:47,863 - FireLog - INFO - fids_invalid: 50\n",
      "2024-02-08 11:12:51,246 - FireLog - INFO - func:update_gdf took: 3.38 sec\n",
      "2024-02-08 11:12:51,247 - FireLog - INFO - func:Fire_Forward_one_step took: 9.49 sec\n",
      "2024-02-08 11:12:51,248 - FireLog - INFO - --------------------\n",
      "2024-02-08 11:12:51,248 - FireLog - INFO - Fire tracking at [2023, 9, 3, 'PM']\n",
      "2024-02-08 11:12:53,438 - FireLog - INFO - func:Fire_expand_rtree took: 2.18 sec\n",
      "2024-02-08 11:12:54,119 - FireLog - INFO - func:Fire_merge_rtree took: 667.93 ms\n",
      "2024-02-08 11:12:55,461 - FireLog - INFO - func:invalidate_statfires took: 1.34 sec\n",
      "2024-02-08 11:12:55,462 - FireLog - INFO - fids_expand: 83\n",
      "2024-02-08 11:12:55,462 - FireLog - INFO - fids_new: 192\n",
      "2024-02-08 11:12:55,462 - FireLog - INFO - fids_merged: 7\n",
      "2024-02-08 11:12:55,463 - FireLog - INFO - fids_invalid: 13\n",
      "2024-02-08 11:12:57,674 - FireLog - INFO - func:update_gdf took: 2.21 sec\n",
      "2024-02-08 11:12:57,674 - FireLog - INFO - func:Fire_Forward_one_step took: 6.43 sec\n",
      "2024-02-08 11:12:57,675 - FireLog - INFO - --------------------\n",
      "2024-02-08 11:12:57,675 - FireLog - INFO - Fire tracking at [2023, 9, 4, 'AM']\n",
      "2024-02-08 11:13:00,919 - FireLog - INFO - func:Fire_expand_rtree took: 3.23 sec\n",
      "2024-02-08 11:13:01,330 - FireLog - INFO - func:Fire_merge_rtree took: 402.50 ms\n",
      "2024-02-08 11:13:02,322 - FireLog - INFO - func:invalidate_statfires took: 991.58 ms\n",
      "2024-02-08 11:13:02,323 - FireLog - INFO - fids_expand: 256\n",
      "2024-02-08 11:13:02,323 - FireLog - INFO - fids_new: 103\n",
      "2024-02-08 11:13:02,324 - FireLog - INFO - fids_merged: 5\n",
      "2024-02-08 11:13:02,324 - FireLog - INFO - fids_invalid: 47\n",
      "2024-02-08 11:13:04,995 - FireLog - INFO - func:update_gdf took: 2.67 sec\n",
      "2024-02-08 11:13:04,996 - FireLog - INFO - func:Fire_Forward_one_step took: 7.32 sec\n",
      "2024-02-08 11:13:04,997 - FireLog - INFO - --------------------\n",
      "2024-02-08 11:13:04,997 - FireLog - INFO - Fire tracking at [2023, 9, 4, 'PM']\n",
      "2024-02-08 11:13:07,731 - FireLog - INFO - func:Fire_expand_rtree took: 2.73 sec\n",
      "2024-02-08 11:13:08,376 - FireLog - INFO - func:Fire_merge_rtree took: 632.08 ms\n",
      "2024-02-08 11:13:09,512 - FireLog - INFO - func:invalidate_statfires took: 1.14 sec\n",
      "2024-02-08 11:13:09,513 - FireLog - INFO - fids_expand: 90\n",
      "2024-02-08 11:13:09,513 - FireLog - INFO - fids_new: 275\n",
      "2024-02-08 11:13:09,514 - FireLog - INFO - fids_merged: 19\n",
      "2024-02-08 11:13:09,514 - FireLog - INFO - fids_invalid: 22\n",
      "2024-02-08 11:13:12,647 - FireLog - INFO - func:update_gdf took: 3.13 sec\n",
      "2024-02-08 11:13:12,647 - FireLog - INFO - func:Fire_Forward_one_step took: 7.65 sec\n",
      "2024-02-08 11:13:12,648 - FireLog - INFO - --------------------\n",
      "2024-02-08 11:13:12,648 - FireLog - INFO - Fire tracking at [2023, 9, 5, 'AM']\n",
      "2024-02-08 11:13:16,444 - FireLog - INFO - func:Fire_expand_rtree took: 3.79 sec\n",
      "2024-02-08 11:13:17,030 - FireLog - INFO - func:Fire_merge_rtree took: 576.26 ms\n",
      "2024-02-08 11:13:18,132 - FireLog - INFO - func:invalidate_statfires took: 1.10 sec\n",
      "2024-02-08 11:13:18,133 - FireLog - INFO - fids_expand: 260\n",
      "2024-02-08 11:13:18,133 - FireLog - INFO - fids_new: 126\n",
      "2024-02-08 11:13:18,134 - FireLog - INFO - fids_merged: 12\n",
      "2024-02-08 11:13:18,134 - FireLog - INFO - fids_invalid: 76\n",
      "2024-02-08 11:13:21,368 - FireLog - INFO - func:update_gdf took: 3.23 sec\n",
      "2024-02-08 11:13:21,369 - FireLog - INFO - func:Fire_Forward_one_step took: 8.72 sec\n",
      "2024-02-08 11:13:21,370 - FireLog - INFO - --------------------\n",
      "2024-02-08 11:13:21,371 - FireLog - INFO - Fire tracking at [2023, 9, 5, 'PM']\n",
      "2024-02-08 11:13:24,503 - FireLog - INFO - func:Fire_expand_rtree took: 3.12 sec\n",
      "2024-02-08 11:13:25,163 - FireLog - INFO - func:Fire_merge_rtree took: 649.34 ms\n",
      "2024-02-08 11:13:26,299 - FireLog - INFO - func:invalidate_statfires took: 1.13 sec\n",
      "2024-02-08 11:13:26,299 - FireLog - INFO - fids_expand: 119\n",
      "2024-02-08 11:13:26,300 - FireLog - INFO - fids_new: 293\n",
      "2024-02-08 11:13:26,301 - FireLog - INFO - fids_merged: 16\n",
      "2024-02-08 11:13:26,301 - FireLog - INFO - fids_invalid: 26\n",
      "2024-02-08 11:13:29,958 - FireLog - INFO - func:update_gdf took: 3.66 sec\n",
      "2024-02-08 11:13:29,959 - FireLog - INFO - func:Fire_Forward_one_step took: 8.59 sec\n",
      "2024-02-08 11:13:29,959 - FireLog - INFO - --------------------\n",
      "2024-02-08 11:13:29,960 - FireLog - INFO - Fire tracking at [2023, 9, 6, 'AM']\n",
      "2024-02-08 11:13:33,620 - FireLog - INFO - func:Fire_expand_rtree took: 3.65 sec\n",
      "2024-02-08 11:13:34,366 - FireLog - INFO - func:Fire_merge_rtree took: 733.32 ms\n",
      "2024-02-08 11:13:35,413 - FireLog - INFO - func:invalidate_statfires took: 1.05 sec\n",
      "2024-02-08 11:13:35,413 - FireLog - INFO - fids_expand: 268\n",
      "2024-02-08 11:13:35,414 - FireLog - INFO - fids_new: 129\n",
      "2024-02-08 11:13:35,414 - FireLog - INFO - fids_merged: 22\n",
      "2024-02-08 11:13:35,414 - FireLog - INFO - fids_invalid: 77\n",
      "2024-02-08 11:13:38,866 - FireLog - INFO - func:update_gdf took: 3.45 sec\n",
      "2024-02-08 11:13:38,866 - FireLog - INFO - func:Fire_Forward_one_step took: 8.91 sec\n",
      "2024-02-08 11:13:38,867 - FireLog - INFO - func:Fire_Forward took: 2.54 min\n"
     ]
    }
   ],
   "source": [
    "allfires, allpixels = FireMain.Fire_Forward(tst=tst, ted=ted, restart=False, region=region)"
   ]
  },
  {
   "cell_type": "markdown",
   "id": "01ab5572-6511-4b87-9a69-7db28cb72f36",
   "metadata": {
    "execution": {
     "iopub.execute_input": "2024-01-24T22:27:41.929188Z",
     "iopub.status.busy": "2024-01-24T22:27:41.928952Z",
     "iopub.status.idle": "2024-01-24T22:27:41.932259Z",
     "shell.execute_reply": "2024-01-24T22:27:41.931921Z",
     "shell.execute_reply.started": "2024-01-24T22:27:41.929171Z"
    }
   },
   "source": [
    "From the logs that Eli shared we expect that for [2023, 9, 6, 'AM'] we should have:\n",
    "\n",
    "```python\n",
    "actual_fids_expand = 260\n",
    "actual_fids_new = 131\n",
    "actual_fids_merged = 6\n",
    "actual_fids_invalid = 44\n",
    "```"
   ]
  },
  {
   "cell_type": "markdown",
   "id": "e4458cb6-0c9c-4712-8d79-c43f84e756df",
   "metadata": {},
   "source": [
    "# Concepts\n",
    "This outputs two dataframes: an `allpixels` dataframe with 1 row per pixel and an `allfires` geodataframe with one row per-fire/per-t. \n",
    "\n",
    "The core concept is that if you use a dataframe to back the allfires and fire objects there are well-defined ways to serialize that to disk whenever you like (aka no more pickles!).\n",
    "\n",
    "Here's a bit of an overview of the lifecycle of each of these dataframes:\n",
    "\n",
    "## allpixels:\n",
    "\n",
    "- At the start of `Fire_Forward` all of the preprocessed pixel data is loaded and concatenated into one long dataframe.\n",
    "- Each row represents a fire pixel and there is a unique id per row.\n",
    "- As `Fire_Forward` iterates through the timesteps of interest the `allpixels` dataframe is updated in place.\n",
    "- Each `Fire` object refers to the `allpixels` object as the source of truth and does not hold pixel data but instead refers to subsets of the `allpixels` dataframe to return `n_pixels` or `newpixels`.\n",
    "- Merging fires at a particular `t` can update the `allpixels` at a former timestep.\n",
    "- When `Fire_Forward` is complete, the `allpixels` object can be serialized to csv (or any tabular format) optionally partitioned into files by `t`.\n",
    "- This dataframe can be used:\n",
    "    - together with `allfires_gdf` to rehydrate the `allfires` object at the latest `t` in order to run `Fire_Forward` on one new ingest file.\n",
    "    - independently to write the `nplist` output file for largefires\n",
    "\n",
    "## allfires_gdf:\n",
    "\n",
    "- At the start of `Fire_Forward` a new geodataframe object is initialized. It has a column for each of the `Fire` attributes that take a non-trivial amount of time to compute (`ftype`, `hull`, `fline`...).\n",
    "- As `Fire_Forward` iterates through the timesteps of interest it writes a row for every fire that is burning (aka has new pixels) at the `t`.\n",
    "- So each row contains the information about one fire at one `t`. The index is a MultiIndex of `(fid, t)`\n",
    "- Merging fires at a particular `t` updates the `mergeid` on the existing rows (_this part I am not totally confident is correct_).\n",
    "- When `Fire_Forward` is complete, the `allfires_gdf` object can be serialized to geoparquet (this is the best choice since it contains multiple geometry columns) optionally partitioned into files by `t`.\n",
    "- This geodataframe can be used:\n",
    "    - together with `allpixels` to rehydrate the `allfires` object at the latest `t` in order to run `Fire_Forward` on one new ingest file.\n",
    "    - independently to write all the snapshot and largefires output files.\n",
    "\n",
    "Side note: I like that in this branch the `allpixels` dataframe is referenced by all the `Fire` objects but it isn't copied around. This is different from how it works in `preprocess` where each `Fire` object (at each `t`) has its own dataframe. It is also different than the original version of this algorithm where each `Fire` object (at each `t`) holds a bunch of lists."
   ]
  },
  {
   "cell_type": "markdown",
   "id": "f88b111a-a729-45a6-95b2-65a2db573574",
   "metadata": {},
   "source": [
    "## Serialize to disk\n",
    "\n",
    "- allpixels -> one file for each t (one row for each pixel).\n",
    "- allfires -> one geoparquet file to hold all information about each fire at each time (one row for each burning fire at each t)."
   ]
  },
  {
   "cell_type": "code",
   "execution_count": 3,
   "id": "228d5db2-cfa1-4ba2-9521-d23c6d2e08e3",
   "metadata": {
    "execution": {
     "iopub.execute_input": "2024-02-08T16:13:56.437860Z",
     "iopub.status.busy": "2024-02-08T16:13:56.437033Z",
     "iopub.status.idle": "2024-02-08T16:13:56.588167Z",
     "shell.execute_reply": "2024-02-08T16:13:56.587765Z",
     "shell.execute_reply.started": "2024-02-08T16:13:56.437828Z"
    }
   },
   "outputs": [
    {
     "name": "stderr",
     "output_type": "stream",
     "text": [
      "2024-02-08 11:13:56,585 - FireLog - INFO - func:save_allpixels took: 146.98 ms\n"
     ]
    }
   ],
   "source": [
    "postprocess.save_allpixels(allpixels, ted, region)"
   ]
  },
  {
   "cell_type": "code",
   "execution_count": 5,
   "id": "48b4f931-7f4c-47e0-aaa7-d79dac3972cc",
   "metadata": {
    "execution": {
     "iopub.execute_input": "2024-02-08T16:14:03.373356Z",
     "iopub.status.busy": "2024-02-08T16:14:03.372318Z",
     "iopub.status.idle": "2024-02-08T16:14:03.540494Z",
     "shell.execute_reply": "2024-02-08T16:14:03.540091Z",
     "shell.execute_reply.started": "2024-02-08T16:14:03.373290Z"
    }
   },
   "outputs": [
    {
     "name": "stderr",
     "output_type": "stream",
     "text": [
      "2024-02-08 11:14:03,538 - FireLog - INFO - func:save_allfires_gdf took: 162.55 ms\n"
     ]
    }
   ],
   "source": [
    "postprocess.save_allfires_gdf(allfires.gdf, ted, region)"
   ]
  },
  {
   "cell_type": "markdown",
   "id": "fd6f2be6-286a-4868-adbe-a90aa5dfb4fd",
   "metadata": {},
   "source": [
    "## Read from disk"
   ]
  },
  {
   "cell_type": "code",
   "execution_count": 6,
   "id": "bb9d9818-89b0-4534-875d-8f5295eba2a0",
   "metadata": {
    "execution": {
     "iopub.execute_input": "2024-02-08T16:14:06.268296Z",
     "iopub.status.busy": "2024-02-08T16:14:06.267708Z",
     "iopub.status.idle": "2024-02-08T16:14:06.332306Z",
     "shell.execute_reply": "2024-02-08T16:14:06.331926Z",
     "shell.execute_reply.started": "2024-02-08T16:14:06.268268Z"
    }
   },
   "outputs": [
    {
     "name": "stderr",
     "output_type": "stream",
     "text": [
      "2024-02-08 11:14:06,330 - FireLog - INFO - func:read_allpixels took: 60.85 ms\n"
     ]
    }
   ],
   "source": [
    "allpixels = postprocess.read_allpixels(ted, region)"
   ]
  },
  {
   "cell_type": "code",
   "execution_count": 7,
   "id": "713e07d4-3f8f-4ff3-a67b-88883a39b6c4",
   "metadata": {
    "execution": {
     "iopub.execute_input": "2024-02-08T16:14:06.746350Z",
     "iopub.status.busy": "2024-02-08T16:14:06.746084Z",
     "iopub.status.idle": "2024-02-08T16:14:06.856172Z",
     "shell.execute_reply": "2024-02-08T16:14:06.855585Z",
     "shell.execute_reply.started": "2024-02-08T16:14:06.746334Z"
    }
   },
   "outputs": [
    {
     "name": "stderr",
     "output_type": "stream",
     "text": [
      "2024-02-08 11:14:06,854 - FireLog - INFO - func:read_allfires_gdf took: 107.25 ms\n"
     ]
    }
   ],
   "source": [
    "allfires_gdf = postprocess.read_allfires_gdf(ted, region)"
   ]
  },
  {
   "cell_type": "markdown",
   "id": "a81ffd2d-ed4b-498e-b45e-127f7c5fd594",
   "metadata": {},
   "source": [
    "## Pick out the large fires\n",
    "\n",
    "Let's compare the existing object-oriented approach with the new geodataframe approach"
   ]
  },
  {
   "cell_type": "code",
   "execution_count": 8,
   "id": "94fa151c-0c50-45ca-81f3-6a188ce39bea",
   "metadata": {
    "execution": {
     "iopub.execute_input": "2024-02-08T16:14:11.069627Z",
     "iopub.status.busy": "2024-02-08T16:14:11.068525Z",
     "iopub.status.idle": "2024-02-08T16:14:11.109830Z",
     "shell.execute_reply": "2024-02-08T16:14:11.109408Z",
     "shell.execute_reply.started": "2024-02-08T16:14:11.069596Z"
    }
   },
   "outputs": [
    {
     "name": "stdout",
     "output_type": "stream",
     "text": [
      "CPU times: user 37.3 ms, sys: 36 µs, total: 37.4 ms\n",
      "Wall time: 36.4 ms\n"
     ]
    }
   ],
   "source": [
    "%%time\n",
    "import FireGpkg_sfs\n",
    "\n",
    "large_fires_original = FireGpkg_sfs.find_largefires(allfires)"
   ]
  },
  {
   "cell_type": "code",
   "execution_count": 9,
   "id": "130838af-f05c-48fe-b52f-1e8d0a5d6747",
   "metadata": {
    "execution": {
     "iopub.execute_input": "2024-02-08T16:14:12.785429Z",
     "iopub.status.busy": "2024-02-08T16:14:12.785065Z",
     "iopub.status.idle": "2024-02-08T16:14:12.800185Z",
     "shell.execute_reply": "2024-02-08T16:14:12.799431Z",
     "shell.execute_reply.started": "2024-02-08T16:14:12.785399Z"
    }
   },
   "outputs": [
    {
     "name": "stderr",
     "output_type": "stream",
     "text": [
      "2024-02-08 11:14:12,797 - FireLog - INFO - func:find_largefires took: 10.53 ms\n"
     ]
    }
   ],
   "source": [
    "large_fires_new = postprocess.find_largefires(allfires_gdf)"
   ]
  },
  {
   "cell_type": "code",
   "execution_count": 10,
   "id": "693c4ef5-817e-4093-a013-954f3caa20c0",
   "metadata": {
    "execution": {
     "iopub.execute_input": "2024-02-08T16:14:16.877498Z",
     "iopub.status.busy": "2024-02-08T16:14:16.877311Z",
     "iopub.status.idle": "2024-02-08T16:14:16.880469Z",
     "shell.execute_reply": "2024-02-08T16:14:16.879922Z",
     "shell.execute_reply.started": "2024-02-08T16:14:16.877483Z"
    }
   },
   "outputs": [],
   "source": [
    "assert set(large_fires_original) == set(large_fires_new), \"The large fires should match\""
   ]
  },
  {
   "cell_type": "markdown",
   "id": "ea5af427-e791-48de-b94c-8b555970d9d1",
   "metadata": {},
   "source": [
    "## Rehydrate the latest allfires"
   ]
  },
  {
   "cell_type": "markdown",
   "id": "cab20ea3-0592-4796-b604-6e5dcb70c26a",
   "metadata": {},
   "source": [
    "For instance let's rehydrate just the last allfires object. \n",
    "\n",
    "This should be equivalent to the allfires object that we generated at the top of this notebook."
   ]
  },
  {
   "cell_type": "code",
   "execution_count": 11,
   "id": "5755e2d2-19b1-48f5-a3e6-8738c29f0ac8",
   "metadata": {
    "execution": {
     "iopub.execute_input": "2024-02-08T16:14:24.726950Z",
     "iopub.status.busy": "2024-02-08T16:14:24.726443Z",
     "iopub.status.idle": "2024-02-08T16:14:27.174436Z",
     "shell.execute_reply": "2024-02-08T16:14:27.173934Z",
     "shell.execute_reply.started": "2024-02-08T16:14:24.726916Z"
    }
   },
   "outputs": [
    {
     "name": "stderr",
     "output_type": "stream",
     "text": [
      "2024-02-08 11:14:24,835 - FireLog - INFO - func:read_allfires_gdf took: 107.92 ms\n",
      "2024-02-08 11:14:24,879 - FireLog - INFO - func:read_allpixels took: 43.51 ms\n",
      "2024-02-08 11:14:27,170 - FireLog - INFO - func:rehydrate took: 2.44 sec\n"
     ]
    },
    {
     "data": {
      "text/plain": [
       "<Allfires at t=[2023, 9, 6, 'AM'] with n_fires=4342>"
      ]
     },
     "execution_count": 11,
     "metadata": {},
     "output_type": "execute_result"
    }
   ],
   "source": [
    "a = FireObj.Allfires.rehydrate(ted, region)\n",
    "a"
   ]
  }
 ],
 "metadata": {
  "kernelspec": {
   "display_name": "Python 3 (ipykernel)",
   "language": "python",
   "name": "python3"
  },
  "language_info": {
   "codemirror_mode": {
    "name": "ipython",
    "version": 3
   },
   "file_extension": ".py",
   "mimetype": "text/x-python",
   "name": "python",
   "nbconvert_exporter": "python",
   "pygments_lexer": "ipython3",
   "version": "3.11.7"
  }
 },
 "nbformat": 4,
 "nbformat_minor": 5
}
