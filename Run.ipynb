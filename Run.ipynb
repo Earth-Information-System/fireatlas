{
 "cells": [
  {
   "cell_type": "markdown",
   "id": "f14a2dc9-e4ba-46ea-9e35-fca95f4514b0",
   "metadata": {},
   "source": [
    "## Run the fire expansion and merging algorithm\n",
    "\n",
    "`Fire_Forward` is responsible for reading in the preprocessed data created in the `Ingest` notebook"
   ]
  },
  {
   "cell_type": "code",
   "execution_count": 1,
   "id": "2ed6f4c1-f380-4b1d-b478-b3dcd61d705d",
   "metadata": {
    "execution": {
     "iopub.execute_input": "2024-01-31T14:10:36.776915Z",
     "iopub.status.busy": "2024-01-31T14:10:36.776799Z",
     "iopub.status.idle": "2024-01-31T14:10:37.148309Z",
     "shell.execute_reply": "2024-01-31T14:10:37.147835Z",
     "shell.execute_reply.started": "2024-01-31T14:10:36.776903Z"
    },
    "scrolled": true
   },
   "outputs": [],
   "source": [
    "import datetime\n",
    "import pandas as pd\n",
    "import geopandas as gpd\n",
    "\n",
    "import FireMain, FireTime, FireObj, FireConsts, FireVector\n",
    "from utils import timed\n",
    "\n",
    "region = [\"CONUS\",]  # note you don't need the shape in here, just the name\n",
    "tst = [2023, 8, 28, 'AM']\n",
    "ted = [2023, 9, 6, 'AM']"
   ]
  },
  {
   "cell_type": "code",
   "execution_count": 2,
   "id": "7ccd529a-94e5-42b5-a099-e47fe352f1f9",
   "metadata": {
    "execution": {
     "iopub.execute_input": "2024-01-31T14:10:37.148796Z",
     "iopub.status.busy": "2024-01-31T14:10:37.148650Z",
     "iopub.status.idle": "2024-01-31T14:12:13.968717Z",
     "shell.execute_reply": "2024-01-31T14:12:13.968160Z",
     "shell.execute_reply.started": "2024-01-31T14:10:37.148785Z"
    }
   },
   "outputs": [
    {
     "name": "stderr",
     "output_type": "stream",
     "text": [
      "2024-01-31 09:10:37,155 - FireLog - INFO - func:read_preprocessed took: 5.89 ms\n",
      "2024-01-31 09:10:37,163 - FireLog - INFO - func:read_preprocessed took: 6.67 ms\n",
      "2024-01-31 09:10:37,171 - FireLog - INFO - func:read_preprocessed took: 7.75 ms\n",
      "2024-01-31 09:10:37,177 - FireLog - INFO - func:read_preprocessed took: 5.43 ms\n",
      "2024-01-31 09:10:37,182 - FireLog - INFO - func:read_preprocessed took: 4.55 ms\n",
      "2024-01-31 09:10:37,188 - FireLog - INFO - func:read_preprocessed took: 5.35 ms\n",
      "2024-01-31 09:10:37,194 - FireLog - INFO - func:read_preprocessed took: 5.93 ms\n",
      "2024-01-31 09:10:37,199 - FireLog - INFO - func:read_preprocessed took: 3.62 ms\n",
      "2024-01-31 09:10:37,204 - FireLog - INFO - func:read_preprocessed took: 4.31 ms\n",
      "2024-01-31 09:10:37,208 - FireLog - INFO - func:read_preprocessed took: 3.71 ms\n",
      "2024-01-31 09:10:37,214 - FireLog - INFO - func:read_preprocessed took: 5.91 ms\n",
      "2024-01-31 09:10:37,218 - FireLog - INFO - func:read_preprocessed took: 3.54 ms\n",
      "2024-01-31 09:10:37,224 - FireLog - INFO - func:read_preprocessed took: 5.58 ms\n",
      "2024-01-31 09:10:37,227 - FireLog - INFO - func:read_preprocessed took: 2.26 ms\n",
      "2024-01-31 09:10:37,231 - FireLog - INFO - func:read_preprocessed took: 3.10 ms\n",
      "2024-01-31 09:10:37,234 - FireLog - INFO - func:read_preprocessed took: 2.90 ms\n",
      "2024-01-31 09:10:37,238 - FireLog - INFO - func:read_preprocessed took: 3.59 ms\n",
      "2024-01-31 09:10:37,244 - FireLog - INFO - func:read_preprocessed took: 4.83 ms\n",
      "2024-01-31 09:10:37,247 - FireLog - INFO - func:read_preprocessed took: 3.08 ms\n",
      "2024-01-31 09:10:37,254 - FireLog - INFO - --------------------\n",
      "2024-01-31 09:10:37,254 - FireLog - INFO - Fire tracking at [2023, 8, 28, 'AM']\n",
      "2024-01-31 09:10:39,714 - FireLog - INFO - func:Fire_expand_rtree took: 2.46 sec\n",
      "2024-01-31 09:10:41,199 - FireLog - INFO - func:Fire_merge_rtree took: 1.48 sec\n",
      "2024-01-31 09:10:41,322 - FireLog - INFO - func:invalidate_statfires took: 122.76 ms\n",
      "2024-01-31 09:10:41,323 - FireLog - INFO - fids_expand: 0\n",
      "2024-01-31 09:10:41,323 - FireLog - INFO - fids_new: 507\n",
      "2024-01-31 09:10:41,324 - FireLog - INFO - fids_merged: 50\n",
      "2024-01-31 09:10:41,324 - FireLog - INFO - fids_invalid: 107\n",
      "2024-01-31 09:10:41,325 - FireLog - INFO - func:Fire_Forward_one_step took: 4.07 sec\n",
      "2024-01-31 09:10:42,776 - FireLog - INFO - func:Fire_to_gdf_one_step took: 1.45 sec\n",
      "2024-01-31 09:10:42,777 - FireLog - INFO - --------------------\n",
      "2024-01-31 09:10:42,777 - FireLog - INFO - Fire tracking at [2023, 8, 28, 'PM']\n",
      "2024-01-31 09:10:45,165 - FireLog - INFO - func:Fire_expand_rtree took: 2.39 sec\n",
      "2024-01-31 09:10:45,453 - FireLog - INFO - func:Fire_merge_rtree took: 285.97 ms\n",
      "2024-01-31 09:10:45,689 - FireLog - INFO - func:invalidate_statfires took: 235.09 ms\n",
      "2024-01-31 09:10:45,690 - FireLog - INFO - fids_expand: 93\n",
      "2024-01-31 09:10:45,690 - FireLog - INFO - fids_new: 405\n",
      "2024-01-31 09:10:45,690 - FireLog - INFO - fids_merged: 23\n",
      "2024-01-31 09:10:45,691 - FireLog - INFO - fids_invalid: 26\n",
      "2024-01-31 09:10:45,691 - FireLog - INFO - func:Fire_Forward_one_step took: 2.91 sec\n",
      "2024-01-31 09:10:47,546 - FireLog - INFO - func:Fire_to_gdf_one_step took: 1.85 sec\n",
      "2024-01-31 09:10:47,547 - FireLog - INFO - --------------------\n",
      "2024-01-31 09:10:47,547 - FireLog - INFO - Fire tracking at [2023, 8, 29, 'AM']\n",
      "2024-01-31 09:10:50,241 - FireLog - INFO - func:Fire_expand_rtree took: 2.69 sec\n",
      "2024-01-31 09:10:50,652 - FireLog - INFO - func:Fire_merge_rtree took: 408.25 ms\n",
      "2024-01-31 09:10:50,952 - FireLog - INFO - func:invalidate_statfires took: 299.87 ms\n",
      "2024-01-31 09:10:50,953 - FireLog - INFO - fids_expand: 265\n",
      "2024-01-31 09:10:50,953 - FireLog - INFO - fids_new: 225\n",
      "2024-01-31 09:10:50,953 - FireLog - INFO - fids_merged: 19\n",
      "2024-01-31 09:10:50,954 - FireLog - INFO - fids_invalid: 31\n",
      "2024-01-31 09:10:50,954 - FireLog - INFO - func:Fire_Forward_one_step took: 3.41 sec\n",
      "2024-01-31 09:10:52,778 - FireLog - INFO - func:Fire_to_gdf_one_step took: 1.82 sec\n",
      "2024-01-31 09:10:52,778 - FireLog - INFO - --------------------\n",
      "2024-01-31 09:10:52,779 - FireLog - INFO - Fire tracking at [2023, 8, 29, 'PM']\n",
      "2024-01-31 09:10:54,650 - FireLog - INFO - func:Fire_expand_rtree took: 1.87 sec\n",
      "2024-01-31 09:10:55,041 - FireLog - INFO - func:Fire_merge_rtree took: 388.40 ms\n",
      "2024-01-31 09:10:55,421 - FireLog - INFO - func:invalidate_statfires took: 379.42 ms\n",
      "2024-01-31 09:10:55,422 - FireLog - INFO - fids_expand: 95\n",
      "2024-01-31 09:10:55,422 - FireLog - INFO - fids_new: 291\n",
      "2024-01-31 09:10:55,422 - FireLog - INFO - fids_merged: 14\n",
      "2024-01-31 09:10:55,423 - FireLog - INFO - fids_invalid: 25\n",
      "2024-01-31 09:10:55,423 - FireLog - INFO - func:Fire_Forward_one_step took: 2.64 sec\n",
      "2024-01-31 09:10:56,944 - FireLog - INFO - func:Fire_to_gdf_one_step took: 1.52 sec\n",
      "2024-01-31 09:10:56,944 - FireLog - INFO - --------------------\n",
      "2024-01-31 09:10:56,944 - FireLog - INFO - Fire tracking at [2023, 8, 30, 'AM']\n",
      "2024-01-31 09:10:59,479 - FireLog - INFO - func:Fire_expand_rtree took: 2.53 sec\n",
      "2024-01-31 09:10:59,729 - FireLog - INFO - func:Fire_merge_rtree took: 246.21 ms\n",
      "2024-01-31 09:11:00,150 - FireLog - INFO - func:invalidate_statfires took: 421.17 ms\n",
      "2024-01-31 09:11:00,151 - FireLog - INFO - fids_expand: 272\n",
      "2024-01-31 09:11:00,151 - FireLog - INFO - fids_new: 167\n",
      "2024-01-31 09:11:00,151 - FireLog - INFO - fids_merged: 10\n",
      "2024-01-31 09:11:00,152 - FireLog - INFO - fids_invalid: 39\n",
      "2024-01-31 09:11:00,152 - FireLog - INFO - func:Fire_Forward_one_step took: 3.21 sec\n",
      "2024-01-31 09:11:01,808 - FireLog - INFO - func:Fire_to_gdf_one_step took: 1.66 sec\n",
      "2024-01-31 09:11:01,809 - FireLog - INFO - --------------------\n",
      "2024-01-31 09:11:01,809 - FireLog - INFO - Fire tracking at [2023, 8, 30, 'PM']\n",
      "2024-01-31 09:11:04,062 - FireLog - INFO - func:Fire_expand_rtree took: 2.21 sec\n",
      "2024-01-31 09:11:04,515 - FireLog - INFO - func:Fire_merge_rtree took: 450.12 ms\n",
      "2024-01-31 09:11:05,013 - FireLog - INFO - func:invalidate_statfires took: 497.02 ms\n",
      "2024-01-31 09:11:05,014 - FireLog - INFO - fids_expand: 119\n",
      "2024-01-31 09:11:05,014 - FireLog - INFO - fids_new: 276\n",
      "2024-01-31 09:11:05,014 - FireLog - INFO - fids_merged: 13\n",
      "2024-01-31 09:11:05,015 - FireLog - INFO - fids_invalid: 24\n",
      "2024-01-31 09:11:05,015 - FireLog - INFO - func:Fire_Forward_one_step took: 3.21 sec\n",
      "2024-01-31 09:11:06,583 - FireLog - INFO - func:Fire_to_gdf_one_step took: 1.57 sec\n",
      "2024-01-31 09:11:06,583 - FireLog - INFO - --------------------\n",
      "2024-01-31 09:11:06,583 - FireLog - INFO - Fire tracking at [2023, 8, 31, 'AM']\n",
      "2024-01-31 09:11:09,686 - FireLog - INFO - func:Fire_expand_rtree took: 3.10 sec\n",
      "2024-01-31 09:11:10,102 - FireLog - INFO - func:Fire_merge_rtree took: 412.30 ms\n",
      "2024-01-31 09:11:10,630 - FireLog - INFO - func:invalidate_statfires took: 527.17 ms\n",
      "2024-01-31 09:11:10,630 - FireLog - INFO - fids_expand: 323\n",
      "2024-01-31 09:11:10,630 - FireLog - INFO - fids_new: 155\n",
      "2024-01-31 09:11:10,631 - FireLog - INFO - fids_merged: 8\n",
      "2024-01-31 09:11:10,631 - FireLog - INFO - fids_invalid: 57\n",
      "2024-01-31 09:11:10,632 - FireLog - INFO - func:Fire_Forward_one_step took: 4.05 sec\n",
      "2024-01-31 09:11:12,458 - FireLog - INFO - func:Fire_to_gdf_one_step took: 1.83 sec\n",
      "2024-01-31 09:11:12,458 - FireLog - INFO - --------------------\n",
      "2024-01-31 09:11:12,459 - FireLog - INFO - Fire tracking at [2023, 8, 31, 'PM']\n",
      "2024-01-31 09:11:14,602 - FireLog - INFO - func:Fire_expand_rtree took: 2.14 sec\n",
      "2024-01-31 09:11:15,032 - FireLog - INFO - func:Fire_merge_rtree took: 425.33 ms\n",
      "2024-01-31 09:11:15,642 - FireLog - INFO - func:invalidate_statfires took: 609.85 ms\n",
      "2024-01-31 09:11:15,643 - FireLog - INFO - fids_expand: 120\n",
      "2024-01-31 09:11:15,643 - FireLog - INFO - fids_new: 312\n",
      "2024-01-31 09:11:15,643 - FireLog - INFO - fids_merged: 12\n",
      "2024-01-31 09:11:15,644 - FireLog - INFO - fids_invalid: 32\n",
      "2024-01-31 09:11:15,644 - FireLog - INFO - func:Fire_Forward_one_step took: 3.19 sec\n",
      "2024-01-31 09:11:17,391 - FireLog - INFO - func:Fire_to_gdf_one_step took: 1.75 sec\n",
      "2024-01-31 09:11:17,392 - FireLog - INFO - --------------------\n",
      "2024-01-31 09:11:17,393 - FireLog - INFO - Fire tracking at [2023, 9, 1, 'AM']\n",
      "2024-01-31 09:11:19,975 - FireLog - INFO - func:Fire_expand_rtree took: 2.58 sec\n",
      "2024-01-31 09:11:20,190 - FireLog - INFO - func:Fire_merge_rtree took: 210.20 ms\n",
      "2024-01-31 09:11:20,847 - FireLog - INFO - func:invalidate_statfires took: 656.75 ms\n",
      "2024-01-31 09:11:20,848 - FireLog - INFO - fids_expand: 298\n",
      "2024-01-31 09:11:20,848 - FireLog - INFO - fids_new: 170\n",
      "2024-01-31 09:11:20,849 - FireLog - INFO - fids_merged: 3\n",
      "2024-01-31 09:11:20,849 - FireLog - INFO - fids_invalid: 46\n",
      "2024-01-31 09:11:20,849 - FireLog - INFO - func:Fire_Forward_one_step took: 3.46 sec\n",
      "2024-01-31 09:11:22,709 - FireLog - INFO - func:Fire_to_gdf_one_step took: 1.86 sec\n",
      "2024-01-31 09:11:22,710 - FireLog - INFO - --------------------\n",
      "2024-01-31 09:11:22,710 - FireLog - INFO - Fire tracking at [2023, 9, 1, 'PM']\n",
      "2024-01-31 09:11:24,306 - FireLog - INFO - func:Fire_expand_rtree took: 1.59 sec\n",
      "2024-01-31 09:11:24,618 - FireLog - INFO - func:Fire_merge_rtree took: 307.36 ms\n",
      "2024-01-31 09:11:25,338 - FireLog - INFO - func:invalidate_statfires took: 719.55 ms\n",
      "2024-01-31 09:11:25,339 - FireLog - INFO - fids_expand: 98\n",
      "2024-01-31 09:11:25,339 - FireLog - INFO - fids_new: 215\n",
      "2024-01-31 09:11:25,339 - FireLog - INFO - fids_merged: 8\n",
      "2024-01-31 09:11:25,340 - FireLog - INFO - fids_invalid: 16\n",
      "2024-01-31 09:11:25,341 - FireLog - INFO - func:Fire_Forward_one_step took: 2.63 sec\n",
      "2024-01-31 09:11:26,886 - FireLog - INFO - func:Fire_to_gdf_one_step took: 1.54 sec\n",
      "2024-01-31 09:11:26,886 - FireLog - INFO - --------------------\n",
      "2024-01-31 09:11:26,887 - FireLog - INFO - Fire tracking at [2023, 9, 2, 'AM']\n",
      "2024-01-31 09:11:29,784 - FireLog - INFO - func:Fire_expand_rtree took: 2.89 sec\n",
      "2024-01-31 09:11:30,102 - FireLog - INFO - func:Fire_merge_rtree took: 312.31 ms\n",
      "2024-01-31 09:11:30,924 - FireLog - INFO - func:invalidate_statfires took: 821.92 ms\n",
      "2024-01-31 09:11:30,925 - FireLog - INFO - fids_expand: 282\n",
      "2024-01-31 09:11:30,926 - FireLog - INFO - fids_new: 151\n",
      "2024-01-31 09:11:30,926 - FireLog - INFO - fids_merged: 6\n",
      "2024-01-31 09:11:30,926 - FireLog - INFO - fids_invalid: 48\n",
      "2024-01-31 09:11:30,927 - FireLog - INFO - func:Fire_Forward_one_step took: 4.04 sec\n",
      "2024-01-31 09:11:33,102 - FireLog - INFO - func:Fire_to_gdf_one_step took: 2.17 sec\n",
      "2024-01-31 09:11:33,103 - FireLog - INFO - --------------------\n",
      "2024-01-31 09:11:33,103 - FireLog - INFO - Fire tracking at [2023, 9, 2, 'PM']\n",
      "2024-01-31 09:11:34,647 - FireLog - INFO - func:Fire_expand_rtree took: 1.54 sec\n",
      "2024-01-31 09:11:35,025 - FireLog - INFO - func:Fire_merge_rtree took: 372.68 ms\n",
      "2024-01-31 09:11:35,860 - FireLog - INFO - func:invalidate_statfires took: 834.16 ms\n",
      "2024-01-31 09:11:35,861 - FireLog - INFO - fids_expand: 79\n",
      "2024-01-31 09:11:35,861 - FireLog - INFO - fids_new: 202\n",
      "2024-01-31 09:11:35,861 - FireLog - INFO - fids_merged: 9\n",
      "2024-01-31 09:11:35,861 - FireLog - INFO - fids_invalid: 12\n",
      "2024-01-31 09:11:35,862 - FireLog - INFO - func:Fire_Forward_one_step took: 2.76 sec\n",
      "2024-01-31 09:11:37,210 - FireLog - INFO - func:Fire_to_gdf_one_step took: 1.35 sec\n",
      "2024-01-31 09:11:37,211 - FireLog - INFO - --------------------\n",
      "2024-01-31 09:11:37,211 - FireLog - INFO - Fire tracking at [2023, 9, 3, 'AM']\n",
      "2024-01-31 09:11:40,014 - FireLog - INFO - func:Fire_expand_rtree took: 2.80 sec\n",
      "2024-01-31 09:11:40,402 - FireLog - INFO - func:Fire_merge_rtree took: 382.13 ms\n",
      "2024-01-31 09:11:41,169 - FireLog - INFO - func:invalidate_statfires took: 766.40 ms\n",
      "2024-01-31 09:11:41,169 - FireLog - INFO - fids_expand: 286\n",
      "2024-01-31 09:11:41,169 - FireLog - INFO - fids_new: 148\n",
      "2024-01-31 09:11:41,170 - FireLog - INFO - fids_merged: 9\n",
      "2024-01-31 09:11:41,170 - FireLog - INFO - fids_invalid: 50\n",
      "2024-01-31 09:11:41,171 - FireLog - INFO - func:Fire_Forward_one_step took: 3.96 sec\n",
      "2024-01-31 09:11:43,103 - FireLog - INFO - func:Fire_to_gdf_one_step took: 1.93 sec\n",
      "2024-01-31 09:11:43,103 - FireLog - INFO - --------------------\n",
      "2024-01-31 09:11:43,104 - FireLog - INFO - Fire tracking at [2023, 9, 3, 'PM']\n",
      "2024-01-31 09:11:44,670 - FireLog - INFO - func:Fire_expand_rtree took: 1.56 sec\n",
      "2024-01-31 09:11:45,067 - FireLog - INFO - func:Fire_merge_rtree took: 389.70 ms\n",
      "2024-01-31 09:11:46,002 - FireLog - INFO - func:invalidate_statfires took: 934.60 ms\n",
      "2024-01-31 09:11:46,003 - FireLog - INFO - fids_expand: 83\n",
      "2024-01-31 09:11:46,003 - FireLog - INFO - fids_new: 192\n",
      "2024-01-31 09:11:46,003 - FireLog - INFO - fids_merged: 7\n",
      "2024-01-31 09:11:46,004 - FireLog - INFO - fids_invalid: 13\n",
      "2024-01-31 09:11:46,004 - FireLog - INFO - func:Fire_Forward_one_step took: 2.90 sec\n",
      "2024-01-31 09:11:47,342 - FireLog - INFO - func:Fire_to_gdf_one_step took: 1.34 sec\n",
      "2024-01-31 09:11:47,343 - FireLog - INFO - --------------------\n",
      "2024-01-31 09:11:47,343 - FireLog - INFO - Fire tracking at [2023, 9, 4, 'AM']\n",
      "2024-01-31 09:11:49,677 - FireLog - INFO - func:Fire_expand_rtree took: 2.33 sec\n",
      "2024-01-31 09:11:49,986 - FireLog - INFO - func:Fire_merge_rtree took: 303.04 ms\n",
      "2024-01-31 09:11:50,728 - FireLog - INFO - func:invalidate_statfires took: 740.91 ms\n",
      "2024-01-31 09:11:50,729 - FireLog - INFO - fids_expand: 256\n",
      "2024-01-31 09:11:50,729 - FireLog - INFO - fids_new: 103\n",
      "2024-01-31 09:11:50,729 - FireLog - INFO - fids_merged: 5\n",
      "2024-01-31 09:11:50,730 - FireLog - INFO - fids_invalid: 47\n",
      "2024-01-31 09:11:50,730 - FireLog - INFO - func:Fire_Forward_one_step took: 3.39 sec\n",
      "2024-01-31 09:11:52,512 - FireLog - INFO - func:Fire_to_gdf_one_step took: 1.78 sec\n",
      "2024-01-31 09:11:52,512 - FireLog - INFO - --------------------\n",
      "2024-01-31 09:11:52,513 - FireLog - INFO - Fire tracking at [2023, 9, 4, 'PM']\n",
      "2024-01-31 09:11:54,407 - FireLog - INFO - func:Fire_expand_rtree took: 1.89 sec\n",
      "2024-01-31 09:11:54,884 - FireLog - INFO - func:Fire_merge_rtree took: 469.60 ms\n",
      "2024-01-31 09:11:55,693 - FireLog - INFO - func:invalidate_statfires took: 807.58 ms\n",
      "2024-01-31 09:11:55,693 - FireLog - INFO - fids_expand: 90\n",
      "2024-01-31 09:11:55,694 - FireLog - INFO - fids_new: 275\n",
      "2024-01-31 09:11:55,694 - FireLog - INFO - fids_merged: 19\n",
      "2024-01-31 09:11:55,695 - FireLog - INFO - fids_invalid: 22\n",
      "2024-01-31 09:11:55,696 - FireLog - INFO - func:Fire_Forward_one_step took: 3.18 sec\n",
      "2024-01-31 09:11:57,450 - FireLog - INFO - func:Fire_to_gdf_one_step took: 1.75 sec\n",
      "2024-01-31 09:11:57,450 - FireLog - INFO - --------------------\n",
      "2024-01-31 09:11:57,451 - FireLog - INFO - Fire tracking at [2023, 9, 5, 'AM']\n",
      "2024-01-31 09:11:59,817 - FireLog - INFO - func:Fire_expand_rtree took: 2.36 sec\n",
      "2024-01-31 09:12:00,221 - FireLog - INFO - func:Fire_merge_rtree took: 397.88 ms\n",
      "2024-01-31 09:12:00,947 - FireLog - INFO - func:invalidate_statfires took: 725.29 ms\n",
      "2024-01-31 09:12:00,948 - FireLog - INFO - fids_expand: 260\n",
      "2024-01-31 09:12:00,948 - FireLog - INFO - fids_new: 126\n",
      "2024-01-31 09:12:00,949 - FireLog - INFO - fids_merged: 12\n",
      "2024-01-31 09:12:00,949 - FireLog - INFO - fids_invalid: 76\n",
      "2024-01-31 09:12:00,951 - FireLog - INFO - func:Fire_Forward_one_step took: 3.50 sec\n",
      "2024-01-31 09:12:02,822 - FireLog - INFO - func:Fire_to_gdf_one_step took: 1.87 sec\n",
      "2024-01-31 09:12:02,823 - FireLog - INFO - --------------------\n",
      "2024-01-31 09:12:02,823 - FireLog - INFO - Fire tracking at [2023, 9, 5, 'PM']\n",
      "2024-01-31 09:12:04,998 - FireLog - INFO - func:Fire_expand_rtree took: 2.17 sec\n",
      "2024-01-31 09:12:05,433 - FireLog - INFO - func:Fire_merge_rtree took: 427.17 ms\n",
      "2024-01-31 09:12:06,273 - FireLog - INFO - func:invalidate_statfires took: 839.27 ms\n",
      "2024-01-31 09:12:06,274 - FireLog - INFO - fids_expand: 119\n",
      "2024-01-31 09:12:06,274 - FireLog - INFO - fids_new: 293\n",
      "2024-01-31 09:12:06,274 - FireLog - INFO - fids_merged: 16\n",
      "2024-01-31 09:12:06,274 - FireLog - INFO - fids_invalid: 26\n",
      "2024-01-31 09:12:06,275 - FireLog - INFO - func:Fire_Forward_one_step took: 3.45 sec\n",
      "2024-01-31 09:12:08,445 - FireLog - INFO - func:Fire_to_gdf_one_step took: 2.17 sec\n",
      "2024-01-31 09:12:08,445 - FireLog - INFO - --------------------\n",
      "2024-01-31 09:12:08,445 - FireLog - INFO - Fire tracking at [2023, 9, 6, 'AM']\n",
      "2024-01-31 09:12:10,808 - FireLog - INFO - func:Fire_expand_rtree took: 2.35 sec\n",
      "2024-01-31 09:12:11,365 - FireLog - INFO - func:Fire_merge_rtree took: 547.86 ms\n",
      "2024-01-31 09:12:12,160 - FireLog - INFO - func:invalidate_statfires took: 794.50 ms\n",
      "2024-01-31 09:12:12,161 - FireLog - INFO - fids_expand: 268\n",
      "2024-01-31 09:12:12,162 - FireLog - INFO - fids_new: 129\n",
      "2024-01-31 09:12:12,162 - FireLog - INFO - fids_merged: 22\n",
      "2024-01-31 09:12:12,162 - FireLog - INFO - fids_invalid: 77\n",
      "2024-01-31 09:12:12,163 - FireLog - INFO - func:Fire_Forward_one_step took: 3.72 sec\n",
      "2024-01-31 09:12:13,965 - FireLog - INFO - func:Fire_to_gdf_one_step took: 1.80 sec\n",
      "2024-01-31 09:12:13,966 - FireLog - INFO - func:Fire_Forward took: 1.61 min\n"
     ]
    }
   ],
   "source": [
    "allfires, allpixels, gdf = FireMain.Fire_Forward(tst=tst, ted=ted, restart=False, region=region)"
   ]
  },
  {
   "cell_type": "markdown",
   "id": "f88b111a-a729-45a6-95b2-65a2db573574",
   "metadata": {},
   "source": [
    "## Serialize to disk\n",
    "\n",
    "- allpixels -> one file for each t (one row for each pixel).\n",
    "- allfires -> one geoparquet file to hold all information about each fire at each time (one row for each burning fire at each t). This file can be used to rehydrate the allfires object and pick back up running the algorithm, or it can be used to write all the snapshot and largefire timeseries files."
   ]
  },
  {
   "cell_type": "code",
   "execution_count": 3,
   "id": "228d5db2-cfa1-4ba2-9521-d23c6d2e08e3",
   "metadata": {
    "execution": {
     "iopub.execute_input": "2024-01-31T14:12:23.304423Z",
     "iopub.status.busy": "2024-01-31T14:12:23.304127Z",
     "iopub.status.idle": "2024-01-31T14:12:23.450478Z",
     "shell.execute_reply": "2024-01-31T14:12:23.450036Z",
     "shell.execute_reply.started": "2024-01-31T14:12:23.304402Z"
    }
   },
   "outputs": [
    {
     "name": "stdout",
     "output_type": "stream",
     "text": [
      "CPU times: user 129 ms, sys: 4.02 ms, total: 133 ms\n",
      "Wall time: 143 ms\n"
     ]
    }
   ],
   "source": [
    "%%time\n",
    "for t in FireTime.t_generator(tst, ted):\n",
    "    pixels = allpixels[allpixels[\"t\"] == FireTime.t2dt(t)]\n",
    "    filepath = f\"out/{region[0]}/{t[0]}{t[1]:02}{t[2]:02}_{t[3]}.txt\"\n",
    "    pixels.to_csv(filepath)"
   ]
  },
  {
   "cell_type": "code",
   "execution_count": 4,
   "id": "48b4f931-7f4c-47e0-aaa7-d79dac3972cc",
   "metadata": {
    "execution": {
     "iopub.execute_input": "2024-01-31T14:12:29.501920Z",
     "iopub.status.busy": "2024-01-31T14:12:29.501454Z",
     "iopub.status.idle": "2024-01-31T14:12:29.638366Z",
     "shell.execute_reply": "2024-01-31T14:12:29.637911Z",
     "shell.execute_reply.started": "2024-01-31T14:12:29.501877Z"
    }
   },
   "outputs": [
    {
     "name": "stdout",
     "output_type": "stream",
     "text": [
      "CPU times: user 113 ms, sys: 20 ms, total: 133 ms\n",
      "Wall time: 131 ms\n"
     ]
    }
   ],
   "source": [
    "%%time\n",
    "t = ted\n",
    "gdf.to_parquet(f\"out/{region[0]}/allfires_{t[0]}{t[1]:02}{t[2]:02}_{t[3]}.parq\")"
   ]
  },
  {
   "cell_type": "markdown",
   "id": "fd6f2be6-286a-4868-adbe-a90aa5dfb4fd",
   "metadata": {},
   "source": [
    "## Read from disk"
   ]
  },
  {
   "cell_type": "code",
   "execution_count": 5,
   "id": "bb9d9818-89b0-4534-875d-8f5295eba2a0",
   "metadata": {
    "execution": {
     "iopub.execute_input": "2024-01-31T14:12:39.957335Z",
     "iopub.status.busy": "2024-01-31T14:12:39.956959Z",
     "iopub.status.idle": "2024-01-31T14:12:40.040060Z",
     "shell.execute_reply": "2024-01-31T14:12:40.039457Z",
     "shell.execute_reply.started": "2024-01-31T14:12:39.957303Z"
    }
   },
   "outputs": [
    {
     "name": "stdout",
     "output_type": "stream",
     "text": [
      "CPU times: user 72.4 ms, sys: 7.92 ms, total: 80.4 ms\n",
      "Wall time: 78.4 ms\n"
     ]
    }
   ],
   "source": [
    "%%time\n",
    "allpixels = pd.concat([\n",
    "    pd.read_csv(f\"out/{region[0]}/{t[0]}{t[1]:02}{t[2]:02}_{t[3]}.txt\", index_col=\"uuid\", parse_dates=[\"t\"])\n",
    "    for t in FireTime.t_generator(tst, ted)\n",
    "])"
   ]
  },
  {
   "cell_type": "code",
   "execution_count": 6,
   "id": "713e07d4-3f8f-4ff3-a67b-88883a39b6c4",
   "metadata": {
    "execution": {
     "iopub.execute_input": "2024-01-31T14:12:42.117392Z",
     "iopub.status.busy": "2024-01-31T14:12:42.117182Z",
     "iopub.status.idle": "2024-01-31T14:12:42.261298Z",
     "shell.execute_reply": "2024-01-31T14:12:42.260830Z",
     "shell.execute_reply.started": "2024-01-31T14:12:42.117379Z"
    }
   },
   "outputs": [
    {
     "name": "stdout",
     "output_type": "stream",
     "text": [
      "CPU times: user 102 ms, sys: 43.8 ms, total: 146 ms\n",
      "Wall time: 140 ms\n"
     ]
    }
   ],
   "source": [
    "%%time\n",
    "gdf = gpd.read_parquet(f\"out/{region[0]}/allfires_{t[0]}{t[1]:02}{t[2]:02}_{t[3]}.parq\")"
   ]
  },
  {
   "cell_type": "markdown",
   "id": "ea5af427-e791-48de-b94c-8b555970d9d1",
   "metadata": {},
   "source": [
    "## Rehydrate the latest allfires"
   ]
  },
  {
   "cell_type": "code",
   "execution_count": 7,
   "id": "3ad32d44-96ee-4cfb-9443-cbdcdb4d96db",
   "metadata": {
    "execution": {
     "iopub.execute_input": "2024-01-31T14:12:43.507768Z",
     "iopub.status.busy": "2024-01-31T14:12:43.507406Z",
     "iopub.status.idle": "2024-01-31T14:12:43.517493Z",
     "shell.execute_reply": "2024-01-31T14:12:43.516533Z",
     "shell.execute_reply.started": "2024-01-31T14:12:43.507736Z"
    }
   },
   "outputs": [],
   "source": [
    "@timed\n",
    "def rehydrate_allfires(t, allpixels, gdf, notdead=True):\n",
    "    dt = FireTime.t2dt(t)\n",
    "    dt_dead = dt - datetime.timedelta(days=FireConsts.limoffdays)\n",
    "    \n",
    "    gdf_ = gdf[(gdf.t_st <= dt) & (gdf.t_ed >= dt_dead)]\n",
    "    a = FireObj.Allfires(t)\n",
    "    for fid, gdf_fid in gdf_.groupby(level=0):\n",
    "        f = FireObj.Fire(fid, t, allpixels)\n",
    "        dt_st = gdf_fid.t_st.min()\n",
    "        dt_ed = gdf_fid.t_ed.max()\n",
    "        \n",
    "        f.t_st = FireTime.dt2t(dt_st)\n",
    "        f.t_ed = FireTime.dt2t(dt_ed)\n",
    "        \n",
    "        gdf_fid_t = gdf_fid.loc[(fid, dt_ed)]\n",
    "        for k, v in gdf_fid_t.items():\n",
    "            if k in [\"hull\", \"ftype\", \"fline\"]:\n",
    "                setattr(f, k, v)\n",
    "        if f.isignition:\n",
    "            a.fids_new.append(fid)\n",
    "        else:\n",
    "            a.fids_expanded.append(fid)\n",
    "        a.fires[fid] = f\n",
    "    return a"
   ]
  },
  {
   "cell_type": "markdown",
   "id": "cab20ea3-0592-4796-b604-6e5dcb70c26a",
   "metadata": {},
   "source": [
    "For instance let's rehydrate just the last allfires object. \n",
    "\n",
    "This should be equivalent to the allfires object that we generated at the top of this notebook."
   ]
  },
  {
   "cell_type": "code",
   "execution_count": 8,
   "id": "5755e2d2-19b1-48f5-a3e6-8738c29f0ac8",
   "metadata": {
    "execution": {
     "iopub.execute_input": "2024-01-31T14:12:46.832795Z",
     "iopub.status.busy": "2024-01-31T14:12:46.832418Z",
     "iopub.status.idle": "2024-01-31T14:12:48.608582Z",
     "shell.execute_reply": "2024-01-31T14:12:48.608166Z",
     "shell.execute_reply.started": "2024-01-31T14:12:46.832760Z"
    }
   },
   "outputs": [
    {
     "name": "stderr",
     "output_type": "stream",
     "text": [
      "2024-01-31 09:12:48,604 - FireLog - INFO - func:rehydrate_allfires took: 1.77 sec\n"
     ]
    },
    {
     "data": {
      "text/plain": [
       "<Allfires at t=[2023, 9, 6, 'AM'] with n_fires=4030>"
      ]
     },
     "execution_count": 8,
     "metadata": {},
     "output_type": "execute_result"
    }
   ],
   "source": [
    "a = rehydrate_allfires(ted, allpixels, gdf)\n",
    "a"
   ]
  },
  {
   "cell_type": "markdown",
   "id": "3156f464-8ada-4803-9cd7-2c089a3ee20f",
   "metadata": {},
   "source": [
    "What does it look like to rehydrate the object for all timesteps? \n",
    "\n",
    "Note that it takes longer if you have more data. But it should max out at some point as long as `notdead=True`"
   ]
  },
  {
   "cell_type": "code",
   "execution_count": 9,
   "id": "407d9366-85e8-4b1f-9e33-beb1e605c241",
   "metadata": {
    "execution": {
     "iopub.execute_input": "2024-01-31T14:12:51.397468Z",
     "iopub.status.busy": "2024-01-31T14:12:51.397069Z",
     "iopub.status.idle": "2024-01-31T14:13:12.396312Z",
     "shell.execute_reply": "2024-01-31T14:13:12.395751Z",
     "shell.execute_reply.started": "2024-01-31T14:12:51.397435Z"
    }
   },
   "outputs": [
    {
     "name": "stderr",
     "output_type": "stream",
     "text": [
      "2024-01-31 09:12:51,583 - FireLog - INFO - func:rehydrate_allfires took: 184.15 ms\n",
      "2024-01-31 09:12:51,927 - FireLog - INFO - func:rehydrate_allfires took: 342.98 ms\n",
      "2024-01-31 09:12:52,421 - FireLog - INFO - func:rehydrate_allfires took: 493.79 ms\n",
      "2024-01-31 09:12:53,004 - FireLog - INFO - func:rehydrate_allfires took: 582.32 ms\n",
      "2024-01-31 09:12:53,661 - FireLog - INFO - func:rehydrate_allfires took: 655.69 ms\n",
      "2024-01-31 09:12:54,438 - FireLog - INFO - func:rehydrate_allfires took: 776.19 ms\n",
      "2024-01-31 09:12:55,279 - FireLog - INFO - func:rehydrate_allfires took: 840.69 ms\n",
      "2024-01-31 09:12:56,288 - FireLog - INFO - func:rehydrate_allfires took: 1.01 sec\n",
      "2024-01-31 09:12:57,338 - FireLog - INFO - func:rehydrate_allfires took: 1.05 sec\n",
      "2024-01-31 09:12:58,476 - FireLog - INFO - func:rehydrate_allfires took: 1.14 sec\n",
      "2024-01-31 09:12:59,727 - FireLog - INFO - func:rehydrate_allfires took: 1.25 sec\n",
      "2024-01-31 09:13:01,028 - FireLog - INFO - func:rehydrate_allfires took: 1.30 sec\n",
      "2024-01-31 09:13:02,434 - FireLog - INFO - func:rehydrate_allfires took: 1.41 sec\n",
      "2024-01-31 09:13:03,875 - FireLog - INFO - func:rehydrate_allfires took: 1.44 sec\n",
      "2024-01-31 09:13:05,377 - FireLog - INFO - func:rehydrate_allfires took: 1.50 sec\n",
      "2024-01-31 09:13:07,036 - FireLog - INFO - func:rehydrate_allfires took: 1.66 sec\n",
      "2024-01-31 09:13:08,711 - FireLog - INFO - func:rehydrate_allfires took: 1.67 sec\n",
      "2024-01-31 09:13:10,539 - FireLog - INFO - func:rehydrate_allfires took: 1.83 sec\n",
      "2024-01-31 09:13:12,393 - FireLog - INFO - func:rehydrate_allfires took: 1.85 sec\n"
     ]
    },
    {
     "name": "stdout",
     "output_type": "stream",
     "text": [
      "CPU times: user 21 s, sys: 28.3 ms, total: 21 s\n",
      "Wall time: 21 s\n"
     ]
    }
   ],
   "source": [
    "%%time\n",
    "for t in FireTime.t_generator(tst, ted):\n",
    "    a = rehydrate_allfires(t, allpixels, gdf)"
   ]
  },
  {
   "cell_type": "markdown",
   "id": "6846513f-ff56-49b1-807f-501bb822e284",
   "metadata": {},
   "source": [
    "## TO DO:\n",
    "\n",
    "- [ ] figure out if the merge behavior is correct\n",
    "- [ ] what to do with invalid fires?\n",
    "- [ ] do we really need allpixels when rehydrating?\n",
    "- [ ] should the allfires object hold on to the gdf and update it itself?\n",
    "- [ ] do the snapshot files have rows merged based on the fid?\n",
    "- [ ] figure out how to write the desired output files solely from the allfires geodataframe and the allpixels dataframe. I think it's important not to reinstantiate the objects for this."
   ]
  },
  {
   "cell_type": "code",
   "execution_count": null,
   "id": "7c26d3ae-0484-469d-9c5d-a5d9e677f805",
   "metadata": {},
   "outputs": [],
   "source": []
  }
 ],
 "metadata": {
  "kernelspec": {
   "display_name": "Python 3 (ipykernel)",
   "language": "python",
   "name": "python3"
  },
  "language_info": {
   "codemirror_mode": {
    "name": "ipython",
    "version": 3
   },
   "file_extension": ".py",
   "mimetype": "text/x-python",
   "name": "python",
   "nbconvert_exporter": "python",
   "pygments_lexer": "ipython3",
   "version": "3.11.7"
  }
 },
 "nbformat": 4,
 "nbformat_minor": 5
}
