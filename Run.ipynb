{
 "cells": [
  {
   "cell_type": "markdown",
   "id": "f14a2dc9-e4ba-46ea-9e35-fca95f4514b0",
   "metadata": {},
   "source": [
    "## Run the fire expansion and merging algorithm\n",
    "\n",
    "`Fire_Forward` is responsible for reading in the preprocessed data created in the `Ingest` notebook"
   ]
  },
  {
   "cell_type": "code",
   "execution_count": 1,
   "id": "2ed6f4c1-f380-4b1d-b478-b3dcd61d705d",
   "metadata": {
    "execution": {
     "iopub.execute_input": "2024-02-12T19:39:15.866884Z",
     "iopub.status.busy": "2024-02-12T19:39:15.866480Z",
     "iopub.status.idle": "2024-02-12T19:39:16.279540Z",
     "shell.execute_reply": "2024-02-12T19:39:16.278829Z",
     "shell.execute_reply.started": "2024-02-12T19:39:15.866847Z"
    },
    "scrolled": true
   },
   "outputs": [],
   "source": [
    "import datetime\n",
    "import pandas as pd\n",
    "import geopandas as gpd\n",
    "\n",
    "import FireMain, FireTime, FireObj, FireConsts, postprocess\n",
    "from utils import timed\n",
    "\n",
    "region = [\"CONUS\",]  # note you don't need the shape in here, just the name\n",
    "tst = [2023, 8, 28, 'AM']\n",
    "ted = [2023, 9, 6, 'AM']"
   ]
  },
  {
   "cell_type": "code",
   "execution_count": 2,
   "id": "7ccd529a-94e5-42b5-a099-e47fe352f1f9",
   "metadata": {
    "execution": {
     "iopub.execute_input": "2024-02-12T19:39:16.280696Z",
     "iopub.status.busy": "2024-02-12T19:39:16.280442Z",
     "iopub.status.idle": "2024-02-12T19:40:56.902935Z",
     "shell.execute_reply": "2024-02-12T19:40:56.902038Z",
     "shell.execute_reply.started": "2024-02-12T19:39:16.280678Z"
    }
   },
   "outputs": [
    {
     "name": "stderr",
     "output_type": "stream",
     "text": [
      "2024-02-12 14:39:16,358 - FireLog - INFO - func:read_preprocessed took: 4.63 ms\n",
      "2024-02-12 14:39:16,366 - FireLog - INFO - func:read_preprocessed took: 4.82 ms\n",
      "2024-02-12 14:39:16,371 - FireLog - INFO - func:read_preprocessed took: 4.10 ms\n",
      "2024-02-12 14:39:16,375 - FireLog - INFO - func:read_preprocessed took: 2.76 ms\n",
      "2024-02-12 14:39:16,380 - FireLog - INFO - func:read_preprocessed took: 3.76 ms\n",
      "2024-02-12 14:39:16,386 - FireLog - INFO - func:read_preprocessed took: 4.36 ms\n",
      "2024-02-12 14:39:16,392 - FireLog - INFO - func:read_preprocessed took: 4.95 ms\n",
      "2024-02-12 14:39:16,396 - FireLog - INFO - func:read_preprocessed took: 2.63 ms\n",
      "2024-02-12 14:39:16,400 - FireLog - INFO - func:read_preprocessed took: 2.66 ms\n",
      "2024-02-12 14:39:16,403 - FireLog - INFO - func:read_preprocessed took: 1.43 ms\n",
      "2024-02-12 14:39:16,406 - FireLog - INFO - func:read_preprocessed took: 2.74 ms\n",
      "2024-02-12 14:39:16,409 - FireLog - INFO - func:read_preprocessed took: 1.27 ms\n",
      "2024-02-12 14:39:16,412 - FireLog - INFO - func:read_preprocessed took: 2.57 ms\n",
      "2024-02-12 14:39:16,415 - FireLog - INFO - func:read_preprocessed took: 1.56 ms\n",
      "2024-02-12 14:39:16,420 - FireLog - INFO - func:read_preprocessed took: 2.80 ms\n",
      "2024-02-12 14:39:16,423 - FireLog - INFO - func:read_preprocessed took: 2.43 ms\n",
      "2024-02-12 14:39:16,427 - FireLog - INFO - func:read_preprocessed took: 2.51 ms\n",
      "2024-02-12 14:39:16,430 - FireLog - INFO - func:read_preprocessed took: 2.18 ms\n",
      "2024-02-12 14:39:16,434 - FireLog - INFO - func:read_preprocessed took: 2.42 ms\n",
      "2024-02-12 14:39:16,438 - FireLog - INFO - --------------------\n",
      "2024-02-12 14:39:16,439 - FireLog - INFO - Fire tracking at [2023, 8, 28, 'AM']\n",
      "2024-02-12 14:39:18,607 - FireLog - INFO - func:Fire_expand_rtree took: 2.17 sec\n",
      "2024-02-12 14:39:20,057 - FireLog - INFO - func:Fire_merge_rtree took: 1.45 sec\n",
      "2024-02-12 14:39:20,180 - FireLog - INFO - func:invalidate_statfires took: 122.63 ms\n",
      "2024-02-12 14:39:20,181 - FireLog - INFO - fids_expand: 0\n",
      "2024-02-12 14:39:20,181 - FireLog - INFO - fids_new: 507\n",
      "2024-02-12 14:39:20,182 - FireLog - INFO - fids_merged: 50\n",
      "2024-02-12 14:39:20,182 - FireLog - INFO - fids_invalid: 107\n",
      "2024-02-12 14:39:22,148 - FireLog - INFO - func:update_gdf took: 1.97 sec\n",
      "2024-02-12 14:39:22,149 - FireLog - INFO - func:Fire_Forward_one_step took: 5.71 sec\n",
      "2024-02-12 14:39:22,149 - FireLog - INFO - --------------------\n",
      "2024-02-12 14:39:22,150 - FireLog - INFO - Fire tracking at [2023, 8, 28, 'PM']\n",
      "2024-02-12 14:39:24,414 - FireLog - INFO - func:Fire_expand_rtree took: 2.26 sec\n",
      "2024-02-12 14:39:24,711 - FireLog - INFO - func:Fire_merge_rtree took: 294.94 ms\n",
      "2024-02-12 14:39:24,948 - FireLog - INFO - func:invalidate_statfires took: 235.76 ms\n",
      "2024-02-12 14:39:24,948 - FireLog - INFO - fids_expand: 93\n",
      "2024-02-12 14:39:24,949 - FireLog - INFO - fids_new: 405\n",
      "2024-02-12 14:39:24,949 - FireLog - INFO - fids_merged: 23\n",
      "2024-02-12 14:39:24,950 - FireLog - INFO - fids_invalid: 26\n",
      "2024-02-12 14:39:27,017 - FireLog - INFO - func:update_gdf took: 2.07 sec\n",
      "2024-02-12 14:39:27,017 - FireLog - INFO - func:Fire_Forward_one_step took: 4.87 sec\n",
      "2024-02-12 14:39:27,017 - FireLog - INFO - --------------------\n",
      "2024-02-12 14:39:27,017 - FireLog - INFO - Fire tracking at [2023, 8, 29, 'AM']\n",
      "2024-02-12 14:39:29,767 - FireLog - INFO - func:Fire_expand_rtree took: 2.75 sec\n",
      "2024-02-12 14:39:30,167 - FireLog - INFO - func:Fire_merge_rtree took: 397.43 ms\n",
      "2024-02-12 14:39:30,464 - FireLog - INFO - func:invalidate_statfires took: 296.88 ms\n",
      "2024-02-12 14:39:30,465 - FireLog - INFO - fids_expand: 265\n",
      "2024-02-12 14:39:30,465 - FireLog - INFO - fids_new: 225\n",
      "2024-02-12 14:39:30,466 - FireLog - INFO - fids_merged: 19\n",
      "2024-02-12 14:39:30,466 - FireLog - INFO - fids_invalid: 31\n",
      "2024-02-12 14:39:32,505 - FireLog - INFO - func:update_gdf took: 2.04 sec\n",
      "2024-02-12 14:39:32,506 - FireLog - INFO - func:Fire_Forward_one_step took: 5.49 sec\n",
      "2024-02-12 14:39:32,507 - FireLog - INFO - --------------------\n",
      "2024-02-12 14:39:32,508 - FireLog - INFO - Fire tracking at [2023, 8, 29, 'PM']\n",
      "2024-02-12 14:39:34,331 - FireLog - INFO - func:Fire_expand_rtree took: 1.82 sec\n",
      "2024-02-12 14:39:34,727 - FireLog - INFO - func:Fire_merge_rtree took: 392.79 ms\n",
      "2024-02-12 14:39:35,114 - FireLog - INFO - func:invalidate_statfires took: 386.44 ms\n",
      "2024-02-12 14:39:35,115 - FireLog - INFO - fids_expand: 95\n",
      "2024-02-12 14:39:35,115 - FireLog - INFO - fids_new: 291\n",
      "2024-02-12 14:39:35,116 - FireLog - INFO - fids_merged: 14\n",
      "2024-02-12 14:39:35,116 - FireLog - INFO - fids_invalid: 25\n",
      "2024-02-12 14:39:36,803 - FireLog - INFO - func:update_gdf took: 1.69 sec\n",
      "2024-02-12 14:39:36,803 - FireLog - INFO - func:Fire_Forward_one_step took: 4.30 sec\n",
      "2024-02-12 14:39:36,804 - FireLog - INFO - --------------------\n",
      "2024-02-12 14:39:36,805 - FireLog - INFO - Fire tracking at [2023, 8, 30, 'AM']\n",
      "2024-02-12 14:39:39,409 - FireLog - INFO - func:Fire_expand_rtree took: 2.60 sec\n",
      "2024-02-12 14:39:39,695 - FireLog - INFO - func:Fire_merge_rtree took: 282.83 ms\n",
      "2024-02-12 14:39:40,115 - FireLog - INFO - func:invalidate_statfires took: 418.90 ms\n",
      "2024-02-12 14:39:40,116 - FireLog - INFO - fids_expand: 272\n",
      "2024-02-12 14:39:40,116 - FireLog - INFO - fids_new: 167\n",
      "2024-02-12 14:39:40,117 - FireLog - INFO - fids_merged: 10\n",
      "2024-02-12 14:39:40,117 - FireLog - INFO - fids_invalid: 39\n",
      "2024-02-12 14:39:42,031 - FireLog - INFO - func:update_gdf took: 1.91 sec\n",
      "2024-02-12 14:39:42,032 - FireLog - INFO - func:Fire_Forward_one_step took: 5.23 sec\n",
      "2024-02-12 14:39:42,032 - FireLog - INFO - --------------------\n",
      "2024-02-12 14:39:42,032 - FireLog - INFO - Fire tracking at [2023, 8, 30, 'PM']\n",
      "2024-02-12 14:39:44,160 - FireLog - INFO - func:Fire_expand_rtree took: 2.12 sec\n",
      "2024-02-12 14:39:44,610 - FireLog - INFO - func:Fire_merge_rtree took: 446.12 ms\n",
      "2024-02-12 14:39:45,108 - FireLog - INFO - func:invalidate_statfires took: 497.56 ms\n",
      "2024-02-12 14:39:45,109 - FireLog - INFO - fids_expand: 119\n",
      "2024-02-12 14:39:45,109 - FireLog - INFO - fids_new: 276\n",
      "2024-02-12 14:39:45,110 - FireLog - INFO - fids_merged: 13\n",
      "2024-02-12 14:39:45,110 - FireLog - INFO - fids_invalid: 24\n",
      "2024-02-12 14:39:46,881 - FireLog - INFO - func:update_gdf took: 1.77 sec\n",
      "2024-02-12 14:39:46,881 - FireLog - INFO - func:Fire_Forward_one_step took: 4.85 sec\n",
      "2024-02-12 14:39:46,882 - FireLog - INFO - --------------------\n",
      "2024-02-12 14:39:46,882 - FireLog - INFO - Fire tracking at [2023, 8, 31, 'AM']\n",
      "2024-02-12 14:39:49,980 - FireLog - INFO - func:Fire_expand_rtree took: 3.09 sec\n",
      "2024-02-12 14:39:50,407 - FireLog - INFO - func:Fire_merge_rtree took: 423.49 ms\n",
      "2024-02-12 14:39:50,948 - FireLog - INFO - func:invalidate_statfires took: 540.05 ms\n",
      "2024-02-12 14:39:50,948 - FireLog - INFO - fids_expand: 323\n",
      "2024-02-12 14:39:50,948 - FireLog - INFO - fids_new: 155\n",
      "2024-02-12 14:39:50,949 - FireLog - INFO - fids_merged: 8\n",
      "2024-02-12 14:39:50,949 - FireLog - INFO - fids_invalid: 57\n",
      "2024-02-12 14:39:53,111 - FireLog - INFO - func:update_gdf took: 2.16 sec\n",
      "2024-02-12 14:39:53,111 - FireLog - INFO - func:Fire_Forward_one_step took: 6.23 sec\n",
      "2024-02-12 14:39:53,111 - FireLog - INFO - --------------------\n",
      "2024-02-12 14:39:53,112 - FireLog - INFO - Fire tracking at [2023, 8, 31, 'PM']\n",
      "2024-02-12 14:39:55,061 - FireLog - INFO - func:Fire_expand_rtree took: 1.94 sec\n",
      "2024-02-12 14:39:55,488 - FireLog - INFO - func:Fire_merge_rtree took: 423.22 ms\n",
      "2024-02-12 14:39:56,101 - FireLog - INFO - func:invalidate_statfires took: 612.25 ms\n",
      "2024-02-12 14:39:56,101 - FireLog - INFO - fids_expand: 120\n",
      "2024-02-12 14:39:56,101 - FireLog - INFO - fids_new: 312\n",
      "2024-02-12 14:39:56,102 - FireLog - INFO - fids_merged: 12\n",
      "2024-02-12 14:39:56,102 - FireLog - INFO - fids_invalid: 32\n",
      "2024-02-12 14:39:58,085 - FireLog - INFO - func:update_gdf took: 1.98 sec\n",
      "2024-02-12 14:39:58,085 - FireLog - INFO - func:Fire_Forward_one_step took: 4.97 sec\n",
      "2024-02-12 14:39:58,085 - FireLog - INFO - --------------------\n",
      "2024-02-12 14:39:58,086 - FireLog - INFO - Fire tracking at [2023, 9, 1, 'AM']\n",
      "2024-02-12 14:40:00,650 - FireLog - INFO - func:Fire_expand_rtree took: 2.56 sec\n",
      "2024-02-12 14:40:00,871 - FireLog - INFO - func:Fire_merge_rtree took: 216.33 ms\n",
      "2024-02-12 14:40:01,528 - FireLog - INFO - func:invalidate_statfires took: 655.38 ms\n",
      "2024-02-12 14:40:01,528 - FireLog - INFO - fids_expand: 298\n",
      "2024-02-12 14:40:01,529 - FireLog - INFO - fids_new: 170\n",
      "2024-02-12 14:40:01,529 - FireLog - INFO - fids_merged: 3\n",
      "2024-02-12 14:40:01,529 - FireLog - INFO - fids_invalid: 46\n",
      "2024-02-12 14:40:03,725 - FireLog - INFO - func:update_gdf took: 2.20 sec\n",
      "2024-02-12 14:40:03,726 - FireLog - INFO - func:Fire_Forward_one_step took: 5.64 sec\n",
      "2024-02-12 14:40:03,726 - FireLog - INFO - --------------------\n",
      "2024-02-12 14:40:03,726 - FireLog - INFO - Fire tracking at [2023, 9, 1, 'PM']\n",
      "2024-02-12 14:40:05,275 - FireLog - INFO - func:Fire_expand_rtree took: 1.54 sec\n",
      "2024-02-12 14:40:05,591 - FireLog - INFO - func:Fire_merge_rtree took: 310.93 ms\n",
      "2024-02-12 14:40:06,309 - FireLog - INFO - func:invalidate_statfires took: 717.21 ms\n",
      "2024-02-12 14:40:06,310 - FireLog - INFO - fids_expand: 98\n",
      "2024-02-12 14:40:06,310 - FireLog - INFO - fids_new: 215\n",
      "2024-02-12 14:40:06,311 - FireLog - INFO - fids_merged: 8\n",
      "2024-02-12 14:40:06,311 - FireLog - INFO - fids_invalid: 16\n",
      "2024-02-12 14:40:08,002 - FireLog - INFO - func:update_gdf took: 1.69 sec\n",
      "2024-02-12 14:40:08,003 - FireLog - INFO - func:Fire_Forward_one_step took: 4.28 sec\n",
      "2024-02-12 14:40:08,003 - FireLog - INFO - --------------------\n",
      "2024-02-12 14:40:08,004 - FireLog - INFO - Fire tracking at [2023, 9, 2, 'AM']\n",
      "2024-02-12 14:40:10,873 - FireLog - INFO - func:Fire_expand_rtree took: 2.86 sec\n",
      "2024-02-12 14:40:11,182 - FireLog - INFO - func:Fire_merge_rtree took: 303.37 ms\n",
      "2024-02-12 14:40:12,099 - FireLog - INFO - func:invalidate_statfires took: 916.51 ms\n",
      "2024-02-12 14:40:12,100 - FireLog - INFO - fids_expand: 282\n",
      "2024-02-12 14:40:12,100 - FireLog - INFO - fids_new: 151\n",
      "2024-02-12 14:40:12,100 - FireLog - INFO - fids_merged: 6\n",
      "2024-02-12 14:40:12,101 - FireLog - INFO - fids_invalid: 48\n",
      "2024-02-12 14:40:14,456 - FireLog - INFO - func:update_gdf took: 2.35 sec\n",
      "2024-02-12 14:40:14,456 - FireLog - INFO - func:Fire_Forward_one_step took: 6.45 sec\n",
      "2024-02-12 14:40:14,457 - FireLog - INFO - --------------------\n",
      "2024-02-12 14:40:14,457 - FireLog - INFO - Fire tracking at [2023, 9, 2, 'PM']\n",
      "2024-02-12 14:40:16,026 - FireLog - INFO - func:Fire_expand_rtree took: 1.56 sec\n",
      "2024-02-12 14:40:16,395 - FireLog - INFO - func:Fire_merge_rtree took: 362.64 ms\n",
      "2024-02-12 14:40:17,228 - FireLog - INFO - func:invalidate_statfires took: 832.37 ms\n",
      "2024-02-12 14:40:17,228 - FireLog - INFO - fids_expand: 79\n",
      "2024-02-12 14:40:17,229 - FireLog - INFO - fids_new: 202\n",
      "2024-02-12 14:40:17,229 - FireLog - INFO - fids_merged: 9\n",
      "2024-02-12 14:40:17,229 - FireLog - INFO - fids_invalid: 12\n",
      "2024-02-12 14:40:18,707 - FireLog - INFO - func:update_gdf took: 1.48 sec\n",
      "2024-02-12 14:40:18,707 - FireLog - INFO - func:Fire_Forward_one_step took: 4.25 sec\n",
      "2024-02-12 14:40:18,708 - FireLog - INFO - --------------------\n",
      "2024-02-12 14:40:18,709 - FireLog - INFO - Fire tracking at [2023, 9, 3, 'AM']\n",
      "2024-02-12 14:40:21,397 - FireLog - INFO - func:Fire_expand_rtree took: 2.68 sec\n",
      "2024-02-12 14:40:21,849 - FireLog - INFO - func:Fire_merge_rtree took: 445.94 ms\n",
      "2024-02-12 14:40:22,618 - FireLog - INFO - func:invalidate_statfires took: 768.52 ms\n",
      "2024-02-12 14:40:22,618 - FireLog - INFO - fids_expand: 286\n",
      "2024-02-12 14:40:22,619 - FireLog - INFO - fids_new: 148\n",
      "2024-02-12 14:40:22,619 - FireLog - INFO - fids_merged: 9\n",
      "2024-02-12 14:40:22,620 - FireLog - INFO - fids_invalid: 50\n",
      "2024-02-12 14:40:24,892 - FireLog - INFO - func:update_gdf took: 2.27 sec\n",
      "2024-02-12 14:40:24,893 - FireLog - INFO - func:Fire_Forward_one_step took: 6.19 sec\n",
      "2024-02-12 14:40:24,894 - FireLog - INFO - --------------------\n",
      "2024-02-12 14:40:24,895 - FireLog - INFO - Fire tracking at [2023, 9, 3, 'PM']\n",
      "2024-02-12 14:40:26,460 - FireLog - INFO - func:Fire_expand_rtree took: 1.56 sec\n",
      "2024-02-12 14:40:26,816 - FireLog - INFO - func:Fire_merge_rtree took: 348.76 ms\n",
      "2024-02-12 14:40:27,621 - FireLog - INFO - func:invalidate_statfires took: 804.63 ms\n",
      "2024-02-12 14:40:27,622 - FireLog - INFO - fids_expand: 83\n",
      "2024-02-12 14:40:27,622 - FireLog - INFO - fids_new: 192\n",
      "2024-02-12 14:40:27,622 - FireLog - INFO - fids_merged: 7\n",
      "2024-02-12 14:40:27,622 - FireLog - INFO - fids_invalid: 13\n",
      "2024-02-12 14:40:29,165 - FireLog - INFO - func:update_gdf took: 1.54 sec\n",
      "2024-02-12 14:40:29,166 - FireLog - INFO - func:Fire_Forward_one_step took: 4.27 sec\n",
      "2024-02-12 14:40:29,166 - FireLog - INFO - --------------------\n",
      "2024-02-12 14:40:29,166 - FireLog - INFO - Fire tracking at [2023, 9, 4, 'AM']\n",
      "2024-02-12 14:40:31,395 - FireLog - INFO - func:Fire_expand_rtree took: 2.22 sec\n",
      "2024-02-12 14:40:31,739 - FireLog - INFO - func:Fire_merge_rtree took: 336.94 ms\n",
      "2024-02-12 14:40:32,476 - FireLog - INFO - func:invalidate_statfires took: 736.72 ms\n",
      "2024-02-12 14:40:32,477 - FireLog - INFO - fids_expand: 256\n",
      "2024-02-12 14:40:32,477 - FireLog - INFO - fids_new: 103\n",
      "2024-02-12 14:40:32,477 - FireLog - INFO - fids_merged: 5\n",
      "2024-02-12 14:40:32,478 - FireLog - INFO - fids_invalid: 47\n",
      "2024-02-12 14:40:34,396 - FireLog - INFO - func:update_gdf took: 1.92 sec\n",
      "2024-02-12 14:40:34,397 - FireLog - INFO - func:Fire_Forward_one_step took: 5.23 sec\n",
      "2024-02-12 14:40:34,398 - FireLog - INFO - --------------------\n",
      "2024-02-12 14:40:34,398 - FireLog - INFO - Fire tracking at [2023, 9, 4, 'PM']\n",
      "2024-02-12 14:40:36,375 - FireLog - INFO - func:Fire_expand_rtree took: 1.97 sec\n",
      "2024-02-12 14:40:36,848 - FireLog - INFO - func:Fire_merge_rtree took: 466.19 ms\n",
      "2024-02-12 14:40:37,639 - FireLog - INFO - func:invalidate_statfires took: 789.66 ms\n",
      "2024-02-12 14:40:37,639 - FireLog - INFO - fids_expand: 90\n",
      "2024-02-12 14:40:37,640 - FireLog - INFO - fids_new: 275\n",
      "2024-02-12 14:40:37,640 - FireLog - INFO - fids_merged: 19\n",
      "2024-02-12 14:40:37,640 - FireLog - INFO - fids_invalid: 22\n",
      "2024-02-12 14:40:39,742 - FireLog - INFO - func:update_gdf took: 2.10 sec\n",
      "2024-02-12 14:40:39,743 - FireLog - INFO - func:Fire_Forward_one_step took: 5.35 sec\n",
      "2024-02-12 14:40:39,743 - FireLog - INFO - --------------------\n",
      "2024-02-12 14:40:39,743 - FireLog - INFO - Fire tracking at [2023, 9, 5, 'AM']\n",
      "2024-02-12 14:40:42,084 - FireLog - INFO - func:Fire_expand_rtree took: 2.33 sec\n",
      "2024-02-12 14:40:42,499 - FireLog - INFO - func:Fire_merge_rtree took: 406.90 ms\n",
      "2024-02-12 14:40:43,236 - FireLog - INFO - func:invalidate_statfires took: 736.66 ms\n",
      "2024-02-12 14:40:43,237 - FireLog - INFO - fids_expand: 260\n",
      "2024-02-12 14:40:43,237 - FireLog - INFO - fids_new: 126\n",
      "2024-02-12 14:40:43,238 - FireLog - INFO - fids_merged: 12\n",
      "2024-02-12 14:40:43,238 - FireLog - INFO - fids_invalid: 76\n",
      "2024-02-12 14:40:45,388 - FireLog - INFO - func:update_gdf took: 2.15 sec\n",
      "2024-02-12 14:40:45,389 - FireLog - INFO - func:Fire_Forward_one_step took: 5.65 sec\n",
      "2024-02-12 14:40:45,389 - FireLog - INFO - --------------------\n",
      "2024-02-12 14:40:45,390 - FireLog - INFO - Fire tracking at [2023, 9, 5, 'PM']\n",
      "2024-02-12 14:40:47,446 - FireLog - INFO - func:Fire_expand_rtree took: 2.05 sec\n",
      "2024-02-12 14:40:47,866 - FireLog - INFO - func:Fire_merge_rtree took: 411.97 ms\n",
      "2024-02-12 14:40:48,600 - FireLog - INFO - func:invalidate_statfires took: 732.73 ms\n",
      "2024-02-12 14:40:48,600 - FireLog - INFO - fids_expand: 119\n",
      "2024-02-12 14:40:48,600 - FireLog - INFO - fids_new: 293\n",
      "2024-02-12 14:40:48,600 - FireLog - INFO - fids_merged: 16\n",
      "2024-02-12 14:40:48,600 - FireLog - INFO - fids_invalid: 26\n",
      "2024-02-12 14:40:50,982 - FireLog - INFO - func:update_gdf took: 2.38 sec\n",
      "2024-02-12 14:40:50,983 - FireLog - INFO - func:Fire_Forward_one_step took: 5.59 sec\n",
      "2024-02-12 14:40:50,983 - FireLog - INFO - --------------------\n",
      "2024-02-12 14:40:50,983 - FireLog - INFO - Fire tracking at [2023, 9, 6, 'AM']\n",
      "2024-02-12 14:40:53,357 - FireLog - INFO - func:Fire_expand_rtree took: 2.36 sec\n",
      "2024-02-12 14:40:53,817 - FireLog - INFO - func:Fire_merge_rtree took: 452.17 ms\n",
      "2024-02-12 14:40:54,511 - FireLog - INFO - func:invalidate_statfires took: 693.22 ms\n",
      "2024-02-12 14:40:54,511 - FireLog - INFO - fids_expand: 268\n",
      "2024-02-12 14:40:54,511 - FireLog - INFO - fids_new: 129\n",
      "2024-02-12 14:40:54,512 - FireLog - INFO - fids_merged: 22\n",
      "2024-02-12 14:40:54,512 - FireLog - INFO - fids_invalid: 77\n",
      "2024-02-12 14:40:56,899 - FireLog - INFO - func:update_gdf took: 2.39 sec\n",
      "2024-02-12 14:40:56,900 - FireLog - INFO - func:Fire_Forward_one_step took: 5.92 sec\n",
      "2024-02-12 14:40:56,900 - FireLog - INFO - func:Fire_Forward took: 1.68 min\n"
     ]
    }
   ],
   "source": [
    "allfires, allpixels = FireMain.Fire_Forward(tst=tst, ted=ted, restart=False, region=region)"
   ]
  },
  {
   "cell_type": "markdown",
   "id": "01ab5572-6511-4b87-9a69-7db28cb72f36",
   "metadata": {
    "execution": {
     "iopub.execute_input": "2024-01-24T22:27:41.929188Z",
     "iopub.status.busy": "2024-01-24T22:27:41.928952Z",
     "iopub.status.idle": "2024-01-24T22:27:41.932259Z",
     "shell.execute_reply": "2024-01-24T22:27:41.931921Z",
     "shell.execute_reply.started": "2024-01-24T22:27:41.929171Z"
    }
   },
   "source": [
    "From the logs that Eli shared we expect that for [2023, 9, 6, 'AM'] we should have:\n",
    "\n",
    "```python\n",
    "actual_fids_expand = 260\n",
    "actual_fids_new = 131\n",
    "actual_fids_merged = 6\n",
    "actual_fids_invalid = 44\n",
    "```"
   ]
  },
  {
   "cell_type": "markdown",
   "id": "e4458cb6-0c9c-4712-8d79-c43f84e756df",
   "metadata": {},
   "source": [
    "# Concepts\n",
    "This outputs two dataframes: an `allpixels` dataframe with 1 row per pixel and an `allfires` geodataframe with one row per-fire/per-t. \n",
    "\n",
    "The core concept is that if you use a dataframe to back the allfires and fire objects there are well-defined ways to serialize that to disk whenever you like (aka no more pickles!).\n",
    "\n",
    "Here's a bit of an overview of the lifecycle of each of these dataframes:\n",
    "\n",
    "## allpixels:\n",
    "\n",
    "- At the start of `Fire_Forward` all of the preprocessed pixel data is loaded and concatenated into one long dataframe.\n",
    "- Each row represents a fire pixel and there is a unique id per row.\n",
    "- As `Fire_Forward` iterates through the timesteps of interest the `allpixels` dataframe is updated in place.\n",
    "- Each `Fire` object refers to the `allpixels` object as the source of truth and does not hold pixel data but instead refers to subsets of the `allpixels` dataframe to return `n_pixels` or `newpixels`.\n",
    "- Merging fires at a particular `t` can update the `allpixels` at a former timestep.\n",
    "- When `Fire_Forward` is complete, the `allpixels` object can be serialized to csv (or any tabular format) optionally partitioned into files by `t`.\n",
    "- This dataframe can be used:\n",
    "    - together with `allfires_gdf` to rehydrate the `allfires` object at the latest `t` in order to run `Fire_Forward` on one new ingest file.\n",
    "    - independently to write the `nplist` output file for largefires\n",
    "\n",
    "## allfires_gdf:\n",
    "\n",
    "- At the start of `Fire_Forward` a new geodataframe object is initialized. It has a column for each of the `Fire` attributes that take a non-trivial amount of time to compute (`ftype`, `hull`, `fline`...).\n",
    "- As `Fire_Forward` iterates through the timesteps of interest it writes a row for every fire that is burning (aka has new pixels) at the `t`.\n",
    "- So each row contains the information about one fire at one `t`. The index is a MultiIndex of `(fid, t)`\n",
    "- Merging fires at a particular `t` updates the `mergeid` on the existing rows (_this part I am not totally confident is correct_).\n",
    "- When `Fire_Forward` is complete, the `allfires_gdf` object can be serialized to geoparquet (this is the best choice since it contains multiple geometry columns) optionally partitioned into files by `t`.\n",
    "- This geodataframe can be used:\n",
    "    - together with `allpixels` to rehydrate the `allfires` object at the latest `t` in order to run `Fire_Forward` on one new ingest file.\n",
    "    - independently to write all the snapshot and largefires output files.\n",
    "\n",
    "Side note: I like that in this branch the `allpixels` dataframe is referenced by all the `Fire` objects but it isn't copied around. This is different from how it works in `preprocess` where each `Fire` object (at each `t`) has its own dataframe. It is also different than the original version of this algorithm where each `Fire` object (at each `t`) holds a bunch of lists."
   ]
  },
  {
   "cell_type": "markdown",
   "id": "f88b111a-a729-45a6-95b2-65a2db573574",
   "metadata": {},
   "source": [
    "## Serialize to disk\n",
    "\n",
    "- allpixels -> one file for each t (one row for each pixel).\n",
    "- allfires -> one geoparquet file to hold all information about each fire at each time (one row for each burning fire at each t)."
   ]
  },
  {
   "cell_type": "code",
   "execution_count": 3,
   "id": "228d5db2-cfa1-4ba2-9521-d23c6d2e08e3",
   "metadata": {
    "execution": {
     "iopub.execute_input": "2024-02-12T19:40:56.904253Z",
     "iopub.status.busy": "2024-02-12T19:40:56.904027Z",
     "iopub.status.idle": "2024-02-12T19:40:57.042126Z",
     "shell.execute_reply": "2024-02-12T19:40:57.041655Z",
     "shell.execute_reply.started": "2024-02-12T19:40:56.904233Z"
    }
   },
   "outputs": [
    {
     "name": "stderr",
     "output_type": "stream",
     "text": [
      "2024-02-12 14:40:57,040 - FireLog - INFO - func:save_allpixels took: 135.02 ms\n"
     ]
    }
   ],
   "source": [
    "postprocess.save_allpixels(allpixels, ted, region)"
   ]
  },
  {
   "cell_type": "code",
   "execution_count": 4,
   "id": "48b4f931-7f4c-47e0-aaa7-d79dac3972cc",
   "metadata": {
    "execution": {
     "iopub.execute_input": "2024-02-12T19:40:57.042600Z",
     "iopub.status.busy": "2024-02-12T19:40:57.042486Z",
     "iopub.status.idle": "2024-02-12T19:40:57.223549Z",
     "shell.execute_reply": "2024-02-12T19:40:57.223042Z",
     "shell.execute_reply.started": "2024-02-12T19:40:57.042588Z"
    }
   },
   "outputs": [
    {
     "name": "stderr",
     "output_type": "stream",
     "text": [
      "2024-02-12 14:40:57,221 - FireLog - INFO - func:save_allfires_gdf took: 178.22 ms\n"
     ]
    }
   ],
   "source": [
    "postprocess.save_allfires_gdf(allfires.gdf, ted, region)"
   ]
  },
  {
   "cell_type": "markdown",
   "id": "fd6f2be6-286a-4868-adbe-a90aa5dfb4fd",
   "metadata": {},
   "source": [
    "## Read from disk"
   ]
  },
  {
   "cell_type": "code",
   "execution_count": 6,
   "id": "bb9d9818-89b0-4534-875d-8f5295eba2a0",
   "metadata": {
    "execution": {
     "iopub.execute_input": "2024-02-08T16:14:06.268296Z",
     "iopub.status.busy": "2024-02-08T16:14:06.267708Z",
     "iopub.status.idle": "2024-02-08T16:14:06.332306Z",
     "shell.execute_reply": "2024-02-08T16:14:06.331926Z",
     "shell.execute_reply.started": "2024-02-08T16:14:06.268268Z"
    }
   },
   "outputs": [
    {
     "name": "stderr",
     "output_type": "stream",
     "text": [
      "2024-02-08 11:14:06,330 - FireLog - INFO - func:read_allpixels took: 60.85 ms\n"
     ]
    }
   ],
   "source": [
    "allpixels = postprocess.read_allpixels(ted, region)"
   ]
  },
  {
   "cell_type": "code",
   "execution_count": 7,
   "id": "713e07d4-3f8f-4ff3-a67b-88883a39b6c4",
   "metadata": {
    "execution": {
     "iopub.execute_input": "2024-02-08T16:14:06.746350Z",
     "iopub.status.busy": "2024-02-08T16:14:06.746084Z",
     "iopub.status.idle": "2024-02-08T16:14:06.856172Z",
     "shell.execute_reply": "2024-02-08T16:14:06.855585Z",
     "shell.execute_reply.started": "2024-02-08T16:14:06.746334Z"
    }
   },
   "outputs": [
    {
     "name": "stderr",
     "output_type": "stream",
     "text": [
      "2024-02-08 11:14:06,854 - FireLog - INFO - func:read_allfires_gdf took: 107.25 ms\n"
     ]
    }
   ],
   "source": [
    "allfires_gdf = postprocess.read_allfires_gdf(ted, region)"
   ]
  },
  {
   "cell_type": "markdown",
   "id": "a81ffd2d-ed4b-498e-b45e-127f7c5fd594",
   "metadata": {},
   "source": [
    "## Pick out the large fires\n",
    "\n",
    "Let's compare the existing object-oriented approach with the new geodataframe approach"
   ]
  },
  {
   "cell_type": "code",
   "execution_count": 8,
   "id": "94fa151c-0c50-45ca-81f3-6a188ce39bea",
   "metadata": {
    "execution": {
     "iopub.execute_input": "2024-02-08T16:14:11.069627Z",
     "iopub.status.busy": "2024-02-08T16:14:11.068525Z",
     "iopub.status.idle": "2024-02-08T16:14:11.109830Z",
     "shell.execute_reply": "2024-02-08T16:14:11.109408Z",
     "shell.execute_reply.started": "2024-02-08T16:14:11.069596Z"
    }
   },
   "outputs": [
    {
     "name": "stdout",
     "output_type": "stream",
     "text": [
      "CPU times: user 37.3 ms, sys: 36 µs, total: 37.4 ms\n",
      "Wall time: 36.4 ms\n"
     ]
    }
   ],
   "source": [
    "%%time\n",
    "import FireGpkg_sfs\n",
    "\n",
    "large_fires_original = FireGpkg_sfs.find_largefires(allfires)"
   ]
  },
  {
   "cell_type": "code",
   "execution_count": 9,
   "id": "130838af-f05c-48fe-b52f-1e8d0a5d6747",
   "metadata": {
    "execution": {
     "iopub.execute_input": "2024-02-08T16:14:12.785429Z",
     "iopub.status.busy": "2024-02-08T16:14:12.785065Z",
     "iopub.status.idle": "2024-02-08T16:14:12.800185Z",
     "shell.execute_reply": "2024-02-08T16:14:12.799431Z",
     "shell.execute_reply.started": "2024-02-08T16:14:12.785399Z"
    }
   },
   "outputs": [
    {
     "name": "stderr",
     "output_type": "stream",
     "text": [
      "2024-02-08 11:14:12,797 - FireLog - INFO - func:find_largefires took: 10.53 ms\n"
     ]
    }
   ],
   "source": [
    "large_fires_new = postprocess.find_largefires(allfires_gdf)"
   ]
  },
  {
   "cell_type": "code",
   "execution_count": 10,
   "id": "693c4ef5-817e-4093-a013-954f3caa20c0",
   "metadata": {
    "execution": {
     "iopub.execute_input": "2024-02-08T16:14:16.877498Z",
     "iopub.status.busy": "2024-02-08T16:14:16.877311Z",
     "iopub.status.idle": "2024-02-08T16:14:16.880469Z",
     "shell.execute_reply": "2024-02-08T16:14:16.879922Z",
     "shell.execute_reply.started": "2024-02-08T16:14:16.877483Z"
    }
   },
   "outputs": [],
   "source": [
    "assert set(large_fires_original) == set(large_fires_new), \"The large fires should match\""
   ]
  },
  {
   "cell_type": "markdown",
   "id": "ea5af427-e791-48de-b94c-8b555970d9d1",
   "metadata": {},
   "source": [
    "## Rehydrate the latest allfires"
   ]
  },
  {
   "cell_type": "markdown",
   "id": "cab20ea3-0592-4796-b604-6e5dcb70c26a",
   "metadata": {},
   "source": [
    "For instance let's rehydrate just the last allfires object. \n",
    "\n",
    "This should be equivalent to the allfires object that we generated at the top of this notebook."
   ]
  },
  {
   "cell_type": "code",
   "execution_count": 11,
   "id": "5755e2d2-19b1-48f5-a3e6-8738c29f0ac8",
   "metadata": {
    "execution": {
     "iopub.execute_input": "2024-02-08T16:14:24.726950Z",
     "iopub.status.busy": "2024-02-08T16:14:24.726443Z",
     "iopub.status.idle": "2024-02-08T16:14:27.174436Z",
     "shell.execute_reply": "2024-02-08T16:14:27.173934Z",
     "shell.execute_reply.started": "2024-02-08T16:14:24.726916Z"
    }
   },
   "outputs": [
    {
     "name": "stderr",
     "output_type": "stream",
     "text": [
      "2024-02-08 11:14:24,835 - FireLog - INFO - func:read_allfires_gdf took: 107.92 ms\n",
      "2024-02-08 11:14:24,879 - FireLog - INFO - func:read_allpixels took: 43.51 ms\n",
      "2024-02-08 11:14:27,170 - FireLog - INFO - func:rehydrate took: 2.44 sec\n"
     ]
    },
    {
     "data": {
      "text/plain": [
       "<Allfires at t=[2023, 9, 6, 'AM'] with n_fires=4342>"
      ]
     },
     "execution_count": 11,
     "metadata": {},
     "output_type": "execute_result"
    }
   ],
   "source": [
    "a = FireObj.Allfires.rehydrate(ted, region)\n",
    "a"
   ]
  }
 ],
 "metadata": {
  "kernelspec": {
   "display_name": "Python 3 (ipykernel)",
   "language": "python",
   "name": "python3"
  },
  "language_info": {
   "codemirror_mode": {
    "name": "ipython",
    "version": 3
   },
   "file_extension": ".py",
   "mimetype": "text/x-python",
   "name": "python",
   "nbconvert_exporter": "python",
   "pygments_lexer": "ipython3",
   "version": "3.11.7"
  }
 },
 "nbformat": 4,
 "nbformat_minor": 5
}
