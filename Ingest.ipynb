{
 "cells": [
  {
   "cell_type": "code",
   "execution_count": 1,
   "id": "30ed1049-5466-4d04-bcef-ac0c8ffa1d6d",
   "metadata": {
    "execution": {
     "iopub.execute_input": "2024-02-07T21:43:05.983967Z",
     "iopub.status.busy": "2024-02-07T21:43:05.983714Z",
     "iopub.status.idle": "2024-02-07T21:43:06.358683Z",
     "shell.execute_reply": "2024-02-07T21:43:06.358162Z",
     "shell.execute_reply.started": "2024-02-07T21:43:05.983943Z"
    }
   },
   "outputs": [],
   "source": [
    "import preprocess"
   ]
  },
  {
   "cell_type": "code",
   "execution_count": 2,
   "id": "27a71fa5-d7cd-4f33-a962-9b09ba3e6433",
   "metadata": {
    "execution": {
     "iopub.execute_input": "2024-02-07T21:43:06.359408Z",
     "iopub.status.busy": "2024-02-07T21:43:06.359261Z",
     "iopub.status.idle": "2024-02-07T21:43:06.362242Z",
     "shell.execute_reply": "2024-02-07T21:43:06.361815Z",
     "shell.execute_reply.started": "2024-02-07T21:43:06.359398Z"
    }
   },
   "outputs": [],
   "source": [
    "tst = [2023, 8, 28, 'AM']\n",
    "ted = [2023, 9, 6, 'AM']\n",
    "region = ('CONUS', [-126.401171875,24.071240929282325,\n",
    "                    -61.36210937500001,49.40003415463647])"
   ]
  },
  {
   "cell_type": "code",
   "execution_count": 3,
   "id": "204a5501-a2d5-481d-885d-0cfd0a7d9fb7",
   "metadata": {
    "execution": {
     "iopub.execute_input": "2024-02-07T21:43:06.362719Z",
     "iopub.status.busy": "2024-02-07T21:43:06.362619Z",
     "iopub.status.idle": "2024-02-07T21:43:06.379915Z",
     "shell.execute_reply": "2024-02-07T21:43:06.379587Z",
     "shell.execute_reply.started": "2024-02-07T21:43:06.362709Z"
    }
   },
   "outputs": [
    {
     "data": {
      "text/plain": [
       "[[2023, 8, 28, 'AM'],\n",
       " [2023, 8, 28, 'PM'],\n",
       " [2023, 8, 29, 'AM'],\n",
       " [2023, 8, 29, 'PM'],\n",
       " [2023, 8, 30, 'AM'],\n",
       " [2023, 8, 30, 'PM'],\n",
       " [2023, 8, 31, 'AM'],\n",
       " [2023, 8, 31, 'PM'],\n",
       " [2023, 9, 1, 'AM'],\n",
       " [2023, 9, 1, 'PM'],\n",
       " [2023, 9, 2, 'AM'],\n",
       " [2023, 9, 2, 'PM'],\n",
       " [2023, 9, 3, 'AM'],\n",
       " [2023, 9, 3, 'PM'],\n",
       " [2023, 9, 4, 'AM'],\n",
       " [2023, 9, 4, 'PM'],\n",
       " [2023, 9, 5, 'AM'],\n",
       " [2023, 9, 5, 'PM'],\n",
       " [2023, 9, 6, 'AM']]"
      ]
     },
     "execution_count": 3,
     "metadata": {},
     "output_type": "execute_result"
    }
   ],
   "source": [
    "import FireTime\n",
    "\n",
    "list_of_ts = list(FireTime.t_generator(tst, ted))\n",
    "list_of_ts"
   ]
  },
  {
   "cell_type": "markdown",
   "id": "c5cbf654-16f4-4790-95e0-a90140e79e78",
   "metadata": {},
   "source": [
    "## Once per landcover file\n",
    "\n",
    "If your landcover file is not in lat,lon then transform it and resave it. You will use this file a bunch later on."
   ]
  },
  {
   "cell_type": "code",
   "execution_count": 5,
   "id": "94bc6f4a-f61b-4d82-9e3b-d3749552c84c",
   "metadata": {
    "execution": {
     "iopub.execute_input": "2024-02-07T21:31:47.443853Z",
     "iopub.status.busy": "2024-02-07T21:31:47.443318Z",
     "iopub.status.idle": "2024-02-07T21:31:53.809606Z",
     "shell.execute_reply": "2024-02-07T21:31:53.808977Z",
     "shell.execute_reply.started": "2024-02-07T21:31:47.443803Z"
    }
   },
   "outputs": [
    {
     "name": "stderr",
     "output_type": "stream",
     "text": [
      "2024-02-07 16:31:53,807 - FireLog - INFO - func:preprocess_landcover took: 6.36 sec\n"
     ]
    }
   ],
   "source": [
    "preprocess.preprocess_landcover()"
   ]
  },
  {
   "cell_type": "markdown",
   "id": "5e54a2d4-b41b-4d53-a4ba-7a41f02799f5",
   "metadata": {},
   "source": [
    "## Once per region\n",
    "\n",
    "Preprocess the region to get rid of static flare sources. Save that new \"swiss cheese\" shape off into a geojson file for later."
   ]
  },
  {
   "cell_type": "code",
   "execution_count": 4,
   "id": "1a3c495d-66fa-458f-8afb-01e982b0709a",
   "metadata": {
    "execution": {
     "iopub.execute_input": "2024-02-07T21:38:35.285399Z",
     "iopub.status.busy": "2024-02-07T21:38:35.285164Z",
     "iopub.status.idle": "2024-02-07T21:39:55.357653Z",
     "shell.execute_reply": "2024-02-07T21:39:55.357105Z",
     "shell.execute_reply.started": "2024-02-07T21:38:35.285381Z"
    }
   },
   "outputs": [
    {
     "name": "stderr",
     "output_type": "stream",
     "text": [
      "2024-02-07 16:39:55,354 - FireLog - INFO - func:preprocess_region took: 1.33 min\n"
     ]
    }
   ],
   "source": [
    "preprocess.preprocess_region(region)"
   ]
  },
  {
   "cell_type": "markdown",
   "id": "16bd857f-f57a-4fc3-9e49-2c9536c97019",
   "metadata": {},
   "source": [
    "## Once per input file\n",
    "\n",
    "Next process each NRT file into half day files. First we'll get all the times that are of interest. This could also be done by inspecting all looking at all the files that exist and seeing which have not been preprocessed yet."
   ]
  },
  {
   "cell_type": "code",
   "execution_count": 5,
   "id": "864146bf-ee1e-4785-9106-9df1359f2aaf",
   "metadata": {
    "execution": {
     "iopub.execute_input": "2024-02-07T21:39:57.935980Z",
     "iopub.status.busy": "2024-02-07T21:39:57.935747Z",
     "iopub.status.idle": "2024-02-07T21:40:03.992016Z",
     "shell.execute_reply": "2024-02-07T21:40:03.991646Z",
     "shell.execute_reply.started": "2024-02-07T21:39:57.935965Z"
    }
   },
   "outputs": [
    {
     "name": "stderr",
     "output_type": "stream",
     "text": [
      "2024-02-07 16:39:57,936 - FireLog - INFO - preprocessing NRT file for 2023-8-28, SNPP\n",
      "2024-02-07 16:39:58,244 - FireLog - INFO - func:preprocess_NRT_file took: 307.72 ms\n",
      "2024-02-07 16:39:58,245 - FireLog - INFO - preprocessing NRT file for 2023-8-29, SNPP\n",
      "2024-02-07 16:39:58,519 - FireLog - INFO - func:preprocess_NRT_file took: 274.09 ms\n",
      "2024-02-07 16:39:58,519 - FireLog - INFO - preprocessing NRT file for 2023-8-30, SNPP\n",
      "2024-02-07 16:39:58,776 - FireLog - INFO - func:preprocess_NRT_file took: 256.48 ms\n",
      "2024-02-07 16:39:58,776 - FireLog - INFO - preprocessing NRT file for 2023-8-31, SNPP\n",
      "2024-02-07 16:39:59,019 - FireLog - INFO - func:preprocess_NRT_file took: 243.17 ms\n",
      "2024-02-07 16:39:59,020 - FireLog - INFO - preprocessing NRT file for 2023-9-1, SNPP\n",
      "2024-02-07 16:39:59,339 - FireLog - INFO - func:preprocess_NRT_file took: 318.74 ms\n",
      "2024-02-07 16:39:59,339 - FireLog - INFO - preprocessing NRT file for 2023-9-2, SNPP\n",
      "2024-02-07 16:39:59,720 - FireLog - INFO - func:preprocess_NRT_file took: 380.60 ms\n",
      "2024-02-07 16:39:59,720 - FireLog - INFO - preprocessing NRT file for 2023-9-3, SNPP\n",
      "2024-02-07 16:40:00,038 - FireLog - INFO - func:preprocess_NRT_file took: 318.21 ms\n",
      "2024-02-07 16:40:00,039 - FireLog - INFO - preprocessing NRT file for 2023-9-4, SNPP\n",
      "2024-02-07 16:40:00,314 - FireLog - INFO - func:preprocess_NRT_file took: 275.51 ms\n",
      "2024-02-07 16:40:00,315 - FireLog - INFO - preprocessing NRT file for 2023-9-5, SNPP\n",
      "2024-02-07 16:40:00,592 - FireLog - INFO - func:preprocess_NRT_file took: 277.50 ms\n",
      "2024-02-07 16:40:00,593 - FireLog - INFO - preprocessing NRT file for 2023-9-6, SNPP\n",
      "2024-02-07 16:40:00,795 - FireLog - INFO - func:preprocess_NRT_file took: 201.79 ms\n",
      "2024-02-07 16:40:00,795 - FireLog - INFO - preprocessing NRT file for 2023-8-28, NOAA20\n",
      "2024-02-07 16:40:01,098 - FireLog - INFO - func:preprocess_NRT_file took: 302.52 ms\n",
      "2024-02-07 16:40:01,099 - FireLog - INFO - preprocessing NRT file for 2023-8-29, NOAA20\n",
      "2024-02-07 16:40:01,381 - FireLog - INFO - func:preprocess_NRT_file took: 282.33 ms\n",
      "2024-02-07 16:40:01,381 - FireLog - INFO - preprocessing NRT file for 2023-8-30, NOAA20\n",
      "2024-02-07 16:40:01,645 - FireLog - INFO - func:preprocess_NRT_file took: 263.50 ms\n",
      "2024-02-07 16:40:01,646 - FireLog - INFO - preprocessing NRT file for 2023-8-31, NOAA20\n",
      "2024-02-07 16:40:01,909 - FireLog - INFO - func:preprocess_NRT_file took: 263.38 ms\n",
      "2024-02-07 16:40:01,909 - FireLog - INFO - preprocessing NRT file for 2023-9-1, NOAA20\n",
      "2024-02-07 16:40:02,269 - FireLog - INFO - func:preprocess_NRT_file took: 359.70 ms\n",
      "2024-02-07 16:40:02,270 - FireLog - INFO - preprocessing NRT file for 2023-9-2, NOAA20\n",
      "2024-02-07 16:40:02,664 - FireLog - INFO - func:preprocess_NRT_file took: 394.64 ms\n",
      "2024-02-07 16:40:02,665 - FireLog - INFO - preprocessing NRT file for 2023-9-3, NOAA20\n",
      "2024-02-07 16:40:02,960 - FireLog - INFO - func:preprocess_NRT_file took: 294.77 ms\n",
      "2024-02-07 16:40:02,960 - FireLog - INFO - preprocessing NRT file for 2023-9-4, NOAA20\n",
      "2024-02-07 16:40:03,239 - FireLog - INFO - func:preprocess_NRT_file took: 278.48 ms\n",
      "2024-02-07 16:40:03,239 - FireLog - INFO - preprocessing NRT file for 2023-9-5, NOAA20\n",
      "2024-02-07 16:40:03,589 - FireLog - INFO - func:preprocess_NRT_file took: 349.85 ms\n",
      "2024-02-07 16:40:03,590 - FireLog - INFO - preprocessing NRT file for 2023-9-6, NOAA20\n",
      "2024-02-07 16:40:03,989 - FireLog - INFO - func:preprocess_NRT_file took: 398.91 ms\n"
     ]
    },
    {
     "name": "stdout",
     "output_type": "stream",
     "text": [
      "CPU times: user 5.93 s, sys: 124 ms, total: 6.05 s\n",
      "Wall time: 6.05 s\n"
     ]
    }
   ],
   "source": [
    "%%time\n",
    "for sat in [\"SNPP\", \"NOAA20\"]:\n",
    "    for t in list_of_ts[::2]:\n",
    "        preprocess.preprocess_NRT_file(t, sat)"
   ]
  },
  {
   "cell_type": "markdown",
   "id": "73f9065d-3519-4673-98e5-3afd0e29ab80",
   "metadata": {},
   "source": [
    "## Once per region and t\n",
    "\n",
    "Do initial filtering and clustering using the preprocessed region and the half day files.\n",
    "\n",
    "Note: for the purpose of timing I am running the full month, but each of these steps could run in a separate proccess."
   ]
  },
  {
   "cell_type": "code",
   "execution_count": 4,
   "id": "66bc471a-5176-4223-9b47-7c0ba124786b",
   "metadata": {
    "editable": true,
    "execution": {
     "iopub.execute_input": "2024-02-07T21:43:10.856771Z",
     "iopub.status.busy": "2024-02-07T21:43:10.856221Z",
     "iopub.status.idle": "2024-02-07T21:43:11.043647Z",
     "shell.execute_reply": "2024-02-07T21:43:11.043288Z",
     "shell.execute_reply.started": "2024-02-07T21:43:10.856724Z"
    },
    "slideshow": {
     "slide_type": ""
    },
    "tags": []
   },
   "outputs": [
    {
     "name": "stderr",
     "output_type": "stream",
     "text": [
      "2024-02-07 16:43:11,041 - FireLog - INFO - func:read_region took: 182.86 ms\n"
     ]
    }
   ],
   "source": [
    "region = preprocess.read_region(region)"
   ]
  },
  {
   "cell_type": "code",
   "execution_count": 5,
   "id": "5ed3b8b4-7330-48e4-a3ff-4ca4d56add2c",
   "metadata": {
    "editable": true,
    "execution": {
     "iopub.execute_input": "2024-02-07T21:43:11.313098Z",
     "iopub.status.busy": "2024-02-07T21:43:11.312771Z",
     "iopub.status.idle": "2024-02-07T21:55:56.758844Z",
     "shell.execute_reply": "2024-02-07T21:55:56.758312Z",
     "shell.execute_reply.started": "2024-02-07T21:43:11.313071Z"
    },
    "slideshow": {
     "slide_type": ""
    },
    "tags": []
   },
   "outputs": [
    {
     "name": "stderr",
     "output_type": "stream",
     "text": [
      "2024-02-07 16:43:11,314 - FireLog - INFO - filtering and clustering 2023-8-28 AM, VIIRS, CONUS\n",
      "2024-02-07 16:43:11,334 - FireLog - INFO - func:read_preprocessed took: 17.89 ms\n",
      "2024-02-07 16:43:11,348 - FireLog - INFO - func:read_preprocessed took: 13.20 ms\n",
      "2024-02-07 16:44:21,109 - FireLog - INFO - func:do_clustering took: 518.07 ms\n",
      "2024-02-07 16:44:21,139 - FireLog - INFO - func:preprocess_region_t took: 1.16 min\n",
      "2024-02-07 16:44:21,140 - FireLog - INFO - filtering and clustering 2023-8-28 PM, VIIRS, CONUS\n",
      "2024-02-07 16:44:21,177 - FireLog - INFO - func:read_preprocessed took: 36.71 ms\n",
      "2024-02-07 16:44:21,226 - FireLog - INFO - func:read_preprocessed took: 48.48 ms\n",
      "2024-02-07 16:45:07,423 - FireLog - INFO - func:do_clustering took: 17.78 ms\n",
      "2024-02-07 16:45:07,438 - FireLog - INFO - func:preprocess_region_t took: 46.30 sec\n",
      "2024-02-07 16:45:07,438 - FireLog - INFO - filtering and clustering 2023-8-29 AM, VIIRS, CONUS\n",
      "2024-02-07 16:45:07,457 - FireLog - INFO - func:read_preprocessed took: 18.32 ms\n",
      "2024-02-07 16:45:07,475 - FireLog - INFO - func:read_preprocessed took: 17.48 ms\n",
      "2024-02-07 16:46:10,717 - FireLog - INFO - func:do_clustering took: 23.90 ms\n",
      "2024-02-07 16:46:10,735 - FireLog - INFO - func:preprocess_region_t took: 1.05 min\n",
      "2024-02-07 16:46:10,736 - FireLog - INFO - filtering and clustering 2023-8-29 PM, VIIRS, CONUS\n",
      "2024-02-07 16:46:10,757 - FireLog - INFO - func:read_preprocessed took: 20.98 ms\n",
      "2024-02-07 16:46:10,780 - FireLog - INFO - func:read_preprocessed took: 22.85 ms\n",
      "2024-02-07 16:46:47,019 - FireLog - INFO - func:do_clustering took: 15.56 ms\n",
      "2024-02-07 16:46:47,032 - FireLog - INFO - func:preprocess_region_t took: 36.30 sec\n",
      "2024-02-07 16:46:47,032 - FireLog - INFO - filtering and clustering 2023-8-30 AM, VIIRS, CONUS\n",
      "2024-02-07 16:46:47,045 - FireLog - INFO - func:read_preprocessed took: 11.89 ms\n",
      "2024-02-07 16:46:47,057 - FireLog - INFO - func:read_preprocessed took: 11.66 ms\n",
      "2024-02-07 16:47:37,591 - FireLog - INFO - func:do_clustering took: 18.93 ms\n",
      "2024-02-07 16:47:37,606 - FireLog - INFO - func:preprocess_region_t took: 50.57 sec\n",
      "2024-02-07 16:47:37,607 - FireLog - INFO - filtering and clustering 2023-8-30 PM, VIIRS, CONUS\n",
      "2024-02-07 16:47:37,632 - FireLog - INFO - func:read_preprocessed took: 24.26 ms\n",
      "2024-02-07 16:47:37,657 - FireLog - INFO - func:read_preprocessed took: 24.79 ms\n",
      "2024-02-07 16:48:34,933 - FireLog - INFO - func:do_clustering took: 26.23 ms\n",
      "2024-02-07 16:48:34,950 - FireLog - INFO - func:preprocess_region_t took: 57.34 sec\n",
      "2024-02-07 16:48:34,950 - FireLog - INFO - filtering and clustering 2023-8-31 AM, VIIRS, CONUS\n",
      "2024-02-07 16:48:34,959 - FireLog - INFO - func:read_preprocessed took: 8.11 ms\n",
      "2024-02-07 16:48:34,967 - FireLog - INFO - func:read_preprocessed took: 8.14 ms\n",
      "2024-02-07 16:49:53,985 - FireLog - INFO - func:do_clustering took: 32.15 ms\n",
      "2024-02-07 16:49:54,007 - FireLog - INFO - func:preprocess_region_t took: 1.32 min\n",
      "2024-02-07 16:49:54,008 - FireLog - INFO - filtering and clustering 2023-8-31 PM, VIIRS, CONUS\n",
      "2024-02-07 16:49:54,035 - FireLog - INFO - func:read_preprocessed took: 27.25 ms\n",
      "2024-02-07 16:49:54,068 - FireLog - INFO - func:read_preprocessed took: 32.03 ms\n",
      "2024-02-07 16:50:32,487 - FireLog - INFO - func:do_clustering took: 11.33 ms\n",
      "2024-02-07 16:50:32,497 - FireLog - INFO - func:preprocess_region_t took: 38.49 sec\n",
      "2024-02-07 16:50:32,497 - FireLog - INFO - filtering and clustering 2023-9-1 AM, VIIRS, CONUS\n",
      "2024-02-07 16:50:32,508 - FireLog - INFO - func:read_preprocessed took: 9.93 ms\n",
      "2024-02-07 16:50:32,522 - FireLog - INFO - func:read_preprocessed took: 13.55 ms\n",
      "2024-02-07 16:51:11,334 - FireLog - INFO - func:do_clustering took: 12.28 ms\n",
      "2024-02-07 16:51:11,345 - FireLog - INFO - func:preprocess_region_t took: 38.85 sec\n",
      "2024-02-07 16:51:11,345 - FireLog - INFO - filtering and clustering 2023-9-1 PM, VIIRS, CONUS\n",
      "2024-02-07 16:51:11,379 - FireLog - INFO - func:read_preprocessed took: 33.54 ms\n",
      "2024-02-07 16:51:11,418 - FireLog - INFO - func:read_preprocessed took: 38.03 ms\n",
      "2024-02-07 16:51:30,932 - FireLog - INFO - func:do_clustering took: 7.05 ms\n",
      "2024-02-07 16:51:30,939 - FireLog - INFO - func:preprocess_region_t took: 19.59 sec\n",
      "2024-02-07 16:51:30,939 - FireLog - INFO - filtering and clustering 2023-9-2 AM, VIIRS, CONUS\n",
      "2024-02-07 16:51:30,956 - FireLog - INFO - func:read_preprocessed took: 16.35 ms\n",
      "2024-02-07 16:51:30,980 - FireLog - INFO - func:read_preprocessed took: 23.72 ms\n",
      "2024-02-07 16:52:11,482 - FireLog - INFO - func:do_clustering took: 18.52 ms\n",
      "2024-02-07 16:52:11,496 - FireLog - INFO - func:preprocess_region_t took: 40.56 sec\n",
      "2024-02-07 16:52:11,496 - FireLog - INFO - filtering and clustering 2023-9-2 PM, VIIRS, CONUS\n",
      "2024-02-07 16:52:11,541 - FireLog - INFO - func:read_preprocessed took: 43.82 ms\n",
      "2024-02-07 16:52:11,583 - FireLog - INFO - func:read_preprocessed took: 42.04 ms\n",
      "2024-02-07 16:52:31,356 - FireLog - INFO - func:do_clustering took: 7.74 ms\n",
      "2024-02-07 16:52:31,364 - FireLog - INFO - func:preprocess_region_t took: 19.87 sec\n",
      "2024-02-07 16:52:31,364 - FireLog - INFO - filtering and clustering 2023-9-3 AM, VIIRS, CONUS\n",
      "2024-02-07 16:52:31,391 - FireLog - INFO - func:read_preprocessed took: 26.07 ms\n",
      "2024-02-07 16:52:31,410 - FireLog - INFO - func:read_preprocessed took: 18.45 ms\n",
      "2024-02-07 16:53:05,472 - FireLog - INFO - func:do_clustering took: 10.89 ms\n",
      "2024-02-07 16:53:05,481 - FireLog - INFO - func:preprocess_region_t took: 34.12 sec\n",
      "2024-02-07 16:53:05,482 - FireLog - INFO - filtering and clustering 2023-9-3 PM, VIIRS, CONUS\n",
      "2024-02-07 16:53:05,510 - FireLog - INFO - func:read_preprocessed took: 27.51 ms\n",
      "2024-02-07 16:53:05,535 - FireLog - INFO - func:read_preprocessed took: 24.51 ms\n",
      "2024-02-07 16:53:23,918 - FireLog - INFO - func:do_clustering took: 5.98 ms\n",
      "2024-02-07 16:53:23,924 - FireLog - INFO - func:preprocess_region_t took: 18.44 sec\n",
      "2024-02-07 16:53:23,925 - FireLog - INFO - filtering and clustering 2023-9-4 AM, VIIRS, CONUS\n",
      "2024-02-07 16:53:23,934 - FireLog - INFO - func:read_preprocessed took: 9.13 ms\n",
      "2024-02-07 16:53:23,943 - FireLog - INFO - func:read_preprocessed took: 8.28 ms\n",
      "2024-02-07 16:53:54,685 - FireLog - INFO - func:do_clustering took: 13.14 ms\n",
      "2024-02-07 16:53:54,697 - FireLog - INFO - func:preprocess_region_t took: 30.77 sec\n",
      "2024-02-07 16:53:54,698 - FireLog - INFO - filtering and clustering 2023-9-4 PM, VIIRS, CONUS\n",
      "2024-02-07 16:53:54,737 - FireLog - INFO - func:read_preprocessed took: 39.15 ms\n",
      "2024-02-07 16:53:54,778 - FireLog - INFO - func:read_preprocessed took: 39.25 ms\n",
      "2024-02-07 16:54:20,101 - FireLog - INFO - func:do_clustering took: 9.39 ms\n",
      "2024-02-07 16:54:20,109 - FireLog - INFO - func:preprocess_region_t took: 25.41 sec\n",
      "2024-02-07 16:54:20,110 - FireLog - INFO - filtering and clustering 2023-9-5 AM, VIIRS, CONUS\n",
      "2024-02-07 16:54:20,121 - FireLog - INFO - func:read_preprocessed took: 10.54 ms\n",
      "2024-02-07 16:54:20,131 - FireLog - INFO - func:read_preprocessed took: 10.11 ms\n",
      "2024-02-07 16:54:56,228 - FireLog - INFO - func:do_clustering took: 15.57 ms\n",
      "2024-02-07 16:54:56,241 - FireLog - INFO - func:preprocess_region_t took: 36.13 sec\n",
      "2024-02-07 16:54:56,242 - FireLog - INFO - filtering and clustering 2023-9-5 PM, VIIRS, CONUS\n",
      "2024-02-07 16:54:56,291 - FireLog - INFO - func:read_preprocessed took: 48.07 ms\n",
      "2024-02-07 16:54:56,354 - FireLog - INFO - func:read_preprocessed took: 62.37 ms\n",
      "2024-02-07 16:55:23,103 - FireLog - INFO - func:do_clustering took: 9.84 ms\n",
      "2024-02-07 16:55:23,111 - FireLog - INFO - func:preprocess_region_t took: 26.87 sec\n",
      "2024-02-07 16:55:23,112 - FireLog - INFO - filtering and clustering 2023-9-6 AM, VIIRS, CONUS\n",
      "2024-02-07 16:55:23,122 - FireLog - INFO - func:read_preprocessed took: 9.48 ms\n",
      "2024-02-07 16:55:23,135 - FireLog - INFO - func:read_preprocessed took: 12.16 ms\n",
      "2024-02-07 16:55:56,747 - FireLog - INFO - func:do_clustering took: 9.96 ms\n",
      "2024-02-07 16:55:56,756 - FireLog - INFO - func:preprocess_region_t took: 33.64 sec\n"
     ]
    },
    {
     "name": "stdout",
     "output_type": "stream",
     "text": [
      "CPU times: user 12min 41s, sys: 299 ms, total: 12min 42s\n",
      "Wall time: 12min 45s\n"
     ]
    }
   ],
   "source": [
    "%%time\n",
    "for t in list_of_ts:\n",
    "    preprocess.preprocess_region_t(t, sensor=\"VIIRS\", region=region)"
   ]
  }
 ],
 "metadata": {
  "kernelspec": {
   "display_name": "Python 3 (ipykernel)",
   "language": "python",
   "name": "python3"
  },
  "language_info": {
   "codemirror_mode": {
    "name": "ipython",
    "version": 3
   },
   "file_extension": ".py",
   "mimetype": "text/x-python",
   "name": "python",
   "nbconvert_exporter": "python",
   "pygments_lexer": "ipython3",
   "version": "3.11.7"
  }
 },
 "nbformat": 4,
 "nbformat_minor": 5
}
