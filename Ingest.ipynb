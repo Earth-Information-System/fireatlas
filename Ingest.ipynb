{
 "cells": [
  {
   "cell_type": "code",
   "execution_count": 3,
   "id": "30ed1049-5466-4d04-bcef-ac0c8ffa1d6d",
   "metadata": {
    "execution": {
     "iopub.execute_input": "2024-01-24T21:43:26.577824Z",
     "iopub.status.busy": "2024-01-24T21:43:26.577537Z",
     "iopub.status.idle": "2024-01-24T21:43:26.902783Z",
     "shell.execute_reply": "2024-01-24T21:43:26.902291Z",
     "shell.execute_reply.started": "2024-01-24T21:43:26.577799Z"
    }
   },
   "outputs": [],
   "source": [
    "import preprocess"
   ]
  },
  {
   "cell_type": "code",
   "execution_count": 4,
   "id": "27a71fa5-d7cd-4f33-a962-9b09ba3e6433",
   "metadata": {
    "execution": {
     "iopub.execute_input": "2024-01-24T21:43:26.903410Z",
     "iopub.status.busy": "2024-01-24T21:43:26.903248Z",
     "iopub.status.idle": "2024-01-24T21:43:26.906007Z",
     "shell.execute_reply": "2024-01-24T21:43:26.905645Z",
     "shell.execute_reply.started": "2024-01-24T21:43:26.903397Z"
    }
   },
   "outputs": [],
   "source": [
    "tst = [2023, 9, 1, 'AM']\n",
    "ted = [2023, 9, 6, 'PM']\n",
    "region = ('CONUS', [-126.401171875,24.071240929282325,\n",
    "                    -61.36210937500001,49.40003415463647])"
   ]
  },
  {
   "cell_type": "code",
   "execution_count": 4,
   "id": "cfc02dc1-e4f3-419c-a299-e3210a6741c4",
   "metadata": {
    "execution": {
     "iopub.execute_input": "2024-01-24T17:39:41.965903Z",
     "iopub.status.busy": "2024-01-24T17:39:41.965513Z",
     "iopub.status.idle": "2024-01-24T17:39:42.243414Z",
     "shell.execute_reply": "2024-01-24T17:39:42.241568Z",
     "shell.execute_reply.started": "2024-01-24T17:39:41.965872Z"
    }
   },
   "outputs": [
    {
     "name": "stdout",
     "output_type": "stream",
     "text": [
      "\u001b[01;34m./processed\u001b[0m\n",
      "├── \u001b[00mCONUS.json\u001b[0m\n",
      "├── \u001b[01;34mNOAA20\u001b[0m\n",
      "│   ├── \u001b[00m20230906_AM.txt\u001b[0m\n",
      "│   └── \u001b[00m20230906_PM.txt\u001b[0m\n",
      "├── \u001b[01;34mSNPP\u001b[0m\n",
      "│   ├── \u001b[00m20230906_AM.txt\u001b[0m\n",
      "│   └── \u001b[00m20230906_PM.txt\u001b[0m\n",
      "└── \u001b[01;34mVIIRS\u001b[0m\n",
      "    └── \u001b[01;34mCONUS\u001b[0m\n",
      "        ├── \u001b[00m20230906_AM.txt\u001b[0m\n",
      "        └── \u001b[00m20230906_PM.txt\u001b[0m\n",
      "\n",
      "4 directories, 7 files\n"
     ]
    }
   ],
   "source": [
    "!tree ./processed"
   ]
  },
  {
   "cell_type": "markdown",
   "id": "5e54a2d4-b41b-4d53-a4ba-7a41f02799f5",
   "metadata": {},
   "source": [
    "## Once per region\n",
    "Start by preprocessing the region to get rid of static flare sources. Save that new \"swiss cheese\" shape off into a geojson file for later.\n"
   ]
  },
  {
   "cell_type": "code",
   "execution_count": 7,
   "id": "1a3c495d-66fa-458f-8afb-01e982b0709a",
   "metadata": {
    "execution": {
     "iopub.execute_input": "2024-01-24T17:36:32.331206Z",
     "iopub.status.busy": "2024-01-24T17:36:32.330687Z",
     "iopub.status.idle": "2024-01-24T17:36:32.344541Z",
     "shell.execute_reply": "2024-01-24T17:36:32.343953Z",
     "shell.execute_reply.started": "2024-01-24T17:36:32.331163Z"
    }
   },
   "outputs": [
    {
     "ename": "NameError",
     "evalue": "name 'preprocess_region' is not defined",
     "output_type": "error",
     "traceback": [
      "\u001b[0;31m---------------------------------------------------------------------------\u001b[0m",
      "\u001b[0;31mNameError\u001b[0m                                 Traceback (most recent call last)",
      "File \u001b[0;32m<timed eval>:1\u001b[0m\n",
      "\u001b[0;31mNameError\u001b[0m: name 'preprocess_region' is not defined"
     ]
    }
   ],
   "source": [
    "preprocess.preprocess_region(region)"
   ]
  },
  {
   "cell_type": "code",
   "execution_count": null,
   "id": "735b60a0-6563-41bc-b4e2-cb6a60f9cd3f",
   "metadata": {},
   "outputs": [],
   "source": [
    "!tree ./processed"
   ]
  },
  {
   "cell_type": "markdown",
   "id": "16bd857f-f57a-4fc3-9e49-2c9536c97019",
   "metadata": {},
   "source": [
    "## Once per input file\n",
    "\n",
    "Next process each NRT file into half day files. First we'll get all the times that are of interest. This could also be done by inspecting all looking at all the files that exist and seeing which have not been preprocessed yet."
   ]
  },
  {
   "cell_type": "code",
   "execution_count": 9,
   "id": "204a5501-a2d5-481d-885d-0cfd0a7d9fb7",
   "metadata": {
    "execution": {
     "iopub.execute_input": "2024-01-24T21:44:06.421768Z",
     "iopub.status.busy": "2024-01-24T21:44:06.421420Z",
     "iopub.status.idle": "2024-01-24T21:44:06.427089Z",
     "shell.execute_reply": "2024-01-24T21:44:06.426602Z",
     "shell.execute_reply.started": "2024-01-24T21:44:06.421741Z"
    }
   },
   "outputs": [
    {
     "data": {
      "text/plain": [
       "[[2023, 9, 1, 'AM'],\n",
       " [2023, 9, 2, 'AM'],\n",
       " [2023, 9, 3, 'AM'],\n",
       " [2023, 9, 4, 'AM'],\n",
       " [2023, 9, 5, 'AM'],\n",
       " [2023, 9, 6, 'AM']]"
      ]
     },
     "execution_count": 9,
     "metadata": {},
     "output_type": "execute_result"
    }
   ],
   "source": [
    "import FireTime\n",
    "\n",
    "list_of_ts = list(FireTime.t_generator(tst, ted))\n",
    "list_of_ts[::2]"
   ]
  },
  {
   "cell_type": "code",
   "execution_count": 5,
   "id": "864146bf-ee1e-4785-9106-9df1359f2aaf",
   "metadata": {
    "execution": {
     "iopub.execute_input": "2024-01-24T17:39:46.590528Z",
     "iopub.status.busy": "2024-01-24T17:39:46.590137Z",
     "iopub.status.idle": "2024-01-24T17:39:50.494412Z",
     "shell.execute_reply": "2024-01-24T17:39:50.493874Z",
     "shell.execute_reply.started": "2024-01-24T17:39:46.590494Z"
    }
   },
   "outputs": [
    {
     "name": "stderr",
     "output_type": "stream",
     "text": [
      "2024-01-24 12:39:46,594 - FireLog - INFO - preprocessing NRT file for 2023-9-1, SNPP\n",
      "2024-01-24 12:39:46,945 - FireLog - INFO - func:preprocess_NRT_file took: 351.42 ms\n",
      "2024-01-24 12:39:46,946 - FireLog - INFO - preprocessing NRT file for 2023-9-2, SNPP\n",
      "2024-01-24 12:39:47,358 - FireLog - INFO - func:preprocess_NRT_file took: 412.10 ms\n",
      "2024-01-24 12:39:47,358 - FireLog - INFO - preprocessing NRT file for 2023-9-3, SNPP\n",
      "2024-01-24 12:39:47,687 - FireLog - INFO - func:preprocess_NRT_file took: 328.48 ms\n",
      "2024-01-24 12:39:47,687 - FireLog - INFO - preprocessing NRT file for 2023-9-4, SNPP\n",
      "2024-01-24 12:39:47,969 - FireLog - INFO - func:preprocess_NRT_file took: 282.35 ms\n",
      "2024-01-24 12:39:47,970 - FireLog - INFO - preprocessing NRT file for 2023-9-5, SNPP\n",
      "2024-01-24 12:39:48,266 - FireLog - INFO - func:preprocess_NRT_file took: 295.86 ms\n",
      "2024-01-24 12:39:48,267 - FireLog - INFO - preprocessing NRT file for 2023-9-6, SNPP\n",
      "2024-01-24 12:39:48,481 - FireLog - INFO - func:preprocess_NRT_file took: 214.23 ms\n",
      "2024-01-24 12:39:48,482 - FireLog - INFO - preprocessing NRT file for 2023-9-1, NOAA20\n",
      "2024-01-24 12:39:48,848 - FireLog - INFO - func:preprocess_NRT_file took: 366.69 ms\n",
      "2024-01-24 12:39:48,849 - FireLog - INFO - preprocessing NRT file for 2023-9-2, NOAA20\n",
      "2024-01-24 12:39:49,261 - FireLog - INFO - func:preprocess_NRT_file took: 412.18 ms\n",
      "2024-01-24 12:39:49,261 - FireLog - INFO - preprocessing NRT file for 2023-9-3, NOAA20\n",
      "2024-01-24 12:39:49,561 - FireLog - INFO - func:preprocess_NRT_file took: 299.49 ms\n",
      "2024-01-24 12:39:49,561 - FireLog - INFO - preprocessing NRT file for 2023-9-4, NOAA20\n",
      "2024-01-24 12:39:49,847 - FireLog - INFO - func:preprocess_NRT_file took: 285.85 ms\n",
      "2024-01-24 12:39:49,848 - FireLog - INFO - preprocessing NRT file for 2023-9-5, NOAA20\n",
      "2024-01-24 12:39:50,168 - FireLog - INFO - func:preprocess_NRT_file took: 319.71 ms\n",
      "2024-01-24 12:39:50,168 - FireLog - INFO - preprocessing NRT file for 2023-9-6, NOAA20\n",
      "2024-01-24 12:39:50,491 - FireLog - INFO - func:preprocess_NRT_file took: 322.96 ms\n"
     ]
    },
    {
     "name": "stdout",
     "output_type": "stream",
     "text": [
      "CPU times: user 3.6 s, sys: 271 ms, total: 3.88 s\n",
      "Wall time: 3.9 s\n"
     ]
    }
   ],
   "source": [
    "%%time\n",
    "for sat in [\"SNPP\", \"NOAA20\"]:\n",
    "    for t in list_of_ts[::2]:\n",
    "        preprocess.preprocess_NRT_file(t, sat)"
   ]
  },
  {
   "cell_type": "code",
   "execution_count": 6,
   "id": "99969950-bf93-4c20-90bf-01b52b631f9e",
   "metadata": {
    "execution": {
     "iopub.execute_input": "2024-01-24T17:40:05.637159Z",
     "iopub.status.busy": "2024-01-24T17:40:05.636803Z",
     "iopub.status.idle": "2024-01-24T17:40:05.942406Z",
     "shell.execute_reply": "2024-01-24T17:40:05.939840Z",
     "shell.execute_reply.started": "2024-01-24T17:40:05.637133Z"
    },
    "scrolled": true
   },
   "outputs": [
    {
     "name": "stdout",
     "output_type": "stream",
     "text": [
      "\u001b[01;34m./processed\u001b[0m\n",
      "├── \u001b[00mCONUS.json\u001b[0m\n",
      "├── \u001b[01;34mNOAA20\u001b[0m\n",
      "│   ├── \u001b[00m20230901_AM.txt\u001b[0m\n",
      "│   ├── \u001b[00m20230901_PM.txt\u001b[0m\n",
      "│   ├── \u001b[00m20230902_AM.txt\u001b[0m\n",
      "│   ├── \u001b[00m20230902_PM.txt\u001b[0m\n",
      "│   ├── \u001b[00m20230903_AM.txt\u001b[0m\n",
      "│   ├── \u001b[00m20230903_PM.txt\u001b[0m\n",
      "│   ├── \u001b[00m20230904_AM.txt\u001b[0m\n",
      "│   ├── \u001b[00m20230904_PM.txt\u001b[0m\n",
      "│   ├── \u001b[00m20230905_AM.txt\u001b[0m\n",
      "│   ├── \u001b[00m20230905_PM.txt\u001b[0m\n",
      "│   ├── \u001b[00m20230906_AM.txt\u001b[0m\n",
      "│   └── \u001b[00m20230906_PM.txt\u001b[0m\n",
      "├── \u001b[01;34mSNPP\u001b[0m\n",
      "│   ├── \u001b[00m20230901_AM.txt\u001b[0m\n",
      "│   ├── \u001b[00m20230901_PM.txt\u001b[0m\n",
      "│   ├── \u001b[00m20230902_AM.txt\u001b[0m\n",
      "│   ├── \u001b[00m20230902_PM.txt\u001b[0m\n",
      "│   ├── \u001b[00m20230903_AM.txt\u001b[0m\n",
      "│   ├── \u001b[00m20230903_PM.txt\u001b[0m\n",
      "│   ├── \u001b[00m20230904_AM.txt\u001b[0m\n",
      "│   ├── \u001b[00m20230904_PM.txt\u001b[0m\n",
      "│   ├── \u001b[00m20230905_AM.txt\u001b[0m\n",
      "│   ├── \u001b[00m20230905_PM.txt\u001b[0m\n",
      "│   ├── \u001b[00m20230906_AM.txt\u001b[0m\n",
      "│   └── \u001b[00m20230906_PM.txt\u001b[0m\n",
      "└── \u001b[01;34mVIIRS\u001b[0m\n",
      "    └── \u001b[01;34mCONUS\u001b[0m\n",
      "        ├── \u001b[00m20230906_AM.txt\u001b[0m\n",
      "        └── \u001b[00m20230906_PM.txt\u001b[0m\n",
      "\n",
      "4 directories, 27 files\n"
     ]
    }
   ],
   "source": [
    "!tree ./processed"
   ]
  },
  {
   "cell_type": "markdown",
   "id": "73f9065d-3519-4673-98e5-3afd0e29ab80",
   "metadata": {},
   "source": [
    "## Once per region and t\n",
    "\n",
    "Do initial filtering and clustering using the preprocessed region and the half day files.\n",
    "\n",
    "Note: for the purpose of timing I am running the full month, but each of these steps could run in a separate proccess."
   ]
  },
  {
   "cell_type": "code",
   "execution_count": 8,
   "id": "66bc471a-5176-4223-9b47-7c0ba124786b",
   "metadata": {
    "editable": true,
    "execution": {
     "iopub.execute_input": "2024-01-24T17:40:22.813843Z",
     "iopub.status.busy": "2024-01-24T17:40:22.812597Z",
     "iopub.status.idle": "2024-01-24T17:40:22.996355Z",
     "shell.execute_reply": "2024-01-24T17:40:22.995917Z",
     "shell.execute_reply.started": "2024-01-24T17:40:22.813791Z"
    },
    "slideshow": {
     "slide_type": ""
    },
    "tags": []
   },
   "outputs": [
    {
     "name": "stderr",
     "output_type": "stream",
     "text": [
      "2024-01-24 12:40:22,993 - FireLog - INFO - func:read_region took: 177.59 ms\n"
     ]
    },
    {
     "name": "stdout",
     "output_type": "stream",
     "text": [
      "CPU times: user 153 ms, sys: 27 ms, total: 180 ms\n",
      "Wall time: 178 ms\n"
     ]
    }
   ],
   "source": [
    "region = preprocess.read_region(region)"
   ]
  },
  {
   "cell_type": "code",
   "execution_count": 10,
   "id": "5ed3b8b4-7330-48e4-a3ff-4ca4d56add2c",
   "metadata": {
    "editable": true,
    "execution": {
     "iopub.execute_input": "2024-01-24T17:40:38.391572Z",
     "iopub.status.busy": "2024-01-24T17:40:38.391405Z",
     "iopub.status.idle": "2024-01-24T17:46:12.720976Z",
     "shell.execute_reply": "2024-01-24T17:46:12.720343Z",
     "shell.execute_reply.started": "2024-01-24T17:40:38.391560Z"
    },
    "slideshow": {
     "slide_type": ""
    },
    "tags": []
   },
   "outputs": [
    {
     "name": "stderr",
     "output_type": "stream",
     "text": [
      "2024-01-24 12:40:38,392 - FireLog - INFO - filtering and clustering 2023-9-1 AM, VIIRS, CONUS\n",
      "2024-01-24 12:40:38,403 - FireLog - INFO - func:read_preprocessed took: 9.44 ms\n",
      "2024-01-24 12:40:38,414 - FireLog - INFO - func:read_preprocessed took: 10.21 ms\n",
      "2024-01-24 12:41:12,223 - FireLog - INFO - func:preprocess_region_t took: 33.83 sec\n",
      "2024-01-24 12:41:12,224 - FireLog - INFO - filtering and clustering 2023-9-1 PM, VIIRS, CONUS\n",
      "2024-01-24 12:41:12,268 - FireLog - INFO - func:read_preprocessed took: 44.26 ms\n",
      "2024-01-24 12:41:12,304 - FireLog - INFO - func:read_preprocessed took: 34.67 ms\n",
      "2024-01-24 12:41:29,577 - FireLog - INFO - func:preprocess_region_t took: 17.35 sec\n",
      "2024-01-24 12:41:29,577 - FireLog - INFO - filtering and clustering 2023-9-2 AM, VIIRS, CONUS\n",
      "2024-01-24 12:41:29,596 - FireLog - INFO - func:read_preprocessed took: 18.18 ms\n",
      "2024-01-24 12:41:29,612 - FireLog - INFO - func:read_preprocessed took: 16.10 ms\n",
      "2024-01-24 12:42:09,091 - FireLog - INFO - func:preprocess_region_t took: 39.51 sec\n",
      "2024-01-24 12:42:09,091 - FireLog - INFO - filtering and clustering 2023-9-2 PM, VIIRS, CONUS\n",
      "2024-01-24 12:42:09,126 - FireLog - INFO - func:read_preprocessed took: 33.81 ms\n",
      "2024-01-24 12:42:09,161 - FireLog - INFO - func:read_preprocessed took: 34.27 ms\n",
      "2024-01-24 12:42:24,531 - FireLog - INFO - func:preprocess_region_t took: 15.44 sec\n",
      "2024-01-24 12:42:24,532 - FireLog - INFO - filtering and clustering 2023-9-3 AM, VIIRS, CONUS\n",
      "2024-01-24 12:42:24,547 - FireLog - INFO - func:read_preprocessed took: 14.67 ms\n",
      "2024-01-24 12:42:24,561 - FireLog - INFO - func:read_preprocessed took: 13.39 ms\n",
      "2024-01-24 12:42:59,961 - FireLog - INFO - func:preprocess_region_t took: 35.43 sec\n",
      "2024-01-24 12:42:59,962 - FireLog - INFO - filtering and clustering 2023-9-3 PM, VIIRS, CONUS\n",
      "2024-01-24 12:42:59,997 - FireLog - INFO - func:read_preprocessed took: 34.54 ms\n",
      "2024-01-24 12:43:00,030 - FireLog - INFO - func:read_preprocessed took: 33.14 ms\n",
      "2024-01-24 12:43:16,899 - FireLog - INFO - func:preprocess_region_t took: 16.94 sec\n",
      "2024-01-24 12:43:16,899 - FireLog - INFO - filtering and clustering 2023-9-4 AM, VIIRS, CONUS\n",
      "2024-01-24 12:43:16,909 - FireLog - INFO - func:read_preprocessed took: 9.07 ms\n",
      "2024-01-24 12:43:16,918 - FireLog - INFO - func:read_preprocessed took: 8.29 ms\n",
      "2024-01-24 12:43:42,677 - FireLog - INFO - func:preprocess_region_t took: 25.78 sec\n",
      "2024-01-24 12:43:42,678 - FireLog - INFO - filtering and clustering 2023-9-4 PM, VIIRS, CONUS\n",
      "2024-01-24 12:43:42,704 - FireLog - INFO - func:read_preprocessed took: 25.73 ms\n",
      "2024-01-24 12:43:42,730 - FireLog - INFO - func:read_preprocessed took: 25.70 ms\n",
      "2024-01-24 12:44:08,451 - FireLog - INFO - func:preprocess_region_t took: 25.77 sec\n",
      "2024-01-24 12:44:08,452 - FireLog - INFO - filtering and clustering 2023-9-5 AM, VIIRS, CONUS\n",
      "2024-01-24 12:44:08,464 - FireLog - INFO - func:read_preprocessed took: 11.96 ms\n",
      "2024-01-24 12:44:08,476 - FireLog - INFO - func:read_preprocessed took: 11.60 ms\n",
      "2024-01-24 12:44:39,520 - FireLog - INFO - func:preprocess_region_t took: 31.07 sec\n",
      "2024-01-24 12:44:39,520 - FireLog - INFO - filtering and clustering 2023-9-5 PM, VIIRS, CONUS\n",
      "2024-01-24 12:44:39,550 - FireLog - INFO - func:read_preprocessed took: 29.43 ms\n",
      "2024-01-24 12:44:39,582 - FireLog - INFO - func:read_preprocessed took: 31.56 ms\n",
      "2024-01-24 12:45:04,947 - FireLog - INFO - func:preprocess_region_t took: 25.43 sec\n",
      "2024-01-24 12:45:04,947 - FireLog - INFO - filtering and clustering 2023-9-6 AM, VIIRS, CONUS\n",
      "2024-01-24 12:45:04,961 - FireLog - INFO - func:read_preprocessed took: 13.00 ms\n",
      "2024-01-24 12:45:04,978 - FireLog - INFO - func:read_preprocessed took: 16.31 ms\n",
      "2024-01-24 12:45:37,906 - FireLog - INFO - func:preprocess_region_t took: 32.96 sec\n",
      "2024-01-24 12:45:37,906 - FireLog - INFO - filtering and clustering 2023-9-6 PM, VIIRS, CONUS\n",
      "2024-01-24 12:45:37,925 - FireLog - INFO - func:read_preprocessed took: 18.42 ms\n",
      "2024-01-24 12:45:37,955 - FireLog - INFO - func:read_preprocessed took: 28.98 ms\n",
      "2024-01-24 12:46:12,717 - FireLog - INFO - func:preprocess_region_t took: 34.81 sec\n"
     ]
    },
    {
     "name": "stdout",
     "output_type": "stream",
     "text": [
      "CPU times: user 5min 33s, sys: 88.2 ms, total: 5min 34s\n",
      "Wall time: 5min 34s\n"
     ]
    }
   ],
   "source": [
    "%%time\n",
    "for t in list_of_ts:\n",
    "    preprocess.preprocess_region_t(t, sat=\"VIIRS\", region=region)"
   ]
  },
  {
   "cell_type": "code",
   "execution_count": 11,
   "id": "3a464091-fc16-47a0-bde4-775c27efd844",
   "metadata": {
    "execution": {
     "iopub.execute_input": "2024-01-24T17:48:42.097856Z",
     "iopub.status.busy": "2024-01-24T17:48:42.096922Z",
     "iopub.status.idle": "2024-01-24T17:48:42.383265Z",
     "shell.execute_reply": "2024-01-24T17:48:42.382170Z",
     "shell.execute_reply.started": "2024-01-24T17:48:42.097761Z"
    },
    "scrolled": true
   },
   "outputs": [
    {
     "name": "stdout",
     "output_type": "stream",
     "text": [
      "\u001b[01;34m./processed\u001b[0m\n",
      "├── \u001b[00mCONUS.json\u001b[0m\n",
      "├── \u001b[01;34mNOAA20\u001b[0m\n",
      "│   ├── \u001b[00m20230901_AM.txt\u001b[0m\n",
      "│   ├── \u001b[00m20230901_PM.txt\u001b[0m\n",
      "│   ├── \u001b[00m20230902_AM.txt\u001b[0m\n",
      "│   ├── \u001b[00m20230902_PM.txt\u001b[0m\n",
      "│   ├── \u001b[00m20230903_AM.txt\u001b[0m\n",
      "│   ├── \u001b[00m20230903_PM.txt\u001b[0m\n",
      "│   ├── \u001b[00m20230904_AM.txt\u001b[0m\n",
      "│   ├── \u001b[00m20230904_PM.txt\u001b[0m\n",
      "│   ├── \u001b[00m20230905_AM.txt\u001b[0m\n",
      "│   ├── \u001b[00m20230905_PM.txt\u001b[0m\n",
      "│   ├── \u001b[00m20230906_AM.txt\u001b[0m\n",
      "│   └── \u001b[00m20230906_PM.txt\u001b[0m\n",
      "├── \u001b[01;34mSNPP\u001b[0m\n",
      "│   ├── \u001b[00m20230901_AM.txt\u001b[0m\n",
      "│   ├── \u001b[00m20230901_PM.txt\u001b[0m\n",
      "│   ├── \u001b[00m20230902_AM.txt\u001b[0m\n",
      "│   ├── \u001b[00m20230902_PM.txt\u001b[0m\n",
      "│   ├── \u001b[00m20230903_AM.txt\u001b[0m\n",
      "│   ├── \u001b[00m20230903_PM.txt\u001b[0m\n",
      "│   ├── \u001b[00m20230904_AM.txt\u001b[0m\n",
      "│   ├── \u001b[00m20230904_PM.txt\u001b[0m\n",
      "│   ├── \u001b[00m20230905_AM.txt\u001b[0m\n",
      "│   ├── \u001b[00m20230905_PM.txt\u001b[0m\n",
      "│   ├── \u001b[00m20230906_AM.txt\u001b[0m\n",
      "│   └── \u001b[00m20230906_PM.txt\u001b[0m\n",
      "└── \u001b[01;34mVIIRS\u001b[0m\n",
      "    └── \u001b[01;34mCONUS\u001b[0m\n",
      "        ├── \u001b[00m20230901_AM.txt\u001b[0m\n",
      "        ├── \u001b[00m20230901_PM.txt\u001b[0m\n",
      "        ├── \u001b[00m20230902_AM.txt\u001b[0m\n",
      "        ├── \u001b[00m20230902_PM.txt\u001b[0m\n",
      "        ├── \u001b[00m20230903_AM.txt\u001b[0m\n",
      "        ├── \u001b[00m20230903_PM.txt\u001b[0m\n",
      "        ├── \u001b[00m20230904_AM.txt\u001b[0m\n",
      "        ├── \u001b[00m20230904_PM.txt\u001b[0m\n",
      "        ├── \u001b[00m20230905_AM.txt\u001b[0m\n",
      "        ├── \u001b[00m20230905_PM.txt\u001b[0m\n",
      "        ├── \u001b[00m20230906_AM.txt\u001b[0m\n",
      "        └── \u001b[00m20230906_PM.txt\u001b[0m\n",
      "\n",
      "4 directories, 37 files\n"
     ]
    }
   ],
   "source": [
    "!tree ./processed"
   ]
  },
  {
   "cell_type": "markdown",
   "id": "091354d9-56fa-47d1-93ca-2c951b2dc385",
   "metadata": {},
   "source": [
    "## Use FireRun test"
   ]
  },
  {
   "cell_type": "code",
   "execution_count": 10,
   "id": "df80d40f-97c9-4d4b-9308-863f34251a57",
   "metadata": {
    "execution": {
     "iopub.execute_input": "2024-01-24T21:46:47.059228Z",
     "iopub.status.busy": "2024-01-24T21:46:47.059039Z",
     "iopub.status.idle": "2024-01-24T21:47:03.532330Z",
     "shell.execute_reply": "2024-01-24T21:47:03.531692Z",
     "shell.execute_reply.started": "2024-01-24T21:46:47.059213Z"
    },
    "scrolled": true
   },
   "outputs": [
    {
     "name": "stderr",
     "output_type": "stream",
     "text": [
      "2024-01-24 16:46:47,061 - FireLog - INFO - STARTING RUN FOR CONUS\n",
      "2024-01-24 16:46:47,239 - FireLog - INFO - func:read_region took: 177.43 ms\n",
      "2024-01-24 16:46:47,240 - FireLog - INFO - --------------------\n",
      "2024-01-24 16:46:47,240 - FireLog - INFO - Fire tracking at [2023, 9, 1, 'AM']\n",
      "2024-01-24 16:46:47,243 - FireLog - INFO - func:read_preprocessed took: 2.34 ms\n",
      "2024-01-24 16:46:48,584 - FireLog - INFO - func:Fire_expand_rtree took: 1.34 sec\n",
      "2024-01-24 16:46:48,751 - FireLog - INFO - func:Fire_merge_rtree took: 166.07 ms\n",
      "2024-01-24 16:46:48,758 - FireLog - INFO - func:invalidate_statfires took: 5.67 ms\n",
      "2024-01-24 16:46:48,758 - FireLog - INFO - fids_expand: 0\n",
      "2024-01-24 16:46:48,759 - FireLog - INFO - fids_new: 529\n",
      "2024-01-24 16:46:48,759 - FireLog - INFO - fids_merged: 40\n",
      "2024-01-24 16:46:48,759 - FireLog - INFO - fids_invalid: 51\n",
      "2024-01-24 16:46:48,760 - FireLog - INFO - --------------------\n",
      "2024-01-24 16:46:48,760 - FireLog - INFO - Fire tracking at [2023, 9, 1, 'PM']\n",
      "2024-01-24 16:46:48,763 - FireLog - INFO - func:read_preprocessed took: 2.29 ms\n",
      "2024-01-24 16:46:49,527 - FireLog - INFO - func:Fire_expand_rtree took: 763.25 ms\n",
      "2024-01-24 16:46:49,610 - FireLog - INFO - func:Fire_merge_rtree took: 81.02 ms\n",
      "2024-01-24 16:46:49,619 - FireLog - INFO - func:invalidate_statfires took: 8.06 ms\n",
      "2024-01-24 16:46:49,619 - FireLog - INFO - fids_expand: 64\n",
      "2024-01-24 16:46:49,620 - FireLog - INFO - fids_new: 254\n",
      "2024-01-24 16:46:49,620 - FireLog - INFO - fids_merged: 9\n",
      "2024-01-24 16:46:49,620 - FireLog - INFO - fids_invalid: 10\n",
      "2024-01-24 16:46:49,621 - FireLog - INFO - --------------------\n",
      "2024-01-24 16:46:49,621 - FireLog - INFO - Fire tracking at [2023, 9, 2, 'AM']\n",
      "2024-01-24 16:46:49,627 - FireLog - INFO - func:read_preprocessed took: 3.27 ms\n",
      "2024-01-24 16:46:50,978 - FireLog - INFO - func:Fire_expand_rtree took: 1.35 sec\n",
      "2024-01-24 16:46:51,124 - FireLog - INFO - func:Fire_merge_rtree took: 143.96 ms\n",
      "2024-01-24 16:46:51,135 - FireLog - INFO - func:invalidate_statfires took: 10.41 ms\n",
      "2024-01-24 16:46:51,136 - FireLog - INFO - fids_expand: 251\n",
      "2024-01-24 16:46:51,136 - FireLog - INFO - fids_new: 201\n",
      "2024-01-24 16:46:51,136 - FireLog - INFO - fids_merged: 18\n",
      "2024-01-24 16:46:51,137 - FireLog - INFO - fids_invalid: 34\n",
      "2024-01-24 16:46:51,137 - FireLog - INFO - --------------------\n",
      "2024-01-24 16:46:51,138 - FireLog - INFO - Fire tracking at [2023, 9, 2, 'PM']\n",
      "2024-01-24 16:46:51,143 - FireLog - INFO - func:read_preprocessed took: 2.27 ms\n",
      "2024-01-24 16:46:51,860 - FireLog - INFO - func:Fire_expand_rtree took: 715.79 ms\n",
      "2024-01-24 16:46:51,973 - FireLog - INFO - func:Fire_merge_rtree took: 110.18 ms\n",
      "2024-01-24 16:46:51,987 - FireLog - INFO - func:invalidate_statfires took: 13.74 ms\n",
      "2024-01-24 16:46:51,988 - FireLog - INFO - fids_expand: 69\n",
      "2024-01-24 16:46:51,988 - FireLog - INFO - fids_new: 216\n",
      "2024-01-24 16:46:51,989 - FireLog - INFO - fids_merged: 9\n",
      "2024-01-24 16:46:51,989 - FireLog - INFO - fids_invalid: 10\n",
      "2024-01-24 16:46:51,989 - FireLog - INFO - --------------------\n",
      "2024-01-24 16:46:51,990 - FireLog - INFO - Fire tracking at [2023, 9, 3, 'AM']\n",
      "2024-01-24 16:46:51,994 - FireLog - INFO - func:read_preprocessed took: 2.04 ms\n",
      "2024-01-24 16:46:53,318 - FireLog - INFO - func:Fire_expand_rtree took: 1.32 sec\n",
      "2024-01-24 16:46:53,459 - FireLog - INFO - func:Fire_merge_rtree took: 138.00 ms\n",
      "2024-01-24 16:46:53,474 - FireLog - INFO - func:invalidate_statfires took: 14.30 ms\n",
      "2024-01-24 16:46:53,475 - FireLog - INFO - fids_expand: 272\n",
      "2024-01-24 16:46:53,475 - FireLog - INFO - fids_new: 165\n",
      "2024-01-24 16:46:53,475 - FireLog - INFO - fids_merged: 11\n",
      "2024-01-24 16:46:53,476 - FireLog - INFO - fids_invalid: 43\n",
      "2024-01-24 16:46:53,476 - FireLog - INFO - --------------------\n",
      "2024-01-24 16:46:53,476 - FireLog - INFO - Fire tracking at [2023, 9, 3, 'PM']\n",
      "2024-01-24 16:46:53,481 - FireLog - INFO - func:read_preprocessed took: 1.97 ms\n",
      "2024-01-24 16:46:54,226 - FireLog - INFO - func:Fire_expand_rtree took: 745.08 ms\n",
      "2024-01-24 16:46:54,367 - FireLog - INFO - func:Fire_merge_rtree took: 137.41 ms\n",
      "2024-01-24 16:46:54,385 - FireLog - INFO - func:invalidate_statfires took: 16.95 ms\n",
      "2024-01-24 16:46:54,385 - FireLog - INFO - fids_expand: 62\n",
      "2024-01-24 16:46:54,386 - FireLog - INFO - fids_new: 217\n",
      "2024-01-24 16:46:54,386 - FireLog - INFO - fids_merged: 7\n",
      "2024-01-24 16:46:54,386 - FireLog - INFO - fids_invalid: 11\n",
      "2024-01-24 16:46:54,387 - FireLog - INFO - --------------------\n",
      "2024-01-24 16:46:54,387 - FireLog - INFO - Fire tracking at [2023, 9, 4, 'AM']\n",
      "2024-01-24 16:46:54,392 - FireLog - INFO - func:read_preprocessed took: 1.86 ms\n",
      "2024-01-24 16:46:55,572 - FireLog - INFO - func:Fire_expand_rtree took: 1.18 sec\n",
      "2024-01-24 16:46:55,731 - FireLog - INFO - func:Fire_merge_rtree took: 153.84 ms\n",
      "2024-01-24 16:46:55,749 - FireLog - INFO - func:invalidate_statfires took: 17.92 ms\n",
      "2024-01-24 16:46:55,750 - FireLog - INFO - fids_expand: 249\n",
      "2024-01-24 16:46:55,750 - FireLog - INFO - fids_new: 110\n",
      "2024-01-24 16:46:55,751 - FireLog - INFO - fids_merged: 4\n",
      "2024-01-24 16:46:55,751 - FireLog - INFO - fids_invalid: 41\n",
      "2024-01-24 16:46:55,752 - FireLog - INFO - --------------------\n",
      "2024-01-24 16:46:55,752 - FireLog - INFO - Fire tracking at [2023, 9, 4, 'PM']\n",
      "2024-01-24 16:46:55,758 - FireLog - INFO - func:read_preprocessed took: 3.25 ms\n",
      "2024-01-24 16:46:56,891 - FireLog - INFO - func:Fire_expand_rtree took: 1.13 sec\n",
      "2024-01-24 16:46:57,079 - FireLog - INFO - func:Fire_merge_rtree took: 184.02 ms\n",
      "2024-01-24 16:46:57,101 - FireLog - INFO - func:invalidate_statfires took: 20.78 ms\n",
      "2024-01-24 16:46:57,101 - FireLog - INFO - fids_expand: 83\n",
      "2024-01-24 16:46:57,101 - FireLog - INFO - fids_new: 280\n",
      "2024-01-24 16:46:57,102 - FireLog - INFO - fids_merged: 14\n",
      "2024-01-24 16:46:57,102 - FireLog - INFO - fids_invalid: 17\n",
      "2024-01-24 16:46:57,103 - FireLog - INFO - --------------------\n",
      "2024-01-24 16:46:57,103 - FireLog - INFO - Fire tracking at [2023, 9, 5, 'AM']\n",
      "2024-01-24 16:46:57,109 - FireLog - INFO - func:read_preprocessed took: 2.20 ms\n",
      "2024-01-24 16:46:58,400 - FireLog - INFO - func:Fire_expand_rtree took: 1.29 sec\n",
      "2024-01-24 16:46:58,596 - FireLog - INFO - func:Fire_merge_rtree took: 191.32 ms\n",
      "2024-01-24 16:46:58,620 - FireLog - INFO - func:invalidate_statfires took: 23.14 ms\n",
      "2024-01-24 16:46:58,621 - FireLog - INFO - fids_expand: 252\n",
      "2024-01-24 16:46:58,621 - FireLog - INFO - fids_new: 127\n",
      "2024-01-24 16:46:58,622 - FireLog - INFO - fids_merged: 5\n",
      "2024-01-24 16:46:58,622 - FireLog - INFO - fids_invalid: 48\n",
      "2024-01-24 16:46:58,623 - FireLog - INFO - --------------------\n",
      "2024-01-24 16:46:58,623 - FireLog - INFO - Fire tracking at [2023, 9, 5, 'PM']\n",
      "2024-01-24 16:46:58,630 - FireLog - INFO - func:read_preprocessed took: 2.01 ms\n",
      "2024-01-24 16:46:59,772 - FireLog - INFO - func:Fire_expand_rtree took: 1.14 sec\n",
      "2024-01-24 16:46:59,984 - FireLog - INFO - func:Fire_merge_rtree took: 206.39 ms\n",
      "2024-01-24 16:47:00,010 - FireLog - INFO - func:invalidate_statfires took: 26.16 ms\n",
      "2024-01-24 16:47:00,011 - FireLog - INFO - fids_expand: 115\n",
      "2024-01-24 16:47:00,011 - FireLog - INFO - fids_new: 298\n",
      "2024-01-24 16:47:00,011 - FireLog - INFO - fids_merged: 10\n",
      "2024-01-24 16:47:00,012 - FireLog - INFO - fids_invalid: 17\n",
      "2024-01-24 16:47:00,012 - FireLog - INFO - --------------------\n",
      "2024-01-24 16:47:00,013 - FireLog - INFO - Fire tracking at [2023, 9, 6, 'AM']\n",
      "2024-01-24 16:47:00,019 - FireLog - INFO - func:read_preprocessed took: 1.77 ms\n",
      "2024-01-24 16:47:01,310 - FireLog - INFO - func:Fire_expand_rtree took: 1.29 sec\n",
      "2024-01-24 16:47:01,627 - FireLog - INFO - func:Fire_merge_rtree took: 311.21 ms\n",
      "2024-01-24 16:47:01,655 - FireLog - INFO - func:invalidate_statfires took: 27.34 ms\n",
      "2024-01-24 16:47:01,656 - FireLog - INFO - fids_expand: 272\n",
      "2024-01-24 16:47:01,656 - FireLog - INFO - fids_new: 119\n",
      "2024-01-24 16:47:01,656 - FireLog - INFO - fids_merged: 6\n",
      "2024-01-24 16:47:01,657 - FireLog - INFO - fids_invalid: 53\n",
      "2024-01-24 16:47:01,657 - FireLog - INFO - --------------------\n",
      "2024-01-24 16:47:01,657 - FireLog - INFO - Fire tracking at [2023, 9, 6, 'PM']\n",
      "2024-01-24 16:47:01,670 - FireLog - INFO - func:read_preprocessed took: 3.23 ms\n",
      "2024-01-24 16:47:03,113 - FireLog - INFO - func:Fire_expand_rtree took: 1.44 sec\n",
      "2024-01-24 16:47:03,497 - FireLog - INFO - func:Fire_merge_rtree took: 377.95 ms\n",
      "2024-01-24 16:47:03,526 - FireLog - INFO - func:invalidate_statfires took: 27.90 ms\n",
      "2024-01-24 16:47:03,527 - FireLog - INFO - fids_expand: 151\n",
      "2024-01-24 16:47:03,527 - FireLog - INFO - fids_new: 325\n",
      "2024-01-24 16:47:03,527 - FireLog - INFO - fids_merged: 14\n",
      "2024-01-24 16:47:03,528 - FireLog - INFO - fids_invalid: 19\n",
      "2024-01-24 16:47:03,528 - FireLog - INFO - func:Fire_Forward took: 16.29 sec\n",
      "2024-01-24 16:47:03,529 - FireLog - INFO - func:CONUSrunNRT took: 16.47 sec\n"
     ]
    }
   ],
   "source": [
    "from FireRun import CONUSrunNRT\n",
    "\n",
    "allfires = CONUSrunNRT()"
   ]
  },
  {
   "cell_type": "markdown",
   "id": "01ab5572-6511-4b87-9a69-7db28cb72f36",
   "metadata": {
    "execution": {
     "iopub.execute_input": "2024-01-24T22:27:41.929188Z",
     "iopub.status.busy": "2024-01-24T22:27:41.928952Z",
     "iopub.status.idle": "2024-01-24T22:27:41.932259Z",
     "shell.execute_reply": "2024-01-24T22:27:41.931921Z",
     "shell.execute_reply.started": "2024-01-24T22:27:41.929171Z"
    }
   },
   "source": [
    "From the logs that Eli shared we expect that for [2023, 9, 6, 'AM'] we should have:\n",
    "\n",
    "```python\n",
    "actual_fids_expand = 260\n",
    "actual_fids_new = 131\n",
    "actual_fids_merged = 6\n",
    "actual_fids_invalid = 44\n",
    "```"
   ]
  },
  {
   "cell_type": "code",
   "execution_count": 11,
   "id": "1871d359-1c2c-4ca1-aeb3-43c7d9d52268",
   "metadata": {
    "execution": {
     "iopub.execute_input": "2024-01-24T21:47:16.825065Z",
     "iopub.status.busy": "2024-01-24T21:47:16.824691Z",
     "iopub.status.idle": "2024-01-24T21:47:16.831361Z",
     "shell.execute_reply": "2024-01-24T21:47:16.830405Z",
     "shell.execute_reply.started": "2024-01-24T21:47:16.825036Z"
    }
   },
   "outputs": [
    {
     "data": {
      "text/plain": [
       "<Allfires at t=[2023, 9, 6, 'PM'] with n_fires=2841>"
      ]
     },
     "execution_count": 11,
     "metadata": {},
     "output_type": "execute_result"
    }
   ],
   "source": [
    "allfires"
   ]
  },
  {
   "cell_type": "markdown",
   "id": "a84a8656-22c8-4575-bf3b-1063ed7212b0",
   "metadata": {},
   "source": [
    "Find a big fire"
   ]
  },
  {
   "cell_type": "code",
   "execution_count": 35,
   "id": "feac5d89-1336-4657-8e41-ee15fb8e320c",
   "metadata": {
    "execution": {
     "iopub.execute_input": "2024-01-24T22:26:52.060281Z",
     "iopub.status.busy": "2024-01-24T22:26:52.060127Z",
     "iopub.status.idle": "2024-01-24T22:26:52.068180Z",
     "shell.execute_reply": "2024-01-24T22:26:52.067514Z",
     "shell.execute_reply.started": "2024-01-24T22:26:52.060270Z"
    }
   },
   "outputs": [
    {
     "data": {
      "text/plain": [
       "{58: 126, 102: 136, 103: 128, 549: 122, 665: 230, 890: 103}"
      ]
     },
     "execution_count": 35,
     "metadata": {},
     "output_type": "execute_result"
    }
   ],
   "source": [
    "{fid: fire.n_pixels for fid, fire in allfires.fires.items() if fire.n_pixels > 100}"
   ]
  },
  {
   "cell_type": "code",
   "execution_count": 36,
   "id": "335f709f-cae5-49b3-92e2-fba3822a13d0",
   "metadata": {
    "editable": true,
    "execution": {
     "iopub.execute_input": "2024-01-24T22:27:07.767760Z",
     "iopub.status.busy": "2024-01-24T22:27:07.767357Z",
     "iopub.status.idle": "2024-01-24T22:27:07.781940Z",
     "shell.execute_reply": "2024-01-24T22:27:07.781443Z",
     "shell.execute_reply.started": "2024-01-24T22:27:07.767730Z"
    },
    "slideshow": {
     "slide_type": ""
    },
    "tags": []
   },
   "outputs": [
    {
     "data": {
      "text/html": [
       "<div>\n",
       "<style scoped>\n",
       "    .dataframe tbody tr th:only-of-type {\n",
       "        vertical-align: middle;\n",
       "    }\n",
       "\n",
       "    .dataframe tbody tr th {\n",
       "        vertical-align: top;\n",
       "    }\n",
       "\n",
       "    .dataframe thead th {\n",
       "        text-align: right;\n",
       "    }\n",
       "</style>\n",
       "<table border=\"1\" class=\"dataframe\">\n",
       "  <thead>\n",
       "    <tr style=\"text-align: right;\">\n",
       "      <th></th>\n",
       "      <th>Lat</th>\n",
       "      <th>Lon</th>\n",
       "      <th>FRP</th>\n",
       "      <th>Sat</th>\n",
       "      <th>DT</th>\n",
       "      <th>DS</th>\n",
       "      <th>YYYYMMDD_HHMM</th>\n",
       "      <th>ampm</th>\n",
       "      <th>x</th>\n",
       "      <th>y</th>\n",
       "      <th>initial_cid</th>\n",
       "      <th>origin</th>\n",
       "      <th>new_at</th>\n",
       "    </tr>\n",
       "  </thead>\n",
       "  <tbody>\n",
       "    <tr>\n",
       "      <th>0</th>\n",
       "      <td>30.85326</td>\n",
       "      <td>-95.63076</td>\n",
       "      <td>99.37</td>\n",
       "      <td>SNPP</td>\n",
       "      <td>0.72</td>\n",
       "      <td>0.63</td>\n",
       "      <td>2023-09-01 20:25:00</td>\n",
       "      <td>PM</td>\n",
       "      <td>420085.493236</td>\n",
       "      <td>-1.558444e+06</td>\n",
       "      <td>182</td>\n",
       "      <td>-1</td>\n",
       "      <td>2023-09-01 12:00:00</td>\n",
       "    </tr>\n",
       "    <tr>\n",
       "      <th>1</th>\n",
       "      <td>30.85356</td>\n",
       "      <td>-95.62389</td>\n",
       "      <td>99.37</td>\n",
       "      <td>SNPP</td>\n",
       "      <td>0.72</td>\n",
       "      <td>0.63</td>\n",
       "      <td>2023-09-01 20:25:00</td>\n",
       "      <td>PM</td>\n",
       "      <td>420743.824203</td>\n",
       "      <td>-1.558378e+06</td>\n",
       "      <td>182</td>\n",
       "      <td>-1</td>\n",
       "      <td>2023-09-01 12:00:00</td>\n",
       "    </tr>\n",
       "    <tr>\n",
       "      <th>2</th>\n",
       "      <td>30.85940</td>\n",
       "      <td>-95.62579</td>\n",
       "      <td>12.64</td>\n",
       "      <td>NOAA20</td>\n",
       "      <td>0.37</td>\n",
       "      <td>0.41</td>\n",
       "      <td>2023-09-01 19:34:00</td>\n",
       "      <td>PM</td>\n",
       "      <td>420533.068390</td>\n",
       "      <td>-1.557743e+06</td>\n",
       "      <td>182</td>\n",
       "      <td>-1</td>\n",
       "      <td>2023-09-01 12:00:00</td>\n",
       "    </tr>\n",
       "    <tr>\n",
       "      <th>3</th>\n",
       "      <td>30.84622</td>\n",
       "      <td>-95.63727</td>\n",
       "      <td>17.36</td>\n",
       "      <td>SNPP</td>\n",
       "      <td>0.72</td>\n",
       "      <td>0.63</td>\n",
       "      <td>2023-09-01 20:25:00</td>\n",
       "      <td>PM</td>\n",
       "      <td>419494.281308</td>\n",
       "      <td>-1.559252e+06</td>\n",
       "      <td>183</td>\n",
       "      <td>-1</td>\n",
       "      <td>2023-09-01 12:00:00</td>\n",
       "    </tr>\n",
       "    <tr>\n",
       "      <th>4</th>\n",
       "      <td>30.84652</td>\n",
       "      <td>-95.63036</td>\n",
       "      <td>14.89</td>\n",
       "      <td>SNPP</td>\n",
       "      <td>0.72</td>\n",
       "      <td>0.63</td>\n",
       "      <td>2023-09-01 20:25:00</td>\n",
       "      <td>PM</td>\n",
       "      <td>420156.513180</td>\n",
       "      <td>-1.559185e+06</td>\n",
       "      <td>183</td>\n",
       "      <td>-1</td>\n",
       "      <td>2023-09-01 12:00:00</td>\n",
       "    </tr>\n",
       "    <tr>\n",
       "      <th>...</th>\n",
       "      <td>...</td>\n",
       "      <td>...</td>\n",
       "      <td>...</td>\n",
       "      <td>...</td>\n",
       "      <td>...</td>\n",
       "      <td>...</td>\n",
       "      <td>...</td>\n",
       "      <td>...</td>\n",
       "      <td>...</td>\n",
       "      <td>...</td>\n",
       "      <td>...</td>\n",
       "      <td>...</td>\n",
       "      <td>...</td>\n",
       "    </tr>\n",
       "    <tr>\n",
       "      <th>225</th>\n",
       "      <td>30.85362</td>\n",
       "      <td>-95.69576</td>\n",
       "      <td>2.30</td>\n",
       "      <td>SNPP</td>\n",
       "      <td>0.42</td>\n",
       "      <td>0.54</td>\n",
       "      <td>2023-09-03 08:30:00</td>\n",
       "      <td>AM</td>\n",
       "      <td>413841.115513</td>\n",
       "      <td>-1.558718e+06</td>\n",
       "      <td>262</td>\n",
       "      <td>-1</td>\n",
       "      <td>2023-09-03 00:00:00</td>\n",
       "    </tr>\n",
       "    <tr>\n",
       "      <th>226</th>\n",
       "      <td>30.85412</td>\n",
       "      <td>-95.69437</td>\n",
       "      <td>2.80</td>\n",
       "      <td>SNPP</td>\n",
       "      <td>0.42</td>\n",
       "      <td>0.54</td>\n",
       "      <td>2023-09-03 08:30:00</td>\n",
       "      <td>AM</td>\n",
       "      <td>413972.231499</td>\n",
       "      <td>-1.558657e+06</td>\n",
       "      <td>262</td>\n",
       "      <td>-1</td>\n",
       "      <td>2023-09-03 00:00:00</td>\n",
       "    </tr>\n",
       "    <tr>\n",
       "      <th>227</th>\n",
       "      <td>30.83579</td>\n",
       "      <td>-95.63691</td>\n",
       "      <td>11.78</td>\n",
       "      <td>SNPP</td>\n",
       "      <td>0.42</td>\n",
       "      <td>0.53</td>\n",
       "      <td>2023-09-03 19:49:00</td>\n",
       "      <td>PM</td>\n",
       "      <td>419579.229226</td>\n",
       "      <td>-1.560401e+06</td>\n",
       "      <td>153</td>\n",
       "      <td>-1</td>\n",
       "      <td>2023-09-03 12:00:00</td>\n",
       "    </tr>\n",
       "    <tr>\n",
       "      <th>228</th>\n",
       "      <td>30.84481</td>\n",
       "      <td>-95.66108</td>\n",
       "      <td>16.01</td>\n",
       "      <td>SNPP</td>\n",
       "      <td>0.42</td>\n",
       "      <td>0.53</td>\n",
       "      <td>2023-09-03 19:49:00</td>\n",
       "      <td>PM</td>\n",
       "      <td>417214.155409</td>\n",
       "      <td>-1.559523e+06</td>\n",
       "      <td>156</td>\n",
       "      <td>-1</td>\n",
       "      <td>2023-09-03 12:00:00</td>\n",
       "    </tr>\n",
       "    <tr>\n",
       "      <th>229</th>\n",
       "      <td>30.84148</td>\n",
       "      <td>-95.66113</td>\n",
       "      <td>9.08</td>\n",
       "      <td>NOAA20</td>\n",
       "      <td>0.49</td>\n",
       "      <td>0.49</td>\n",
       "      <td>2023-09-03 18:56:00</td>\n",
       "      <td>PM</td>\n",
       "      <td>417225.346104</td>\n",
       "      <td>-1.559890e+06</td>\n",
       "      <td>156</td>\n",
       "      <td>-1</td>\n",
       "      <td>2023-09-03 12:00:00</td>\n",
       "    </tr>\n",
       "  </tbody>\n",
       "</table>\n",
       "<p>230 rows × 13 columns</p>\n",
       "</div>"
      ],
      "text/plain": [
       "          Lat       Lon    FRP     Sat    DT    DS        YYYYMMDD_HHMM ampm  \\\n",
       "0    30.85326 -95.63076  99.37    SNPP  0.72  0.63  2023-09-01 20:25:00   PM   \n",
       "1    30.85356 -95.62389  99.37    SNPP  0.72  0.63  2023-09-01 20:25:00   PM   \n",
       "2    30.85940 -95.62579  12.64  NOAA20  0.37  0.41  2023-09-01 19:34:00   PM   \n",
       "3    30.84622 -95.63727  17.36    SNPP  0.72  0.63  2023-09-01 20:25:00   PM   \n",
       "4    30.84652 -95.63036  14.89    SNPP  0.72  0.63  2023-09-01 20:25:00   PM   \n",
       "..        ...       ...    ...     ...   ...   ...                  ...  ...   \n",
       "225  30.85362 -95.69576   2.30    SNPP  0.42  0.54  2023-09-03 08:30:00   AM   \n",
       "226  30.85412 -95.69437   2.80    SNPP  0.42  0.54  2023-09-03 08:30:00   AM   \n",
       "227  30.83579 -95.63691  11.78    SNPP  0.42  0.53  2023-09-03 19:49:00   PM   \n",
       "228  30.84481 -95.66108  16.01    SNPP  0.42  0.53  2023-09-03 19:49:00   PM   \n",
       "229  30.84148 -95.66113   9.08  NOAA20  0.49  0.49  2023-09-03 18:56:00   PM   \n",
       "\n",
       "                 x             y  initial_cid  origin              new_at  \n",
       "0    420085.493236 -1.558444e+06          182      -1 2023-09-01 12:00:00  \n",
       "1    420743.824203 -1.558378e+06          182      -1 2023-09-01 12:00:00  \n",
       "2    420533.068390 -1.557743e+06          182      -1 2023-09-01 12:00:00  \n",
       "3    419494.281308 -1.559252e+06          183      -1 2023-09-01 12:00:00  \n",
       "4    420156.513180 -1.559185e+06          183      -1 2023-09-01 12:00:00  \n",
       "..             ...           ...          ...     ...                 ...  \n",
       "225  413841.115513 -1.558718e+06          262      -1 2023-09-03 00:00:00  \n",
       "226  413972.231499 -1.558657e+06          262      -1 2023-09-03 00:00:00  \n",
       "227  419579.229226 -1.560401e+06          153      -1 2023-09-03 12:00:00  \n",
       "228  417214.155409 -1.559523e+06          156      -1 2023-09-03 12:00:00  \n",
       "229  417225.346104 -1.559890e+06          156      -1 2023-09-03 12:00:00  \n",
       "\n",
       "[230 rows x 13 columns]"
      ]
     },
     "execution_count": 36,
     "metadata": {},
     "output_type": "execute_result"
    }
   ],
   "source": [
    "allfires.fires[665].pixels"
   ]
  },
  {
   "cell_type": "code",
   "execution_count": 37,
   "id": "0b7062be-615b-46c6-808c-08e6108d921d",
   "metadata": {
    "execution": {
     "iopub.execute_input": "2024-01-24T22:27:18.199496Z",
     "iopub.status.busy": "2024-01-24T22:27:18.199209Z",
     "iopub.status.idle": "2024-01-24T22:27:18.205195Z",
     "shell.execute_reply": "2024-01-24T22:27:18.204805Z",
     "shell.execute_reply.started": "2024-01-24T22:27:18.199472Z"
    }
   },
   "outputs": [
    {
     "data": {
      "image/svg+xml": [
       "<svg xmlns=\"http://www.w3.org/2000/svg\" xmlns:xlink=\"http://www.w3.org/1999/xlink\" width=\"300\" height=\"300\" viewBox=\"411635.65977649845 -1562360.997203048 9725.049975859642 5165.826068955939\" preserveAspectRatio=\"xMinYMin meet\"><g transform=\"matrix(1,0,0,-1,0,-3119556.16833714)\"><path fill-rule=\"evenodd\" fill=\"#66cc99\" stroke=\"#555555\" stroke-width=\"64.83366650573095\" opacity=\"0.6\" d=\"M 420411.00695401843,-1557600.4797251106 L 420425.5117263385,-1557589.224463874 L 420441.0477250281,-1557579.44172038 L 420457.4659948205,-1557571.2252891238 L 420474.60912145424,-1557564.6539471927 L 420492.31274092203,-1557559.7906989676 L 420510.4071153516,-1557556.6821720558 L 420528.71876040974,-1557555.358170235 L 420547.07210862706,-1557555.8313877033 L 420565.29119269457,-1557558.09728737 L 420583.2013325944,-1557562.1341443562 L 420600.63081038796,-1557567.9032542878 L 420617.4125166047,-1557575.3493043825 L 420633.38555244583,-1557584.4009037758 L 420648.3967724416,-1557594.9712679982 L 420662.30225277203,-1557606.9590510435 L 420674.96867117216,-1557620.2493170481 L 420686.2745851926,-1557634.7146422681 L 420696.11159655976,-1557650.2163367858 L 420704.38539047056,-1557666.6057742343 L 420711.01663986006,-1557683.7258167895 L 420921.772453003,-1558318.4994297943 L 420926.76043357624,-1558336.4645940366 L 420929.9395298974,-1558354.8363229434 L 420931.27830687433,-1558373.4329557745 L 420930.76352660113,-1558392.070607926 L 420928.40027925564,-1558410.5649891926 L 420924.2119327671,-1558428.73322604 L 420918.239901753,-1558446.395669869 L 420910.5432380088,-1558463.3776733922 L 420901.19804660016,-1558479.5113175553 L 420890.29673333163,-1558494.6370719322 L 420877.9470910327,-1558508.6053721702 L 420864.2712336959,-1558521.2780988915 L 420849.40438900626,-1558532.5299434257 L 420833.49356120214,-1558542.2496468695 L 420816.69607748865,-1558550.3411002215 L 420799.1780323769,-1558556.7242947125 L 420781.1126453316,-1558561.3361129388 L 420762.6785479668,-1558564.1309529692 L 420325.0020323187,-1558608.3663881738 L 420280.9877326829,-1558984.6346222484 L 420794.4532322147,-1558933.5307099149 L 420812.8271107882,-1558932.6089943012 L 420831.2028740603,-1558933.4923388958 L 420849.40361868625,-1558936.172239746 L 420867.2541262244,-1558940.6228974655 L 420884.58254996326,-1558946.801465603 L 420901.2220692884,-1558954.6484631265 L 420917.0124956633,-1558964.0883470455 L 420931.8018147634,-1558975.0302396633 L 420945.447649917,-1558987.3688034562 L 420957.8186327641,-1559000.9852551562 L 420968.79566793924,-1559015.748509278 L 420978.27307960135,-1559031.5164400775 L 420986.15962877445,-1559048.1372497943 L 420992.3793917047,-1559065.4509300096 L 420996.8724907777,-1559083.2908020446 L 420999.59567096,-1559101.4851215756 L 421000.5227162151,-1559119.8587320158 L 420999.6447018847,-1559138.2347507451 L 420996.9700806067,-1559156.4362719597 L 420992.52460094145,-1559174.2880697416 L 420986.35105949064,-1559191.6182849584 L 420978.50888889475,-1559208.260079749 L 420969.0735856755,-1559224.053243671 L 420958.1359834311,-1559238.8457360454 L 420945.801378382,-1559252.4951496515 L 420932.18851568503,-1559264.8700816794 L 420917.4284462744,-1559275.8513987453 L 420901.66326523543,-1559285.333383786 L 420885.0447438559,-1559293.2247537978 L 420867.7328685252,-1559299.4495386167 L 420849.89430054644,-1559303.9478122825 L 420831.7007716891,-1559306.6762699462 L 420236.22636012005,-1559366.2912189686 L 420198.15036573494,-1559686.8228496881 L 420194.86724100215,-1559705.9482331239 L 420189.6249876899,-1559724.6318617808 L 420182.4797556637,-1559742.67361499 L 420173.50807762693,-1559759.8802472225 L 420162.8060493777,-1559776.0674579435 L 420150.48830052494,-1559791.0618656604 L 420136.68676668894,-1559804.7028650132 L 420121.5492763364,-1559816.8443470234 L 420011.009993538,-1559896.468705982 L 420097.8277751222,-1559911.645638666 L 420115.11144918815,-1559915.516300044 L 420131.952784421,-1559921.0005352958 L 420148.2015016631,-1559928.0494073124 L 420163.7126098252,-1559936.600017367 L 420178.3476996758,-1559946.5760663738 L 420191.9761788987,-1559957.8885357236 L 420204.476437399,-1559970.4364816172 L 420215.736932458,-1559984.10793581 L 420225.6571840551,-1559998.7809047315 L 420432.092234189,-1560337.5728722082 L 420440.9711909572,-1560353.9177752715 L 420448.18696364685,-1560371.0619974448 L 420453.6685379242,-1560388.836813137 L 420457.3619666428,-1560407.0672907426 L 420459.23090076685,-1560425.574014242 L 420459.2569471018,-1560444.1748489283 L 420457.43984931137,-1560462.6867338961 L 420453.7974904409,-1560480.9274836422 L 420448.36571692,-1560498.7175810523 L 420441.1979857788,-1560515.881944126 L 420432.3648385482,-1560532.2516490545 L 420421.9532070222,-1560547.6655926902 L 420410.0655577153,-1560561.9720780517 L 420396.8188834337,-1560575.0303072545 L 420382.3435518857,-1560586.711767181 L 420366.7820226622,-1560596.9014942464 L 419900.2880115899,-1560870.3042408044 L 419884.1286437126,-1560878.7474628603 L 419867.2256371986,-1560885.5813153363 L 419849.7388151791,-1560890.741182053 L 419831.83352094074,-1560894.1782748818 L 419493.12674629287,-1560942.2598617114 L 419475.5263779604,-1560943.916610394 L 419457.84820739715,-1560943.9084144174 L 419440.24938283855,-1560942.2353466393 L 419422.8863471818,-1560938.912279619 L 419405.9134473039,-1560933.9687534112 L 419389.4815620104,-1560927.448712971 L 419373.7367608152,-1560919.4101175116 L 419358.8190054701,-1560909.9244252807 L 419344.8609057902,-1560899.0759583402 L 419331.9865408323,-1560886.9611529943 L 419320.310355908,-1560873.6877025291 L 419065.0469685902,-1560554.3241689876 L 418631.77715148503,-1560769.7614719446 L 418615.58025406994,-1560776.8828356687 L 418598.7842159914,-1560782.4457856086 L 418581.53859971045,-1560786.4007857675 L 418563.9969710143,-1560788.7126183426 L 418546.3155315707,-1560789.3606973265 L 417810.8212641196,-1560781.5913649972 L 417393.45993324934,-1561084.766283738 L 417374.56491338793,-1561096.8349875289 L 417153.3294564681,-1561220.1740123078 L 416940.18711879785,-1561412.0556060257 L 416924.4983382192,-1561424.7207354265 L 416454.0160951191,-1561764.4284557602 L 416437.648192446,-1561774.998118015 L 416420.2718030976,-1561783.8121461133 L 416402.074561681,-1561790.7753639703 L 416383.2529665694,-1561795.8125810148 L 416364.0102580637,-1561798.8694041145 L 416344.5542237528,-1561799.9128249278 L 416325.0949547712,-1561798.9315763353 L 415898.59606781055,-1561755.1203933924 L 415898.1759708784,-1561755.0767616394 L 415470.745621231,-1561710.1966931957 L 415365.81141119404,-1561699.261274996 L 415383.10670404776,-1561766.9309823338 L 415386.8310247609,-1561785.276598755 L 415388.70745715726,-1561803.9021513136 L 415388.7172972411,-1561822.621983306 L 415386.86044692807,-1561841.2494982653 L 415383.1554150224,-1561859.5990199274 L 415377.6391327244,-1561877.487643023 L 415370.36658550525,-1561894.7370564507 L 415361.41026502085,-1561911.1753206544 L 415350.85944652517,-1561926.6385814915 L 415338.8192989883,-1561940.9727035065 L 415325.4098367882,-1561954.0348063293 L 415310.764723425,-1561965.6946888857 L 415295.02993918356,-1561975.8361272218 L 415278.36232602416,-1561984.3580330072 L 415260.92802420515,-1561991.1754611686 L 415242.9008162221,-1561996.220456608 L 415224.46039456985,-1561999.4427315707 L 415205.7905705949,-1562000.8101669052 L 415187.07744229166,-1562000.3091322219 L 415168.50753930537,-1561997.9446217588 L 413716.9567712669,-1561738.918571151 L 413698.51329948695,-1561734.6567466832 L 413680.5935320737,-1561728.5570143163 L 413663.38011356577,-1561720.6815446564 L 413647.0484891464,-1561711.110607246 L 413631.76511644525,-1561699.9417524268 L 413617.68576894363,-1561687.2888170748 L 413604.95394827676,-1561673.2807643337 L 413593.69942161505,-1561658.0603691775 L 413584.03689903143,-1561641.7827631983 L 413554.5408020006,-1561585.8391033926 L 412884.1187255127,-1561213.0714647742 L 412868.10699628416,-1561203.0819131234 L 412853.18057517183,-1561191.5333821408 L 412839.4906811733,-1561178.5428695497 L 412827.17600607744,-1561164.2419817324 L 412816.36130938365,-1561148.7756004331 L 412807.1561543676,-1561132.3004149653 L 412799.65379810036,-1561114.9833347981 L 412793.9302466643,-1561096.9997986043 L 412790.04348513886,-1561078.5319968965 L 412788.0328901552,-1561059.7670262628 L 412787.91883097374,-1561040.894993898 L 412812.1082897267,-1560495.2623965107 L 412786.2945479805,-1560290.3223825358 L 412785.1896586684,-1560278.5844000056 L 412774.4190026374,-1560106.224071442 L 412756.78808923834,-1560072.7844668655 L 412747.6524369622,-1560052.6659092319 L 412740.94693678606,-1560031.6123401485 L 412644.79054459056,-1559654.0621162269 L 412599.66289991944,-1559477.2859618913 L 412041.3385662444,-1558830.6003548885 L 412030.09032954084,-1558816.210737777 L 412020.2954796866,-1558800.7950047133 L 412012.04695618193,-1558784.4994295607 L 412005.4230260411,-1558767.4786346604 L 412000.4865411472,-1558749.894123679 L 411997.28434187506,-1558731.9127491661 L 411995.8468126414,-1558713.7051293529 L 411996.1875935992,-1558695.4440292246 L 411998.303451211,-1558677.3027212198 L 412002.1743089314,-1558659.453341117 L 412007.763437705,-1558642.0652547039 L 412015.01780447434,-1558625.3034507337 L 412023.8685753897,-1558609.3269754103 L 412034.2317689467,-1558594.2874232607 L 412046.0090528538,-1558580.327498715 L 412059.08867706923,-1558567.579662038 L 412073.34653415304,-1558556.1648724678 L 412088.64733687456,-1558546.1914404791 L 412104.84590189956,-1558537.7540000682 L 412793.7867364279,-1558220.5526356117 L 412809.9100945129,-1558214.0176919631 L 412826.5697456768,-1558209.005288595 L 412843.62226318783,-1558205.5585784297 L 412860.9208380384,-1558203.70723498 L 412878.3165428571,-1558203.4671968834 L 412895.6596140587,-1558204.8405306826 L 412912.80074119265,-1558207.815413034 L 413238.33985215356,-1558280.014427873 L 413255.7057055888,-1558284.7508905448 L 413684.4431403504,-1558424.1172503154 L 414489.7101139693,-1558503.5775775353 L 414507.7025421238,-1558506.2394464156 L 414525.3524095102,-1558510.632076388 L 414542.493634539,-1558516.7141337162 L 414558.96492184,-1558524.4283875024 L 414574.61128001777,-1558533.7022482199 L 414589.2854800888,-1558544.4484507635 L 414602.84944087564,-1558556.5658755973 L 414712.2714289255,-1558664.305757392 L 416807.10684881127,-1559236.5294997338 L 416963.83758140757,-1559176.8521271148 L 416986.166021335,-1559169.9103749145 L 417075.2403460491,-1559148.2043427385 L 417865.0745725037,-1558879.7275526223 L 417884.57781877054,-1558874.2538228426 L 417904.5577437879,-1558870.9160198306 L 417924.7811449497,-1558869.7531019086 L 417945.011977834,-1558870.7786424754 L 418331.59953345876,-1558911.4002017253 L 419140.0427929098,-1558646.6272300624 L 419236.32885182224,-1558531.0867286916 L 419248.5780571704,-1558517.7535272148 L 419262.0561571294,-1558505.6639401754 L 419276.6374740675,-1558494.9306979051 L 419292.1860433168,-1558485.653883388 L 419622.45093214675,-1558309.6469611188 L 420082.4342335167,-1557978.2296066904 L 420097.9936431331,-1557968.1487831706 L 420114.472545089,-1557959.6538422778 L 420131.7098272346,-1557952.8278379794 L 420149.53696283227,-1557947.7375072602 L 420167.7796582215,-1557944.432617643 L 420182.7290342826,-1557943.2295931524 L 420375.0133483164,-1557641.9372316168 L 420385.6361405025,-1557626.9630668077 L 420397.6724761945,-1557613.0995914617 L 420411.00695401843,-1557600.4797251106 z\" /></g></svg>"
      ],
      "text/plain": [
       "<POLYGON ((420411.007 -1557600.48, 420425.512 -1557589.224, 420441.048 -1557...>"
      ]
     },
     "execution_count": 37,
     "metadata": {},
     "output_type": "execute_result"
    }
   ],
   "source": [
    "allfires.fires[665].hull"
   ]
  },
  {
   "cell_type": "markdown",
   "id": "a13ee794-1c4e-44c9-b939-bd04ab0223f8",
   "metadata": {},
   "source": [
    "## Experiments with saving fire data"
   ]
  },
  {
   "cell_type": "code",
   "execution_count": 26,
   "id": "bddb4e77-086b-4d6b-9a4e-e2e92014a195",
   "metadata": {
    "editable": true,
    "execution": {
     "iopub.execute_input": "2024-01-24T22:07:46.090586Z",
     "iopub.status.busy": "2024-01-24T22:07:46.090307Z",
     "iopub.status.idle": "2024-01-24T22:07:47.114891Z",
     "shell.execute_reply": "2024-01-24T22:07:47.114588Z",
     "shell.execute_reply.started": "2024-01-24T22:07:46.090565Z"
    },
    "slideshow": {
     "slide_type": ""
    },
    "tags": []
   },
   "outputs": [
    {
     "name": "stdout",
     "output_type": "stream",
     "text": [
      "CPU times: user 946 ms, sys: 75.8 ms, total: 1.02 s\n",
      "Wall time: 1.02 s\n"
     ]
    }
   ],
   "source": [
    "%%time\n",
    "\n",
    "from FireConsts import firesrc\n",
    "import os\n",
    "OUTPUT_DIR = \"processed/\"\n",
    "\n",
    "for fid, fire in allfires.fires.items():\n",
    "    fire_filename = f\"{fid=}.txt\"\n",
    "    output_filepath = os.path.join(OUTPUT_DIR, firesrc, region[0], \"fires\", fire_filename)\n",
    "    \n",
    "    # make nested path if necessary\n",
    "    os.makedirs(os.path.dirname(output_filepath), exist_ok=True)\n",
    "\n",
    "    fire.pixels.to_csv(output_filepath, index=False)"
   ]
  },
  {
   "cell_type": "markdown",
   "id": "845c64f1-9b96-47ad-8d3a-e2cdfa24755c",
   "metadata": {},
   "source": [
    "## Experiments with land cover"
   ]
  },
  {
   "cell_type": "code",
   "execution_count": 5,
   "id": "b9dc7da3-55e1-40ea-b390-749f876252de",
   "metadata": {
    "execution": {
     "iopub.execute_input": "2024-01-24T19:02:32.545221Z",
     "iopub.status.busy": "2024-01-24T19:02:32.544745Z",
     "iopub.status.idle": "2024-01-24T19:02:32.549946Z",
     "shell.execute_reply": "2024-01-24T19:02:32.549051Z",
     "shell.execute_reply.started": "2024-01-24T19:02:32.545182Z"
    }
   },
   "outputs": [],
   "source": [
    "from FireConsts import dirextdata\n",
    "\n",
    "import rasterio\n",
    "import pyproj\n",
    "import os"
   ]
  },
  {
   "cell_type": "code",
   "execution_count": 63,
   "id": "c4068c3a-089f-4d85-81cb-eba0117c6d93",
   "metadata": {
    "execution": {
     "iopub.execute_input": "2024-01-24T19:33:36.683758Z",
     "iopub.status.busy": "2024-01-24T19:33:36.683209Z",
     "iopub.status.idle": "2024-01-24T19:33:39.120218Z",
     "shell.execute_reply": "2024-01-24T19:33:39.119814Z",
     "shell.execute_reply.started": "2024-01-24T19:33:36.683716Z"
    }
   },
   "outputs": [
    {
     "name": "stdout",
     "output_type": "stream",
     "text": [
      "298 µs ± 1.81 µs per loop (mean ± std. dev. of 7 runs, 1,000 loops each)\n"
     ]
    }
   ],
   "source": [
    "%%time\n",
    "# read NLCD 500m data\n",
    "fnmLCT = os.path.join(dirextdata, \"NLCD\", f\"nlcd_export_510m_simplified_latlon.tif\")\n",
    "dataset = rasterio.open(fnmLCT)\n",
    "samps = list(dataset.sample(fire.newlocs_geo))\n",
    "vLCT = [s[0] for s in samps]\n",
    "vLCT"
   ]
  },
  {
   "cell_type": "code",
   "execution_count": 53,
   "id": "97377f44-fb78-4bb6-b0f0-524446a5c64e",
   "metadata": {
    "execution": {
     "iopub.execute_input": "2024-01-24T19:29:31.726494Z",
     "iopub.status.busy": "2024-01-24T19:29:31.726331Z",
     "iopub.status.idle": "2024-01-24T19:29:31.733388Z",
     "shell.execute_reply": "2024-01-24T19:29:31.733028Z",
     "shell.execute_reply.started": "2024-01-24T19:29:31.726483Z"
    }
   },
   "outputs": [
    {
     "name": "stdout",
     "output_type": "stream",
     "text": [
      "CPU times: user 3.24 ms, sys: 0 ns, total: 3.24 ms\n",
      "Wall time: 3.26 ms\n"
     ]
    },
    {
     "data": {
      "text/plain": [
       "[42, 82, 82, 82, 52, 82, 42]"
      ]
     },
     "execution_count": 53,
     "metadata": {},
     "output_type": "execute_result"
    }
   ],
   "source": [
    "%%time\n",
    "# read NLCD 500m data\n",
    "fnmLCT = os.path.join(dirextdata, \"NLCD\", f\"nlcd_export_510m_simplified_{epsg}.tif\")\n",
    "dataset = rasterio.open(fnmLCT)\n",
    "samps = list(dataset.sample(fire.newlocs))\n",
    "vLCT = [s[0] for s in samps]\n",
    "vLCT"
   ]
  },
  {
   "cell_type": "code",
   "execution_count": 57,
   "id": "d2bc726e-ac06-4ce9-af7c-c26104cd16b8",
   "metadata": {
    "execution": {
     "iopub.execute_input": "2024-01-24T19:30:50.547620Z",
     "iopub.status.busy": "2024-01-24T19:30:50.547195Z",
     "iopub.status.idle": "2024-01-24T19:30:50.596525Z",
     "shell.execute_reply": "2024-01-24T19:30:50.596070Z",
     "shell.execute_reply.started": "2024-01-24T19:30:50.547588Z"
    }
   },
   "outputs": [
    {
     "name": "stdout",
     "output_type": "stream",
     "text": [
      "CPU times: user 43 ms, sys: 0 ns, total: 43 ms\n",
      "Wall time: 42.2 ms\n"
     ]
    },
    {
     "name": "stderr",
     "output_type": "stream",
     "text": [
      "<timed exec>:21: DeprecationWarning: Conversion of an array with ndim > 0 to a scalar is deprecated, and will error in future. Ensure you extract a single element from your array before performing this operation. (Deprecated NumPy 1.25.)\n"
     ]
    },
    {
     "data": {
      "text/plain": [
       "[82, 82, 82, 82, 82, 82, 82]"
      ]
     },
     "execution_count": 57,
     "metadata": {},
     "output_type": "execute_result"
    }
   ],
   "source": [
    "%%time\n",
    "\n",
    "locs = fire.newlocs_geo\n",
    "# read NLCD 500m data\n",
    "fnmLCT = os.path.join(dirextdata, \"NLCD\", \"nlcd_export_510m_simplified.tif\")\n",
    "dataset = rasterio.open(fnmLCT)\n",
    "transformer = pyproj.Transformer.from_crs(\"epsg:4326\", dataset.crs)\n",
    "locs_crs_x, locs_crs_y = transformer.transform(\n",
    "    # NOTE: EPSG 4326 expected coordinate order latitude, longitude, but\n",
    "    # `locs` is x (longitude), y (latitude). That's why `l[1]`, then `l[0]`\n",
    "    # here.\n",
    "    [l[1] for l in locs],\n",
    "    [l[0] for l in locs]\n",
    ")\n",
    "locs_crs = list(zip(locs_crs_x, locs_crs_y))\n",
    "samps = list(dataset.sample(locs_crs))\n",
    "vLCT = [int(s) for s in samps]\n",
    "vLCT"
   ]
  },
  {
   "cell_type": "markdown",
   "id": "e39f6598-7366-4e5f-90d5-c06ee5952efb",
   "metadata": {
    "editable": true,
    "slideshow": {
     "slide_type": ""
    },
    "tags": []
   },
   "source": [
    "## Run the rest of the algorithm\n",
    "\n",
    "Now you have pre-clustered data at the half day for the region."
   ]
  },
  {
   "cell_type": "code",
   "execution_count": null,
   "id": "3de322b5-32ad-4e2e-9e85-6f0f603ec7e8",
   "metadata": {},
   "outputs": [],
   "source": [
    "df = read_preprocessed(t, sat, region=region)\n",
    "df.head()"
   ]
  },
  {
   "cell_type": "markdown",
   "id": "7da48319-4b65-4d84-aa83-f2de98e60679",
   "metadata": {},
   "source": [
    "## Experiments with hulls\n",
    "\n",
    "Trying out next steps around hulls:"
   ]
  },
  {
   "cell_type": "code",
   "execution_count": null,
   "id": "aaddf824-be42-4648-9796-8007ad9bce35",
   "metadata": {},
   "outputs": [],
   "source": [
    "from FireObj import Cluster, FirePixel\n",
    "from FireVector import *"
   ]
  },
  {
   "cell_type": "code",
   "execution_count": null,
   "id": "088aeac8-1049-43c8-813a-0e21fc659b87",
   "metadata": {
    "editable": true,
    "slideshow": {
     "slide_type": ""
    },
    "tags": []
   },
   "outputs": [],
   "source": [
    "%%time\n",
    "for d in range(1, 32):\n",
    "    for ampm in (\"AM\", \"PM\"):\n",
    "        df = read_preprocessed((t[0], t[1], d, ampm), sat, region=region)\n",
    "        for ic, pixels in df.groupby(\"initial_cid\"):\n",
    "            hull = cal_hull(pixels[[\"x\", \"y\"]].values, sensor=\"viirs\")"
   ]
  },
  {
   "cell_type": "code",
   "execution_count": null,
   "id": "f27538c6-33d9-48a9-b15f-708d9cb06c3b",
   "metadata": {},
   "outputs": [],
   "source": [
    "biggest_cluster = df.value_counts(\"initial_cid\").index[0]\n",
    "pixels = df[df[\"initial_cid\"] == biggest_cluster].copy()\n",
    "pixel_locs = pixels[[\"x\", \"y\"]].values\n",
    "hull = cal_hull(pixel_locs, sensor=\"viirs\")"
   ]
  },
  {
   "cell_type": "code",
   "execution_count": null,
   "id": "6b744ff4-1c7e-4025-a567-fec3d0c67659",
   "metadata": {},
   "outputs": [],
   "source": [
    "from utils import timed"
   ]
  },
  {
   "cell_type": "code",
   "execution_count": null,
   "id": "551a7506-e39f-42b3-b8da-58d312819904",
   "metadata": {},
   "outputs": [],
   "source": [
    "# compute initial hulls\n",
    "hulls = dict()\n",
    "for ic, subset in df.groupby(\"initial_cid\"):\n",
    "    pixel_locs = subset[[\"x\", \"y\"]].values\n",
    "    hulls[ic] = cal_hull(pixel_locs, sensor=\"viirs\")\n",
    "\n",
    "# store hulls\n",
    "df = pd.merge(df, pd.Series(hulls, name=\"hull\"), how=\"outer\", left_on=\"initial_cid\", right_index=True)"
   ]
  }
 ],
 "metadata": {
  "kernelspec": {
   "display_name": "Python 3 (ipykernel)",
   "language": "python",
   "name": "python3"
  },
  "language_info": {
   "codemirror_mode": {
    "name": "ipython",
    "version": 3
   },
   "file_extension": ".py",
   "mimetype": "text/x-python",
   "name": "python",
   "nbconvert_exporter": "python",
   "pygments_lexer": "ipython3",
   "version": "3.11.7"
  }
 },
 "nbformat": 4,
 "nbformat_minor": 5
}
