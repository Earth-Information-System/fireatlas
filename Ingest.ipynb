{
 "cells": [
  {
   "cell_type": "code",
   "execution_count": 1,
   "id": "30ed1049-5466-4d04-bcef-ac0c8ffa1d6d",
   "metadata": {
    "execution": {
     "iopub.execute_input": "2024-02-12T18:51:37.498534Z",
     "iopub.status.busy": "2024-02-12T18:51:37.498357Z",
     "iopub.status.idle": "2024-02-12T18:51:37.928670Z",
     "shell.execute_reply": "2024-02-12T18:51:37.927985Z",
     "shell.execute_reply.started": "2024-02-12T18:51:37.498520Z"
    }
   },
   "outputs": [],
   "source": [
    "import preprocess"
   ]
  },
  {
   "cell_type": "code",
   "execution_count": 2,
   "id": "27a71fa5-d7cd-4f33-a962-9b09ba3e6433",
   "metadata": {
    "execution": {
     "iopub.execute_input": "2024-02-12T18:51:37.929526Z",
     "iopub.status.busy": "2024-02-12T18:51:37.929338Z",
     "iopub.status.idle": "2024-02-12T18:51:37.932171Z",
     "shell.execute_reply": "2024-02-12T18:51:37.931837Z",
     "shell.execute_reply.started": "2024-02-12T18:51:37.929513Z"
    }
   },
   "outputs": [],
   "source": [
    "tst = [2023, 8, 28, 'AM']\n",
    "ted = [2023, 9, 6, 'AM']\n",
    "region = ('CONUS', [-126.401171875,24.071240929282325,\n",
    "                    -61.36210937500001,49.40003415463647])"
   ]
  },
  {
   "cell_type": "code",
   "execution_count": 3,
   "id": "204a5501-a2d5-481d-885d-0cfd0a7d9fb7",
   "metadata": {
    "execution": {
     "iopub.execute_input": "2024-02-12T18:51:38.373368Z",
     "iopub.status.busy": "2024-02-12T18:51:38.373051Z",
     "iopub.status.idle": "2024-02-12T18:51:38.383602Z",
     "shell.execute_reply": "2024-02-12T18:51:38.380471Z",
     "shell.execute_reply.started": "2024-02-12T18:51:38.373341Z"
    }
   },
   "outputs": [
    {
     "data": {
      "text/plain": [
       "[[2023, 8, 28, 'AM'],\n",
       " [2023, 8, 28, 'PM'],\n",
       " [2023, 8, 29, 'AM'],\n",
       " [2023, 8, 29, 'PM'],\n",
       " [2023, 8, 30, 'AM'],\n",
       " [2023, 8, 30, 'PM'],\n",
       " [2023, 8, 31, 'AM'],\n",
       " [2023, 8, 31, 'PM'],\n",
       " [2023, 9, 1, 'AM'],\n",
       " [2023, 9, 1, 'PM'],\n",
       " [2023, 9, 2, 'AM'],\n",
       " [2023, 9, 2, 'PM'],\n",
       " [2023, 9, 3, 'AM'],\n",
       " [2023, 9, 3, 'PM'],\n",
       " [2023, 9, 4, 'AM'],\n",
       " [2023, 9, 4, 'PM'],\n",
       " [2023, 9, 5, 'AM'],\n",
       " [2023, 9, 5, 'PM'],\n",
       " [2023, 9, 6, 'AM']]"
      ]
     },
     "execution_count": 3,
     "metadata": {},
     "output_type": "execute_result"
    }
   ],
   "source": [
    "import FireTime\n",
    "\n",
    "list_of_ts = list(FireTime.t_generator(tst, ted))\n",
    "list_of_ts"
   ]
  },
  {
   "cell_type": "markdown",
   "id": "c5cbf654-16f4-4790-95e0-a90140e79e78",
   "metadata": {},
   "source": [
    "## Once per landcover file\n",
    "\n",
    "If your landcover file is not in lat,lon then transform it and resave it. You will use this file a bunch later on."
   ]
  },
  {
   "cell_type": "code",
   "execution_count": 4,
   "id": "94bc6f4a-f61b-4d82-9e3b-d3749552c84c",
   "metadata": {
    "execution": {
     "iopub.execute_input": "2024-02-12T18:51:41.471860Z",
     "iopub.status.busy": "2024-02-12T18:51:41.471450Z",
     "iopub.status.idle": "2024-02-12T18:51:53.080521Z",
     "shell.execute_reply": "2024-02-12T18:51:53.080040Z",
     "shell.execute_reply.started": "2024-02-12T18:51:41.471829Z"
    }
   },
   "outputs": [
    {
     "name": "stderr",
     "output_type": "stream",
     "text": [
      "2024-02-12 13:51:53,077 - FireLog - INFO - func:preprocess_landcover took: 11.61 sec\n"
     ]
    }
   ],
   "source": [
    "preprocess.preprocess_landcover()"
   ]
  },
  {
   "cell_type": "markdown",
   "id": "5e54a2d4-b41b-4d53-a4ba-7a41f02799f5",
   "metadata": {},
   "source": [
    "## Once per region\n",
    "\n",
    "Preprocess the region to get rid of static flare sources. Save that new \"swiss cheese\" shape off into a geojson file for later."
   ]
  },
  {
   "cell_type": "code",
   "execution_count": 5,
   "id": "1a3c495d-66fa-458f-8afb-01e982b0709a",
   "metadata": {
    "execution": {
     "iopub.execute_input": "2024-02-12T18:51:58.188479Z",
     "iopub.status.busy": "2024-02-12T18:51:58.188290Z",
     "iopub.status.idle": "2024-02-12T18:53:58.945120Z",
     "shell.execute_reply": "2024-02-12T18:53:58.944614Z",
     "shell.execute_reply.started": "2024-02-12T18:51:58.188465Z"
    }
   },
   "outputs": [
    {
     "name": "stderr",
     "output_type": "stream",
     "text": [
      "2024-02-12 13:53:58,942 - FireLog - INFO - func:preprocess_region took: 2.01 min\n"
     ]
    }
   ],
   "source": [
    "preprocess.preprocess_region(region)"
   ]
  },
  {
   "cell_type": "markdown",
   "id": "16bd857f-f57a-4fc3-9e49-2c9536c97019",
   "metadata": {},
   "source": [
    "## Once per input file\n",
    "\n",
    "Next process each NRT file into half day files. First we'll get all the times that are of interest. This could also be done by inspecting all looking at all the files that exist and seeing which have not been preprocessed yet."
   ]
  },
  {
   "cell_type": "code",
   "execution_count": 6,
   "id": "864146bf-ee1e-4785-9106-9df1359f2aaf",
   "metadata": {
    "execution": {
     "iopub.execute_input": "2024-02-12T18:53:58.946323Z",
     "iopub.status.busy": "2024-02-12T18:53:58.946078Z",
     "iopub.status.idle": "2024-02-12T18:54:10.259313Z",
     "shell.execute_reply": "2024-02-12T18:54:10.256894Z",
     "shell.execute_reply.started": "2024-02-12T18:53:58.946305Z"
    }
   },
   "outputs": [
    {
     "name": "stderr",
     "output_type": "stream",
     "text": [
      "2024-02-12 13:53:58,947 - FireLog - INFO - preprocessing NRT file for 2023-8-28, SNPP\n",
      "2024-02-12 13:53:59,517 - FireLog - INFO - func:preprocess_NRT_file took: 570.28 ms\n",
      "2024-02-12 13:53:59,518 - FireLog - INFO - preprocessing NRT file for 2023-8-29, SNPP\n",
      "2024-02-12 13:54:00,031 - FireLog - INFO - func:preprocess_NRT_file took: 512.55 ms\n",
      "2024-02-12 13:54:00,033 - FireLog - INFO - preprocessing NRT file for 2023-8-30, SNPP\n",
      "2024-02-12 13:54:00,507 - FireLog - INFO - func:preprocess_NRT_file took: 474.02 ms\n",
      "2024-02-12 13:54:00,507 - FireLog - INFO - preprocessing NRT file for 2023-8-31, SNPP\n",
      "2024-02-12 13:54:01,005 - FireLog - INFO - func:preprocess_NRT_file took: 497.25 ms\n",
      "2024-02-12 13:54:01,007 - FireLog - INFO - preprocessing NRT file for 2023-9-1, SNPP\n",
      "2024-02-12 13:54:01,647 - FireLog - INFO - func:preprocess_NRT_file took: 639.93 ms\n",
      "2024-02-12 13:54:01,649 - FireLog - INFO - preprocessing NRT file for 2023-9-2, SNPP\n",
      "2024-02-12 13:54:02,404 - FireLog - INFO - func:preprocess_NRT_file took: 754.68 ms\n",
      "2024-02-12 13:54:02,406 - FireLog - INFO - preprocessing NRT file for 2023-9-3, SNPP\n",
      "2024-02-12 13:54:03,002 - FireLog - INFO - func:preprocess_NRT_file took: 596.30 ms\n",
      "2024-02-12 13:54:03,004 - FireLog - INFO - preprocessing NRT file for 2023-9-4, SNPP\n",
      "2024-02-12 13:54:03,496 - FireLog - INFO - func:preprocess_NRT_file took: 491.57 ms\n",
      "2024-02-12 13:54:03,496 - FireLog - INFO - preprocessing NRT file for 2023-9-5, SNPP\n",
      "2024-02-12 13:54:04,066 - FireLog - INFO - func:preprocess_NRT_file took: 569.78 ms\n",
      "2024-02-12 13:54:04,067 - FireLog - INFO - preprocessing NRT file for 2023-9-6, SNPP\n",
      "2024-02-12 13:54:04,442 - FireLog - INFO - func:preprocess_NRT_file took: 375.10 ms\n",
      "2024-02-12 13:54:04,443 - FireLog - INFO - preprocessing NRT file for 2023-8-28, NOAA20\n",
      "2024-02-12 13:54:04,981 - FireLog - INFO - func:preprocess_NRT_file took: 538.75 ms\n",
      "2024-02-12 13:54:04,982 - FireLog - INFO - preprocessing NRT file for 2023-8-29, NOAA20\n",
      "2024-02-12 13:54:05,568 - FireLog - INFO - func:preprocess_NRT_file took: 586.14 ms\n",
      "2024-02-12 13:54:05,569 - FireLog - INFO - preprocessing NRT file for 2023-8-30, NOAA20\n",
      "2024-02-12 13:54:06,115 - FireLog - INFO - func:preprocess_NRT_file took: 545.60 ms\n",
      "2024-02-12 13:54:06,116 - FireLog - INFO - preprocessing NRT file for 2023-8-31, NOAA20\n",
      "2024-02-12 13:54:06,623 - FireLog - INFO - func:preprocess_NRT_file took: 506.83 ms\n",
      "2024-02-12 13:54:06,626 - FireLog - INFO - preprocessing NRT file for 2023-9-1, NOAA20\n",
      "2024-02-12 13:54:07,319 - FireLog - INFO - func:preprocess_NRT_file took: 692.92 ms\n",
      "2024-02-12 13:54:07,320 - FireLog - INFO - preprocessing NRT file for 2023-9-2, NOAA20\n",
      "2024-02-12 13:54:08,013 - FireLog - INFO - func:preprocess_NRT_file took: 692.17 ms\n",
      "2024-02-12 13:54:08,015 - FireLog - INFO - preprocessing NRT file for 2023-9-3, NOAA20\n",
      "2024-02-12 13:54:08,604 - FireLog - INFO - func:preprocess_NRT_file took: 588.81 ms\n",
      "2024-02-12 13:54:08,606 - FireLog - INFO - preprocessing NRT file for 2023-9-4, NOAA20\n",
      "2024-02-12 13:54:09,109 - FireLog - INFO - func:preprocess_NRT_file took: 503.51 ms\n",
      "2024-02-12 13:54:09,112 - FireLog - INFO - preprocessing NRT file for 2023-9-5, NOAA20\n",
      "2024-02-12 13:54:09,683 - FireLog - INFO - func:preprocess_NRT_file took: 570.92 ms\n",
      "2024-02-12 13:54:09,683 - FireLog - INFO - preprocessing NRT file for 2023-9-6, NOAA20\n",
      "2024-02-12 13:54:10,253 - FireLog - INFO - func:preprocess_NRT_file took: 569.33 ms\n"
     ]
    },
    {
     "name": "stdout",
     "output_type": "stream",
     "text": [
      "CPU times: user 11 s, sys: 272 ms, total: 11.3 s\n",
      "Wall time: 11.3 s\n"
     ]
    }
   ],
   "source": [
    "%%time\n",
    "for sat in [\"SNPP\", \"NOAA20\"]:\n",
    "    for t in list_of_ts[::2]:\n",
    "        preprocess.preprocess_NRT_file(t, sat)"
   ]
  },
  {
   "cell_type": "markdown",
   "id": "73f9065d-3519-4673-98e5-3afd0e29ab80",
   "metadata": {},
   "source": [
    "## Once per region and t\n",
    "\n",
    "Do initial filtering and clustering using the preprocessed region and the half day files.\n",
    "\n",
    "Note: for the purpose of timing I am running the full month, but each of these steps could run in a separate proccess."
   ]
  },
  {
   "cell_type": "code",
   "execution_count": 7,
   "id": "66bc471a-5176-4223-9b47-7c0ba124786b",
   "metadata": {
    "editable": true,
    "execution": {
     "iopub.execute_input": "2024-02-12T18:54:10.260096Z",
     "iopub.status.busy": "2024-02-12T18:54:10.259916Z",
     "iopub.status.idle": "2024-02-12T18:54:10.554017Z",
     "shell.execute_reply": "2024-02-12T18:54:10.552417Z",
     "shell.execute_reply.started": "2024-02-12T18:54:10.260078Z"
    },
    "slideshow": {
     "slide_type": ""
    },
    "tags": []
   },
   "outputs": [
    {
     "name": "stderr",
     "output_type": "stream",
     "text": [
      "2024-02-12 13:54:10,547 - FireLog - INFO - func:read_region took: 286.84 ms\n"
     ]
    }
   ],
   "source": [
    "region = preprocess.read_region(region)"
   ]
  },
  {
   "cell_type": "code",
   "execution_count": 8,
   "id": "5ed3b8b4-7330-48e4-a3ff-4ca4d56add2c",
   "metadata": {
    "editable": true,
    "execution": {
     "iopub.execute_input": "2024-02-12T18:54:10.564585Z",
     "iopub.status.busy": "2024-02-12T18:54:10.563056Z",
     "iopub.status.idle": "2024-02-12T19:10:27.730987Z",
     "shell.execute_reply": "2024-02-12T19:10:27.730519Z",
     "shell.execute_reply.started": "2024-02-12T18:54:10.564551Z"
    },
    "slideshow": {
     "slide_type": ""
    },
    "tags": []
   },
   "outputs": [
    {
     "name": "stderr",
     "output_type": "stream",
     "text": [
      "2024-02-12 13:54:10,565 - FireLog - INFO - filtering and clustering 2023-8-28 AM, VIIRS, CONUS\n",
      "2024-02-12 13:54:10,598 - FireLog - INFO - func:read_preprocessed took: 31.64 ms\n",
      "2024-02-12 13:54:10,623 - FireLog - INFO - func:read_preprocessed took: 23.81 ms\n",
      "2024-02-12 13:56:13,100 - FireLog - INFO - func:do_clustering took: 1.14 sec\n",
      "2024-02-12 13:56:13,154 - FireLog - INFO - func:preprocess_region_t took: 2.04 min\n",
      "2024-02-12 13:56:13,155 - FireLog - INFO - filtering and clustering 2023-8-28 PM, VIIRS, CONUS\n",
      "2024-02-12 13:56:13,194 - FireLog - INFO - func:read_preprocessed took: 38.60 ms\n",
      "2024-02-12 13:56:13,234 - FireLog - INFO - func:read_preprocessed took: 39.49 ms\n",
      "2024-02-12 13:57:28,144 - FireLog - INFO - func:do_clustering took: 27.73 ms\n",
      "2024-02-12 13:57:28,167 - FireLog - INFO - func:preprocess_region_t took: 1.25 min\n",
      "2024-02-12 13:57:28,168 - FireLog - INFO - filtering and clustering 2023-8-29 AM, VIIRS, CONUS\n",
      "2024-02-12 13:57:28,194 - FireLog - INFO - func:read_preprocessed took: 26.03 ms\n",
      "2024-02-12 13:57:28,220 - FireLog - INFO - func:read_preprocessed took: 24.56 ms\n",
      "2024-02-12 13:59:13,761 - FireLog - INFO - func:do_clustering took: 41.18 ms\n",
      "2024-02-12 13:59:13,809 - FireLog - INFO - func:preprocess_region_t took: 1.76 min\n",
      "2024-02-12 13:59:13,811 - FireLog - INFO - filtering and clustering 2023-8-29 PM, VIIRS, CONUS\n",
      "2024-02-12 13:59:13,848 - FireLog - INFO - func:read_preprocessed took: 34.03 ms\n",
      "2024-02-12 13:59:13,884 - FireLog - INFO - func:read_preprocessed took: 33.76 ms\n",
      "2024-02-12 14:00:17,206 - FireLog - INFO - func:do_clustering took: 21.86 ms\n",
      "2024-02-12 14:00:17,227 - FireLog - INFO - func:preprocess_region_t took: 1.06 min\n",
      "2024-02-12 14:00:17,228 - FireLog - INFO - filtering and clustering 2023-8-30 AM, VIIRS, CONUS\n",
      "2024-02-12 14:00:17,276 - FireLog - INFO - func:read_preprocessed took: 46.28 ms\n",
      "2024-02-12 14:00:17,304 - FireLog - INFO - func:read_preprocessed took: 26.67 ms\n",
      "2024-02-12 14:01:46,329 - FireLog - INFO - func:do_clustering took: 34.10 ms\n",
      "2024-02-12 14:01:46,352 - FireLog - INFO - func:preprocess_region_t took: 1.49 min\n",
      "2024-02-12 14:01:46,355 - FireLog - INFO - filtering and clustering 2023-8-30 PM, VIIRS, CONUS\n",
      "2024-02-12 14:01:46,401 - FireLog - INFO - func:read_preprocessed took: 42.69 ms\n",
      "2024-02-12 14:01:46,451 - FireLog - INFO - func:read_preprocessed took: 47.90 ms\n",
      "2024-02-12 14:03:28,493 - FireLog - INFO - func:do_clustering took: 41.98 ms\n",
      "2024-02-12 14:03:28,520 - FireLog - INFO - func:preprocess_region_t took: 1.70 min\n",
      "2024-02-12 14:03:28,520 - FireLog - INFO - filtering and clustering 2023-8-31 AM, VIIRS, CONUS\n",
      "2024-02-12 14:03:28,533 - FireLog - INFO - func:read_preprocessed took: 12.37 ms\n",
      "2024-02-12 14:03:28,552 - FireLog - INFO - func:read_preprocessed took: 18.72 ms\n",
      "2024-02-12 14:05:21,858 - FireLog - INFO - func:do_clustering took: 32.89 ms\n",
      "2024-02-12 14:05:21,880 - FireLog - INFO - func:preprocess_region_t took: 1.89 min\n",
      "2024-02-12 14:05:21,881 - FireLog - INFO - filtering and clustering 2023-8-31 PM, VIIRS, CONUS\n",
      "2024-02-12 14:05:21,906 - FireLog - INFO - func:read_preprocessed took: 24.80 ms\n",
      "2024-02-12 14:05:21,932 - FireLog - INFO - func:read_preprocessed took: 25.61 ms\n",
      "2024-02-12 14:05:50,153 - FireLog - INFO - func:do_clustering took: 11.93 ms\n",
      "2024-02-12 14:05:50,162 - FireLog - INFO - func:preprocess_region_t took: 28.28 sec\n",
      "2024-02-12 14:05:50,163 - FireLog - INFO - filtering and clustering 2023-9-1 AM, VIIRS, CONUS\n",
      "2024-02-12 14:05:50,172 - FireLog - INFO - func:read_preprocessed took: 9.33 ms\n",
      "2024-02-12 14:05:50,185 - FireLog - INFO - func:read_preprocessed took: 11.76 ms\n",
      "2024-02-12 14:06:26,841 - FireLog - INFO - func:do_clustering took: 13.55 ms\n",
      "2024-02-12 14:06:26,852 - FireLog - INFO - func:preprocess_region_t took: 36.69 sec\n",
      "2024-02-12 14:06:26,853 - FireLog - INFO - filtering and clustering 2023-9-1 PM, VIIRS, CONUS\n",
      "2024-02-12 14:06:26,887 - FireLog - INFO - func:read_preprocessed took: 34.22 ms\n",
      "2024-02-12 14:06:26,924 - FireLog - INFO - func:read_preprocessed took: 35.63 ms\n",
      "2024-02-12 14:06:45,332 - FireLog - INFO - func:do_clustering took: 6.93 ms\n",
      "2024-02-12 14:06:45,338 - FireLog - INFO - func:preprocess_region_t took: 18.49 sec\n",
      "2024-02-12 14:06:45,339 - FireLog - INFO - filtering and clustering 2023-9-2 AM, VIIRS, CONUS\n",
      "2024-02-12 14:06:45,355 - FireLog - INFO - func:read_preprocessed took: 15.83 ms\n",
      "2024-02-12 14:06:45,372 - FireLog - INFO - func:read_preprocessed took: 16.22 ms\n",
      "2024-02-12 14:07:24,699 - FireLog - INFO - func:do_clustering took: 15.52 ms\n",
      "2024-02-12 14:07:24,710 - FireLog - INFO - func:preprocess_region_t took: 39.37 sec\n",
      "2024-02-12 14:07:24,711 - FireLog - INFO - filtering and clustering 2023-9-2 PM, VIIRS, CONUS\n",
      "2024-02-12 14:07:24,748 - FireLog - INFO - func:read_preprocessed took: 37.20 ms\n",
      "2024-02-12 14:07:24,784 - FireLog - INFO - func:read_preprocessed took: 35.25 ms\n",
      "2024-02-12 14:07:39,224 - FireLog - INFO - func:do_clustering took: 5.64 ms\n",
      "2024-02-12 14:07:39,229 - FireLog - INFO - func:preprocess_region_t took: 14.52 sec\n",
      "2024-02-12 14:07:39,229 - FireLog - INFO - filtering and clustering 2023-9-3 AM, VIIRS, CONUS\n",
      "2024-02-12 14:07:39,244 - FireLog - INFO - func:read_preprocessed took: 14.88 ms\n",
      "2024-02-12 14:07:39,257 - FireLog - INFO - func:read_preprocessed took: 12.43 ms\n",
      "2024-02-12 14:08:08,659 - FireLog - INFO - func:do_clustering took: 10.06 ms\n",
      "2024-02-12 14:08:08,668 - FireLog - INFO - func:preprocess_region_t took: 29.44 sec\n",
      "2024-02-12 14:08:08,669 - FireLog - INFO - filtering and clustering 2023-9-3 PM, VIIRS, CONUS\n",
      "2024-02-12 14:08:08,694 - FireLog - INFO - func:read_preprocessed took: 25.21 ms\n",
      "2024-02-12 14:08:08,717 - FireLog - INFO - func:read_preprocessed took: 22.60 ms\n",
      "2024-02-12 14:08:23,314 - FireLog - INFO - func:do_clustering took: 5.67 ms\n",
      "2024-02-12 14:08:23,319 - FireLog - INFO - func:preprocess_region_t took: 14.65 sec\n",
      "2024-02-12 14:08:23,320 - FireLog - INFO - filtering and clustering 2023-9-4 AM, VIIRS, CONUS\n",
      "2024-02-12 14:08:23,329 - FireLog - INFO - func:read_preprocessed took: 9.03 ms\n",
      "2024-02-12 14:08:23,338 - FireLog - INFO - func:read_preprocessed took: 8.20 ms\n",
      "2024-02-12 14:08:47,961 - FireLog - INFO - func:do_clustering took: 8.85 ms\n",
      "2024-02-12 14:08:47,969 - FireLog - INFO - func:preprocess_region_t took: 24.65 sec\n",
      "2024-02-12 14:08:47,970 - FireLog - INFO - filtering and clustering 2023-9-4 PM, VIIRS, CONUS\n",
      "2024-02-12 14:08:47,996 - FireLog - INFO - func:read_preprocessed took: 25.90 ms\n",
      "2024-02-12 14:08:48,025 - FireLog - INFO - func:read_preprocessed took: 28.54 ms\n",
      "2024-02-12 14:09:08,257 - FireLog - INFO - func:do_clustering took: 7.73 ms\n",
      "2024-02-12 14:09:08,264 - FireLog - INFO - func:preprocess_region_t took: 20.29 sec\n",
      "2024-02-12 14:09:08,264 - FireLog - INFO - filtering and clustering 2023-9-5 AM, VIIRS, CONUS\n",
      "2024-02-12 14:09:08,273 - FireLog - INFO - func:read_preprocessed took: 8.60 ms\n",
      "2024-02-12 14:09:08,282 - FireLog - INFO - func:read_preprocessed took: 8.27 ms\n",
      "2024-02-12 14:09:36,191 - FireLog - INFO - func:do_clustering took: 9.67 ms\n",
      "2024-02-12 14:09:36,199 - FireLog - INFO - func:preprocess_region_t took: 27.93 sec\n",
      "2024-02-12 14:09:36,199 - FireLog - INFO - filtering and clustering 2023-9-5 PM, VIIRS, CONUS\n",
      "2024-02-12 14:09:36,229 - FireLog - INFO - func:read_preprocessed took: 29.04 ms\n",
      "2024-02-12 14:09:36,261 - FireLog - INFO - func:read_preprocessed took: 31.61 ms\n",
      "2024-02-12 14:09:59,082 - FireLog - INFO - func:do_clustering took: 8.27 ms\n",
      "2024-02-12 14:09:59,090 - FireLog - INFO - func:preprocess_region_t took: 22.89 sec\n",
      "2024-02-12 14:09:59,090 - FireLog - INFO - filtering and clustering 2023-9-6 AM, VIIRS, CONUS\n",
      "2024-02-12 14:09:59,099 - FireLog - INFO - func:read_preprocessed took: 8.36 ms\n",
      "2024-02-12 14:09:59,110 - FireLog - INFO - func:read_preprocessed took: 10.99 ms\n",
      "2024-02-12 14:10:27,720 - FireLog - INFO - func:do_clustering took: 11.04 ms\n",
      "2024-02-12 14:10:27,728 - FireLog - INFO - func:preprocess_region_t took: 28.64 sec\n"
     ]
    },
    {
     "name": "stdout",
     "output_type": "stream",
     "text": [
      "CPU times: user 16min 11s, sys: 928 ms, total: 16min 12s\n",
      "Wall time: 16min 17s\n"
     ]
    }
   ],
   "source": [
    "%%time\n",
    "for t in list_of_ts:\n",
    "    preprocess.preprocess_region_t(t, sensor=\"VIIRS\", region=region)"
   ]
  }
 ],
 "metadata": {
  "kernelspec": {
   "display_name": "Python 3 (ipykernel)",
   "language": "python",
   "name": "python3"
  },
  "language_info": {
   "codemirror_mode": {
    "name": "ipython",
    "version": 3
   },
   "file_extension": ".py",
   "mimetype": "text/x-python",
   "name": "python",
   "nbconvert_exporter": "python",
   "pygments_lexer": "ipython3",
   "version": "3.11.7"
  }
 },
 "nbformat": 4,
 "nbformat_minor": 5
}
