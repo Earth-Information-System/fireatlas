{
 "cells": [
  {
   "cell_type": "code",
   "execution_count": 1,
   "id": "30ed1049-5466-4d04-bcef-ac0c8ffa1d6d",
   "metadata": {
    "execution": {
     "iopub.execute_input": "2024-01-22T21:58:55.351362Z",
     "iopub.status.busy": "2024-01-22T21:58:55.350944Z",
     "iopub.status.idle": "2024-01-22T21:58:55.672065Z",
     "shell.execute_reply": "2024-01-22T21:58:55.671483Z",
     "shell.execute_reply.started": "2024-01-22T21:58:55.351322Z"
    }
   },
   "outputs": [],
   "source": [
    "from preprocess import (\n",
    "    preprocess_monthly_file, \n",
    "    preprocessed_filename,\n",
    "    preprocess_region,\n",
    "    read_region,\n",
    "    read_preprocessed,\n",
    ")"
   ]
  },
  {
   "cell_type": "code",
   "execution_count": 2,
   "id": "27a71fa5-d7cd-4f33-a962-9b09ba3e6433",
   "metadata": {
    "execution": {
     "iopub.execute_input": "2024-01-22T21:58:56.554206Z",
     "iopub.status.busy": "2024-01-22T21:58:56.553608Z",
     "iopub.status.idle": "2024-01-22T21:58:56.559412Z",
     "shell.execute_reply": "2024-01-22T21:58:56.558887Z",
     "shell.execute_reply.started": "2024-01-22T21:58:56.554165Z"
    }
   },
   "outputs": [],
   "source": [
    "t = (2022, 8, 19, \"AM\")\n",
    "# region = ('CONUS', [-126.401171875,24.071240929282325,\n",
    "#                     -61.36210937500001,49.40003415463647])\n",
    "region = ('WesternUS',[-125.698046875,31.676476158707615,\n",
    "                       -101.00078125,49.51429477264348])\n",
    "sat = \"SNPP\""
   ]
  },
  {
   "cell_type": "markdown",
   "id": "5e54a2d4-b41b-4d53-a4ba-7a41f02799f5",
   "metadata": {},
   "source": [
    "## Once per region\n",
    "Start by preprocessing the region to get rid of static flare sources. Save that new \"swiss cheese\" shape off into a geojson file for later.\n"
   ]
  },
  {
   "cell_type": "code",
   "execution_count": 3,
   "id": "1a3c495d-66fa-458f-8afb-01e982b0709a",
   "metadata": {
    "execution": {
     "iopub.execute_input": "2024-01-22T21:58:57.769000Z",
     "iopub.status.busy": "2024-01-22T21:58:57.767060Z",
     "iopub.status.idle": "2024-01-22T21:59:22.883166Z",
     "shell.execute_reply": "2024-01-22T21:59:22.882530Z",
     "shell.execute_reply.started": "2024-01-22T21:58:57.768920Z"
    },
    "scrolled": true
   },
   "outputs": [],
   "source": [
    "preprocess_region(region)"
   ]
  },
  {
   "cell_type": "markdown",
   "id": "16bd857f-f57a-4fc3-9e49-2c9536c97019",
   "metadata": {},
   "source": [
    "## Once per region per input file\n",
    "\n",
    "Next process each monthly file for the region."
   ]
  },
  {
   "cell_type": "code",
   "execution_count": 4,
   "id": "66bc471a-5176-4223-9b47-7c0ba124786b",
   "metadata": {
    "execution": {
     "iopub.execute_input": "2024-01-22T21:59:26.916836Z",
     "iopub.status.busy": "2024-01-22T21:59:26.916463Z",
     "iopub.status.idle": "2024-01-22T21:59:27.008323Z",
     "shell.execute_reply": "2024-01-22T21:59:27.007866Z",
     "shell.execute_reply.started": "2024-01-22T21:59:26.916812Z"
    }
   },
   "outputs": [],
   "source": [
    "region = read_region(region)"
   ]
  },
  {
   "cell_type": "code",
   "execution_count": 5,
   "id": "fccacc6e-2789-436b-be79-5b0ff5b887d8",
   "metadata": {
    "execution": {
     "iopub.execute_input": "2024-01-22T21:59:28.083623Z",
     "iopub.status.busy": "2024-01-22T21:59:28.083244Z",
     "iopub.status.idle": "2024-01-22T22:04:18.999189Z",
     "shell.execute_reply": "2024-01-22T22:04:18.998626Z",
     "shell.execute_reply.started": "2024-01-22T21:59:28.083593Z"
    }
   },
   "outputs": [
    {
     "name": "stdout",
     "output_type": "stream",
     "text": [
      "preprocessing monthly file for 2022-8, WesternUS, SNPP\n",
      "filtering...\n",
      "setting ap and pm...\n",
      "clustering...\n",
      "writing processed/SNPP/WesternUS/20220801_AM.txt\n",
      "clustering...\n",
      "writing processed/SNPP/WesternUS/20220801_PM.txt\n",
      "clustering...\n",
      "writing processed/SNPP/WesternUS/20220802_AM.txt\n",
      "clustering...\n",
      "writing processed/SNPP/WesternUS/20220802_PM.txt\n",
      "clustering...\n",
      "writing processed/SNPP/WesternUS/20220803_AM.txt\n",
      "clustering...\n",
      "writing processed/SNPP/WesternUS/20220803_PM.txt\n",
      "clustering...\n",
      "writing processed/SNPP/WesternUS/20220804_AM.txt\n",
      "clustering...\n",
      "writing processed/SNPP/WesternUS/20220804_PM.txt\n",
      "clustering...\n",
      "writing processed/SNPP/WesternUS/20220805_AM.txt\n",
      "clustering...\n",
      "writing processed/SNPP/WesternUS/20220805_PM.txt\n",
      "clustering...\n",
      "writing processed/SNPP/WesternUS/20220806_AM.txt\n",
      "clustering...\n",
      "writing processed/SNPP/WesternUS/20220806_PM.txt\n",
      "clustering...\n",
      "writing processed/SNPP/WesternUS/20220807_AM.txt\n",
      "clustering...\n",
      "writing processed/SNPP/WesternUS/20220807_PM.txt\n",
      "clustering...\n",
      "writing processed/SNPP/WesternUS/20220808_AM.txt\n",
      "clustering...\n",
      "writing processed/SNPP/WesternUS/20220808_PM.txt\n",
      "clustering...\n",
      "writing processed/SNPP/WesternUS/20220809_AM.txt\n",
      "clustering...\n",
      "writing processed/SNPP/WesternUS/20220809_PM.txt\n",
      "clustering...\n",
      "writing processed/SNPP/WesternUS/20220810_AM.txt\n",
      "clustering...\n",
      "writing processed/SNPP/WesternUS/20220810_PM.txt\n",
      "clustering...\n",
      "writing processed/SNPP/WesternUS/20220811_AM.txt\n",
      "clustering...\n",
      "writing processed/SNPP/WesternUS/20220811_PM.txt\n",
      "clustering...\n",
      "writing processed/SNPP/WesternUS/20220812_AM.txt\n",
      "clustering...\n",
      "writing processed/SNPP/WesternUS/20220812_PM.txt\n",
      "clustering...\n",
      "writing processed/SNPP/WesternUS/20220813_AM.txt\n",
      "clustering...\n",
      "writing processed/SNPP/WesternUS/20220813_PM.txt\n",
      "clustering...\n",
      "writing processed/SNPP/WesternUS/20220814_AM.txt\n",
      "clustering...\n",
      "writing processed/SNPP/WesternUS/20220814_PM.txt\n",
      "clustering...\n",
      "writing processed/SNPP/WesternUS/20220815_AM.txt\n",
      "clustering...\n",
      "writing processed/SNPP/WesternUS/20220815_PM.txt\n",
      "clustering...\n",
      "writing processed/SNPP/WesternUS/20220816_AM.txt\n",
      "clustering...\n",
      "writing processed/SNPP/WesternUS/20220816_PM.txt\n",
      "clustering...\n",
      "writing processed/SNPP/WesternUS/20220817_AM.txt\n",
      "clustering...\n",
      "writing processed/SNPP/WesternUS/20220817_PM.txt\n",
      "clustering...\n",
      "writing processed/SNPP/WesternUS/20220818_AM.txt\n",
      "clustering...\n",
      "writing processed/SNPP/WesternUS/20220818_PM.txt\n",
      "clustering...\n",
      "writing processed/SNPP/WesternUS/20220819_AM.txt\n",
      "clustering...\n",
      "writing processed/SNPP/WesternUS/20220819_PM.txt\n",
      "clustering...\n",
      "writing processed/SNPP/WesternUS/20220820_AM.txt\n",
      "clustering...\n",
      "writing processed/SNPP/WesternUS/20220820_PM.txt\n",
      "clustering...\n",
      "writing processed/SNPP/WesternUS/20220821_AM.txt\n",
      "clustering...\n",
      "writing processed/SNPP/WesternUS/20220821_PM.txt\n",
      "clustering...\n",
      "writing processed/SNPP/WesternUS/20220822_AM.txt\n",
      "clustering...\n",
      "writing processed/SNPP/WesternUS/20220822_PM.txt\n",
      "clustering...\n",
      "writing processed/SNPP/WesternUS/20220823_AM.txt\n",
      "clustering...\n",
      "writing processed/SNPP/WesternUS/20220823_PM.txt\n",
      "clustering...\n",
      "writing processed/SNPP/WesternUS/20220824_AM.txt\n",
      "clustering...\n",
      "writing processed/SNPP/WesternUS/20220824_PM.txt\n",
      "clustering...\n",
      "writing processed/SNPP/WesternUS/20220825_AM.txt\n",
      "clustering...\n",
      "writing processed/SNPP/WesternUS/20220825_PM.txt\n",
      "clustering...\n",
      "writing processed/SNPP/WesternUS/20220826_AM.txt\n",
      "clustering...\n",
      "writing processed/SNPP/WesternUS/20220826_PM.txt\n",
      "clustering...\n",
      "writing processed/SNPP/WesternUS/20220827_AM.txt\n",
      "clustering...\n",
      "writing processed/SNPP/WesternUS/20220827_PM.txt\n",
      "clustering...\n",
      "writing processed/SNPP/WesternUS/20220828_AM.txt\n",
      "clustering...\n",
      "writing processed/SNPP/WesternUS/20220828_PM.txt\n",
      "clustering...\n",
      "writing processed/SNPP/WesternUS/20220829_AM.txt\n",
      "clustering...\n",
      "writing processed/SNPP/WesternUS/20220829_PM.txt\n",
      "clustering...\n",
      "writing processed/SNPP/WesternUS/20220830_AM.txt\n",
      "clustering...\n",
      "writing processed/SNPP/WesternUS/20220830_PM.txt\n",
      "clustering...\n",
      "writing processed/SNPP/WesternUS/20220831_AM.txt\n",
      "clustering...\n",
      "writing processed/SNPP/WesternUS/20220831_PM.txt\n"
     ]
    }
   ],
   "source": [
    "preprocess_monthly_file(t, region, sat)"
   ]
  },
  {
   "cell_type": "markdown",
   "id": "e39f6598-7366-4e5f-90d5-c06ee5952efb",
   "metadata": {},
   "source": [
    "## Run the rest of the algorithm\n",
    "\n",
    "Now you have pre-clustered data at the half day for the region."
   ]
  },
  {
   "cell_type": "code",
   "execution_count": null,
   "id": "3de322b5-32ad-4e2e-9e85-6f0f603ec7e8",
   "metadata": {},
   "outputs": [],
   "source": [
    "read_preprocessed(t, region, sat)"
   ]
  },
  {
   "cell_type": "markdown",
   "id": "7da48319-4b65-4d84-aa83-f2de98e60679",
   "metadata": {},
   "source": [
    "## Experiments with hulls\n",
    "\n",
    "Trying out next steps around hulls:"
   ]
  },
  {
   "cell_type": "code",
   "execution_count": null,
   "id": "499a50a9-931e-4cc9-afe0-eca5caddcbf7",
   "metadata": {},
   "outputs": [],
   "source": [
    "df = read_preprocessed(t, region, sat)\n",
    "df.initial_cid.value_counts()"
   ]
  },
  {
   "cell_type": "code",
   "execution_count": null,
   "id": "2d49cba2-95ee-46d1-9142-2e6fb695a213",
   "metadata": {},
   "outputs": [],
   "source": [
    "%%timeit\n",
    "for ic, subset in df.groupby(\"initial_cid\"):\n",
    "    pixels = [\n",
    "        FirePixel(\n",
    "            row.x,\n",
    "            row.y,\n",
    "            row.Lon,\n",
    "            row.Lat,\n",
    "            row.FRP,\n",
    "            row.DS,\n",
    "            row.DT,\n",
    "            row.ampm,\n",
    "            row.YYYYMMDD_HHMM,\n",
    "            row.Sat,\n",
    "            row.origin,\n",
    "        )\n",
    "        for row in subset.itertuples()\n",
    "    ]\n",
    "    cluster = Cluster(ic, pixels, t, sensor=firessr)\n",
    "    hull = cluster.hull"
   ]
  },
  {
   "cell_type": "code",
   "execution_count": null,
   "id": "25eec586-e53f-493d-8062-569db07e81d8",
   "metadata": {},
   "outputs": [],
   "source": [
    "%%timeit\n",
    "for ic in df.initial_cid.unique():\n",
    "    pixels = [\n",
    "        FirePixel(\n",
    "            row.x,\n",
    "            row.y,\n",
    "            row.Lon,\n",
    "            row.Lat,\n",
    "            row.FRP,\n",
    "            row.DS,\n",
    "            row.DT,\n",
    "            row.ampm,\n",
    "            row.YYYYMMDD_HHMM,\n",
    "            row.Sat,\n",
    "            row.origin,\n",
    "        )\n",
    "        for row in df.loc[df.initial_cid == ic].itertuples()\n",
    "    ]\n",
    "    cluster = Cluster(ic, pixels, t, sensor=firessr)\n",
    "    hull = cluster.hull"
   ]
  }
 ],
 "metadata": {
  "kernelspec": {
   "display_name": "Python 3 (ipykernel)",
   "language": "python",
   "name": "python3"
  },
  "language_info": {
   "codemirror_mode": {
    "name": "ipython",
    "version": 3
   },
   "file_extension": ".py",
   "mimetype": "text/x-python",
   "name": "python",
   "nbconvert_exporter": "python",
   "pygments_lexer": "ipython3",
   "version": "3.11.7"
  }
 },
 "nbformat": 4,
 "nbformat_minor": 5
}
