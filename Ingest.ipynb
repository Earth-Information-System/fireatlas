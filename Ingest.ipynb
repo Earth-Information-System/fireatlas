{
 "cells": [
  {
   "cell_type": "code",
   "execution_count": 1,
   "id": "30ed1049-5466-4d04-bcef-ac0c8ffa1d6d",
   "metadata": {
    "execution": {
     "iopub.execute_input": "2024-01-25T15:45:58.353883Z",
     "iopub.status.busy": "2024-01-25T15:45:58.353416Z",
     "iopub.status.idle": "2024-01-25T15:45:58.721127Z",
     "shell.execute_reply": "2024-01-25T15:45:58.720415Z",
     "shell.execute_reply.started": "2024-01-25T15:45:58.353837Z"
    }
   },
   "outputs": [],
   "source": [
    "import preprocess"
   ]
  },
  {
   "cell_type": "code",
   "execution_count": 2,
   "id": "27a71fa5-d7cd-4f33-a962-9b09ba3e6433",
   "metadata": {
    "execution": {
     "iopub.execute_input": "2024-01-25T15:45:58.722028Z",
     "iopub.status.busy": "2024-01-25T15:45:58.721779Z",
     "iopub.status.idle": "2024-01-25T15:45:58.725228Z",
     "shell.execute_reply": "2024-01-25T15:45:58.724783Z",
     "shell.execute_reply.started": "2024-01-25T15:45:58.722010Z"
    }
   },
   "outputs": [],
   "source": [
    "tst = [2023, 8, 28, 'AM']\n",
    "ted = [2023, 9, 6, 'AM']\n",
    "region = ('CONUS', [-126.401171875,24.071240929282325,\n",
    "                    -61.36210937500001,49.40003415463647])"
   ]
  },
  {
   "cell_type": "code",
   "execution_count": 3,
   "id": "204a5501-a2d5-481d-885d-0cfd0a7d9fb7",
   "metadata": {
    "execution": {
     "iopub.execute_input": "2024-01-25T15:45:58.725991Z",
     "iopub.status.busy": "2024-01-25T15:45:58.725808Z",
     "iopub.status.idle": "2024-01-25T15:45:58.745540Z",
     "shell.execute_reply": "2024-01-25T15:45:58.745092Z",
     "shell.execute_reply.started": "2024-01-25T15:45:58.725973Z"
    }
   },
   "outputs": [
    {
     "data": {
      "text/plain": [
       "[[2023, 8, 28, 'AM'],\n",
       " [2023, 8, 28, 'PM'],\n",
       " [2023, 8, 29, 'AM'],\n",
       " [2023, 8, 29, 'PM'],\n",
       " [2023, 8, 30, 'AM'],\n",
       " [2023, 8, 30, 'PM'],\n",
       " [2023, 8, 31, 'AM'],\n",
       " [2023, 8, 31, 'PM'],\n",
       " [2023, 9, 1, 'AM'],\n",
       " [2023, 9, 1, 'PM'],\n",
       " [2023, 9, 2, 'AM'],\n",
       " [2023, 9, 2, 'PM'],\n",
       " [2023, 9, 3, 'AM'],\n",
       " [2023, 9, 3, 'PM'],\n",
       " [2023, 9, 4, 'AM'],\n",
       " [2023, 9, 4, 'PM'],\n",
       " [2023, 9, 5, 'AM'],\n",
       " [2023, 9, 5, 'PM'],\n",
       " [2023, 9, 6, 'AM']]"
      ]
     },
     "execution_count": 3,
     "metadata": {},
     "output_type": "execute_result"
    }
   ],
   "source": [
    "import FireTime\n",
    "\n",
    "list_of_ts = list(FireTime.t_generator(tst, ted))\n",
    "list_of_ts"
   ]
  },
  {
   "cell_type": "code",
   "execution_count": 4,
   "id": "cfc02dc1-e4f3-419c-a299-e3210a6741c4",
   "metadata": {
    "execution": {
     "iopub.execute_input": "2024-01-25T14:33:50.800097Z",
     "iopub.status.busy": "2024-01-25T14:33:50.799573Z",
     "iopub.status.idle": "2024-01-25T14:33:51.072699Z",
     "shell.execute_reply": "2024-01-25T14:33:51.071062Z",
     "shell.execute_reply.started": "2024-01-25T14:33:50.800049Z"
    }
   },
   "outputs": [
    {
     "name": "stdout",
     "output_type": "stream",
     "text": [
      "\u001b[01;34m./processed\u001b[0m\n",
      "\n",
      "0 directories, 0 files\n"
     ]
    }
   ],
   "source": [
    "!tree ./processed"
   ]
  },
  {
   "cell_type": "markdown",
   "id": "c5cbf654-16f4-4790-95e0-a90140e79e78",
   "metadata": {},
   "source": [
    "## Once per landcover file\n",
    "\n",
    "If your landcover file is not in lat,lon then transform it and resave it. You will use this file a bunch later on."
   ]
  },
  {
   "cell_type": "code",
   "execution_count": 5,
   "id": "94bc6f4a-f61b-4d82-9e3b-d3749552c84c",
   "metadata": {
    "execution": {
     "iopub.execute_input": "2024-01-25T14:33:53.825380Z",
     "iopub.status.busy": "2024-01-25T14:33:53.824890Z",
     "iopub.status.idle": "2024-01-25T14:33:56.730073Z",
     "shell.execute_reply": "2024-01-25T14:33:56.729554Z",
     "shell.execute_reply.started": "2024-01-25T14:33:53.825332Z"
    }
   },
   "outputs": [
    {
     "name": "stderr",
     "output_type": "stream",
     "text": [
      "2024-01-25 09:33:56,727 - FireLog - INFO - func:preprocess_landcover took: 2.90 sec\n"
     ]
    }
   ],
   "source": [
    "preprocess.preprocess_landcover()"
   ]
  },
  {
   "cell_type": "markdown",
   "id": "5e54a2d4-b41b-4d53-a4ba-7a41f02799f5",
   "metadata": {},
   "source": [
    "## Once per region\n",
    "\n",
    "Preprocess the region to get rid of static flare sources. Save that new \"swiss cheese\" shape off into a geojson file for later."
   ]
  },
  {
   "cell_type": "code",
   "execution_count": 6,
   "id": "1a3c495d-66fa-458f-8afb-01e982b0709a",
   "metadata": {
    "execution": {
     "iopub.execute_input": "2024-01-25T14:33:58.578210Z",
     "iopub.status.busy": "2024-01-25T14:33:58.577902Z",
     "iopub.status.idle": "2024-01-25T14:35:14.690646Z",
     "shell.execute_reply": "2024-01-25T14:35:14.690070Z",
     "shell.execute_reply.started": "2024-01-25T14:33:58.578195Z"
    }
   },
   "outputs": [
    {
     "name": "stderr",
     "output_type": "stream",
     "text": [
      "2024-01-25 09:35:14,688 - FireLog - INFO - func:preprocess_region took: 1.27 min\n"
     ]
    }
   ],
   "source": [
    "preprocess.preprocess_region(region)"
   ]
  },
  {
   "cell_type": "code",
   "execution_count": 7,
   "id": "58f33e76-5a13-4249-ba6f-8c5634315ca9",
   "metadata": {
    "execution": {
     "iopub.execute_input": "2024-01-25T14:35:14.691877Z",
     "iopub.status.busy": "2024-01-25T14:35:14.691613Z",
     "iopub.status.idle": "2024-01-25T14:35:14.982229Z",
     "shell.execute_reply": "2024-01-25T14:35:14.981191Z",
     "shell.execute_reply.started": "2024-01-25T14:35:14.691858Z"
    }
   },
   "outputs": [
    {
     "name": "stdout",
     "output_type": "stream",
     "text": [
      "\u001b[01;34m./processed\u001b[0m\n",
      "└── \u001b[00mCONUS.json\u001b[0m\n",
      "\n",
      "0 directories, 1 file\n"
     ]
    }
   ],
   "source": [
    "!tree ./processed"
   ]
  },
  {
   "cell_type": "markdown",
   "id": "16bd857f-f57a-4fc3-9e49-2c9536c97019",
   "metadata": {},
   "source": [
    "## Once per input file\n",
    "\n",
    "Next process each NRT file into half day files. First we'll get all the times that are of interest. This could also be done by inspecting all looking at all the files that exist and seeing which have not been preprocessed yet."
   ]
  },
  {
   "cell_type": "code",
   "execution_count": 8,
   "id": "864146bf-ee1e-4785-9106-9df1359f2aaf",
   "metadata": {
    "execution": {
     "iopub.execute_input": "2024-01-25T14:35:14.983495Z",
     "iopub.status.busy": "2024-01-25T14:35:14.983257Z",
     "iopub.status.idle": "2024-01-25T14:35:22.490360Z",
     "shell.execute_reply": "2024-01-25T14:35:22.490003Z",
     "shell.execute_reply.started": "2024-01-25T14:35:14.983468Z"
    }
   },
   "outputs": [
    {
     "name": "stderr",
     "output_type": "stream",
     "text": [
      "2024-01-25 09:35:14,985 - FireLog - INFO - preprocessing NRT file for 2023-8-28, SNPP\n",
      "2024-01-25 09:35:15,376 - FireLog - INFO - func:preprocess_NRT_file took: 391.06 ms\n",
      "2024-01-25 09:35:15,377 - FireLog - INFO - preprocessing NRT file for 2023-8-29, SNPP\n",
      "2024-01-25 09:35:15,705 - FireLog - INFO - func:preprocess_NRT_file took: 328.23 ms\n",
      "2024-01-25 09:35:15,705 - FireLog - INFO - preprocessing NRT file for 2023-8-30, SNPP\n",
      "2024-01-25 09:35:16,048 - FireLog - INFO - func:preprocess_NRT_file took: 342.58 ms\n",
      "2024-01-25 09:35:16,049 - FireLog - INFO - preprocessing NRT file for 2023-8-31, SNPP\n",
      "2024-01-25 09:35:16,390 - FireLog - INFO - func:preprocess_NRT_file took: 341.22 ms\n",
      "2024-01-25 09:35:16,391 - FireLog - INFO - preprocessing NRT file for 2023-9-1, SNPP\n",
      "2024-01-25 09:35:16,784 - FireLog - INFO - func:preprocess_NRT_file took: 392.99 ms\n",
      "2024-01-25 09:35:16,785 - FireLog - INFO - preprocessing NRT file for 2023-9-2, SNPP\n",
      "2024-01-25 09:35:17,273 - FireLog - INFO - func:preprocess_NRT_file took: 487.93 ms\n",
      "2024-01-25 09:35:17,273 - FireLog - INFO - preprocessing NRT file for 2023-9-3, SNPP\n",
      "2024-01-25 09:35:17,677 - FireLog - INFO - func:preprocess_NRT_file took: 403.44 ms\n",
      "2024-01-25 09:35:17,677 - FireLog - INFO - preprocessing NRT file for 2023-9-4, SNPP\n",
      "2024-01-25 09:35:18,009 - FireLog - INFO - func:preprocess_NRT_file took: 332.10 ms\n",
      "2024-01-25 09:35:18,010 - FireLog - INFO - preprocessing NRT file for 2023-9-5, SNPP\n",
      "2024-01-25 09:35:18,417 - FireLog - INFO - func:preprocess_NRT_file took: 407.03 ms\n",
      "2024-01-25 09:35:18,417 - FireLog - INFO - preprocessing NRT file for 2023-9-6, SNPP\n",
      "2024-01-25 09:35:18,709 - FireLog - INFO - func:preprocess_NRT_file took: 291.29 ms\n",
      "2024-01-25 09:35:18,709 - FireLog - INFO - preprocessing NRT file for 2023-8-28, NOAA20\n",
      "2024-01-25 09:35:19,139 - FireLog - INFO - func:preprocess_NRT_file took: 430.02 ms\n",
      "2024-01-25 09:35:19,140 - FireLog - INFO - preprocessing NRT file for 2023-8-29, NOAA20\n",
      "2024-01-25 09:35:19,499 - FireLog - INFO - func:preprocess_NRT_file took: 358.96 ms\n",
      "2024-01-25 09:35:19,500 - FireLog - INFO - preprocessing NRT file for 2023-8-30, NOAA20\n",
      "2024-01-25 09:35:19,810 - FireLog - INFO - func:preprocess_NRT_file took: 310.58 ms\n",
      "2024-01-25 09:35:19,811 - FireLog - INFO - preprocessing NRT file for 2023-8-31, NOAA20\n",
      "2024-01-25 09:35:20,131 - FireLog - INFO - func:preprocess_NRT_file took: 320.14 ms\n",
      "2024-01-25 09:35:20,131 - FireLog - INFO - preprocessing NRT file for 2023-9-1, NOAA20\n",
      "2024-01-25 09:35:20,543 - FireLog - INFO - func:preprocess_NRT_file took: 412.10 ms\n",
      "2024-01-25 09:35:20,544 - FireLog - INFO - preprocessing NRT file for 2023-9-2, NOAA20\n",
      "2024-01-25 09:35:20,997 - FireLog - INFO - func:preprocess_NRT_file took: 453.21 ms\n",
      "2024-01-25 09:35:20,998 - FireLog - INFO - preprocessing NRT file for 2023-9-3, NOAA20\n",
      "2024-01-25 09:35:21,361 - FireLog - INFO - func:preprocess_NRT_file took: 363.23 ms\n",
      "2024-01-25 09:35:21,362 - FireLog - INFO - preprocessing NRT file for 2023-9-4, NOAA20\n",
      "2024-01-25 09:35:21,721 - FireLog - INFO - func:preprocess_NRT_file took: 359.74 ms\n",
      "2024-01-25 09:35:21,722 - FireLog - INFO - preprocessing NRT file for 2023-9-5, NOAA20\n",
      "2024-01-25 09:35:22,107 - FireLog - INFO - func:preprocess_NRT_file took: 384.60 ms\n",
      "2024-01-25 09:35:22,108 - FireLog - INFO - preprocessing NRT file for 2023-9-6, NOAA20\n",
      "2024-01-25 09:35:22,488 - FireLog - INFO - func:preprocess_NRT_file took: 380.29 ms\n"
     ]
    },
    {
     "name": "stdout",
     "output_type": "stream",
     "text": [
      "CPU times: user 7.29 s, sys: 196 ms, total: 7.48 s\n",
      "Wall time: 7.5 s\n"
     ]
    }
   ],
   "source": [
    "%%time\n",
    "for sat in [\"SNPP\", \"NOAA20\"]:\n",
    "    for t in list_of_ts[::2]:\n",
    "        preprocess.preprocess_NRT_file(t, sat)"
   ]
  },
  {
   "cell_type": "code",
   "execution_count": 9,
   "id": "99969950-bf93-4c20-90bf-01b52b631f9e",
   "metadata": {
    "execution": {
     "iopub.execute_input": "2024-01-25T14:35:22.491276Z",
     "iopub.status.busy": "2024-01-25T14:35:22.491095Z",
     "iopub.status.idle": "2024-01-25T14:35:22.797215Z",
     "shell.execute_reply": "2024-01-25T14:35:22.794594Z",
     "shell.execute_reply.started": "2024-01-25T14:35:22.491263Z"
    },
    "scrolled": true
   },
   "outputs": [
    {
     "name": "stdout",
     "output_type": "stream",
     "text": [
      "\u001b[01;34m./processed\u001b[0m\n",
      "├── \u001b[00mCONUS.json\u001b[0m\n",
      "├── \u001b[01;34mNOAA20\u001b[0m\n",
      "│   ├── \u001b[00m20230828_AM.txt\u001b[0m\n",
      "│   ├── \u001b[00m20230828_PM.txt\u001b[0m\n",
      "│   ├── \u001b[00m20230829_AM.txt\u001b[0m\n",
      "│   ├── \u001b[00m20230829_PM.txt\u001b[0m\n",
      "│   ├── \u001b[00m20230830_AM.txt\u001b[0m\n",
      "│   ├── \u001b[00m20230830_PM.txt\u001b[0m\n",
      "│   ├── \u001b[00m20230831_AM.txt\u001b[0m\n",
      "│   ├── \u001b[00m20230831_PM.txt\u001b[0m\n",
      "│   ├── \u001b[00m20230901_AM.txt\u001b[0m\n",
      "│   ├── \u001b[00m20230901_PM.txt\u001b[0m\n",
      "│   ├── \u001b[00m20230902_AM.txt\u001b[0m\n",
      "│   ├── \u001b[00m20230902_PM.txt\u001b[0m\n",
      "│   ├── \u001b[00m20230903_AM.txt\u001b[0m\n",
      "│   ├── \u001b[00m20230903_PM.txt\u001b[0m\n",
      "│   ├── \u001b[00m20230904_AM.txt\u001b[0m\n",
      "│   ├── \u001b[00m20230904_PM.txt\u001b[0m\n",
      "│   ├── \u001b[00m20230905_AM.txt\u001b[0m\n",
      "│   ├── \u001b[00m20230905_PM.txt\u001b[0m\n",
      "│   ├── \u001b[00m20230906_AM.txt\u001b[0m\n",
      "│   └── \u001b[00m20230906_PM.txt\u001b[0m\n",
      "└── \u001b[01;34mSNPP\u001b[0m\n",
      "    ├── \u001b[00m20230828_AM.txt\u001b[0m\n",
      "    ├── \u001b[00m20230828_PM.txt\u001b[0m\n",
      "    ├── \u001b[00m20230829_AM.txt\u001b[0m\n",
      "    ├── \u001b[00m20230829_PM.txt\u001b[0m\n",
      "    ├── \u001b[00m20230830_AM.txt\u001b[0m\n",
      "    ├── \u001b[00m20230830_PM.txt\u001b[0m\n",
      "    ├── \u001b[00m20230831_AM.txt\u001b[0m\n",
      "    ├── \u001b[00m20230831_PM.txt\u001b[0m\n",
      "    ├── \u001b[00m20230901_AM.txt\u001b[0m\n",
      "    ├── \u001b[00m20230901_PM.txt\u001b[0m\n",
      "    ├── \u001b[00m20230902_AM.txt\u001b[0m\n",
      "    ├── \u001b[00m20230902_PM.txt\u001b[0m\n",
      "    ├── \u001b[00m20230903_AM.txt\u001b[0m\n",
      "    ├── \u001b[00m20230903_PM.txt\u001b[0m\n",
      "    ├── \u001b[00m20230904_AM.txt\u001b[0m\n",
      "    ├── \u001b[00m20230904_PM.txt\u001b[0m\n",
      "    ├── \u001b[00m20230905_AM.txt\u001b[0m\n",
      "    ├── \u001b[00m20230905_PM.txt\u001b[0m\n",
      "    ├── \u001b[00m20230906_AM.txt\u001b[0m\n",
      "    └── \u001b[00m20230906_PM.txt\u001b[0m\n",
      "\n",
      "2 directories, 41 files\n"
     ]
    }
   ],
   "source": [
    "!tree ./processed"
   ]
  },
  {
   "cell_type": "markdown",
   "id": "73f9065d-3519-4673-98e5-3afd0e29ab80",
   "metadata": {},
   "source": [
    "## Once per region and t\n",
    "\n",
    "Do initial filtering and clustering using the preprocessed region and the half day files.\n",
    "\n",
    "Note: for the purpose of timing I am running the full month, but each of these steps could run in a separate proccess."
   ]
  },
  {
   "cell_type": "code",
   "execution_count": 10,
   "id": "66bc471a-5176-4223-9b47-7c0ba124786b",
   "metadata": {
    "editable": true,
    "execution": {
     "iopub.execute_input": "2024-01-25T14:35:22.801743Z",
     "iopub.status.busy": "2024-01-25T14:35:22.800939Z",
     "iopub.status.idle": "2024-01-25T14:35:22.997174Z",
     "shell.execute_reply": "2024-01-25T14:35:22.996640Z",
     "shell.execute_reply.started": "2024-01-25T14:35:22.801667Z"
    },
    "slideshow": {
     "slide_type": ""
    },
    "tags": []
   },
   "outputs": [
    {
     "name": "stderr",
     "output_type": "stream",
     "text": [
      "2024-01-25 09:35:22,994 - FireLog - INFO - func:read_region took: 190.18 ms\n"
     ]
    }
   ],
   "source": [
    "region = preprocess.read_region(region)"
   ]
  },
  {
   "cell_type": "code",
   "execution_count": 11,
   "id": "5ed3b8b4-7330-48e4-a3ff-4ca4d56add2c",
   "metadata": {
    "editable": true,
    "execution": {
     "iopub.execute_input": "2024-01-25T14:35:22.997715Z",
     "iopub.status.busy": "2024-01-25T14:35:22.997579Z",
     "iopub.status.idle": "2024-01-25T14:48:15.803184Z",
     "shell.execute_reply": "2024-01-25T14:48:15.802530Z",
     "shell.execute_reply.started": "2024-01-25T14:35:22.997702Z"
    },
    "scrolled": true,
    "slideshow": {
     "slide_type": ""
    },
    "tags": []
   },
   "outputs": [
    {
     "name": "stderr",
     "output_type": "stream",
     "text": [
      "2024-01-25 09:35:22,998 - FireLog - INFO - filtering and clustering 2023-8-28 AM, VIIRS, CONUS\n",
      "2024-01-25 09:35:23,021 - FireLog - INFO - func:read_preprocessed took: 21.62 ms\n",
      "2024-01-25 09:35:23,047 - FireLog - INFO - func:read_preprocessed took: 25.51 ms\n",
      "2024-01-25 09:36:32,649 - FireLog - INFO - func:do_clustering took: 377.49 ms\n",
      "2024-01-25 09:36:32,675 - FireLog - INFO - func:preprocess_region_t took: 1.16 min\n",
      "2024-01-25 09:36:32,676 - FireLog - INFO - filtering and clustering 2023-8-28 PM, VIIRS, CONUS\n",
      "2024-01-25 09:36:32,708 - FireLog - INFO - func:read_preprocessed took: 31.57 ms\n",
      "2024-01-25 09:36:32,741 - FireLog - INFO - func:read_preprocessed took: 31.73 ms\n",
      "2024-01-25 09:37:18,713 - FireLog - INFO - func:do_clustering took: 15.92 ms\n",
      "2024-01-25 09:37:18,726 - FireLog - INFO - func:preprocess_region_t took: 46.05 sec\n",
      "2024-01-25 09:37:18,726 - FireLog - INFO - filtering and clustering 2023-8-29 AM, VIIRS, CONUS\n",
      "2024-01-25 09:37:18,743 - FireLog - INFO - func:read_preprocessed took: 16.46 ms\n",
      "2024-01-25 09:37:18,759 - FireLog - INFO - func:read_preprocessed took: 14.88 ms\n",
      "2024-01-25 09:38:19,757 - FireLog - INFO - func:do_clustering took: 21.76 ms\n",
      "2024-01-25 09:38:19,773 - FireLog - INFO - func:preprocess_region_t took: 1.02 min\n",
      "2024-01-25 09:38:19,774 - FireLog - INFO - filtering and clustering 2023-8-29 PM, VIIRS, CONUS\n",
      "2024-01-25 09:38:19,794 - FireLog - INFO - func:read_preprocessed took: 20.03 ms\n",
      "2024-01-25 09:38:19,815 - FireLog - INFO - func:read_preprocessed took: 19.68 ms\n",
      "2024-01-25 09:38:55,293 - FireLog - INFO - func:do_clustering took: 13.06 ms\n",
      "2024-01-25 09:38:55,304 - FireLog - INFO - func:preprocess_region_t took: 35.53 sec\n",
      "2024-01-25 09:38:55,304 - FireLog - INFO - filtering and clustering 2023-8-30 AM, VIIRS, CONUS\n",
      "2024-01-25 09:38:55,315 - FireLog - INFO - func:read_preprocessed took: 10.50 ms\n",
      "2024-01-25 09:38:55,325 - FireLog - INFO - func:read_preprocessed took: 9.40 ms\n",
      "2024-01-25 09:39:43,573 - FireLog - INFO - func:do_clustering took: 18.10 ms\n",
      "2024-01-25 09:39:43,587 - FireLog - INFO - func:preprocess_region_t took: 48.28 sec\n",
      "2024-01-25 09:39:43,587 - FireLog - INFO - filtering and clustering 2023-8-30 PM, VIIRS, CONUS\n",
      "2024-01-25 09:39:43,612 - FireLog - INFO - func:read_preprocessed took: 24.29 ms\n",
      "2024-01-25 09:39:43,636 - FireLog - INFO - func:read_preprocessed took: 23.21 ms\n",
      "2024-01-25 09:40:40,824 - FireLog - INFO - func:do_clustering took: 23.80 ms\n",
      "2024-01-25 09:40:40,840 - FireLog - INFO - func:preprocess_region_t took: 57.25 sec\n",
      "2024-01-25 09:40:40,841 - FireLog - INFO - filtering and clustering 2023-8-31 AM, VIIRS, CONUS\n",
      "2024-01-25 09:40:40,849 - FireLog - INFO - func:read_preprocessed took: 7.91 ms\n",
      "2024-01-25 09:40:40,857 - FireLog - INFO - func:read_preprocessed took: 7.94 ms\n",
      "2024-01-25 09:41:56,609 - FireLog - INFO - func:do_clustering took: 28.62 ms\n",
      "2024-01-25 09:41:56,630 - FireLog - INFO - func:preprocess_region_t took: 1.26 min\n",
      "2024-01-25 09:41:56,630 - FireLog - INFO - filtering and clustering 2023-8-31 PM, VIIRS, CONUS\n",
      "2024-01-25 09:41:56,654 - FireLog - INFO - func:read_preprocessed took: 22.84 ms\n",
      "2024-01-25 09:41:56,689 - FireLog - INFO - func:read_preprocessed took: 34.23 ms\n",
      "2024-01-25 09:42:22,595 - FireLog - INFO - func:do_clustering took: 11.05 ms\n",
      "2024-01-25 09:42:22,610 - FireLog - INFO - func:preprocess_region_t took: 25.98 sec\n",
      "2024-01-25 09:42:22,611 - FireLog - INFO - filtering and clustering 2023-9-1 AM, VIIRS, CONUS\n",
      "2024-01-25 09:42:22,621 - FireLog - INFO - func:read_preprocessed took: 9.46 ms\n",
      "2024-01-25 09:42:22,633 - FireLog - INFO - func:read_preprocessed took: 11.94 ms\n",
      "2024-01-25 09:42:56,033 - FireLog - INFO - func:do_clustering took: 11.17 ms\n",
      "2024-01-25 09:42:56,042 - FireLog - INFO - func:preprocess_region_t took: 33.43 sec\n",
      "2024-01-25 09:42:56,043 - FireLog - INFO - filtering and clustering 2023-9-1 PM, VIIRS, CONUS\n",
      "2024-01-25 09:42:56,075 - FireLog - INFO - func:read_preprocessed took: 31.90 ms\n",
      "2024-01-25 09:42:56,108 - FireLog - INFO - func:read_preprocessed took: 32.43 ms\n",
      "2024-01-25 09:43:13,184 - FireLog - INFO - func:do_clustering took: 6.55 ms\n",
      "2024-01-25 09:43:13,190 - FireLog - INFO - func:preprocess_region_t took: 17.15 sec\n",
      "2024-01-25 09:43:13,190 - FireLog - INFO - filtering and clustering 2023-9-2 AM, VIIRS, CONUS\n",
      "2024-01-25 09:43:13,208 - FireLog - INFO - func:read_preprocessed took: 17.09 ms\n",
      "2024-01-25 09:43:13,224 - FireLog - INFO - func:read_preprocessed took: 15.72 ms\n",
      "2024-01-25 09:43:49,905 - FireLog - INFO - func:do_clustering took: 15.69 ms\n",
      "2024-01-25 09:43:49,917 - FireLog - INFO - func:preprocess_region_t took: 36.73 sec\n",
      "2024-01-25 09:43:49,917 - FireLog - INFO - filtering and clustering 2023-9-2 PM, VIIRS, CONUS\n",
      "2024-01-25 09:43:49,955 - FireLog - INFO - func:read_preprocessed took: 37.12 ms\n",
      "2024-01-25 09:43:49,992 - FireLog - INFO - func:read_preprocessed took: 36.64 ms\n",
      "2024-01-25 09:44:04,401 - FireLog - INFO - func:do_clustering took: 5.70 ms\n",
      "2024-01-25 09:44:04,406 - FireLog - INFO - func:preprocess_region_t took: 14.49 sec\n",
      "2024-01-25 09:44:04,407 - FireLog - INFO - filtering and clustering 2023-9-3 AM, VIIRS, CONUS\n",
      "2024-01-25 09:44:04,421 - FireLog - INFO - func:read_preprocessed took: 14.26 ms\n",
      "2024-01-25 09:44:04,435 - FireLog - INFO - func:read_preprocessed took: 12.89 ms\n",
      "2024-01-25 09:44:38,589 - FireLog - INFO - func:do_clustering took: 9.90 ms\n",
      "2024-01-25 09:44:38,597 - FireLog - INFO - func:preprocess_region_t took: 34.19 sec\n",
      "2024-01-25 09:44:38,598 - FireLog - INFO - filtering and clustering 2023-9-3 PM, VIIRS, CONUS\n",
      "2024-01-25 09:44:38,624 - FireLog - INFO - func:read_preprocessed took: 25.72 ms\n",
      "2024-01-25 09:44:38,647 - FireLog - INFO - func:read_preprocessed took: 22.58 ms\n",
      "2024-01-25 09:44:53,780 - FireLog - INFO - func:do_clustering took: 6.13 ms\n",
      "2024-01-25 09:44:53,785 - FireLog - INFO - func:preprocess_region_t took: 15.19 sec\n",
      "2024-01-25 09:44:53,786 - FireLog - INFO - filtering and clustering 2023-9-4 AM, VIIRS, CONUS\n",
      "2024-01-25 09:44:53,802 - FireLog - INFO - func:read_preprocessed took: 14.94 ms\n",
      "2024-01-25 09:44:53,811 - FireLog - INFO - func:read_preprocessed took: 9.12 ms\n",
      "2024-01-25 09:45:22,639 - FireLog - INFO - func:do_clustering took: 14.40 ms\n",
      "2024-01-25 09:45:22,651 - FireLog - INFO - func:preprocess_region_t took: 28.86 sec\n",
      "2024-01-25 09:45:22,651 - FireLog - INFO - filtering and clustering 2023-9-4 PM, VIIRS, CONUS\n",
      "2024-01-25 09:45:22,690 - FireLog - INFO - func:read_preprocessed took: 38.20 ms\n",
      "2024-01-25 09:45:22,736 - FireLog - INFO - func:read_preprocessed took: 45.15 ms\n",
      "2024-01-25 09:45:58,772 - FireLog - INFO - func:do_clustering took: 13.13 ms\n",
      "2024-01-25 09:45:58,786 - FireLog - INFO - func:preprocess_region_t took: 36.13 sec\n",
      "2024-01-25 09:45:58,787 - FireLog - INFO - filtering and clustering 2023-9-5 AM, VIIRS, CONUS\n",
      "2024-01-25 09:45:58,815 - FireLog - INFO - func:read_preprocessed took: 27.39 ms\n",
      "2024-01-25 09:45:58,830 - FireLog - INFO - func:read_preprocessed took: 14.03 ms\n",
      "2024-01-25 09:46:48,836 - FireLog - INFO - func:do_clustering took: 16.81 ms\n",
      "2024-01-25 09:46:48,855 - FireLog - INFO - func:preprocess_region_t took: 50.07 sec\n",
      "2024-01-25 09:46:48,856 - FireLog - INFO - filtering and clustering 2023-9-5 PM, VIIRS, CONUS\n",
      "2024-01-25 09:46:48,904 - FireLog - INFO - func:read_preprocessed took: 46.12 ms\n",
      "2024-01-25 09:46:48,956 - FireLog - INFO - func:read_preprocessed took: 49.97 ms\n",
      "2024-01-25 09:47:29,266 - FireLog - INFO - func:do_clustering took: 14.32 ms\n",
      "2024-01-25 09:47:29,279 - FireLog - INFO - func:preprocess_region_t took: 40.42 sec\n",
      "2024-01-25 09:47:29,280 - FireLog - INFO - filtering and clustering 2023-9-6 AM, VIIRS, CONUS\n",
      "2024-01-25 09:47:29,294 - FireLog - INFO - func:read_preprocessed took: 14.14 ms\n",
      "2024-01-25 09:47:29,314 - FireLog - INFO - func:read_preprocessed took: 19.15 ms\n",
      "2024-01-25 09:48:15,782 - FireLog - INFO - func:do_clustering took: 16.27 ms\n",
      "2024-01-25 09:48:15,798 - FireLog - INFO - func:preprocess_region_t took: 46.52 sec\n"
     ]
    },
    {
     "name": "stdout",
     "output_type": "stream",
     "text": [
      "CPU times: user 12min 49s, sys: 784 ms, total: 12min 50s\n",
      "Wall time: 12min 52s\n"
     ]
    }
   ],
   "source": [
    "%%time\n",
    "for t in list_of_ts:\n",
    "    preprocess.preprocess_region_t(t, sat=\"VIIRS\", region=region)"
   ]
  },
  {
   "cell_type": "code",
   "execution_count": 12,
   "id": "3a464091-fc16-47a0-bde4-775c27efd844",
   "metadata": {
    "execution": {
     "iopub.execute_input": "2024-01-25T14:48:15.808347Z",
     "iopub.status.busy": "2024-01-25T14:48:15.806879Z",
     "iopub.status.idle": "2024-01-25T14:48:16.245509Z",
     "shell.execute_reply": "2024-01-25T14:48:16.240856Z",
     "shell.execute_reply.started": "2024-01-25T14:48:15.808197Z"
    },
    "scrolled": true
   },
   "outputs": [
    {
     "name": "stdout",
     "output_type": "stream",
     "text": [
      "\u001b[01;34m./processed\u001b[0m\n",
      "├── \u001b[00mCONUS.json\u001b[0m\n",
      "├── \u001b[01;34mNOAA20\u001b[0m\n",
      "│   ├── \u001b[00m20230828_AM.txt\u001b[0m\n",
      "│   ├── \u001b[00m20230828_PM.txt\u001b[0m\n",
      "│   ├── \u001b[00m20230829_AM.txt\u001b[0m\n",
      "│   ├── \u001b[00m20230829_PM.txt\u001b[0m\n",
      "│   ├── \u001b[00m20230830_AM.txt\u001b[0m\n",
      "│   ├── \u001b[00m20230830_PM.txt\u001b[0m\n",
      "│   ├── \u001b[00m20230831_AM.txt\u001b[0m\n",
      "│   ├── \u001b[00m20230831_PM.txt\u001b[0m\n",
      "│   ├── \u001b[00m20230901_AM.txt\u001b[0m\n",
      "│   ├── \u001b[00m20230901_PM.txt\u001b[0m\n",
      "│   ├── \u001b[00m20230902_AM.txt\u001b[0m\n",
      "│   ├── \u001b[00m20230902_PM.txt\u001b[0m\n",
      "│   ├── \u001b[00m20230903_AM.txt\u001b[0m\n",
      "│   ├── \u001b[00m20230903_PM.txt\u001b[0m\n",
      "│   ├── \u001b[00m20230904_AM.txt\u001b[0m\n",
      "│   ├── \u001b[00m20230904_PM.txt\u001b[0m\n",
      "│   ├── \u001b[00m20230905_AM.txt\u001b[0m\n",
      "│   ├── \u001b[00m20230905_PM.txt\u001b[0m\n",
      "│   ├── \u001b[00m20230906_AM.txt\u001b[0m\n",
      "│   └── \u001b[00m20230906_PM.txt\u001b[0m\n",
      "├── \u001b[01;34mSNPP\u001b[0m\n",
      "│   ├── \u001b[00m20230828_AM.txt\u001b[0m\n",
      "│   ├── \u001b[00m20230828_PM.txt\u001b[0m\n",
      "│   ├── \u001b[00m20230829_AM.txt\u001b[0m\n",
      "│   ├── \u001b[00m20230829_PM.txt\u001b[0m\n",
      "│   ├── \u001b[00m20230830_AM.txt\u001b[0m\n",
      "│   ├── \u001b[00m20230830_PM.txt\u001b[0m\n",
      "│   ├── \u001b[00m20230831_AM.txt\u001b[0m\n",
      "│   ├── \u001b[00m20230831_PM.txt\u001b[0m\n",
      "│   ├── \u001b[00m20230901_AM.txt\u001b[0m\n",
      "│   ├── \u001b[00m20230901_PM.txt\u001b[0m\n",
      "│   ├── \u001b[00m20230902_AM.txt\u001b[0m\n",
      "│   ├── \u001b[00m20230902_PM.txt\u001b[0m\n",
      "│   ├── \u001b[00m20230903_AM.txt\u001b[0m\n",
      "│   ├── \u001b[00m20230903_PM.txt\u001b[0m\n",
      "│   ├── \u001b[00m20230904_AM.txt\u001b[0m\n",
      "│   ├── \u001b[00m20230904_PM.txt\u001b[0m\n",
      "│   ├── \u001b[00m20230905_AM.txt\u001b[0m\n",
      "│   ├── \u001b[00m20230905_PM.txt\u001b[0m\n",
      "│   ├── \u001b[00m20230906_AM.txt\u001b[0m\n",
      "│   └── \u001b[00m20230906_PM.txt\u001b[0m\n",
      "└── \u001b[01;34mVIIRS\u001b[0m\n",
      "    └── \u001b[01;34mCONUS\u001b[0m\n",
      "        ├── \u001b[00m20230828_AM.txt\u001b[0m\n",
      "        ├── \u001b[00m20230828_PM.txt\u001b[0m\n",
      "        ├── \u001b[00m20230829_AM.txt\u001b[0m\n",
      "        ├── \u001b[00m20230829_PM.txt\u001b[0m\n",
      "        ├── \u001b[00m20230830_AM.txt\u001b[0m\n",
      "        ├── \u001b[00m20230830_PM.txt\u001b[0m\n",
      "        ├── \u001b[00m20230831_AM.txt\u001b[0m\n",
      "        ├── \u001b[00m20230831_PM.txt\u001b[0m\n",
      "        ├── \u001b[00m20230901_AM.txt\u001b[0m\n",
      "        ├── \u001b[00m20230901_PM.txt\u001b[0m\n",
      "        ├── \u001b[00m20230902_AM.txt\u001b[0m\n",
      "        ├── \u001b[00m20230902_PM.txt\u001b[0m\n",
      "        ├── \u001b[00m20230903_AM.txt\u001b[0m\n",
      "        ├── \u001b[00m20230903_PM.txt\u001b[0m\n",
      "        ├── \u001b[00m20230904_AM.txt\u001b[0m\n",
      "        ├── \u001b[00m20230904_PM.txt\u001b[0m\n",
      "        ├── \u001b[00m20230905_AM.txt\u001b[0m\n",
      "        ├── \u001b[00m20230905_PM.txt\u001b[0m\n",
      "        └── \u001b[00m20230906_AM.txt\u001b[0m\n",
      "\n",
      "4 directories, 60 files\n"
     ]
    }
   ],
   "source": [
    "!tree ./processed"
   ]
  },
  {
   "cell_type": "markdown",
   "id": "091354d9-56fa-47d1-93ca-2c951b2dc385",
   "metadata": {},
   "source": [
    "## Use FireRun test"
   ]
  },
  {
   "cell_type": "code",
   "execution_count": 1,
   "id": "df80d40f-97c9-4d4b-9308-863f34251a57",
   "metadata": {
    "execution": {
     "iopub.execute_input": "2024-01-25T18:07:40.468863Z",
     "iopub.status.busy": "2024-01-25T18:07:40.468691Z",
     "iopub.status.idle": "2024-01-25T18:08:17.902547Z",
     "shell.execute_reply": "2024-01-25T18:08:17.902000Z",
     "shell.execute_reply.started": "2024-01-25T18:07:40.468849Z"
    }
   },
   "outputs": [
    {
     "name": "stderr",
     "output_type": "stream",
     "text": [
      "2024-01-25 13:07:40,822 - FireLog - INFO - STARTING RUN FOR CONUS\n",
      "2024-01-25 13:07:41,000 - FireLog - INFO - func:read_region took: 176.93 ms\n",
      "2024-01-25 13:07:41,002 - FireLog - INFO - --------------------\n",
      "2024-01-25 13:07:41,002 - FireLog - INFO - Fire tracking at [2023, 8, 28, 'AM']\n",
      "2024-01-25 13:07:41,009 - FireLog - INFO - func:read_preprocessed took: 6.77 ms\n",
      "2024-01-25 13:07:42,561 - FireLog - INFO - func:Fire_expand_rtree took: 1.55 sec\n",
      "2024-01-25 13:07:42,963 - FireLog - INFO - func:Fire_merge_rtree took: 399.31 ms\n",
      "2024-01-25 13:07:42,968 - FireLog - INFO - func:invalidate_statfires took: 4.36 ms\n",
      "2024-01-25 13:07:42,968 - FireLog - INFO - fids_expand: 0\n",
      "2024-01-25 13:07:42,968 - FireLog - INFO - fids_new: 507\n",
      "2024-01-25 13:07:42,968 - FireLog - INFO - fids_merged: 50\n",
      "2024-01-25 13:07:42,969 - FireLog - INFO - fids_invalid: 107\n",
      "2024-01-25 13:07:42,969 - FireLog - INFO - func:Fire_Forward_one_step took: 1.97 sec\n",
      "2024-01-25 13:07:42,969 - FireLog - INFO - --------------------\n",
      "2024-01-25 13:07:42,969 - FireLog - INFO - Fire tracking at [2023, 8, 28, 'PM']\n",
      "2024-01-25 13:07:42,974 - FireLog - INFO - func:read_preprocessed took: 3.25 ms\n",
      "2024-01-25 13:07:44,314 - FireLog - INFO - func:Fire_expand_rtree took: 1.34 sec\n",
      "2024-01-25 13:07:44,466 - FireLog - INFO - func:Fire_merge_rtree took: 149.67 ms\n",
      "2024-01-25 13:07:44,475 - FireLog - INFO - func:invalidate_statfires took: 8.55 ms\n",
      "2024-01-25 13:07:44,475 - FireLog - INFO - fids_expand: 93\n",
      "2024-01-25 13:07:44,476 - FireLog - INFO - fids_new: 405\n",
      "2024-01-25 13:07:44,476 - FireLog - INFO - fids_merged: 22\n",
      "2024-01-25 13:07:44,476 - FireLog - INFO - fids_invalid: 27\n",
      "2024-01-25 13:07:44,477 - FireLog - INFO - func:Fire_Forward_one_step took: 1.51 sec\n",
      "2024-01-25 13:07:44,477 - FireLog - INFO - --------------------\n",
      "2024-01-25 13:07:44,478 - FireLog - INFO - Fire tracking at [2023, 8, 29, 'AM']\n",
      "2024-01-25 13:07:44,486 - FireLog - INFO - func:read_preprocessed took: 5.50 ms\n",
      "2024-01-25 13:07:46,150 - FireLog - INFO - func:Fire_expand_rtree took: 1.66 sec\n",
      "2024-01-25 13:07:46,325 - FireLog - INFO - func:Fire_merge_rtree took: 172.02 ms\n",
      "2024-01-25 13:07:46,337 - FireLog - INFO - func:invalidate_statfires took: 11.35 ms\n",
      "2024-01-25 13:07:46,338 - FireLog - INFO - fids_expand: 264\n",
      "2024-01-25 13:07:46,338 - FireLog - INFO - fids_new: 218\n",
      "2024-01-25 13:07:46,338 - FireLog - INFO - fids_merged: 17\n",
      "2024-01-25 13:07:46,339 - FireLog - INFO - fids_invalid: 27\n",
      "2024-01-25 13:07:46,339 - FireLog - INFO - func:Fire_Forward_one_step took: 1.86 sec\n",
      "2024-01-25 13:07:46,340 - FireLog - INFO - --------------------\n",
      "2024-01-25 13:07:46,340 - FireLog - INFO - Fire tracking at [2023, 8, 29, 'PM']\n",
      "2024-01-25 13:07:46,345 - FireLog - INFO - func:read_preprocessed took: 3.23 ms\n",
      "2024-01-25 13:07:47,484 - FireLog - INFO - func:Fire_expand_rtree took: 1.14 sec\n",
      "2024-01-25 13:07:47,682 - FireLog - INFO - func:Fire_merge_rtree took: 194.27 ms\n",
      "2024-01-25 13:07:47,697 - FireLog - INFO - func:invalidate_statfires took: 14.71 ms\n",
      "2024-01-25 13:07:47,698 - FireLog - INFO - fids_expand: 92\n",
      "2024-01-25 13:07:47,698 - FireLog - INFO - fids_new: 289\n",
      "2024-01-25 13:07:47,698 - FireLog - INFO - fids_merged: 13\n",
      "2024-01-25 13:07:47,699 - FireLog - INFO - fids_invalid: 21\n",
      "2024-01-25 13:07:47,699 - FireLog - INFO - func:Fire_Forward_one_step took: 1.36 sec\n",
      "2024-01-25 13:07:47,700 - FireLog - INFO - --------------------\n",
      "2024-01-25 13:07:47,700 - FireLog - INFO - Fire tracking at [2023, 8, 30, 'AM']\n",
      "2024-01-25 13:07:47,707 - FireLog - INFO - func:read_preprocessed took: 3.80 ms\n",
      "2024-01-25 13:07:49,228 - FireLog - INFO - func:Fire_expand_rtree took: 1.52 sec\n",
      "2024-01-25 13:07:49,398 - FireLog - INFO - func:Fire_merge_rtree took: 165.32 ms\n",
      "2024-01-25 13:07:49,416 - FireLog - INFO - func:invalidate_statfires took: 17.08 ms\n",
      "2024-01-25 13:07:49,416 - FireLog - INFO - fids_expand: 271\n",
      "2024-01-25 13:07:49,417 - FireLog - INFO - fids_new: 157\n",
      "2024-01-25 13:07:49,417 - FireLog - INFO - fids_merged: 7\n",
      "2024-01-25 13:07:49,417 - FireLog - INFO - fids_invalid: 31\n",
      "2024-01-25 13:07:49,418 - FireLog - INFO - func:Fire_Forward_one_step took: 1.72 sec\n",
      "2024-01-25 13:07:49,418 - FireLog - INFO - --------------------\n",
      "2024-01-25 13:07:49,419 - FireLog - INFO - Fire tracking at [2023, 8, 30, 'PM']\n",
      "2024-01-25 13:07:49,430 - FireLog - INFO - func:read_preprocessed took: 5.40 ms\n",
      "2024-01-25 13:07:51,030 - FireLog - INFO - func:Fire_expand_rtree took: 1.60 sec\n",
      "2024-01-25 13:07:51,225 - FireLog - INFO - func:Fire_merge_rtree took: 190.61 ms\n",
      "2024-01-25 13:07:51,252 - FireLog - INFO - func:invalidate_statfires took: 25.78 ms\n",
      "2024-01-25 13:07:51,253 - FireLog - INFO - fids_expand: 115\n",
      "2024-01-25 13:07:51,253 - FireLog - INFO - fids_new: 275\n",
      "2024-01-25 13:07:51,253 - FireLog - INFO - fids_merged: 11\n",
      "2024-01-25 13:07:51,254 - FireLog - INFO - fids_invalid: 21\n",
      "2024-01-25 13:07:51,254 - FireLog - INFO - func:Fire_Forward_one_step took: 1.84 sec\n",
      "2024-01-25 13:07:51,255 - FireLog - INFO - --------------------\n",
      "2024-01-25 13:07:51,255 - FireLog - INFO - Fire tracking at [2023, 8, 31, 'AM']\n",
      "2024-01-25 13:07:51,264 - FireLog - INFO - func:read_preprocessed took: 4.99 ms\n",
      "2024-01-25 13:07:53,198 - FireLog - INFO - func:Fire_expand_rtree took: 1.93 sec\n",
      "2024-01-25 13:07:53,759 - FireLog - INFO - func:Fire_merge_rtree took: 556.58 ms\n",
      "2024-01-25 13:07:53,780 - FireLog - INFO - func:invalidate_statfires took: 20.35 ms\n",
      "2024-01-25 13:07:53,781 - FireLog - INFO - fids_expand: 321\n",
      "2024-01-25 13:07:53,782 - FireLog - INFO - fids_new: 154\n",
      "2024-01-25 13:07:53,782 - FireLog - INFO - fids_merged: 11\n",
      "2024-01-25 13:07:53,782 - FireLog - INFO - fids_invalid: 58\n",
      "2024-01-25 13:07:53,783 - FireLog - INFO - func:Fire_Forward_one_step took: 2.53 sec\n",
      "2024-01-25 13:07:53,783 - FireLog - INFO - --------------------\n",
      "2024-01-25 13:07:53,784 - FireLog - INFO - Fire tracking at [2023, 8, 31, 'PM']\n",
      "2024-01-25 13:07:53,791 - FireLog - INFO - func:read_preprocessed took: 3.06 ms\n",
      "2024-01-25 13:07:55,140 - FireLog - INFO - func:Fire_expand_rtree took: 1.35 sec\n",
      "2024-01-25 13:07:55,401 - FireLog - INFO - func:Fire_merge_rtree took: 255.56 ms\n",
      "2024-01-25 13:07:55,439 - FireLog - INFO - func:invalidate_statfires took: 37.02 ms\n",
      "2024-01-25 13:07:55,440 - FireLog - INFO - fids_expand: 119\n",
      "2024-01-25 13:07:55,440 - FireLog - INFO - fids_new: 313\n",
      "2024-01-25 13:07:55,441 - FireLog - INFO - fids_merged: 12\n",
      "2024-01-25 13:07:55,441 - FireLog - INFO - fids_invalid: 31\n",
      "2024-01-25 13:07:55,442 - FireLog - INFO - func:Fire_Forward_one_step took: 1.66 sec\n",
      "2024-01-25 13:07:55,442 - FireLog - INFO - --------------------\n",
      "2024-01-25 13:07:55,443 - FireLog - INFO - Fire tracking at [2023, 9, 1, 'AM']\n",
      "2024-01-25 13:07:55,450 - FireLog - INFO - func:read_preprocessed took: 2.73 ms\n",
      "2024-01-25 13:07:57,172 - FireLog - INFO - func:Fire_expand_rtree took: 1.72 sec\n",
      "2024-01-25 13:07:57,408 - FireLog - INFO - func:Fire_merge_rtree took: 229.87 ms\n",
      "2024-01-25 13:07:57,435 - FireLog - INFO - func:invalidate_statfires took: 26.09 ms\n",
      "2024-01-25 13:07:57,436 - FireLog - INFO - fids_expand: 297\n",
      "2024-01-25 13:07:57,436 - FireLog - INFO - fids_new: 169\n",
      "2024-01-25 13:07:57,436 - FireLog - INFO - fids_merged: 3\n",
      "2024-01-25 13:07:57,437 - FireLog - INFO - fids_invalid: 46\n",
      "2024-01-25 13:07:57,438 - FireLog - INFO - func:Fire_Forward_one_step took: 2.00 sec\n",
      "2024-01-25 13:07:57,438 - FireLog - INFO - --------------------\n",
      "2024-01-25 13:07:57,438 - FireLog - INFO - Fire tracking at [2023, 9, 1, 'PM']\n",
      "2024-01-25 13:07:57,447 - FireLog - INFO - func:read_preprocessed took: 1.97 ms\n",
      "2024-01-25 13:07:58,511 - FireLog - INFO - func:Fire_expand_rtree took: 1.06 sec\n",
      "2024-01-25 13:07:58,974 - FireLog - INFO - func:Fire_merge_rtree took: 445.37 ms\n",
      "2024-01-25 13:07:59,019 - FireLog - INFO - func:invalidate_statfires took: 44.25 ms\n",
      "2024-01-25 13:07:59,020 - FireLog - INFO - fids_expand: 98\n",
      "2024-01-25 13:07:59,020 - FireLog - INFO - fids_new: 214\n",
      "2024-01-25 13:07:59,021 - FireLog - INFO - fids_merged: 8\n",
      "2024-01-25 13:07:59,021 - FireLog - INFO - fids_invalid: 15\n",
      "2024-01-25 13:07:59,023 - FireLog - INFO - func:Fire_Forward_one_step took: 1.59 sec\n",
      "2024-01-25 13:07:59,024 - FireLog - INFO - --------------------\n",
      "2024-01-25 13:07:59,025 - FireLog - INFO - Fire tracking at [2023, 9, 2, 'AM']\n",
      "2024-01-25 13:07:59,042 - FireLog - INFO - func:read_preprocessed took: 5.51 ms\n",
      "2024-01-25 13:08:00,806 - FireLog - INFO - func:Fire_expand_rtree took: 1.76 sec\n",
      "2024-01-25 13:08:01,065 - FireLog - INFO - func:Fire_merge_rtree took: 252.61 ms\n",
      "2024-01-25 13:08:01,095 - FireLog - INFO - func:invalidate_statfires took: 29.80 ms\n",
      "2024-01-25 13:08:01,096 - FireLog - INFO - fids_expand: 281\n",
      "2024-01-25 13:08:01,096 - FireLog - INFO - fids_new: 151\n",
      "2024-01-25 13:08:01,097 - FireLog - INFO - fids_merged: 5\n",
      "2024-01-25 13:08:01,097 - FireLog - INFO - fids_invalid: 47\n",
      "2024-01-25 13:08:01,098 - FireLog - INFO - func:Fire_Forward_one_step took: 2.07 sec\n",
      "2024-01-25 13:08:01,098 - FireLog - INFO - --------------------\n",
      "2024-01-25 13:08:01,099 - FireLog - INFO - Fire tracking at [2023, 9, 2, 'PM']\n",
      "2024-01-25 13:08:01,107 - FireLog - INFO - func:read_preprocessed took: 2.35 ms\n",
      "2024-01-25 13:08:02,009 - FireLog - INFO - func:Fire_expand_rtree took: 902.51 ms\n",
      "2024-01-25 13:08:02,327 - FireLog - INFO - func:Fire_merge_rtree took: 309.96 ms\n",
      "2024-01-25 13:08:02,359 - FireLog - INFO - func:invalidate_statfires took: 32.05 ms\n",
      "2024-01-25 13:08:02,360 - FireLog - INFO - fids_expand: 79\n",
      "2024-01-25 13:08:02,361 - FireLog - INFO - fids_new: 203\n",
      "2024-01-25 13:08:02,361 - FireLog - INFO - fids_merged: 9\n",
      "2024-01-25 13:08:02,362 - FireLog - INFO - fids_invalid: 13\n",
      "2024-01-25 13:08:02,362 - FireLog - INFO - func:Fire_Forward_one_step took: 1.26 sec\n",
      "2024-01-25 13:08:02,363 - FireLog - INFO - --------------------\n",
      "2024-01-25 13:08:02,363 - FireLog - INFO - Fire tracking at [2023, 9, 3, 'AM']\n",
      "2024-01-25 13:08:02,372 - FireLog - INFO - func:read_preprocessed took: 2.78 ms\n",
      "2024-01-25 13:08:04,000 - FireLog - INFO - func:Fire_expand_rtree took: 1.63 sec\n",
      "2024-01-25 13:08:04,556 - FireLog - INFO - func:Fire_merge_rtree took: 547.66 ms\n",
      "2024-01-25 13:08:04,586 - FireLog - INFO - func:invalidate_statfires took: 28.77 ms\n",
      "2024-01-25 13:08:04,586 - FireLog - INFO - fids_expand: 285\n",
      "2024-01-25 13:08:04,587 - FireLog - INFO - fids_new: 148\n",
      "2024-01-25 13:08:04,587 - FireLog - INFO - fids_merged: 8\n",
      "2024-01-25 13:08:04,587 - FireLog - INFO - fids_invalid: 48\n",
      "2024-01-25 13:08:04,588 - FireLog - INFO - func:Fire_Forward_one_step took: 2.23 sec\n",
      "2024-01-25 13:08:04,588 - FireLog - INFO - --------------------\n",
      "2024-01-25 13:08:04,588 - FireLog - INFO - Fire tracking at [2023, 9, 3, 'PM']\n",
      "2024-01-25 13:08:04,597 - FireLog - INFO - func:read_preprocessed took: 2.06 ms\n",
      "2024-01-25 13:08:05,523 - FireLog - INFO - func:Fire_expand_rtree took: 925.16 ms\n",
      "2024-01-25 13:08:06,123 - FireLog - INFO - func:Fire_merge_rtree took: 592.46 ms\n",
      "2024-01-25 13:08:06,152 - FireLog - INFO - func:invalidate_statfires took: 29.14 ms\n",
      "2024-01-25 13:08:06,153 - FireLog - INFO - fids_expand: 85\n",
      "2024-01-25 13:08:06,153 - FireLog - INFO - fids_new: 191\n",
      "2024-01-25 13:08:06,154 - FireLog - INFO - fids_merged: 7\n",
      "2024-01-25 13:08:06,154 - FireLog - INFO - fids_invalid: 12\n",
      "2024-01-25 13:08:06,155 - FireLog - INFO - func:Fire_Forward_one_step took: 1.57 sec\n",
      "2024-01-25 13:08:06,155 - FireLog - INFO - --------------------\n",
      "2024-01-25 13:08:06,155 - FireLog - INFO - Fire tracking at [2023, 9, 4, 'AM']\n",
      "2024-01-25 13:08:06,165 - FireLog - INFO - func:read_preprocessed took: 2.90 ms\n",
      "2024-01-25 13:08:07,406 - FireLog - INFO - func:Fire_expand_rtree took: 1.24 sec\n",
      "2024-01-25 13:08:08,160 - FireLog - INFO - func:Fire_merge_rtree took: 744.76 ms\n",
      "2024-01-25 13:08:08,188 - FireLog - INFO - func:invalidate_statfires took: 27.68 ms\n",
      "2024-01-25 13:08:08,189 - FireLog - INFO - fids_expand: 255\n",
      "2024-01-25 13:08:08,189 - FireLog - INFO - fids_new: 103\n",
      "2024-01-25 13:08:08,189 - FireLog - INFO - fids_merged: 2\n",
      "2024-01-25 13:08:08,190 - FireLog - INFO - fids_invalid: 43\n",
      "2024-01-25 13:08:08,190 - FireLog - INFO - func:Fire_Forward_one_step took: 2.04 sec\n",
      "2024-01-25 13:08:08,191 - FireLog - INFO - --------------------\n",
      "2024-01-25 13:08:08,191 - FireLog - INFO - Fire tracking at [2023, 9, 4, 'PM']\n",
      "2024-01-25 13:08:08,200 - FireLog - INFO - func:read_preprocessed took: 2.01 ms\n",
      "2024-01-25 13:08:09,439 - FireLog - INFO - func:Fire_expand_rtree took: 1.24 sec\n",
      "2024-01-25 13:08:10,274 - FireLog - INFO - func:Fire_merge_rtree took: 825.29 ms\n",
      "2024-01-25 13:08:10,305 - FireLog - INFO - func:invalidate_statfires took: 30.85 ms\n",
      "2024-01-25 13:08:10,306 - FireLog - INFO - fids_expand: 91\n",
      "2024-01-25 13:08:10,306 - FireLog - INFO - fids_new: 274\n",
      "2024-01-25 13:08:10,306 - FireLog - INFO - fids_merged: 14\n",
      "2024-01-25 13:08:10,306 - FireLog - INFO - fids_invalid: 17\n",
      "2024-01-25 13:08:10,307 - FireLog - INFO - func:Fire_Forward_one_step took: 2.12 sec\n",
      "2024-01-25 13:08:10,307 - FireLog - INFO - --------------------\n",
      "2024-01-25 13:08:10,307 - FireLog - INFO - Fire tracking at [2023, 9, 5, 'AM']\n",
      "2024-01-25 13:08:10,317 - FireLog - INFO - func:read_preprocessed took: 2.32 ms\n",
      "2024-01-25 13:08:11,674 - FireLog - INFO - func:Fire_expand_rtree took: 1.36 sec\n",
      "2024-01-25 13:08:12,689 - FireLog - INFO - func:Fire_merge_rtree took: 1.01 sec\n",
      "2024-01-25 13:08:12,719 - FireLog - INFO - func:invalidate_statfires took: 29.49 ms\n",
      "2024-01-25 13:08:12,719 - FireLog - INFO - fids_expand: 259\n",
      "2024-01-25 13:08:12,719 - FireLog - INFO - fids_new: 125\n",
      "2024-01-25 13:08:12,720 - FireLog - INFO - fids_merged: 9\n",
      "2024-01-25 13:08:12,720 - FireLog - INFO - fids_invalid: 73\n",
      "2024-01-25 13:08:12,721 - FireLog - INFO - func:Fire_Forward_one_step took: 2.41 sec\n",
      "2024-01-25 13:08:12,721 - FireLog - INFO - --------------------\n",
      "2024-01-25 13:08:12,721 - FireLog - INFO - Fire tracking at [2023, 9, 5, 'PM']\n",
      "2024-01-25 13:08:12,731 - FireLog - INFO - func:read_preprocessed took: 2.25 ms\n",
      "2024-01-25 13:08:14,099 - FireLog - INFO - func:Fire_expand_rtree took: 1.37 sec\n",
      "2024-01-25 13:08:15,183 - FireLog - INFO - func:Fire_merge_rtree took: 1.07 sec\n",
      "2024-01-25 13:08:15,213 - FireLog - INFO - func:invalidate_statfires took: 29.85 ms\n",
      "2024-01-25 13:08:15,214 - FireLog - INFO - fids_expand: 119\n",
      "2024-01-25 13:08:15,214 - FireLog - INFO - fids_new: 293\n",
      "2024-01-25 13:08:15,214 - FireLog - INFO - fids_merged: 9\n",
      "2024-01-25 13:08:15,214 - FireLog - INFO - fids_invalid: 17\n",
      "2024-01-25 13:08:15,215 - FireLog - INFO - func:Fire_Forward_one_step took: 2.49 sec\n",
      "2024-01-25 13:08:15,215 - FireLog - INFO - --------------------\n",
      "2024-01-25 13:08:15,215 - FireLog - INFO - Fire tracking at [2023, 9, 6, 'AM']\n",
      "2024-01-25 13:08:15,227 - FireLog - INFO - func:read_preprocessed took: 2.91 ms\n",
      "2024-01-25 13:08:16,595 - FireLog - INFO - func:Fire_expand_rtree took: 1.37 sec\n",
      "2024-01-25 13:08:17,864 - FireLog - INFO - func:Fire_merge_rtree took: 1.26 sec\n",
      "2024-01-25 13:08:17,896 - FireLog - INFO - func:invalidate_statfires took: 31.04 ms\n",
      "2024-01-25 13:08:17,896 - FireLog - INFO - fids_expand: 266\n",
      "2024-01-25 13:08:17,897 - FireLog - INFO - fids_new: 127\n",
      "2024-01-25 13:08:17,897 - FireLog - INFO - fids_merged: 9\n",
      "2024-01-25 13:08:17,897 - FireLog - INFO - fids_invalid: 63\n",
      "2024-01-25 13:08:17,898 - FireLog - INFO - func:Fire_Forward_one_step took: 2.68 sec\n",
      "2024-01-25 13:08:17,899 - FireLog - INFO - func:Fire_Forward took: 36.90 sec\n",
      "2024-01-25 13:08:17,899 - FireLog - INFO - func:CONUSrunNRT took: 37.43 sec\n"
     ]
    }
   ],
   "source": [
    "from FireRun import CONUSrunNRT\n",
    "\n",
    "allfires = CONUSrunNRT()"
   ]
  },
  {
   "cell_type": "markdown",
   "id": "01ab5572-6511-4b87-9a69-7db28cb72f36",
   "metadata": {
    "execution": {
     "iopub.execute_input": "2024-01-24T22:27:41.929188Z",
     "iopub.status.busy": "2024-01-24T22:27:41.928952Z",
     "iopub.status.idle": "2024-01-24T22:27:41.932259Z",
     "shell.execute_reply": "2024-01-24T22:27:41.931921Z",
     "shell.execute_reply.started": "2024-01-24T22:27:41.929171Z"
    }
   },
   "source": [
    "From the logs that Eli shared we expect that for [2023, 9, 6, 'AM'] we should have:\n",
    "\n",
    "```python\n",
    "actual_fids_expand = 260\n",
    "actual_fids_new = 131\n",
    "actual_fids_merged = 6\n",
    "actual_fids_invalid = 44\n",
    "```"
   ]
  },
  {
   "cell_type": "code",
   "execution_count": 2,
   "id": "1871d359-1c2c-4ca1-aeb3-43c7d9d52268",
   "metadata": {
    "execution": {
     "iopub.execute_input": "2024-01-25T18:09:18.551039Z",
     "iopub.status.busy": "2024-01-25T18:09:18.550590Z",
     "iopub.status.idle": "2024-01-25T18:09:18.559481Z",
     "shell.execute_reply": "2024-01-25T18:09:18.558921Z",
     "shell.execute_reply.started": "2024-01-25T18:09:18.551004Z"
    }
   },
   "outputs": [
    {
     "data": {
      "text/plain": [
       "<Allfires at t=[2023, 9, 6, 'AM'] with n_fires=4316>"
      ]
     },
     "execution_count": 2,
     "metadata": {},
     "output_type": "execute_result"
    }
   ],
   "source": [
    "allfires"
   ]
  },
  {
   "cell_type": "markdown",
   "id": "a84a8656-22c8-4575-bf3b-1063ed7212b0",
   "metadata": {},
   "source": [
    "Find a big fire"
   ]
  },
  {
   "cell_type": "code",
   "execution_count": 3,
   "id": "feac5d89-1336-4657-8e41-ee15fb8e320c",
   "metadata": {
    "execution": {
     "iopub.execute_input": "2024-01-25T18:09:50.908236Z",
     "iopub.status.busy": "2024-01-25T18:09:50.907713Z",
     "iopub.status.idle": "2024-01-25T18:09:50.920053Z",
     "shell.execute_reply": "2024-01-25T18:09:50.919552Z",
     "shell.execute_reply.started": "2024-01-25T18:09:50.908191Z"
    }
   },
   "outputs": [
    {
     "data": {
      "text/plain": [
       "{305: 2195, 306: 2118, 308: 1445}"
      ]
     },
     "execution_count": 3,
     "metadata": {},
     "output_type": "execute_result"
    }
   ],
   "source": [
    "{fid: fire.n_pixels for fid, fire in allfires.fires.items() if fire.n_pixels > 1000}"
   ]
  },
  {
   "cell_type": "code",
   "execution_count": 4,
   "id": "335f709f-cae5-49b3-92e2-fba3822a13d0",
   "metadata": {
    "editable": true,
    "execution": {
     "iopub.execute_input": "2024-01-25T18:09:54.430003Z",
     "iopub.status.busy": "2024-01-25T18:09:54.429634Z",
     "iopub.status.idle": "2024-01-25T18:09:54.440425Z",
     "shell.execute_reply": "2024-01-25T18:09:54.440128Z",
     "shell.execute_reply.started": "2024-01-25T18:09:54.429986Z"
    },
    "slideshow": {
     "slide_type": ""
    },
    "tags": []
   },
   "outputs": [
    {
     "data": {
      "text/html": [
       "<div>\n",
       "<style scoped>\n",
       "    .dataframe tbody tr th:only-of-type {\n",
       "        vertical-align: middle;\n",
       "    }\n",
       "\n",
       "    .dataframe tbody tr th {\n",
       "        vertical-align: top;\n",
       "    }\n",
       "\n",
       "    .dataframe thead th {\n",
       "        text-align: right;\n",
       "    }\n",
       "</style>\n",
       "<table border=\"1\" class=\"dataframe\">\n",
       "  <thead>\n",
       "    <tr style=\"text-align: right;\">\n",
       "      <th></th>\n",
       "      <th>Lat</th>\n",
       "      <th>Lon</th>\n",
       "      <th>FRP</th>\n",
       "      <th>Sat</th>\n",
       "      <th>DT</th>\n",
       "      <th>DS</th>\n",
       "      <th>YYYYMMDD_HHMM</th>\n",
       "      <th>ampm</th>\n",
       "      <th>x</th>\n",
       "      <th>y</th>\n",
       "      <th>initial_cid</th>\n",
       "      <th>uuid</th>\n",
       "      <th>new_at</th>\n",
       "    </tr>\n",
       "  </thead>\n",
       "  <tbody>\n",
       "    <tr>\n",
       "      <th>0</th>\n",
       "      <td>41.88437</td>\n",
       "      <td>-123.77304</td>\n",
       "      <td>0.75</td>\n",
       "      <td>SNPP</td>\n",
       "      <td>0.37</td>\n",
       "      <td>0.41</td>\n",
       "      <td>2023-08-28 10:21:00</td>\n",
       "      <td>AM</td>\n",
       "      <td>-1.934391e+06</td>\n",
       "      <td>-62423.905336</td>\n",
       "      <td>305</td>\n",
       "      <td>e3d1e836-e3be-4e50-943a-b553ecb7bcf7</td>\n",
       "      <td>2023-08-28 00:00:00</td>\n",
       "    </tr>\n",
       "    <tr>\n",
       "      <th>1</th>\n",
       "      <td>41.88103</td>\n",
       "      <td>-123.77412</td>\n",
       "      <td>0.75</td>\n",
       "      <td>SNPP</td>\n",
       "      <td>0.37</td>\n",
       "      <td>0.41</td>\n",
       "      <td>2023-08-28 10:21:00</td>\n",
       "      <td>AM</td>\n",
       "      <td>-1.934579e+06</td>\n",
       "      <td>-62758.426061</td>\n",
       "      <td>305</td>\n",
       "      <td>44e49d27-75a9-4acf-b5b8-60cc12d42dc0</td>\n",
       "      <td>2023-08-28 00:00:00</td>\n",
       "    </tr>\n",
       "    <tr>\n",
       "      <th>2</th>\n",
       "      <td>41.88322</td>\n",
       "      <td>-123.76897</td>\n",
       "      <td>1.53</td>\n",
       "      <td>SNPP</td>\n",
       "      <td>0.37</td>\n",
       "      <td>0.41</td>\n",
       "      <td>2023-08-29 10:02:00</td>\n",
       "      <td>AM</td>\n",
       "      <td>-1.934107e+06</td>\n",
       "      <td>-62644.852284</td>\n",
       "      <td>316</td>\n",
       "      <td>7ca03b50-8a54-4d37-aa47-988d53965062</td>\n",
       "      <td>2023-08-29 00:00:00</td>\n",
       "    </tr>\n",
       "    <tr>\n",
       "      <th>3</th>\n",
       "      <td>41.88047</td>\n",
       "      <td>-123.77477</td>\n",
       "      <td>1.30</td>\n",
       "      <td>SNPP</td>\n",
       "      <td>0.37</td>\n",
       "      <td>0.41</td>\n",
       "      <td>2023-08-29 10:02:00</td>\n",
       "      <td>AM</td>\n",
       "      <td>-1.934648e+06</td>\n",
       "      <td>-62803.345473</td>\n",
       "      <td>316</td>\n",
       "      <td>48a4bf27-de51-4898-86ba-0320f945bf6f</td>\n",
       "      <td>2023-08-29 00:00:00</td>\n",
       "    </tr>\n",
       "    <tr>\n",
       "      <th>4</th>\n",
       "      <td>41.88233</td>\n",
       "      <td>-123.76907</td>\n",
       "      <td>1.02</td>\n",
       "      <td>SNPP</td>\n",
       "      <td>0.45</td>\n",
       "      <td>0.42</td>\n",
       "      <td>2023-08-30 09:43:00</td>\n",
       "      <td>AM</td>\n",
       "      <td>-1.934143e+06</td>\n",
       "      <td>-62738.464534</td>\n",
       "      <td>325</td>\n",
       "      <td>18dc37a3-1f26-49bf-af38-684fd7b4b93d</td>\n",
       "      <td>2023-08-30 00:00:00</td>\n",
       "    </tr>\n",
       "    <tr>\n",
       "      <th>...</th>\n",
       "      <td>...</td>\n",
       "      <td>...</td>\n",
       "      <td>...</td>\n",
       "      <td>...</td>\n",
       "      <td>...</td>\n",
       "      <td>...</td>\n",
       "      <td>...</td>\n",
       "      <td>...</td>\n",
       "      <td>...</td>\n",
       "      <td>...</td>\n",
       "      <td>...</td>\n",
       "      <td>...</td>\n",
       "      <td>...</td>\n",
       "    </tr>\n",
       "    <tr>\n",
       "      <th>2190</th>\n",
       "      <td>42.04241</td>\n",
       "      <td>-123.76663</td>\n",
       "      <td>101.11</td>\n",
       "      <td>SNPP</td>\n",
       "      <td>0.51</td>\n",
       "      <td>0.56</td>\n",
       "      <td>2023-09-01 20:29:00</td>\n",
       "      <td>PM</td>\n",
       "      <td>-1.928970e+06</td>\n",
       "      <td>-45531.701141</td>\n",
       "      <td>199</td>\n",
       "      <td>353fb6c2-0290-4d07-873c-c7fa64bb2f53</td>\n",
       "      <td>2023-09-01 12:00:00</td>\n",
       "    </tr>\n",
       "    <tr>\n",
       "      <th>2191</th>\n",
       "      <td>42.04287</td>\n",
       "      <td>-123.78495</td>\n",
       "      <td>9.48</td>\n",
       "      <td>SNPP</td>\n",
       "      <td>0.51</td>\n",
       "      <td>0.56</td>\n",
       "      <td>2023-09-01 20:29:00</td>\n",
       "      <td>PM</td>\n",
       "      <td>-1.930389e+06</td>\n",
       "      <td>-45046.597397</td>\n",
       "      <td>200</td>\n",
       "      <td>68019bed-1c82-4d4b-85a2-568c4b57fc4d</td>\n",
       "      <td>2023-09-01 12:00:00</td>\n",
       "    </tr>\n",
       "    <tr>\n",
       "      <th>2192</th>\n",
       "      <td>42.03799</td>\n",
       "      <td>-123.78424</td>\n",
       "      <td>9.48</td>\n",
       "      <td>SNPP</td>\n",
       "      <td>0.51</td>\n",
       "      <td>0.56</td>\n",
       "      <td>2023-09-01 20:29:00</td>\n",
       "      <td>PM</td>\n",
       "      <td>-1.930486e+06</td>\n",
       "      <td>-45589.736159</td>\n",
       "      <td>200</td>\n",
       "      <td>796efa6b-828c-446c-a36b-1a281a40d822</td>\n",
       "      <td>2023-09-01 12:00:00</td>\n",
       "    </tr>\n",
       "    <tr>\n",
       "      <th>2193</th>\n",
       "      <td>42.01171</td>\n",
       "      <td>-123.90869</td>\n",
       "      <td>6.40</td>\n",
       "      <td>NOAA20</td>\n",
       "      <td>0.37</td>\n",
       "      <td>0.41</td>\n",
       "      <td>2023-09-01 21:21:00</td>\n",
       "      <td>PM</td>\n",
       "      <td>-1.941048e+06</td>\n",
       "      <td>-45455.644723</td>\n",
       "      <td>318</td>\n",
       "      <td>a6be93f9-816c-4ee5-bad7-5a53d9ab53e9</td>\n",
       "      <td>2023-09-01 12:00:00</td>\n",
       "    </tr>\n",
       "    <tr>\n",
       "      <th>2194</th>\n",
       "      <td>42.01982</td>\n",
       "      <td>-123.90022</td>\n",
       "      <td>2.63</td>\n",
       "      <td>NOAA20</td>\n",
       "      <td>0.37</td>\n",
       "      <td>0.41</td>\n",
       "      <td>2023-09-01 21:21:00</td>\n",
       "      <td>PM</td>\n",
       "      <td>-1.940131e+06</td>\n",
       "      <td>-44783.810852</td>\n",
       "      <td>319</td>\n",
       "      <td>f25255b0-e04b-4a82-8b17-4caf09822821</td>\n",
       "      <td>2023-09-01 12:00:00</td>\n",
       "    </tr>\n",
       "  </tbody>\n",
       "</table>\n",
       "<p>2195 rows × 13 columns</p>\n",
       "</div>"
      ],
      "text/plain": [
       "           Lat        Lon     FRP     Sat    DT    DS        YYYYMMDD_HHMM  \\\n",
       "0     41.88437 -123.77304    0.75    SNPP  0.37  0.41  2023-08-28 10:21:00   \n",
       "1     41.88103 -123.77412    0.75    SNPP  0.37  0.41  2023-08-28 10:21:00   \n",
       "2     41.88322 -123.76897    1.53    SNPP  0.37  0.41  2023-08-29 10:02:00   \n",
       "3     41.88047 -123.77477    1.30    SNPP  0.37  0.41  2023-08-29 10:02:00   \n",
       "4     41.88233 -123.76907    1.02    SNPP  0.45  0.42  2023-08-30 09:43:00   \n",
       "...        ...        ...     ...     ...   ...   ...                  ...   \n",
       "2190  42.04241 -123.76663  101.11    SNPP  0.51  0.56  2023-09-01 20:29:00   \n",
       "2191  42.04287 -123.78495    9.48    SNPP  0.51  0.56  2023-09-01 20:29:00   \n",
       "2192  42.03799 -123.78424    9.48    SNPP  0.51  0.56  2023-09-01 20:29:00   \n",
       "2193  42.01171 -123.90869    6.40  NOAA20  0.37  0.41  2023-09-01 21:21:00   \n",
       "2194  42.01982 -123.90022    2.63  NOAA20  0.37  0.41  2023-09-01 21:21:00   \n",
       "\n",
       "     ampm             x             y  initial_cid  \\\n",
       "0      AM -1.934391e+06 -62423.905336          305   \n",
       "1      AM -1.934579e+06 -62758.426061          305   \n",
       "2      AM -1.934107e+06 -62644.852284          316   \n",
       "3      AM -1.934648e+06 -62803.345473          316   \n",
       "4      AM -1.934143e+06 -62738.464534          325   \n",
       "...   ...           ...           ...          ...   \n",
       "2190   PM -1.928970e+06 -45531.701141          199   \n",
       "2191   PM -1.930389e+06 -45046.597397          200   \n",
       "2192   PM -1.930486e+06 -45589.736159          200   \n",
       "2193   PM -1.941048e+06 -45455.644723          318   \n",
       "2194   PM -1.940131e+06 -44783.810852          319   \n",
       "\n",
       "                                      uuid              new_at  \n",
       "0     e3d1e836-e3be-4e50-943a-b553ecb7bcf7 2023-08-28 00:00:00  \n",
       "1     44e49d27-75a9-4acf-b5b8-60cc12d42dc0 2023-08-28 00:00:00  \n",
       "2     7ca03b50-8a54-4d37-aa47-988d53965062 2023-08-29 00:00:00  \n",
       "3     48a4bf27-de51-4898-86ba-0320f945bf6f 2023-08-29 00:00:00  \n",
       "4     18dc37a3-1f26-49bf-af38-684fd7b4b93d 2023-08-30 00:00:00  \n",
       "...                                    ...                 ...  \n",
       "2190  353fb6c2-0290-4d07-873c-c7fa64bb2f53 2023-09-01 12:00:00  \n",
       "2191  68019bed-1c82-4d4b-85a2-568c4b57fc4d 2023-09-01 12:00:00  \n",
       "2192  796efa6b-828c-446c-a36b-1a281a40d822 2023-09-01 12:00:00  \n",
       "2193  a6be93f9-816c-4ee5-bad7-5a53d9ab53e9 2023-09-01 12:00:00  \n",
       "2194  f25255b0-e04b-4a82-8b17-4caf09822821 2023-09-01 12:00:00  \n",
       "\n",
       "[2195 rows x 13 columns]"
      ]
     },
     "execution_count": 4,
     "metadata": {},
     "output_type": "execute_result"
    }
   ],
   "source": [
    "allfires.fires[305].pixels"
   ]
  },
  {
   "cell_type": "code",
   "execution_count": 5,
   "id": "0b7062be-615b-46c6-808c-08e6108d921d",
   "metadata": {
    "execution": {
     "iopub.execute_input": "2024-01-25T18:09:55.282153Z",
     "iopub.status.busy": "2024-01-25T18:09:55.280609Z",
     "iopub.status.idle": "2024-01-25T18:09:55.298848Z",
     "shell.execute_reply": "2024-01-25T18:09:55.298441Z",
     "shell.execute_reply.started": "2024-01-25T18:09:55.282072Z"
    }
   },
   "outputs": [
    {
     "data": {
      "image/svg+xml": [
       "<svg xmlns=\"http://www.w3.org/2000/svg\" xmlns:xlink=\"http://www.w3.org/1999/xlink\" width=\"300\" height=\"300\" viewBox=\"-1952491.9240393266 -77860.7580972586 26093.96553033963 36551.94422329949\" preserveAspectRatio=\"xMinYMin meet\"><g transform=\"matrix(1,0,0,-1,0,-119169.57197121771)\"><g><path fill-rule=\"evenodd\" fill=\"#66cc99\" stroke=\"#555555\" stroke-width=\"243.67962815532994\" opacity=\"0.6\" d=\"M -1934780.276613843,-62935.92799468109 L -1934792.633552376,-62922.2942139893 L -1934803.5946446771,-62907.514891899795 L -1934813.0543294356,-62891.732361363494 L -1934820.9215047162,-62875.098616777075 L -1934827.12040532,-62857.77385019383 L -1934831.5913324459,-62839.92490858664 L -1934834.2912286213,-62821.72368702041 L -1934835.1940923703,-62803.34547320862 L -1934834.2912286213,-62784.96725939683 L -1934831.5913324459,-62766.766037830595 L -1934827.12040532,-62748.917096223406 L -1934820.9215047162,-62731.59232964016 L -1934813.0543294356,-62714.95858505374 L -1934803.5946446771,-62699.17605451744 L -1934792.633552376,-62684.39673242794 L -1934780.276613843,-62670.76295173614 L -1934766.642833151,-62658.4060132031 L -1934751.8635110615,-62647.44492090189 L -1934736.0809805251,-62637.9852361433 L -1934719.4472359389,-62630.118060862755 L -1934713.937470383,-62628.14663522376 L -1934711.8500659687,-62625.843539361995 L -1934698.2162852767,-62613.486600828954 L -1934683.4369631873,-62602.525508527746 L -1934681.5441703943,-62601.39101218733 L -1934658.3988365962,-62384.072530215286 L -1934655.9995078682,-62368.107408039294 L -1934538.9494872224,-61766.73400921165 L -1934534.475202943,-61748.61035458898 L -1934528.2209132004,-61731.02143942893 L -1934520.2486135964,-61714.14161372723 L -1934510.637329494,-61698.1381986355 L -1934314.6633388419,-61405.85358147492 L -1934138.8328303571,-61085.362609515636 L -1934129.3098502255,-61069.842937070294 L -1934118.3264102254,-61055.32014707781 L -1934105.9860916776,-61041.93119933967 L -1934092.405272191,-61029.80236075262 L -1934077.7120281435,-61019.04801452583 L -1934062.044926835,-61009.769581469314 L -1934045.5517197016,-61002.05456352658 L -1934028.387948921,-60995.975718571746 L -1934010.7154805418,-60991.5903742532 L -1933992.7009779785,-60988.939887354856 L -1933974.5143302605,-60988.04925377348 L -1933956.3270498628,-60988.926872790384 L -1933938.3106552279,-60991.56446786046 L -1933920.6350532281,-60995.937164665665 L -1933903.4669368302,-61002.00372569676 L -1933886.968213065,-61009.70693915111 L -1933871.2944761359,-61018.97415847898 L -1933856.5935400575,-61029.717987489945 L -1933843.0040446704,-61041.8371045585 L -1933830.6541481721,-61055.21721815603 L -1933819.6603184987,-61069.732144697744 L -1933810.1262349521,-61085.24499853983 L -1933802.141810434,-61101.60948290432 L -1933795.7823435063,-61118.67126955738 L -1933394.0526601449,-62380.58323070388 L -1933389.0590630216,-62399.701347837494 L -1933386.1051411277,-62419.2388185133 L -1933374.6569847255,-62536.477490750265 L -1933373.7931803742,-62557.68582515189 L -1933375.3319492084,-62578.85589356283 L -1933379.2535713685,-62599.7163941724 L -1933503.3759215057,-63101.58178258632 L -1933508.563203587,-63118.9184031399 L -1933515.397572381,-63135.67422931458 L -1933523.8153684954,-63151.69318733889 L -1933533.7381835503,-63166.826067071364 L -1933545.07359052,-63180.9319118329 L -1933557.7160046552,-63193.879331361466 L -1933571.54766696,-63205.547725659446 L -1933586.439741072,-63215.82840833405 L -1933602.253513319,-63224.62561896727 L -1933618.8416847829,-63231.85741508565 L -1933636.0497433278,-63237.45643542134 L -1933653.7174028202,-63241.37052735524 L -1933671.6800961287,-63243.5632326976 L -1933689.7705080004,-63244.014127281385 L -1933707.8201335354,-63242.719011205176 L -1933988.1329562783,-63208.9460538542 L -1934541.5739328524,-63192.388268892355 L -1934559.6764723558,-63190.96702743055 L -1934577.5566449997,-63187.80138531638 L -1934595.046757021,-63182.9210323324 L -1934611.9827729403,-63176.3717401147 L -1934628.2058540091,-63168.214932871975 L -1934643.5638479216,-63158.52711130285 L -1934657.9127158115,-63147.3991351146 L -1934671.117883159,-63134.93537087217 L -1934683.0555019318,-63121.2527131697 L -1934693.6136121254,-63106.479488304765 L -1934702.6931918082,-63090.75425073742 L -1934710.2090858251,-63074.22448362184 L -1934716.0908044456,-63057.04521559791 L -1934720.2831844701,-63039.37756681556 L -1934722.746906593,-63021.38723782831 L -1934723.458864167,-63003.24295552836 L -1934722.412379917,-62985.11489069833 L -1934721.4040502831,-62975.64738129663 L -1934736.0809805251,-62968.705710273935 L -1934751.8635110615,-62959.24602551534 L -1934766.642833151,-62948.284933214134 L -1934780.276613843,-62935.92799468109 z\" /><path fill-rule=\"evenodd\" fill=\"#66cc99\" stroke=\"#555555\" stroke-width=\"243.67962815532994\" opacity=\"0.6\" d=\"M -1935105.7363134287,-64894.82093596979 L -1935100.542750848,-64877.47782603775 L -1935093.7007876397,-64860.716439047144 L -1935085.2742104214,-64844.69303894668 L -1935075.341578935,-64829.5570095417 L -1935063.9954936446,-64815.4494618109 L -1935051.3417324366,-64802.50191834943 L -1935037.498264468,-64790.835087203006 L -1935022.5941503574,-64780.557736524584 L -1935006.7683389708,-64771.765680544835 L -1934990.1683720232,-64764.540886310126 L -1934972.949008568,-64758.9507095158 L -1934955.2707822013,-64755.047266558926 L -1934937.2985044303,-64752.86694866479 L -1934919.1997281609,-64752.43008261684 L -1934901.1431856256,-64753.74074125306 L -1934883.2972153176,-64756.78670549553 L -1934865.828192597,-64761.53957826704 L -1934848.8989785966,-64767.95504923294 L -1934832.667401891,-64775.97330789983 L -1934817.284787086,-64785.51960122002 L -1934802.8945440396,-64796.50493050319 L -1934789.630830874,-64808.82688113817 L -1934777.6173032383,-64822.37057738925 L -1934766.965961486,-64837.0097533658 L -1934757.776106512,-64852.607930180646 L -1934750.1334139835,-64869.01968832268 L -1934744.109135601,-64886.09202338156 L -1934589.3871163372,-65402.81873163132 L -1934430.694249098,-65920.73388274995 L -1934426.054829878,-65939.16244569853 L -1934423.3046194138,-65957.96596891758 L -1934422.4718687385,-65976.95129665665 L -1934423.5651321313,-65995.92340561168 L -1934426.573179244,-66014.6874082661 L -1934431.4651104633,-66033.05055483726 L -1934438.1906743208,-66050.82421326324 L -1934446.6807836934,-66067.82580689118 L -1934491.6161304645,-66147.43991221226 L -1934415.9721708815,-66742.57588904853 L -1934414.5301578317,-66761.69954949118 L -1934415.0491421036,-66780.87047658631 L -1934417.5236942447,-66799.88811003693 L -1934421.9279262577,-66818.55349325665 L -1934428.215762432,-66836.6713547918 L -1934436.3214213746,-66854.05215119086 L -1934446.1601041944,-66870.51404994931 L -1934457.6288816412,-66885.88483178493 L -1934470.6077709203,-66900.00369234246 L -1934830.1670537218,-67253.06408970614 L -1934844.0695671954,-67265.42220132425 L -1934859.1281587048,-67276.34198270482 L -1934875.1946237378,-67285.71596291533 L -1934892.110838435,-67293.45188457811 L -1934909.7103158208,-67299.47361185431 L -1934927.8198443467,-67303.72187976203 L -1934946.261192613,-67306.15487745377 L -1934964.8528634976,-67306.7486597129 L -1934983.4118804242,-67305.49738261903 L -1935001.7555881925,-67302.41336106302 L -1935019.7034506442,-67297.52694754566 L -1935037.078827474,-67290.88623345259 L -1935053.710712699,-67282.55657574578 L -1935069.4354176742,-67272.61995372962 L -1935084.0981820936,-67261.17416222229 L -1935097.5546971187,-67248.33184907307 L -1935106.25781739,-67238.19618122042 L -1935304.8733318988,-67274.81755773739 L -1936572.194202739,-68327.9439318759 L -1936659.664604135,-68569.41656843755 L -1935767.754934109,-69854.94771406993 L -1935757.5886269775,-69871.34137887646 L -1935749.1604734645,-69888.6928132506 L -1935742.5596800947,-69906.81836354203 L -1935583.417348011,-70425.35700894996 L -1935578.9076816284,-70443.0957931076 L -1935576.1490313055,-70461.18975349965 L -1935575.1676840368,-70479.46647398805 L -1935575.9729910146,-70497.751796926 L -1935578.5572785225,-70515.87148269449 L -1935582.895921058,-70533.65287002007 L -1935963.9186868966,-71819.15675423261 L -1934845.7153133699,-72937.98160570057 L -1934833.7932987546,-72951.09511547376 L -1934823.1626686293,-72965.27567520158 L -1934813.9184008637,-72980.39659066765 L -1934806.1430870676,-72996.3227661794 L -1934799.906194689,-73012.91191156166 L -1934642.905541656,-73499.12561710266 L -1934440.0735220392,-73714.46724000892 L -1934428.8029876011,-73727.597433454 L -1934418.7909144377,-73741.71073630612 L -1934410.1225757021,-73756.68694510515 L -1934402.871799918,-73772.39850699286 L -1934397.1003421785,-73788.7116060849 L -1934362.5277540435,-73902.9431680897 L -1933756.953914007,-75591.20872114736 L -1933281.729746219,-75626.65011376518 L -1933263.3427612332,-75628.93945175754 L -1933245.2715149112,-75633.03241421543 L -1933227.692484027,-75638.88903085685 L -1933210.7773385698,-75646.45210823801 L -1933194.6912652815,-75655.64778828216 L -1933179.591354507,-75666.38626954894 L -1933165.6250661113,-75678.56268420034 L -1933152.9287894436,-75692.05812209935 L -1933141.626511411,-75706.7407920401 L -1933131.8286056723,-75722.46730876967 L -1932955.3461395022,-76039.65461421719 L -1932947.059856594,-76056.47582035612 L -1932940.4951542085,-76074.0405618285 L -1932935.7176892585,-76092.17316475956 L -1932932.7752435908,-76110.69227580451 L -1932931.6972460945,-76129.41267595517 L -1932932.4944783682,-76148.14713300907 L -1932935.1589668887,-76166.70827417355 L -1932939.6640627566,-76184.9104600759 L -1932945.9647082267,-76202.5716414368 L -1932953.997887353,-76219.51517983734 L -1932963.6832562424,-76235.57161436924 L -1932974.923946616,-76250.58035649931 L -1932987.6075346367,-76264.3912961967 L -1933165.1781170939,-76439.31812675633 L -1933179.419921597,-76451.98777987382 L -1933194.87449319,-76463.14597518 L -1933211.3821048045,-76472.67738978677 L -1933228.7721459253,-76480.48351401312 L -1933246.864885896,-76486.48366950863 L -1933265.4733314826,-76490.61584308556 L -1933284.4051594976,-76492.83732764133 L -1933494.389662081,-76506.70675027872 L -1933513.7820470633,-76506.98238528454 L -1933533.0991639849,-76505.25334977341 L -1933552.1343368955,-76501.53814288566 L -1933570.6839063952,-76495.87651402675 L -1933706.9385527377,-76446.45186959421 L -1933723.3930403534,-76439.58127421502 L -1933739.1204639305,-76431.1786918035 L -1933753.9785837028,-76421.32011582138 L -1933767.8330219393,-76410.09470782393 L -1933780.5584782658,-76397.60399107751 L -1933792.0398628886,-76383.96093237713 L -1933802.173337473,-76369.28892036778 L -1933810.8672542647,-76353.72064961019 L -1934047.7405498964,-75877.69475646323 L -1935309.3923362507,-74544.3321162067 L -1935453.7420654236,-74497.93872657207 L -1935476.5839317641,-74488.90756288682 L -1935868.5991151154,-74303.36600183364 L -1937006.4903812916,-74078.17646089396 L -1937135.5468588178,-74130.27110201826 L -1937154.893436366,-74136.8785908867 L -1937174.844381613,-74141.3405137586 L -1937195.162511212,-74143.60382583884 L -1937215.6062766078,-74143.64162013488 L -1937407.584561457,-74133.51592190555 L -1937425.089890032,-74131.76614539712 L -1937442.3541689648,-74128.38340696698 L -1937459.2254120775,-74123.39748657208 L -1937475.5550932859,-74116.85227779094 L -1937491.1994541485,-74108.80540140616 L -1937506.020769446,-74099.32769813968 L -1937519.8885596448,-74088.50260500597 L -1937532.6807395755,-74076.42542077386 L -1937544.2846932092,-74063.20246700331 L -1937683.7358580914,-73888.38993033339 L -1937693.538582922,-73874.9140015734 L -1937702.1060958959,-73860.62093362112 L -1937709.370723483,-73845.623625327 L -1937848.2106343322,-73523.21620024586 L -1937854.5230559136,-73506.37743770954 L -1937859.1933023822,-73489.01139648259 L -1937862.1784137026,-73471.27782097223 L -1937863.4509308334,-73453.33983641076 L -1937862.999148315,-73435.36244832093 L -1937860.8272219438,-73417.51102468543 L -1937856.9551305445,-73399.94977478203 L -1937851.4184921908,-73382.84023867732 L -1937844.2682365684,-73366.33980127373 L -1937667.4721047187,-73006.68695434964 L -1937617.759463546,-72806.9442646225 L -1937612.3903335824,-72789.17569560601 L -1937605.290624588,-72772.0250765602 L -1937596.5299174169,-72755.66049250426 L -1937461.2808458856,-72530.56292391902 L -1937051.5878185243,-71288.39431399819 L -1937107.9777002868,-71198.02444763668 L -1937117.188500084,-71181.4525673225 L -1937124.6786413402,-71164.03522441334 L -1937130.3715387685,-71145.95050796754 L -1937134.2089835622,-71127.38333081247 L -1937136.1517385696,-71108.52353884558 L -1937136.1799394859,-71089.5639698958 L -1937134.2932979616,-71070.69848199296 L -1937130.511104552,-71052.11997120586 L -1937124.8720314743,-71034.0183993162 L -1937117.4337371907,-71016.57885149513 L -1937108.2722768628,-70999.97964384202 L -1937097.4813247004,-70984.390500136 L -1937085.1712161624,-70969.9708164421 L -1937071.4678197948,-70956.86803131651 L -1937056.5112502507,-70945.21611827503 L -1936530.627117701,-70576.68269441399 L -1937471.2194810836,-69219.6733927416 L -1937650.1232984788,-68982.18382253921 L -1937844.6072545042,-68829.59805441598 L -1938922.210732756,-68464.48242871494 L -1939100.7120122425,-68526.61597803704 L -1939118.4270918171,-68531.81975035764 L -1939136.5680877832,-68535.25596281684 L -1939154.9590904452,-68536.89129513344 L -1939173.4217658422,-68536.70988980934 L -1939191.777085016,-68534.71350589652 L -1939209.8470600215,-68530.92150193996 L -1939227.4564698397,-68525.37064826145 L -1939244.4345594624,-68518.11477040513 L -1939260.6166956702,-68509.22422720159 L -1939275.8459634485,-68498.78522851206 L -1939289.9746875616,-68486.89899926826 L -1939302.8658645311,-68473.68079791393 L -1939314.3944911312,-68459.25879876626 L -1939324.4487765215,-68443.77284913455 L -1939332.9312262596,-68427.3731132482 L -1939339.7595876872,-68410.21861614345 L -1939430.9191248545,-68143.70390264553 L -1939505.9083710692,-67955.92720862087 L -1940552.3804953317,-67539.32705784637 L -1941421.6839599009,-68386.67614133316 L -1942008.525428611,-69086.03795862822 L -1942020.274774238,-69098.79252843138 L -1942033.152247784,-69110.4070386924 L -1942047.0476954824,-69120.78213901896 L -1942061.8422558275,-69129.82908091765 L -1942077.409376314,-69137.4704769476 L -1942093.6158959654,-69143.64096269166 L -1942110.3231843917,-69148.2877558831 L -1942127.3883276328,-69151.37110790433 L -1942772.9513527793,-69237.40731148716 L -1943548.07771464,-69414.83421723546 L -1943704.159766007,-69563.3631096073 L -1943723.6832408905,-69579.57159743471 L -1944267.7288941655,-69972.23382260783 L -1944505.8229410485,-70288.49527672472 L -1944562.2160396536,-70387.15068700312 L -1944572.7652243,-70403.56066886094 L -1944584.9623610042,-70418.78573560945 L -1944598.6754135427,-70432.66107313159 L -1944996.8345751774,-70795.65781349987 L -1945033.4595294974,-70844.08339872054 L -1945375.965877029,-71373.47249335836 L -1945387.7836129912,-71389.75178295627 L -1945401.2773923832,-71404.67130274742 L -1945416.2918919344,-71418.05931814587 L -1945432.6542837722,-71429.76172330152 L -1945544.7943683073,-71501.19554223963 L -1945560.7176962588,-71510.27639411465 L -1945577.4516449908,-71517.75898749303 L -1945594.836275797,-71523.57180570398 L -1945612.705430923,-71527.65929135116 L -1945630.8883216565,-71529.98237731565 L -1945649.211160683,-71530.51886014934 L -1945667.498823099,-71529.26361228958 L -1945694.9007682814,-71526.03084837188 L -1946018.8115557171,-71501.92202210087 L -1946476.1832910548,-71583.65207917216 L -1947430.2684352654,-72222.51515112488 L -1947612.547266107,-72421.44902554534 L -1947625.9456936396,-72434.67281785699 L -1947640.6025967458,-72446.48644282043 L -1947656.37022903,-72456.7708152171 L -1947673.0896475816,-72465.42226519641 L -1947690.5923151716,-72472.3535833019 L -1947708.7017991638,-72477.49489957117 L -1947727.2355500134,-72480.79438784812 L -1947746.0067414264,-72482.21878820751 L -1947764.8261536297,-72481.75374222604 L -1947783.5040807691,-72479.40393771988 L -1947801.8522432065,-72475.19306149005 L -1948210.3890552009,-72359.56604383506 L -1949057.343206005,-72297.40484517274 L -1949075.4628233728,-72295.18391212713 L -1949093.280584727,-72291.21144973199 L -1949110.627591968,-72285.52511374743 L -1949127.3394093686,-72278.17880608179 L -1949143.2576222923,-72269.24216384468 L -1949158.2313388363,-72258.79989924307 L -1949172.1186201673,-72246.9509965773 L -1949184.7878259872,-72233.80777394945 L -1949196.1188623772,-72219.49481857753 L -1949206.0043201928,-72204.14780580862 L -1949214.3504932155,-72187.9122130253 L -1949221.0782664134,-72170.94194063656 L -1949226.1238658882,-72153.39785322534 L -1949229.4394634,-72135.44625468116 L -1949238.6745548057,-72066.90880320745 L -1949240.2410505058,-72048.37382660706 L -1949239.96332714,-72029.77484448202 L -1949237.8441179942,-72011.29490349317 L -1949233.9042798094,-71993.11587872742 L -1949228.1825875156,-71975.41668372738 L -1949220.7353526172,-71958.37150966772 L -1949211.6358689899,-71942.14811100802 L -1949200.9736915394,-71926.90615449417 L -1949188.8537548245,-71912.79564775695 L -1949175.395340316,-71899.9554629736 L -1949160.7309024578,-71888.51197012138 L -1949145.0047650826,-71878.57779327518 L -1949128.3717010114,-71870.2507021886 L -1949110.995408818,-71863.61265006787 L -1949093.0469017455,-71858.72896700833 L -1947992.7703250952,-71617.25734263948 L -1948813.8858582317,-70229.60956531756 L -1948891.1030170736,-70194.24107045386 L -1948908.0785287113,-70185.39064671713 L -1950477.2890042902,-69262.4488402929 L -1950480.0616028798,-69260.78577879274 L -1950752.4103069827,-69094.2158156828 L -1950768.1023383245,-69083.48909670404 L -1950782.6277043768,-69071.22875051262 L -1950795.8371273053,-69057.56077723263 L -1950807.594853282,-69042.62564323447 L -1950817.7800476332,-69026.5768375557 L -1950826.2880366626,-69009.57929448735 L -1950833.0313833882,-68991.80769853688 L -1950837.9407861347,-68973.44468918773 L -1950840.9657907519,-68954.67898390515 L -1950842.075309132,-68935.70343867848 L -1950841.2579387059,-68916.71306603147 L -1950838.5220796252,-68897.90303086999 L -1950833.8958484358,-68879.46664476347 L -1950827.4267891217,-68861.5933792734 L -1950819.181384494,-68844.46691874557 L -1950668.0428629913,-68567.41556330415 L -1950799.8002487791,-67260.23160461157 L -1950800.7387568045,-67239.83596811967 L -1950799.4540767712,-67219.45920727712 L -1950795.9614416827,-67199.34293810606 L -1950690.6397224427,-66742.0779965234 L -1950689.9101780576,-66739.0274863977 L -1950442.985457086,-65743.42507414804 L -1950485.9669759164,-65635.01741990156 L -1950491.8063135482,-65617.93033185309 L -1950495.9748976356,-65600.36077441237 L -1950498.434065483,-65582.47170133817 L -1950499.161008853,-65564.4290298261 L -1950498.1489855063,-65546.40010166325 L -1950495.4073817355,-65528.55213117021 L -1950490.9616253094,-65511.05065432523 L -1950484.8529496354,-65494.05799345459 L -1950477.1380113289,-65477.73175172896 L -1950383.501353585,-65302.01926023733 L -1950627.2720961012,-65181.67134609382 L -1951033.2768330735,-64982.382233574426 L -1951049.7299534245,-64973.25449816914 L -1951065.1854274664,-64962.52374586262 L -1951079.4876197686,-64950.29803450206 L -1951092.4925083588,-64936.70047605687 L -1951104.0691350135,-64921.867996890636 L -1951114.100923996,-64905.949958923295 L -1951122.4868559658,-64889.106655568066 L -1951129.1424852356,-64871.50769758918 L -1951134.0007901324,-64853.33030513459 L -1951137.012847901,-64834.75752314275 L -1951138.1483273525,-64815.976378094216 L -1951137.3957942964,-64797.17599466946 L -1951134.7628266823,-64778.54569127789 L -1951130.2759382909,-64760.273073636126 L -1951123.9803117418,-64742.54214559293 L -1951074.9478405148,-64623.72262241094 L -1951073.1888336174,-64619.60046868819 L -1950960.5416312332,-64364.119105668506 L -1950952.0625224106,-64347.24574556234 L -1950941.929178263,-64331.31084976459 L -1950930.2443858325,-64316.476053050326 L -1950917.1266691948,-64302.891831397625 L -1950902.7090872165,-64290.69597564236 L -1950887.1378838806,-64280.01219380418 L -1950870.5710048664,-64270.948856260664 L -1950853.1764954375,-64263.59789649819 L -1950835.1307958832,-64258.03387858941 L -1950816.6169518048,-64254.31324085653 L -1950797.8227574034,-64252.47372339216 L -1950778.9388505986,-64252.533985244685 L -1950760.1567793034,-64254.493415151184 L -1950741.6670584674,-64258.332137737736 L -1950723.6572375982,-64264.01121512424 L -1950706.3099983644,-64271.47304188877 L -1950300.9224478246,-64470.607530822366 L -1950284.607330233,-64479.655929039196 L -1950269.2721766578,-64490.28088255131 L -1950255.0688093489,-64502.37720138822 L -1950242.1378455607,-64515.82512865684 L -1950230.6073054015,-64530.4915261678 L -1950220.5913443991,-64546.23119254026 L -1950212.1891233306,-64562.888300735554 L -1950100.0383050512,-64815.78316527423 L -1949706.6101844604,-64169.98536013741 L -1949693.9626473186,-64128.31172446992 L -1949692.2729213433,-64123.02676648726 L -1949579.578550456,-63787.73809237519 L -1949573.4438720595,-63771.90060046393 L -1949568.4321184633,-63760.52120873537 L -1949559.5622356113,-63742.94591152126 L -1949548.89845803,-63726.39750550509 L -1949536.5583442335,-63711.05842191234 L -1949522.6779328275,-63697.09776028135 L -1949507.4102428074,-63684.66942429372 L -1949490.9235866617,-63673.91042512519 L -1949473.3997148795,-63664.93937102124 L -1949412.0802646067,-63637.50968650986 L -1948510.8711034276,-62621.80252950478 L -1948398.3312897868,-62233.99269574154 L -1948390.394807233,-62015.68623863707 L -1948451.2583744111,-61746.3061877003 L -1949168.021692087,-60400.616734744355 L -1949429.684335558,-59937.19331189788 L -1949439.7585924393,-59916.47178420288 L -1949560.4958326006,-59623.616981804786 L -1949567.4906664717,-59603.46793505268 L -1949572.1519433386,-59582.65485541821 L -1949609.2523712781,-59357.64918958339 L -1949611.4046476963,-59338.52607256893 L -1949611.5854945735,-59319.283068839366 L -1949609.7930069205,-59300.12287870089 L -1949606.0460662902,-59281.24733012495 L -1949481.691691573,-58788.69139430027 L -1949476.0539464036,-58770.36559933718 L -1949468.574167694,-58752.711369190336 L -1949459.3305693676,-58735.913309135445 L -1949135.8527156245,-58213.255690923324 L -1948881.3258727542,-57732.32167156411 L -1949127.0446509288,-56918.769095393734 L -1949131.6378785367,-56900.17953980849 L -1949134.3111542226,-56881.21845034025 L -1949135.0365965096,-56862.08358555884 L -1949133.806639249,-56842.974516459275 L -1949130.6341105315,-56824.090544995284 L -1949125.5520988964,-56805.62862541862 L -1949118.6136082257,-56787.78131010436 L -1949109.89100493,-56770.73474128643 L -1949099.475263189,-56754.66670964903 L -1949087.4750161166,-56739.74480002219 L -1949074.0154227493,-56726.1246435215 L -1949059.2368626758,-56713.948294361435 L -1948735.7449040276,-56474.06248904565 L -1948583.7632541424,-56295.72788491745 L -1948572.0625237797,-56283.20580274008 L -1948559.2673166748,-56271.804385800824 L -1948545.4845292,-56261.61888618101 L -1948530.8293083762,-56252.73439769343 L -1948515.4240898879,-56245.225144973934 L -1948499.3975752054,-56239.15386337855 L -1948482.8836563607,-56234.57127486684 L -1948241.4562050905,-56179.32198352576 L -1948222.306674985,-56175.973552183554 L -1948202.9133701224,-56174.625879295 L -1948183.4847612528,-56175.29345183796 L -1948164.2296986312,-56177.96909365808 L -1948145.3551669556,-56182.62404260977 L -1947835.7995081777,-56276.23598153895 L -1947465.4395434407,-56306.00919401487 L -1947447.5388391034,-56308.319763532665 L -1947429.9432361345,-56312.340796163946 L -1947412.8157834662,-56318.03503117493 L -1947396.3151919357,-56325.34970317065 L -1947380.5943635968,-56334.21703104337 L -1947365.79897486,-56344.55484606342 L -1947352.0661265873,-56356.26735329234 L -1947339.523073654,-56369.246019262755 L -1947328.2860457445,-56383.370577699294 L -1947318.459170317,-56398.510143961095 L -1947310.133507709,-56414.52442787897 L -1947303.3862073314,-56431.26503374845 L -1947298.279792766,-56448.57683543256 L -1947294.8615823938,-56466.29941383174 L -1947293.1632509208,-56484.26854340085 L -1947293.200535866,-56502.317713938486 L -1947294.9730917297,-56520.27967354687 L -1947298.4644931962,-56537.987978464735 L -1947303.6423873368,-56555.27853541156 L -1947399.2646989038,-56826.36222869931 L -1947394.6879568002,-57502.916235754776 L -1947395.357477257,-57520.06619465102 L -1947397.5923884704,-57537.08308389829 L -1947401.373964429,-57553.82432133928 L -1947406.6705198314,-57570.149634465015 L -1947413.437675574,-57585.92223573872 L -1947756.2112335602,-58293.57258528289 L -1947271.8635455684,-59815.41415168053 L -1946794.215685736,-60300.55027457236 L -1945465.5799289034,-61015.19842164 L -1944850.8307573951,-61175.69514902792 L -1944638.9364479424,-61164.81319893004 L -1944428.3971900751,-61109.73051351569 L -1943671.9653911814,-60887.024737940315 L -1943295.781517988,-60498.51400731991 L -1943281.992135732,-60485.637336441185 L -1943266.9785152336,-60474.211623533134 L -1943250.8926688388,-60464.35255351144 L -1943233.8974651408,-60456.159949091205 L -1943216.164979941,-60449.71676008568 L -1943197.8747539886,-60445.088223542465 L -1943179.2119751368,-60442.321203220905 L -1943160.3656033238,-60441.44371509822 L -1943141.5264573586,-60442.46464370884 L -1943122.8852828895,-60445.373652188755 L -1943104.6308211104,-60450.141286935956 L -1943086.947897764,-60456.719275827 L -1943070.0155517876,-60465.04101697053 L -1942460.0591173302,-60803.93330952891 L -1941446.6215536343,-59981.47555347105 L -1942032.0208385694,-58929.28163725642 L -1942040.0998020552,-58912.93732012022 L -1942046.5531721641,-58895.88562319899 L -1942051.3199315453,-58878.287772232026 L -1942054.3550099453,-58860.310156907406 L -1942055.6297103518,-58842.12275762855 L -1942055.131980327,-58823.89753833009 L -1942052.8665259648,-58805.80682053925 L -1942048.854767395,-58788.02165405615 L -1942043.1346362522,-58770.710199658475 L -1942035.7602170287,-58754.03613912208 L -1942026.8012356996,-58738.15712759116 L -1942016.342400455,-58723.22330293091 L -1942004.4826007753,-58709.37586615684 L -1941991.3339724191,-58696.74574636307 L -1941977.0208371673,-58685.45236277279 L -1940696.2305450859,-57772.2955973619 L -1940633.4314650232,-57606.68120871309 L -1940625.9161023526,-57589.505261516926 L -1940616.7230298796,-57573.16570042542 L -1940605.9441603743,-57557.82588913758 L -1940593.6872614804,-57543.639195806885 L -1940580.0748782482,-57530.74745965935 L -1940565.2431079245,-57519.27957287828 L -1940549.3402392454,-57509.35019193412 L -1939255.4489101502,-56788.765595770274 L -1939239.0881567928,-56780.67110028071 L -1939222.0178464246,-56774.20583836885 L -1939204.399763761,-56769.43108487599 L -1939186.4008850567,-56766.39209276581 L -1939168.1917955799,-56765.11766423715 L -1939149.945072881,-56765.61987774977 L -1939131.8336511825,-56767.89397355013 L -1939114.0291823836,-56771.9183987822 L -1939096.700409223,-56777.65501175571 L -1939080.0115660103,-56785.04944343592 L -1939064.1208220867,-56794.031612728875 L -1939049.1787827678,-56804.516390678415 L -1939035.3270619747,-56816.40440728014 L -1939022.6969400796,-56829.582993265525 L -1939011.4081196913,-56843.92724793054 L -1939001.5675911661,-56859.30122288826 L -1938993.2686186025,-56875.55921052651 L -1938986.5898559259,-56892.54712495895 L -1938981.5946014414,-56910.103962381756 L -1938978.3301979217,-56928.06332699517 L -1938976.827583914,-56946.255008027976 L -1938977.101000517,-56964.50659291852 L -1938979.147856411,-56982.64510136339 L -1938982.9487524177,-57000.49862474678 L -1938988.4676653564,-57017.89795541299 L -1938995.6522894548,-57034.67819034039 L -1939004.4345320812,-57050.68029401798 L -1939014.731159094,-57065.75260571241 L -1939973.5015081752,-58332.14468887827 L -1939910.488069035,-58880.04105166069 L -1939909.2644697635,-58900.19617864358 L -1939910.2153612413,-58920.36601117316 L -1939913.329715458,-58940.31662862442 L -1939918.5714135375,-58959.81665273001 L -1939925.879664628,-58978.63993100108 L -1940023.2382387742,-59194.20868583268 L -1939866.9112752406,-60087.91987058717 L -1939864.4690999347,-60108.57998567001 L -1939864.3307583106,-60129.38348145933 L -1939866.4979534762,-60150.07424849624 L -1939879.6064714731,-60231.370751010916 L -1938779.5064286701,-61257.030890978174 L -1938766.7053160798,-61270.195054375 L -1938755.253217718,-61284.54821167948 L -1938745.2599641744,-61299.95270988943 L -1938736.821395083,-61316.260813187524 L -1938730.018439981,-61333.31611979183 L -1938724.916342157,-61350.9550619167 L -1938721.5640329416,-61369.00847445881 L -1938719.993662434,-61387.30321736378 L -1938720.2202911682,-61405.663836114436 L -1938722.2417456764,-61423.914244415675 L -1938726.038639333,-61441.87941293837 L -1938731.574558282,-61459.38704792658 L -1938738.79641066,-61476.269243569346 L -1938747.6349357713,-61492.3640922902 L -1938758.0053683277,-61507.51723751108 L -1938769.8082513842,-61521.583353998816 L -1938782.9303901743,-61534.42754159712 L -1938797.2459376976,-61545.926618977595 L -1938812.6176016456,-61555.97030500209 L -1938828.897961096,-61564.46227636662 L -1938845.9308803424,-61571.321091383616 L -1938863.5530063035,-61576.48097104304 L -1938881.5953351504,-61579.8924298616 L -1938899.884833126,-61581.522750469994 L -1940744.8075846992,-61655.21078418526 L -1940952.2001632226,-62119.582904021096 L -1940960.8840061733,-62136.632770263386 L -1940971.260265164,-62152.7088492825 L -1941263.7495366114,-62558.78048504549 L -1941275.555364147,-62573.5408875395 L -1941288.7872426186,-62587.03771819342 L -1941303.3107137296,-62599.13382634761 L -1941318.9781944142,-62609.70629505555 L -1941335.6304765325,-62618.64769012815 L -1941353.098344693,-62625.867151847066 L -1941371.2042957696,-62631.29131825332 L -1941389.7643426321,-62634.8650706291 L -1941408.589883769,-62636.55209359726 L -1941934.5350411169,-62657.04844777532 L -1941951.0984670531,-62656.961765444794 L -1941967.5896136293,-62655.41364491403 L -1941983.8797861808,-62652.41616750506 L -1942336.2461095771,-62571.34019155601 L -1942882.413922859,-62504.27757640912 L -1943242.9699772426,-62530.13244454451 L -1944040.569872395,-62793.86680955584 L -1944046.9991895114,-62795.86540907901 L -1945005.5654511536,-63075.071103003575 L -1945179.5641231814,-63146.74255107105 L -1945198.1237515437,-63153.271056269376 L -1945217.2652990108,-63157.81884096412 L -1945236.7780112254,-63160.33583263936 L -1945256.4470471917,-63160.794318438326 L -1946079.6906681687,-63136.76252951116 L -1946787.0364715273,-63357.64822635247 L -1946806.3543167452,-63362.57046425561 L -1946826.0855716781,-63365.41390382887 L -1946846.0071934797,-63366.14640272455 L -1946865.8939873893,-63364.75968074764 L -1946885.5211523415,-63361.26941345541 L -1947224.2054094034,-63282.26378010792 L -1948176.7314982,-63092.59629880441 L -1948856.953427742,-64365.28241582868 L -1948867.4165438768,-64382.55219097462 L -1948879.6760944987,-64398.59667137711 L -1948893.589900403,-64413.22978239624 L -1949070.1381296038,-64579.93100112002 L -1949078.1947592555,-64587.1111320515 L -1949945.1824840102,-65316.111939145245 L -1949955.6285163502,-66072.764809882 L -1949525.3291435423,-67103.00647591641 L -1949334.823744283,-67261.15211876997 L -1949324.4297504309,-67270.45492144342 L -1949174.7869332589,-67414.76580883421 L -1949163.2593755503,-67426.92240464463 L -1949152.8629403189,-67440.05943409944 L -1948971.8037316864,-67691.13204767568 L -1948537.0820253768,-68160.10757597387 L -1946982.3554866447,-68395.68279868396 L -1946602.9240699469,-68424.97819586367 L -1946602.257773586,-68425.03083452642 L -1946209.8182425143,-68456.73821494922 L -1945830.3347562007,-68486.86218302744 L -1945505.1508247172,-68475.77764178107 L -1945478.0100167224,-68476.82086730697 L -1944337.845108157,-68603.79881444195 L -1944101.7901583884,-68406.62286639042 L -1944100.7389268808,-68405.75125542574 L -1944001.0468419332,-68323.7039984738 L -1943579.3004975503,-67964.29491223037 L -1943564.4083711433,-67952.8406493297 L -1943548.4447200436,-67942.93421651643 L -1943531.5698224038,-67934.67507629715 L -1943513.9531054685,-67928.14615204126 L -1943495.771444492,-67923.41299541437 L -1943477.2073868765,-67920.5231282269 L -1943458.4473193602,-67919.50556530578 L -1943439.6795966588,-67920.3705231801 L -1943421.092650348,-67923.10931750505 L -1943402.873096973,-67927.69445025454 L -1942519.3253123595,-68197.77941016619 L -1941677.4522909753,-67749.04819872872 L -1941244.385396421,-66710.38251823478 L -1941236.4214790473,-66693.6592977483 L -1941226.846389913,-66677.80345493095 L -1941215.7535723788,-66662.96972706084 L -1941203.251281326,-66649.30287658935 L -1941189.4615266987,-66636.9362784034 L -1941174.5188828062,-66625.99061821896 L -1941158.5691750117,-66616.57271480837 L -1941141.768056623,-66608.77447755523 L -1941124.279489868,-66602.67200951002 L -1941106.27414579,-66598.32486470001 L -1939756.9810741842,-66342.34112806871 L -1939739.0362688773,-66339.82786553209 L -1939720.9326616668,-66339.05849433399 L -1939702.8393264178,-66340.0401998138 L -1939684.9252410638,-66342.76381359209 L -1939667.3577094811,-66347.20389919617 L -1939650.3007989984,-66353.31898961744 L -1939633.913808133,-66361.05197458151 L -1938723.3070478886,-66845.88526737942 L -1938440.8456407576,-66886.46770090968 L -1938423.1485659417,-66889.88552533381 L -1938405.861428335,-66894.98678539295 L -1938389.1439730034,-66901.72434192817 L -1938373.1506807564,-66910.03593527336 L -1938358.0293406378,-66919.84476057738 L -1937325.611400225,-67662.40599656332 L -1936206.791307367,-66469.44801131924 L -1936194.4868222787,-66457.47699533524 L -1936181.13902517,-66446.68153845178 L -1936166.8598071057,-66437.15213613842 L -1936151.768867007,-66428.96867086283 L -1936015.6379771738,-66363.02523166119 L -1936012.6456680028,-66349.71193250688 L -1936006.5293010224,-66331.48080611549 L -1935998.5777992785,-66313.97202161879 L -1935988.8747990362,-66297.36974162995 L -1935977.522359343,-66281.8485938776 L -1935964.6398885434,-66267.57183441926 L -1935090.0734228159,-65393.02171487328 L -1935111.021809108,-64948.70569499184 L -1935111.0003806213,-64930.60165966227 L -1935109.2330565606,-64912.584081577006 L -1935105.7363134287,-64894.82093596979 z\" /><path fill-rule=\"evenodd\" fill=\"#66cc99\" stroke=\"#555555\" stroke-width=\"243.67962815532994\" opacity=\"0.6\" d=\"M -1936815.4005651327,-49322.256677971 L -1936833.133491242,-49319.257147137 L -1936850.497460679,-49314.57244661179 L -1936867.3327168475,-49308.24567781939 L -1936883.48436756,-49300.33504997569 L -1936898.8038101164,-49290.91334453666 L -1936913.150098519,-49280.067245575025 L -1936926.391240241,-49267.89654224649 L -1936938.4054106195,-49254.51321068314 L -1936949.082073698,-49240.04038376086 L -1936958.32299921,-49224.61121821966 L -1936966.0431663424,-49208.367669559695 L -1936972.1715459658,-49191.45918598464 L -1936976.6517541371,-49174.041333408706 L -1936979.4425708575,-49156.274364177836 L -1936980.5183193146,-49138.32174267361 L -1936983.0350746089,-48926.34137783066 L -1936982.4143660832,-48908.71026702726 L -1936980.1393158725,-48891.215539427976 L -1936976.230065194,-48874.01207738197 L -1936970.721222985,-48857.25218463905 L -1936963.6615595066,-48841.0842379913 L -1936955.1135745747,-48825.651373680405 L -1936945.1529442454,-48811.09022019999 L -1936666.0207978622,-48441.619808829775 L -1936369.0558312188,-47208.16970578431 L -1936364.2114211083,-47191.486566959415 L -1936357.8437366157,-47175.323398192944 L -1936350.0074405132,-47159.81895064504 L -1936340.7698027275,-47145.10632074722 L -1936330.2101228673,-47131.3118076489 L -1936318.4190494837,-47118.55382901456 L -1936305.4978019067,-47106.941904478816 L -1935537.1948960645,-46478.321295079564 L -1935454.170435928,-46181.82246125864 L -1935448.314484772,-46164.28897372629 L -1935440.7604757925,-46147.41733191756 L -1935431.5818332254,-46131.37152655866 L -1935420.867772589,-46116.30752132541 L -1935408.722433516,-46102.371736891386 L -1935395.2638675275,-46089.699627733135 L -1935380.6228905828,-46078.41436552578 L -1935364.9418115611,-46068.62564192624 L -1935348.373049034,-46060.428602380955 L -1935331.07764977,-46053.9029213213 L -1935313.2237233773,-46049.1120277359 L -1935294.984808293,-46046.10248864693 L -1935276.538185007,-46044.903556483194 L -1935258.0631529132,-46045.526884749335 L -1934890.152291276,-46076.1489659335 L -1934588.541175089,-46056.415911524855 L -1933467.7479068683,-45924.11659049479 L -1932787.0117799516,-45588.45935897598 L -1932771.48780339,-45581.65882971064 L -1932589.377212475,-45511.51150462328 L -1932572.396207248,-45505.885060247005 L -1932554.9562946623,-45501.902490242945 L -1932537.2162223402,-45499.60004614138 L -1932519.3374701221,-45498.998686047744 L -1932501.482780189,-45500.1038838705 L -1932222.4419402268,-45530.7935536049 L -1931125.9176659894,-44309.84581342697 L -1930881.4568091328,-43836.37558790789 L -1930871.5531139611,-43819.43283250903 L -1930859.9327562042,-43803.61804752267 L -1930846.723038012,-43789.10448545671 L -1930832.068673132,-43776.051143795376 L -1930816.1302015572,-43764.601023166346 L -1930799.082230794,-43754.879560754904 L -1930781.1115230203,-43746.99325612743 L -1929969.7593374162,-43440.50517662574 L -1929965.0788138171,-43435.14645415249 L -1929947.170032708,-43417.24228239306 L -1929498.2160784553,-43025.311539128284 L -1929392.4927054397,-42841.74902028655 L -1929382.9962319175,-42826.9178638931 L -1929372.1501652163,-42813.04310096065 L -1929360.0501886485,-42800.247133768404 L -1929346.803047441,-42788.64284752794 L -1929332.5256070336,-42778.332614517 L -1929317.3438221011,-42769.40739095775 L -1929301.3916253876,-42761.94591460675 L -1929284.8097461616,-42756.01401013546 L -1929005.6545730599,-42670.709705633446 L -1928989.3042464138,-42666.50802579682 L -1928972.6422753183,-42663.79398561731 L -1928955.8037267975,-42662.589585933165 L -1928938.9250992662,-42662.904589975886 L -1928841.1436662478,-42669.14106338766 L -1928823.5778172645,-42671.096117840585 L -1928806.2740935497,-42674.69645588429 L -1928789.386247552,-42679.910086671145 L -1928401.7261586406,-42819.91965327814 L -1928384.0615141084,-42827.34036071302 L -1928367.2464058672,-42836.525059952044 L -1928351.4564196696,-42847.377843058755 L -1928336.8564367988,-42859.7853837276 L -1928323.5989123532,-42873.61812065326 L -1927971.421230907,-43280.83041175392 L -1927960.0045966387,-43295.431550550085 L -1927950.0853207316,-43311.088522084705 L -1927941.7603303762,-43327.64833270383 L -1927935.1109740434,-43344.94916657159 L -1927930.20222658,-43362.821966869786 L -1927927.0820542993,-43381.09208775336 L -1927925.7809462757,-43399.58100091964 L -1927926.3116164152,-43418.10804011545 L -1927955.7156065619,-43793.925474373216 L -1927955.8211746286,-43795.2173227065 L -1927987.8718000795,-44171.40225490062 L -1927990.676588837,-44191.45018609245 L -1928063.2844568065,-44562.95427237078 L -1928041.9582210493,-45307.02053781887 L -1928031.3752563999,-45384.0999717121 L -1927971.6345074247,-45615.3989794873 L -1927758.9845979377,-46354.4383846626 L -1927754.6465139734,-46373.0295192854 L -1927752.221341418,-46391.96540577436 L -1927751.734220961,-46411.0497441885 L -1927753.1902023638,-46430.08469565154 L -1927756.5741921125,-46448.8729332598 L -1927761.851109886,-46467.21968768282 L -1927768.9662522166,-46484.93476625052 L -1928022.2157777376,-47033.00155024368 L -1928179.9295880613,-47547.75709073476 L -1928186.1178750382,-47564.92362939194 L -1928193.9455583256,-47581.407327991634 L -1928203.33849746,-47597.05205999944 L -1928214.2077265438,-47611.709645213276 L -1928226.4502968937,-47625.24125326274 L -1928239.950252126,-47637.51871855099 L -1928254.5797264455,-47648.42575418435 L -1928270.2001557364,-47657.859053391956 L -1928286.6635899819,-47665.72926800332 L -1928303.814094582,-47671.96185471586 L -1928321.4892273024,-47676.4977811372 L -1928339.5215768542,-47679.29408491469 L -1928605.9865913605,-47707.42089078819 L -1929464.6238981066,-48437.79287510399 L -1929616.0346822343,-48703.808485275775 L -1929689.0638172629,-50383.848108334576 L -1929677.360856273,-50536.301241756424 L -1929062.6372632543,-51758.592897356786 L -1929055.0203192066,-51775.84997748616 L -1929049.1758609926,-51793.78505371687 L -1929045.1630417446,-51812.21660093622 L -1929043.0224761472,-51830.958069132175 L -1929042.7758293669,-51849.819771509814 L -1929044.4255977736,-51868.610804355856 L -1929047.9550836743,-51887.14097921993 L -1929053.3285643146,-51905.22274785647 L -1929060.4916534366,-51922.6731004445 L -1929069.3718517355,-51939.31541787298 L -1929079.8792806414,-51954.98125934419 L -1929091.9075920025,-51969.51206720259 L -1929105.3350444585,-51982.76077173403 L -1929120.025735614,-51994.59327969281 L -1929135.8309775381,-52004.88983149089 L -1929152.5908016711,-52013.54621331273 L -1929170.1355779024,-52020.47481188777 L -1930597.7297463012,-52502.75071741129 L -1930798.9171104995,-52688.01751506696 L -1931005.3128128417,-53241.328021154266 L -1931012.6875391903,-53258.447268992684 L -1931021.7256141747,-53274.749674822524 L -1931032.3377129538,-53290.07411917702 L -1931044.4189543386,-53304.269147950035 L -1931057.8499373535,-53317.19446924293 L -1931072.4979212945,-53328.722339893364 L -1931088.2181376296,-53338.73882798286 L -1931104.8552207702,-53347.14493884544 L -1931122.244743577,-53353.85759344887 L -1931140.2148424196,-53358.810449478915 L -1931158.587915736,-53361.954557011806 L -1931177.1823792984,-53363.25884229474 L -1931195.8144608408,-53362.71041485304 L -1931214.3000163133,-53360.314694888984 L -1931232.456349807,-53356.09535971296 L -1931250.1040191713,-53350.0941097366 L -1931267.0686094696,-53342.37025634046 L -1931283.1824567523,-53333.00013568947 L -1931298.2863051095,-53322.07635428961 L -1931312.2308806228,-53309.7068737419 L -1931324.8783666661,-53296.013943739476 L -1931336.1037659706,-53281.1328938529 L -1931345.7961359934,-53265.2107960449 L -1931353.8596853833,-53248.405011132956 L -1931360.2147207013,-53230.88163356545 L -1931364.798434046,-53212.81384988176 L -1931367.5655237942,-53194.380227080095 L -1931368.488642324,-53175.762947809264 L -1931367.5586662972,-53157.14600982641 L -1931291.868354263,-52400.01839861564 L -1932815.6284587674,-51638.044425769316 L -1932960.5348124108,-51760.937288321584 L -1932974.0251525508,-51771.36192809399 L -1932988.40662718,-51780.518105187504 L -1933003.5603341456,-51788.33011879984 L -1933019.360986686,-51794.73338130975 L -1933035.6779492686,-51799.674952270114 L -1933495.1653160565,-51916.31099142206 L -1934182.2935308812,-52916.97825710845 L -1934192.7902353324,-52930.84036033058 L -1934204.5259299194,-52943.67048825833 L -1934217.399689351,-52955.35830363084 L -1934231.3008011412,-52965.803292911456 L -1934246.109717722,-52974.91563068973 L -1934261.6990845334,-52982.61695216709 L -1934277.934835256,-52988.84102708288 L -1934294.6773447609,-52993.53432928509 L -1934311.7826298664,-52996.6564970476 L -1934736.6997205338,-53054.00559300431 L -1934754.9593166292,-53055.56628984598 L -1934773.284055119,-53055.33697897196 L -1934791.498879272,-53053.31985099534 L -1934809.4297823713,-53049.53417559523 L -1934826.9054700064,-53044.01611743295 L -1934843.7589964517,-53036.81839067004 L -1934859.8293595053,-53028.00975538846 L -1934874.9630385463,-53017.67436072357 L -1934889.0154611224,-53005.910940985166 L -1934901.8523840536,-52992.83187244589 L -1934913.3511758617,-52978.56209980759 L -1934923.401988272,-52963.237942601176 L -1934931.9088055973,-52947.005792922355 L -1934938.7903619767,-52930.020716943916 L -1934943.9809177131,-52912.44497356436 L -1935179.0496825662,-51944.6339526635 L -1935180.4877485991,-51938.22593122531 L -1935216.8294055928,-51761.8877432413 L -1935378.2615619455,-51359.60160298443 L -1935584.4531889176,-51151.42854002006 L -1935597.0150488669,-51137.40250923239 L -1935608.106836013,-51122.18731541348 L -1935617.6166962816,-51105.93639474072 L -1935625.44872839,-51088.81362808061 L -1935631.5239509537,-51070.99168834772 L -1935635.781098968,-51052.6502992011 L -1935638.1772416274,-51033.97442263809 L -1935638.6882152592,-51015.15239376261 L -1935637.3088669984,-50996.37402153771 L -1935634.0531067513,-50977.828674675075 L -1935572.9973020882,-50709.853905128526 L -1935730.2642421748,-49824.942538558265 L -1936623.9867055872,-49297.563667162 L -1936761.6275075062,-49320.94718171392 L -1936779.4823410802,-49323.10560050055 L -1936797.4618335206,-49323.54344203484 L -1936815.4005651327,-49322.256677971 z\" /><path fill-rule=\"evenodd\" fill=\"#66cc99\" stroke=\"#555555\" stroke-width=\"243.67962815532994\" opacity=\"0.6\" d=\"M -1931446.6802011284,-56989.42940489893 L -1931445.5626829567,-57006.783731842836 L -1931434.3856066733,-57630.6211684484 L -1931434.8758787026,-57647.93936704284 L -1931436.962563263,-57665.13838203688 L -1931440.6278444608,-57682.0713700473 L -1931445.84042851,-57698.593759001335 L -1931572.9133697078,-58044.75463904453 L -1931580.474781014,-58062.47925473997 L -1931589.8154797696,-58079.334173584306 L -1931600.8368050961,-58095.14136595181 L -1931613.4223445416,-58109.7338687994 L -1931627.4391636853,-58122.9575492093 L -1931642.739210253,-58134.67273241382 L -1931659.1608779158,-58144.75567710633 L -1931772.4950890613,-58206.55898054994 L -1931789.1090552392,-58214.584847085105 L -1931806.431410413,-58220.938933725265 L -1931824.2944121477,-58225.55971015567 L -1931842.5250826136,-58228.402430712005 L -1931860.9468836307,-58229.439567678586 L -1931879.3814261905,-58228.66107785526 L -1931897.6501979013,-58226.074499811526 L -1931915.5762916266,-58221.70488088623 L -1931932.98611858,-58215.59453463956 L -1931949.7110892863,-58207.8026311063 L -1931965.5892461315,-58198.40462381796 L -1931980.466831693,-58187.49151914235 L -1931994.1997776607,-58175.16899501607 L -1932006.655099936,-58161.55637760357 L -1932017.7121863924,-58146.78548579254 L -1932027.2639648342,-58130.999354715015 L -1932035.217939838,-58114.35085065501 L -1932041.4970884402,-58097.00119075547 L -1932046.0406059944,-58079.118381858905 L -1932048.8044949793,-58060.8755935995 L -1932131.6397327804,-57244.65339808233 L -1932203.7671303486,-56756.312480704735 L -1933032.284198931,-55323.46046373358 L -1933040.8251209704,-55306.82715943658 L -1933047.6669232661,-55289.42589791726 L -1933052.7415669642,-55271.429727423034 L -1933055.9985868614,-55253.017612321564 L -1933057.4055932607,-55234.37265337519 L -1933056.9485940735,-55215.680266880605 L -1933054.6321339654,-55197.12634078161 L -1933050.4792491605,-55178.89538609141 L -1933044.5312383561,-55161.16870200804 L -1933036.8472520253,-55144.122572969834 L -1933027.5037041893,-55127.92651558063 L -1933016.5935125123,-55112.74159283826 L -1933004.2251742748,-55098.71881243058 L -1932809.2228366614,-54898.68923182773 L -1932795.9285187111,-54886.31253305495 L -1932781.4990162726,-54875.280261228734 L -1932766.0697420812,-54865.695947992994 L -1932749.7854911664,-54857.649536717574 L -1932732.7990820312,-54851.216538430504 L -1932715.2699225373,-54846.45732318958 L -1932697.3625139522,-54843.4165535435 L -1932679.2449071978,-54842.122765399035 L -1932661.0871257868,-54842.58810022764 L -1932643.0595702487,-54844.80819112459 L -1932625.3314190165,-54848.762203789964 L -1932608.0690407825,-54854.413032046745 L -1932591.4344332234,-54861.70764606135 L -1932575.5837027412,-54870.57758999871 L -1932560.6655994945,-54880.93962444162 L -1932546.820121462,-54892.6965075457 L -1932534.1772006399,-54905.737907599214 L -1932380.7455570817,-55080.171360980836 L -1932369.421385305,-55094.37829782921 L -1932359.5253475867,-55109.61451647157 L -1931683.7392044235,-56269.47002274551 L -1931674.0872606658,-56288.43419369081 L -1931666.6462211555,-56308.36985843895 L -1931507.455885664,-56822.1460249145 L -1931459.5438125546,-56939.02370570611 L -1931453.7009629677,-56955.403040834404 L -1931449.4007620793,-56972.253256941585 L -1931446.6802011284,-56989.42940489893 z\" /><path fill-rule=\"evenodd\" fill=\"#66cc99\" stroke=\"#555555\" stroke-width=\"243.67962815532994\" opacity=\"0.6\" d=\"M -1941458.046224397,-45303.16629846003 L -1941444.5930786135,-45291.70088338742 L -1941430.1200441816,-45281.553265509654 L -1941414.755746779,-45272.81362938557 L -1941398.6367329727,-45265.55964646847 L -1941381.906256693,-45259.855784819454 L -1941364.7130060992,-45255.752736162685 L -1941092.9639748572,-45204.30456040571 L -1940714.2338787194,-44921.70058502485 L -1940339.4222083138,-44296.19851534907 L -1940329.227200571,-44280.93289583156 L -1940317.5882843516,-44266.737370079696 L -1940304.6170202126,-44253.7480040919 L -1940186.5924160955,-44146.601778903394 L -1940172.1364462366,-44134.73781661081 L -1940156.5705536006,-44124.372892477586 L -1940140.0495851596,-44115.61011508577 L -1940122.7378888251,-44108.536655121825 L -1940104.8076785407,-44103.22287821678 L -1940086.4373211265,-44099.72164496038 L -1940067.8095619148,-44098.067785052466 L -1939818.7992688427,-44088.43565320779 L -1939797.6247540838,-44088.81348980059 L -1939776.627913402,-44091.57673375401 L -1939756.0766121864,-44096.690133221 L -1939222.2265824352,-44262.04233169951 L -1939203.4673594227,-44268.96907406417 L -1939185.5525238642,-44277.85427944895 L -1938850.2989098243,-44467.04369910638 L -1938835.2938880082,-44476.472939543666 L -1938821.246107884,-44487.27669484016 L -1938808.2810624565,-44499.35845183113 L -1938796.5145723394,-44512.61028058203 L -1938786.0517510937,-44526.91379855864 L -1938776.9860662192,-44542.141228173634 L -1938769.3985041794,-44558.15653826171 L -1938763.3568469265,-44574.816659286604 L -1938476.029673832,-45501.642381580314 L -1938471.6212165202,-45518.63941145222 L -1938468.8221217787,-45535.97430657632 L -1938467.6569387198,-45553.49503340984 L -1938468.1358864368,-45571.04792859611 L -1938470.2547643783,-45588.47904664988 L -1938577.8161098654,-46223.43749732646 L -1938581.9748280442,-46242.13153802645 L -1938588.0187498431,-46260.30385499128 L -1938595.8848229907,-46277.76486835869 L -1938605.4909859062,-46294.33241883023 L -1938616.7370237927,-46309.83366801974 L -1938629.5056141145,-46324.10690156288 L -1938643.6635505445,-46337.003216177014 L -1938803.6402250316,-46468.42226848896 L -1939255.018026216,-47544.258263927055 L -1939205.4100384295,-48354.49878517545 L -1939205.32640147,-48375.95645913346 L -1939207.6949434862,-48397.2831742004 L -1939275.9575069998,-48800.1231480681 L -1939279.863641887,-48817.891705287024 L -1939285.4734158008,-48835.19806111464 L -1939292.7340153656,-48851.87928437187 L -1939301.5770854603,-48867.77832920796 L -1939311.9193727497,-48882.74551361317 L -1939323.6635094765,-48896.63992860429 L -1939336.6989301308,-48909.33076481624 L -1939350.9029123748,-48920.69854401061 L -1939366.1417324133,-48930.6362439069 L -1939382.271923942,-48939.050305746816 L -1939399.141628814,-48945.861515105906 L -1939416.5920267128,-48951.00574765995 L -1939434.4588303713,-48954.43457288527 L -1939452.5738322583,-48956.11571000929 L -1939470.7664881735,-48956.03333191874 L -1939488.8655228403,-48954.1882141645 L -1939506.7005423822,-48950.59772766012 L -1939524.1036385007,-48945.29567514292 L -1939540.910969252,-48938.33197293713 L -1940735.8068617259,-48373.85890231988 L -1941116.4070329075,-48322.4624215783 L -1942134.839536853,-48772.20031335937 L -1942151.7392007553,-48778.707198870194 L -1942169.1877571596,-48783.55344261861 L -1942187.0224455849,-48786.69383874657 L -1942205.0769037027,-48788.09909357654 L -1942223.1827191687,-48787.756098863516 L -1942241.1710005763,-48785.66805406902 L -1942258.8739528789,-48781.8544365164 L -1942276.1264425854,-48776.35081970603 L -1942292.7675381287,-48769.20854148494 L -1942308.6420110385,-48760.49422516641 L -1942323.601783916,-48750.289158066334 L -1942337.5073117022,-48738.688533253546 L -1942350.228883358,-48725.80056158696 L -1942361.6478318092,-48711.74546232258 L -1942371.6576408779,-48696.6543417058 L -1942380.1649388664,-48680.66797000982 L -1942387.0903695293,-48663.93546842769 L -1942392.3693323124,-48646.61291806691 L -1942395.9525849451,-48628.86190402168 L -1942397.806702776,-48610.84800810398 L -1942397.9143905574,-48592.739264293145 L -1942396.274643775,-48574.70459131151 L -1942392.9027580195,-48556.91221694728 L -1941999.4298619966,-46917.849850653 L -1942059.6518016092,-46733.55695726769 L -1942064.1092311095,-46717.54433064752 L -1942067.131057666,-46701.19986818197 L -1942068.6935344702,-46684.65201166631 L -1942068.7843829088,-46668.03080125349 L -1942067.4028890564,-46651.466853542835 L -1942017.5724177798,-46262.912184668734 L -1942014.1839215567,-46244.12796434883 L -1942008.9032381212,-46225.78557567847 L -1942001.7850918898,-46208.07510324235 L -1941992.9032491476,-46191.18008299422 L -1941491.142318834,-45344.39733659053 L -1941481.4247299824,-45329.6321294749 L -1941470.359919874,-45315.84761455711 L -1941458.046224397,-45303.16629846003 z\" /><path fill-rule=\"evenodd\" fill=\"#66cc99\" stroke=\"#555555\" stroke-width=\"243.67962815532994\" opacity=\"0.6\" d=\"M -1945528.953221865,-53295.787132612946 L -1945530.4646364285,-53275.787572779285 L -1945540.102158425,-52836.17483851675 L -1945539.8010413726,-52820.67718730174 L -1945538.22086145,-52805.25736576992 L -1945535.372418058,-52790.020757390615 L -1945321.1321292596,-51858.934523220945 L -1945316.1814589282,-51841.37655972585 L -1945309.5479638155,-51824.382797299106 L -1945301.2944369933,-51808.114099938146 L -1945291.4990068527,-51792.72446813003 L -1945280.2543975364,-51778.3595810734 L -1945267.6670512059,-51765.1554176702 L -1945253.8561204532,-51753.23696934107 L -1945004.4444588094,-51558.34074022328 L -1944988.2413562029,-51547.00280301455 L -1944970.934208196,-51537.434523017815 L -1944952.7155450312,-51529.74234083596 L -1944933.788036937,-51524.01182676054 L -1944914.3622395587,-51520.306728860494 L -1944894.6542516714,-51518.66826382832 L -1944664.0325099481,-51511.70461611071 L -1944645.0333641262,-51512.0943589822 L -1944626.1712461421,-51514.40519143465 L -1944607.6399046895,-51518.61337696248 L -1944589.6296907777,-51524.67568974931 L -1944572.3256024767,-51532.52985867669 L -1944555.9053846453,-51542.09520696321 L -1944540.537703165,-51553.27348086366 L -1944526.3804124305,-51565.949858915905 L -1944513.5789338932,-51579.99413136886 L -1944502.264762317,-51595.26203767637 L -1944417.9583357163,-51721.98387677572 L -1944413.004888658,-51729.84509803675 L -1943957.059651893,-52494.830986730914 L -1943947.4238107996,-52513.2483750844 L -1943939.885748094,-52532.61915818655 L -1943934.5381021318,-52552.70528051033 L -1943882.6278381555,-52802.691352447124 L -1943867.1758133818,-52856.368984614506 L -1943863.7715195315,-52870.132795089194 L -1943861.4170204862,-52884.114498477844 L -1943828.82704035,-53135.317952452315 L -1943735.0882117567,-53478.84907709773 L -1943731.058411202,-53497.189199077024 L -1943728.8832297076,-53515.84041759465 L -1943728.5844832412,-53534.615670383224 L -1943730.1651680784,-53553.326651174495 L -1943733.6094307518,-53571.78569831575 L -1943738.8827270523,-53589.80767692112 L -1944047.6816834991,-54477.561233007254 L -1943880.8901290786,-54970.34564794458 L -1943875.778757679,-54988.36528561047 L -1943872.490737701,-55006.80498148155 L -1943871.05888116,-55025.48072098607 L -1943871.4974769289,-55044.20613401077 L -1943873.8021481452,-55062.79435473732 L -1943877.949895889,-55081.05988642538 L -1943883.8993286956,-55098.82045253331 L -1943891.5910756113,-55115.898815703775 L -1943900.9483786714,-55132.124546461804 L -1943911.8778588898,-55147.335723975426 L -1943924.2704481105,-55161.38055190612 L -1943938.0024774284,-55174.11887322444 L -1943952.9369113133,-55185.42356887382 L -1943968.9247151248,-55195.18182632505 L -1943985.806342366,-55203.29626536219 L -1944003.4133268413,-55209.685909865264 L -1944390.3309497698,-55328.591858352986 L -1944408.1011805562,-55333.11491021669 L -1944426.2282419216,-55335.88054696495 L -1944444.5387642146,-55336.8623176762 L -1944462.8576231387,-55336.050832563385 L -1944481.0096146648,-55333.453852779196 L -1944498.8211307065,-55329.09621618735 L -1944516.12181953,-55323.01959980992 L -1944532.7462150222,-55315.28212122272 L -1944548.5353192298,-55305.95778271093 L -1944563.3381230384,-55295.135763501385 L -1944577.0130504426,-55282.919566840385 L -1944589.4293125984,-55269.42603007478 L -1944600.4681587059,-55254.78420720388 L -1944610.024011757,-55239.13413458962 L -1944618.005478289,-55222.62549163003 L -1944624.3362224828,-55205.41616920531 L -1944743.38921021,-54825.381242100564 L -1945349.1855258625,-53662.241616061314 L -1945360.4570057688,-53650.59835255759 L -1945371.1780331822,-53637.285732222925 L -1945380.6421684548,-53623.05209486216 L -1945388.7707598167,-53608.0157292293 L -1945511.8437207523,-53353.23364263156 L -1945519.5891912149,-53334.732981701854 L -1945525.3141938988,-53315.51083011074 L -1945528.953221865,-53295.787132612946 z\" /></g></g></svg>"
      ],
      "text/plain": [
       "<MULTIPOLYGON (((-1934780.277 -62935.928, -1934792.634 -62922.294, -1934803....>"
      ]
     },
     "execution_count": 5,
     "metadata": {},
     "output_type": "execute_result"
    }
   ],
   "source": [
    "allfires.fires[305].hull"
   ]
  },
  {
   "cell_type": "markdown",
   "id": "a13ee794-1c4e-44c9-b939-bd04ab0223f8",
   "metadata": {},
   "source": [
    "## Experiments with saving fire data"
   ]
  },
  {
   "cell_type": "code",
   "execution_count": 12,
   "id": "bddb4e77-086b-4d6b-9a4e-e2e92014a195",
   "metadata": {
    "editable": true,
    "execution": {
     "iopub.execute_input": "2024-01-25T15:09:54.282592Z",
     "iopub.status.busy": "2024-01-25T15:09:54.282286Z",
     "iopub.status.idle": "2024-01-25T15:09:56.161000Z",
     "shell.execute_reply": "2024-01-25T15:09:56.160305Z",
     "shell.execute_reply.started": "2024-01-25T15:09:54.282575Z"
    },
    "slideshow": {
     "slide_type": ""
    },
    "tags": []
   },
   "outputs": [
    {
     "name": "stdout",
     "output_type": "stream",
     "text": [
      "CPU times: user 1.72 s, sys: 156 ms, total: 1.87 s\n",
      "Wall time: 1.87 s\n"
     ]
    }
   ],
   "source": [
    "%%time\n",
    "\n",
    "from FireConsts import firesrc\n",
    "import os\n",
    "OUTPUT_DIR = \"processed/\"\n",
    "\n",
    "for fid, fire in allfires.fires.items():\n",
    "    fire_filename = f\"{fid=}.txt\"\n",
    "    output_filepath = os.path.join(OUTPUT_DIR, firesrc, region[0], \"fires\", fire_filename)\n",
    "    \n",
    "    # make nested path if necessary\n",
    "    os.makedirs(os.path.dirname(output_filepath), exist_ok=True)\n",
    "\n",
    "    fire.pixels.to_csv(output_filepath, index=False)"
   ]
  },
  {
   "cell_type": "markdown",
   "id": "845c64f1-9b96-47ad-8d3a-e2cdfa24755c",
   "metadata": {},
   "source": [
    "## Experiments with land cover"
   ]
  },
  {
   "cell_type": "code",
   "execution_count": null,
   "id": "b9dc7da3-55e1-40ea-b390-749f876252de",
   "metadata": {},
   "outputs": [],
   "source": [
    "from FireConsts import dirextdata\n",
    "\n",
    "import rasterio\n",
    "import pyproj\n",
    "import os"
   ]
  },
  {
   "cell_type": "code",
   "execution_count": null,
   "id": "c4068c3a-089f-4d85-81cb-eba0117c6d93",
   "metadata": {},
   "outputs": [],
   "source": [
    "%%time\n",
    "# read NLCD 500m data\n",
    "fnmLCT = os.path.join(dirextdata, \"NLCD\", f\"nlcd_export_510m_simplified_latlon.tif\")\n",
    "dataset = rasterio.open(fnmLCT)\n",
    "samps = list(dataset.sample(fire.newlocs_geo))\n",
    "vLCT = [s[0] for s in samps]\n",
    "vLCT"
   ]
  },
  {
   "cell_type": "code",
   "execution_count": null,
   "id": "97377f44-fb78-4bb6-b0f0-524446a5c64e",
   "metadata": {},
   "outputs": [],
   "source": [
    "%%time\n",
    "# read NLCD 500m data\n",
    "fnmLCT = os.path.join(dirextdata, \"NLCD\", f\"nlcd_export_510m_simplified_{epsg}.tif\")\n",
    "dataset = rasterio.open(fnmLCT)\n",
    "samps = list(dataset.sample(fire.newlocs))\n",
    "vLCT = [s[0] for s in samps]\n",
    "vLCT"
   ]
  },
  {
   "cell_type": "code",
   "execution_count": null,
   "id": "d2bc726e-ac06-4ce9-af7c-c26104cd16b8",
   "metadata": {},
   "outputs": [],
   "source": [
    "%%time\n",
    "\n",
    "locs = fire.newlocs_geo\n",
    "# read NLCD 500m data\n",
    "fnmLCT = os.path.join(dirextdata, \"NLCD\", \"nlcd_export_510m_simplified.tif\")\n",
    "dataset = rasterio.open(fnmLCT)\n",
    "transformer = pyproj.Transformer.from_crs(\"epsg:4326\", dataset.crs)\n",
    "locs_crs_x, locs_crs_y = transformer.transform(\n",
    "    # NOTE: EPSG 4326 expected coordinate order latitude, longitude, but\n",
    "    # `locs` is x (longitude), y (latitude). That's why `l[1]`, then `l[0]`\n",
    "    # here.\n",
    "    [l[1] for l in locs],\n",
    "    [l[0] for l in locs]\n",
    ")\n",
    "locs_crs = list(zip(locs_crs_x, locs_crs_y))\n",
    "samps = list(dataset.sample(locs_crs))\n",
    "vLCT = [int(s) for s in samps]\n",
    "vLCT"
   ]
  },
  {
   "cell_type": "markdown",
   "id": "7da48319-4b65-4d84-aa83-f2de98e60679",
   "metadata": {},
   "source": [
    "## Experiments with hulls\n",
    "\n",
    "Trying out next steps around hulls:"
   ]
  },
  {
   "cell_type": "code",
   "execution_count": null,
   "id": "aaddf824-be42-4648-9796-8007ad9bce35",
   "metadata": {},
   "outputs": [],
   "source": [
    "from FireObj import Cluster, FirePixel\n",
    "from FireVector import *"
   ]
  },
  {
   "cell_type": "code",
   "execution_count": null,
   "id": "088aeac8-1049-43c8-813a-0e21fc659b87",
   "metadata": {
    "editable": true,
    "slideshow": {
     "slide_type": ""
    },
    "tags": []
   },
   "outputs": [],
   "source": [
    "%%time\n",
    "for d in range(1, 32):\n",
    "    for ampm in (\"AM\", \"PM\"):\n",
    "        df = read_preprocessed((t[0], t[1], d, ampm), sat, region=region)\n",
    "        for ic, pixels in df.groupby(\"initial_cid\"):\n",
    "            hull = cal_hull(pixels[[\"x\", \"y\"]].values, sensor=\"viirs\")"
   ]
  },
  {
   "cell_type": "code",
   "execution_count": null,
   "id": "f27538c6-33d9-48a9-b15f-708d9cb06c3b",
   "metadata": {},
   "outputs": [],
   "source": [
    "biggest_cluster = df.value_counts(\"initial_cid\").index[0]\n",
    "pixels = df[df[\"initial_cid\"] == biggest_cluster].copy()\n",
    "pixel_locs = pixels[[\"x\", \"y\"]].values\n",
    "hull = cal_hull(pixel_locs, sensor=\"viirs\")"
   ]
  },
  {
   "cell_type": "code",
   "execution_count": null,
   "id": "6b744ff4-1c7e-4025-a567-fec3d0c67659",
   "metadata": {},
   "outputs": [],
   "source": [
    "from utils import timed"
   ]
  },
  {
   "cell_type": "code",
   "execution_count": null,
   "id": "551a7506-e39f-42b3-b8da-58d312819904",
   "metadata": {},
   "outputs": [],
   "source": [
    "# compute initial hulls\n",
    "hulls = dict()\n",
    "for ic, subset in df.groupby(\"initial_cid\"):\n",
    "    pixel_locs = subset[[\"x\", \"y\"]].values\n",
    "    hulls[ic] = cal_hull(pixel_locs, sensor=\"viirs\")\n",
    "\n",
    "# store hulls\n",
    "df = pd.merge(df, pd.Series(hulls, name=\"hull\"), how=\"outer\", left_on=\"initial_cid\", right_index=True)"
   ]
  }
 ],
 "metadata": {
  "kernelspec": {
   "display_name": "NewFireAtlas",
   "language": "python",
   "name": "fire"
  },
  "language_info": {
   "codemirror_mode": {
    "name": "ipython",
    "version": 3
   },
   "file_extension": ".py",
   "mimetype": "text/x-python",
   "name": "python",
   "nbconvert_exporter": "python",
   "pygments_lexer": "ipython3",
   "version": "3.11.7"
  }
 },
 "nbformat": 4,
 "nbformat_minor": 5
}
