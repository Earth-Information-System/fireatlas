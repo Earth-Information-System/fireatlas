{
 "cells": [
  {
   "cell_type": "code",
   "execution_count": 1,
   "id": "30ed1049-5466-4d04-bcef-ac0c8ffa1d6d",
   "metadata": {},
   "outputs": [],
   "source": [
    "import preprocess"
   ]
  },
  {
   "cell_type": "code",
   "execution_count": 2,
   "id": "27a71fa5-d7cd-4f33-a962-9b09ba3e6433",
   "metadata": {},
   "outputs": [],
   "source": [
    "tst = [2023, 8, 28, 'AM']\n",
    "ted = [2023, 9, 6, 'AM']\n",
    "region = ('CONUS', [-126.401171875,24.071240929282325,\n",
    "                    -61.36210937500001,49.40003415463647])"
   ]
  },
  {
   "cell_type": "code",
   "execution_count": 3,
   "id": "204a5501-a2d5-481d-885d-0cfd0a7d9fb7",
   "metadata": {},
   "outputs": [
    {
     "data": {
      "text/plain": [
       "[[2023, 8, 28, 'AM'],\n",
       " [2023, 8, 28, 'PM'],\n",
       " [2023, 8, 29, 'AM'],\n",
       " [2023, 8, 29, 'PM'],\n",
       " [2023, 8, 30, 'AM'],\n",
       " [2023, 8, 30, 'PM'],\n",
       " [2023, 8, 31, 'AM'],\n",
       " [2023, 8, 31, 'PM'],\n",
       " [2023, 9, 1, 'AM'],\n",
       " [2023, 9, 1, 'PM'],\n",
       " [2023, 9, 2, 'AM'],\n",
       " [2023, 9, 2, 'PM'],\n",
       " [2023, 9, 3, 'AM'],\n",
       " [2023, 9, 3, 'PM'],\n",
       " [2023, 9, 4, 'AM'],\n",
       " [2023, 9, 4, 'PM'],\n",
       " [2023, 9, 5, 'AM'],\n",
       " [2023, 9, 5, 'PM'],\n",
       " [2023, 9, 6, 'AM']]"
      ]
     },
     "execution_count": 3,
     "metadata": {},
     "output_type": "execute_result"
    }
   ],
   "source": [
    "import FireTime\n",
    "\n",
    "list_of_ts = list(FireTime.t_generator(tst, ted))\n",
    "list_of_ts"
   ]
  },
  {
   "cell_type": "markdown",
   "id": "c5cbf654-16f4-4790-95e0-a90140e79e78",
   "metadata": {},
   "source": [
    "## Once per landcover file\n",
    "\n",
    "If your landcover file is not in lat,lon then transform it and resave it. You will use this file a bunch later on."
   ]
  },
  {
   "cell_type": "code",
   "execution_count": 4,
   "id": "94bc6f4a-f61b-4d82-9e3b-d3749552c84c",
   "metadata": {},
   "outputs": [
    {
     "name": "stderr",
     "output_type": "stream",
     "text": [
      "2024-03-20 19:30:16,186 - FireLog - INFO - func:preprocess_landcover took: 22.65 sec\n"
     ]
    }
   ],
   "source": [
    "preprocess.preprocess_landcover()"
   ]
  },
  {
   "cell_type": "markdown",
   "id": "5e54a2d4-b41b-4d53-a4ba-7a41f02799f5",
   "metadata": {},
   "source": [
    "## Once per region\n",
    "\n",
    "Preprocess the region to get rid of static flare sources. Save that new \"swiss cheese\" shape off into a geojson file for later."
   ]
  },
  {
   "cell_type": "code",
   "execution_count": 5,
   "id": "1a3c495d-66fa-458f-8afb-01e982b0709a",
   "metadata": {},
   "outputs": [
    {
     "name": "stderr",
     "output_type": "stream",
     "text": [
      "2024-03-20 19:32:47,689 - FireLog - INFO - func:preprocess_region took: 2.05 min\n"
     ]
    }
   ],
   "source": [
    "preprocess.preprocess_region(region)"
   ]
  },
  {
   "cell_type": "markdown",
   "id": "16bd857f-f57a-4fc3-9e49-2c9536c97019",
   "metadata": {},
   "source": [
    "## Once per input file\n",
    "\n",
    "Next process each NRT file into half day files. First we'll get all the times that are of interest. This could also be done by inspecting all looking at all the files that exist and seeing which have not been preprocessed yet."
   ]
  },
  {
   "cell_type": "code",
   "execution_count": 6,
   "id": "864146bf-ee1e-4785-9106-9df1359f2aaf",
   "metadata": {},
   "outputs": [
    {
     "name": "stderr",
     "output_type": "stream",
     "text": [
      "2024-03-20 19:33:16,131 - FireLog - INFO - preprocessing NRT file for 2023-8-28, SNPP\n",
      "/home/jovyan/fireatlas_nrt/FireIO.py:312: FutureWarning: Support for nested sequences for 'parse_dates' in pd.read_csv is deprecated. Combine the desired columns with pd.to_datetime after parsing instead.\n",
      "  df = pd.read_csv(\n",
      "2024-03-20 19:33:17,763 - FireLog - INFO - func:preprocess_NRT_file took: 1.63 sec\n",
      "2024-03-20 19:33:17,764 - FireLog - INFO - preprocessing NRT file for 2023-8-29, SNPP\n",
      "/home/jovyan/fireatlas_nrt/FireIO.py:312: FutureWarning: Support for nested sequences for 'parse_dates' in pd.read_csv is deprecated. Combine the desired columns with pd.to_datetime after parsing instead.\n",
      "  df = pd.read_csv(\n",
      "2024-03-20 19:33:19,140 - FireLog - INFO - func:preprocess_NRT_file took: 1.38 sec\n",
      "2024-03-20 19:33:19,141 - FireLog - INFO - preprocessing NRT file for 2023-8-30, SNPP\n",
      "/home/jovyan/fireatlas_nrt/FireIO.py:312: FutureWarning: Support for nested sequences for 'parse_dates' in pd.read_csv is deprecated. Combine the desired columns with pd.to_datetime after parsing instead.\n",
      "  df = pd.read_csv(\n",
      "2024-03-20 19:33:20,325 - FireLog - INFO - func:preprocess_NRT_file took: 1.18 sec\n",
      "2024-03-20 19:33:20,326 - FireLog - INFO - preprocessing NRT file for 2023-8-31, SNPP\n",
      "/home/jovyan/fireatlas_nrt/FireIO.py:312: FutureWarning: Support for nested sequences for 'parse_dates' in pd.read_csv is deprecated. Combine the desired columns with pd.to_datetime after parsing instead.\n",
      "  df = pd.read_csv(\n",
      "2024-03-20 19:33:21,452 - FireLog - INFO - func:preprocess_NRT_file took: 1.13 sec\n",
      "2024-03-20 19:33:21,453 - FireLog - INFO - preprocessing NRT file for 2023-9-1, SNPP\n",
      "/home/jovyan/fireatlas_nrt/FireIO.py:312: FutureWarning: Support for nested sequences for 'parse_dates' in pd.read_csv is deprecated. Combine the desired columns with pd.to_datetime after parsing instead.\n",
      "  df = pd.read_csv(\n",
      "2024-03-20 19:33:22,829 - FireLog - INFO - func:preprocess_NRT_file took: 1.38 sec\n",
      "2024-03-20 19:33:22,830 - FireLog - INFO - preprocessing NRT file for 2023-9-2, SNPP\n",
      "/home/jovyan/fireatlas_nrt/FireIO.py:312: FutureWarning: Support for nested sequences for 'parse_dates' in pd.read_csv is deprecated. Combine the desired columns with pd.to_datetime after parsing instead.\n",
      "  df = pd.read_csv(\n",
      "2024-03-20 19:33:24,579 - FireLog - INFO - func:preprocess_NRT_file took: 1.75 sec\n",
      "2024-03-20 19:33:24,580 - FireLog - INFO - preprocessing NRT file for 2023-9-3, SNPP\n",
      "/home/jovyan/fireatlas_nrt/FireIO.py:312: FutureWarning: Support for nested sequences for 'parse_dates' in pd.read_csv is deprecated. Combine the desired columns with pd.to_datetime after parsing instead.\n",
      "  df = pd.read_csv(\n",
      "2024-03-20 19:33:26,042 - FireLog - INFO - func:preprocess_NRT_file took: 1.46 sec\n",
      "2024-03-20 19:33:26,043 - FireLog - INFO - preprocessing NRT file for 2023-9-4, SNPP\n",
      "/home/jovyan/fireatlas_nrt/FireIO.py:312: FutureWarning: Support for nested sequences for 'parse_dates' in pd.read_csv is deprecated. Combine the desired columns with pd.to_datetime after parsing instead.\n",
      "  df = pd.read_csv(\n",
      "2024-03-20 19:33:27,411 - FireLog - INFO - func:preprocess_NRT_file took: 1.37 sec\n",
      "2024-03-20 19:33:27,412 - FireLog - INFO - preprocessing NRT file for 2023-9-5, SNPP\n",
      "/home/jovyan/fireatlas_nrt/FireIO.py:312: FutureWarning: Support for nested sequences for 'parse_dates' in pd.read_csv is deprecated. Combine the desired columns with pd.to_datetime after parsing instead.\n",
      "  df = pd.read_csv(\n",
      "2024-03-20 19:33:28,646 - FireLog - INFO - func:preprocess_NRT_file took: 1.23 sec\n",
      "2024-03-20 19:33:28,647 - FireLog - INFO - preprocessing NRT file for 2023-9-6, SNPP\n",
      "/home/jovyan/fireatlas_nrt/FireIO.py:312: FutureWarning: Support for nested sequences for 'parse_dates' in pd.read_csv is deprecated. Combine the desired columns with pd.to_datetime after parsing instead.\n",
      "  df = pd.read_csv(\n",
      "2024-03-20 19:33:29,531 - FireLog - INFO - func:preprocess_NRT_file took: 884.19 ms\n",
      "2024-03-20 19:33:29,532 - FireLog - INFO - preprocessing NRT file for 2023-8-28, NOAA20\n",
      "2024-03-20 19:33:30,814 - FireLog - INFO - func:preprocess_NRT_file took: 1.28 sec\n",
      "2024-03-20 19:33:30,815 - FireLog - INFO - preprocessing NRT file for 2023-8-29, NOAA20\n",
      "2024-03-20 19:33:32,126 - FireLog - INFO - func:preprocess_NRT_file took: 1.31 sec\n",
      "2024-03-20 19:33:32,127 - FireLog - INFO - preprocessing NRT file for 2023-8-30, NOAA20\n",
      "2024-03-20 19:33:33,403 - FireLog - INFO - func:preprocess_NRT_file took: 1.28 sec\n",
      "2024-03-20 19:33:33,404 - FireLog - INFO - preprocessing NRT file for 2023-8-31, NOAA20\n",
      "2024-03-20 19:33:34,567 - FireLog - INFO - func:preprocess_NRT_file took: 1.16 sec\n",
      "2024-03-20 19:33:34,567 - FireLog - INFO - preprocessing NRT file for 2023-9-1, NOAA20\n",
      "2024-03-20 19:33:36,123 - FireLog - INFO - func:preprocess_NRT_file took: 1.56 sec\n",
      "2024-03-20 19:33:36,124 - FireLog - INFO - preprocessing NRT file for 2023-9-2, NOAA20\n",
      "2024-03-20 19:33:37,639 - FireLog - INFO - func:preprocess_NRT_file took: 1.52 sec\n",
      "2024-03-20 19:33:37,640 - FireLog - INFO - preprocessing NRT file for 2023-9-3, NOAA20\n",
      "2024-03-20 19:33:39,184 - FireLog - INFO - func:preprocess_NRT_file took: 1.54 sec\n",
      "2024-03-20 19:33:39,185 - FireLog - INFO - preprocessing NRT file for 2023-9-4, NOAA20\n",
      "2024-03-20 19:33:40,603 - FireLog - INFO - func:preprocess_NRT_file took: 1.42 sec\n",
      "2024-03-20 19:33:40,604 - FireLog - INFO - preprocessing NRT file for 2023-9-5, NOAA20\n",
      "2024-03-20 19:33:41,987 - FireLog - INFO - func:preprocess_NRT_file took: 1.38 sec\n",
      "2024-03-20 19:33:41,987 - FireLog - INFO - preprocessing NRT file for 2023-9-6, NOAA20\n",
      "2024-03-20 19:33:43,235 - FireLog - INFO - func:preprocess_NRT_file took: 1.25 sec\n"
     ]
    },
    {
     "name": "stdout",
     "output_type": "stream",
     "text": [
      "CPU times: user 14 s, sys: 276 ms, total: 14.3 s\n",
      "Wall time: 27.1 s\n"
     ]
    }
   ],
   "source": [
    "%%time\n",
    "for sat in [\"SNPP\", \"NOAA20\"]:\n",
    "    for t in list_of_ts[::2]:\n",
    "        preprocess.preprocess_NRT_file(t, sat)"
   ]
  },
  {
   "cell_type": "markdown",
   "id": "73f9065d-3519-4673-98e5-3afd0e29ab80",
   "metadata": {},
   "source": [
    "## Once per region and t\n",
    "\n",
    "Do initial filtering and clustering using the preprocessed region and the half day files.\n",
    "\n",
    "Note: for the purpose of timing I am running the full month, but each of these steps could run in a separate proccess."
   ]
  },
  {
   "cell_type": "code",
   "execution_count": 7,
   "id": "5ed3b8b4-7330-48e4-a3ff-4ca4d56add2c",
   "metadata": {
    "editable": true,
    "slideshow": {
     "slide_type": ""
    },
    "tags": []
   },
   "outputs": [
    {
     "name": "stderr",
     "output_type": "stream",
     "text": [
      "2024-03-20 19:33:49,640 - FireLog - INFO - filtering and clustering 2023-8-28 AM, VIIRS, CONUS\n",
      "2024-03-20 19:33:49,693 - FireLog - INFO - func:read_preprocessed took: 51.71 ms\n",
      "2024-03-20 19:33:49,738 - FireLog - INFO - func:read_preprocessed took: 44.49 ms\n",
      "2024-03-20 19:33:50,112 - FireLog - INFO - func:read_region took: 371.37 ms\n",
      "2024-03-20 19:35:51,591 - FireLog - INFO - func:do_clustering took: 502.84 ms\n",
      "2024-03-20 19:35:51,665 - FireLog - INFO - func:preprocess_region_t took: 2.03 min\n",
      "2024-03-20 19:35:51,666 - FireLog - INFO - filtering and clustering 2023-8-28 PM, VIIRS, CONUS\n",
      "2024-03-20 19:35:51,735 - FireLog - INFO - func:read_preprocessed took: 68.20 ms\n",
      "2024-03-20 19:35:51,799 - FireLog - INFO - func:read_preprocessed took: 63.15 ms\n",
      "2024-03-20 19:35:52,106 - FireLog - INFO - func:read_region took: 303.99 ms\n",
      "2024-03-20 19:37:03,239 - FireLog - INFO - func:do_clustering took: 28.65 ms\n",
      "2024-03-20 19:37:03,296 - FireLog - INFO - func:preprocess_region_t took: 1.19 min\n",
      "2024-03-20 19:37:03,297 - FireLog - INFO - filtering and clustering 2023-8-29 AM, VIIRS, CONUS\n",
      "2024-03-20 19:37:03,345 - FireLog - INFO - func:read_preprocessed took: 48.42 ms\n",
      "2024-03-20 19:37:03,397 - FireLog - INFO - func:read_preprocessed took: 50.62 ms\n",
      "2024-03-20 19:37:03,711 - FireLog - INFO - func:read_region took: 311.39 ms\n",
      "2024-03-20 19:38:40,748 - FireLog - INFO - func:do_clustering took: 42.51 ms\n",
      "2024-03-20 19:38:40,813 - FireLog - INFO - func:preprocess_region_t took: 1.63 min\n",
      "2024-03-20 19:38:40,813 - FireLog - INFO - filtering and clustering 2023-8-29 PM, VIIRS, CONUS\n",
      "2024-03-20 19:38:40,887 - FireLog - INFO - func:read_preprocessed took: 72.80 ms\n",
      "2024-03-20 19:38:40,944 - FireLog - INFO - func:read_preprocessed took: 57.03 ms\n",
      "2024-03-20 19:38:41,252 - FireLog - INFO - func:read_region took: 304.26 ms\n",
      "2024-03-20 19:39:38,983 - FireLog - INFO - func:do_clustering took: 24.23 ms\n",
      "2024-03-20 19:39:39,031 - FireLog - INFO - func:preprocess_region_t took: 58.22 sec\n",
      "2024-03-20 19:39:39,032 - FireLog - INFO - filtering and clustering 2023-8-30 AM, VIIRS, CONUS\n",
      "2024-03-20 19:39:39,052 - FireLog - INFO - func:read_preprocessed took: 19.92 ms\n",
      "2024-03-20 19:39:39,071 - FireLog - INFO - func:read_preprocessed took: 17.79 ms\n",
      "2024-03-20 19:39:39,375 - FireLog - INFO - func:read_region took: 302.93 ms\n",
      "2024-03-20 19:40:59,744 - FireLog - INFO - func:do_clustering took: 36.34 ms\n",
      "2024-03-20 19:40:59,805 - FireLog - INFO - func:preprocess_region_t took: 1.35 min\n",
      "2024-03-20 19:40:59,806 - FireLog - INFO - filtering and clustering 2023-8-30 PM, VIIRS, CONUS\n",
      "2024-03-20 19:40:59,869 - FireLog - INFO - func:read_preprocessed took: 63.05 ms\n",
      "2024-03-20 19:40:59,930 - FireLog - INFO - func:read_preprocessed took: 60.67 ms\n",
      "2024-03-20 19:41:00,241 - FireLog - INFO - func:read_region took: 307.68 ms\n",
      "2024-03-20 19:42:32,016 - FireLog - INFO - func:do_clustering took: 45.51 ms\n",
      "2024-03-20 19:42:32,080 - FireLog - INFO - func:preprocess_region_t took: 1.54 min\n",
      "2024-03-20 19:42:32,081 - FireLog - INFO - filtering and clustering 2023-8-31 AM, VIIRS, CONUS\n",
      "2024-03-20 19:42:32,108 - FireLog - INFO - func:read_preprocessed took: 27.14 ms\n",
      "2024-03-20 19:42:32,137 - FireLog - INFO - func:read_preprocessed took: 28.04 ms\n",
      "2024-03-20 19:42:32,448 - FireLog - INFO - func:read_region took: 309.46 ms\n",
      "2024-03-20 19:44:34,863 - FireLog - INFO - func:do_clustering took: 54.03 ms\n",
      "2024-03-20 19:44:34,940 - FireLog - INFO - func:preprocess_region_t took: 2.05 min\n",
      "2024-03-20 19:44:34,941 - FireLog - INFO - filtering and clustering 2023-8-31 PM, VIIRS, CONUS\n",
      "2024-03-20 19:44:35,013 - FireLog - INFO - func:read_preprocessed took: 71.65 ms\n",
      "2024-03-20 19:44:35,083 - FireLog - INFO - func:read_preprocessed took: 69.02 ms\n",
      "2024-03-20 19:44:35,389 - FireLog - INFO - func:read_region took: 302.29 ms\n",
      "2024-03-20 19:45:19,227 - FireLog - INFO - func:do_clustering took: 18.44 ms\n",
      "2024-03-20 19:45:19,270 - FireLog - INFO - func:preprocess_region_t took: 44.33 sec\n",
      "2024-03-20 19:45:19,271 - FireLog - INFO - filtering and clustering 2023-9-1 AM, VIIRS, CONUS\n",
      "2024-03-20 19:45:19,300 - FireLog - INFO - func:read_preprocessed took: 29.14 ms\n",
      "2024-03-20 19:45:19,323 - FireLog - INFO - func:read_preprocessed took: 21.80 ms\n",
      "2024-03-20 19:45:19,632 - FireLog - INFO - func:read_region took: 307.28 ms\n",
      "2024-03-20 19:46:17,029 - FireLog - INFO - func:do_clustering took: 21.75 ms\n",
      "2024-03-20 19:46:17,075 - FireLog - INFO - func:preprocess_region_t took: 57.80 sec\n",
      "2024-03-20 19:46:17,076 - FireLog - INFO - filtering and clustering 2023-9-1 PM, VIIRS, CONUS\n",
      "2024-03-20 19:46:17,136 - FireLog - INFO - func:read_preprocessed took: 60.03 ms\n",
      "2024-03-20 19:46:17,221 - FireLog - INFO - func:read_preprocessed took: 83.65 ms\n",
      "2024-03-20 19:46:17,530 - FireLog - INFO - func:read_region took: 305.12 ms\n",
      "2024-03-20 19:46:46,128 - FireLog - INFO - func:do_clustering took: 12.07 ms\n",
      "2024-03-20 19:46:46,166 - FireLog - INFO - func:preprocess_region_t took: 29.09 sec\n",
      "2024-03-20 19:46:46,167 - FireLog - INFO - filtering and clustering 2023-9-2 AM, VIIRS, CONUS\n",
      "2024-03-20 19:46:46,220 - FireLog - INFO - func:read_preprocessed took: 52.93 ms\n",
      "2024-03-20 19:46:46,271 - FireLog - INFO - func:read_preprocessed took: 50.13 ms\n",
      "2024-03-20 19:46:46,580 - FireLog - INFO - func:read_region took: 306.32 ms\n",
      "2024-03-20 19:47:47,205 - FireLog - INFO - func:do_clustering took: 26.85 ms\n",
      "2024-03-20 19:47:47,258 - FireLog - INFO - func:preprocess_region_t took: 1.02 min\n",
      "2024-03-20 19:47:47,259 - FireLog - INFO - filtering and clustering 2023-9-2 PM, VIIRS, CONUS\n",
      "2024-03-20 19:47:47,345 - FireLog - INFO - func:read_preprocessed took: 85.58 ms\n",
      "2024-03-20 19:47:47,431 - FireLog - INFO - func:read_preprocessed took: 85.57 ms\n",
      "2024-03-20 19:47:47,743 - FireLog - INFO - func:read_region took: 307.56 ms\n",
      "2024-03-20 19:48:11,154 - FireLog - INFO - func:do_clustering took: 10.52 ms\n",
      "2024-03-20 19:48:11,185 - FireLog - INFO - func:preprocess_region_t took: 23.93 sec\n",
      "2024-03-20 19:48:11,186 - FireLog - INFO - filtering and clustering 2023-9-3 AM, VIIRS, CONUS\n",
      "2024-03-20 19:48:11,237 - FireLog - INFO - func:read_preprocessed took: 50.89 ms\n",
      "2024-03-20 19:48:11,261 - FireLog - INFO - func:read_preprocessed took: 23.37 ms\n",
      "2024-03-20 19:48:11,568 - FireLog - INFO - func:read_region took: 304.47 ms\n",
      "2024-03-20 19:49:00,465 - FireLog - INFO - func:do_clustering took: 18.95 ms\n",
      "2024-03-20 19:49:00,520 - FireLog - INFO - func:preprocess_region_t took: 49.33 sec\n",
      "2024-03-20 19:49:00,521 - FireLog - INFO - filtering and clustering 2023-9-3 PM, VIIRS, CONUS\n",
      "2024-03-20 19:49:00,592 - FireLog - INFO - func:read_preprocessed took: 71.14 ms\n",
      "2024-03-20 19:49:00,656 - FireLog - INFO - func:read_preprocessed took: 63.05 ms\n",
      "2024-03-20 19:49:00,962 - FireLog - INFO - func:read_region took: 302.59 ms\n",
      "2024-03-20 19:49:25,707 - FireLog - INFO - func:do_clustering took: 11.00 ms\n",
      "2024-03-20 19:49:25,740 - FireLog - INFO - func:preprocess_region_t took: 25.22 sec\n",
      "2024-03-20 19:49:25,741 - FireLog - INFO - filtering and clustering 2023-9-4 AM, VIIRS, CONUS\n",
      "2024-03-20 19:49:25,759 - FireLog - INFO - func:read_preprocessed took: 17.65 ms\n",
      "2024-03-20 19:49:25,791 - FireLog - INFO - func:read_preprocessed took: 30.73 ms\n",
      "2024-03-20 19:49:26,094 - FireLog - INFO - func:read_region took: 301.40 ms\n",
      "2024-03-20 19:50:07,542 - FireLog - INFO - func:do_clustering took: 16.46 ms\n",
      "2024-03-20 19:50:07,582 - FireLog - INFO - func:preprocess_region_t took: 41.84 sec\n",
      "2024-03-20 19:50:07,583 - FireLog - INFO - filtering and clustering 2023-9-4 PM, VIIRS, CONUS\n",
      "2024-03-20 19:50:07,683 - FireLog - INFO - func:read_preprocessed took: 99.58 ms\n",
      "2024-03-20 19:50:07,733 - FireLog - INFO - func:read_preprocessed took: 49.93 ms\n",
      "2024-03-20 19:50:08,040 - FireLog - INFO - func:read_region took: 302.53 ms\n",
      "2024-03-20 19:50:41,945 - FireLog - INFO - func:do_clustering took: 14.45 ms\n",
      "2024-03-20 19:50:41,987 - FireLog - INFO - func:preprocess_region_t took: 34.40 sec\n",
      "2024-03-20 19:50:41,988 - FireLog - INFO - filtering and clustering 2023-9-5 AM, VIIRS, CONUS\n",
      "2024-03-20 19:50:42,019 - FireLog - INFO - func:read_preprocessed took: 30.72 ms\n",
      "2024-03-20 19:50:42,056 - FireLog - INFO - func:read_preprocessed took: 36.92 ms\n",
      "2024-03-20 19:50:42,360 - FireLog - INFO - func:read_region took: 302.31 ms\n",
      "2024-03-20 19:51:29,646 - FireLog - INFO - func:do_clustering took: 21.73 ms\n",
      "2024-03-20 19:51:29,690 - FireLog - INFO - func:preprocess_region_t took: 47.70 sec\n",
      "2024-03-20 19:51:29,691 - FireLog - INFO - filtering and clustering 2023-9-5 PM, VIIRS, CONUS\n",
      "2024-03-20 19:51:29,773 - FireLog - INFO - func:read_preprocessed took: 81.47 ms\n",
      "2024-03-20 19:51:29,850 - FireLog - INFO - func:read_preprocessed took: 76.89 ms\n",
      "2024-03-20 19:51:30,157 - FireLog - INFO - func:read_region took: 302.84 ms\n",
      "2024-03-20 19:52:07,938 - FireLog - INFO - func:do_clustering took: 15.38 ms\n",
      "2024-03-20 19:52:07,975 - FireLog - INFO - func:preprocess_region_t took: 38.28 sec\n",
      "2024-03-20 19:52:07,975 - FireLog - INFO - filtering and clustering 2023-9-6 AM, VIIRS, CONUS\n",
      "2024-03-20 19:52:08,003 - FireLog - INFO - func:read_preprocessed took: 27.01 ms\n",
      "2024-03-20 19:52:08,026 - FireLog - INFO - func:read_preprocessed took: 22.48 ms\n",
      "2024-03-20 19:52:08,329 - FireLog - INFO - func:read_region took: 301.31 ms\n",
      "2024-03-20 19:52:52,196 - FireLog - INFO - func:do_clustering took: 16.78 ms\n",
      "2024-03-20 19:52:52,251 - FireLog - INFO - func:preprocess_region_t took: 44.28 sec\n"
     ]
    },
    {
     "name": "stdout",
     "output_type": "stream",
     "text": [
      "CPU times: user 18min 41s, sys: 468 ms, total: 18min 41s\n",
      "Wall time: 19min 2s\n"
     ]
    }
   ],
   "source": [
    "%%time\n",
    "for t in list_of_ts:\n",
    "    preprocess.preprocess_region_t(t, sensor=\"VIIRS\", region=region)"
   ]
  },
  {
   "cell_type": "code",
   "execution_count": null,
   "id": "1d4aa5d8-5f66-4ac1-8e89-319c324d480a",
   "metadata": {},
   "outputs": [],
   "source": []
  }
 ],
 "metadata": {
  "kernelspec": {
   "display_name": "Python 3 (ipykernel)",
   "language": "python",
   "name": "python3"
  },
  "language_info": {
   "codemirror_mode": {
    "name": "ipython",
    "version": 3
   },
   "file_extension": ".py",
   "mimetype": "text/x-python",
   "name": "python",
   "nbconvert_exporter": "python",
   "pygments_lexer": "ipython3",
   "version": "3.11.7"
  }
 },
 "nbformat": 4,
 "nbformat_minor": 5
}
