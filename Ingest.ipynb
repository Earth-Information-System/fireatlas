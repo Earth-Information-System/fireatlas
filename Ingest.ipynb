{
 "cells": [
  {
   "cell_type": "code",
   "execution_count": 1,
   "id": "30ed1049-5466-4d04-bcef-ac0c8ffa1d6d",
   "metadata": {
    "execution": {
     "iopub.execute_input": "2024-01-23T16:43:27.905697Z",
     "iopub.status.busy": "2024-01-23T16:43:27.905510Z",
     "iopub.status.idle": "2024-01-23T16:43:28.244940Z",
     "shell.execute_reply": "2024-01-23T16:43:28.244535Z",
     "shell.execute_reply.started": "2024-01-23T16:43:27.905679Z"
    }
   },
   "outputs": [],
   "source": [
    "import time\n",
    "from preprocess import (\n",
    "    preprocess_monthly_file, \n",
    "    preprocessed_filename,\n",
    "    preprocess_region,\n",
    "    read_region,\n",
    "    read_preprocessed,\n",
    "    preprocess_region_t,\n",
    ")"
   ]
  },
  {
   "cell_type": "code",
   "execution_count": 2,
   "id": "27a71fa5-d7cd-4f33-a962-9b09ba3e6433",
   "metadata": {
    "execution": {
     "iopub.execute_input": "2024-01-23T16:43:29.400715Z",
     "iopub.status.busy": "2024-01-23T16:43:29.400434Z",
     "iopub.status.idle": "2024-01-23T16:43:29.403594Z",
     "shell.execute_reply": "2024-01-23T16:43:29.403265Z",
     "shell.execute_reply.started": "2024-01-23T16:43:29.400691Z"
    }
   },
   "outputs": [],
   "source": [
    "t = (2022, 8, 19, \"AM\")\n",
    "# region = ('CONUS', [-126.401171875,24.071240929282325,\n",
    "#                     -61.36210937500001,49.40003415463647])\n",
    "region = ('WesternUS',[-125.698046875,31.676476158707615,\n",
    "                       -101.00078125,49.51429477264348])\n",
    "sat = \"SNPP\""
   ]
  },
  {
   "cell_type": "markdown",
   "id": "5e54a2d4-b41b-4d53-a4ba-7a41f02799f5",
   "metadata": {},
   "source": [
    "## Once per region\n",
    "Start by preprocessing the region to get rid of static flare sources. Save that new \"swiss cheese\" shape off into a geojson file for later.\n"
   ]
  },
  {
   "cell_type": "code",
   "execution_count": 3,
   "id": "1a3c495d-66fa-458f-8afb-01e982b0709a",
   "metadata": {
    "execution": {
     "iopub.execute_input": "2024-01-23T14:37:25.815006Z",
     "iopub.status.busy": "2024-01-23T14:37:25.814567Z",
     "iopub.status.idle": "2024-01-23T14:37:51.130485Z",
     "shell.execute_reply": "2024-01-23T14:37:51.129940Z",
     "shell.execute_reply.started": "2024-01-23T14:37:25.814967Z"
    },
    "scrolled": true
   },
   "outputs": [],
   "source": [
    "preprocess_region(region)"
   ]
  },
  {
   "cell_type": "markdown",
   "id": "16bd857f-f57a-4fc3-9e49-2c9536c97019",
   "metadata": {},
   "source": [
    "## Once per input file\n",
    "\n",
    "Next process each monthly file into half day files"
   ]
  },
  {
   "cell_type": "code",
   "execution_count": 5,
   "id": "41aee3e7-1f99-4974-b3c2-9af520fe1c8f",
   "metadata": {
    "execution": {
     "iopub.execute_input": "2024-01-23T14:37:53.976851Z",
     "iopub.status.busy": "2024-01-23T14:37:53.976481Z",
     "iopub.status.idle": "2024-01-23T14:38:26.839836Z",
     "shell.execute_reply": "2024-01-23T14:38:26.839379Z",
     "shell.execute_reply.started": "2024-01-23T14:37:53.976819Z"
    }
   },
   "outputs": [
    {
     "name": "stdout",
     "output_type": "stream",
     "text": [
      "preprocessing monthly file for 2022-8, SNPP\n",
      "CPU times: user 31.5 s, sys: 1.32 s, total: 32.9 s\n",
      "Wall time: 32.9 s\n"
     ]
    }
   ],
   "source": [
    "%%time\n",
    "preprocess_monthly_file(t, sat)"
   ]
  },
  {
   "cell_type": "markdown",
   "id": "73f9065d-3519-4673-98e5-3afd0e29ab80",
   "metadata": {},
   "source": [
    "## Once per region and t\n",
    "\n",
    "Do initial filtering and clustering using the preprocessed region and the half day files"
   ]
  },
  {
   "cell_type": "code",
   "execution_count": 3,
   "id": "66bc471a-5176-4223-9b47-7c0ba124786b",
   "metadata": {
    "editable": true,
    "execution": {
     "iopub.execute_input": "2024-01-23T15:07:08.645564Z",
     "iopub.status.busy": "2024-01-23T15:07:08.645365Z",
     "iopub.status.idle": "2024-01-23T15:07:08.749871Z",
     "shell.execute_reply": "2024-01-23T15:07:08.749216Z",
     "shell.execute_reply.started": "2024-01-23T15:07:08.645550Z"
    },
    "slideshow": {
     "slide_type": ""
    },
    "tags": []
   },
   "outputs": [],
   "source": [
    "region = read_region(region)"
   ]
  },
  {
   "cell_type": "code",
   "execution_count": 4,
   "id": "5ed3b8b4-7330-48e4-a3ff-4ca4d56add2c",
   "metadata": {
    "collapsed": true,
    "execution": {
     "iopub.execute_input": "2024-01-23T15:07:09.174205Z",
     "iopub.status.busy": "2024-01-23T15:07:09.173851Z",
     "iopub.status.idle": "2024-01-23T15:12:47.572838Z",
     "shell.execute_reply": "2024-01-23T15:12:47.572356Z",
     "shell.execute_reply.started": "2024-01-23T15:07:09.174178Z"
    },
    "jupyter": {
     "outputs_hidden": true
    }
   },
   "outputs": [
    {
     "name": "stdout",
     "output_type": "stream",
     "text": [
      "filtering and clustering 2022-8-1 AM, SNPP, WesternUS\n",
      "filtering and clustering 2022-8-1 PM, SNPP, WesternUS\n",
      "filtering and clustering 2022-8-2 AM, SNPP, WesternUS\n",
      "filtering and clustering 2022-8-2 PM, SNPP, WesternUS\n",
      "filtering and clustering 2022-8-3 AM, SNPP, WesternUS\n",
      "filtering and clustering 2022-8-3 PM, SNPP, WesternUS\n",
      "filtering and clustering 2022-8-4 AM, SNPP, WesternUS\n",
      "filtering and clustering 2022-8-4 PM, SNPP, WesternUS\n",
      "filtering and clustering 2022-8-5 AM, SNPP, WesternUS\n",
      "filtering and clustering 2022-8-5 PM, SNPP, WesternUS\n",
      "filtering and clustering 2022-8-6 AM, SNPP, WesternUS\n",
      "filtering and clustering 2022-8-6 PM, SNPP, WesternUS\n",
      "filtering and clustering 2022-8-7 AM, SNPP, WesternUS\n",
      "filtering and clustering 2022-8-7 PM, SNPP, WesternUS\n",
      "filtering and clustering 2022-8-8 AM, SNPP, WesternUS\n",
      "filtering and clustering 2022-8-8 PM, SNPP, WesternUS\n",
      "filtering and clustering 2022-8-9 AM, SNPP, WesternUS\n",
      "filtering and clustering 2022-8-9 PM, SNPP, WesternUS\n",
      "filtering and clustering 2022-8-10 AM, SNPP, WesternUS\n",
      "filtering and clustering 2022-8-10 PM, SNPP, WesternUS\n",
      "filtering and clustering 2022-8-11 AM, SNPP, WesternUS\n",
      "filtering and clustering 2022-8-11 PM, SNPP, WesternUS\n",
      "filtering and clustering 2022-8-12 AM, SNPP, WesternUS\n",
      "filtering and clustering 2022-8-12 PM, SNPP, WesternUS\n",
      "filtering and clustering 2022-8-13 AM, SNPP, WesternUS\n",
      "filtering and clustering 2022-8-13 PM, SNPP, WesternUS\n",
      "filtering and clustering 2022-8-14 AM, SNPP, WesternUS\n",
      "filtering and clustering 2022-8-14 PM, SNPP, WesternUS\n",
      "filtering and clustering 2022-8-15 AM, SNPP, WesternUS\n",
      "filtering and clustering 2022-8-15 PM, SNPP, WesternUS\n",
      "filtering and clustering 2022-8-16 AM, SNPP, WesternUS\n",
      "filtering and clustering 2022-8-16 PM, SNPP, WesternUS\n",
      "filtering and clustering 2022-8-17 AM, SNPP, WesternUS\n",
      "filtering and clustering 2022-8-17 PM, SNPP, WesternUS\n",
      "filtering and clustering 2022-8-18 AM, SNPP, WesternUS\n",
      "filtering and clustering 2022-8-18 PM, SNPP, WesternUS\n",
      "filtering and clustering 2022-8-19 AM, SNPP, WesternUS\n",
      "filtering and clustering 2022-8-19 PM, SNPP, WesternUS\n",
      "filtering and clustering 2022-8-20 AM, SNPP, WesternUS\n",
      "filtering and clustering 2022-8-20 PM, SNPP, WesternUS\n",
      "filtering and clustering 2022-8-21 AM, SNPP, WesternUS\n",
      "filtering and clustering 2022-8-21 PM, SNPP, WesternUS\n",
      "filtering and clustering 2022-8-22 AM, SNPP, WesternUS\n",
      "filtering and clustering 2022-8-22 PM, SNPP, WesternUS\n",
      "filtering and clustering 2022-8-23 AM, SNPP, WesternUS\n",
      "filtering and clustering 2022-8-23 PM, SNPP, WesternUS\n",
      "filtering and clustering 2022-8-24 AM, SNPP, WesternUS\n",
      "filtering and clustering 2022-8-24 PM, SNPP, WesternUS\n",
      "filtering and clustering 2022-8-25 AM, SNPP, WesternUS\n",
      "filtering and clustering 2022-8-25 PM, SNPP, WesternUS\n",
      "filtering and clustering 2022-8-26 AM, SNPP, WesternUS\n",
      "filtering and clustering 2022-8-26 PM, SNPP, WesternUS\n",
      "filtering and clustering 2022-8-27 AM, SNPP, WesternUS\n",
      "filtering and clustering 2022-8-27 PM, SNPP, WesternUS\n",
      "filtering and clustering 2022-8-28 AM, SNPP, WesternUS\n",
      "filtering and clustering 2022-8-28 PM, SNPP, WesternUS\n",
      "filtering and clustering 2022-8-29 AM, SNPP, WesternUS\n",
      "filtering and clustering 2022-8-29 PM, SNPP, WesternUS\n",
      "filtering and clustering 2022-8-30 AM, SNPP, WesternUS\n",
      "filtering and clustering 2022-8-30 PM, SNPP, WesternUS\n",
      "filtering and clustering 2022-8-31 AM, SNPP, WesternUS\n",
      "filtering and clustering 2022-8-31 PM, SNPP, WesternUS\n",
      "CPU times: user 5min 37s, sys: 832 ms, total: 5min 38s\n",
      "Wall time: 5min 38s\n"
     ]
    }
   ],
   "source": [
    "%%time\n",
    "for d in range(1, 32):\n",
    "    for ampm in (\"AM\", \"PM\"):\n",
    "        preprocess_region_t((t[0], t[1], d, ampm), sat, region=region)"
   ]
  },
  {
   "cell_type": "markdown",
   "id": "e39f6598-7366-4e5f-90d5-c06ee5952efb",
   "metadata": {
    "editable": true,
    "slideshow": {
     "slide_type": ""
    },
    "tags": []
   },
   "source": [
    "## Run the rest of the algorithm\n",
    "\n",
    "Now you have pre-clustered data at the half day for the region"
   ]
  },
  {
   "cell_type": "code",
   "execution_count": 11,
   "id": "3de322b5-32ad-4e2e-9e85-6f0f603ec7e8",
   "metadata": {
    "execution": {
     "iopub.execute_input": "2024-01-23T14:55:43.891409Z",
     "iopub.status.busy": "2024-01-23T14:55:43.891070Z",
     "iopub.status.idle": "2024-01-23T14:55:43.900386Z",
     "shell.execute_reply": "2024-01-23T14:55:43.899139Z",
     "shell.execute_reply.started": "2024-01-23T14:55:43.891383Z"
    }
   },
   "outputs": [],
   "source": [
    "df = read_preprocessed(t, sat, region=region)"
   ]
  },
  {
   "cell_type": "markdown",
   "id": "7da48319-4b65-4d84-aa83-f2de98e60679",
   "metadata": {},
   "source": [
    "## Experiments with hulls\n",
    "\n",
    "Trying out next steps around hulls:"
   ]
  },
  {
   "cell_type": "code",
   "execution_count": 3,
   "id": "aaddf824-be42-4648-9796-8007ad9bce35",
   "metadata": {
    "execution": {
     "iopub.execute_input": "2024-01-23T16:43:37.162748Z",
     "iopub.status.busy": "2024-01-23T16:43:37.162346Z",
     "iopub.status.idle": "2024-01-23T16:43:37.169108Z",
     "shell.execute_reply": "2024-01-23T16:43:37.168356Z",
     "shell.execute_reply.started": "2024-01-23T16:43:37.162715Z"
    }
   },
   "outputs": [],
   "source": [
    "from FireObj import Cluster, FirePixel\n",
    "from FireVector import *"
   ]
  },
  {
   "cell_type": "code",
   "execution_count": 4,
   "id": "088aeac8-1049-43c8-813a-0e21fc659b87",
   "metadata": {
    "execution": {
     "iopub.execute_input": "2024-01-23T16:43:37.646439Z",
     "iopub.status.busy": "2024-01-23T16:43:37.646209Z",
     "iopub.status.idle": "2024-01-23T16:43:40.445872Z",
     "shell.execute_reply": "2024-01-23T16:43:40.445438Z",
     "shell.execute_reply.started": "2024-01-23T16:43:37.646422Z"
    }
   },
   "outputs": [
    {
     "name": "stdout",
     "output_type": "stream",
     "text": [
      "CPU times: user 2.68 s, sys: 114 ms, total: 2.8 s\n",
      "Wall time: 2.8 s\n"
     ]
    }
   ],
   "source": [
    "%%time\n",
    "for d in range(1, 32):\n",
    "    for ampm in (\"AM\", \"PM\"):\n",
    "        df = read_preprocessed((t[0], t[1], d, ampm), sat, region=region)\n",
    "        for ic, subset in df.groupby(\"initial_cid\"):\n",
    "            pixel_locs = subset[[\"x\", \"y\"]].values\n",
    "            hull = cal_hull(pixel_locs, sensor=\"viirs\")"
   ]
  },
  {
   "cell_type": "code",
   "execution_count": 32,
   "id": "25eec586-e53f-493d-8062-569db07e81d8",
   "metadata": {
    "execution": {
     "iopub.execute_input": "2024-01-23T15:29:41.925471Z",
     "iopub.status.busy": "2024-01-23T15:29:41.925073Z",
     "iopub.status.idle": "2024-01-23T15:29:45.780898Z",
     "shell.execute_reply": "2024-01-23T15:29:45.780516Z",
     "shell.execute_reply.started": "2024-01-23T15:29:41.925439Z"
    }
   },
   "outputs": [
    {
     "name": "stdout",
     "output_type": "stream",
     "text": [
      "CPU times: user 3.79 s, sys: 36 ms, total: 3.82 s\n",
      "Wall time: 3.85 s\n"
     ]
    }
   ],
   "source": [
    "%%time\n",
    "for d in range(1, 32):\n",
    "    for ampm in (\"AM\", \"PM\"):\n",
    "        df = read_preprocessed((t[0], t[1], d, ampm), sat, region=region)\n",
    "        for ic in df.initial_cid.unique():\n",
    "            pixels = [\n",
    "                FirePixel(\n",
    "                    row.x,\n",
    "                    row.y,\n",
    "                    row.Lon,\n",
    "                    row.Lat,\n",
    "                    row.FRP,\n",
    "                    row.DS,\n",
    "                    row.DT,\n",
    "                    row.ampm,\n",
    "                    row.YYYYMMDD_HHMM,\n",
    "                    row.Sat,\n",
    "                    row.origin,\n",
    "                )\n",
    "                for row in df.loc[df.initial_cid == ic].itertuples()\n",
    "            ]\n",
    "            cluster = Cluster(ic, pixels, t, sensor=\"viirs\")\n",
    "            hull = cluster.hull"
   ]
  },
  {
   "cell_type": "code",
   "execution_count": null,
   "id": "551a7506-e39f-42b3-b8da-58d312819904",
   "metadata": {},
   "outputs": [],
   "source": [
    "# compute initial hulls\n",
    "hulls = dict()\n",
    "for ic, subset in df.groupby(\"initial_cid\"):\n",
    "    pixel_locs = subset[[\"x\", \"y\"]].values\n",
    "    hulls[ic] = cal_hull(pixel_locs)\n",
    "\n",
    "# store hulls\n",
    "df = pd.merge(df, pd.Series(hulls, name=\"hull\"), how=\"outer\", left_on=\"initial_cid\", right_index=True)"
   ]
  }
 ],
 "metadata": {
  "kernelspec": {
   "display_name": "Python 3 (ipykernel)",
   "language": "python",
   "name": "python3"
  },
  "language_info": {
   "codemirror_mode": {
    "name": "ipython",
    "version": 3
   },
   "file_extension": ".py",
   "mimetype": "text/x-python",
   "name": "python",
   "nbconvert_exporter": "python",
   "pygments_lexer": "ipython3",
   "version": "3.11.7"
  }
 },
 "nbformat": 4,
 "nbformat_minor": 5
}
