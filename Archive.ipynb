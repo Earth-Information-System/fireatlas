{
 "cells": [
  {
   "cell_type": "code",
   "execution_count": 1,
   "id": "30ed1049-5466-4d04-bcef-ac0c8ffa1d6d",
   "metadata": {},
   "outputs": [],
   "source": [
    "import datetime\n",
    "import pandas as pd\n",
    "import geopandas as gpd\n",
    "\n",
    "import FireMain, FireTime, FireObj, FireConsts, postprocess, preprocess\n",
    "from utils import timed"
   ]
  },
  {
   "cell_type": "code",
   "execution_count": 2,
   "id": "27a71fa5-d7cd-4f33-a962-9b09ba3e6433",
   "metadata": {},
   "outputs": [],
   "source": [
    "tst = [2020, 9, 5, \"AM\"]\n",
    "ted = [2020, 9, 8, \"PM\"]\n",
    "region = (\"Creek\", [-119.5, 36.8, -118.9, 37.7])\n",
    "\n",
    "list_of_ts = list(FireTime.t_generator(tst, ted))"
   ]
  },
  {
   "cell_type": "markdown",
   "id": "c5cbf654-16f4-4790-95e0-a90140e79e78",
   "metadata": {},
   "source": [
    "## Once per landcover file\n",
    "\n",
    "If your landcover file is not in lat,lon then transform it and resave it. You will use this file a bunch later on."
   ]
  },
  {
   "cell_type": "code",
   "execution_count": 3,
   "id": "94bc6f4a-f61b-4d82-9e3b-d3749552c84c",
   "metadata": {},
   "outputs": [
    {
     "name": "stderr",
     "output_type": "stream",
     "text": [
      "2024-02-28 21:53:27,414 - FireLog - INFO - func:preprocess_landcover took: 24.95 sec\n"
     ]
    }
   ],
   "source": [
    "preprocess.preprocess_landcover()"
   ]
  },
  {
   "cell_type": "markdown",
   "id": "5e54a2d4-b41b-4d53-a4ba-7a41f02799f5",
   "metadata": {},
   "source": [
    "## Once per region\n",
    "\n",
    "Preprocess the region to get rid of static flare sources. Save that new \"swiss cheese\" shape off into a geojson file for later."
   ]
  },
  {
   "cell_type": "code",
   "execution_count": 4,
   "id": "1a3c495d-66fa-458f-8afb-01e982b0709a",
   "metadata": {},
   "outputs": [
    {
     "name": "stderr",
     "output_type": "stream",
     "text": [
      "2024-02-28 21:53:39,498 - FireLog - INFO - func:preprocess_region took: 3.06 sec\n"
     ]
    }
   ],
   "source": [
    "preprocess.preprocess_region(region)"
   ]
  },
  {
   "cell_type": "markdown",
   "id": "16bd857f-f57a-4fc3-9e49-2c9536c97019",
   "metadata": {},
   "source": [
    "## Once per input file\n",
    "\n",
    "Next process each monthly file into half day files. First we'll get all the times that are of interest. This could also be done by looking at all the files that exist and seeing which have not been preprocessed yet."
   ]
  },
  {
   "cell_type": "code",
   "execution_count": 5,
   "id": "864146bf-ee1e-4785-9106-9df1359f2aaf",
   "metadata": {
    "scrolled": true
   },
   "outputs": [
    {
     "name": "stderr",
     "output_type": "stream",
     "text": [
      "2024-02-28 21:53:42,823 - FireLog - INFO - preprocessing monthly file for 2020-9, SNPP\n",
      "/home/jovyan/fireatlas_nrt/FireIO.py:184: FutureWarning: Support for nested sequences for 'parse_dates' in pd.read_csv is deprecated. Combine the desired columns with pd.to_datetime after parsing instead.\n",
      "  df = pd.read_csv(\n",
      "2024-02-28 21:55:30,885 - FireLog - INFO - func:preprocess_monthly_file took: 1.80 min\n"
     ]
    },
    {
     "name": "stdout",
     "output_type": "stream",
     "text": [
      "CPU times: user 1min 9s, sys: 2.33 s, total: 1min 12s\n",
      "Wall time: 1min 48s\n"
     ]
    }
   ],
   "source": [
    "%%time\n",
    "preprocess.preprocess_monthly_file([2020, 9], \"SNPP\")"
   ]
  },
  {
   "cell_type": "markdown",
   "id": "6903ce19-0f26-4c74-9274-520c1f7720c6",
   "metadata": {},
   "source": [
    "Note: \"NOAA20\" files for this time period are not in the input folder."
   ]
  },
  {
   "cell_type": "markdown",
   "id": "73f9065d-3519-4673-98e5-3afd0e29ab80",
   "metadata": {},
   "source": [
    "## Once per region and t\n",
    "\n",
    "Do initial filtering and clustering using the preprocessed region and the half day files."
   ]
  },
  {
   "cell_type": "code",
   "execution_count": 3,
   "id": "66bc471a-5176-4223-9b47-7c0ba124786b",
   "metadata": {
    "editable": true,
    "slideshow": {
     "slide_type": ""
    },
    "tags": []
   },
   "outputs": [
    {
     "name": "stderr",
     "output_type": "stream",
     "text": [
      "2024-02-28 21:58:43,041 - FireLog - INFO - func:read_region took: 1.28 ms\n"
     ]
    }
   ],
   "source": [
    "region = preprocess.read_region(region)"
   ]
  },
  {
   "cell_type": "code",
   "execution_count": 4,
   "id": "5ed3b8b4-7330-48e4-a3ff-4ca4d56add2c",
   "metadata": {
    "editable": true,
    "scrolled": true,
    "slideshow": {
     "slide_type": ""
    },
    "tags": []
   },
   "outputs": [
    {
     "name": "stderr",
     "output_type": "stream",
     "text": [
      "2024-02-28 21:58:43,380 - FireLog - INFO - filtering and clustering 2020-9-5 AM, SNPP, Creek\n",
      "2024-02-28 21:58:43,407 - FireLog - INFO - func:read_preprocessed took: 26.60 ms\n",
      "2024-02-28 21:58:43,409 - FireLog - INFO - func:preprocess_region_t took: 29.30 ms\n",
      "2024-02-28 21:58:43,409 - FireLog - INFO - filtering and clustering 2020-9-5 PM, SNPP, Creek\n",
      "2024-02-28 21:58:43,501 - FireLog - INFO - func:read_preprocessed took: 90.87 ms\n",
      "2024-02-28 21:58:43,503 - FireLog - INFO - func:preprocess_region_t took: 94.00 ms\n",
      "2024-02-28 21:58:43,504 - FireLog - INFO - filtering and clustering 2020-9-6 AM, SNPP, Creek\n",
      "2024-02-28 21:58:43,540 - FireLog - INFO - func:read_preprocessed took: 35.21 ms\n",
      "2024-02-28 21:58:43,541 - FireLog - INFO - func:preprocess_region_t took: 37.43 ms\n",
      "2024-02-28 21:58:43,542 - FireLog - INFO - filtering and clustering 2020-9-6 PM, SNPP, Creek\n",
      "2024-02-28 21:58:43,609 - FireLog - INFO - func:read_preprocessed took: 66.69 ms\n",
      "2024-02-28 21:58:49,110 - FireLog - INFO - func:preprocess_region_t took: 5.57 sec\n",
      "2024-02-28 21:58:49,111 - FireLog - INFO - filtering and clustering 2020-9-7 AM, SNPP, Creek\n",
      "2024-02-28 21:58:49,142 - FireLog - INFO - func:read_preprocessed took: 30.40 ms\n",
      "2024-02-28 21:58:49,143 - FireLog - INFO - func:preprocess_region_t took: 32.58 ms\n",
      "2024-02-28 21:58:49,144 - FireLog - INFO - filtering and clustering 2020-9-7 PM, SNPP, Creek\n",
      "2024-02-28 21:58:49,221 - FireLog - INFO - func:read_preprocessed took: 76.44 ms\n",
      "2024-02-28 21:58:49,223 - FireLog - INFO - func:preprocess_region_t took: 79.00 ms\n",
      "2024-02-28 21:58:49,223 - FireLog - INFO - filtering and clustering 2020-9-8 AM, SNPP, Creek\n",
      "2024-02-28 21:58:49,266 - FireLog - INFO - func:read_preprocessed took: 41.97 ms\n",
      "2024-02-28 21:58:49,268 - FireLog - INFO - func:preprocess_region_t took: 44.11 ms\n",
      "2024-02-28 21:58:49,268 - FireLog - INFO - filtering and clustering 2020-9-8 PM, SNPP, Creek\n",
      "2024-02-28 21:58:49,365 - FireLog - INFO - func:read_preprocessed took: 96.31 ms\n",
      "2024-02-28 21:58:49,367 - FireLog - INFO - func:preprocess_region_t took: 99.28 ms\n"
     ]
    },
    {
     "name": "stdout",
     "output_type": "stream",
     "text": [
      "CPU times: user 505 ms, sys: 151 ms, total: 656 ms\n",
      "Wall time: 5.99 s\n"
     ]
    }
   ],
   "source": [
    "%%time\n",
    "for t in list_of_ts:\n",
    "    preprocess.preprocess_region_t(t, sensor=\"SNPP\", region=region)"
   ]
  },
  {
   "cell_type": "markdown",
   "id": "f14a2dc9-e4ba-46ea-9e35-fca95f4514b0",
   "metadata": {},
   "source": [
    "## Run the fire expansion and merging algorithm\n",
    "\n",
    "`Fire_Forward` is responsible for reading in the preprocessed data created in the `Ingest` notebook"
   ]
  },
  {
   "cell_type": "code",
   "execution_count": 5,
   "id": "f9177ca7-7ddb-4472-97a2-054467bf86f0",
   "metadata": {
    "scrolled": true
   },
   "outputs": [
    {
     "name": "stderr",
     "output_type": "stream",
     "text": [
      "2024-02-28 21:58:49,385 - FireLog - INFO - func:read_preprocessed took: 3.47 ms\n",
      "2024-02-28 21:58:49,389 - FireLog - INFO - func:read_preprocessed took: 3.98 ms\n",
      "2024-02-28 21:58:49,399 - FireLog - INFO - func:read_preprocessed took: 9.13 ms\n",
      "2024-02-28 21:58:49,399 - FireLog - INFO - func:read_preprocessed took: 0.04 ms\n",
      "2024-02-28 21:58:49,408 - FireLog - INFO - func:read_preprocessed took: 7.95 ms\n",
      "2024-02-28 21:58:49,413 - FireLog - INFO - func:read_preprocessed took: 4.83 ms\n",
      "2024-02-28 21:58:49,423 - FireLog - INFO - func:read_preprocessed took: 9.74 ms\n",
      "2024-02-28 21:58:49,428 - FireLog - INFO - func:read_preprocessed took: 4.23 ms\n",
      "2024-02-28 21:58:49,431 - FireLog - INFO - --------------------\n",
      "2024-02-28 21:58:49,431 - FireLog - INFO - Fire tracking at [2020, 9, 5, 'AM']\n",
      "2024-02-28 21:58:49,590 - FireLog - INFO - func:Fire_expand_rtree took: 155.68 ms\n",
      "2024-02-28 21:58:49,591 - FireLog - INFO - func:Fire_merge_rtree took: 0.93 ms\n",
      "2024-02-28 21:58:49,593 - FireLog - INFO - func:invalidate_statfires took: 1.33 ms\n",
      "2024-02-28 21:58:49,594 - FireLog - INFO - fids_expand: 0\n",
      "2024-02-28 21:58:49,595 - FireLog - INFO - fids_new: 1\n",
      "2024-02-28 21:58:49,595 - FireLog - INFO - fids_merged: 0\n",
      "2024-02-28 21:58:49,596 - FireLog - INFO - fids_invalid: 0\n",
      "2024-02-28 21:58:49,612 - FireLog - INFO - func:update_gdf took: 16.21 ms\n",
      "2024-02-28 21:58:49,613 - FireLog - INFO - func:Fire_Forward_one_step took: 181.97 ms\n",
      "2024-02-28 21:58:49,613 - FireLog - INFO - --------------------\n",
      "2024-02-28 21:58:49,614 - FireLog - INFO - Fire tracking at [2020, 9, 5, 'PM']\n",
      "2024-02-28 21:58:49,826 - FireLog - INFO - func:Fire_expand_rtree took: 210.55 ms\n",
      "2024-02-28 21:58:50,123 - FireLog - INFO - func:Fire_merge_rtree took: 296.27 ms\n",
      "2024-02-28 21:58:50,125 - FireLog - INFO - func:invalidate_statfires took: 1.40 ms\n",
      "2024-02-28 21:58:50,126 - FireLog - INFO - fids_expand: 1\n",
      "2024-02-28 21:58:50,126 - FireLog - INFO - fids_new: 3\n",
      "2024-02-28 21:58:50,127 - FireLog - INFO - fids_merged: 1\n",
      "2024-02-28 21:58:50,127 - FireLog - INFO - fids_invalid: 3\n",
      "2024-02-28 21:58:50,178 - FireLog - INFO - func:update_gdf took: 49.81 ms\n",
      "2024-02-28 21:58:50,179 - FireLog - INFO - func:Fire_Forward_one_step took: 565.32 ms\n",
      "2024-02-28 21:58:50,179 - FireLog - INFO - --------------------\n",
      "2024-02-28 21:58:50,180 - FireLog - INFO - Fire tracking at [2020, 9, 6, 'AM']\n",
      "2024-02-28 21:58:51,019 - FireLog - INFO - func:Fire_expand_rtree took: 836.94 ms\n",
      "2024-02-28 21:58:53,219 - FireLog - INFO - func:Fire_merge_rtree took: 2.20 sec\n",
      "2024-02-28 21:58:53,222 - FireLog - INFO - func:invalidate_statfires took: 1.74 ms\n",
      "2024-02-28 21:58:53,222 - FireLog - INFO - fids_expand: 1\n",
      "2024-02-28 21:58:53,223 - FireLog - INFO - fids_new: 5\n",
      "2024-02-28 21:58:53,223 - FireLog - INFO - fids_merged: 1\n",
      "2024-02-28 21:58:53,224 - FireLog - INFO - fids_invalid: 5\n",
      "2024-02-28 21:58:53,317 - FireLog - INFO - func:update_gdf took: 92.48 ms\n",
      "2024-02-28 21:58:53,318 - FireLog - INFO - func:Fire_Forward_one_step took: 3.14 sec\n",
      "2024-02-28 21:58:53,318 - FireLog - INFO - --------------------\n",
      "2024-02-28 21:58:53,319 - FireLog - INFO - Fire tracking at [2020, 9, 6, 'PM']\n",
      "2024-02-28 21:58:53,322 - FireLog - INFO - func:invalidate_statfires took: 1.27 ms\n",
      "2024-02-28 21:58:53,323 - FireLog - INFO - fids_expand: 0\n",
      "2024-02-28 21:58:53,323 - FireLog - INFO - fids_new: 0\n",
      "2024-02-28 21:58:53,324 - FireLog - INFO - fids_merged: 0\n",
      "2024-02-28 21:58:53,324 - FireLog - INFO - fids_invalid: 0\n",
      "2024-02-28 21:58:53,330 - FireLog - INFO - func:update_gdf took: 5.84 ms\n",
      "2024-02-28 21:58:53,331 - FireLog - INFO - func:Fire_Forward_one_step took: 12.71 ms\n",
      "2024-02-28 21:58:53,332 - FireLog - INFO - --------------------\n",
      "2024-02-28 21:58:53,333 - FireLog - INFO - Fire tracking at [2020, 9, 7, 'AM']\n",
      "2024-02-28 21:58:53,954 - FireLog - INFO - func:Fire_expand_rtree took: 618.52 ms\n",
      "2024-02-28 21:58:53,957 - FireLog - INFO - func:Fire_merge_rtree took: 1.92 ms\n",
      "2024-02-28 21:58:53,959 - FireLog - INFO - func:invalidate_statfires took: 1.56 ms\n",
      "2024-02-28 21:58:53,959 - FireLog - INFO - fids_expand: 1\n",
      "2024-02-28 21:58:53,960 - FireLog - INFO - fids_new: 0\n",
      "2024-02-28 21:58:53,960 - FireLog - INFO - fids_merged: 0\n",
      "2024-02-28 21:58:53,961 - FireLog - INFO - fids_invalid: 0\n",
      "2024-02-28 21:58:54,001 - FireLog - INFO - func:update_gdf took: 39.38 ms\n",
      "2024-02-28 21:58:54,002 - FireLog - INFO - func:Fire_Forward_one_step took: 669.89 ms\n",
      "2024-02-28 21:58:54,002 - FireLog - INFO - --------------------\n",
      "2024-02-28 21:58:54,003 - FireLog - INFO - Fire tracking at [2020, 9, 7, 'PM']\n",
      "2024-02-28 21:58:54,301 - FireLog - INFO - func:Fire_expand_rtree took: 295.37 ms\n",
      "2024-02-28 21:58:54,303 - FireLog - INFO - func:Fire_merge_rtree took: 2.17 ms\n",
      "2024-02-28 21:58:54,306 - FireLog - INFO - func:invalidate_statfires took: 1.85 ms\n",
      "2024-02-28 21:58:54,306 - FireLog - INFO - fids_expand: 1\n",
      "2024-02-28 21:58:54,307 - FireLog - INFO - fids_new: 0\n",
      "2024-02-28 21:58:54,307 - FireLog - INFO - fids_merged: 0\n",
      "2024-02-28 21:58:54,308 - FireLog - INFO - fids_invalid: 0\n",
      "2024-02-28 21:58:54,336 - FireLog - INFO - func:update_gdf took: 27.93 ms\n",
      "2024-02-28 21:58:54,337 - FireLog - INFO - func:Fire_Forward_one_step took: 334.32 ms\n",
      "2024-02-28 21:58:54,337 - FireLog - INFO - --------------------\n",
      "2024-02-28 21:58:54,338 - FireLog - INFO - Fire tracking at [2020, 9, 8, 'AM']\n",
      "2024-02-28 21:58:55,391 - FireLog - INFO - func:Fire_expand_rtree took: 1.05 sec\n",
      "2024-02-28 21:58:55,395 - FireLog - INFO - func:Fire_merge_rtree took: 2.98 ms\n",
      "2024-02-28 21:58:55,398 - FireLog - INFO - func:invalidate_statfires took: 2.97 ms\n",
      "2024-02-28 21:58:55,399 - FireLog - INFO - fids_expand: 1\n",
      "2024-02-28 21:58:55,399 - FireLog - INFO - fids_new: 1\n",
      "2024-02-28 21:58:55,400 - FireLog - INFO - fids_merged: 0\n",
      "2024-02-28 21:58:55,400 - FireLog - INFO - fids_invalid: 0\n",
      "2024-02-28 21:58:55,466 - FireLog - INFO - func:update_gdf took: 65.23 ms\n",
      "2024-02-28 21:58:55,467 - FireLog - INFO - func:Fire_Forward_one_step took: 1.13 sec\n",
      "2024-02-28 21:58:55,467 - FireLog - INFO - --------------------\n",
      "2024-02-28 21:58:55,468 - FireLog - INFO - Fire tracking at [2020, 9, 8, 'PM']\n",
      "2024-02-28 21:58:55,758 - FireLog - INFO - func:Fire_expand_rtree took: 288.57 ms\n",
      "2024-02-28 21:58:55,891 - FireLog - INFO - func:Fire_merge_rtree took: 131.61 ms\n",
      "2024-02-28 21:58:55,894 - FireLog - INFO - func:invalidate_statfires took: 2.94 ms\n",
      "2024-02-28 21:58:55,895 - FireLog - INFO - fids_expand: 1\n",
      "2024-02-28 21:58:55,895 - FireLog - INFO - fids_new: 1\n",
      "2024-02-28 21:58:55,896 - FireLog - INFO - fids_merged: 1\n",
      "2024-02-28 21:58:55,897 - FireLog - INFO - fids_invalid: 1\n",
      "2024-02-28 21:58:55,932 - FireLog - INFO - func:update_gdf took: 34.74 ms\n",
      "2024-02-28 21:58:55,932 - FireLog - INFO - func:Fire_Forward_one_step took: 465.00 ms\n",
      "2024-02-28 21:58:55,933 - FireLog - INFO - func:Fire_Forward took: 6.56 sec\n"
     ]
    }
   ],
   "source": [
    "allfires, allpixels = FireMain.Fire_Forward(tst=tst, ted=ted, sat=\"SNPP\", restart=False, region=region)"
   ]
  },
  {
   "cell_type": "markdown",
   "id": "7adb3eb7-c0ae-441d-906f-47cad2e52f4c",
   "metadata": {},
   "source": [
    "We can save these files off in case something goes wrong later"
   ]
  },
  {
   "cell_type": "code",
   "execution_count": 6,
   "id": "228d5db2-cfa1-4ba2-9521-d23c6d2e08e3",
   "metadata": {},
   "outputs": [
    {
     "name": "stderr",
     "output_type": "stream",
     "text": [
      "2024-02-28 20:15:38,125 - FireLog - INFO - func:save_allpixels took: 133.37 ms\n",
      "2024-02-28 20:15:38,172 - FireLog - INFO - func:save_allfires_gdf took: 45.83 ms\n"
     ]
    }
   ],
   "source": [
    "postprocess.save_allpixels(allpixels, ted, region)\n",
    "postprocess.save_allfires_gdf(allfires.gdf, ted, region)"
   ]
  },
  {
   "cell_type": "markdown",
   "id": "2b48478f-189a-455d-b9ca-c323b46054e4",
   "metadata": {},
   "source": [
    "## Write Snapshot files\n",
    "\n",
    "Start by reading in the outputs from the run:"
   ]
  },
  {
   "cell_type": "code",
   "execution_count": 7,
   "id": "8d41cbc8-f2c0-4b03-b9bc-d360a2bdd231",
   "metadata": {},
   "outputs": [
    {
     "name": "stderr",
     "output_type": "stream",
     "text": [
      "2024-02-28 20:15:41,461 - FireLog - INFO - func:read_allpixels took: 25.53 ms\n",
      "2024-02-28 20:15:41,489 - FireLog - INFO - func:read_allfires_gdf took: 26.70 ms\n"
     ]
    }
   ],
   "source": [
    "allpixels = postprocess.read_allpixels(ted, region)\n",
    "allfires_gdf = postprocess.read_allfires_gdf(ted, region)"
   ]
  },
  {
   "cell_type": "markdown",
   "id": "e08a1bb9-74fe-4d91-878d-89709f0c9548",
   "metadata": {},
   "source": [
    "Then iterate through all of the ts and save the snapshot layers."
   ]
  },
  {
   "cell_type": "code",
   "execution_count": 8,
   "id": "be5fe52c-793d-4f9a-9bd7-8cf0421daecb",
   "metadata": {},
   "outputs": [
    {
     "name": "stderr",
     "output_type": "stream",
     "text": [
      "2024-02-28 20:15:45,206 - FireLog - INFO - func:save_snapshot_layers took: 169.18 ms\n",
      "2024-02-28 20:15:45,355 - FireLog - INFO - func:save_snapshot_layers took: 146.61 ms\n",
      "2024-02-28 20:15:45,535 - FireLog - INFO - func:save_snapshot_layers took: 176.39 ms\n",
      "2024-02-28 20:15:45,709 - FireLog - INFO - func:save_snapshot_layers took: 171.46 ms\n",
      "2024-02-28 20:15:45,879 - FireLog - INFO - func:save_snapshot_layers took: 166.08 ms\n",
      "2024-02-28 20:15:46,023 - FireLog - INFO - func:save_snapshot_layers took: 141.38 ms\n",
      "2024-02-28 20:15:46,214 - FireLog - INFO - func:save_snapshot_layers took: 187.37 ms\n",
      "2024-02-28 20:15:46,360 - FireLog - INFO - func:save_snapshot_layers took: 143.32 ms\n",
      "2024-02-28 20:15:46,361 - FireLog - INFO - func:save_snapshots took: 1.33 sec\n"
     ]
    },
    {
     "name": "stdout",
     "output_type": "stream",
     "text": [
      "CPU times: user 633 ms, sys: 18.1 ms, total: 651 ms\n",
      "Wall time: 1.33 s\n"
     ]
    }
   ],
   "source": [
    "%%time\n",
    "postprocess.save_snapshots(allfires_gdf, region, tst, ted)"
   ]
  },
  {
   "cell_type": "markdown",
   "id": "a81ffd2d-ed4b-498e-b45e-127f7c5fd594",
   "metadata": {},
   "source": [
    "## Write Largefire files\n",
    "\n",
    "First we will find all the large fires:"
   ]
  },
  {
   "cell_type": "code",
   "execution_count": 9,
   "id": "130838af-f05c-48fe-b52f-1e8d0a5d6747",
   "metadata": {},
   "outputs": [
    {
     "name": "stderr",
     "output_type": "stream",
     "text": [
      "2024-02-28 20:15:50,324 - FireLog - INFO - func:find_largefires took: 4.06 ms\n"
     ]
    }
   ],
   "source": [
    "large_fires = postprocess.find_largefires(allfires_gdf)"
   ]
  },
  {
   "cell_type": "code",
   "execution_count": 10,
   "id": "11dd1e08-eb77-4f80-9b78-9af19ce6f53b",
   "metadata": {},
   "outputs": [
    {
     "data": {
      "text/plain": [
       "array([1])"
      ]
     },
     "execution_count": 10,
     "metadata": {},
     "output_type": "execute_result"
    }
   ],
   "source": [
    "large_fires"
   ]
  },
  {
   "cell_type": "markdown",
   "id": "ceab6685-4dec-4ad6-9e0a-31f69db864cd",
   "metadata": {},
   "source": [
    "First we'll use the `allpixels` object to create the `nplist` layer"
   ]
  },
  {
   "cell_type": "code",
   "execution_count": 11,
   "id": "0718c1ae-99f2-4edd-9e89-a101279e3515",
   "metadata": {},
   "outputs": [
    {
     "name": "stderr",
     "output_type": "stream",
     "text": [
      "2024-02-28 20:16:03,221 - FireLog - INFO - func:save_fire_nplist took: 750.25 ms\n",
      "2024-02-28 20:16:03,222 - FireLog - INFO - func:save_large_fires_nplist took: 753.85 ms\n"
     ]
    },
    {
     "name": "stdout",
     "output_type": "stream",
     "text": [
      "CPU times: user 641 ms, sys: 7.62 ms, total: 648 ms\n",
      "Wall time: 755 ms\n"
     ]
    }
   ],
   "source": [
    "%%time\n",
    "postprocess.save_large_fires_nplist(allpixels, region, large_fires)"
   ]
  },
  {
   "cell_type": "markdown",
   "id": "308bd400-ae4e-40aa-86b0-8f0986d34062",
   "metadata": {},
   "source": [
    "The rest of the layers will be created directly from the `allfires_gdf` and have some merge handling"
   ]
  },
  {
   "cell_type": "code",
   "execution_count": 12,
   "id": "09f77f34-e642-4de7-872c-3ba8b7d9a4c3",
   "metadata": {},
   "outputs": [
    {
     "name": "stderr",
     "output_type": "stream",
     "text": [
      "2024-02-28 20:16:04,907 - FireLog - INFO - func:merge_rows took: 15.73 ms\n"
     ]
    },
    {
     "name": "stdout",
     "output_type": "stream",
     "text": [
      "1 rows that potentially need a merge\n"
     ]
    },
    {
     "name": "stderr",
     "output_type": "stream",
     "text": [
      "2024-02-28 20:16:05,248 - FireLog - INFO - func:save_fire_layers took: 340.88 ms\n",
      "2024-02-28 20:16:05,249 - FireLog - INFO - func:save_large_fires_layers took: 364.40 ms\n"
     ]
    },
    {
     "name": "stdout",
     "output_type": "stream",
     "text": [
      "CPU times: user 253 ms, sys: 50 ms, total: 304 ms\n",
      "Wall time: 365 ms\n"
     ]
    }
   ],
   "source": [
    "%%time\n",
    "postprocess.save_large_fires_layers(allfires_gdf, region, large_fires)"
   ]
  }
 ],
 "metadata": {
  "kernelspec": {
   "display_name": "Python [conda env:eis-feds-nrt]",
   "language": "python",
   "name": "conda-env-eis-feds-nrt-py"
  },
  "language_info": {
   "codemirror_mode": {
    "name": "ipython",
    "version": 3
   },
   "file_extension": ".py",
   "mimetype": "text/x-python",
   "name": "python",
   "nbconvert_exporter": "python",
   "pygments_lexer": "ipython3",
   "version": "3.10.13"
  }
 },
 "nbformat": 4,
 "nbformat_minor": 5
}
