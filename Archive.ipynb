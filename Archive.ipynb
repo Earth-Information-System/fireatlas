{
 "cells": [
  {
   "cell_type": "code",
   "execution_count": 1,
   "id": "30ed1049-5466-4d04-bcef-ac0c8ffa1d6d",
   "metadata": {},
   "outputs": [],
   "source": [
    "import datetime\n",
    "import pandas as pd\n",
    "import geopandas as gpd\n",
    "\n",
    "import FireMain, FireTime, FireObj, FireConsts, postprocess, preprocess\n",
    "from utils import timed"
   ]
  },
  {
   "cell_type": "code",
   "execution_count": 2,
   "id": "27a71fa5-d7cd-4f33-a962-9b09ba3e6433",
   "metadata": {},
   "outputs": [],
   "source": [
    "tst = [2020, 9, 5, \"AM\"]\n",
    "ted = [2020, 9, 8, \"PM\"]\n",
    "region = (\"Creek\", [-119.5, 36.8, -118.9, 37.7])\n",
    "\n",
    "list_of_ts = list(FireTime.t_generator(tst, ted))"
   ]
  },
  {
   "cell_type": "markdown",
   "id": "c5cbf654-16f4-4790-95e0-a90140e79e78",
   "metadata": {},
   "source": [
    "## Once per landcover file\n",
    "\n",
    "If your landcover file is not in lat,lon then transform it and resave it. You will use this file a bunch later on."
   ]
  },
  {
   "cell_type": "code",
   "execution_count": null,
   "id": "94bc6f4a-f61b-4d82-9e3b-d3749552c84c",
   "metadata": {},
   "outputs": [],
   "source": [
    "preprocess.preprocess_landcover()"
   ]
  },
  {
   "cell_type": "markdown",
   "id": "5e54a2d4-b41b-4d53-a4ba-7a41f02799f5",
   "metadata": {},
   "source": [
    "## Once per region\n",
    "\n",
    "Preprocess the region to get rid of static flare sources. Save that new \"swiss cheese\" shape off into a geojson file for later."
   ]
  },
  {
   "cell_type": "code",
   "execution_count": 3,
   "id": "1a3c495d-66fa-458f-8afb-01e982b0709a",
   "metadata": {},
   "outputs": [
    {
     "name": "stderr",
     "output_type": "stream",
     "text": [
      "2024-03-20 20:14:41,801 - FireLog - INFO - func:preprocess_region took: 675.35 ms\n"
     ]
    }
   ],
   "source": [
    "preprocess.preprocess_region(region)"
   ]
  },
  {
   "cell_type": "markdown",
   "id": "16bd857f-f57a-4fc3-9e49-2c9536c97019",
   "metadata": {},
   "source": [
    "## Once per input file\n",
    "\n",
    "Next process each monthly file into half day files. First we'll get all the times that are of interest. This could also be done by looking at all the files that exist and seeing which have not been preprocessed yet."
   ]
  },
  {
   "cell_type": "code",
   "execution_count": 4,
   "id": "864146bf-ee1e-4785-9106-9df1359f2aaf",
   "metadata": {},
   "outputs": [
    {
     "name": "stderr",
     "output_type": "stream",
     "text": [
      "2024-03-20 20:14:42,126 - FireLog - INFO - preprocessing monthly file for 2020-9, SNPP\n",
      "/home/jovyan/fireatlas_nrt/FireIO.py:258: FutureWarning: Support for nested sequences for 'parse_dates' in pd.read_csv is deprecated. Combine the desired columns with pd.to_datetime after parsing instead.\n",
      "  df = pd.read_csv(\n",
      "2024-03-20 20:16:43,512 - FireLog - INFO - func:preprocess_monthly_file took: 2.02 min\n"
     ]
    },
    {
     "name": "stdout",
     "output_type": "stream",
     "text": [
      "CPU times: user 1min 11s, sys: 2.74 s, total: 1min 14s\n",
      "Wall time: 2min 1s\n"
     ]
    }
   ],
   "source": [
    "%%time\n",
    "preprocess.preprocess_monthly_file([2020, 9], \"SNPP\")"
   ]
  },
  {
   "cell_type": "markdown",
   "id": "6903ce19-0f26-4c74-9274-520c1f7720c6",
   "metadata": {},
   "source": [
    "Note: \"NOAA20\" files for this time period are not in the input folder."
   ]
  },
  {
   "cell_type": "markdown",
   "id": "73f9065d-3519-4673-98e5-3afd0e29ab80",
   "metadata": {},
   "source": [
    "## Once per region and t\n",
    "\n",
    "Do initial filtering and clustering using the preprocessed region and the half day files."
   ]
  },
  {
   "cell_type": "code",
   "execution_count": 6,
   "id": "5ed3b8b4-7330-48e4-a3ff-4ca4d56add2c",
   "metadata": {
    "editable": true,
    "scrolled": true,
    "slideshow": {
     "slide_type": ""
    },
    "tags": []
   },
   "outputs": [
    {
     "name": "stderr",
     "output_type": "stream",
     "text": [
      "2024-03-20 20:16:52,541 - FireLog - INFO - filtering and clustering 2020-9-5 AM, SNPP, Creek\n",
      "2024-03-20 20:16:52,565 - FireLog - INFO - func:read_preprocessed took: 22.83 ms\n",
      "2024-03-20 20:16:52,567 - FireLog - INFO - func:read_region took: 1.36 ms\n",
      "2024-03-20 20:16:52,567 - FireLog - INFO - func:preprocess_region_t took: 26.17 ms\n",
      "2024-03-20 20:16:52,568 - FireLog - INFO - filtering and clustering 2020-9-5 PM, SNPP, Creek\n",
      "2024-03-20 20:16:52,646 - FireLog - INFO - func:read_preprocessed took: 78.05 ms\n",
      "2024-03-20 20:16:52,648 - FireLog - INFO - func:read_region took: 1.13 ms\n",
      "2024-03-20 20:16:52,649 - FireLog - INFO - func:preprocess_region_t took: 81.39 ms\n",
      "2024-03-20 20:16:52,650 - FireLog - INFO - filtering and clustering 2020-9-6 AM, SNPP, Creek\n",
      "2024-03-20 20:16:52,676 - FireLog - INFO - func:read_preprocessed took: 26.23 ms\n",
      "2024-03-20 20:16:52,678 - FireLog - INFO - func:read_region took: 1.15 ms\n",
      "2024-03-20 20:16:52,679 - FireLog - INFO - func:preprocess_region_t took: 29.02 ms\n",
      "2024-03-20 20:16:52,679 - FireLog - INFO - filtering and clustering 2020-9-6 PM, SNPP, Creek\n",
      "2024-03-20 20:16:52,735 - FireLog - INFO - func:read_preprocessed took: 55.11 ms\n",
      "2024-03-20 20:16:52,736 - FireLog - INFO - func:read_region took: 1.06 ms\n",
      "2024-03-20 20:16:52,737 - FireLog - INFO - func:preprocess_region_t took: 58.10 ms\n",
      "2024-03-20 20:16:52,738 - FireLog - INFO - filtering and clustering 2020-9-7 AM, SNPP, Creek\n",
      "2024-03-20 20:16:52,762 - FireLog - INFO - func:read_preprocessed took: 23.86 ms\n",
      "2024-03-20 20:16:52,764 - FireLog - INFO - func:read_region took: 1.48 ms\n",
      "2024-03-20 20:16:52,765 - FireLog - INFO - func:preprocess_region_t took: 26.88 ms\n",
      "2024-03-20 20:16:52,765 - FireLog - INFO - filtering and clustering 2020-9-7 PM, SNPP, Creek\n",
      "2024-03-20 20:16:52,835 - FireLog - INFO - func:read_preprocessed took: 69.17 ms\n",
      "2024-03-20 20:16:52,837 - FireLog - INFO - func:read_region took: 1.40 ms\n",
      "2024-03-20 20:16:52,838 - FireLog - INFO - func:preprocess_region_t took: 72.46 ms\n",
      "2024-03-20 20:16:52,838 - FireLog - INFO - filtering and clustering 2020-9-8 AM, SNPP, Creek\n",
      "2024-03-20 20:16:52,895 - FireLog - INFO - func:read_preprocessed took: 55.85 ms\n",
      "2024-03-20 20:16:52,896 - FireLog - INFO - func:read_region took: 1.10 ms\n",
      "2024-03-20 20:16:52,897 - FireLog - INFO - func:preprocess_region_t took: 58.84 ms\n",
      "2024-03-20 20:16:52,897 - FireLog - INFO - filtering and clustering 2020-9-8 PM, SNPP, Creek\n",
      "2024-03-20 20:16:52,983 - FireLog - INFO - func:read_preprocessed took: 85.26 ms\n",
      "2024-03-20 20:16:52,985 - FireLog - INFO - func:read_region took: 1.27 ms\n",
      "2024-03-20 20:16:52,986 - FireLog - INFO - func:preprocess_region_t took: 88.82 ms\n"
     ]
    },
    {
     "name": "stdout",
     "output_type": "stream",
     "text": [
      "CPU times: user 409 ms, sys: 27.9 ms, total: 437 ms\n",
      "Wall time: 446 ms\n"
     ]
    }
   ],
   "source": [
    "%%time\n",
    "for t in list_of_ts:\n",
    "    preprocess.preprocess_region_t(t, sensor=\"SNPP\", region=region)"
   ]
  },
  {
   "cell_type": "markdown",
   "id": "f14a2dc9-e4ba-46ea-9e35-fca95f4514b0",
   "metadata": {},
   "source": [
    "## Run the fire expansion and merging algorithm\n",
    "\n",
    "`Fire_Forward` is responsible for reading in the preprocessed data created in the `Ingest` notebook"
   ]
  },
  {
   "cell_type": "code",
   "execution_count": 7,
   "id": "f9177ca7-7ddb-4472-97a2-054467bf86f0",
   "metadata": {
    "scrolled": true
   },
   "outputs": [
    {
     "name": "stderr",
     "output_type": "stream",
     "text": [
      "2024-03-20 20:16:53,007 - FireLog - INFO - func:read_preprocessed took: 4.66 ms\n",
      "2024-03-20 20:16:53,013 - FireLog - INFO - func:read_preprocessed took: 5.88 ms\n",
      "2024-03-20 20:16:53,025 - FireLog - INFO - func:read_preprocessed took: 11.28 ms\n",
      "2024-03-20 20:16:53,031 - FireLog - INFO - func:read_preprocessed took: 5.61 ms\n",
      "2024-03-20 20:16:53,042 - FireLog - INFO - func:read_preprocessed took: 9.65 ms\n",
      "2024-03-20 20:16:53,049 - FireLog - INFO - func:read_preprocessed took: 7.28 ms\n",
      "2024-03-20 20:16:53,063 - FireLog - INFO - func:read_preprocessed took: 13.26 ms\n",
      "2024-03-20 20:16:53,076 - FireLog - INFO - func:read_preprocessed took: 12.72 ms\n",
      "2024-03-20 20:16:53,080 - FireLog - INFO - --------------------\n",
      "2024-03-20 20:16:53,080 - FireLog - INFO - Fire tracking at [2020, 9, 5, 'AM']\n",
      "2024-03-20 20:16:53,114 - FireLog - INFO - func:Fire_expand_rtree took: 31.52 ms\n",
      "2024-03-20 20:16:53,115 - FireLog - INFO - func:Fire_merge_rtree took: 0.75 ms\n",
      "2024-03-20 20:16:53,117 - FireLog - INFO - func:invalidate_statfires took: 0.96 ms\n",
      "2024-03-20 20:16:53,117 - FireLog - INFO - fids_expand: 0\n",
      "2024-03-20 20:16:53,117 - FireLog - INFO - fids_new: 1\n",
      "2024-03-20 20:16:53,118 - FireLog - INFO - fids_merged: 0\n",
      "2024-03-20 20:16:53,119 - FireLog - INFO - fids_invalid: 0\n",
      "2024-03-20 20:16:53,132 - FireLog - INFO - func:update_gdf took: 13.12 ms\n",
      "2024-03-20 20:16:53,133 - FireLog - INFO - func:Fire_Forward_one_step took: 52.56 ms\n",
      "2024-03-20 20:16:53,133 - FireLog - INFO - --------------------\n",
      "2024-03-20 20:16:53,134 - FireLog - INFO - Fire tracking at [2020, 9, 5, 'PM']\n",
      "2024-03-20 20:16:53,308 - FireLog - INFO - func:Fire_expand_rtree took: 172.93 ms\n",
      "2024-03-20 20:16:53,573 - FireLog - INFO - func:Fire_merge_rtree took: 264.79 ms\n",
      "2024-03-20 20:16:53,575 - FireLog - INFO - func:invalidate_statfires took: 0.74 ms\n",
      "2024-03-20 20:16:53,575 - FireLog - INFO - fids_expand: 1\n",
      "2024-03-20 20:16:53,576 - FireLog - INFO - fids_new: 3\n",
      "2024-03-20 20:16:53,576 - FireLog - INFO - fids_merged: 1\n",
      "2024-03-20 20:16:53,577 - FireLog - INFO - fids_invalid: 3\n",
      "2024-03-20 20:16:53,617 - FireLog - INFO - func:update_gdf took: 39.63 ms\n",
      "2024-03-20 20:16:53,618 - FireLog - INFO - func:Fire_Forward_one_step took: 484.57 ms\n",
      "2024-03-20 20:16:53,618 - FireLog - INFO - --------------------\n",
      "2024-03-20 20:16:53,619 - FireLog - INFO - Fire tracking at [2020, 9, 6, 'AM']\n",
      "2024-03-20 20:16:54,522 - FireLog - INFO - func:Fire_expand_rtree took: 901.69 ms\n",
      "2024-03-20 20:16:56,862 - FireLog - INFO - func:Fire_merge_rtree took: 2.34 sec\n",
      "2024-03-20 20:16:56,864 - FireLog - INFO - func:invalidate_statfires took: 1.39 ms\n",
      "2024-03-20 20:16:56,864 - FireLog - INFO - fids_expand: 1\n",
      "2024-03-20 20:16:56,865 - FireLog - INFO - fids_new: 5\n",
      "2024-03-20 20:16:56,865 - FireLog - INFO - fids_merged: 1\n",
      "2024-03-20 20:16:56,866 - FireLog - INFO - fids_invalid: 5\n",
      "2024-03-20 20:16:56,940 - FireLog - INFO - func:update_gdf took: 74.06 ms\n",
      "2024-03-20 20:16:56,941 - FireLog - INFO - func:Fire_Forward_one_step took: 3.32 sec\n",
      "2024-03-20 20:16:56,942 - FireLog - INFO - --------------------\n",
      "2024-03-20 20:16:56,943 - FireLog - INFO - Fire tracking at [2020, 9, 6, 'PM']\n",
      "2024-03-20 20:16:56,945 - FireLog - INFO - func:invalidate_statfires took: 0.94 ms\n",
      "2024-03-20 20:16:56,946 - FireLog - INFO - fids_expand: 0\n",
      "2024-03-20 20:16:56,946 - FireLog - INFO - fids_new: 0\n",
      "2024-03-20 20:16:56,947 - FireLog - INFO - fids_merged: 0\n",
      "2024-03-20 20:16:56,947 - FireLog - INFO - fids_invalid: 0\n",
      "2024-03-20 20:16:56,953 - FireLog - INFO - func:update_gdf took: 4.51 ms\n",
      "2024-03-20 20:16:56,953 - FireLog - INFO - func:Fire_Forward_one_step took: 11.10 ms\n",
      "2024-03-20 20:16:56,954 - FireLog - INFO - --------------------\n",
      "2024-03-20 20:16:56,954 - FireLog - INFO - Fire tracking at [2020, 9, 7, 'AM']\n",
      "2024-03-20 20:16:57,587 - FireLog - INFO - func:Fire_expand_rtree took: 630.48 ms\n",
      "2024-03-20 20:16:57,590 - FireLog - INFO - func:Fire_merge_rtree took: 1.82 ms\n",
      "2024-03-20 20:16:57,592 - FireLog - INFO - func:invalidate_statfires took: 1.42 ms\n",
      "2024-03-20 20:16:57,592 - FireLog - INFO - fids_expand: 1\n",
      "2024-03-20 20:16:57,592 - FireLog - INFO - fids_new: 0\n",
      "2024-03-20 20:16:57,593 - FireLog - INFO - fids_merged: 0\n",
      "2024-03-20 20:16:57,594 - FireLog - INFO - fids_invalid: 0\n",
      "2024-03-20 20:16:57,629 - FireLog - INFO - func:update_gdf took: 34.99 ms\n",
      "2024-03-20 20:16:57,630 - FireLog - INFO - func:Fire_Forward_one_step took: 676.21 ms\n",
      "2024-03-20 20:16:57,630 - FireLog - INFO - --------------------\n",
      "2024-03-20 20:16:57,631 - FireLog - INFO - Fire tracking at [2020, 9, 7, 'PM']\n",
      "2024-03-20 20:16:58,024 - FireLog - INFO - func:Fire_expand_rtree took: 390.94 ms\n",
      "2024-03-20 20:16:58,026 - FireLog - INFO - func:Fire_merge_rtree took: 1.58 ms\n",
      "2024-03-20 20:16:58,028 - FireLog - INFO - func:invalidate_statfires took: 1.48 ms\n",
      "2024-03-20 20:16:58,028 - FireLog - INFO - fids_expand: 1\n",
      "2024-03-20 20:16:58,029 - FireLog - INFO - fids_new: 0\n",
      "2024-03-20 20:16:58,029 - FireLog - INFO - fids_merged: 0\n",
      "2024-03-20 20:16:58,030 - FireLog - INFO - fids_invalid: 0\n",
      "2024-03-20 20:16:58,053 - FireLog - INFO - func:update_gdf took: 22.73 ms\n",
      "2024-03-20 20:16:58,053 - FireLog - INFO - func:Fire_Forward_one_step took: 422.94 ms\n",
      "2024-03-20 20:16:58,054 - FireLog - INFO - --------------------\n",
      "2024-03-20 20:16:58,054 - FireLog - INFO - Fire tracking at [2020, 9, 8, 'AM']\n",
      "2024-03-20 20:16:59,325 - FireLog - INFO - func:Fire_expand_rtree took: 1.27 sec\n",
      "2024-03-20 20:16:59,328 - FireLog - INFO - func:Fire_merge_rtree took: 2.65 ms\n",
      "2024-03-20 20:16:59,332 - FireLog - INFO - func:invalidate_statfires took: 2.79 ms\n",
      "2024-03-20 20:16:59,332 - FireLog - INFO - fids_expand: 1\n",
      "2024-03-20 20:16:59,333 - FireLog - INFO - fids_new: 1\n",
      "2024-03-20 20:16:59,333 - FireLog - INFO - fids_merged: 0\n",
      "2024-03-20 20:16:59,334 - FireLog - INFO - fids_invalid: 0\n",
      "2024-03-20 20:16:59,391 - FireLog - INFO - func:update_gdf took: 56.88 ms\n",
      "2024-03-20 20:16:59,392 - FireLog - INFO - func:Fire_Forward_one_step took: 1.34 sec\n",
      "2024-03-20 20:16:59,392 - FireLog - INFO - --------------------\n",
      "2024-03-20 20:16:59,393 - FireLog - INFO - Fire tracking at [2020, 9, 8, 'PM']\n",
      "2024-03-20 20:16:59,906 - FireLog - INFO - func:Fire_expand_rtree took: 511.14 ms\n",
      "2024-03-20 20:17:00,096 - FireLog - INFO - func:Fire_merge_rtree took: 188.89 ms\n",
      "2024-03-20 20:17:00,099 - FireLog - INFO - func:invalidate_statfires took: 2.70 ms\n",
      "2024-03-20 20:17:00,099 - FireLog - INFO - fids_expand: 1\n",
      "2024-03-20 20:17:00,100 - FireLog - INFO - fids_new: 1\n",
      "2024-03-20 20:17:00,100 - FireLog - INFO - fids_merged: 1\n",
      "2024-03-20 20:17:00,101 - FireLog - INFO - fids_invalid: 1\n",
      "2024-03-20 20:17:00,131 - FireLog - INFO - func:update_gdf took: 29.51 ms\n",
      "2024-03-20 20:17:00,131 - FireLog - INFO - func:Fire_Forward_one_step took: 738.64 ms\n",
      "2024-03-20 20:17:00,131 - FireLog - INFO - func:Fire_Forward took: 7.14 sec\n"
     ]
    }
   ],
   "source": [
    "allfires, allpixels = FireMain.Fire_Forward(tst=tst, ted=ted, sat=\"SNPP\", restart=False, region=region)"
   ]
  },
  {
   "cell_type": "markdown",
   "id": "7adb3eb7-c0ae-441d-906f-47cad2e52f4c",
   "metadata": {},
   "source": [
    "We can save these files off in case something goes wrong later"
   ]
  },
  {
   "cell_type": "code",
   "execution_count": 8,
   "id": "228d5db2-cfa1-4ba2-9521-d23c6d2e08e3",
   "metadata": {},
   "outputs": [
    {
     "name": "stderr",
     "output_type": "stream",
     "text": [
      "2024-03-20 20:17:00,292 - FireLog - INFO - func:save_allpixels took: 156.64 ms\n",
      "2024-03-20 20:17:00,353 - FireLog - INFO - func:save_allfires_gdf took: 59.46 ms\n"
     ]
    }
   ],
   "source": [
    "postprocess.save_allpixels(allpixels, tst, ted, region)\n",
    "postprocess.save_allfires_gdf(allfires.gdf, tst, ted, region)"
   ]
  },
  {
   "cell_type": "markdown",
   "id": "2b48478f-189a-455d-b9ca-c323b46054e4",
   "metadata": {},
   "source": [
    "## Write Snapshot files\n",
    "\n",
    "Start by reading in the outputs from the run:"
   ]
  },
  {
   "cell_type": "code",
   "execution_count": 3,
   "id": "8d41cbc8-f2c0-4b03-b9bc-d360a2bdd231",
   "metadata": {},
   "outputs": [
    {
     "name": "stderr",
     "output_type": "stream",
     "text": [
      "2024-03-20 20:18:28,840 - FireLog - INFO - func:read_allpixels took: 31.09 ms\n",
      "2024-03-20 20:18:28,950 - FireLog - INFO - func:read_allfires_gdf took: 109.88 ms\n"
     ]
    }
   ],
   "source": [
    "allpixels = postprocess.read_allpixels(tst, ted, region)\n",
    "allfires_gdf = postprocess.read_allfires_gdf(tst, ted, region)"
   ]
  },
  {
   "cell_type": "markdown",
   "id": "e08a1bb9-74fe-4d91-878d-89709f0c9548",
   "metadata": {},
   "source": [
    "Then iterate through all of the ts and save the snapshot layers."
   ]
  },
  {
   "cell_type": "code",
   "execution_count": 4,
   "id": "be5fe52c-793d-4f9a-9bd7-8cf0421daecb",
   "metadata": {},
   "outputs": [
    {
     "name": "stderr",
     "output_type": "stream",
     "text": [
      "2024-03-20 20:18:29,755 - FireLog - INFO - func:save_snapshot_layers took: 255.48 ms\n",
      "2024-03-20 20:18:29,984 - FireLog - INFO - func:save_snapshot_layers took: 224.34 ms\n",
      "2024-03-20 20:18:30,300 - FireLog - INFO - func:save_snapshot_layers took: 310.74 ms\n",
      "2024-03-20 20:18:30,547 - FireLog - INFO - func:save_snapshot_layers took: 243.70 ms\n",
      "2024-03-20 20:18:30,794 - FireLog - INFO - func:save_snapshot_layers took: 243.66 ms\n",
      "2024-03-20 20:18:31,009 - FireLog - INFO - func:save_snapshot_layers took: 211.74 ms\n",
      "2024-03-20 20:18:31,283 - FireLog - INFO - func:save_snapshot_layers took: 270.12 ms\n",
      "2024-03-20 20:18:31,502 - FireLog - INFO - func:save_snapshot_layers took: 215.96 ms\n",
      "2024-03-20 20:18:31,503 - FireLog - INFO - func:save_snapshots took: 2.01 sec\n"
     ]
    },
    {
     "name": "stdout",
     "output_type": "stream",
     "text": [
      "CPU times: user 886 ms, sys: 39.3 ms, total: 925 ms\n",
      "Wall time: 2.01 s\n"
     ]
    }
   ],
   "source": [
    "%%time\n",
    "postprocess.save_snapshots(allfires_gdf, region, tst, ted)"
   ]
  },
  {
   "cell_type": "markdown",
   "id": "a81ffd2d-ed4b-498e-b45e-127f7c5fd594",
   "metadata": {},
   "source": [
    "## Write Largefire files\n",
    "\n",
    "First we will find all the large fires:"
   ]
  },
  {
   "cell_type": "code",
   "execution_count": 5,
   "id": "130838af-f05c-48fe-b52f-1e8d0a5d6747",
   "metadata": {},
   "outputs": [
    {
     "name": "stderr",
     "output_type": "stream",
     "text": [
      "2024-03-20 20:18:31,513 - FireLog - INFO - func:find_largefires took: 4.62 ms\n"
     ]
    }
   ],
   "source": [
    "large_fires = postprocess.find_largefires(allfires_gdf)"
   ]
  },
  {
   "cell_type": "code",
   "execution_count": 6,
   "id": "11dd1e08-eb77-4f80-9b78-9af19ce6f53b",
   "metadata": {},
   "outputs": [
    {
     "data": {
      "text/plain": [
       "array([1])"
      ]
     },
     "execution_count": 6,
     "metadata": {},
     "output_type": "execute_result"
    }
   ],
   "source": [
    "large_fires"
   ]
  },
  {
   "cell_type": "markdown",
   "id": "ceab6685-4dec-4ad6-9e0a-31f69db864cd",
   "metadata": {},
   "source": [
    "First we'll use the `allpixels` object to create the `nplist` layer"
   ]
  },
  {
   "cell_type": "code",
   "execution_count": 8,
   "id": "0718c1ae-99f2-4edd-9e89-a101279e3515",
   "metadata": {},
   "outputs": [
    {
     "name": "stderr",
     "output_type": "stream",
     "text": [
      "2024-03-20 20:18:37,779 - FireLog - INFO - func:save_fire_nplist took: 721.92 ms\n",
      "2024-03-20 20:18:37,780 - FireLog - INFO - func:save_large_fires_nplist took: 725.37 ms\n"
     ]
    },
    {
     "name": "stdout",
     "output_type": "stream",
     "text": [
      "CPU times: user 600 ms, sys: 3.12 ms, total: 603 ms\n",
      "Wall time: 726 ms\n"
     ]
    }
   ],
   "source": [
    "%%time\n",
    "postprocess.save_large_fires_nplist(allpixels, region, large_fires, tst)"
   ]
  },
  {
   "cell_type": "markdown",
   "id": "308bd400-ae4e-40aa-86b0-8f0986d34062",
   "metadata": {},
   "source": [
    "The rest of the layers will be created directly from the `allfires_gdf` and have some merge handling"
   ]
  },
  {
   "cell_type": "code",
   "execution_count": 9,
   "id": "09f77f34-e642-4de7-872c-3ba8b7d9a4c3",
   "metadata": {},
   "outputs": [
    {
     "name": "stderr",
     "output_type": "stream",
     "text": [
      "2024-03-20 20:18:39,155 - FireLog - INFO - func:merge_rows took: 16.89 ms\n"
     ]
    },
    {
     "name": "stdout",
     "output_type": "stream",
     "text": [
      "1 rows that potentially need a merge\n"
     ]
    },
    {
     "name": "stderr",
     "output_type": "stream",
     "text": [
      "2024-03-20 20:18:39,514 - FireLog - INFO - func:save_fire_layers took: 358.26 ms\n",
      "2024-03-20 20:18:39,515 - FireLog - INFO - func:save_large_fires_layers took: 382.76 ms\n"
     ]
    },
    {
     "name": "stdout",
     "output_type": "stream",
     "text": [
      "CPU times: user 232 ms, sys: 20.9 ms, total: 253 ms\n",
      "Wall time: 383 ms\n"
     ]
    }
   ],
   "source": [
    "%%time\n",
    "postprocess.save_large_fires_layers(allfires_gdf, region, large_fires, tst)"
   ]
  }
 ],
 "metadata": {
  "kernelspec": {
   "display_name": "Python 3 (ipykernel)",
   "language": "python",
   "name": "python3"
  },
  "language_info": {
   "codemirror_mode": {
    "name": "ipython",
    "version": 3
   },
   "file_extension": ".py",
   "mimetype": "text/x-python",
   "name": "python",
   "nbconvert_exporter": "python",
   "pygments_lexer": "ipython3",
   "version": "3.11.7"
  }
 },
 "nbformat": 4,
 "nbformat_minor": 5
}
