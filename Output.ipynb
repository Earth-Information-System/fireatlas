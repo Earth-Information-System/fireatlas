{
 "cells": [
  {
   "cell_type": "markdown",
   "id": "5016ad4a-8efc-4329-8260-79a12f8daca8",
   "metadata": {},
   "source": [
    "## Generate outputs\n",
    "\n",
    "What we want out of this algorthym is a snapshot of all the fires at a given t. And a timeseries of each fire across time. "
   ]
  },
  {
   "cell_type": "code",
   "execution_count": 1,
   "id": "2ed6f4c1-f380-4b1d-b478-b3dcd61d705d",
   "metadata": {
    "execution": {
     "iopub.execute_input": "2024-02-06T18:25:45.159482Z",
     "iopub.status.busy": "2024-02-06T18:25:45.159093Z",
     "iopub.status.idle": "2024-02-06T18:25:45.608495Z",
     "shell.execute_reply": "2024-02-06T18:25:45.607376Z",
     "shell.execute_reply.started": "2024-02-06T18:25:45.159449Z"
    },
    "scrolled": true
   },
   "outputs": [],
   "source": [
    "import os\n",
    "import datetime\n",
    "import pandas as pd\n",
    "import geopandas as gpd\n",
    "\n",
    "import FireTime, FireObj, FireConsts, FireGpkg_sfs, FireGpkg, FireIO\n",
    "from utils import timed\n",
    "\n",
    "region = [\"CONUS\",]  # note you don't need the shape in here, just the name\n",
    "tst = [2023, 8, 28, 'AM']\n",
    "ted = [2023, 9, 6, 'AM']"
   ]
  },
  {
   "cell_type": "markdown",
   "id": "fd6f2be6-286a-4868-adbe-a90aa5dfb4fd",
   "metadata": {},
   "source": [
    "## Read from disk"
   ]
  },
  {
   "cell_type": "code",
   "execution_count": 2,
   "id": "bb9d9818-89b0-4534-875d-8f5295eba2a0",
   "metadata": {
    "execution": {
     "iopub.execute_input": "2024-02-06T18:25:45.835317Z",
     "iopub.status.busy": "2024-02-06T18:25:45.834935Z",
     "iopub.status.idle": "2024-02-06T18:25:45.925549Z",
     "shell.execute_reply": "2024-02-06T18:25:45.924821Z",
     "shell.execute_reply.started": "2024-02-06T18:25:45.835292Z"
    }
   },
   "outputs": [
    {
     "name": "stdout",
     "output_type": "stream",
     "text": [
      "CPU times: user 62.9 ms, sys: 23.7 ms, total: 86.6 ms\n",
      "Wall time: 85.9 ms\n"
     ]
    }
   ],
   "source": [
    "%%time\n",
    "allpixels = pd.concat([\n",
    "    pd.read_csv(f\"out/{region[0]}/{t[0]}{t[1]:02}{t[2]:02}_{t[3]}.txt\", index_col=\"uuid\", parse_dates=[\"t\"])\n",
    "    for t in FireTime.t_generator(tst, ted)\n",
    "])"
   ]
  },
  {
   "cell_type": "code",
   "execution_count": 3,
   "id": "713e07d4-3f8f-4ff3-a67b-88883a39b6c4",
   "metadata": {
    "execution": {
     "iopub.execute_input": "2024-02-06T18:25:46.247954Z",
     "iopub.status.busy": "2024-02-06T18:25:46.247671Z",
     "iopub.status.idle": "2024-02-06T18:25:46.391631Z",
     "shell.execute_reply": "2024-02-06T18:25:46.391177Z",
     "shell.execute_reply.started": "2024-02-06T18:25:46.247928Z"
    }
   },
   "outputs": [
    {
     "name": "stdout",
     "output_type": "stream",
     "text": [
      "CPU times: user 67.4 ms, sys: 72.4 ms, total: 140 ms\n",
      "Wall time: 140 ms\n"
     ]
    }
   ],
   "source": [
    "%%time\n",
    "t = ted\n",
    "allfires_gdf = gpd.read_parquet(f\"out/{region[0]}/allfires_{t[0]}{t[1]:02}{t[2]:02}_{t[3]}.parq\")"
   ]
  },
  {
   "cell_type": "markdown",
   "id": "a81ffd2d-ed4b-498e-b45e-127f7c5fd594",
   "metadata": {},
   "source": [
    "## Pick out the large fires\n",
    "\n",
    "Let's compare the existing object-oriented approach with the new geodataframe approach"
   ]
  },
  {
   "cell_type": "code",
   "execution_count": 4,
   "id": "130838af-f05c-48fe-b52f-1e8d0a5d6747",
   "metadata": {
    "execution": {
     "iopub.execute_input": "2024-02-06T18:25:47.068476Z",
     "iopub.status.busy": "2024-02-06T18:25:47.067944Z",
     "iopub.status.idle": "2024-02-06T18:25:47.079023Z",
     "shell.execute_reply": "2024-02-06T18:25:47.078581Z",
     "shell.execute_reply.started": "2024-02-06T18:25:47.068453Z"
    }
   },
   "outputs": [
    {
     "name": "stdout",
     "output_type": "stream",
     "text": [
      "CPU times: user 5.43 ms, sys: 1.68 ms, total: 7.11 ms\n",
      "Wall time: 6.72 ms\n"
     ]
    }
   ],
   "source": [
    "%%time\n",
    "t = ted\n",
    "dt = FireTime.t2dt(t)\n",
    "gdf = allfires_gdf.reset_index()\n",
    "\n",
    "# gdf = gdf[gdf.t >= dt - datetime.timedelta(days=20)]\n",
    "last_seen = gdf.drop_duplicates(\"fireID\", keep=\"last\")\n",
    "last_large = last_seen[(last_seen.farea > 4) & (last_seen.invalid == False)]\n",
    "large_fires = last_large.fireID.values"
   ]
  },
  {
   "cell_type": "markdown",
   "id": "ceab6685-4dec-4ad6-9e0a-31f69db864cd",
   "metadata": {},
   "source": [
    "First we'll use the `allpixels` object to create the `nplist` layer"
   ]
  },
  {
   "cell_type": "code",
   "execution_count": 5,
   "id": "0718c1ae-99f2-4edd-9e89-a101279e3515",
   "metadata": {
    "execution": {
     "iopub.execute_input": "2024-02-06T18:25:48.124066Z",
     "iopub.status.busy": "2024-02-06T18:25:48.123680Z",
     "iopub.status.idle": "2024-02-06T18:25:48.815912Z",
     "shell.execute_reply": "2024-02-06T18:25:48.815432Z",
     "shell.execute_reply.started": "2024-02-06T18:25:48.124034Z"
    }
   },
   "outputs": [
    {
     "name": "stdout",
     "output_type": "stream",
     "text": [
      "CPU times: user 627 ms, sys: 38.2 ms, total: 665 ms\n",
      "Wall time: 687 ms\n"
     ]
    }
   ],
   "source": [
    "%%time\n",
    "for fid in large_fires:\n",
    "    output_dir = f\"out/CONUS/fires/{fid}\"\n",
    "    os.makedirs(output_dir, exist_ok=True)\n",
    "\n",
    "    data = allpixels[allpixels[\"fid\"] == fid]\n",
    "    subset = data[[\"x\", \"y\", \"FRP\", \"DS\", \"DT\", \"ampm\", 'YYYYMMDD_HHMM', \"Sat\"]].copy()\n",
    "    subset.columns = [\"x\", \"y\", \"frp\", \"DS\", \"DT\", \"ampm\", 'datetime', \"sat\"]\n",
    "    subset[\"geometry\"] = gpd.points_from_xy(subset.x, subset.y)\n",
    "    subset = subset.set_geometry(\"geometry\")\n",
    "    \n",
    "    subset.to_file(f\"{output_dir}/nfplist.fgb\", driver=\"FlatGeobuf\")"
   ]
  },
  {
   "cell_type": "markdown",
   "id": "308bd400-ae4e-40aa-86b0-8f0986d34062",
   "metadata": {},
   "source": [
    "The rest of the layers will be created directly from the `allfires_gdf`\n",
    "\n",
    "First let's do a naive version without the merge fixups"
   ]
  },
  {
   "cell_type": "code",
   "execution_count": 6,
   "id": "44990ba3-e2fd-4660-9787-069de89a4994",
   "metadata": {
    "execution": {
     "iopub.execute_input": "2024-02-06T18:25:49.506621Z",
     "iopub.status.busy": "2024-02-06T18:25:49.506147Z",
     "iopub.status.idle": "2024-02-06T18:25:50.494968Z",
     "shell.execute_reply": "2024-02-06T18:25:50.494403Z",
     "shell.execute_reply.started": "2024-02-06T18:25:49.506591Z"
    }
   },
   "outputs": [
    {
     "name": "stdout",
     "output_type": "stream",
     "text": [
      "CPU times: user 945 ms, sys: 16.1 ms, total: 962 ms\n",
      "Wall time: 984 ms\n"
     ]
    }
   ],
   "source": [
    "%%time\n",
    "for fid, data in gdf[gdf[\"fireID\"].isin(large_fires)].groupby(\"fireID\"):\n",
    "    output_dir = f\"out/CONUS/fires/{fid}\"\n",
    "    os.makedirs(output_dir, exist_ok=True)\n",
    "\n",
    "    for layer in [\"perimeter\", \"fireline\", \"newfirepix\"]:\n",
    "        columns = [col for col in FireGpkg_sfs.getdd(layer)]\n",
    "        subset = data[columns].copy()\n",
    "        if layer == \"perimeter\":\n",
    "            subset[\"geometry\"] = data[\"hull\"]\n",
    "        elif layer == \"newfirepix\":\n",
    "            subset[\"geometry\"] = data[\"nfp\"]\n",
    "        elif layer == \"fireline\":\n",
    "            subset[\"geometry\"] = data[\"fline\"]\n",
    "            subset = subset.dropna(subset=[\"geometry\"])\n",
    "        subset = subset.set_geometry(\"geometry\")\n",
    "        \n",
    "        subset.to_file(f\"{output_dir}/{layer}.fgb\", driver=\"FlatGeobuf\")"
   ]
  },
  {
   "cell_type": "markdown",
   "id": "d287e445-b323-4a4e-974a-d38307b7fafb",
   "metadata": {},
   "source": [
    "## Now with merge\n",
    "\n",
    "These ones need some merge help:"
   ]
  },
  {
   "cell_type": "code",
   "execution_count": 7,
   "id": "5df5833e-4d29-473c-8bf3-9c41b25b7e92",
   "metadata": {
    "execution": {
     "iopub.execute_input": "2024-02-06T18:25:50.656034Z",
     "iopub.status.busy": "2024-02-06T18:25:50.655567Z",
     "iopub.status.idle": "2024-02-06T18:25:50.665716Z",
     "shell.execute_reply": "2024-02-06T18:25:50.664675Z",
     "shell.execute_reply.started": "2024-02-06T18:25:50.655992Z"
    }
   },
   "outputs": [
    {
     "name": "stdout",
     "output_type": "stream",
     "text": [
      "93 rows that potentially need a merge\n"
     ]
    }
   ],
   "source": [
    "merge_needed = (gdf.mergeid != gdf.fireID) & (gdf.invalid == False)\n",
    "print(f\"{merge_needed.sum()} rows that potentially need a merge\")\n",
    "\n",
    "# we'll set the \"fireID\" to \"mergeid\" in those spots\n",
    "gdf.loc[merge_needed, \"fireID\"] = gdf.loc[merge_needed, \"mergeid\"]"
   ]
  },
  {
   "cell_type": "markdown",
   "id": "292680e1-2331-4daa-aaae-5487551260c4",
   "metadata": {},
   "source": [
    "I have two different ideas of how to merge rows:\n",
    "\n",
    "1) The first version of the `merge_rows` function uses a unary union to join the hull and then recalculated the fline and the ftype.\n",
    "2) The second version of the `merge_rows` function uses code that is more similar to the existing merge function. It constructs a MultiGeometry out of the various geometry objects."
   ]
  },
  {
   "cell_type": "code",
   "execution_count": 8,
   "id": "15e24d17-f2f3-4837-9337-8fa404fb00c6",
   "metadata": {
    "execution": {
     "iopub.execute_input": "2024-02-06T18:25:53.752837Z",
     "iopub.status.busy": "2024-02-06T18:25:53.752424Z",
     "iopub.status.idle": "2024-02-06T18:25:53.758397Z",
     "shell.execute_reply": "2024-02-06T18:25:53.757715Z",
     "shell.execute_reply.started": "2024-02-06T18:25:53.752812Z"
    }
   },
   "outputs": [],
   "source": [
    "@timed\n",
    "def merge_rows(data):\n",
    "    \"\"\"For a subset of allfires data containing only one fire, merge any\n",
    "    rows that have the same `t`\n",
    "    \"\"\"\n",
    "    \n",
    "    from shapely.ops import unary_union\n",
    "\n",
    "    dd = FireGpkg_sfs.getdd(\"all\")\n",
    "    output = data.set_index(\"t\").copy()\n",
    "    \n",
    "    # clean up any merges that are needed\n",
    "    for dt, rows in data[data.t.duplicated(False)].groupby(\"t\"):\n",
    "        f = FireObj.Fire(fid, FireTime.dt2t(dt), allpixels)\n",
    "        f.t_st = FireTime.dt2t(rows[\"t_st\"].min())\n",
    "        f.hull = unary_union(rows[\"hull\"].values)\n",
    "        \n",
    "        # this might be doing more work than it needs to\n",
    "        f.updatefline()\n",
    "\n",
    "        # ftype is unused in the output files\n",
    "        f.ftype = rows.ftype.iloc[0]\n",
    "    \n",
    "        for k, tp in dd.items():\n",
    "            if tp == \"datetime64[ns]\":\n",
    "                output.loc[dt, k] = FireTime.t2dt(getattr(f, k))\n",
    "            else:\n",
    "                output.loc[dt, k] = getattr(f, k)\n",
    "    \n",
    "    for k, tp in dd.items():\n",
    "        output[k] = output[k].astype(tp)\n",
    "        \n",
    "    return output.drop_duplicates().reset_index()"
   ]
  },
  {
   "cell_type": "code",
   "execution_count": 9,
   "id": "dee5c9ba-a76b-446e-9765-36078588fbbc",
   "metadata": {
    "execution": {
     "iopub.execute_input": "2024-02-06T18:25:54.849032Z",
     "iopub.status.busy": "2024-02-06T18:25:54.848784Z",
     "iopub.status.idle": "2024-02-06T18:25:54.854112Z",
     "shell.execute_reply": "2024-02-06T18:25:54.853619Z",
     "shell.execute_reply.started": "2024-02-06T18:25:54.849014Z"
    }
   },
   "outputs": [],
   "source": [
    "@timed\n",
    "def merge_rows(data):\n",
    "    \"\"\"For a subset of allfires data containing only one fire, merge any\n",
    "    rows that have the same `t`\n",
    "    \"\"\"\n",
    "    output = data.drop_duplicates(subset=[\"t\"]).set_index(\"t\").copy()\n",
    "    \n",
    "    # clean up any merges that are needed\n",
    "    for dt, rows in data[data.t.duplicated(False)].groupby(\"t\"):\n",
    "        # first get the weighted sums for pixden and meanFRP\n",
    "        pixweight = (rows[\"pixden\"] * rows[\"farea\"]).sum()\n",
    "        FRPweight = (rows[\"meanFRP\"] * rows[\"n_pixels\"]).sum()\n",
    "        \n",
    "        for col in [\"n_pixels\", \"n_newpixels\", \"farea\", \"fperim\", \"flinelen\"]:\n",
    "            output.loc[dt, col] = rows[col].sum()\n",
    "\n",
    "        output.loc[dt, \"t_st\"] = rows[\"t_st\"].min()\n",
    "        output.loc[dt, \"pixden\"] = pixweight / output.loc[dt, \"farea\"]\n",
    "        output.loc[dt, \"meanFRP\"] = FRPweight / output.loc[dt, \"n_pixels\"]\n",
    "\n",
    "        dissolved = rows.dissolve()\n",
    "        for col in [\"hull\", \"fline\", \"nfp\"]:\n",
    "            output.loc[dt, col] = dissolved[col].item()\n",
    "        \n",
    "    return output.reset_index()"
   ]
  },
  {
   "cell_type": "code",
   "execution_count": 10,
   "id": "5ec45b09-bc1e-4070-96b2-81d5dab8c928",
   "metadata": {
    "execution": {
     "iopub.execute_input": "2024-02-06T18:25:55.435865Z",
     "iopub.status.busy": "2024-02-06T18:25:55.435516Z",
     "iopub.status.idle": "2024-02-06T18:25:56.598761Z",
     "shell.execute_reply": "2024-02-06T18:25:56.598260Z",
     "shell.execute_reply.started": "2024-02-06T18:25:55.435839Z"
    }
   },
   "outputs": [
    {
     "name": "stderr",
     "output_type": "stream",
     "text": [
      "2024-02-06 13:25:55,474 - FireLog - INFO - func:merge_rows took: 9.33 ms\n",
      "2024-02-06 13:25:55,555 - FireLog - INFO - func:merge_rows took: 13.59 ms\n",
      "2024-02-06 13:25:55,585 - FireLog - INFO - func:merge_rows took: 8.72 ms\n",
      "2024-02-06 13:25:55,895 - FireLog - INFO - func:merge_rows took: 67.29 ms\n",
      "2024-02-06 13:25:55,966 - FireLog - INFO - func:merge_rows took: 7.64 ms\n",
      "2024-02-06 13:25:56,057 - FireLog - INFO - func:merge_rows took: 17.19 ms\n",
      "2024-02-06 13:25:56,104 - FireLog - INFO - func:merge_rows took: 23.05 ms\n",
      "2024-02-06 13:25:56,184 - FireLog - INFO - func:merge_rows took: 8.15 ms\n",
      "2024-02-06 13:25:56,532 - FireLog - INFO - func:merge_rows took: 12.45 ms\n",
      "2024-02-06 13:25:56,560 - FireLog - INFO - func:merge_rows took: 7.71 ms\n"
     ]
    },
    {
     "name": "stdout",
     "output_type": "stream",
     "text": [
      "CPU times: user 1.12 s, sys: 36.2 ms, total: 1.16 s\n",
      "Wall time: 1.16 s\n"
     ]
    }
   ],
   "source": [
    "%%time\n",
    "for fid, data in gdf[gdf[\"fireID\"].isin(large_fires)].groupby(\"fireID\"):\n",
    "    \n",
    "    # merge any rows that have the same t\n",
    "    if data.t.duplicated().any():\n",
    "        data = merge_rows(data)\n",
    "                \n",
    "    output_dir = f\"out/CONUS/fires/{fid}\"\n",
    "    os.makedirs(output_dir, exist_ok=True)\n",
    "\n",
    "    for layer in [\"perimeter\", \"fireline\", \"newfirepix\"]:\n",
    "        columns = [col for col in FireGpkg_sfs.getdd(layer)]\n",
    "        subset = data[columns].copy()\n",
    "        if layer == \"perimeter\":\n",
    "            subset[\"geometry\"] = data[\"hull\"]\n",
    "        elif layer == \"newfirepix\":\n",
    "            subset[\"geometry\"] = data[\"nfp\"]\n",
    "        elif layer == \"fireline\":\n",
    "            subset[\"geometry\"] = data[\"fline\"]\n",
    "            subset = subset.dropna(subset=[\"geometry\"])\n",
    "        subset = subset.set_geometry(\"geometry\")\n",
    "        \n",
    "        subset.to_file(f\"{output_dir}/{layer}.fgb\", driver=\"FlatGeobuf\")"
   ]
  },
  {
   "cell_type": "markdown",
   "id": "ed89f39a-3584-4621-a269-221e90db29e9",
   "metadata": {},
   "source": [
    "## Experiments\n",
    "\n",
    "Does it make a big difference if you filter first rather than after?"
   ]
  },
  {
   "cell_type": "code",
   "execution_count": 11,
   "id": "d3508587-0318-4e5f-926a-8bb89bfba655",
   "metadata": {
    "execution": {
     "iopub.execute_input": "2024-02-06T18:26:00.691842Z",
     "iopub.status.busy": "2024-02-06T18:26:00.691485Z",
     "iopub.status.idle": "2024-02-06T18:26:00.718008Z",
     "shell.execute_reply": "2024-02-06T18:26:00.717363Z",
     "shell.execute_reply.started": "2024-02-06T18:26:00.691813Z"
    }
   },
   "outputs": [
    {
     "name": "stdout",
     "output_type": "stream",
     "text": [
      "CPU times: user 22.6 ms, sys: 376 µs, total: 23 ms\n",
      "Wall time: 21.8 ms\n"
     ]
    }
   ],
   "source": [
    "%%time\n",
    "for fid, data in gdf[gdf[\"fireID\"].isin(large_fires)].groupby(\"fireID\"):\n",
    "    f = fid"
   ]
  },
  {
   "cell_type": "code",
   "execution_count": 12,
   "id": "787d37e5-0168-4dec-8182-06454dea7508",
   "metadata": {
    "execution": {
     "iopub.execute_input": "2024-02-06T18:26:01.180039Z",
     "iopub.status.busy": "2024-02-06T18:26:01.179603Z",
     "iopub.status.idle": "2024-02-06T18:26:01.756345Z",
     "shell.execute_reply": "2024-02-06T18:26:01.755615Z",
     "shell.execute_reply.started": "2024-02-06T18:26:01.180005Z"
    }
   },
   "outputs": [
    {
     "name": "stdout",
     "output_type": "stream",
     "text": [
      "CPU times: user 564 ms, sys: 13 ms, total: 577 ms\n",
      "Wall time: 572 ms\n"
     ]
    }
   ],
   "source": [
    "%%time\n",
    "for fid, data in gdf.groupby(\"fireID\"):\n",
    "    if fid in large_fires:\n",
    "        f = fid"
   ]
  },
  {
   "cell_type": "code",
   "execution_count": 13,
   "id": "178b5a35-b74f-4f5a-bf9d-8860404ebf2f",
   "metadata": {
    "execution": {
     "iopub.execute_input": "2024-02-06T18:26:02.589177Z",
     "iopub.status.busy": "2024-02-06T18:26:02.588814Z",
     "iopub.status.idle": "2024-02-06T18:26:02.619955Z",
     "shell.execute_reply": "2024-02-06T18:26:02.619518Z",
     "shell.execute_reply.started": "2024-02-06T18:26:02.589150Z"
    }
   },
   "outputs": [
    {
     "name": "stdout",
     "output_type": "stream",
     "text": [
      "CPU times: user 28.7 ms, sys: 276 µs, total: 29 ms\n",
      "Wall time: 27.7 ms\n"
     ]
    }
   ],
   "source": [
    "%%time\n",
    "for fid in large_fires:\n",
    "    data = gdf[gdf[\"fireID\"] == fid]\n",
    "    f = fid"
   ]
  },
  {
   "cell_type": "code",
   "execution_count": 14,
   "id": "5eb093a2-8bcd-4b90-bebe-92d9adac3b1c",
   "metadata": {
    "execution": {
     "iopub.execute_input": "2024-02-06T18:26:03.369992Z",
     "iopub.status.busy": "2024-02-06T18:26:03.369678Z",
     "iopub.status.idle": "2024-02-06T18:26:03.395541Z",
     "shell.execute_reply": "2024-02-06T18:26:03.395115Z",
     "shell.execute_reply.started": "2024-02-06T18:26:03.369964Z"
    }
   },
   "outputs": [
    {
     "name": "stdout",
     "output_type": "stream",
     "text": [
      "CPU times: user 20.2 ms, sys: 2.82 ms, total: 23 ms\n",
      "Wall time: 22.4 ms\n"
     ]
    }
   ],
   "source": [
    "%%time\n",
    "for fid in large_fires:\n",
    "    data = allfires_gdf.loc[fid]\n",
    "    f = fid"
   ]
  },
  {
   "cell_type": "code",
   "execution_count": null,
   "id": "bdc6cccb-e9e4-4b9e-9cc4-4d7a962994a1",
   "metadata": {},
   "outputs": [],
   "source": []
  }
 ],
 "metadata": {
  "kernelspec": {
   "display_name": "Python 3 (ipykernel)",
   "language": "python",
   "name": "python3"
  },
  "language_info": {
   "codemirror_mode": {
    "name": "ipython",
    "version": 3
   },
   "file_extension": ".py",
   "mimetype": "text/x-python",
   "name": "python",
   "nbconvert_exporter": "python",
   "pygments_lexer": "ipython3",
   "version": "3.11.7"
  }
 },
 "nbformat": 4,
 "nbformat_minor": 5
}
