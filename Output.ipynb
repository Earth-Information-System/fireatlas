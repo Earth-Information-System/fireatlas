{
 "cells": [
  {
   "cell_type": "markdown",
   "id": "5016ad4a-8efc-4329-8260-79a12f8daca8",
   "metadata": {},
   "source": [
    "## Generate outputs\n",
    "\n",
    "What we want out of this algorthym is a snapshot of all the fires at a given t. And a timeseries of each fire across time. "
   ]
  },
  {
   "cell_type": "code",
   "execution_count": 1,
   "id": "2ed6f4c1-f380-4b1d-b478-b3dcd61d705d",
   "metadata": {
    "execution": {
     "iopub.execute_input": "2024-02-08T16:15:49.250771Z",
     "iopub.status.busy": "2024-02-08T16:15:49.250539Z",
     "iopub.status.idle": "2024-02-08T16:15:49.667318Z",
     "shell.execute_reply": "2024-02-08T16:15:49.666602Z",
     "shell.execute_reply.started": "2024-02-08T16:15:49.250758Z"
    },
    "scrolled": true
   },
   "outputs": [],
   "source": [
    "import os\n",
    "import datetime\n",
    "import pandas as pd\n",
    "import geopandas as gpd\n",
    "\n",
    "import FireTime, FireObj, FireConsts, postprocess\n",
    "from utils import timed\n",
    "\n",
    "region = [\"CONUS\",]  # note you don't need the shape in here, just the name\n",
    "tst = [2023, 8, 28, 'AM']\n",
    "ted = [2023, 9, 6, 'AM']"
   ]
  },
  {
   "cell_type": "markdown",
   "id": "fd6f2be6-286a-4868-adbe-a90aa5dfb4fd",
   "metadata": {},
   "source": [
    "## Read from disk"
   ]
  },
  {
   "cell_type": "code",
   "execution_count": 2,
   "id": "bb9d9818-89b0-4534-875d-8f5295eba2a0",
   "metadata": {
    "execution": {
     "iopub.execute_input": "2024-02-08T16:15:49.667935Z",
     "iopub.status.busy": "2024-02-08T16:15:49.667760Z",
     "iopub.status.idle": "2024-02-08T16:15:49.720710Z",
     "shell.execute_reply": "2024-02-08T16:15:49.720319Z",
     "shell.execute_reply.started": "2024-02-08T16:15:49.667922Z"
    }
   },
   "outputs": [
    {
     "name": "stderr",
     "output_type": "stream",
     "text": [
      "2024-02-08 11:15:49,718 - FireLog - INFO - func:read_allpixels took: 50.33 ms\n"
     ]
    }
   ],
   "source": [
    "allpixels = postprocess.read_allpixels(ted, region)"
   ]
  },
  {
   "cell_type": "code",
   "execution_count": 3,
   "id": "713e07d4-3f8f-4ff3-a67b-88883a39b6c4",
   "metadata": {
    "execution": {
     "iopub.execute_input": "2024-02-08T16:15:49.721538Z",
     "iopub.status.busy": "2024-02-08T16:15:49.721405Z",
     "iopub.status.idle": "2024-02-08T16:15:49.838495Z",
     "shell.execute_reply": "2024-02-08T16:15:49.838137Z",
     "shell.execute_reply.started": "2024-02-08T16:15:49.721525Z"
    }
   },
   "outputs": [
    {
     "name": "stderr",
     "output_type": "stream",
     "text": [
      "2024-02-08 11:15:49,836 - FireLog - INFO - func:read_allfires_gdf took: 114.56 ms\n"
     ]
    }
   ],
   "source": [
    "allfires_gdf = postprocess.read_allfires_gdf(ted, region)"
   ]
  },
  {
   "cell_type": "markdown",
   "id": "a81ffd2d-ed4b-498e-b45e-127f7c5fd594",
   "metadata": {},
   "source": [
    "## Write the large fires to disk\n"
   ]
  },
  {
   "cell_type": "code",
   "execution_count": 4,
   "id": "130838af-f05c-48fe-b52f-1e8d0a5d6747",
   "metadata": {
    "execution": {
     "iopub.execute_input": "2024-02-08T16:15:50.314739Z",
     "iopub.status.busy": "2024-02-08T16:15:50.314504Z",
     "iopub.status.idle": "2024-02-08T16:15:50.323274Z",
     "shell.execute_reply": "2024-02-08T16:15:50.321794Z",
     "shell.execute_reply.started": "2024-02-08T16:15:50.314726Z"
    }
   },
   "outputs": [
    {
     "name": "stderr",
     "output_type": "stream",
     "text": [
      "2024-02-08 11:15:50,320 - FireLog - INFO - func:find_largefires took: 5.05 ms\n"
     ]
    }
   ],
   "source": [
    "large_fires = postprocess.find_largefires(allfires_gdf)"
   ]
  },
  {
   "cell_type": "markdown",
   "id": "ceab6685-4dec-4ad6-9e0a-31f69db864cd",
   "metadata": {},
   "source": [
    "First we'll use the `allpixels` object to create the `nplist` layer"
   ]
  },
  {
   "cell_type": "code",
   "execution_count": 5,
   "id": "0718c1ae-99f2-4edd-9e89-a101279e3515",
   "metadata": {
    "execution": {
     "iopub.execute_input": "2024-02-08T16:15:51.241655Z",
     "iopub.status.busy": "2024-02-08T16:15:51.241136Z",
     "iopub.status.idle": "2024-02-08T16:15:52.239481Z",
     "shell.execute_reply": "2024-02-08T16:15:52.239078Z",
     "shell.execute_reply.started": "2024-02-08T16:15:51.241609Z"
    }
   },
   "outputs": [
    {
     "name": "stderr",
     "output_type": "stream",
     "text": [
      "2024-02-08 11:15:51,336 - FireLog - INFO - func:save_fire_nplist took: 89.43 ms\n",
      "2024-02-08 11:15:51,345 - FireLog - INFO - func:save_fire_nplist took: 8.58 ms\n",
      "2024-02-08 11:15:51,372 - FireLog - INFO - func:save_fire_nplist took: 25.35 ms\n",
      "2024-02-08 11:15:51,396 - FireLog - INFO - func:save_fire_nplist took: 23.43 ms\n",
      "2024-02-08 11:15:51,411 - FireLog - INFO - func:save_fire_nplist took: 13.33 ms\n",
      "2024-02-08 11:15:51,428 - FireLog - INFO - func:save_fire_nplist took: 15.06 ms\n",
      "2024-02-08 11:15:51,440 - FireLog - INFO - func:save_fire_nplist took: 11.35 ms\n",
      "2024-02-08 11:15:51,456 - FireLog - INFO - func:save_fire_nplist took: 14.26 ms\n",
      "2024-02-08 11:15:51,468 - FireLog - INFO - func:save_fire_nplist took: 11.53 ms\n",
      "2024-02-08 11:15:51,480 - FireLog - INFO - func:save_fire_nplist took: 10.89 ms\n",
      "2024-02-08 11:15:51,492 - FireLog - INFO - func:save_fire_nplist took: 10.09 ms\n",
      "2024-02-08 11:15:51,502 - FireLog - INFO - func:save_fire_nplist took: 9.68 ms\n",
      "2024-02-08 11:15:51,513 - FireLog - INFO - func:save_fire_nplist took: 9.77 ms\n",
      "2024-02-08 11:15:51,526 - FireLog - INFO - func:save_fire_nplist took: 11.78 ms\n",
      "2024-02-08 11:15:51,541 - FireLog - INFO - func:save_fire_nplist took: 14.20 ms\n",
      "2024-02-08 11:15:51,558 - FireLog - INFO - func:save_fire_nplist took: 15.77 ms\n",
      "2024-02-08 11:15:51,577 - FireLog - INFO - func:save_fire_nplist took: 17.89 ms\n",
      "2024-02-08 11:15:51,588 - FireLog - INFO - func:save_fire_nplist took: 9.80 ms\n",
      "2024-02-08 11:15:51,605 - FireLog - INFO - func:save_fire_nplist took: 15.63 ms\n",
      "2024-02-08 11:15:51,620 - FireLog - INFO - func:save_fire_nplist took: 13.63 ms\n",
      "2024-02-08 11:15:51,633 - FireLog - INFO - func:save_fire_nplist took: 11.73 ms\n",
      "2024-02-08 11:15:51,643 - FireLog - INFO - func:save_fire_nplist took: 9.21 ms\n",
      "2024-02-08 11:15:51,654 - FireLog - INFO - func:save_fire_nplist took: 9.80 ms\n",
      "2024-02-08 11:15:51,771 - FireLog - INFO - func:save_fire_nplist took: 115.59 ms\n",
      "2024-02-08 11:15:51,780 - FireLog - INFO - func:save_fire_nplist took: 8.21 ms\n",
      "2024-02-08 11:15:51,794 - FireLog - INFO - func:save_fire_nplist took: 12.49 ms\n",
      "2024-02-08 11:15:51,810 - FireLog - INFO - func:save_fire_nplist took: 15.15 ms\n",
      "2024-02-08 11:15:51,827 - FireLog - INFO - func:save_fire_nplist took: 16.16 ms\n",
      "2024-02-08 11:15:51,840 - FireLog - INFO - func:save_fire_nplist took: 11.21 ms\n",
      "2024-02-08 11:15:51,859 - FireLog - INFO - func:save_fire_nplist took: 18.04 ms\n",
      "2024-02-08 11:15:51,883 - FireLog - INFO - func:save_fire_nplist took: 22.52 ms\n",
      "2024-02-08 11:15:51,898 - FireLog - INFO - func:save_fire_nplist took: 14.01 ms\n",
      "2024-02-08 11:15:51,913 - FireLog - INFO - func:save_fire_nplist took: 13.83 ms\n",
      "2024-02-08 11:15:51,924 - FireLog - INFO - func:save_fire_nplist took: 10.15 ms\n",
      "2024-02-08 11:15:51,935 - FireLog - INFO - func:save_fire_nplist took: 9.73 ms\n",
      "2024-02-08 11:15:51,945 - FireLog - INFO - func:save_fire_nplist took: 8.55 ms\n",
      "2024-02-08 11:15:51,963 - FireLog - INFO - func:save_fire_nplist took: 17.03 ms\n",
      "2024-02-08 11:15:51,976 - FireLog - INFO - func:save_fire_nplist took: 11.14 ms\n",
      "2024-02-08 11:15:51,986 - FireLog - INFO - func:save_fire_nplist took: 9.45 ms\n",
      "2024-02-08 11:15:52,016 - FireLog - INFO - func:save_fire_nplist took: 28.45 ms\n",
      "2024-02-08 11:15:52,029 - FireLog - INFO - func:save_fire_nplist took: 12.34 ms\n",
      "2024-02-08 11:15:52,058 - FireLog - INFO - func:save_fire_nplist took: 27.51 ms\n",
      "2024-02-08 11:15:52,107 - FireLog - INFO - func:save_fire_nplist took: 47.66 ms\n",
      "2024-02-08 11:15:52,154 - FireLog - INFO - func:save_fire_nplist took: 45.66 ms\n",
      "2024-02-08 11:15:52,191 - FireLog - INFO - func:save_fire_nplist took: 36.17 ms\n",
      "2024-02-08 11:15:52,204 - FireLog - INFO - func:save_fire_nplist took: 11.14 ms\n",
      "2024-02-08 11:15:52,214 - FireLog - INFO - func:save_fire_nplist took: 9.12 ms\n",
      "2024-02-08 11:15:52,227 - FireLog - INFO - func:save_fire_nplist took: 12.49 ms\n",
      "2024-02-08 11:15:52,237 - FireLog - INFO - func:save_fire_nplist took: 8.51 ms\n"
     ]
    },
    {
     "name": "stdout",
     "output_type": "stream",
     "text": [
      "CPU times: user 947 ms, sys: 48.3 ms, total: 995 ms\n",
      "Wall time: 993 ms\n"
     ]
    }
   ],
   "source": [
    "%%time\n",
    "for fid in large_fires:\n",
    "    data = allpixels[allpixels[\"fid\"] == fid]\n",
    "    postprocess.save_fire_nplist(data, region, fid)"
   ]
  },
  {
   "cell_type": "markdown",
   "id": "308bd400-ae4e-40aa-86b0-8f0986d34062",
   "metadata": {},
   "source": [
    "The rest of the layers will be created directly from the `allfires_gdf`\n",
    "\n",
    "First let's do a naive version without the merge fixups"
   ]
  },
  {
   "cell_type": "code",
   "execution_count": 6,
   "id": "44990ba3-e2fd-4660-9787-069de89a4994",
   "metadata": {
    "execution": {
     "iopub.execute_input": "2024-02-08T16:16:02.621798Z",
     "iopub.status.busy": "2024-02-08T16:16:02.621220Z",
     "iopub.status.idle": "2024-02-08T16:16:03.890806Z",
     "shell.execute_reply": "2024-02-08T16:16:03.890317Z",
     "shell.execute_reply.started": "2024-02-08T16:16:02.621760Z"
    }
   },
   "outputs": [
    {
     "name": "stderr",
     "output_type": "stream",
     "text": [
      "2024-02-08 11:16:02,681 - FireLog - INFO - func:save_fire_layers took: 47.14 ms\n",
      "2024-02-08 11:16:02,708 - FireLog - INFO - func:save_fire_layers took: 26.18 ms\n",
      "2024-02-08 11:16:02,739 - FireLog - INFO - func:save_fire_layers took: 30.27 ms\n",
      "2024-02-08 11:16:02,762 - FireLog - INFO - func:save_fire_layers took: 22.13 ms\n",
      "2024-02-08 11:16:02,784 - FireLog - INFO - func:save_fire_layers took: 21.66 ms\n",
      "2024-02-08 11:16:02,805 - FireLog - INFO - func:save_fire_layers took: 20.11 ms\n",
      "2024-02-08 11:16:02,825 - FireLog - INFO - func:save_fire_layers took: 19.58 ms\n",
      "2024-02-08 11:16:02,846 - FireLog - INFO - func:save_fire_layers took: 19.59 ms\n",
      "2024-02-08 11:16:02,870 - FireLog - INFO - func:save_fire_layers took: 23.79 ms\n",
      "2024-02-08 11:16:02,892 - FireLog - INFO - func:save_fire_layers took: 21.04 ms\n",
      "2024-02-08 11:16:02,916 - FireLog - INFO - func:save_fire_layers took: 23.36 ms\n",
      "2024-02-08 11:16:02,936 - FireLog - INFO - func:save_fire_layers took: 19.17 ms\n",
      "2024-02-08 11:16:02,958 - FireLog - INFO - func:save_fire_layers took: 21.04 ms\n",
      "2024-02-08 11:16:02,978 - FireLog - INFO - func:save_fire_layers took: 18.92 ms\n",
      "2024-02-08 11:16:03,000 - FireLog - INFO - func:save_fire_layers took: 21.79 ms\n",
      "2024-02-08 11:16:03,027 - FireLog - INFO - func:save_fire_layers took: 26.08 ms\n",
      "2024-02-08 11:16:03,064 - FireLog - INFO - func:save_fire_layers took: 35.80 ms\n",
      "2024-02-08 11:16:03,109 - FireLog - INFO - func:save_fire_layers took: 43.21 ms\n",
      "2024-02-08 11:16:03,155 - FireLog - INFO - func:save_fire_layers took: 45.41 ms\n",
      "2024-02-08 11:16:03,193 - FireLog - INFO - func:save_fire_layers took: 36.96 ms\n",
      "2024-02-08 11:16:03,217 - FireLog - INFO - func:save_fire_layers took: 23.17 ms\n",
      "2024-02-08 11:16:03,250 - FireLog - INFO - func:save_fire_layers took: 31.69 ms\n",
      "2024-02-08 11:16:03,278 - FireLog - INFO - func:save_fire_layers took: 26.94 ms\n",
      "2024-02-08 11:16:03,303 - FireLog - INFO - func:save_fire_layers took: 24.22 ms\n",
      "2024-02-08 11:16:03,325 - FireLog - INFO - func:save_fire_layers took: 21.23 ms\n",
      "2024-02-08 11:16:03,346 - FireLog - INFO - func:save_fire_layers took: 20.44 ms\n",
      "2024-02-08 11:16:03,368 - FireLog - INFO - func:save_fire_layers took: 20.93 ms\n",
      "2024-02-08 11:16:03,392 - FireLog - INFO - func:save_fire_layers took: 23.80 ms\n",
      "2024-02-08 11:16:03,415 - FireLog - INFO - func:save_fire_layers took: 21.70 ms\n",
      "2024-02-08 11:16:03,438 - FireLog - INFO - func:save_fire_layers took: 22.76 ms\n",
      "2024-02-08 11:16:03,465 - FireLog - INFO - func:save_fire_layers took: 26.35 ms\n",
      "2024-02-08 11:16:03,495 - FireLog - INFO - func:save_fire_layers took: 28.62 ms\n",
      "2024-02-08 11:16:03,519 - FireLog - INFO - func:save_fire_layers took: 23.01 ms\n",
      "2024-02-08 11:16:03,544 - FireLog - INFO - func:save_fire_layers took: 23.74 ms\n",
      "2024-02-08 11:16:03,567 - FireLog - INFO - func:save_fire_layers took: 22.79 ms\n",
      "2024-02-08 11:16:03,589 - FireLog - INFO - func:save_fire_layers took: 20.78 ms\n",
      "2024-02-08 11:16:03,611 - FireLog - INFO - func:save_fire_layers took: 21.25 ms\n",
      "2024-02-08 11:16:03,634 - FireLog - INFO - func:save_fire_layers took: 22.51 ms\n",
      "2024-02-08 11:16:03,661 - FireLog - INFO - func:save_fire_layers took: 26.11 ms\n",
      "2024-02-08 11:16:03,686 - FireLog - INFO - func:save_fire_layers took: 23.49 ms\n",
      "2024-02-08 11:16:03,708 - FireLog - INFO - func:save_fire_layers took: 21.17 ms\n",
      "2024-02-08 11:16:03,730 - FireLog - INFO - func:save_fire_layers took: 21.47 ms\n",
      "2024-02-08 11:16:03,751 - FireLog - INFO - func:save_fire_layers took: 20.68 ms\n",
      "2024-02-08 11:16:03,774 - FireLog - INFO - func:save_fire_layers took: 21.47 ms\n",
      "2024-02-08 11:16:03,795 - FireLog - INFO - func:save_fire_layers took: 21.18 ms\n",
      "2024-02-08 11:16:03,822 - FireLog - INFO - func:save_fire_layers took: 25.79 ms\n",
      "2024-02-08 11:16:03,846 - FireLog - INFO - func:save_fire_layers took: 23.33 ms\n",
      "2024-02-08 11:16:03,868 - FireLog - INFO - func:save_fire_layers took: 20.89 ms\n",
      "2024-02-08 11:16:03,888 - FireLog - INFO - func:save_fire_layers took: 19.62 ms\n"
     ]
    },
    {
     "name": "stdout",
     "output_type": "stream",
     "text": [
      "CPU times: user 1.24 s, sys: 37.5 ms, total: 1.28 s\n",
      "Wall time: 1.27 s\n"
     ]
    }
   ],
   "source": [
    "%%time\n",
    "gdf = allfires_gdf.reset_index().copy()\n",
    "for fid, data in gdf[gdf[\"fireID\"].isin(large_fires)].groupby(\"fireID\"):\n",
    "    postprocess.save_fire_layers(data, region, fid)"
   ]
  },
  {
   "cell_type": "markdown",
   "id": "8872d261-814d-4b35-a4a7-da32a25f3c7d",
   "metadata": {},
   "source": [
    "Now let's do the merge as well"
   ]
  },
  {
   "cell_type": "code",
   "execution_count": 8,
   "id": "09f77f34-e642-4de7-872c-3ba8b7d9a4c3",
   "metadata": {
    "execution": {
     "iopub.execute_input": "2024-02-08T16:16:23.319412Z",
     "iopub.status.busy": "2024-02-08T16:16:23.318207Z",
     "iopub.status.idle": "2024-02-08T16:16:24.806095Z",
     "shell.execute_reply": "2024-02-08T16:16:24.805716Z",
     "shell.execute_reply.started": "2024-02-08T16:16:23.319365Z"
    }
   },
   "outputs": [
    {
     "name": "stderr",
     "output_type": "stream",
     "text": [
      "2024-02-08 11:16:23,361 - FireLog - INFO - func:save_fire_layers took: 32.18 ms\n",
      "2024-02-08 11:16:23,374 - FireLog - INFO - func:merge_rows took: 12.28 ms\n",
      "2024-02-08 11:16:23,395 - FireLog - INFO - func:save_fire_layers took: 20.44 ms\n",
      "2024-02-08 11:16:23,425 - FireLog - INFO - func:save_fire_layers took: 28.62 ms\n",
      "2024-02-08 11:16:23,447 - FireLog - INFO - func:save_fire_layers took: 20.81 ms\n",
      "2024-02-08 11:16:23,463 - FireLog - INFO - func:merge_rows took: 14.82 ms\n",
      "2024-02-08 11:16:23,484 - FireLog - INFO - func:save_fire_layers took: 20.26 ms\n",
      "2024-02-08 11:16:23,493 - FireLog - INFO - func:merge_rows took: 8.65 ms\n",
      "2024-02-08 11:16:23,514 - FireLog - INFO - func:save_fire_layers took: 20.05 ms\n"
     ]
    },
    {
     "name": "stdout",
     "output_type": "stream",
     "text": [
      "93 rows that potentially need a merge\n"
     ]
    },
    {
     "name": "stderr",
     "output_type": "stream",
     "text": [
      "2024-02-08 11:16:23,536 - FireLog - INFO - func:save_fire_layers took: 21.44 ms\n",
      "2024-02-08 11:16:23,562 - FireLog - INFO - func:save_fire_layers took: 24.34 ms\n",
      "2024-02-08 11:16:23,591 - FireLog - INFO - func:save_fire_layers took: 27.60 ms\n",
      "2024-02-08 11:16:23,613 - FireLog - INFO - func:save_fire_layers took: 21.28 ms\n",
      "2024-02-08 11:16:23,641 - FireLog - INFO - func:save_fire_layers took: 26.85 ms\n",
      "2024-02-08 11:16:23,664 - FireLog - INFO - func:save_fire_layers took: 22.40 ms\n",
      "2024-02-08 11:16:23,687 - FireLog - INFO - func:save_fire_layers took: 22.21 ms\n",
      "2024-02-08 11:16:23,710 - FireLog - INFO - func:save_fire_layers took: 21.65 ms\n",
      "2024-02-08 11:16:23,734 - FireLog - INFO - func:save_fire_layers took: 23.07 ms\n",
      "2024-02-08 11:16:23,758 - FireLog - INFO - func:save_fire_layers took: 22.77 ms\n",
      "2024-02-08 11:16:23,789 - FireLog - INFO - func:save_fire_layers took: 30.14 ms\n",
      "2024-02-08 11:16:23,834 - FireLog - INFO - func:merge_rows took: 44.53 ms\n",
      "2024-02-08 11:16:23,875 - FireLog - INFO - func:save_fire_layers took: 39.53 ms\n",
      "2024-02-08 11:16:23,909 - FireLog - INFO - func:save_fire_layers took: 33.62 ms\n",
      "2024-02-08 11:16:23,920 - FireLog - INFO - func:merge_rows took: 9.27 ms\n",
      "2024-02-08 11:16:23,960 - FireLog - INFO - func:save_fire_layers took: 39.62 ms\n",
      "2024-02-08 11:16:23,984 - FireLog - INFO - func:save_fire_layers took: 23.31 ms\n",
      "2024-02-08 11:16:24,020 - FireLog - INFO - func:save_fire_layers took: 33.95 ms\n",
      "2024-02-08 11:16:24,044 - FireLog - INFO - func:merge_rows took: 22.89 ms\n",
      "2024-02-08 11:16:24,070 - FireLog - INFO - func:save_fire_layers took: 25.48 ms\n",
      "2024-02-08 11:16:24,097 - FireLog - INFO - func:merge_rows took: 25.36 ms\n",
      "2024-02-08 11:16:24,122 - FireLog - INFO - func:save_fire_layers took: 25.30 ms\n",
      "2024-02-08 11:16:24,147 - FireLog - INFO - func:save_fire_layers took: 23.62 ms\n",
      "2024-02-08 11:16:24,173 - FireLog - INFO - func:save_fire_layers took: 25.03 ms\n",
      "2024-02-08 11:16:24,197 - FireLog - INFO - func:save_fire_layers took: 22.53 ms\n",
      "2024-02-08 11:16:24,212 - FireLog - INFO - func:merge_rows took: 13.32 ms\n",
      "2024-02-08 11:16:24,235 - FireLog - INFO - func:save_fire_layers took: 23.35 ms\n",
      "2024-02-08 11:16:24,259 - FireLog - INFO - func:save_fire_layers took: 22.45 ms\n",
      "2024-02-08 11:16:24,283 - FireLog - INFO - func:save_fire_layers took: 23.30 ms\n",
      "2024-02-08 11:16:24,305 - FireLog - INFO - func:save_fire_layers took: 21.01 ms\n",
      "2024-02-08 11:16:24,335 - FireLog - INFO - func:save_fire_layers took: 28.07 ms\n",
      "2024-02-08 11:16:24,361 - FireLog - INFO - func:save_fire_layers took: 25.40 ms\n",
      "2024-02-08 11:16:24,385 - FireLog - INFO - func:save_fire_layers took: 22.65 ms\n",
      "2024-02-08 11:16:24,407 - FireLog - INFO - func:save_fire_layers took: 21.71 ms\n",
      "2024-02-08 11:16:24,429 - FireLog - INFO - func:save_fire_layers took: 21.00 ms\n",
      "2024-02-08 11:16:24,451 - FireLog - INFO - func:save_fire_layers took: 20.68 ms\n",
      "2024-02-08 11:16:24,472 - FireLog - INFO - func:save_fire_layers took: 21.03 ms\n",
      "2024-02-08 11:16:24,501 - FireLog - INFO - func:save_fire_layers took: 27.95 ms\n",
      "2024-02-08 11:16:24,528 - FireLog - INFO - func:save_fire_layers took: 25.49 ms\n",
      "2024-02-08 11:16:24,551 - FireLog - INFO - func:save_fire_layers took: 22.17 ms\n",
      "2024-02-08 11:16:24,574 - FireLog - INFO - func:save_fire_layers took: 21.94 ms\n",
      "2024-02-08 11:16:24,596 - FireLog - INFO - func:save_fire_layers took: 20.79 ms\n",
      "2024-02-08 11:16:24,620 - FireLog - INFO - func:save_fire_layers took: 23.60 ms\n",
      "2024-02-08 11:16:24,644 - FireLog - INFO - func:save_fire_layers took: 22.44 ms\n",
      "2024-02-08 11:16:24,674 - FireLog - INFO - func:save_fire_layers took: 29.21 ms\n",
      "2024-02-08 11:16:24,693 - FireLog - INFO - func:merge_rows took: 17.52 ms\n",
      "2024-02-08 11:16:24,722 - FireLog - INFO - func:save_fire_layers took: 28.80 ms\n",
      "2024-02-08 11:16:24,738 - FireLog - INFO - func:merge_rows took: 12.31 ms\n",
      "2024-02-08 11:16:24,775 - FireLog - INFO - func:save_fire_layers took: 36.73 ms\n",
      "2024-02-08 11:16:24,802 - FireLog - INFO - func:save_fire_layers took: 26.07 ms\n",
      "2024-02-08 11:16:24,803 - FireLog - INFO - func:save_large_fires_layers took: 1.48 sec\n"
     ]
    },
    {
     "name": "stdout",
     "output_type": "stream",
     "text": [
      "CPU times: user 1.42 s, sys: 66.3 ms, total: 1.49 s\n",
      "Wall time: 1.48 s\n"
     ]
    }
   ],
   "source": [
    "%%time\n",
    "postprocess.save_large_fires_layers(allfires_gdf, region, large_fires)"
   ]
  },
  {
   "cell_type": "markdown",
   "id": "d287e445-b323-4a4e-974a-d38307b7fafb",
   "metadata": {},
   "source": [
    "## Merge Experiments\n",
    "\n",
    "These ones need some merge help:"
   ]
  },
  {
   "cell_type": "code",
   "execution_count": 7,
   "id": "5df5833e-4d29-473c-8bf3-9c41b25b7e92",
   "metadata": {
    "execution": {
     "iopub.execute_input": "2024-02-06T18:25:50.656034Z",
     "iopub.status.busy": "2024-02-06T18:25:50.655567Z",
     "iopub.status.idle": "2024-02-06T18:25:50.665716Z",
     "shell.execute_reply": "2024-02-06T18:25:50.664675Z",
     "shell.execute_reply.started": "2024-02-06T18:25:50.655992Z"
    }
   },
   "outputs": [
    {
     "name": "stdout",
     "output_type": "stream",
     "text": [
      "93 rows that potentially need a merge\n"
     ]
    }
   ],
   "source": [
    "merge_needed = (gdf.mergeid != gdf.fireID) & (gdf.invalid == False)\n",
    "print(f\"{merge_needed.sum()} rows that potentially need a merge\")\n",
    "\n",
    "# we'll set the \"fireID\" to \"mergeid\" in those spots\n",
    "gdf.loc[merge_needed, \"fireID\"] = gdf.loc[merge_needed, \"mergeid\"]"
   ]
  },
  {
   "cell_type": "markdown",
   "id": "292680e1-2331-4daa-aaae-5487551260c4",
   "metadata": {},
   "source": [
    "I have two different ideas of how to merge rows:\n",
    "\n",
    "1) The first version of the `merge_rows` function uses a unary union to join the hull and then recalculated the fline and the ftype.\n",
    "2) The second version of the `merge_rows` function uses code that is more similar to the existing merge function. It constructs a MultiGeometry out of the various geometry objects."
   ]
  },
  {
   "cell_type": "code",
   "execution_count": 8,
   "id": "15e24d17-f2f3-4837-9337-8fa404fb00c6",
   "metadata": {
    "execution": {
     "iopub.execute_input": "2024-02-06T18:25:53.752837Z",
     "iopub.status.busy": "2024-02-06T18:25:53.752424Z",
     "iopub.status.idle": "2024-02-06T18:25:53.758397Z",
     "shell.execute_reply": "2024-02-06T18:25:53.757715Z",
     "shell.execute_reply.started": "2024-02-06T18:25:53.752812Z"
    }
   },
   "outputs": [],
   "source": [
    "@timed\n",
    "def merge_rows(data):\n",
    "    \"\"\"For a subset of allfires data containing only one fire, merge any\n",
    "    rows that have the same `t`\n",
    "    \"\"\"\n",
    "    \n",
    "    from shapely.ops import unary_union\n",
    "\n",
    "    dd = FireGpkg_sfs.getdd(\"all\")\n",
    "    output = data.set_index(\"t\").copy()\n",
    "    \n",
    "    # clean up any merges that are needed\n",
    "    for dt, rows in data[data.t.duplicated(False)].groupby(\"t\"):\n",
    "        f = FireObj.Fire(fid, FireTime.dt2t(dt), allpixels)\n",
    "        f.t_st = FireTime.dt2t(rows[\"t_st\"].min())\n",
    "        f.hull = unary_union(rows[\"hull\"].values)\n",
    "        \n",
    "        # this might be doing more work than it needs to\n",
    "        f.updatefline()\n",
    "\n",
    "        # ftype is unused in the output files\n",
    "        f.ftype = rows.ftype.iloc[0]\n",
    "    \n",
    "        for k, tp in dd.items():\n",
    "            if tp == \"datetime64[ns]\":\n",
    "                output.loc[dt, k] = FireTime.t2dt(getattr(f, k))\n",
    "            else:\n",
    "                output.loc[dt, k] = getattr(f, k)\n",
    "    \n",
    "    for k, tp in dd.items():\n",
    "        output[k] = output[k].astype(tp)\n",
    "        \n",
    "    return output.drop_duplicates().reset_index()"
   ]
  },
  {
   "cell_type": "code",
   "execution_count": 9,
   "id": "dee5c9ba-a76b-446e-9765-36078588fbbc",
   "metadata": {
    "execution": {
     "iopub.execute_input": "2024-02-06T18:25:54.849032Z",
     "iopub.status.busy": "2024-02-06T18:25:54.848784Z",
     "iopub.status.idle": "2024-02-06T18:25:54.854112Z",
     "shell.execute_reply": "2024-02-06T18:25:54.853619Z",
     "shell.execute_reply.started": "2024-02-06T18:25:54.849014Z"
    }
   },
   "outputs": [],
   "source": [
    "@timed\n",
    "def merge_rows(data):\n",
    "    \"\"\"For a subset of allfires data containing only one fire, merge any\n",
    "    rows that have the same `t`\n",
    "    \"\"\"\n",
    "    output = data.drop_duplicates(subset=[\"t\"]).set_index(\"t\").copy()\n",
    "    \n",
    "    # clean up any merges that are needed\n",
    "    for dt, rows in data[data.t.duplicated(False)].groupby(\"t\"):\n",
    "        # first get the weighted sums for pixden and meanFRP\n",
    "        pixweight = (rows[\"pixden\"] * rows[\"farea\"]).sum()\n",
    "        FRPweight = (rows[\"meanFRP\"] * rows[\"n_pixels\"]).sum()\n",
    "        \n",
    "        for col in [\"n_pixels\", \"n_newpixels\", \"farea\", \"fperim\", \"flinelen\"]:\n",
    "            output.loc[dt, col] = rows[col].sum()\n",
    "\n",
    "        output.loc[dt, \"t_st\"] = rows[\"t_st\"].min()\n",
    "        output.loc[dt, \"pixden\"] = pixweight / output.loc[dt, \"farea\"]\n",
    "        output.loc[dt, \"meanFRP\"] = FRPweight / output.loc[dt, \"n_pixels\"]\n",
    "\n",
    "        dissolved = rows.dissolve()\n",
    "        for col in [\"hull\", \"fline\", \"nfp\"]:\n",
    "            output.loc[dt, col] = dissolved[col].item()\n",
    "        \n",
    "    return output.reset_index()"
   ]
  },
  {
   "cell_type": "code",
   "execution_count": 10,
   "id": "5ec45b09-bc1e-4070-96b2-81d5dab8c928",
   "metadata": {
    "execution": {
     "iopub.execute_input": "2024-02-06T18:25:55.435865Z",
     "iopub.status.busy": "2024-02-06T18:25:55.435516Z",
     "iopub.status.idle": "2024-02-06T18:25:56.598761Z",
     "shell.execute_reply": "2024-02-06T18:25:56.598260Z",
     "shell.execute_reply.started": "2024-02-06T18:25:55.435839Z"
    }
   },
   "outputs": [
    {
     "name": "stderr",
     "output_type": "stream",
     "text": [
      "2024-02-06 13:25:55,474 - FireLog - INFO - func:merge_rows took: 9.33 ms\n",
      "2024-02-06 13:25:55,555 - FireLog - INFO - func:merge_rows took: 13.59 ms\n",
      "2024-02-06 13:25:55,585 - FireLog - INFO - func:merge_rows took: 8.72 ms\n",
      "2024-02-06 13:25:55,895 - FireLog - INFO - func:merge_rows took: 67.29 ms\n",
      "2024-02-06 13:25:55,966 - FireLog - INFO - func:merge_rows took: 7.64 ms\n",
      "2024-02-06 13:25:56,057 - FireLog - INFO - func:merge_rows took: 17.19 ms\n",
      "2024-02-06 13:25:56,104 - FireLog - INFO - func:merge_rows took: 23.05 ms\n",
      "2024-02-06 13:25:56,184 - FireLog - INFO - func:merge_rows took: 8.15 ms\n",
      "2024-02-06 13:25:56,532 - FireLog - INFO - func:merge_rows took: 12.45 ms\n",
      "2024-02-06 13:25:56,560 - FireLog - INFO - func:merge_rows took: 7.71 ms\n"
     ]
    },
    {
     "name": "stdout",
     "output_type": "stream",
     "text": [
      "CPU times: user 1.12 s, sys: 36.2 ms, total: 1.16 s\n",
      "Wall time: 1.16 s\n"
     ]
    }
   ],
   "source": [
    "%%time\n",
    "for fid, data in gdf[gdf[\"fireID\"].isin(large_fires)].groupby(\"fireID\"):\n",
    "    \n",
    "    # merge any rows that have the same t\n",
    "    if data.t.duplicated().any():\n",
    "        data = merge_rows(data)\n",
    "                \n",
    "    output_dir = f\"out/CONUS/fires/{fid}\"\n",
    "    os.makedirs(output_dir, exist_ok=True)\n",
    "\n",
    "    for layer in [\"perimeter\", \"fireline\", \"newfirepix\"]:\n",
    "        columns = [col for col in FireGpkg_sfs.getdd(layer)]\n",
    "        subset = data[columns].copy()\n",
    "        if layer == \"perimeter\":\n",
    "            subset[\"geometry\"] = data[\"hull\"]\n",
    "        elif layer == \"newfirepix\":\n",
    "            subset[\"geometry\"] = data[\"nfp\"]\n",
    "        elif layer == \"fireline\":\n",
    "            subset[\"geometry\"] = data[\"fline\"]\n",
    "            subset = subset.dropna(subset=[\"geometry\"])\n",
    "        subset = subset.set_geometry(\"geometry\")\n",
    "        \n",
    "        subset.to_file(f\"{output_dir}/{layer}.fgb\", driver=\"FlatGeobuf\")"
   ]
  },
  {
   "cell_type": "markdown",
   "id": "ed89f39a-3584-4621-a269-221e90db29e9",
   "metadata": {},
   "source": [
    "## Experiments\n",
    "\n",
    "Does it make a big difference if you filter first rather than after?"
   ]
  },
  {
   "cell_type": "code",
   "execution_count": 11,
   "id": "d3508587-0318-4e5f-926a-8bb89bfba655",
   "metadata": {
    "execution": {
     "iopub.execute_input": "2024-02-06T18:26:00.691842Z",
     "iopub.status.busy": "2024-02-06T18:26:00.691485Z",
     "iopub.status.idle": "2024-02-06T18:26:00.718008Z",
     "shell.execute_reply": "2024-02-06T18:26:00.717363Z",
     "shell.execute_reply.started": "2024-02-06T18:26:00.691813Z"
    }
   },
   "outputs": [
    {
     "name": "stdout",
     "output_type": "stream",
     "text": [
      "CPU times: user 22.6 ms, sys: 376 µs, total: 23 ms\n",
      "Wall time: 21.8 ms\n"
     ]
    }
   ],
   "source": [
    "%%time\n",
    "for fid, data in gdf[gdf[\"fireID\"].isin(large_fires)].groupby(\"fireID\"):\n",
    "    f = fid"
   ]
  },
  {
   "cell_type": "code",
   "execution_count": 12,
   "id": "787d37e5-0168-4dec-8182-06454dea7508",
   "metadata": {
    "execution": {
     "iopub.execute_input": "2024-02-06T18:26:01.180039Z",
     "iopub.status.busy": "2024-02-06T18:26:01.179603Z",
     "iopub.status.idle": "2024-02-06T18:26:01.756345Z",
     "shell.execute_reply": "2024-02-06T18:26:01.755615Z",
     "shell.execute_reply.started": "2024-02-06T18:26:01.180005Z"
    }
   },
   "outputs": [
    {
     "name": "stdout",
     "output_type": "stream",
     "text": [
      "CPU times: user 564 ms, sys: 13 ms, total: 577 ms\n",
      "Wall time: 572 ms\n"
     ]
    }
   ],
   "source": [
    "%%time\n",
    "for fid, data in gdf.groupby(\"fireID\"):\n",
    "    if fid in large_fires:\n",
    "        f = fid"
   ]
  },
  {
   "cell_type": "code",
   "execution_count": 13,
   "id": "178b5a35-b74f-4f5a-bf9d-8860404ebf2f",
   "metadata": {
    "execution": {
     "iopub.execute_input": "2024-02-06T18:26:02.589177Z",
     "iopub.status.busy": "2024-02-06T18:26:02.588814Z",
     "iopub.status.idle": "2024-02-06T18:26:02.619955Z",
     "shell.execute_reply": "2024-02-06T18:26:02.619518Z",
     "shell.execute_reply.started": "2024-02-06T18:26:02.589150Z"
    }
   },
   "outputs": [
    {
     "name": "stdout",
     "output_type": "stream",
     "text": [
      "CPU times: user 28.7 ms, sys: 276 µs, total: 29 ms\n",
      "Wall time: 27.7 ms\n"
     ]
    }
   ],
   "source": [
    "%%time\n",
    "for fid in large_fires:\n",
    "    data = gdf[gdf[\"fireID\"] == fid]\n",
    "    f = fid"
   ]
  },
  {
   "cell_type": "code",
   "execution_count": 14,
   "id": "5eb093a2-8bcd-4b90-bebe-92d9adac3b1c",
   "metadata": {
    "execution": {
     "iopub.execute_input": "2024-02-06T18:26:03.369992Z",
     "iopub.status.busy": "2024-02-06T18:26:03.369678Z",
     "iopub.status.idle": "2024-02-06T18:26:03.395541Z",
     "shell.execute_reply": "2024-02-06T18:26:03.395115Z",
     "shell.execute_reply.started": "2024-02-06T18:26:03.369964Z"
    }
   },
   "outputs": [
    {
     "name": "stdout",
     "output_type": "stream",
     "text": [
      "CPU times: user 20.2 ms, sys: 2.82 ms, total: 23 ms\n",
      "Wall time: 22.4 ms\n"
     ]
    }
   ],
   "source": [
    "%%time\n",
    "for fid in large_fires:\n",
    "    data = allfires_gdf.loc[fid]\n",
    "    f = fid"
   ]
  },
  {
   "cell_type": "code",
   "execution_count": null,
   "id": "bdc6cccb-e9e4-4b9e-9cc4-4d7a962994a1",
   "metadata": {},
   "outputs": [],
   "source": []
  }
 ],
 "metadata": {
  "kernelspec": {
   "display_name": "Python 3 (ipykernel)",
   "language": "python",
   "name": "python3"
  },
  "language_info": {
   "codemirror_mode": {
    "name": "ipython",
    "version": 3
   },
   "file_extension": ".py",
   "mimetype": "text/x-python",
   "name": "python",
   "nbconvert_exporter": "python",
   "pygments_lexer": "ipython3",
   "version": "3.11.7"
  }
 },
 "nbformat": 4,
 "nbformat_minor": 5
}
