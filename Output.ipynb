{
 "cells": [
  {
   "cell_type": "markdown",
   "id": "5016ad4a-8efc-4329-8260-79a12f8daca8",
   "metadata": {},
   "source": [
    "## Generate outputs\n",
    "\n",
    "What we want out of this algorthym is a snapshot of all the fires at a given t. And a timeseries of each fire across time. "
   ]
  },
  {
   "cell_type": "code",
   "execution_count": 1,
   "id": "2ed6f4c1-f380-4b1d-b478-b3dcd61d705d",
   "metadata": {
    "scrolled": true
   },
   "outputs": [],
   "source": [
    "import os\n",
    "import datetime\n",
    "import pandas as pd\n",
    "import geopandas as gpd\n",
    "\n",
    "import FireTime, FireObj, FireConsts, postprocess\n",
    "from utils import timed\n",
    "\n",
    "region = [\"CONUS\",]  # note you don't need the shape in here, just the name\n",
    "tst = [2023, 8, 28, 'AM']\n",
    "ted = [2023, 9, 6, 'AM']"
   ]
  },
  {
   "cell_type": "markdown",
   "id": "fd6f2be6-286a-4868-adbe-a90aa5dfb4fd",
   "metadata": {},
   "source": [
    "## Read from disk"
   ]
  },
  {
   "cell_type": "code",
   "execution_count": 2,
   "id": "bb9d9818-89b0-4534-875d-8f5295eba2a0",
   "metadata": {},
   "outputs": [
    {
     "name": "stderr",
     "output_type": "stream",
     "text": [
      "2024-03-20 20:06:39,150 - FireLog - INFO - func:read_allpixels took: 86.50 ms\n"
     ]
    }
   ],
   "source": [
    "allpixels = postprocess.read_allpixels(tst, ted, region)"
   ]
  },
  {
   "cell_type": "code",
   "execution_count": 3,
   "id": "713e07d4-3f8f-4ff3-a67b-88883a39b6c4",
   "metadata": {},
   "outputs": [
    {
     "name": "stderr",
     "output_type": "stream",
     "text": [
      "2024-03-20 20:06:39,640 - FireLog - INFO - func:read_allfires_gdf took: 174.96 ms\n"
     ]
    }
   ],
   "source": [
    "allfires_gdf = postprocess.read_allfires_gdf(tst, ted, region)"
   ]
  },
  {
   "cell_type": "markdown",
   "id": "2b48478f-189a-455d-b9ca-c323b46054e4",
   "metadata": {},
   "source": [
    "## Write snapshots"
   ]
  },
  {
   "cell_type": "code",
   "execution_count": 4,
   "id": "be5fe52c-793d-4f9a-9bd7-8cf0421daecb",
   "metadata": {},
   "outputs": [
    {
     "name": "stderr",
     "output_type": "stream",
     "text": [
      "2024-03-20 20:07:23,842 - FireLog - INFO - func:save_snapshot_layers took: 806.51 ms\n",
      "2024-03-20 20:07:24,614 - FireLog - INFO - func:save_snapshot_layers took: 767.69 ms\n",
      "2024-03-20 20:07:25,533 - FireLog - INFO - func:save_snapshot_layers took: 914.14 ms\n",
      "2024-03-20 20:07:26,569 - FireLog - INFO - func:save_snapshot_layers took: 1.03 sec\n",
      "2024-03-20 20:07:27,677 - FireLog - INFO - func:save_snapshot_layers took: 1.10 sec\n",
      "2024-03-20 20:07:28,985 - FireLog - INFO - func:save_snapshot_layers took: 1.30 sec\n",
      "2024-03-20 20:07:30,438 - FireLog - INFO - func:save_snapshot_layers took: 1.45 sec\n",
      "2024-03-20 20:07:32,055 - FireLog - INFO - func:save_snapshot_layers took: 1.61 sec\n",
      "2024-03-20 20:07:33,773 - FireLog - INFO - func:save_snapshot_layers took: 1.71 sec\n",
      "2024-03-20 20:07:35,585 - FireLog - INFO - func:save_snapshot_layers took: 1.81 sec\n",
      "2024-03-20 20:07:37,479 - FireLog - INFO - func:save_snapshot_layers took: 1.89 sec\n",
      "2024-03-20 20:07:39,442 - FireLog - INFO - func:save_snapshot_layers took: 1.96 sec\n",
      "2024-03-20 20:07:41,526 - FireLog - INFO - func:save_snapshot_layers took: 2.08 sec\n",
      "2024-03-20 20:07:43,826 - FireLog - INFO - func:save_snapshot_layers took: 2.29 sec\n",
      "2024-03-20 20:07:46,109 - FireLog - INFO - func:save_snapshot_layers took: 2.28 sec\n",
      "2024-03-20 20:07:48,519 - FireLog - INFO - func:save_snapshot_layers took: 2.40 sec\n",
      "2024-03-20 20:07:51,045 - FireLog - INFO - func:save_snapshot_layers took: 2.52 sec\n",
      "2024-03-20 20:07:53,661 - FireLog - INFO - func:save_snapshot_layers took: 2.61 sec\n",
      "2024-03-20 20:07:56,415 - FireLog - INFO - func:save_snapshot_layers took: 2.75 sec\n"
     ]
    },
    {
     "name": "stdout",
     "output_type": "stream",
     "text": [
      "CPU times: user 25.5 s, sys: 527 ms, total: 26 s\n",
      "Wall time: 33.4 s\n"
     ]
    }
   ],
   "source": [
    "%%time\n",
    "gdf = allfires_gdf.reset_index()\n",
    "\n",
    "for t in FireTime.t_generator(tst, ted):\n",
    "    dt = FireTime.t2dt(t)\n",
    "    data = gdf[gdf.t <= dt].drop_duplicates(\"fireID\", keep=\"last\")\n",
    "    postprocess.save_snapshot_layers(data, region, tst, t)"
   ]
  },
  {
   "cell_type": "markdown",
   "id": "a81ffd2d-ed4b-498e-b45e-127f7c5fd594",
   "metadata": {},
   "source": [
    "## Write the large fires to disk\n"
   ]
  },
  {
   "cell_type": "code",
   "execution_count": 5,
   "id": "130838af-f05c-48fe-b52f-1e8d0a5d6747",
   "metadata": {},
   "outputs": [
    {
     "name": "stderr",
     "output_type": "stream",
     "text": [
      "2024-03-20 20:08:00,645 - FireLog - INFO - func:find_largefires took: 6.39 ms\n"
     ]
    }
   ],
   "source": [
    "large_fires = postprocess.find_largefires(allfires_gdf)"
   ]
  },
  {
   "cell_type": "markdown",
   "id": "ceab6685-4dec-4ad6-9e0a-31f69db864cd",
   "metadata": {},
   "source": [
    "First we'll use the `allpixels` object to create the `nplist` layer"
   ]
  },
  {
   "cell_type": "code",
   "execution_count": 6,
   "id": "0718c1ae-99f2-4edd-9e89-a101279e3515",
   "metadata": {},
   "outputs": [
    {
     "name": "stderr",
     "output_type": "stream",
     "text": [
      "2024-03-20 20:09:10,467 - FireLog - INFO - func:save_fire_nplist took: 59.96 ms\n",
      "2024-03-20 20:09:10,513 - FireLog - INFO - func:save_fire_nplist took: 44.76 ms\n",
      "2024-03-20 20:09:10,571 - FireLog - INFO - func:save_fire_nplist took: 57.27 ms\n",
      "2024-03-20 20:09:10,632 - FireLog - INFO - func:save_fire_nplist took: 58.97 ms\n",
      "2024-03-20 20:09:10,685 - FireLog - INFO - func:save_fire_nplist took: 52.58 ms\n",
      "2024-03-20 20:09:10,744 - FireLog - INFO - func:save_fire_nplist took: 57.88 ms\n",
      "2024-03-20 20:09:10,788 - FireLog - INFO - func:save_fire_nplist took: 42.61 ms\n",
      "2024-03-20 20:09:10,831 - FireLog - INFO - func:save_fire_nplist took: 42.13 ms\n",
      "2024-03-20 20:09:10,885 - FireLog - INFO - func:save_fire_nplist took: 51.92 ms\n",
      "2024-03-20 20:09:10,934 - FireLog - INFO - func:save_fire_nplist took: 48.14 ms\n",
      "2024-03-20 20:09:10,979 - FireLog - INFO - func:save_fire_nplist took: 43.88 ms\n",
      "2024-03-20 20:09:11,024 - FireLog - INFO - func:save_fire_nplist took: 43.58 ms\n",
      "2024-03-20 20:09:11,067 - FireLog - INFO - func:save_fire_nplist took: 41.95 ms\n",
      "2024-03-20 20:09:11,111 - FireLog - INFO - func:save_fire_nplist took: 43.66 ms\n",
      "2024-03-20 20:09:11,165 - FireLog - INFO - func:save_fire_nplist took: 52.74 ms\n",
      "2024-03-20 20:09:11,217 - FireLog - INFO - func:save_fire_nplist took: 50.23 ms\n",
      "2024-03-20 20:09:11,278 - FireLog - INFO - func:save_fire_nplist took: 60.47 ms\n",
      "2024-03-20 20:09:11,323 - FireLog - INFO - func:save_fire_nplist took: 43.52 ms\n",
      "2024-03-20 20:09:11,368 - FireLog - INFO - func:save_fire_nplist took: 43.83 ms\n",
      "2024-03-20 20:09:11,407 - FireLog - INFO - func:save_fire_nplist took: 37.94 ms\n",
      "2024-03-20 20:09:11,452 - FireLog - INFO - func:save_fire_nplist took: 43.67 ms\n",
      "2024-03-20 20:09:11,490 - FireLog - INFO - func:save_fire_nplist took: 37.68 ms\n",
      "2024-03-20 20:09:11,777 - FireLog - INFO - func:save_fire_nplist took: 285.87 ms\n",
      "2024-03-20 20:09:11,822 - FireLog - INFO - func:save_fire_nplist took: 43.38 ms\n",
      "2024-03-20 20:09:11,871 - FireLog - INFO - func:save_fire_nplist took: 47.74 ms\n",
      "2024-03-20 20:09:11,924 - FireLog - INFO - func:save_fire_nplist took: 51.40 ms\n",
      "2024-03-20 20:09:11,967 - FireLog - INFO - func:save_fire_nplist took: 42.37 ms\n",
      "2024-03-20 20:09:12,015 - FireLog - INFO - func:save_fire_nplist took: 46.93 ms\n",
      "2024-03-20 20:09:12,059 - FireLog - INFO - func:save_fire_nplist took: 42.68 ms\n",
      "2024-03-20 20:09:12,123 - FireLog - INFO - func:save_fire_nplist took: 62.90 ms\n",
      "2024-03-20 20:09:12,168 - FireLog - INFO - func:save_fire_nplist took: 43.82 ms\n",
      "2024-03-20 20:09:12,213 - FireLog - INFO - func:save_fire_nplist took: 43.36 ms\n",
      "2024-03-20 20:09:12,260 - FireLog - INFO - func:save_fire_nplist took: 45.73 ms\n",
      "2024-03-20 20:09:12,304 - FireLog - INFO - func:save_fire_nplist took: 42.50 ms\n",
      "2024-03-20 20:09:12,362 - FireLog - INFO - func:save_fire_nplist took: 56.57 ms\n",
      "2024-03-20 20:09:12,410 - FireLog - INFO - func:save_fire_nplist took: 46.28 ms\n",
      "2024-03-20 20:09:12,453 - FireLog - INFO - func:save_fire_nplist took: 42.04 ms\n",
      "2024-03-20 20:09:12,500 - FireLog - INFO - func:save_fire_nplist took: 45.33 ms\n",
      "2024-03-20 20:09:12,603 - FireLog - INFO - func:save_fire_nplist took: 101.45 ms\n",
      "2024-03-20 20:09:12,650 - FireLog - INFO - func:save_fire_nplist took: 46.05 ms\n",
      "2024-03-20 20:09:12,743 - FireLog - INFO - func:save_fire_nplist took: 92.01 ms\n",
      "2024-03-20 20:09:12,886 - FireLog - INFO - func:save_fire_nplist took: 141.99 ms\n",
      "2024-03-20 20:09:13,016 - FireLog - INFO - func:save_fire_nplist took: 128.61 ms\n",
      "2024-03-20 20:09:13,130 - FireLog - INFO - func:save_fire_nplist took: 112.92 ms\n",
      "2024-03-20 20:09:13,178 - FireLog - INFO - func:save_fire_nplist took: 46.31 ms\n",
      "2024-03-20 20:09:13,223 - FireLog - INFO - func:save_fire_nplist took: 43.52 ms\n",
      "2024-03-20 20:09:13,267 - FireLog - INFO - func:save_fire_nplist took: 42.58 ms\n",
      "2024-03-20 20:09:13,305 - FireLog - INFO - func:save_fire_nplist took: 36.98 ms\n",
      "2024-03-20 20:09:13,357 - FireLog - INFO - func:save_fire_nplist took: 50.98 ms\n",
      "2024-03-20 20:09:13,401 - FireLog - INFO - func:save_fire_nplist took: 42.85 ms\n"
     ]
    },
    {
     "name": "stdout",
     "output_type": "stream",
     "text": [
      "CPU times: user 1.23 s, sys: 45.3 ms, total: 1.27 s\n",
      "Wall time: 3 s\n"
     ]
    }
   ],
   "source": [
    "%%time\n",
    "for fid in large_fires:\n",
    "    data = allpixels[allpixels[\"fid\"] == fid]\n",
    "    postprocess.save_fire_nplist(data, region, fid, tst)"
   ]
  },
  {
   "cell_type": "markdown",
   "id": "308bd400-ae4e-40aa-86b0-8f0986d34062",
   "metadata": {},
   "source": [
    "The rest of the layers will be created directly from the `allfires_gdf`\n",
    "\n",
    "First let's do a naive version without the merge fixups"
   ]
  },
  {
   "cell_type": "code",
   "execution_count": 7,
   "id": "44990ba3-e2fd-4660-9787-069de89a4994",
   "metadata": {},
   "outputs": [
    {
     "name": "stderr",
     "output_type": "stream",
     "text": [
      "2024-03-20 20:09:18,003 - FireLog - INFO - func:save_fire_layers took: 143.39 ms\n",
      "2024-03-20 20:09:18,128 - FireLog - INFO - func:save_fire_layers took: 123.41 ms\n",
      "2024-03-20 20:09:18,274 - FireLog - INFO - func:save_fire_layers took: 145.08 ms\n",
      "2024-03-20 20:09:18,396 - FireLog - INFO - func:save_fire_layers took: 121.00 ms\n",
      "2024-03-20 20:09:18,516 - FireLog - INFO - func:save_fire_layers took: 119.14 ms\n",
      "2024-03-20 20:09:18,627 - FireLog - INFO - func:save_fire_layers took: 110.16 ms\n",
      "2024-03-20 20:09:18,737 - FireLog - INFO - func:save_fire_layers took: 109.87 ms\n",
      "2024-03-20 20:09:18,841 - FireLog - INFO - func:save_fire_layers took: 102.53 ms\n",
      "2024-03-20 20:09:18,959 - FireLog - INFO - func:save_fire_layers took: 117.24 ms\n",
      "2024-03-20 20:09:19,066 - FireLog - INFO - func:save_fire_layers took: 106.50 ms\n",
      "2024-03-20 20:09:19,227 - FireLog - INFO - func:save_fire_layers took: 160.18 ms\n",
      "2024-03-20 20:09:19,347 - FireLog - INFO - func:save_fire_layers took: 119.18 ms\n",
      "2024-03-20 20:09:19,454 - FireLog - INFO - func:save_fire_layers took: 105.16 ms\n",
      "2024-03-20 20:09:19,563 - FireLog - INFO - func:save_fire_layers took: 108.57 ms\n",
      "2024-03-20 20:09:19,688 - FireLog - INFO - func:save_fire_layers took: 123.98 ms\n",
      "2024-03-20 20:09:19,797 - FireLog - INFO - func:save_fire_layers took: 108.57 ms\n",
      "2024-03-20 20:09:19,936 - FireLog - INFO - func:save_fire_layers took: 137.49 ms\n",
      "2024-03-20 20:09:20,089 - FireLog - INFO - func:save_fire_layers took: 152.52 ms\n",
      "2024-03-20 20:09:20,248 - FireLog - INFO - func:save_fire_layers took: 157.56 ms\n",
      "2024-03-20 20:09:20,412 - FireLog - INFO - func:save_fire_layers took: 163.57 ms\n",
      "2024-03-20 20:09:20,515 - FireLog - INFO - func:save_fire_layers took: 102.25 ms\n",
      "2024-03-20 20:09:20,634 - FireLog - INFO - func:save_fire_layers took: 117.55 ms\n",
      "2024-03-20 20:09:20,747 - FireLog - INFO - func:save_fire_layers took: 112.36 ms\n",
      "2024-03-20 20:09:20,854 - FireLog - INFO - func:save_fire_layers took: 106.14 ms\n",
      "2024-03-20 20:09:20,960 - FireLog - INFO - func:save_fire_layers took: 105.01 ms\n",
      "2024-03-20 20:09:21,063 - FireLog - INFO - func:save_fire_layers took: 102.24 ms\n",
      "2024-03-20 20:09:21,163 - FireLog - INFO - func:save_fire_layers took: 99.06 ms\n",
      "2024-03-20 20:09:21,264 - FireLog - INFO - func:save_fire_layers took: 100.42 ms\n",
      "2024-03-20 20:09:21,369 - FireLog - INFO - func:save_fire_layers took: 103.26 ms\n",
      "2024-03-20 20:09:21,472 - FireLog - INFO - func:save_fire_layers took: 101.79 ms\n",
      "2024-03-20 20:09:21,577 - FireLog - INFO - func:save_fire_layers took: 104.21 ms\n",
      "2024-03-20 20:09:21,682 - FireLog - INFO - func:save_fire_layers took: 104.75 ms\n",
      "2024-03-20 20:09:21,788 - FireLog - INFO - func:save_fire_layers took: 105.29 ms\n",
      "2024-03-20 20:09:21,898 - FireLog - INFO - func:save_fire_layers took: 108.85 ms\n",
      "2024-03-20 20:09:22,030 - FireLog - INFO - func:save_fire_layers took: 131.09 ms\n",
      "2024-03-20 20:09:22,131 - FireLog - INFO - func:save_fire_layers took: 100.07 ms\n",
      "2024-03-20 20:09:22,240 - FireLog - INFO - func:save_fire_layers took: 107.68 ms\n",
      "2024-03-20 20:09:22,346 - FireLog - INFO - func:save_fire_layers took: 105.35 ms\n",
      "2024-03-20 20:09:22,453 - FireLog - INFO - func:save_fire_layers took: 106.29 ms\n",
      "2024-03-20 20:09:22,558 - FireLog - INFO - func:save_fire_layers took: 103.87 ms\n",
      "2024-03-20 20:09:22,664 - FireLog - INFO - func:save_fire_layers took: 105.04 ms\n",
      "2024-03-20 20:09:22,779 - FireLog - INFO - func:save_fire_layers took: 114.07 ms\n",
      "2024-03-20 20:09:22,883 - FireLog - INFO - func:save_fire_layers took: 102.68 ms\n",
      "2024-03-20 20:09:22,987 - FireLog - INFO - func:save_fire_layers took: 103.57 ms\n",
      "2024-03-20 20:09:23,089 - FireLog - INFO - func:save_fire_layers took: 100.63 ms\n",
      "2024-03-20 20:09:23,199 - FireLog - INFO - func:save_fire_layers took: 109.58 ms\n",
      "2024-03-20 20:09:23,301 - FireLog - INFO - func:save_fire_layers took: 100.72 ms\n",
      "2024-03-20 20:09:23,416 - FireLog - INFO - func:save_fire_layers took: 114.36 ms\n",
      "2024-03-20 20:09:23,518 - FireLog - INFO - func:save_fire_layers took: 100.79 ms\n",
      "2024-03-20 20:09:23,628 - FireLog - INFO - func:save_fire_layers took: 108.72 ms\n"
     ]
    },
    {
     "name": "stdout",
     "output_type": "stream",
     "text": [
      "CPU times: user 1.8 s, sys: 83.1 ms, total: 1.89 s\n",
      "Wall time: 5.78 s\n"
     ]
    }
   ],
   "source": [
    "%%time\n",
    "gdf = allfires_gdf.reset_index().copy()\n",
    "for fid, data in gdf[gdf[\"fireID\"].isin(large_fires)].groupby(\"fireID\"):\n",
    "    postprocess.save_fire_layers(data, region, fid, tst)"
   ]
  },
  {
   "cell_type": "markdown",
   "id": "8872d261-814d-4b35-a4a7-da32a25f3c7d",
   "metadata": {},
   "source": [
    "Now let's do the merge as well"
   ]
  },
  {
   "cell_type": "code",
   "execution_count": 8,
   "id": "09f77f34-e642-4de7-872c-3ba8b7d9a4c3",
   "metadata": {},
   "outputs": [
    {
     "name": "stderr",
     "output_type": "stream",
     "text": [
      "2024-03-20 20:09:30,434 - FireLog - INFO - func:save_fire_layers took: 156.27 ms\n",
      "2024-03-20 20:09:30,452 - FireLog - INFO - func:merge_rows took: 16.54 ms\n"
     ]
    },
    {
     "name": "stdout",
     "output_type": "stream",
     "text": [
      "77 rows that potentially need a merge\n"
     ]
    },
    {
     "name": "stderr",
     "output_type": "stream",
     "text": [
      "2024-03-20 20:09:30,596 - FireLog - INFO - func:save_fire_layers took: 143.74 ms\n",
      "2024-03-20 20:09:30,755 - FireLog - INFO - func:save_fire_layers took: 157.60 ms\n",
      "2024-03-20 20:09:30,891 - FireLog - INFO - func:save_fire_layers took: 134.75 ms\n",
      "2024-03-20 20:09:30,916 - FireLog - INFO - func:merge_rows took: 23.60 ms\n",
      "2024-03-20 20:09:31,043 - FireLog - INFO - func:save_fire_layers took: 127.26 ms\n",
      "2024-03-20 20:09:31,059 - FireLog - INFO - func:merge_rows took: 14.59 ms\n",
      "2024-03-20 20:09:31,181 - FireLog - INFO - func:save_fire_layers took: 121.75 ms\n",
      "2024-03-20 20:09:31,304 - FireLog - INFO - func:save_fire_layers took: 121.05 ms\n",
      "2024-03-20 20:09:31,429 - FireLog - INFO - func:save_fire_layers took: 124.26 ms\n",
      "2024-03-20 20:09:31,560 - FireLog - INFO - func:save_fire_layers took: 129.78 ms\n",
      "2024-03-20 20:09:31,684 - FireLog - INFO - func:save_fire_layers took: 122.40 ms\n",
      "2024-03-20 20:09:31,839 - FireLog - INFO - func:save_fire_layers took: 154.14 ms\n",
      "2024-03-20 20:09:31,964 - FireLog - INFO - func:save_fire_layers took: 123.79 ms\n",
      "2024-03-20 20:09:32,087 - FireLog - INFO - func:save_fire_layers took: 121.85 ms\n",
      "2024-03-20 20:09:32,211 - FireLog - INFO - func:save_fire_layers took: 122.94 ms\n",
      "2024-03-20 20:09:32,355 - FireLog - INFO - func:save_fire_layers took: 142.76 ms\n",
      "2024-03-20 20:09:32,494 - FireLog - INFO - func:save_fire_layers took: 138.38 ms\n",
      "2024-03-20 20:09:32,650 - FireLog - INFO - func:save_fire_layers took: 154.31 ms\n",
      "2024-03-20 20:09:32,713 - FireLog - INFO - func:merge_rows took: 62.04 ms\n",
      "2024-03-20 20:09:32,926 - FireLog - INFO - func:save_fire_layers took: 212.43 ms\n",
      "2024-03-20 20:09:33,097 - FireLog - INFO - func:save_fire_layers took: 169.61 ms\n",
      "2024-03-20 20:09:33,113 - FireLog - INFO - func:merge_rows took: 15.22 ms\n",
      "2024-03-20 20:09:33,289 - FireLog - INFO - func:save_fire_layers took: 175.86 ms\n",
      "2024-03-20 20:09:33,422 - FireLog - INFO - func:save_fire_layers took: 131.37 ms\n",
      "2024-03-20 20:09:33,574 - FireLog - INFO - func:save_fire_layers took: 150.11 ms\n",
      "2024-03-20 20:09:33,607 - FireLog - INFO - func:merge_rows took: 32.09 ms\n",
      "2024-03-20 20:09:33,751 - FireLog - INFO - func:save_fire_layers took: 143.50 ms\n",
      "2024-03-20 20:09:33,791 - FireLog - INFO - func:merge_rows took: 39.50 ms\n",
      "2024-03-20 20:09:33,938 - FireLog - INFO - func:save_fire_layers took: 145.69 ms\n",
      "2024-03-20 20:09:34,074 - FireLog - INFO - func:save_fire_layers took: 135.03 ms\n",
      "2024-03-20 20:09:34,202 - FireLog - INFO - func:save_fire_layers took: 126.94 ms\n",
      "2024-03-20 20:09:34,331 - FireLog - INFO - func:save_fire_layers took: 127.86 ms\n",
      "2024-03-20 20:09:34,459 - FireLog - INFO - func:save_fire_layers took: 127.22 ms\n",
      "2024-03-20 20:09:34,475 - FireLog - INFO - func:merge_rows took: 15.08 ms\n",
      "2024-03-20 20:09:34,609 - FireLog - INFO - func:save_fire_layers took: 132.91 ms\n",
      "2024-03-20 20:09:34,731 - FireLog - INFO - func:save_fire_layers took: 121.36 ms\n",
      "2024-03-20 20:09:34,859 - FireLog - INFO - func:save_fire_layers took: 126.60 ms\n",
      "2024-03-20 20:09:34,996 - FireLog - INFO - func:save_fire_layers took: 136.02 ms\n",
      "2024-03-20 20:09:35,123 - FireLog - INFO - func:save_fire_layers took: 125.76 ms\n",
      "2024-03-20 20:09:35,251 - FireLog - INFO - func:save_fire_layers took: 126.91 ms\n",
      "2024-03-20 20:09:35,369 - FireLog - INFO - func:save_fire_layers took: 116.89 ms\n",
      "2024-03-20 20:09:35,494 - FireLog - INFO - func:save_fire_layers took: 123.97 ms\n",
      "2024-03-20 20:09:35,618 - FireLog - INFO - func:save_fire_layers took: 122.64 ms\n",
      "2024-03-20 20:09:35,741 - FireLog - INFO - func:save_fire_layers took: 121.66 ms\n",
      "2024-03-20 20:09:35,867 - FireLog - INFO - func:save_fire_layers took: 124.97 ms\n",
      "2024-03-20 20:09:35,993 - FireLog - INFO - func:save_fire_layers took: 124.96 ms\n",
      "2024-03-20 20:09:36,120 - FireLog - INFO - func:save_fire_layers took: 126.16 ms\n",
      "2024-03-20 20:09:36,257 - FireLog - INFO - func:save_fire_layers took: 135.62 ms\n",
      "2024-03-20 20:09:36,396 - FireLog - INFO - func:save_fire_layers took: 137.98 ms\n",
      "2024-03-20 20:09:36,514 - FireLog - INFO - func:save_fire_layers took: 116.78 ms\n",
      "2024-03-20 20:09:36,631 - FireLog - INFO - func:save_fire_layers took: 115.68 ms\n",
      "2024-03-20 20:09:36,756 - FireLog - INFO - func:save_fire_layers took: 124.35 ms\n",
      "2024-03-20 20:09:36,879 - FireLog - INFO - func:save_fire_layers took: 121.25 ms\n",
      "2024-03-20 20:09:37,012 - FireLog - INFO - func:save_fire_layers took: 132.53 ms\n",
      "2024-03-20 20:09:37,137 - FireLog - INFO - func:save_fire_layers took: 123.05 ms\n",
      "2024-03-20 20:09:37,264 - FireLog - INFO - func:save_fire_layers took: 126.44 ms\n",
      "2024-03-20 20:09:37,265 - FireLog - INFO - func:save_large_fires_layers took: 6.99 sec\n"
     ]
    },
    {
     "name": "stdout",
     "output_type": "stream",
     "text": [
      "CPU times: user 2.09 s, sys: 119 ms, total: 2.2 s\n",
      "Wall time: 7 s\n"
     ]
    }
   ],
   "source": [
    "%%time\n",
    "postprocess.save_large_fires_layers(allfires_gdf, region, large_fires, tst)"
   ]
  },
  {
   "cell_type": "markdown",
   "id": "d287e445-b323-4a4e-974a-d38307b7fafb",
   "metadata": {},
   "source": [
    "## Merge Experiments\n",
    "\n",
    "These ones need some merge help:"
   ]
  },
  {
   "cell_type": "code",
   "execution_count": 9,
   "id": "5df5833e-4d29-473c-8bf3-9c41b25b7e92",
   "metadata": {},
   "outputs": [
    {
     "name": "stdout",
     "output_type": "stream",
     "text": [
      "77 rows that potentially need a merge\n"
     ]
    }
   ],
   "source": [
    "merge_needed = (gdf.mergeid != gdf.fireID) & (gdf.invalid == False)\n",
    "print(f\"{merge_needed.sum()} rows that potentially need a merge\")\n",
    "\n",
    "# we'll set the \"fireID\" to \"mergeid\" in those spots\n",
    "gdf.loc[merge_needed, \"fireID\"] = gdf.loc[merge_needed, \"mergeid\"]"
   ]
  },
  {
   "cell_type": "markdown",
   "id": "292680e1-2331-4daa-aaae-5487551260c4",
   "metadata": {},
   "source": [
    "I have two different ideas of how to merge rows:\n",
    "\n",
    "1) The first version of the `merge_rows` function uses a unary union to join the hull and then recalculated the fline and the ftype.\n",
    "2) The second version of the `merge_rows` function uses code that is more similar to the existing merge function. It constructs a MultiGeometry out of the various geometry objects."
   ]
  },
  {
   "cell_type": "code",
   "execution_count": 10,
   "id": "15e24d17-f2f3-4837-9337-8fa404fb00c6",
   "metadata": {},
   "outputs": [],
   "source": [
    "@timed\n",
    "def merge_rows(data):\n",
    "    \"\"\"For a subset of allfires data containing only one fire, merge any\n",
    "    rows that have the same `t`\n",
    "    \"\"\"\n",
    "    \n",
    "    from shapely.ops import unary_union\n",
    "\n",
    "    dd = FireGpkg_sfs.getdd(\"all\")\n",
    "    output = data.set_index(\"t\").copy()\n",
    "    \n",
    "    # clean up any merges that are needed\n",
    "    for dt, rows in data[data.t.duplicated(False)].groupby(\"t\"):\n",
    "        f = FireObj.Fire(fid, FireTime.dt2t(dt), allpixels)\n",
    "        f.t_st = FireTime.dt2t(rows[\"t_st\"].min())\n",
    "        f.hull = unary_union(rows[\"hull\"].values)\n",
    "        \n",
    "        # this might be doing more work than it needs to\n",
    "        f.updatefline()\n",
    "\n",
    "        # ftype is unused in the output files\n",
    "        f.ftype = rows.ftype.iloc[0]\n",
    "    \n",
    "        for k, tp in dd.items():\n",
    "            if tp == \"datetime64[ns]\":\n",
    "                output.loc[dt, k] = FireTime.t2dt(getattr(f, k))\n",
    "            else:\n",
    "                output.loc[dt, k] = getattr(f, k)\n",
    "    \n",
    "    for k, tp in dd.items():\n",
    "        output[k] = output[k].astype(tp)\n",
    "        \n",
    "    return output.drop_duplicates().reset_index()"
   ]
  },
  {
   "cell_type": "code",
   "execution_count": 11,
   "id": "dee5c9ba-a76b-446e-9765-36078588fbbc",
   "metadata": {},
   "outputs": [],
   "source": [
    "@timed\n",
    "def merge_rows(data):\n",
    "    \"\"\"For a subset of allfires data containing only one fire, merge any\n",
    "    rows that have the same `t`\n",
    "    \"\"\"\n",
    "    output = data.drop_duplicates(subset=[\"t\"]).set_index(\"t\").copy()\n",
    "    \n",
    "    # clean up any merges that are needed\n",
    "    for dt, rows in data[data.t.duplicated(False)].groupby(\"t\"):\n",
    "        # first get the weighted sums for pixden and meanFRP\n",
    "        pixweight = (rows[\"pixden\"] * rows[\"farea\"]).sum()\n",
    "        FRPweight = (rows[\"meanFRP\"] * rows[\"n_pixels\"]).sum()\n",
    "        \n",
    "        for col in [\"n_pixels\", \"n_newpixels\", \"farea\", \"fperim\", \"flinelen\"]:\n",
    "            output.loc[dt, col] = rows[col].sum()\n",
    "\n",
    "        output.loc[dt, \"t_st\"] = rows[\"t_st\"].min()\n",
    "        output.loc[dt, \"pixden\"] = pixweight / output.loc[dt, \"farea\"]\n",
    "        output.loc[dt, \"meanFRP\"] = FRPweight / output.loc[dt, \"n_pixels\"]\n",
    "\n",
    "        dissolved = rows.dissolve()\n",
    "        for col in [\"hull\", \"fline\", \"nfp\"]:\n",
    "            output.loc[dt, col] = dissolved[col].item()\n",
    "        \n",
    "    return output.reset_index()"
   ]
  },
  {
   "cell_type": "markdown",
   "id": "ed89f39a-3584-4621-a269-221e90db29e9",
   "metadata": {},
   "source": [
    "## Experiments\n",
    "\n",
    "Does it make a big difference if you filter first rather than after?"
   ]
  },
  {
   "cell_type": "code",
   "execution_count": null,
   "id": "d3508587-0318-4e5f-926a-8bb89bfba655",
   "metadata": {},
   "outputs": [],
   "source": [
    "%%time\n",
    "for fid, data in gdf[gdf[\"fireID\"].isin(large_fires)].groupby(\"fireID\"):\n",
    "    f = fid"
   ]
  },
  {
   "cell_type": "code",
   "execution_count": null,
   "id": "787d37e5-0168-4dec-8182-06454dea7508",
   "metadata": {},
   "outputs": [],
   "source": [
    "%%time\n",
    "for fid, data in gdf.groupby(\"fireID\"):\n",
    "    if fid in large_fires:\n",
    "        f = fid"
   ]
  },
  {
   "cell_type": "code",
   "execution_count": null,
   "id": "178b5a35-b74f-4f5a-bf9d-8860404ebf2f",
   "metadata": {},
   "outputs": [],
   "source": [
    "%%time\n",
    "for fid in large_fires:\n",
    "    data = gdf[gdf[\"fireID\"] == fid]\n",
    "    f = fid"
   ]
  },
  {
   "cell_type": "code",
   "execution_count": null,
   "id": "5eb093a2-8bcd-4b90-bebe-92d9adac3b1c",
   "metadata": {},
   "outputs": [],
   "source": [
    "%%time\n",
    "for fid in large_fires:\n",
    "    data = allfires_gdf.loc[fid]\n",
    "    f = fid"
   ]
  },
  {
   "cell_type": "code",
   "execution_count": null,
   "id": "bdc6cccb-e9e4-4b9e-9cc4-4d7a962994a1",
   "metadata": {},
   "outputs": [],
   "source": []
  }
 ],
 "metadata": {
  "kernelspec": {
   "display_name": "Python 3 (ipykernel)",
   "language": "python",
   "name": "python3"
  },
  "language_info": {
   "codemirror_mode": {
    "name": "ipython",
    "version": 3
   },
   "file_extension": ".py",
   "mimetype": "text/x-python",
   "name": "python",
   "nbconvert_exporter": "python",
   "pygments_lexer": "ipython3",
   "version": "3.11.7"
  }
 },
 "nbformat": 4,
 "nbformat_minor": 5
}
