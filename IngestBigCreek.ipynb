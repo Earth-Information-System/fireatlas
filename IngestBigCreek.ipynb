{
 "cells": [
  {
   "cell_type": "code",
   "execution_count": 1,
   "id": "30ed1049-5466-4d04-bcef-ac0c8ffa1d6d",
   "metadata": {
    "tags": []
   },
   "outputs": [],
   "source": [
    "import preprocess"
   ]
  },
  {
   "cell_type": "code",
   "execution_count": 2,
   "id": "27a71fa5-d7cd-4f33-a962-9b09ba3e6433",
   "metadata": {
    "tags": []
   },
   "outputs": [],
   "source": [
    "tst = [2020, 9, 5, \"AM\"]\n",
    "ted =  [2020, 9, 8, \"AM\"]\n",
    "region = ('CreekSNPPPreprocess', [-119.5, 36.8, -118.9, 37.7])"
   ]
  },
  {
   "cell_type": "code",
   "execution_count": 3,
   "id": "204a5501-a2d5-481d-885d-0cfd0a7d9fb7",
   "metadata": {
    "tags": []
   },
   "outputs": [
    {
     "data": {
      "text/plain": [
       "[[2020, 9, 5, 'AM'],\n",
       " [2020, 9, 5, 'PM'],\n",
       " [2020, 9, 6, 'AM'],\n",
       " [2020, 9, 6, 'PM'],\n",
       " [2020, 9, 7, 'AM'],\n",
       " [2020, 9, 7, 'PM'],\n",
       " [2020, 9, 8, 'AM']]"
      ]
     },
     "execution_count": 3,
     "metadata": {},
     "output_type": "execute_result"
    }
   ],
   "source": [
    "import FireTime\n",
    "\n",
    "list_of_ts = list(FireTime.t_generator(tst, ted))\n",
    "list_of_ts"
   ]
  },
  {
   "cell_type": "code",
   "execution_count": null,
   "id": "cfc02dc1-e4f3-419c-a299-e3210a6741c4",
   "metadata": {
    "tags": []
   },
   "outputs": [],
   "source": [
    "!ls -lah ./tests/data/processed"
   ]
  },
  {
   "cell_type": "markdown",
   "id": "c5cbf654-16f4-4790-95e0-a90140e79e78",
   "metadata": {},
   "source": [
    "## Once per landcover file\n",
    "\n",
    "If your landcover file is not in lat,lon then transform it and resave it. You will use this file a bunch later on."
   ]
  },
  {
   "cell_type": "code",
   "execution_count": null,
   "id": "94bc6f4a-f61b-4d82-9e3b-d3749552c84c",
   "metadata": {
    "tags": []
   },
   "outputs": [],
   "source": [
    "preprocess.preprocess_landcover()"
   ]
  },
  {
   "cell_type": "markdown",
   "id": "5e54a2d4-b41b-4d53-a4ba-7a41f02799f5",
   "metadata": {},
   "source": [
    "## Once per region\n",
    "\n",
    "Preprocess the region to get rid of static flare sources. Save that new \"swiss cheese\" shape off into a geojson file for later."
   ]
  },
  {
   "cell_type": "code",
   "execution_count": null,
   "id": "1a3c495d-66fa-458f-8afb-01e982b0709a",
   "metadata": {
    "tags": []
   },
   "outputs": [],
   "source": [
    "preprocess.preprocess_region(region)"
   ]
  },
  {
   "cell_type": "code",
   "execution_count": null,
   "id": "58f33e76-5a13-4249-ba6f-8c5634315ca9",
   "metadata": {
    "tags": []
   },
   "outputs": [],
   "source": [
    "!ls -lah ./tests/data/processed/"
   ]
  },
  {
   "cell_type": "markdown",
   "id": "16bd857f-f57a-4fc3-9e49-2c9536c97019",
   "metadata": {},
   "source": [
    "## Once per input file\n",
    "\n",
    "Next process each NRT file into half day files. First we'll get all the times that are of interest. This could also be done by inspecting all looking at all the files that exist and seeing which have not been preprocessed yet."
   ]
  },
  {
   "cell_type": "code",
   "execution_count": null,
   "id": "20108f44-c081-4d81-8470-9bbbb9080482",
   "metadata": {
    "tags": []
   },
   "outputs": [],
   "source": [
    "# %%time\n",
    "# for sat in [\"SNPP\", \"NOAA20\"]:\n",
    "#     for t in list_of_ts[::2]:\n",
    "#         preprocess.preprocess_NRT_file(t, sat)"
   ]
  },
  {
   "cell_type": "code",
   "execution_count": null,
   "id": "864146bf-ee1e-4785-9106-9df1359f2aaf",
   "metadata": {
    "tags": []
   },
   "outputs": [],
   "source": [
    "%%time\n",
    "for sat in [\"SNPP\"]:\n",
    "    for t in list_of_ts[::2]:\n",
    "        preprocess.preprocess_monthly_file(t, sat)"
   ]
  },
  {
   "cell_type": "code",
   "execution_count": null,
   "id": "99969950-bf93-4c20-90bf-01b52b631f9e",
   "metadata": {
    "scrolled": true,
    "tags": []
   },
   "outputs": [],
   "source": [
    "!ls -lah ./tests/data/processed/SNPP/"
   ]
  },
  {
   "cell_type": "markdown",
   "id": "73f9065d-3519-4673-98e5-3afd0e29ab80",
   "metadata": {},
   "source": [
    "## Once per region and t\n",
    "\n",
    "Do initial filtering and clustering using the preprocessed region and the half day files.\n",
    "\n",
    "Note: for the purpose of timing I am running the full month, but each of these steps could run in a separate proccess."
   ]
  },
  {
   "cell_type": "code",
   "execution_count": 2,
   "id": "66bc471a-5176-4223-9b47-7c0ba124786b",
   "metadata": {
    "editable": true,
    "slideshow": {
     "slide_type": ""
    },
    "tags": []
   },
   "outputs": [
    {
     "ename": "NameError",
     "evalue": "name 'preprocess' is not defined",
     "output_type": "error",
     "traceback": [
      "\u001b[0;31m---------------------------------------------------------------------------\u001b[0m",
      "\u001b[0;31mNameError\u001b[0m                                 Traceback (most recent call last)",
      "Cell \u001b[0;32mIn[2], line 1\u001b[0m\n\u001b[0;32m----> 1\u001b[0m region \u001b[38;5;241m=\u001b[39m \u001b[43mpreprocess\u001b[49m\u001b[38;5;241m.\u001b[39mread_region(region)\n",
      "\u001b[0;31mNameError\u001b[0m: name 'preprocess' is not defined"
     ]
    }
   ],
   "source": [
    "region = preprocess.read_region(region)"
   ]
  },
  {
   "cell_type": "code",
   "execution_count": 5,
   "id": "8fed9ef4-0e1c-4817-901f-42575178b95a",
   "metadata": {
    "tags": []
   },
   "outputs": [],
   "source": [
    "# import FireIO, folium\n",
    "# region_shp = FireIO.get_reg_shp(region[1])\n",
    "# df = preprocess.read_preprocessed([2020, 9, 6, 'PM'], sat=\"SNPP\")\n",
    "# min_lat, max_lat = df['Lat'].min(), df['Lat'].max()\n",
    "# min_lon, max_lon = df['Lon'].min(), df['Lon'].max()\n",
    "# df_shp = FireIO.get_reg_shp([min_lon, min_lat, max_lon, max_lat])\n",
    "# mymap = folium.Map(zoom_start=7)\n",
    "\n",
    "# folium.GeoJson(df_shp, \n",
    "#                style_function=lambda x: {'fillColor': 'pin', 'color': 'red', 'weight': 2}).add_to(mymap)\n",
    "\n",
    "# for index, row in df.iterrows():\n",
    "#     folium.CircleMarker(location=[row['Lat'], row['Lon']],\n",
    "#                         radius=1,  # Define the circle size\n",
    "#                         color='red',\n",
    "#                         fill=True,\n",
    "#                         fill_color='red',\n",
    "#                         fill_opacity=0.6).add_to(mymap)\n",
    "\n",
    "# folium.GeoJson(region_shp, \n",
    "#                style_function=lambda x: {'color': 'cyan', 'weight': 2}).add_to(mymap)\n",
    "# mymap"
   ]
  },
  {
   "cell_type": "code",
   "execution_count": 4,
   "id": "5ed3b8b4-7330-48e4-a3ff-4ca4d56add2c",
   "metadata": {
    "editable": true,
    "scrolled": true,
    "slideshow": {
     "slide_type": ""
    },
    "tags": []
   },
   "outputs": [
    {
     "name": "stderr",
     "output_type": "stream",
     "text": [
      "2024-02-10 17:11:12,923 - FireLog - INFO - filtering and clustering 2020-9-5 AM, VIIRS, CreekSNPPPreprocess\n",
      "2024-02-10 17:11:12,956 - FireLog - INFO - func:read_preprocessed took: 31.81 ms\n",
      "2024-02-10 17:11:12,957 - FireLog - INFO - func:preprocess_region_t took: 34.10 ms\n",
      "2024-02-10 17:11:12,958 - FireLog - INFO - filtering and clustering 2020-9-5 PM, VIIRS, CreekSNPPPreprocess\n",
      "2024-02-10 17:11:13,051 - FireLog - INFO - func:read_preprocessed took: 93.27 ms\n",
      "2024-02-10 17:11:13,053 - FireLog - INFO - func:preprocess_region_t took: 95.52 ms\n",
      "2024-02-10 17:11:13,054 - FireLog - INFO - filtering and clustering 2020-9-6 AM, VIIRS, CreekSNPPPreprocess\n",
      "2024-02-10 17:11:13,088 - FireLog - INFO - func:read_preprocessed took: 34.16 ms\n",
      "2024-02-10 17:11:13,089 - FireLog - INFO - func:preprocess_region_t took: 35.34 ms\n",
      "2024-02-10 17:11:13,089 - FireLog - INFO - filtering and clustering 2020-9-6 PM, VIIRS, CreekSNPPPreprocess\n",
      "2024-02-10 17:11:13,152 - FireLog - INFO - func:read_preprocessed took: 61.92 ms\n",
      "2024-02-10 17:11:13,205 - FireLog - INFO - func:preprocess_region_t took: 115.92 ms\n",
      "2024-02-10 17:11:13,206 - FireLog - INFO - filtering and clustering 2020-9-7 AM, VIIRS, CreekSNPPPreprocess\n",
      "2024-02-10 17:11:13,235 - FireLog - INFO - func:read_preprocessed took: 28.47 ms\n",
      "2024-02-10 17:11:13,235 - FireLog - INFO - func:preprocess_region_t took: 29.57 ms\n",
      "2024-02-10 17:11:13,236 - FireLog - INFO - filtering and clustering 2020-9-7 PM, VIIRS, CreekSNPPPreprocess\n",
      "2024-02-10 17:11:13,311 - FireLog - INFO - func:read_preprocessed took: 75.29 ms\n",
      "2024-02-10 17:11:13,312 - FireLog - INFO - func:preprocess_region_t took: 76.77 ms\n",
      "2024-02-10 17:11:13,313 - FireLog - INFO - filtering and clustering 2020-9-8 AM, VIIRS, CreekSNPPPreprocess\n",
      "2024-02-10 17:11:13,353 - FireLog - INFO - func:read_preprocessed took: 39.38 ms\n",
      "2024-02-10 17:11:13,354 - FireLog - INFO - func:preprocess_region_t took: 40.67 ms\n"
     ]
    },
    {
     "name": "stdout",
     "output_type": "stream",
     "text": [
      "CPU times: user 347 ms, sys: 80.1 ms, total: 428 ms\n",
      "Wall time: 431 ms\n"
     ]
    },
    {
     "data": {
      "text/plain": [
       "[[2020, 9, 6, 'PM']]"
      ]
     },
     "execution_count": 4,
     "metadata": {},
     "output_type": "execute_result"
    }
   ],
   "source": [
    "%%time\n",
    "timestep_skips = []\n",
    "for t in list_of_ts:\n",
    "    outfile_path = preprocess.preprocess_region_t(t, sensor=\"VIIRS\", region=region)\n",
    "    # if outfile_path is None then there were no fire pixels so we need to skip this timestep in later processing\n",
    "    if outfile_path is None:\n",
    "        timestep_skips.append(t)\n",
    "timestep_skips"
   ]
  },
  {
   "cell_type": "code",
   "execution_count": 5,
   "id": "3a464091-fc16-47a0-bde4-775c27efd844",
   "metadata": {
    "scrolled": true,
    "tags": []
   },
   "outputs": [
    {
     "name": "stdout",
     "output_type": "stream",
     "text": [
      "total 1.2M\n",
      "drwxr-xr-x 2 root root 6.0K Feb 10 16:54 .\n",
      "drwxr-xr-x 3 root root 6.0K Feb  9 23:08 ..\n",
      "-rw-r--r-- 1 root root 5.8K Feb  9 23:08 20200905_AM.txt\n",
      "-rw-r--r-- 1 root root  59K Feb  9 23:08 20200905_PM.txt\n",
      "-rw-r--r-- 1 root root 329K Feb  9 23:08 20200906_AM.txt\n",
      "-rw-r--r-- 1 root root 259K Feb 10 16:54 20200907_AM.txt\n",
      "-rw-r--r-- 1 root root 113K Feb 10 16:54 20200907_PM.txt\n",
      "-rw-r--r-- 1 root root 437K Feb 10 16:54 20200908_AM.txt\n"
     ]
    }
   ],
   "source": [
    "!ls -lah ./tests/data/processed/VIIRS/CreekSNPPPreprocess"
   ]
  },
  {
   "cell_type": "markdown",
   "id": "091354d9-56fa-47d1-93ca-2c951b2dc385",
   "metadata": {},
   "source": [
    "## Use FireRun test"
   ]
  },
  {
   "cell_type": "code",
   "execution_count": 6,
   "id": "df80d40f-97c9-4d4b-9308-863f34251a57",
   "metadata": {
    "tags": []
   },
   "outputs": [
    {
     "name": "stderr",
     "output_type": "stream",
     "text": [
      "2024-02-10 17:11:24,172 - FireLog - INFO - STARTING RUN FOR CreekSNPPPreprocess\n",
      "2024-02-10 17:11:24,183 - FireLog - INFO - func:read_preprocessed took: 2.49 ms\n",
      "2024-02-10 17:11:24,188 - FireLog - INFO - func:read_preprocessed took: 3.05 ms\n",
      "2024-02-10 17:11:24,198 - FireLog - INFO - func:read_preprocessed took: 8.33 ms\n",
      "2024-02-10 17:11:24,206 - FireLog - INFO - func:read_preprocessed took: 6.81 ms\n",
      "2024-02-10 17:11:24,212 - FireLog - INFO - func:read_preprocessed took: 3.60 ms\n",
      "2024-02-10 17:11:24,222 - FireLog - INFO - func:read_preprocessed took: 8.32 ms\n",
      "2024-02-10 17:11:24,225 - FireLog - INFO - --------------------\n",
      "2024-02-10 17:11:24,225 - FireLog - INFO - Fire tracking at [2020, 9, 5, 'AM']\n",
      "2024-02-10 17:11:24,782 - FireLog - INFO - func:Fire_expand_rtree took: 554.81 ms\n",
      "2024-02-10 17:11:24,784 - FireLog - INFO - func:Fire_merge_rtree took: 0.66 ms\n",
      "2024-02-10 17:11:24,785 - FireLog - INFO - func:invalidate_statfires took: 1.13 ms\n",
      "2024-02-10 17:11:24,786 - FireLog - INFO - fids_expand: 0\n",
      "2024-02-10 17:11:24,786 - FireLog - INFO - fids_new: 1\n",
      "2024-02-10 17:11:24,786 - FireLog - INFO - fids_merged: 0\n",
      "2024-02-10 17:11:24,787 - FireLog - INFO - fids_invalid: 0\n",
      "2024-02-10 17:11:24,800 - FireLog - INFO - func:update_gdf took: 13.26 ms\n",
      "2024-02-10 17:11:24,801 - FireLog - INFO - func:Fire_Forward_one_step took: 575.71 ms\n",
      "2024-02-10 17:11:24,801 - FireLog - INFO - --------------------\n",
      "2024-02-10 17:11:24,802 - FireLog - INFO - Fire tracking at [2020, 9, 5, 'PM']\n",
      "2024-02-10 17:11:25,119 - FireLog - INFO - func:Fire_expand_rtree took: 316.64 ms\n",
      "2024-02-10 17:11:25,459 - FireLog - INFO - func:Fire_merge_rtree took: 339.33 ms\n",
      "2024-02-10 17:11:25,461 - FireLog - INFO - func:invalidate_statfires took: 1.03 ms\n",
      "2024-02-10 17:11:25,461 - FireLog - INFO - fids_expand: 1\n",
      "2024-02-10 17:11:25,462 - FireLog - INFO - fids_new: 3\n",
      "2024-02-10 17:11:25,462 - FireLog - INFO - fids_merged: 1\n",
      "2024-02-10 17:11:25,463 - FireLog - INFO - fids_invalid: 3\n",
      "2024-02-10 17:11:25,500 - FireLog - INFO - func:update_gdf took: 36.89 ms\n",
      "2024-02-10 17:11:25,500 - FireLog - INFO - func:Fire_Forward_one_step took: 699.08 ms\n",
      "2024-02-10 17:11:25,501 - FireLog - INFO - --------------------\n",
      "2024-02-10 17:11:25,501 - FireLog - INFO - Fire tracking at [2020, 9, 6, 'AM']\n",
      "2024-02-10 17:11:26,506 - FireLog - INFO - func:Fire_expand_rtree took: 1.00 sec\n",
      "2024-02-10 17:11:28,754 - FireLog - INFO - func:Fire_merge_rtree took: 2.25 sec\n",
      "2024-02-10 17:11:28,756 - FireLog - INFO - func:invalidate_statfires took: 1.21 ms\n",
      "2024-02-10 17:11:28,756 - FireLog - INFO - fids_expand: 1\n",
      "2024-02-10 17:11:28,756 - FireLog - INFO - fids_new: 5\n",
      "2024-02-10 17:11:28,757 - FireLog - INFO - fids_merged: 1\n",
      "2024-02-10 17:11:28,757 - FireLog - INFO - fids_invalid: 5\n",
      "2024-02-10 17:11:28,831 - FireLog - INFO - func:update_gdf took: 72.43 ms\n",
      "2024-02-10 17:11:28,831 - FireLog - INFO - func:Fire_Forward_one_step took: 3.33 sec\n",
      "2024-02-10 17:11:28,832 - FireLog - INFO - --------------------\n",
      "2024-02-10 17:11:28,832 - FireLog - INFO - Fire tracking at [2020, 9, 6, 'PM']\n",
      "2024-02-10 17:11:28,834 - FireLog - INFO - func:invalidate_statfires took: 0.86 ms\n",
      "2024-02-10 17:11:28,835 - FireLog - INFO - fids_expand: 0\n",
      "2024-02-10 17:11:28,835 - FireLog - INFO - fids_new: 0\n",
      "2024-02-10 17:11:28,835 - FireLog - INFO - fids_merged: 0\n",
      "2024-02-10 17:11:28,836 - FireLog - INFO - fids_invalid: 0\n",
      "2024-02-10 17:11:28,841 - FireLog - INFO - func:update_gdf took: 3.99 ms\n",
      "2024-02-10 17:11:28,841 - FireLog - INFO - func:Fire_Forward_one_step took: 9.35 ms\n",
      "2024-02-10 17:11:28,841 - FireLog - INFO - --------------------\n",
      "2024-02-10 17:11:28,842 - FireLog - INFO - Fire tracking at [2020, 9, 7, 'AM']\n",
      "2024-02-10 17:11:29,555 - FireLog - INFO - func:Fire_expand_rtree took: 712.03 ms\n",
      "2024-02-10 17:11:29,558 - FireLog - INFO - func:Fire_merge_rtree took: 1.64 ms\n",
      "2024-02-10 17:11:29,560 - FireLog - INFO - func:invalidate_statfires took: 1.49 ms\n",
      "2024-02-10 17:11:29,560 - FireLog - INFO - fids_expand: 1\n",
      "2024-02-10 17:11:29,560 - FireLog - INFO - fids_new: 0\n",
      "2024-02-10 17:11:29,561 - FireLog - INFO - fids_merged: 0\n",
      "2024-02-10 17:11:29,561 - FireLog - INFO - fids_invalid: 0\n",
      "2024-02-10 17:11:29,596 - FireLog - INFO - func:update_gdf took: 34.37 ms\n",
      "2024-02-10 17:11:29,596 - FireLog - INFO - func:Fire_Forward_one_step took: 754.85 ms\n",
      "2024-02-10 17:11:29,597 - FireLog - INFO - --------------------\n",
      "2024-02-10 17:11:29,597 - FireLog - INFO - Fire tracking at [2020, 9, 7, 'PM']\n",
      "2024-02-10 17:11:29,927 - FireLog - INFO - func:Fire_expand_rtree took: 328.55 ms\n",
      "2024-02-10 17:11:29,929 - FireLog - INFO - func:Fire_merge_rtree took: 1.73 ms\n",
      "2024-02-10 17:11:29,931 - FireLog - INFO - func:invalidate_statfires took: 1.41 ms\n",
      "2024-02-10 17:11:29,932 - FireLog - INFO - fids_expand: 1\n",
      "2024-02-10 17:11:29,932 - FireLog - INFO - fids_new: 0\n",
      "2024-02-10 17:11:29,932 - FireLog - INFO - fids_merged: 0\n",
      "2024-02-10 17:11:29,933 - FireLog - INFO - fids_invalid: 0\n",
      "2024-02-10 17:11:29,956 - FireLog - INFO - func:update_gdf took: 22.54 ms\n",
      "2024-02-10 17:11:29,956 - FireLog - INFO - func:Fire_Forward_one_step took: 359.55 ms\n",
      "2024-02-10 17:11:29,957 - FireLog - INFO - --------------------\n",
      "2024-02-10 17:11:29,957 - FireLog - INFO - Fire tracking at [2020, 9, 8, 'AM']\n",
      "2024-02-10 17:11:31,065 - FireLog - INFO - func:Fire_expand_rtree took: 1.11 sec\n",
      "2024-02-10 17:11:31,069 - FireLog - INFO - func:Fire_merge_rtree took: 2.54 ms\n",
      "2024-02-10 17:11:31,071 - FireLog - INFO - func:invalidate_statfires took: 2.22 ms\n",
      "2024-02-10 17:11:31,072 - FireLog - INFO - fids_expand: 1\n",
      "2024-02-10 17:11:31,072 - FireLog - INFO - fids_new: 1\n",
      "2024-02-10 17:11:31,072 - FireLog - INFO - fids_merged: 0\n",
      "2024-02-10 17:11:31,073 - FireLog - INFO - fids_invalid: 0\n",
      "2024-02-10 17:11:31,129 - FireLog - INFO - func:update_gdf took: 55.48 ms\n",
      "2024-02-10 17:11:31,129 - FireLog - INFO - func:Fire_Forward_one_step took: 1.17 sec\n",
      "2024-02-10 17:11:31,129 - FireLog - INFO - func:Fire_Forward took: 6.96 sec\n",
      "2024-02-10 17:11:31,130 - FireLog - INFO - func:ProcessNRT took: 6.98 sec\n"
     ]
    }
   ],
   "source": [
    "from FireRun import ProcessNRT\n",
    "\n",
    "allfires_tuple = ProcessNRT(region[0], tst, ted, timestep_skips)\n",
    "allfires = allfires_tuple[0]"
   ]
  },
  {
   "cell_type": "markdown",
   "id": "01ab5572-6511-4b87-9a69-7db28cb72f36",
   "metadata": {
    "execution": {
     "iopub.execute_input": "2024-01-24T22:27:41.929188Z",
     "iopub.status.busy": "2024-01-24T22:27:41.928952Z",
     "iopub.status.idle": "2024-01-24T22:27:41.932259Z",
     "shell.execute_reply": "2024-01-24T22:27:41.931921Z",
     "shell.execute_reply.started": "2024-01-24T22:27:41.929171Z"
    }
   },
   "source": [
    "From the logs that Eli shared we expect that for [2023, 9, 6, 'AM'] we should have:\n",
    "\n",
    "```python\n",
    "actual_fids_expand = 260\n",
    "actual_fids_new = 131\n",
    "actual_fids_merged = 6\n",
    "actual_fids_invalid = 44\n",
    "```"
   ]
  },
  {
   "cell_type": "code",
   "execution_count": 7,
   "id": "1871d359-1c2c-4ca1-aeb3-43c7d9d52268",
   "metadata": {
    "tags": []
   },
   "outputs": [
    {
     "data": {
      "text/plain": [
       "<Allfires at t=[2020, 9, 8, 'AM'] with n_fires=10>"
      ]
     },
     "execution_count": 7,
     "metadata": {},
     "output_type": "execute_result"
    }
   ],
   "source": [
    "allfires"
   ]
  },
  {
   "cell_type": "markdown",
   "id": "a84a8656-22c8-4575-bf3b-1063ed7212b0",
   "metadata": {},
   "source": [
    "Find a big fire"
   ]
  },
  {
   "cell_type": "code",
   "execution_count": 8,
   "id": "feac5d89-1336-4657-8e41-ee15fb8e320c",
   "metadata": {
    "tags": []
   },
   "outputs": [
    {
     "data": {
      "text/plain": [
       "{1: 7191}"
      ]
     },
     "execution_count": 8,
     "metadata": {},
     "output_type": "execute_result"
    }
   ],
   "source": [
    "{fid: fire.n_pixels for fid, fire in allfires.fires.items() if fire.n_pixels > 1000}"
   ]
  },
  {
   "cell_type": "code",
   "execution_count": 9,
   "id": "335f709f-cae5-49b3-92e2-fba3822a13d0",
   "metadata": {
    "editable": true,
    "slideshow": {
     "slide_type": ""
    },
    "tags": []
   },
   "outputs": [
    {
     "data": {
      "text/html": [
       "<div>\n",
       "<style scoped>\n",
       "    .dataframe tbody tr th:only-of-type {\n",
       "        vertical-align: middle;\n",
       "    }\n",
       "\n",
       "    .dataframe tbody tr th {\n",
       "        vertical-align: top;\n",
       "    }\n",
       "\n",
       "    .dataframe thead th {\n",
       "        text-align: right;\n",
       "    }\n",
       "</style>\n",
       "<table border=\"1\" class=\"dataframe\">\n",
       "  <thead>\n",
       "    <tr style=\"text-align: right;\">\n",
       "      <th></th>\n",
       "      <th>Lat</th>\n",
       "      <th>Lon</th>\n",
       "      <th>FRP</th>\n",
       "      <th>Sat</th>\n",
       "      <th>DT</th>\n",
       "      <th>DS</th>\n",
       "      <th>YYYYMMDD_HHMM</th>\n",
       "      <th>ampm</th>\n",
       "      <th>x</th>\n",
       "      <th>y</th>\n",
       "      <th>initial_cid</th>\n",
       "      <th>t</th>\n",
       "      <th>fid</th>\n",
       "      <th>in_fline</th>\n",
       "    </tr>\n",
       "    <tr>\n",
       "      <th>uuid</th>\n",
       "      <th></th>\n",
       "      <th></th>\n",
       "      <th></th>\n",
       "      <th></th>\n",
       "      <th></th>\n",
       "      <th></th>\n",
       "      <th></th>\n",
       "      <th></th>\n",
       "      <th></th>\n",
       "      <th></th>\n",
       "      <th></th>\n",
       "      <th></th>\n",
       "      <th></th>\n",
       "      <th></th>\n",
       "    </tr>\n",
       "  </thead>\n",
       "  <tbody>\n",
       "    <tr>\n",
       "      <th>40a52a22-3124-4a1e-9d23-f55d3923bfb7</th>\n",
       "      <td>37.201797</td>\n",
       "      <td>-119.271812</td>\n",
       "      <td>21.04</td>\n",
       "      <td>SNPP</td>\n",
       "      <td>0.442377</td>\n",
       "      <td>0.385693</td>\n",
       "      <td>2020-09-05 10:00:00</td>\n",
       "      <td>AM</td>\n",
       "      <td>-1.692131e+06</td>\n",
       "      <td>-670256.379954</td>\n",
       "      <td>0</td>\n",
       "      <td>2020-09-05</td>\n",
       "      <td>1</td>\n",
       "      <td>True</td>\n",
       "    </tr>\n",
       "    <tr>\n",
       "      <th>1a854aa0-2338-40a0-a4ed-551502e0d263</th>\n",
       "      <td>37.199169</td>\n",
       "      <td>-119.277367</td>\n",
       "      <td>4.98</td>\n",
       "      <td>SNPP</td>\n",
       "      <td>0.442199</td>\n",
       "      <td>0.385621</td>\n",
       "      <td>2020-09-05 10:00:00</td>\n",
       "      <td>AM</td>\n",
       "      <td>-1.692670e+06</td>\n",
       "      <td>-670430.137837</td>\n",
       "      <td>0</td>\n",
       "      <td>2020-09-05</td>\n",
       "      <td>1</td>\n",
       "      <td>True</td>\n",
       "    </tr>\n",
       "    <tr>\n",
       "      <th>6a5caba4-8db1-40c9-a5db-397ca3a1d85f</th>\n",
       "      <td>37.198254</td>\n",
       "      <td>-119.272469</td>\n",
       "      <td>21.04</td>\n",
       "      <td>SNPP</td>\n",
       "      <td>0.442377</td>\n",
       "      <td>0.385693</td>\n",
       "      <td>2020-09-05 10:00:00</td>\n",
       "      <td>AM</td>\n",
       "      <td>-1.692271e+06</td>\n",
       "      <td>-670629.547556</td>\n",
       "      <td>0</td>\n",
       "      <td>2020-09-05</td>\n",
       "      <td>1</td>\n",
       "      <td>None</td>\n",
       "    </tr>\n",
       "    <tr>\n",
       "      <th>1d463919-5e3a-4e49-9744-3a2d7e31f556</th>\n",
       "      <td>37.197338</td>\n",
       "      <td>-119.267548</td>\n",
       "      <td>21.04</td>\n",
       "      <td>SNPP</td>\n",
       "      <td>0.442556</td>\n",
       "      <td>0.385766</td>\n",
       "      <td>2020-09-05 10:00:00</td>\n",
       "      <td>AM</td>\n",
       "      <td>-1.691870e+06</td>\n",
       "      <td>-670829.510435</td>\n",
       "      <td>0</td>\n",
       "      <td>2020-09-05</td>\n",
       "      <td>1</td>\n",
       "      <td>True</td>\n",
       "    </tr>\n",
       "    <tr>\n",
       "      <th>dd9e0587-4f2a-4903-a77f-95baf59f6088</th>\n",
       "      <td>37.195644</td>\n",
       "      <td>-119.278160</td>\n",
       "      <td>44.95</td>\n",
       "      <td>SNPP</td>\n",
       "      <td>0.442199</td>\n",
       "      <td>0.385621</td>\n",
       "      <td>2020-09-05 10:00:00</td>\n",
       "      <td>AM</td>\n",
       "      <td>-1.692822e+06</td>\n",
       "      <td>-670798.568062</td>\n",
       "      <td>0</td>\n",
       "      <td>2020-09-05</td>\n",
       "      <td>1</td>\n",
       "      <td>None</td>\n",
       "    </tr>\n",
       "    <tr>\n",
       "      <th>...</th>\n",
       "      <td>...</td>\n",
       "      <td>...</td>\n",
       "      <td>...</td>\n",
       "      <td>...</td>\n",
       "      <td>...</td>\n",
       "      <td>...</td>\n",
       "      <td>...</td>\n",
       "      <td>...</td>\n",
       "      <td>...</td>\n",
       "      <td>...</td>\n",
       "      <td>...</td>\n",
       "      <td>...</td>\n",
       "      <td>...</td>\n",
       "      <td>...</td>\n",
       "    </tr>\n",
       "    <tr>\n",
       "      <th>1fe029f9-7eb7-4d95-ad24-1a66a6e21937</th>\n",
       "      <td>37.013283</td>\n",
       "      <td>-119.281837</td>\n",
       "      <td>12.27</td>\n",
       "      <td>SNPP</td>\n",
       "      <td>0.520021</td>\n",
       "      <td>0.668137</td>\n",
       "      <td>2020-09-08 10:42:00</td>\n",
       "      <td>AM</td>\n",
       "      <td>-1.697441e+06</td>\n",
       "      <td>-690618.151198</td>\n",
       "      <td>21</td>\n",
       "      <td>2020-09-08</td>\n",
       "      <td>1</td>\n",
       "      <td>None</td>\n",
       "    </tr>\n",
       "    <tr>\n",
       "      <th>7bdb5e01-fedf-40a6-9ee0-611eb7450b04</th>\n",
       "      <td>37.010933</td>\n",
       "      <td>-119.273651</td>\n",
       "      <td>2.98</td>\n",
       "      <td>SNPP</td>\n",
       "      <td>0.520420</td>\n",
       "      <td>0.668340</td>\n",
       "      <td>2020-09-08 10:42:00</td>\n",
       "      <td>AM</td>\n",
       "      <td>-1.696792e+06</td>\n",
       "      <td>-691041.281859</td>\n",
       "      <td>21</td>\n",
       "      <td>2020-09-08</td>\n",
       "      <td>1</td>\n",
       "      <td>True</td>\n",
       "    </tr>\n",
       "    <tr>\n",
       "      <th>2b5c6282-502d-4d0b-ba6c-5a9f0e75cf99</th>\n",
       "      <td>37.028984</td>\n",
       "      <td>-119.359322</td>\n",
       "      <td>6.00</td>\n",
       "      <td>SNPP</td>\n",
       "      <td>0.514503</td>\n",
       "      <td>0.665318</td>\n",
       "      <td>2020-09-08 10:42:00</td>\n",
       "      <td>AM</td>\n",
       "      <td>-1.703740e+06</td>\n",
       "      <td>-687323.573372</td>\n",
       "      <td>21</td>\n",
       "      <td>2020-09-08</td>\n",
       "      <td>1</td>\n",
       "      <td>None</td>\n",
       "    </tr>\n",
       "    <tr>\n",
       "      <th>9aee915e-d487-40a4-a3eb-71f37807d25e</th>\n",
       "      <td>37.027401</td>\n",
       "      <td>-119.353828</td>\n",
       "      <td>4.82</td>\n",
       "      <td>SNPP</td>\n",
       "      <td>0.514893</td>\n",
       "      <td>0.665518</td>\n",
       "      <td>2020-09-08 10:42:00</td>\n",
       "      <td>AM</td>\n",
       "      <td>-1.703305e+06</td>\n",
       "      <td>-687608.602971</td>\n",
       "      <td>21</td>\n",
       "      <td>2020-09-08</td>\n",
       "      <td>1</td>\n",
       "      <td>None</td>\n",
       "    </tr>\n",
       "    <tr>\n",
       "      <th>46c88851-7d69-4f47-9027-0b24513cc30a</th>\n",
       "      <td>37.025940</td>\n",
       "      <td>-119.348747</td>\n",
       "      <td>4.82</td>\n",
       "      <td>SNPP</td>\n",
       "      <td>0.515284</td>\n",
       "      <td>0.665718</td>\n",
       "      <td>2020-09-08 10:42:00</td>\n",
       "      <td>AM</td>\n",
       "      <td>-1.702902e+06</td>\n",
       "      <td>-687871.853467</td>\n",
       "      <td>21</td>\n",
       "      <td>2020-09-08</td>\n",
       "      <td>1</td>\n",
       "      <td>None</td>\n",
       "    </tr>\n",
       "  </tbody>\n",
       "</table>\n",
       "<p>7191 rows × 14 columns</p>\n",
       "</div>"
      ],
      "text/plain": [
       "                                            Lat         Lon    FRP   Sat  \\\n",
       "uuid                                                                       \n",
       "40a52a22-3124-4a1e-9d23-f55d3923bfb7  37.201797 -119.271812  21.04  SNPP   \n",
       "1a854aa0-2338-40a0-a4ed-551502e0d263  37.199169 -119.277367   4.98  SNPP   \n",
       "6a5caba4-8db1-40c9-a5db-397ca3a1d85f  37.198254 -119.272469  21.04  SNPP   \n",
       "1d463919-5e3a-4e49-9744-3a2d7e31f556  37.197338 -119.267548  21.04  SNPP   \n",
       "dd9e0587-4f2a-4903-a77f-95baf59f6088  37.195644 -119.278160  44.95  SNPP   \n",
       "...                                         ...         ...    ...   ...   \n",
       "1fe029f9-7eb7-4d95-ad24-1a66a6e21937  37.013283 -119.281837  12.27  SNPP   \n",
       "7bdb5e01-fedf-40a6-9ee0-611eb7450b04  37.010933 -119.273651   2.98  SNPP   \n",
       "2b5c6282-502d-4d0b-ba6c-5a9f0e75cf99  37.028984 -119.359322   6.00  SNPP   \n",
       "9aee915e-d487-40a4-a3eb-71f37807d25e  37.027401 -119.353828   4.82  SNPP   \n",
       "46c88851-7d69-4f47-9027-0b24513cc30a  37.025940 -119.348747   4.82  SNPP   \n",
       "\n",
       "                                            DT        DS        YYYYMMDD_HHMM  \\\n",
       "uuid                                                                            \n",
       "40a52a22-3124-4a1e-9d23-f55d3923bfb7  0.442377  0.385693  2020-09-05 10:00:00   \n",
       "1a854aa0-2338-40a0-a4ed-551502e0d263  0.442199  0.385621  2020-09-05 10:00:00   \n",
       "6a5caba4-8db1-40c9-a5db-397ca3a1d85f  0.442377  0.385693  2020-09-05 10:00:00   \n",
       "1d463919-5e3a-4e49-9744-3a2d7e31f556  0.442556  0.385766  2020-09-05 10:00:00   \n",
       "dd9e0587-4f2a-4903-a77f-95baf59f6088  0.442199  0.385621  2020-09-05 10:00:00   \n",
       "...                                        ...       ...                  ...   \n",
       "1fe029f9-7eb7-4d95-ad24-1a66a6e21937  0.520021  0.668137  2020-09-08 10:42:00   \n",
       "7bdb5e01-fedf-40a6-9ee0-611eb7450b04  0.520420  0.668340  2020-09-08 10:42:00   \n",
       "2b5c6282-502d-4d0b-ba6c-5a9f0e75cf99  0.514503  0.665318  2020-09-08 10:42:00   \n",
       "9aee915e-d487-40a4-a3eb-71f37807d25e  0.514893  0.665518  2020-09-08 10:42:00   \n",
       "46c88851-7d69-4f47-9027-0b24513cc30a  0.515284  0.665718  2020-09-08 10:42:00   \n",
       "\n",
       "                                     ampm             x              y  \\\n",
       "uuid                                                                     \n",
       "40a52a22-3124-4a1e-9d23-f55d3923bfb7   AM -1.692131e+06 -670256.379954   \n",
       "1a854aa0-2338-40a0-a4ed-551502e0d263   AM -1.692670e+06 -670430.137837   \n",
       "6a5caba4-8db1-40c9-a5db-397ca3a1d85f   AM -1.692271e+06 -670629.547556   \n",
       "1d463919-5e3a-4e49-9744-3a2d7e31f556   AM -1.691870e+06 -670829.510435   \n",
       "dd9e0587-4f2a-4903-a77f-95baf59f6088   AM -1.692822e+06 -670798.568062   \n",
       "...                                   ...           ...            ...   \n",
       "1fe029f9-7eb7-4d95-ad24-1a66a6e21937   AM -1.697441e+06 -690618.151198   \n",
       "7bdb5e01-fedf-40a6-9ee0-611eb7450b04   AM -1.696792e+06 -691041.281859   \n",
       "2b5c6282-502d-4d0b-ba6c-5a9f0e75cf99   AM -1.703740e+06 -687323.573372   \n",
       "9aee915e-d487-40a4-a3eb-71f37807d25e   AM -1.703305e+06 -687608.602971   \n",
       "46c88851-7d69-4f47-9027-0b24513cc30a   AM -1.702902e+06 -687871.853467   \n",
       "\n",
       "                                      initial_cid          t  fid in_fline  \n",
       "uuid                                                                        \n",
       "40a52a22-3124-4a1e-9d23-f55d3923bfb7            0 2020-09-05    1     True  \n",
       "1a854aa0-2338-40a0-a4ed-551502e0d263            0 2020-09-05    1     True  \n",
       "6a5caba4-8db1-40c9-a5db-397ca3a1d85f            0 2020-09-05    1     None  \n",
       "1d463919-5e3a-4e49-9744-3a2d7e31f556            0 2020-09-05    1     True  \n",
       "dd9e0587-4f2a-4903-a77f-95baf59f6088            0 2020-09-05    1     None  \n",
       "...                                           ...        ...  ...      ...  \n",
       "1fe029f9-7eb7-4d95-ad24-1a66a6e21937           21 2020-09-08    1     None  \n",
       "7bdb5e01-fedf-40a6-9ee0-611eb7450b04           21 2020-09-08    1     True  \n",
       "2b5c6282-502d-4d0b-ba6c-5a9f0e75cf99           21 2020-09-08    1     None  \n",
       "9aee915e-d487-40a4-a3eb-71f37807d25e           21 2020-09-08    1     None  \n",
       "46c88851-7d69-4f47-9027-0b24513cc30a           21 2020-09-08    1     None  \n",
       "\n",
       "[7191 rows x 14 columns]"
      ]
     },
     "execution_count": 9,
     "metadata": {},
     "output_type": "execute_result"
    }
   ],
   "source": [
    "allfires.fires[1].pixels"
   ]
  },
  {
   "cell_type": "code",
   "execution_count": 10,
   "id": "0b7062be-615b-46c6-808c-08e6108d921d",
   "metadata": {
    "tags": []
   },
   "outputs": [
    {
     "data": {
      "image/svg+xml": [
       "<svg xmlns=\"http://www.w3.org/2000/svg\" xmlns:xlink=\"http://www.w3.org/1999/xlink\" width=\"300\" height=\"300\" viewBox=\"-1714418.5190728912 -694831.1563849682 33728.72825754713 54476.74233068037\" preserveAspectRatio=\"xMinYMin meet\"><g transform=\"matrix(1,0,0,-1,0,-1335185.570439256)\"><path fill-rule=\"evenodd\" fill=\"#66cc99\" stroke=\"#555555\" stroke-width=\"363.1782822045358\" opacity=\"0.6\" d=\"M -1704062.174005228,-658133.0559914496 L -1704062.3789308982,-658132.7970322084 L -1704065.5355018103,-658127.8550673991 L -1704071.9017019505,-658118.00525122 L -1704072.2163075337,-658117.3955188243 L -1704072.5715375175,-658116.839366554 L -1704075.6209692033,-658110.7969947455 L -1704080.276165697,-658101.7748277468 L -1704080.6571169375,-658100.8179953017 L -1704081.1027096559,-658099.9350645937 L -1704083.5972588847,-658093.4332622724 L -1704087.0318409905,-658084.8066475117 L -1704087.413534872,-658083.4865064466 L -1704087.8854432935,-658082.2565225943 L -1704089.7008866277,-658075.5753841327 L -1704092.104630793,-658067.2617025764 L -1704092.419200669,-658065.5715287946 L -1704092.8505656268,-658063.9840328065 L -1704093.9587169194,-658057.2997577159 L -1704095.4464050822,-658049.3064572769 L -1704095.6249372736,-658047.2492571366 L -1704095.947440518,-658045.3039447785 L -1704096.3627730862,-658038.7472837593 L -1704097.0254575042,-658031.1112688303 L -1704096.999227452,-658028.6998763282 L -1704097.1444849023,-658026.4067648945 L -1704096.9054847506,-658020.0818817177 L -1704096.8268061983,-658012.8487710048 L -1704025.0436548823,-656809.8452301723 L -1704023.3786366414,-656793.7145647593 L -1704020.3260528534,-656777.788096707 L -1704015.9087370096,-656762.184956858 L -1704010.1597308724,-656747.0218575429 L -1703861.4846528396,-656400.8446462981 L -1703853.3298160604,-656384.1823054285 L -1703843.5683717052,-656368.407351538 L -1703832.2958718971,-656353.674201358 L -1703819.6226600697,-656340.1270736873 L -1703805.6727908456,-656327.8985776728 L -1703790.582815699,-656317.1084147348 L -1703774.5004462914,-656307.8622068429 L -1703757.5831085609,-656300.2504626102 L -1703739.9964017242,-656294.3476913301 L -1703721.9124772693,-656290.2116736247 L -1703703.5083538126,-656287.8828958462 L -1703684.9641843115,-656287.3841537662 L -1703666.4614925957,-656288.7203294358 L -1703648.1813964804,-656291.8783433945 L -1703636.300024699,-656295.1672090803 L -1703622.139669368,-656261.5365486076 L -1703622.041741974,-656261.3044085295 L -1703445.2503589736,-655842.9996819915 L -1703437.30187704,-655826.492201322 L -1703427.7802498753,-655810.8392814907 L -1703416.776390899,-655796.1903780937 L -1703404.395366023,-655782.6853602808 L -1702702.762056617,-655088.7044027444 L -1702121.6550528721,-654383.8021712333 L -1701983.412455872,-653987.4687964009 L -1701976.3944205672,-653970.1702210587 L -1701967.6910139401,-653953.6552508345 L -1701957.388510292,-653938.0875937536 L -1701945.5890352998,-653923.6215674048 L -1701932.4095536761,-653910.4005692373 L -1701877.5771781297,-653860.6176328048 L -1702439.7304222097,-653878.6519287392 L -1703173.3651528514,-654706.5879280574 L -1703186.2795400121,-654719.7908015937 L -1703200.4301871066,-654731.6590976871 L -1703215.6797999972,-654742.0776663048 L -1703231.8804220262,-654750.9454231369 L -1703248.874869538,-654758.1763303495 L -1703757.6651665478,-654945.6381597182 L -1703774.8336195077,-654951.0431179024 L -1703792.441221158,-654954.7769783891 L -1703810.3257151926,-654956.8053331757 L -1703828.3222937065,-654957.1094907126 L -1703846.2651159219,-654955.6866481492 L -1703863.988836432,-654952.549917162 L -1703881.3301288811,-654947.7282031293 L -1703898.1291910359,-654941.2659387637 L -1704268.911654704,-654777.7942778812 L -1704284.4427141899,-654770.0700402759 L -1704299.193501343,-654760.9435988168 L -1704313.0377745344,-654750.4930603072 L -1704325.8570503523,-654738.8078635676 L -1704337.541617617,-654725.9880139907 L -1704347.991476323,-654712.1432276665 L -1704357.117193468,-654697.3919923985 L -1704364.8406684473,-654681.8605536505 L -1704590.099901733,-654170.8650418989 L -1704596.6048493395,-654153.9338405295 L -1704601.4434393733,-654136.453337972 L -1704604.5703939965,-654118.5871106714 L -1704605.9564522589,-654100.50234455 L -1704605.5886439106,-654082.3682705401 L -1704603.4704107738,-654064.3545809805 L -1704599.6215745355,-654046.6298416937 L -1704594.0781512621,-654029.3599146067 L -1704586.8920143752,-654012.7064056726 L -1704578.1304092365,-653996.8251526185 L -1704567.875323891,-653981.86476667 L -1704556.222721849,-653967.9652419001 L -1704543.2816440961,-653955.2566452126 L -1704529.173188723,-653943.8578992219 L -1704514.0293777334,-653933.8756694165 L -1704497.9919216277,-653925.4033660206 L -1704481.2108933253,-653918.5202698939 L -1703964.6943615114,-653735.31083153 L -1703532.9172286591,-653576.2351316751 L -1702983.670066133,-652261.2912462846 L -1702981.6971814707,-652256.738343055 L -1702852.2990660928,-651968.6319258388 L -1703117.8669592268,-650670.4499099572 L -1703120.5385985302,-650653.449731413 L -1703121.6403457704,-650636.2762087656 L -1703131.853900166,-650073.908522023 L -1703228.1919230376,-649217.8684996321 L -1703229.354319985,-649199.173932132 L -1703228.6457184574,-649180.4566699241 L -1703226.0731898677,-649161.9034999163 L -1703221.6624064883,-649143.6995714759 L -1703215.4573852585,-649126.0265487514 L -1703072.9519452418,-648776.9890191245 L -1703072.5756339987,-648776.074225625 L -1702928.2840893536,-648427.9219020468 L -1702927.362392922,-648425.7371579314 L -1702778.5454842765,-648079.1250776139 L -1702770.6074350365,-648062.8522306628 L -1702761.136856837,-648047.4208884595 L -1702750.2220590864,-648032.9749421874 L -1702737.964817972,-648019.6490946012 L -1702724.4794274352,-648007.567603977 L -1702066.494390569,-647473.0366380641 L -1702051.1005177032,-647461.7805037881 L -1702034.6429117792,-647452.1462374489 L -1702017.29181759,-647444.2335001809 L -1701525.0962282768,-647249.3618248106 L -1701505.6405916559,-647242.8655493623 L -1701485.5917747046,-647238.5333063082 L -1701465.1897064897,-647236.4169406543 L -1700711.511020926,-647199.7302431808 L -1700493.5550883831,-647010.3643303795 L -1700480.7943911166,-647000.2165012349 L -1700467.200379383,-646991.2155748345 L -1699982.1051505823,-646699.5370604815 L -1699964.9414084624,-646690.3936255105 L -1699481.1119490515,-646464.0357458361 L -1699464.5593964236,-646457.2345157702 L -1699447.433850947,-646452.0422695284 L -1699429.8913118693,-646448.5063040858 L -1699412.0915768968,-646446.6588291001 L -1699394.196786574,-646446.5166735067 L -1699376.369947319,-646448.0811322232 L -1698875.261092809,-646516.2843711587 L -1698231.9220009043,-646557.0442493076 L -1697929.872450145,-646448.7787954247 L -1697308.3341224384,-645768.1670044482 L -1697294.1218633507,-645754.1767305124 L -1697278.5040708713,-645741.7750922639 L -1697261.657426162,-645731.1023871142 L -1697243.7725121598,-645722.2793533781 L -1697225.0516575477,-645715.4058043842 L -1696960.1813433545,-645633.8565873401 L -1696476.4318809216,-645375.6105200868 L -1695174.2920647,-644252.8326729372 L -1694891.5293507306,-643670.11024228 L -1694882.525445896,-643653.6958275503 L -1694871.9295018197,-643638.2611496359 L -1694859.8471587077,-643623.9600903004 L -1694846.3988759748,-643610.9352292751 L -1694831.7187312788,-643599.3164227576 L -1694815.9530837834,-643589.2195087617 L -1694799.2591149765,-643580.7451522278 L -1694588.9325512757,-643486.8727009484 L -1694157.5235578534,-643228.3926657292 L -1693997.3645569135,-643092.3920683841 L -1693981.7290480481,-643080.4677076851 L -1693964.930700008,-643070.2464054837 L -1693245.8531503044,-642682.8441004676 L -1693227.1800563007,-642674.073191736 L -1693207.6564027378,-642667.4068410699 L -1692181.4014429685,-642378.9630914471 L -1692162.6945646417,-642374.7243734363 L -1692143.652521563,-642372.4190269344 L -1692124.4745908096,-642372.0711776464 L -1692105.3614715387,-642373.6844658535 L -1692086.5131846475,-642377.2420083168 L -1691218.4960352352,-642587.5670324877 L -1691200.1988317615,-642593.0001344471 L -1691182.5487834471,-642600.2652597978 L -1691165.7287887225,-642609.2871237585 L -1691149.913144597,-642619.9722373639 L -1691135.2657405082,-642632.2098762423 L -1691121.9383600187,-642645.8732279962 L -1691110.0691079616,-642660.8207062942 L -1691099.78097933,-642676.8974180574 L -1690618.9007937603,-643519.9944655772 L -1690617.1965376914,-643523.048257459 L -1690391.7359618149,-643936.046910357 L -1690024.2296208711,-644178.0869044665 L -1689639.2836473044,-644431.877087183 L -1689624.0929967563,-644443.0261760345 L -1689610.098077171,-644455.6436350534 L -1689597.4402292434,-644469.6020351099 L -1689586.2472900085,-644484.7604043355 L -1689576.6323017597,-644500.9656518581 L -1689568.692370387,-644518.0541139332 L -1689299.2394337393,-645183.5981128637 L -1688976.7662884512,-645686.3930134329 L -1688559.5149457743,-645961.7023805473 L -1688041.187632967,-646303.397918011 L -1688026.5424787428,-646314.1035093875 L -1688013.0004354252,-646326.1742712426 L -1688000.6882672212,-646339.4972117246 L -1687989.7212257357,-646353.9476176024 L -1687980.2019711277,-646369.3902216795 L -1687972.219611128,-646385.6804690014 L -1687965.8488669225,-646402.6658700047 L -1687961.1493737015,-646420.1874279389 L -1687958.1651224287,-646438.0811272019 L -1687905.9664114255,-646882.7186028067 L -1687528.1171812825,-647491.2552465554 L -1687519.1772705915,-647507.3700379734 L -1687511.86247098,-647524.2845941973 L -1687506.2434432316,-647541.8355210323 L -1687502.374467015,-647559.8532769594 L -1687500.2929165452,-647578.1638109016 L -1687500.018899548,-647596.590243554 L -1687501.555063021,-647614.9545760327 L -1687504.8865676627,-647633.0794093404 L -1687509.9812312212,-647650.7896580353 L -1687516.789839372,-647667.914241553 L -1687525.2466211289,-647684.2877368403 L -1687817.8711036714,-648188.4261606762 L -1688015.601428052,-648723.3031158887 L -1688016.5055545936,-648725.6984407252 L -1688227.5349242317,-649273.4352504355 L -1688230.6360900062,-649280.9898178655 L -1688463.676298992,-649815.2599030251 L -1688659.0638696938,-650361.143862313 L -1688665.9634758322,-650377.8382335594 L -1688674.4375494348,-650393.7911854102 L -1688684.4074374568,-650408.8546487904 L -1688695.7806032873,-650422.8888105102 L -1688708.451485638,-650435.7634109556 L -1688722.302478323,-650447.3589531084 L -1688737.205021832,-650457.5678116707 L -1688753.0207965702,-650466.2952320001 L -1688769.6030066872,-650473.4602095861 L -1688786.7977425787,-650478.9962419022 L -1688804.4454094141,-650482.8519456565 L -1688822.3822084356,-650484.9915337109 L -1688840.4416572726,-650485.3951472439 L -1688858.4561351668,-650484.0590400721 L -1688876.258438763,-650480.9956134212 L -1688893.6833340249,-650476.2333008219 L -1689065.2500854086,-650420.3323574286 L -1689047.207291342,-650486.1958222126 L -1689043.0069423125,-650505.4476950847 L -1689040.8502120362,-650525.034069317 L -1689040.760920173,-650544.7386263539 L -1689042.740052893,-650564.3437423885 L -1689046.7657519833,-650583.6328918744 L -1689052.7935562588,-650602.3930389066 L -1689213.0823553477,-651023.808210351 L -1689220.4481003108,-651040.6411490096 L -1689229.4260314673,-651056.6723303414 L -1689239.9299346241,-651071.7478084835 L -1689251.858941829,-651085.7228150972 L -1689265.098499995,-651098.4631495635 L -1689279.5214709425,-651109.8464676996 L -1689294.9893522956,-651119.763456617 L -1689311.3536075058,-651128.1188844434 L -1689328.4570922342,-651134.8325148242 L -1689346.1355633934,-651139.8398774251 L -1689364.2192563578,-651143.0928870337 L -1689382.5345151962,-651144.5603053176 L -1689400.9054602736,-651144.2280408031 L -1689419.155677205,-651142.0992841934 L -1689437.1099109459,-651138.1944777297 L -1689454.5957487498,-651132.551118886 L -1689605.9297474935,-651075.3807633484 L -1689611.9897410432,-651080.62447547 L -1689627.699053918,-651091.6268687459 L -1689644.4501262489,-651100.9669300173 L -1689662.067693794,-651108.5469354652 L -1691084.6154668664,-651636.1271258203 L -1691258.4580989107,-652115.794375087 L -1691020.1372068895,-653048.1874941584 L -1690323.118684798,-653037.2559102706 L -1690304.2825111141,-653037.9078831869 L -1690285.6069531878,-653040.447576845 L -1690267.2807129775,-653044.8493296194 L -1690249.4889628582,-653051.068665229 L -1690232.411474599,-653059.0427421343 L -1690216.22080291,-653068.6909885028 L -1689911.1703068407,-653271.9205637071 L -1689893.0780159177,-653285.6245566247 L -1689545.4558557067,-653583.6987875004 L -1689541.1372539075,-653587.6302588986 L -1689333.8856396968,-653665.2119379506 L -1689317.0738299505,-653672.4595397108 L -1689301.0489706628,-653681.3121417594 L -1689285.9638360005,-653691.6853471679 L -1689271.9622411975,-653703.4802622247 L -1689259.177671481,-653716.584439245 L -1689247.73200948,-653730.8729486 L -1689237.73437325,-653746.2095697414 L -1689229.2800759864,-653762.4480898711 L -1689161.5222838223,-653909.73263349 L -1689154.5493473199,-653927.1313503588 L -1689149.348393125,-653945.1393282466 L -1689145.9713974479,-653963.5766027833 L -1689144.4521086027,-653982.2589193835 L -1689144.7396611124,-653997.4990355892 L -1688821.3421117056,-654458.0848199389 L -1688811.0762207373,-654474.4352638755 L -1688802.5460542382,-654491.7546689981 L -1688795.8420487845,-654509.8594154799 L -1688791.0352800456,-654528.5575573286 L -1688788.1767092433,-654547.6508573908 L -1688787.2966428616,-654566.9368890579 L -1688788.4044113385,-654586.211182386 L -1688853.2736872456,-655179.441814258 L -1688909.7613989934,-655747.4507052451 L -1688748.2443765672,-656572.634516222 L -1688690.0771020183,-656754.4707167199 L -1688685.0317974037,-656773.7028881322 L -1688682.0514164334,-656793.3611903264 L -1688681.169473448,-656813.2245659826 L -1688682.8194407145,-657003.4233238644 L -1688209.8644163418,-657716.9199670632 L -1688200.4240985762,-657732.810417083 L -1688192.5941722568,-657749.5531246053 L -1688186.4507236108,-657766.9853946836 L -1688182.0534507511,-657784.9378316419 L -1688179.4450835695,-657803.2359851551 L -1688178.6509685137,-657821.7020454447 L -1688179.6788222867,-657840.1565711219 L -1688182.5186568615,-657858.4202328832 L -1688187.1428765382,-657876.3155561194 L -1688193.506546101,-657893.6686454997 L -1688201.5478274703,-657910.310874776 L -1688211.1885806057,-657926.080525385 L -1688222.3351228207,-657940.8243579259 L -1688606.5582523905,-658400.1065580266 L -1688602.7970663172,-658400.2615072153 L -1688584.6845466807,-658402.7908676908 L -1688566.9045981658,-658407.0727437746 L -1688549.626371348,-658413.0663995892 L -1688533.0142436444,-658420.7148141407 L -1688517.2262554995,-658429.9452237921 L -1688502.4126068584,-658440.6698145034 L -1688488.7142282298,-658452.7865572562 L -1688476.2614399367,-658466.1801787127 L -1688465.172712306,-658480.7232578751 L -1688455.5535385937,-658496.2774383127 L -1688447.4954313694,-658512.694744424 L -1688441.0750519051,-658529.818989211 L -1688436.353480855,-658547.4872601737 L -1688433.3756371604,-658565.5314691872 L -1688432.1698507105,-658583.779951618 L -1688432.7475928252,-658602.0590994658 L -1688435.1033671212,-658620.1950129928 L -1688439.2147618022,-658638.0151551294 L -1688445.0426628757,-658655.3499929154 L -1688560.4434382634,-658950.1544885973 L -1688231.8724416026,-660274.1223719337 L -1688228.2000753467,-660293.0253934248 L -1688226.4858744782,-660312.2053832787 L -1688226.7479195278,-660331.4600405802 L -1688228.9834465762,-660350.58627686 L -1688233.1688764046,-660369.3823581687 L -1688239.2600631986,-660387.6500328662 L -1688376.292765962,-660737.6048345648 L -1688376.779217971,-660738.834351372 L -1688918.2307355846,-662093.3824432498 L -1688878.9765468263,-662673.4795442597 L -1688517.5180070028,-662515.4690095832 L -1688500.572929198,-662509.0182829648 L -1688483.0840177138,-662504.2344026559 L -1688465.2148120785,-662501.1621029173 L -1688447.1324079672,-662499.8301129501 L -1688429.0058946824,-662500.250888247 L -1688411.0047739933,-662502.420494121 L -1688393.2973751177,-662506.3186424986 L -1688376.0492806686,-662511.9088816344 L -1688359.421778285,-662519.138936973 L -1687551.3507334308,-662918.020702136 L -1687533.6715867983,-662927.9714708069 L -1687517.1710039508,-662939.7740463091 L -1687502.042155242,-662953.2902572998 L -1687108.8560055895,-663344.8188665444 L -1686743.6239720304,-663699.8809665724 L -1686742.1416667176,-663700.273395054 L -1686732.107145398,-663703.2318598569 L -1686413.2801807702,-663806.982810543 L -1686095.683855116,-663910.4314146928 L -1686077.9725581913,-663917.2089942301 L -1686061.036457851,-663925.7409417459 L -1686045.0487994116,-663935.9399809538 L -1686030.1731262435,-663947.7017823013 L -1686016.5616068298,-663960.9060301932 L -1685372.6934849413,-664652.0605357968 L -1684983.5647564426,-664885.9687257996 L -1684670.2597802393,-664988.3120328321 L -1684352.7571820149,-665091.5112784576 L -1684041.5202467972,-665193.013580825 L -1683741.4101667101,-665290.8207449852 L -1683441.2057601144,-665388.2935264236 L -1683440.968865321,-665388.3706173347 L -1682836.6571473435,-665585.4713578746 L -1682819.2095894334,-665592.1406352589 L -1682802.5121772755,-665600.5127894068 L -1682786.730618796,-665610.5047336527 L -1682772.021532836,-665622.0173062611 L -1682758.5308948378,-665634.9362545254 L -1682746.3925881623,-665649.1333686302 L -1682735.7270754066,-665664.4677540273 L -1682726.6402029125,-665680.7872296969 L -1682719.2221503316,-665697.9298384177 L -1682713.546535665,-665715.7254540577 L -1682709.6696846671,-665733.9974699343 L -1682707.6300718596,-665752.5645514886 L -1682707.4479387025,-665771.2424358807 L -1682709.1250927164,-665789.8457606444 L -1682712.6448895428,-665808.1899032559 L -1682717.9723981256,-665826.0928133588 L -1682725.054747374,-665843.376819462 L -1682733.8216508625,-665859.8703921821 L -1683039.7356930831,-666372.0845962455 L -1683049.3572175293,-666386.6151136413 L -1683060.2862685,-666400.189557031 L -1683072.4284315326,-666412.6906587963 L -1683085.678812268,-666424.0104237596 L -1683558.9526228693,-666791.6954301936 L -1683384.2987997523,-668466.0993923736 L -1683171.0113372703,-668535.0473230605 L -1683154.1378680477,-668541.4133895456 L -1683137.954052491,-668549.3710826868 L -1683122.6096118183,-668558.8467835339 L -1683108.246501945,-668569.7528296029 L -1683094.9976002069,-668581.9883258672 L -1683082.9854760747,-668595.4400781671 L -1683072.3212572276,-668609.983640402 L -1683063.1036014773,-668625.4844658178 L -1683055.4177840573,-668641.7991517383 L -1683049.3349087157,-668658.7767662255 L -1683044.9112499137,-668676.260244395 L -1683042.1877322148,-668694.0878414693 L -1683041.189551679,-668712.0946291261 L -1683041.9259427667,-668730.1140212986 L -1683094.9175085232,-669324.2590647268 L -1683097.445500562,-669342.4634499002 L -1683101.7436287077,-669360.3328784788 L -1683107.7705954285,-669377.6956563508 L -1683115.4684920625,-669394.3849574355 L -1683124.763355219,-669410.2404265925 L -1683135.565877438,-669425.109720355 L -1683147.7722652797,-669438.8499706856 L -1683161.2652365987,-669451.3291576894 L -1683175.9151474207,-669462.4273780958 L -1683191.5812375972,-669472.0379973198 L -1683208.1129832636,-669480.0686740354 L -1683990.22198071,-669813.6662956229 L -1685038.101475072,-670868.6791299259 L -1685051.5320758086,-670880.9488948701 L -1685066.088487899,-670891.8593960038 L -1685081.6336908478,-670901.3079320391 L -1685098.0213566043,-670909.2055632649 L -1685115.0972269585,-670915.4779487425 L -1685177.1360736818,-670934.9066453192 L -1685195.3313488842,-670939.6177097615 L -1685213.9068582228,-670942.4834767939 L -1685232.6759485505,-670943.4751501972 L -1685251.4500215517,-670942.5827652939 L -1685270.0404288429,-670939.8152890763 L -1685288.2603675777,-670935.2005301034 L -1685305.9267575052,-670928.7848590706 L -1685322.8620806248,-670920.6327428607 L -1685338.8961649488,-670910.8260967592 L -1685353.8678944483,-670899.46346134 L -1685367.6268280032,-670886.6590122968 L -1685380.0347110871,-670872.541413165 L -1685390.9668649966,-670857.2525224672 L -1685400.3134396651,-670840.9459682684 L -1685990.987684368,-669679.0528042314 L -1686846.11388037,-669561.8267419012 L -1687841.158834226,-670276.2315665141 L -1687306.6100227805,-671515.9441385954 L -1686847.8298004621,-671888.7806719596 L -1686832.130616916,-671903.0893380372 L -1686818.1505758658,-671919.0818594507 L -1686435.8130033182,-672410.0129728967 L -1686425.1209290368,-672425.2449435712 L -1686415.9914838015,-672441.4618055599 L -1686086.3870981273,-673101.5877387936 L -1685338.6521040024,-673338.3302011011 L -1684938.0146411478,-673273.8235753204 L -1684919.7479933824,-673271.7948273029 L -1684901.3704786943,-673271.5641912526 L -1684883.0586708523,-673273.1338831533 L -1684864.988512305,-673276.4888211827 L -1684847.3336237003,-673281.59677062 L -1684830.2636357131,-673288.4086535622 L -1684813.9425592104,-673296.8590204711 L -1684798.5272094114,-673306.8666790224 L -1684784.1656991849,-673318.3354742125 L -1684770.9960159587,-673331.1552122297 L -1684759.1446959188,-673345.2027192117 L -1684748.7256082294,-673360.3430247181 L -1684739.8388609642,-673376.4306585449 L -1684732.5698392515,-673393.3110484232 L -1684726.9883848836,-673410.8220051716 L -1684723.1481252667,-673428.7952810324 L -1684721.0859581593,-673447.058186221 L -1684720.8216971564,-673465.4352481522 L -1684749.6074491083,-674295.8301446426 L -1684751.226690847,-674314.7592181306 L -1684754.7531225088,-674333.4272669482 L -1684760.1505399705,-674351.6426355051 L -1684767.3635306265,-674369.2183156546 L -1684776.318042282,-674385.9738666133 L -1684786.9221434111,-674401.7372674572 L -1685502.5777997866,-675357.2320114555 L -1685657.3026511406,-675882.7888525773 L -1685819.581490117,-676440.7623466004 L -1685825.126903345,-676457.0138711334 L -1685832.1358445075,-676472.6899165947 L -1685840.5495279822,-676487.6590043392 L -1685850.297386246,-676501.7955851418 L -1685861.2976617415,-676514.9810922062 L -1685873.4580925952,-676527.1049356137 L -1686368.7831214722,-676977.6443220825 L -1686780.6873683003,-677352.6159654083 L -1686477.5838406421,-678574.8866182327 L -1686476.8953290938,-678577.7597635067 L -1686324.6883381486,-679235.7494623598 L -1686168.421859222,-679836.2412185228 L -1686164.753101543,-679853.7148066951 L -1686162.7630029153,-679871.4581314676 L -1686162.4696089413,-679889.3103018258 L -1686163.8755800272,-679907.1094397777 L -1686166.9681672598,-679924.6941482124 L -1686171.7193280084,-679941.9049744002 L -1686178.0859802084,-679958.5858558605 L -1686186.0103930146,-679974.5855354884 L -1686195.4207102885,-679989.7589331084 L -1686215.8753580656,-680019.4810623749 L -1686414.71116448,-680539.275126514 L -1686598.3210702199,-681080.6624191665 L -1686745.9975852915,-681636.6865359035 L -1686751.3508706896,-681653.5799871595 L -1686758.2751278162,-681669.8925903587 L -1686766.7085031536,-681685.4786270682 L -1686776.5756624204,-681700.1988691824 L -1686787.7884635236,-681713.9218226295 L -1686800.2467439212,-681726.5249019923 L -1686813.8392153613,-681737.8955255479 L -1686828.444458006,-681747.9321209461 L -1686843.9320050592,-681756.5450325423 L -1686860.163508211,-681763.6573222806 L -1686876.9939734854,-681769.205456971 L -1686894.2730564524,-681773.1398758242 L -1686911.846405237,-681775.4254331714 L -1687395.0705074267,-681815.1669041656 L -1688231.259273595,-682076.4862989078 L -1688248.406433236,-682080.9674348311 L -1688265.9000879363,-682083.80956575 L -1688283.5839395686,-682084.9872984719 L -1688301.299990681,-682084.4901104722 L -1688318.8899561327,-682082.3224439073 L -1688336.1966773027,-682078.5036659265 L -1688353.065526234,-682073.0678956349 L -1688369.345787165,-682066.0636992544 L -1688384.8920031106,-682057.5536562052 L -1688768.8104524005,-681823.1599878349 L -1688784.7587137108,-681812.2570110557 L -1688799.5004308175,-681799.7708700098 L -1688812.8791043134,-681785.8341187037 L -1688824.752704986,-681770.5947109547 L -1688834.9951816127,-681754.2144296988 L -1688843.497799132,-681736.8671694888 L -1688850.1702929842,-681718.7370904138 L -1689154.7132918478,-680738.0890606106 L -1689442.779673772,-680546.9778428386 L -1689799.4142061244,-680311.2092250269 L -1690158.6668658403,-680131.8761221847 L -1690514.5232071914,-680017.0435824386 L -1690514.7213181958,-680016.9795318278 L -1690898.7462615112,-679892.5861549609 L -1690916.7376387033,-679885.7188682968 L -1690933.929740388,-679877.0424105487 L -1690950.1412139316,-679866.6483062136 L -1690965.201050957,-679854.6461985584 L -1690978.9503912407,-679841.1626930367 L -1690991.2441984683,-679826.3400217781 L -1691425.3374386125,-679244.5619438301 L -1691967.380266149,-678890.531863212 L -1691967.945865925,-678890.593145957 L -1691985.4314167767,-678890.8489584229 L -1692002.8647504924,-678889.4746207007 L -1692020.094221588,-678886.4820875956 L -1692036.9699578977,-678881.8973899368 L -1692053.3451642508,-678875.7604081457 L -1692069.0773993835,-678868.1245253322 L -1692084.0298149774,-678859.0561629373 L -1692616.100758101,-678501.3995572065 L -1692633.9963838344,-678487.7417869642 L -1692650.1261783226,-678472.0377162134 L -1693079.317052717,-678000.7688398474 L -1693572.4862346563,-677811.0957910587 L -1694116.583922208,-677601.8162204273 L -1694133.7463438457,-677594.207987007 L -1694150.061930135,-677584.9216757761 L -1694165.3671207922,-677574.0503800305 L -1694179.508484535,-677561.7030821989 L -1694192.3442571976,-677548.003561317 L -1694203.7457628883,-677533.0891521692 L -1694213.5987039364,-677517.1093685366 L -1694221.8043067025,-677500.2244043528 L -1694228.2803117635,-677482.6035277942 L -1694232.9617985452,-677464.4233844022 L -1694235.801836138,-677445.8662262491 L -1694236.7719537686,-677427.1180849007 L -1694235.8624262144,-677408.3669064877 L -1694233.0823712954,-677389.8006675878 L -1694228.4596584712,-677371.6054907987 L -1694222.0406294554,-677353.9637788994 L -1694047.7903764949,-676940.7258282042 L -1694047.138030366,-676939.1977235547 L -1693886.3517396941,-676567.1338683122 L -1693913.5337869448,-676001.9445435002 L -1694053.0397598476,-675565.6533437581 L -1695481.9838238524,-675027.860511759 L -1696435.383111718,-675504.9456480177 L -1696551.233520113,-675854.4099096317 L -1696675.1976264517,-676284.4701490661 L -1696680.293996122,-676299.6747755394 L -1696686.670918986,-676314.3883238807 L -1697320.170399836,-677620.0141446809 L -1697467.937701749,-678034.424487143 L -1697468.1538824008,-678035.0275031079 L -1697620.526846106,-678457.7830814848 L -1697627.81468775,-678475.1997232429 L -1697636.8170932448,-678491.7951666318 L -1697647.4427864766,-678507.4011491162 L -1697659.5840326874,-678521.8594403848 L -1698294.6935263516,-679205.1397303712 L -1698441.1459742659,-679591.5451964177 L -1698442.1827211238,-679594.2187185818 L -1698608.0748379582,-680012.4979855804 L -1698609.2581031169,-680015.4099986422 L -1698764.249633154,-680387.8614511242 L -1698767.3340978767,-680642.0766064834 L -1698746.541188241,-680744.1561354003 L -1698743.7114427409,-680762.7986154708 L -1698742.7684241596,-680781.6310406659 L -1698743.7216696301,-680800.4629509738 L -1698746.5615385913,-680819.10389159 L -1698751.2593102877,-680837.3653390645 L -1698766.534609188,-680886.3822313132 L -1698765.3217226493,-681072.0679795942 L -1698766.1455998875,-681090.89293253 L -1698768.8547567262,-681109.540133284 L -1698773.4218322607,-681127.8212560012 L -1698779.800701691,-681145.5516720011 L -1698787.9269421552,-681162.55231442 L -1698927.8809622296,-681421.0916924046 L -1699013.7715470237,-681935.3578883376 L -1698974.4351460717,-682144.6027081592 L -1698836.785897063,-682541.8798819835 L -1698832.16871275,-682557.3216794784 L -1698828.8947207534,-682573.1029493024 L -1698826.9881124112,-682589.1070845643 L -1698826.462975542,-682605.215831633 L -1698838.311866847,-683743.9681642583 L -1698359.6134160093,-684143.1001276289 L -1698345.9076724155,-684155.7341846767 L -1698333.524131303,-684169.6666903544 L -1698322.5851854032,-684184.759942739 L -1698313.1989497906,-684200.8647676673 L -1698305.4581933268,-684217.8219930981 L -1698299.4394217802,-684235.4640222903 L -1698194.6337840518,-684601.243945639 L -1697957.1964102094,-685232.2455127178 L -1697511.567296481,-685526.3285148385 L -1697497.0672048149,-685536.9282575814 L -1697483.647862775,-685548.8667861243 L -1697471.43241138,-685562.03454796 L -1697460.5329442867,-685576.3107106667 L -1697451.0494791765,-685591.5642707119 L -1697443.0690399546,-685607.6552555906 L -1697436.6648581852,-685624.4360082678 L -1697431.8957010915,-685641.7525421346 L -1697428.8053322842,-685659.4459540492 L -1697293.5700741454,-686735.6633681293 L -1696848.0130723182,-687468.001787051 L -1696843.1798898026,-687476.4301380327 L -1696721.661686344,-687701.669210531 L -1696202.887654208,-688044.0007111706 L -1696188.8325313523,-688054.2417121787 L -1696175.786678089,-688065.7408553106 L -1696163.862318751,-688078.399221497 L -1696153.1620302445,-688092.1079196851 L -1696143.7778596522,-688106.7490235516 L -1696135.7905324174,-688122.1965859412 L -1696129.2687579184,-688138.3177223006 L -1696124.2686384104,-688154.973753792 L -1696120.8331864174,-688172.0214002494 L -1695991.7211102576,-689012.273041323 L -1695479.8558422711,-689350.1160290992 L -1695479.6699793374,-689350.2388615445 L -1695002.5000565802,-689665.9967059388 L -1694988.288618249,-689676.3922200332 L -1694975.11498636,-689688.074990064 L -1694963.0953349485,-689700.9419894298 L -1694952.3356614646,-689714.8797481897 L -1694942.9308520176,-689729.7653537198 L -1694340.09876933,-690791.2144330003 L -1694331.9833071409,-690807.2476242861 L -1694325.4399797812,-690823.9840760132 L -1694320.5288902796,-690841.270057306 L -1694317.2951489205,-690858.9467896447 L -1694315.7684588865,-690876.8519053073 L -1694315.9628434246,-690894.8209387816 L -1694317.876517037,-690912.6888374452 L -1694321.4919018801,-690930.2914776389 L -1694326.7757892262,-690947.467172206 L -1694333.6796444969,-690964.0581556534 L -1694342.1400530725,-690979.912033289 L -1694352.0793027813,-690994.8831810263 L -1694363.406097715,-691008.8340830001 L -1694376.0163968184,-691021.6365947018 L -1694389.7943695465,-691033.1731200389 L -1694404.6134598143,-691043.3376914997 L -1694420.3375484636,-691052.0369435077 L -1694436.8222035712,-691059.1909700199 L -1694453.916007112,-691064.7340584961 L -1694471.4619457943,-691068.6152934938 L -1694489.2988532872,-691070.799024347 L -1695626.567571897,-691154.9768976567 L -1695628.4982821129,-691155.1097893523 L -1696778.0202840425,-691228.2734764548 L -1697401.5906518986,-691281.6250751672 L -1697897.8515878434,-691684.6224064836 L -1697907.7678989712,-691692.143031922 L -1698502.1135407449,-692112.5760267499 L -1699070.8469990834,-692542.0786025968 L -1699087.2342044266,-692553.1473007029 L -1699104.69603244,-692562.4285257921 L -1699123.0382484517,-692569.8190392051 L -1699142.0568248932,-692575.2366334007 L -1700164.3936976583,-692808.9550193535 L -1700181.1759796331,-692811.9959241317 L -1700198.1651546154,-692813.4992616096 L -1700215.2206496878,-692813.4525927762 L -1700232.2013431836,-692811.8563037816 L -1700521.1095690164,-692771.3702973373 L -1700536.7704480838,-692768.4929489837 L -1700552.1307231686,-692764.2972111434 L -1701050.9004674035,-692605.0089609765 L -1701477.9966235152,-692468.2888150357 L -1701478.2253118793,-692468.2154467907 L -1701800.4555722715,-692364.6092479218 L -1701800.7386746558,-692364.5179746118 L -1702089.7364329533,-692271.0908461106 L -1702361.4392245004,-692183.9329944638 L -1702361.80900172,-692183.8139533114 L -1702622.537193,-692099.5804106448 L -1702885.1388366052,-692014.9000926953 L -1703161.482207711,-691926.1392607244 L -1703451.437215398,-691832.8569115432 L -1703468.7763539038,-691826.3166675933 L -1703485.3851877004,-691818.0967433258 L -1703501.10147496,-691808.2774342962 L -1703515.7716926117,-691796.9546594995 L -1703529.252536017,-691784.2390243941 L -1703541.4123188271,-691770.2547404633 L -1703552.1322593498,-691755.1384118669 L -1703561.3076408564,-691739.0377010361 L -1703568.8488344972,-691722.1098862474 L -1703574.6821748328,-691704.5203252644 L -1703578.750679428,-691686.4408400559 L -1703581.0146054788,-691668.0480383693 L -1703624.3280157566,-691076.0433030875 L -1703965.5185987607,-690434.8768281214 L -1704598.280187112,-690231.4921179084 L -1705641.1030175295,-690439.8760258519 L -1705849.6251797,-690890.6497234363 L -1705857.9973332814,-690906.6724364032 L -1705867.8736365032,-690921.8143953609 L -1705879.1622770638,-690935.9348373052 L -1705891.7583132603,-690948.9024954804 L -1705905.5446495502,-690960.596819664 L -1705920.393125098,-690970.9090968284 L -1705936.1657051863,-690979.743461761 L -1705952.7157644175,-690987.0177882491 L -1705969.8894497752,-690992.664452542 L -1705987.5271108772,-690996.6309619982 L -1706005.4647841188,-690998.8804430672 L -1706023.5357169174,-690999.3919840747 L -1706041.5719178787,-690998.1608296223 L -1706059.4057184844,-690995.1984247944 L -1706076.8713317742,-690990.5323087624 L -1706446.3437161786,-690872.4692308789 L -1706464.2911035623,-690865.7043727626 L -1706481.453497169,-690857.1414138735 L -1706497.6513111668,-690846.8699562878 L -1706512.7150530033,-690834.9974796665 L -1706526.4870969611,-690821.6482165983 L -1706538.8233335402,-690806.9618526404 L -1707119.662308988,-690038.8933814571 L -1707422.7727212345,-689941.6891399382 L -1707440.1372355374,-689935.1566175391 L -1707456.7711610463,-689926.9400046093 L -1707472.511641922,-689917.1197465847 L -1707487.2045696704,-689905.7919895228 L -1707500.7060919532,-689893.0676387764 L -1708328.1979512405,-689032.0221675752 L -1708601.4347999212,-688943.5652104941 L -1708914.3255905986,-688842.7323908911 L -1708932.3882690833,-688835.8652644947 L -1708949.6482240693,-688827.1755157718 L -1708965.9221261612,-688816.75544429 L -1708981.0371194836,-688804.7157285189 L -1708994.8326576971,-688791.1842502411 L -1709802.9559781041,-687912.3514649953 L -1710580.4283221166,-687067.5728895362 L -1710836.1952618249,-686984.7067297943 L -1710852.7205683007,-686978.4784469265 L -1710868.58660343,-686970.723049395 L -1710883.6526168322,-686961.5093366923 L -1710897.7849552587,-686950.9190452799 L -1710910.858248256,-686939.0461234909 L -1710922.7565203484,-686925.9958980976 L -1710933.3742198767,-686911.884139939 L -1711474.3373214311,-686117.6291253343 L -1711992.9372402732,-685371.3370432225 L -1712271.4363657592,-685280.616823986 L -1712288.3359650087,-685274.1952005635 L -1712304.5385639337,-685266.1758807518 L -1712319.8935334035,-685256.6334169843 L -1712334.2581243615,-685245.6565217593 L -1712347.4987949068,-685233.3472429146 L -1712359.4924517812,-685219.8200149299 L -1712370.1275947168,-685205.2005950744 L -1712379.3053530115,-685189.6248942922 L -1712386.9404046887,-685173.2377136911 L -1712392.9617697038,-685156.1913983846 L -1712397.313469816,-685138.6444212004 L -1712399.9550489967,-685120.7599094205 L -1712400.8619495328,-685102.7041282525 L -1712400.0257403299,-685084.6449351271 L -1712397.4541952931,-685066.7502191949 L -1712284.723727091,-684483.5927706202 L -1712280.4496868313,-684466.0591249202 L -1712274.5097697917,-684449.0176010083 L -1712266.9590048252,-684432.6260757558 L -1712257.867344077,-684417.0364042867 L -1712247.3190149295,-684402.3930131538 L -1712235.4117396995,-684388.8315623362 L -1712222.2558303154,-684376.4776884518 L -1711199.074676279,-683504.4268998101 L -1710970.8102844122,-683001.9419368117 L -1710962.153154056,-682985.179566455 L -1710951.8553817081,-682969.3720096969 L -1710940.0212223358,-682954.6793027329 L -1710926.7704853353,-682941.2501949841 L -1710912.2373215796,-682929.2206431541 L -1710896.5688652692,-682918.7124347991 L -1710879.9237443425,-682909.8319553462 L -1710862.4704745198,-682902.6691110452 L -1709990.9093681292,-682595.2379421904 L -1709575.5270951255,-682153.3592455034 L -1709559.9791712668,-682138.6079296703 L -1709542.8494251098,-682125.7272832682 L -1709524.3616679215,-682114.8856003142 L -1708883.001423384,-681786.5148838953 L -1708838.191162587,-680703.5928089014 L -1709031.3549459483,-680055.74092538 L -1709277.0890700442,-679461.4252552972 L -1709282.4071015292,-679446.8919829653 L -1709286.5085066024,-679431.9696527193 L -1709289.3653449658,-679416.7599210283 L -1709304.5228328377,-679312.5115894557 L -1709306.1797226397,-679296.0318245651 L -1709306.3758254526,-679279.4701375029 L -1709305.1096110654,-679262.9557608635 L -1709302.3909598826,-679246.6175580734 L -1709179.3524569613,-678666.7123095694 L -1709174.0893912981,-678647.1694098745 L -1709019.8326798193,-678177.0675292433 L -1709012.7328233086,-678158.7358995692 L -1709003.7526465037,-678141.2483887819 L -1708992.9908643898,-678124.7972291051 L -1708980.565776325,-678109.5632606279 L -1708966.6139656312,-678095.7139434122 L -1708951.2887981946,-678083.4015166805 L -1708402.785450197,-677688.1889174804 L -1708190.03980412,-677111.9528490447 L -1708183.0487566765,-677095.4821486858 L -1708174.519546145,-677079.7528358471 L -1708164.529845801,-677064.9081532401 L -1707754.9236330346,-676514.8462851655 L -1707742.8828765566,-676500.2723614137 L -1707729.4357891232,-676486.9849647671 L -1707714.7190664173,-676475.1191675799 L -1707698.8823105348,-676464.7955910095 L -1707682.0865092115,-676456.1191788483 L -1707664.5023993107,-676449.1781307224 L -1707646.308731207,-676444.0430055031 L -1707627.6904517072,-676440.7660040447 L -1707608.8368239843,-676439.3804385386 L -1707589.939503631,-676439.9003938806 L -1707571.190590396,-676442.3205844909 L -1707552.7806754024,-676446.6164080452 L -1707534.896903704,-676452.7441955677 L -1707517.7210718715,-676460.6416553463 L -1707501.4277799497,-676470.2285061555 L -1707148.0214940065,-676702.9195571186 L -1706801.4215475908,-676835.9669485897 L -1706525.6305413914,-676924.6931032964 L -1706397.6077394686,-676901.3566364445 L -1706400.4042252782,-676693.5572596791 L -1706399.8011934136,-676675.7987401808 L -1706397.5198434761,-676658.1770460322 L -1706393.5806636459,-676640.850432847 L -1706388.0190306187,-676623.9745061977 L -1706380.8848918993,-676607.700824164 L -1705996.0123883726,-675831.965797279 L -1705985.528859824,-675813.5335009152 L -1705973.0311354506,-675796.4028031605 L -1705958.6790630962,-675780.7928083108 L -1705563.8982014577,-675397.3880950997 L -1705184.7898816818,-675013.3558110297 L -1705184.1725116936,-675012.7333399853 L -1705158.221831685,-674986.6902997624 L -1705204.1867310165,-674534.7404608516 L -1705205.1443554403,-674517.0866515734 L -1705204.4349595595,-674499.4211262756 L -1705202.0648506088,-674481.9009490468 L -1705198.055101214,-674464.6818916871 L -1705192.441362035,-674447.9170487414 L -1705185.2735447963,-674431.7554763365 L -1705089.4138685293,-674240.4951629315 L -1705027.7735124943,-673870.3588589394 L -1705038.5662300517,-673857.9714245867 L -1705046.4941915702,-673848.231816356 L -1705543.5496303157,-673194.0062179965 L -1705678.951101115,-673116.6422370474 L -1705694.7349404844,-673106.5456380593 L -1705709.4322775002,-673094.9241415543 L -1705722.8963443106,-673081.8937999895 L -1705734.992688521,-673067.5847345722 L -1705745.600515837,-673052.1398358674 L -1705754.6138963192,-673035.71333689 L -1705761.9428222,-673018.4692729316 L -1705767.5141067042,-673000.5798435012 L -1705771.2721148918,-672982.2236927382 L -1705773.179319231,-672963.5841254692 L -1705773.2166743476,-672944.8472767223 L -1705771.3838072126,-672926.2002529802 L -1705767.6990208675,-672907.829263732 L -1705559.6795231854,-672086.0855814029 L -1705766.893079188,-671592.5584837543 L -1705910.2737042725,-671410.7043216762 L -1705919.7498914036,-671403.4438231095 L -1705933.4382500662,-671390.5900025023 L -1705945.772318872,-671376.4315204588 L -1705956.6283959935,-671361.1103763563 L -1705965.8976027963,-671344.7802302354 L -1705970.5474659754,-671334.2572115918 L -1706295.2649393794,-670922.4078142052 L -1706298.9633329343,-670917.5567568584 L -1706786.1467658784,-670256.5022057792 L -1707553.2082757817,-669503.810110906 L -1707910.9524789222,-669368.700112037 L -1708329.2473234842,-669210.8738052151 L -1708345.3717156486,-669203.9107087123 L -1708360.7738297407,-669195.469404484 L -1708375.3185189378,-669185.6239612872 L -1708388.8781599458,-669174.4607685849 L -1708401.333772839,-669162.0777785165 L -1708412.5760650553,-669148.58364641 L -1708422.5063903916,-669134.09677738 L -1708431.0376145814,-669118.7442873733 L -1708438.0948798591,-669102.660887783 L -1708656.2153015374,-668534.644329352 L -1708876.3179690973,-667966.0173993396 L -1708877.7764814508,-667962.1215507963 L -1709081.3145572387,-667399.5192781374 L -1709086.5285299502,-667382.6684155031 L -1709090.1359388682,-667365.4021569666 L -1709092.1048579856,-667347.8733110131 L -1709092.417862129,-667330.2370100586 L -1709091.0721811738,-667312.6493375087 L -1709088.07972456,-667295.2659464021 L -1709083.466975892,-667278.2406818615 L -1709077.2747585557,-667261.7242195462 L -1708897.687935361,-666843.6775797835 L -1708897.3191674708,-666842.8249826828 L -1708715.8671484517,-666426.1410172824 L -1708707.6780520326,-666409.6090450882 L -1708697.9039048024,-666393.961890372 L -1708686.6393357713,-666379.3510420279 L -1708673.9934035593,-666365.9179558865 L -1708660.0885405403,-666353.7926852003 L -1708191.223373229,-665983.916730348 L -1708449.0825907837,-665022.8346203024 L -1709110.0568873447,-663642.1544809815 L -1709470.1504954097,-663526.325642923 L -1709488.4093685967,-663519.3835464064 L -1709505.8468957788,-663510.5794678133 L -1709522.2738134007,-663500.0089649139 L -1709537.511826868,-663487.7867679072 L -1709551.395545723,-663474.0455341612 L -1709563.7742787595,-663458.9344083755 L -1710127.5984424835,-662692.4388476922 L -1710463.6533361438,-662583.7833169191 L -1710481.0439729828,-662577.1910657727 L -1710497.6959767411,-662568.908385308 L -1710513.4455132412,-662559.0167663873 L -1710528.1376274163,-662547.6135297455 L -1710541.6277678676,-662534.810868481 L -1710553.7832090624,-662520.7347442204 L -1710564.4843571829,-662505.5236478185 L -1710573.6259267733,-662489.327236788 L -1710581.117976614,-662472.3048628635 L -1710586.8867946255,-662454.6240041854 L -1710590.8756231007,-662436.4586175327 L -1710593.0452171268,-662417.987426813 L -1710593.3742307052,-662399.39216465 L -1710591.8594267678,-662380.8557843703 L -1710588.5157090258,-662362.5606599787 L -1710583.3759753369,-662344.6867918341 L -1710391.6512800623,-661784.2468439366 L -1710389.1887366914,-661777.4761018896 L -1710175.4209580685,-661223.1200827608 L -1710168.1515349697,-661206.6666826018 L -1710159.33892989,-661190.9855831288 L -1710149.0642492243,-661176.2211046009 L -1710137.4220555115,-661162.5091312004 L -1710124.5194971326,-661149.9758604277 L -1710110.4753221755,-661138.7366416493 L -1710095.4187855416,-661128.8949144853 L -1709411.8502097433,-660727.5056749552 L -1709396.3006266758,-660719.3294534273 L -1709380.054054325,-660712.6444688436 L -1709363.2531229262,-660707.5094093325 L -1709346.045329488,-660703.9693560803 L -1709328.5817428995,-660702.055387558 L -1709311.0156776826,-660701.7843066811 L -1709293.5013480298,-660703.1584932951 L -1709276.192513941,-660706.1658832821 L -1709259.2411313518,-660710.7800744736 L -1708878.2107503484,-660833.9396779852 L -1708065.9768219376,-660519.5756170796 L -1707214.9840734585,-660173.845813871 L -1707197.298185952,-660167.6707042214 L -1707179.0843884682,-660163.2911862917 L -1707160.5244874596,-660160.7509755467 L -1707141.8037441142,-660160.0754278573 L -1707123.1090251163,-660161.2712864046 L -1707104.6269373796,-660164.3266143696 L -1707086.5419653761,-660169.2109140849 L -1706675.812061743,-660302.4825345931 L -1706368.6281456766,-660402.1566173577 L -1705140.5923585496,-659857.8548848826 L -1705123.0314685279,-659851.1038379172 L -1705104.8824310156,-659846.1466279293 L -1705086.3279748429,-659843.0331652891 L -1705067.5549106908,-659841.7947970794 L -1705048.7522502379,-659842.4439914862 L -1705030.1093031454,-659844.9742122658 L -1705011.8137710425,-659849.359984553 L -1704994.0498577012,-659855.5571513483 L -1704976.9964144297,-659863.5033181015 L -1704960.8251393542,-659873.1184809142 L -1704661.922829023,-660071.7895064596 L -1703617.6973584339,-659571.1304304721 L -1703497.36304554,-659264.8055816371 L -1703520.5932177473,-658752.0267868377 L -1704050.6288377366,-658147.6453194334 L -1704061.9879056597,-658133.3439256174 L -1704062.174005228,-658133.0559914496 z M -1689710.5753341657,-658722.1871703302 L -1689146.9425777947,-658779.5346987325 L -1688810.6343481669,-658501.6009678242 L -1689137.2588091083,-658455.0434228248 L -1689742.2037024202,-658708.2560791421 L -1689710.5753341657,-658722.1871703302 z M -1688547.011547015,-667322.7799990756 L -1687952.3964900214,-668366.2816864403 L -1687615.4737220139,-668495.5446430403 L -1687552.3271893002,-668471.2799885339 L -1687535.105304973,-666903.6710674402 L -1687719.7116942776,-666843.4318180657 L -1687969.7839508418,-666762.5801920848 L -1688547.011547015,-667322.7799990756 z\" /></g></svg>"
      ],
      "text/plain": [
       "<POLYGON ((-1704062.174 -658133.056, -1704062.379 -658132.797, -1704065.536 ...>"
      ]
     },
     "execution_count": 10,
     "metadata": {},
     "output_type": "execute_result"
    }
   ],
   "source": [
    "allfires.fires[1].hull"
   ]
  },
  {
   "cell_type": "markdown",
   "id": "a13ee794-1c4e-44c9-b939-bd04ab0223f8",
   "metadata": {},
   "source": [
    "## Experiments with saving fire data"
   ]
  },
  {
   "cell_type": "code",
   "execution_count": null,
   "id": "bddb4e77-086b-4d6b-9a4e-e2e92014a195",
   "metadata": {
    "editable": true,
    "slideshow": {
     "slide_type": ""
    },
    "tags": []
   },
   "outputs": [],
   "source": [
    "%%time\n",
    "\n",
    "from FireConsts import firesrc\n",
    "import os\n",
    "OUTPUT_DIR = \"/tests/data/processed/\"\n",
    "\n",
    "for fid, fire in allfires.fires.items():\n",
    "    fire_filename = f\"{fid=}.txt\"\n",
    "    output_filepath = os.path.join(OUTPUT_DIR, firesrc, region[0], \"fires\", fire_filename)\n",
    "    \n",
    "    # make nested path if necessary\n",
    "    os.makedirs(os.path.dirname(output_filepath), exist_ok=True)\n",
    "\n",
    "    fire.pixels.to_csv(output_filepath, index=False)"
   ]
  },
  {
   "cell_type": "markdown",
   "id": "845c64f1-9b96-47ad-8d3a-e2cdfa24755c",
   "metadata": {},
   "source": [
    "## Experiments with land cover"
   ]
  },
  {
   "cell_type": "code",
   "execution_count": null,
   "id": "b9dc7da3-55e1-40ea-b390-749f876252de",
   "metadata": {
    "tags": []
   },
   "outputs": [],
   "source": [
    "from FireConsts import dirextdata\n",
    "\n",
    "import rasterio\n",
    "import pyproj\n",
    "import os"
   ]
  },
  {
   "cell_type": "code",
   "execution_count": null,
   "id": "c4068c3a-089f-4d85-81cb-eba0117c6d93",
   "metadata": {
    "tags": []
   },
   "outputs": [],
   "source": [
    "%%time\n",
    "# read NLCD 500m data\n",
    "fnmLCT = os.path.join(dirextdata, \"NLCD\", f\"nlcd_export_510m_simplified_latlon.tif\")\n",
    "dataset = rasterio.open(fnmLCT)\n",
    "samps = list(dataset.sample(fire.newlocs_geo))\n",
    "vLCT = [s[0] for s in samps]\n",
    "vLCT"
   ]
  },
  {
   "cell_type": "code",
   "execution_count": null,
   "id": "97377f44-fb78-4bb6-b0f0-524446a5c64e",
   "metadata": {
    "tags": []
   },
   "outputs": [],
   "source": [
    "%%time\n",
    "# read NLCD 500m data\n",
    "fnmLCT = os.path.join(dirextdata, \"NLCD\", f\"nlcd_export_510m_simplified_{epsg}.tif\")\n",
    "dataset = rasterio.open(fnmLCT)\n",
    "samps = list(dataset.sample(fire.newlocs))\n",
    "vLCT = [s[0] for s in samps]\n",
    "vLCT"
   ]
  },
  {
   "cell_type": "code",
   "execution_count": null,
   "id": "d2bc726e-ac06-4ce9-af7c-c26104cd16b8",
   "metadata": {},
   "outputs": [],
   "source": [
    "%%time\n",
    "\n",
    "locs = fire.newlocs_geo\n",
    "# read NLCD 500m data\n",
    "fnmLCT = os.path.join(dirextdata, \"NLCD\", \"nlcd_export_510m_simplified.tif\")\n",
    "dataset = rasterio.open(fnmLCT)\n",
    "transformer = pyproj.Transformer.from_crs(\"epsg:4326\", dataset.crs)\n",
    "locs_crs_x, locs_crs_y = transformer.transform(\n",
    "    # NOTE: EPSG 4326 expected coordinate order latitude, longitude, but\n",
    "    # `locs` is x (longitude), y (latitude). That's why `l[1]`, then `l[0]`\n",
    "    # here.\n",
    "    [l[1] for l in locs],\n",
    "    [l[0] for l in locs]\n",
    ")\n",
    "locs_crs = list(zip(locs_crs_x, locs_crs_y))\n",
    "samps = list(dataset.sample(locs_crs))\n",
    "vLCT = [int(s) for s in samps]\n",
    "vLCT"
   ]
  },
  {
   "cell_type": "markdown",
   "id": "7da48319-4b65-4d84-aa83-f2de98e60679",
   "metadata": {},
   "source": [
    "## Experiments with hulls\n",
    "\n",
    "Trying out next steps around hulls:"
   ]
  },
  {
   "cell_type": "code",
   "execution_count": null,
   "id": "aaddf824-be42-4648-9796-8007ad9bce35",
   "metadata": {},
   "outputs": [],
   "source": [
    "from FireObj import Cluster, FirePixel\n",
    "from FireVector import *"
   ]
  },
  {
   "cell_type": "code",
   "execution_count": null,
   "id": "088aeac8-1049-43c8-813a-0e21fc659b87",
   "metadata": {
    "editable": true,
    "slideshow": {
     "slide_type": ""
    },
    "tags": []
   },
   "outputs": [],
   "source": [
    "%%time\n",
    "for d in range(1, 32):\n",
    "    for ampm in (\"AM\", \"PM\"):\n",
    "        df = read_preprocessed((t[0], t[1], d, ampm), sat, region=region)\n",
    "        for ic, pixels in df.groupby(\"initial_cid\"):\n",
    "            hull = cal_hull(pixels[[\"x\", \"y\"]].values, sensor=\"viirs\")"
   ]
  },
  {
   "cell_type": "code",
   "execution_count": null,
   "id": "f27538c6-33d9-48a9-b15f-708d9cb06c3b",
   "metadata": {},
   "outputs": [],
   "source": [
    "biggest_cluster = df.value_counts(\"initial_cid\").index[0]\n",
    "pixels = df[df[\"initial_cid\"] == biggest_cluster].copy()\n",
    "pixel_locs = pixels[[\"x\", \"y\"]].values\n",
    "hull = cal_hull(pixel_locs, sensor=\"viirs\")"
   ]
  },
  {
   "cell_type": "code",
   "execution_count": null,
   "id": "6b744ff4-1c7e-4025-a567-fec3d0c67659",
   "metadata": {},
   "outputs": [],
   "source": [
    "from utils import timed"
   ]
  },
  {
   "cell_type": "code",
   "execution_count": null,
   "id": "551a7506-e39f-42b3-b8da-58d312819904",
   "metadata": {},
   "outputs": [],
   "source": [
    "# compute initial hulls\n",
    "hulls = dict()\n",
    "for ic, subset in df.groupby(\"initial_cid\"):\n",
    "    pixel_locs = subset[[\"x\", \"y\"]].values\n",
    "    hulls[ic] = cal_hull(pixel_locs, sensor=\"viirs\")\n",
    "\n",
    "# store hulls\n",
    "df = pd.merge(df, pd.Series(hulls, name=\"hull\"), how=\"outer\", left_on=\"initial_cid\", right_index=True)"
   ]
  }
 ],
 "metadata": {
  "kernelspec": {
   "display_name": "NewFireAtlas",
   "language": "python",
   "name": "fire"
  },
  "language_info": {
   "codemirror_mode": {
    "name": "ipython",
    "version": 3
   },
   "file_extension": ".py",
   "mimetype": "text/x-python",
   "name": "python",
   "nbconvert_exporter": "python",
   "pygments_lexer": "ipython3",
   "version": "3.11.7"
  }
 },
 "nbformat": 4,
 "nbformat_minor": 5
}
