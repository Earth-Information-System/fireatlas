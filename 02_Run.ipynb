{
 "cells": [
  {
   "cell_type": "markdown",
   "id": "f14a2dc9-e4ba-46ea-9e35-fca95f4514b0",
   "metadata": {},
   "source": [
    "## Run the fire expansion and merging algorithm\n",
    "\n",
    "`Fire_Forward` is responsible for reading in the preprocessed data created in the `Ingest` notebook"
   ]
  },
  {
   "cell_type": "code",
   "execution_count": 1,
   "id": "2ed6f4c1-f380-4b1d-b478-b3dcd61d705d",
   "metadata": {
    "scrolled": true
   },
   "outputs": [],
   "source": [
    "import datetime\n",
    "import pandas as pd\n",
    "import geopandas as gpd\n",
    "\n",
    "import FireMain, FireTime, FireObj, FireConsts, postprocess\n",
    "from utils import timed\n",
    "\n",
    "region = [\"WesternUS\",]  # note you don't need the shape in here, just the name\n",
    "tst = [2023, 8, 28, 'AM']\n",
    "ted = [2023, 9, 6, 'AM']"
   ]
  },
  {
   "cell_type": "markdown",
   "id": "3c556708-9846-4c45-a86f-88abe0e334c5",
   "metadata": {},
   "source": [
    "Since we want to use precisely the files that we just created in the Ingest notebook. We will set the `read_location` to \"local\"."
   ]
  },
  {
   "cell_type": "code",
   "execution_count": 2,
   "id": "7ccd529a-94e5-42b5-a099-e47fe352f1f9",
   "metadata": {},
   "outputs": [
    {
     "name": "stderr",
     "output_type": "stream",
     "text": [
      "2024-03-26 17:50:54,194 - FireLog - INFO - func:read_preprocessed took: 16.23 ms\n",
      "2024-03-26 17:50:54,208 - FireLog - INFO - func:read_preprocessed took: 13.37 ms\n",
      "2024-03-26 17:50:54,222 - FireLog - INFO - func:read_preprocessed took: 13.02 ms\n",
      "2024-03-26 17:50:54,233 - FireLog - INFO - func:read_preprocessed took: 11.00 ms\n",
      "2024-03-26 17:50:54,246 - FireLog - INFO - func:read_preprocessed took: 12.45 ms\n",
      "2024-03-26 17:50:54,260 - FireLog - INFO - func:read_preprocessed took: 12.89 ms\n",
      "2024-03-26 17:50:54,276 - FireLog - INFO - func:read_preprocessed took: 15.45 ms\n",
      "2024-03-26 17:50:54,281 - FireLog - INFO - func:read_preprocessed took: 4.81 ms\n",
      "2024-03-26 17:50:54,287 - FireLog - INFO - func:read_preprocessed took: 5.07 ms\n",
      "2024-03-26 17:50:54,291 - FireLog - INFO - func:read_preprocessed took: 4.31 ms\n",
      "2024-03-26 17:50:54,297 - FireLog - INFO - func:read_preprocessed took: 4.76 ms\n",
      "2024-03-26 17:50:54,301 - FireLog - INFO - func:read_preprocessed took: 4.14 ms\n",
      "2024-03-26 17:50:54,307 - FireLog - INFO - func:read_preprocessed took: 5.16 ms\n",
      "2024-03-26 17:50:54,311 - FireLog - INFO - func:read_preprocessed took: 4.00 ms\n",
      "2024-03-26 17:50:54,317 - FireLog - INFO - func:read_preprocessed took: 4.79 ms\n",
      "2024-03-26 17:50:54,321 - FireLog - INFO - func:read_preprocessed took: 4.36 ms\n",
      "2024-03-26 17:50:54,327 - FireLog - INFO - func:read_preprocessed took: 4.80 ms\n",
      "2024-03-26 17:50:54,332 - FireLog - INFO - func:read_preprocessed took: 4.67 ms\n",
      "2024-03-26 17:50:54,337 - FireLog - INFO - func:read_preprocessed took: 5.06 ms\n",
      "2024-03-26 17:50:54,342 - FireLog - INFO - --------------------\n",
      "2024-03-26 17:50:54,342 - FireLog - INFO - Fire tracking at [2023, 8, 28, 'AM']\n",
      "2024-03-26 17:51:40,687 - FireLog - INFO - func:Fire_expand_rtree took: 46.34 sec\n",
      "2024-03-26 17:51:53,765 - FireLog - INFO - func:Fire_merge_rtree took: 13.08 sec\n",
      "2024-03-26 17:51:53,766 - FireLog - INFO - fids_expand: 0\n",
      "2024-03-26 17:51:53,766 - FireLog - INFO - fids_new: 264\n",
      "2024-03-26 17:51:53,767 - FireLog - INFO - fids_merged: 32\n",
      "2024-03-26 17:51:53,767 - FireLog - INFO - fids_invalid: 87\n",
      "2024-03-26 17:51:55,945 - FireLog - INFO - func:update_gdf took: 2.18 sec\n",
      "2024-03-26 17:51:55,946 - FireLog - INFO - func:Fire_Forward_one_step took: 1.03 min\n",
      "2024-03-26 17:51:55,947 - FireLog - INFO - --------------------\n",
      "2024-03-26 17:51:55,947 - FireLog - INFO - Fire tracking at [2023, 8, 28, 'PM']\n",
      "2024-03-26 17:52:20,571 - FireLog - INFO - func:Fire_expand_rtree took: 24.62 sec\n",
      "2024-03-26 17:52:23,127 - FireLog - INFO - func:Fire_merge_rtree took: 2.55 sec\n",
      "2024-03-26 17:52:23,128 - FireLog - INFO - fids_expand: 56\n",
      "2024-03-26 17:52:23,129 - FireLog - INFO - fids_new: 93\n",
      "2024-03-26 17:52:23,129 - FireLog - INFO - fids_merged: 13\n",
      "2024-03-26 17:52:23,130 - FireLog - INFO - fids_invalid: 17\n",
      "2024-03-26 17:52:24,542 - FireLog - INFO - func:update_gdf took: 1.41 sec\n",
      "2024-03-26 17:52:24,543 - FireLog - INFO - func:Fire_Forward_one_step took: 28.60 sec\n",
      "2024-03-26 17:52:24,543 - FireLog - INFO - --------------------\n",
      "2024-03-26 17:52:24,544 - FireLog - INFO - Fire tracking at [2023, 8, 29, 'AM']\n",
      "2024-03-26 17:52:52,724 - FireLog - INFO - func:Fire_expand_rtree took: 28.18 sec\n",
      "2024-03-26 17:52:55,410 - FireLog - INFO - func:Fire_merge_rtree took: 2.68 sec\n",
      "2024-03-26 17:52:55,411 - FireLog - INFO - fids_expand: 115\n",
      "2024-03-26 17:52:55,411 - FireLog - INFO - fids_new: 70\n",
      "2024-03-26 17:52:55,412 - FireLog - INFO - fids_merged: 9\n",
      "2024-03-26 17:52:55,412 - FireLog - INFO - fids_invalid: 16\n",
      "2024-03-26 17:52:57,132 - FireLog - INFO - func:update_gdf took: 1.72 sec\n",
      "2024-03-26 17:52:57,133 - FireLog - INFO - func:Fire_Forward_one_step took: 32.59 sec\n",
      "2024-03-26 17:52:57,133 - FireLog - INFO - --------------------\n",
      "2024-03-26 17:52:57,134 - FireLog - INFO - Fire tracking at [2023, 8, 29, 'PM']\n",
      "2024-03-26 17:53:08,248 - FireLog - INFO - func:Fire_expand_rtree took: 11.11 sec\n",
      "2024-03-26 17:53:08,839 - FireLog - INFO - func:Fire_merge_rtree took: 588.77 ms\n",
      "2024-03-26 17:53:08,839 - FireLog - INFO - fids_expand: 31\n",
      "2024-03-26 17:53:08,840 - FireLog - INFO - fids_new: 38\n",
      "2024-03-26 17:53:08,840 - FireLog - INFO - fids_merged: 3\n",
      "2024-03-26 17:53:08,841 - FireLog - INFO - fids_invalid: 3\n",
      "2024-03-26 17:53:09,565 - FireLog - INFO - func:update_gdf took: 723.31 ms\n",
      "2024-03-26 17:53:09,566 - FireLog - INFO - func:Fire_Forward_one_step took: 12.43 sec\n",
      "2024-03-26 17:53:09,566 - FireLog - INFO - --------------------\n",
      "2024-03-26 17:53:09,567 - FireLog - INFO - Fire tracking at [2023, 8, 30, 'AM']\n",
      "2024-03-26 17:53:31,385 - FireLog - INFO - func:Fire_expand_rtree took: 21.81 sec\n",
      "2024-03-26 17:53:32,389 - FireLog - INFO - func:Fire_merge_rtree took: 1.00 sec\n",
      "2024-03-26 17:53:32,390 - FireLog - INFO - fids_expand: 99\n",
      "2024-03-26 17:53:32,390 - FireLog - INFO - fids_new: 42\n",
      "2024-03-26 17:53:32,391 - FireLog - INFO - fids_merged: 4\n",
      "2024-03-26 17:53:32,391 - FireLog - INFO - fids_invalid: 6\n",
      "2024-03-26 17:53:33,711 - FireLog - INFO - func:update_gdf took: 1.32 sec\n",
      "2024-03-26 17:53:33,712 - FireLog - INFO - func:Fire_Forward_one_step took: 24.15 sec\n",
      "2024-03-26 17:53:33,712 - FireLog - INFO - --------------------\n",
      "2024-03-26 17:53:33,713 - FireLog - INFO - Fire tracking at [2023, 8, 30, 'PM']\n",
      "2024-03-26 17:53:46,712 - FireLog - INFO - func:Fire_expand_rtree took: 13.00 sec\n",
      "2024-03-26 17:53:47,772 - FireLog - INFO - func:Fire_merge_rtree took: 1.06 sec\n",
      "2024-03-26 17:53:47,773 - FireLog - INFO - fids_expand: 43\n",
      "2024-03-26 17:53:47,773 - FireLog - INFO - fids_new: 37\n",
      "2024-03-26 17:53:47,774 - FireLog - INFO - fids_merged: 4\n",
      "2024-03-26 17:53:47,774 - FireLog - INFO - fids_invalid: 5\n",
      "2024-03-26 17:53:48,573 - FireLog - INFO - func:update_gdf took: 798.27 ms\n",
      "2024-03-26 17:53:48,574 - FireLog - INFO - func:Fire_Forward_one_step took: 14.86 sec\n",
      "2024-03-26 17:53:48,574 - FireLog - INFO - --------------------\n",
      "2024-03-26 17:53:48,575 - FireLog - INFO - Fire tracking at [2023, 8, 31, 'AM']\n",
      "2024-03-26 17:54:09,536 - FireLog - INFO - func:Fire_expand_rtree took: 20.96 sec\n",
      "2024-03-26 17:54:10,579 - FireLog - INFO - func:Fire_merge_rtree took: 1.04 sec\n",
      "2024-03-26 17:54:10,580 - FireLog - INFO - fids_expand: 105\n",
      "2024-03-26 17:54:10,580 - FireLog - INFO - fids_new: 29\n",
      "2024-03-26 17:54:10,581 - FireLog - INFO - fids_merged: 5\n",
      "2024-03-26 17:54:10,581 - FireLog - INFO - fids_invalid: 6\n",
      "2024-03-26 17:54:11,871 - FireLog - INFO - func:update_gdf took: 1.29 sec\n",
      "2024-03-26 17:54:11,871 - FireLog - INFO - func:Fire_Forward_one_step took: 23.30 sec\n",
      "2024-03-26 17:54:11,872 - FireLog - INFO - --------------------\n",
      "2024-03-26 17:54:11,873 - FireLog - INFO - Fire tracking at [2023, 8, 31, 'PM']\n",
      "2024-03-26 17:54:18,125 - FireLog - INFO - func:Fire_expand_rtree took: 6.25 sec\n",
      "2024-03-26 17:54:18,719 - FireLog - INFO - func:Fire_merge_rtree took: 591.91 ms\n",
      "2024-03-26 17:54:18,720 - FireLog - INFO - fids_expand: 22\n",
      "2024-03-26 17:54:18,721 - FireLog - INFO - fids_new: 20\n",
      "2024-03-26 17:54:18,721 - FireLog - INFO - fids_merged: 3\n",
      "2024-03-26 17:54:18,721 - FireLog - INFO - fids_invalid: 3\n",
      "2024-03-26 17:54:19,156 - FireLog - INFO - func:update_gdf took: 433.33 ms\n",
      "2024-03-26 17:54:19,156 - FireLog - INFO - func:Fire_Forward_one_step took: 7.28 sec\n",
      "2024-03-26 17:54:19,157 - FireLog - INFO - --------------------\n",
      "2024-03-26 17:54:19,157 - FireLog - INFO - Fire tracking at [2023, 9, 1, 'AM']\n",
      "2024-03-26 17:54:35,297 - FireLog - INFO - func:Fire_expand_rtree took: 16.13 sec\n",
      "2024-03-26 17:54:35,608 - FireLog - INFO - func:Fire_merge_rtree took: 308.18 ms\n",
      "2024-03-26 17:54:35,609 - FireLog - INFO - fids_expand: 84\n",
      "2024-03-26 17:54:35,609 - FireLog - INFO - fids_new: 31\n",
      "2024-03-26 17:54:35,610 - FireLog - INFO - fids_merged: 1\n",
      "2024-03-26 17:54:35,610 - FireLog - INFO - fids_invalid: 1\n",
      "2024-03-26 17:54:36,699 - FireLog - INFO - func:update_gdf took: 1.09 sec\n",
      "2024-03-26 17:54:36,700 - FireLog - INFO - func:Fire_Forward_one_step took: 17.54 sec\n",
      "2024-03-26 17:54:36,701 - FireLog - INFO - --------------------\n",
      "2024-03-26 17:54:36,701 - FireLog - INFO - Fire tracking at [2023, 9, 1, 'PM']\n",
      "2024-03-26 17:54:41,239 - FireLog - INFO - func:Fire_expand_rtree took: 4.53 sec\n",
      "2024-03-26 17:54:41,440 - FireLog - INFO - func:Fire_merge_rtree took: 198.32 ms\n",
      "2024-03-26 17:54:41,440 - FireLog - INFO - fids_expand: 10\n",
      "2024-03-26 17:54:41,441 - FireLog - INFO - fids_new: 20\n",
      "2024-03-26 17:54:41,441 - FireLog - INFO - fids_merged: 1\n",
      "2024-03-26 17:54:41,442 - FireLog - INFO - fids_invalid: 1\n",
      "2024-03-26 17:54:41,790 - FireLog - INFO - func:update_gdf took: 347.21 ms\n",
      "2024-03-26 17:54:41,792 - FireLog - INFO - func:Fire_Forward_one_step took: 5.09 sec\n",
      "2024-03-26 17:54:41,792 - FireLog - INFO - --------------------\n",
      "2024-03-26 17:54:41,792 - FireLog - INFO - Fire tracking at [2023, 9, 2, 'AM']\n",
      "2024-03-26 17:54:52,694 - FireLog - INFO - func:Fire_expand_rtree took: 10.90 sec\n",
      "2024-03-26 17:54:53,251 - FireLog - INFO - func:Fire_merge_rtree took: 553.53 ms\n",
      "2024-03-26 17:54:53,252 - FireLog - INFO - fids_expand: 58\n",
      "2024-03-26 17:54:53,252 - FireLog - INFO - fids_new: 19\n",
      "2024-03-26 17:54:53,253 - FireLog - INFO - fids_merged: 2\n",
      "2024-03-26 17:54:53,253 - FireLog - INFO - fids_invalid: 3\n",
      "2024-03-26 17:54:54,003 - FireLog - INFO - func:update_gdf took: 749.04 ms\n",
      "2024-03-26 17:54:54,004 - FireLog - INFO - func:Fire_Forward_one_step took: 12.21 sec\n",
      "2024-03-26 17:54:54,004 - FireLog - INFO - --------------------\n",
      "2024-03-26 17:54:54,004 - FireLog - INFO - Fire tracking at [2023, 9, 2, 'PM']\n",
      "2024-03-26 17:54:59,346 - FireLog - INFO - func:Fire_expand_rtree took: 5.34 sec\n",
      "2024-03-26 17:54:59,568 - FireLog - INFO - func:Fire_merge_rtree took: 218.92 ms\n",
      "2024-03-26 17:54:59,568 - FireLog - INFO - fids_expand: 15\n",
      "2024-03-26 17:54:59,569 - FireLog - INFO - fids_new: 21\n",
      "2024-03-26 17:54:59,569 - FireLog - INFO - fids_merged: 1\n",
      "2024-03-26 17:54:59,570 - FireLog - INFO - fids_invalid: 1\n",
      "2024-03-26 17:54:59,951 - FireLog - INFO - func:update_gdf took: 380.61 ms\n",
      "2024-03-26 17:54:59,952 - FireLog - INFO - func:Fire_Forward_one_step took: 5.95 sec\n",
      "2024-03-26 17:54:59,952 - FireLog - INFO - --------------------\n",
      "2024-03-26 17:54:59,953 - FireLog - INFO - Fire tracking at [2023, 9, 3, 'AM']\n",
      "2024-03-26 17:55:15,747 - FireLog - INFO - func:Fire_expand_rtree took: 15.79 sec\n",
      "2024-03-26 17:55:16,120 - FireLog - INFO - func:Fire_merge_rtree took: 370.07 ms\n",
      "2024-03-26 17:55:16,120 - FireLog - INFO - fids_expand: 87\n",
      "2024-03-26 17:55:16,121 - FireLog - INFO - fids_new: 22\n",
      "2024-03-26 17:55:16,121 - FireLog - INFO - fids_merged: 1\n",
      "2024-03-26 17:55:16,121 - FireLog - INFO - fids_invalid: 1\n",
      "2024-03-26 17:55:17,158 - FireLog - INFO - func:update_gdf took: 1.04 sec\n",
      "2024-03-26 17:55:17,159 - FireLog - INFO - func:Fire_Forward_one_step took: 17.21 sec\n",
      "2024-03-26 17:55:17,160 - FireLog - INFO - --------------------\n",
      "2024-03-26 17:55:17,160 - FireLog - INFO - Fire tracking at [2023, 9, 3, 'PM']\n",
      "2024-03-26 17:55:20,366 - FireLog - INFO - func:Fire_expand_rtree took: 3.20 sec\n",
      "2024-03-26 17:55:20,463 - FireLog - INFO - func:Fire_merge_rtree took: 95.11 ms\n",
      "2024-03-26 17:55:20,464 - FireLog - INFO - fids_expand: 14\n",
      "2024-03-26 17:55:20,464 - FireLog - INFO - fids_new: 8\n",
      "2024-03-26 17:55:20,465 - FireLog - INFO - fids_merged: 0\n",
      "2024-03-26 17:55:20,465 - FireLog - INFO - fids_invalid: 0\n",
      "2024-03-26 17:55:20,720 - FireLog - INFO - func:update_gdf took: 254.18 ms\n",
      "2024-03-26 17:55:20,721 - FireLog - INFO - func:Fire_Forward_one_step took: 3.56 sec\n",
      "2024-03-26 17:55:20,721 - FireLog - INFO - --------------------\n",
      "2024-03-26 17:55:20,722 - FireLog - INFO - Fire tracking at [2023, 9, 4, 'AM']\n",
      "2024-03-26 17:55:34,323 - FireLog - INFO - func:Fire_expand_rtree took: 13.60 sec\n",
      "2024-03-26 17:55:34,651 - FireLog - INFO - func:Fire_merge_rtree took: 324.71 ms\n",
      "2024-03-26 17:55:34,652 - FireLog - INFO - fids_expand: 76\n",
      "2024-03-26 17:55:34,652 - FireLog - INFO - fids_new: 21\n",
      "2024-03-26 17:55:34,653 - FireLog - INFO - fids_merged: 2\n",
      "2024-03-26 17:55:34,653 - FireLog - INFO - fids_invalid: 2\n",
      "2024-03-26 17:55:35,624 - FireLog - INFO - func:update_gdf took: 969.79 ms\n",
      "2024-03-26 17:55:35,624 - FireLog - INFO - func:Fire_Forward_one_step took: 14.90 sec\n",
      "2024-03-26 17:55:35,625 - FireLog - INFO - --------------------\n",
      "2024-03-26 17:55:35,625 - FireLog - INFO - Fire tracking at [2023, 9, 4, 'PM']\n",
      "2024-03-26 17:55:39,737 - FireLog - INFO - func:Fire_expand_rtree took: 4.11 sec\n",
      "2024-03-26 17:55:39,947 - FireLog - INFO - func:Fire_merge_rtree took: 207.90 ms\n",
      "2024-03-26 17:55:39,948 - FireLog - INFO - fids_expand: 14\n",
      "2024-03-26 17:55:39,948 - FireLog - INFO - fids_new: 13\n",
      "2024-03-26 17:55:39,949 - FireLog - INFO - fids_merged: 1\n",
      "2024-03-26 17:55:39,949 - FireLog - INFO - fids_invalid: 1\n",
      "2024-03-26 17:55:40,268 - FireLog - INFO - func:update_gdf took: 317.85 ms\n",
      "2024-03-26 17:55:40,269 - FireLog - INFO - func:Fire_Forward_one_step took: 4.64 sec\n",
      "2024-03-26 17:55:40,269 - FireLog - INFO - --------------------\n",
      "2024-03-26 17:55:40,270 - FireLog - INFO - Fire tracking at [2023, 9, 5, 'AM']\n",
      "2024-03-26 17:55:55,375 - FireLog - INFO - func:Fire_expand_rtree took: 15.10 sec\n",
      "2024-03-26 17:55:55,926 - FireLog - INFO - func:Fire_merge_rtree took: 547.78 ms\n",
      "2024-03-26 17:55:55,926 - FireLog - INFO - fids_expand: 87\n",
      "2024-03-26 17:55:55,927 - FireLog - INFO - fids_new: 23\n",
      "2024-03-26 17:55:55,927 - FireLog - INFO - fids_merged: 3\n",
      "2024-03-26 17:55:55,927 - FireLog - INFO - fids_invalid: 4\n",
      "2024-03-26 17:55:57,006 - FireLog - INFO - func:update_gdf took: 1.08 sec\n",
      "2024-03-26 17:55:57,006 - FireLog - INFO - func:Fire_Forward_one_step took: 16.74 sec\n",
      "2024-03-26 17:55:57,007 - FireLog - INFO - --------------------\n",
      "2024-03-26 17:55:57,007 - FireLog - INFO - Fire tracking at [2023, 9, 5, 'PM']\n",
      "2024-03-26 17:56:10,690 - FireLog - INFO - func:Fire_expand_rtree took: 13.68 sec\n",
      "2024-03-26 17:56:11,603 - FireLog - INFO - func:Fire_merge_rtree took: 909.35 ms\n",
      "2024-03-26 17:56:11,603 - FireLog - INFO - fids_expand: 30\n",
      "2024-03-26 17:56:11,604 - FireLog - INFO - fids_new: 63\n",
      "2024-03-26 17:56:11,604 - FireLog - INFO - fids_merged: 5\n",
      "2024-03-26 17:56:11,605 - FireLog - INFO - fids_invalid: 6\n",
      "2024-03-26 17:56:12,542 - FireLog - INFO - func:update_gdf took: 936.87 ms\n",
      "2024-03-26 17:56:12,543 - FireLog - INFO - func:Fire_Forward_one_step took: 15.54 sec\n",
      "2024-03-26 17:56:12,544 - FireLog - INFO - --------------------\n",
      "2024-03-26 17:56:12,544 - FireLog - INFO - Fire tracking at [2023, 9, 6, 'AM']\n",
      "2024-03-26 17:56:30,198 - FireLog - INFO - func:Fire_expand_rtree took: 17.65 sec\n",
      "2024-03-26 17:56:31,942 - FireLog - INFO - func:Fire_merge_rtree took: 1.74 sec\n",
      "2024-03-26 17:56:31,943 - FireLog - INFO - fids_expand: 93\n",
      "2024-03-26 17:56:31,943 - FireLog - INFO - fids_new: 30\n",
      "2024-03-26 17:56:31,944 - FireLog - INFO - fids_merged: 10\n",
      "2024-03-26 17:56:31,944 - FireLog - INFO - fids_invalid: 11\n",
      "2024-03-26 17:56:33,230 - FireLog - INFO - func:update_gdf took: 1.28 sec\n",
      "2024-03-26 17:56:33,231 - FireLog - INFO - func:Fire_Forward_one_step took: 20.69 sec\n",
      "2024-03-26 17:56:33,232 - FireLog - INFO - func:Fire_Forward took: 5.66 min\n"
     ]
    }
   ],
   "source": [
    "allfires, allpixels = FireMain.Fire_Forward(tst=tst, ted=ted, restart=False, region=region, read_location=\"local\")"
   ]
  },
  {
   "cell_type": "markdown",
   "id": "e4458cb6-0c9c-4712-8d79-c43f84e756df",
   "metadata": {},
   "source": [
    "# Concepts\n",
    "This outputs two dataframes: an `allpixels` dataframe with 1 row per pixel and an `allfires` geodataframe with one row per-fire/per-t. \n",
    "\n",
    "The core concept is that if you use a dataframe to back the allfires and fire objects there are well-defined ways to serialize that to disk whenever you like (aka no more pickles!).\n",
    "\n",
    "Here's a bit of an overview of the lifecycle of each of these dataframes:\n",
    "\n",
    "## allpixels:\n",
    "\n",
    "- At the start of `Fire_Forward` all of the preprocessed pixel data is loaded and concatenated into one long dataframe.\n",
    "- Each row represents a fire pixel and there is a unique id per row.\n",
    "- As `Fire_Forward` iterates through the timesteps of interest the `allpixels` dataframe is updated in place.\n",
    "- Each `Fire` object refers to the `allpixels` object as the source of truth and does not hold pixel data but instead refers to subsets of the `allpixels` dataframe to return `n_pixels` or `newpixels`.\n",
    "- Merging fires at a particular `t` can update the `allpixels` at a former timestep.\n",
    "- When `Fire_Forward` is complete, the `allpixels` object can be serialized to csv (or any tabular format) optionally partitioned into files by `t`.\n",
    "- This dataframe can be used:\n",
    "    - together with `allfires_gdf` to rehydrate the `allfires` object at the latest `t` in order to run `Fire_Forward` on one new ingest file.\n",
    "    - independently to write the `nplist` output file for largefires\n",
    "\n",
    "## allfires_gdf:\n",
    "\n",
    "- At the start of `Fire_Forward` a new geodataframe object is initialized. It has a column for each of the `Fire` attributes that take a non-trivial amount of time to compute (`ftype`, `hull`, `fline`...).\n",
    "- As `Fire_Forward` iterates through the timesteps of interest it writes a row for every fire that is burning (aka has new pixels) at the `t`.\n",
    "- So each row contains the information about one fire at one `t`. The index is a MultiIndex of `(fid, t)`\n",
    "- Merging fires at a particular `t` updates the `mergeid` on the existing rows (_this part I am not totally confident is correct_).\n",
    "- When `Fire_Forward` is complete, the `allfires_gdf` object can be serialized to geoparquet (this is the best choice since it contains multiple geometry columns) optionally partitioned into files by `t`.\n",
    "- This geodataframe can be used:\n",
    "    - together with `allpixels` to rehydrate the `allfires` object at the latest `t` in order to run `Fire_Forward` on one new ingest file.\n",
    "    - independently to write all the snapshot and largefires output files.\n",
    "\n",
    "Side note: I like that in this branch the `allpixels` dataframe is referenced by all the `Fire` objects but it isn't copied around. This is different from how it works in `preprocess` where each `Fire` object (at each `t`) has its own dataframe. It is also different than the original version of this algorithm where each `Fire` object (at each `t`) holds a bunch of lists."
   ]
  },
  {
   "cell_type": "markdown",
   "id": "f88b111a-a729-45a6-95b2-65a2db573574",
   "metadata": {},
   "source": [
    "## Serialize to disk\n",
    "\n",
    "- allpixels -> one file for each t (one row for each pixel).\n",
    "- allfires -> one geoparquet file to hold all information about each fire at each time (one row for each burning fire at each t)."
   ]
  },
  {
   "cell_type": "code",
   "execution_count": 3,
   "id": "228d5db2-cfa1-4ba2-9521-d23c6d2e08e3",
   "metadata": {},
   "outputs": [
    {
     "name": "stderr",
     "output_type": "stream",
     "text": [
      "2024-03-26 17:56:42,704 - FireLog - INFO - func:save_allpixels took: 213.57 ms\n"
     ]
    },
    {
     "data": {
      "text/plain": [
       "'data/FEDSoutput-s3-conus/WesternUS/2023/allpixels_20230906_AM.csv'"
      ]
     },
     "execution_count": 3,
     "metadata": {},
     "output_type": "execute_result"
    }
   ],
   "source": [
    "postprocess.save_allpixels(allpixels, tst, ted, region)"
   ]
  },
  {
   "cell_type": "code",
   "execution_count": 4,
   "id": "48b4f931-7f4c-47e0-aaa7-d79dac3972cc",
   "metadata": {},
   "outputs": [
    {
     "name": "stderr",
     "output_type": "stream",
     "text": [
      "2024-03-26 17:56:43,958 - FireLog - INFO - func:save_allfires_gdf took: 191.19 ms\n"
     ]
    },
    {
     "data": {
      "text/plain": [
       "'data/FEDSoutput-s3-conus/WesternUS/2023/allfires_20230906_AM.parq'"
      ]
     },
     "execution_count": 4,
     "metadata": {},
     "output_type": "execute_result"
    }
   ],
   "source": [
    "postprocess.save_allfires_gdf(allfires.gdf, tst, ted, region)"
   ]
  },
  {
   "cell_type": "markdown",
   "id": "fd6f2be6-286a-4868-adbe-a90aa5dfb4fd",
   "metadata": {},
   "source": [
    "## Read from disk"
   ]
  },
  {
   "cell_type": "code",
   "execution_count": 5,
   "id": "bb9d9818-89b0-4534-875d-8f5295eba2a0",
   "metadata": {},
   "outputs": [
    {
     "name": "stderr",
     "output_type": "stream",
     "text": [
      "2024-03-26 17:56:51,373 - FireLog - INFO - func:read_allpixels took: 59.02 ms\n"
     ]
    }
   ],
   "source": [
    "allpixels = postprocess.read_allpixels(tst, ted, region, location=\"local\")"
   ]
  },
  {
   "cell_type": "code",
   "execution_count": 6,
   "id": "713e07d4-3f8f-4ff3-a67b-88883a39b6c4",
   "metadata": {},
   "outputs": [
    {
     "name": "stderr",
     "output_type": "stream",
     "text": [
      "2024-03-26 17:56:52,055 - FireLog - INFO - func:read_allfires_gdf took: 84.43 ms\n"
     ]
    }
   ],
   "source": [
    "allfires_gdf = postprocess.read_allfires_gdf(tst, ted, region, location=\"local\")"
   ]
  },
  {
   "cell_type": "markdown",
   "id": "a81ffd2d-ed4b-498e-b45e-127f7c5fd594",
   "metadata": {},
   "source": [
    "## Pick out the large fires\n",
    "\n",
    "Let's compare the existing object-oriented approach with the new geodataframe approach"
   ]
  },
  {
   "cell_type": "code",
   "execution_count": 7,
   "id": "94fa151c-0c50-45ca-81f3-6a188ce39bea",
   "metadata": {},
   "outputs": [
    {
     "name": "stdout",
     "output_type": "stream",
     "text": [
      "CPU times: user 12 ms, sys: 2 µs, total: 12 ms\n",
      "Wall time: 11.6 ms\n"
     ]
    }
   ],
   "source": [
    "%%time\n",
    "import FireGpkg_sfs\n",
    "\n",
    "large_fires_original = FireGpkg_sfs.find_largefires(allfires)"
   ]
  },
  {
   "cell_type": "code",
   "execution_count": 8,
   "id": "130838af-f05c-48fe-b52f-1e8d0a5d6747",
   "metadata": {},
   "outputs": [
    {
     "name": "stderr",
     "output_type": "stream",
     "text": [
      "2024-03-26 17:56:55,685 - FireLog - INFO - func:find_largefires took: 5.46 ms\n"
     ]
    }
   ],
   "source": [
    "large_fires_new = postprocess.find_largefires(allfires_gdf)"
   ]
  },
  {
   "cell_type": "code",
   "execution_count": 9,
   "id": "693c4ef5-817e-4093-a013-954f3caa20c0",
   "metadata": {},
   "outputs": [],
   "source": [
    "assert set(large_fires_original) == set(large_fires_new), \"The large fires should match\""
   ]
  },
  {
   "cell_type": "markdown",
   "id": "ea5af427-e791-48de-b94c-8b555970d9d1",
   "metadata": {},
   "source": [
    "## Rehydrate the latest allfires"
   ]
  },
  {
   "cell_type": "markdown",
   "id": "cab20ea3-0592-4796-b604-6e5dcb70c26a",
   "metadata": {},
   "source": [
    "This is pretty experimental, but at least in theory you should be able to rehydrate the allfires object based on the allfires_gdf. If this works as expected it would let you pick up from a particular t and run another step of `Fire_Forward`.\n",
    "\n",
    "This should be equivalent to the allfires object that we generated at the top of this notebook."
   ]
  },
  {
   "cell_type": "code",
   "execution_count": 3,
   "id": "5755e2d2-19b1-48f5-a3e6-8738c29f0ac8",
   "metadata": {},
   "outputs": [
    {
     "name": "stderr",
     "output_type": "stream",
     "text": [
      "2024-03-26 17:59:07,794 - FireLog - INFO - func:read_allfires_gdf took: 46.65 ms\n",
      "2024-03-26 17:59:07,837 - FireLog - INFO - func:read_allpixels took: 43.00 ms\n",
      "2024-03-26 17:59:08,381 - FireLog - INFO - func:rehydrate took: 633.98 ms\n"
     ]
    },
    {
     "data": {
      "text/plain": [
       "<Allfires at t=[2023, 9, 6, 'AM'] with n_fires=864>"
      ]
     },
     "execution_count": 3,
     "metadata": {},
     "output_type": "execute_result"
    }
   ],
   "source": [
    "a = FireObj.Allfires.rehydrate(tst, ted, region, include_dead=False, read_location=\"local\")\n",
    "a"
   ]
  }
 ],
 "metadata": {
  "kernelspec": {
   "display_name": "Python 3 (ipykernel)",
   "language": "python",
   "name": "python3"
  },
  "language_info": {
   "codemirror_mode": {
    "name": "ipython",
    "version": 3
   },
   "file_extension": ".py",
   "mimetype": "text/x-python",
   "name": "python",
   "nbconvert_exporter": "python",
   "pygments_lexer": "ipython3",
   "version": "3.11.8"
  }
 },
 "nbformat": 4,
 "nbformat_minor": 5
}
