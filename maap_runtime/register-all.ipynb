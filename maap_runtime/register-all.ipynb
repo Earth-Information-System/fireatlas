{
 "cells": [
  {
   "cell_type": "code",
   "execution_count": 71,
   "id": "c6ec38e0-8204-46aa-b675-b08414cd08cb",
   "metadata": {
    "tags": []
   },
   "outputs": [],
   "source": [
    "from maap.maap import MAAP\n",
    "maap = MAAP(maap_host='api.maap-project.org')"
   ]
  },
  {
   "cell_type": "code",
   "execution_count": 72,
   "id": "525c6d64-832a-4b4b-9762-dd3f58642c82",
   "metadata": {
    "tags": []
   },
   "outputs": [],
   "source": [
    "import glob, os\n",
    "current_dir = os.getcwd()\n",
    "configs = glob.glob(f'{current_dir}/*/algorithm_config.yaml')\n",
    "#current_scheduled_algos = ['data_update_checker', 'preprocess_region','preprocess_region_t','fire_forward', 'coordinator']\n",
    "current_scheduled_algos = ['fire_forward', 'coordinator']"
   ]
  },
  {
   "cell_type": "code",
   "execution_count": 73,
   "id": "3ce71f70-20b0-4ebd-9732-9255c0d2bc61",
   "metadata": {
    "tags": []
   },
   "outputs": [
    {
     "name": "stdout",
     "output_type": "stream",
     "text": [
      "/projects/fireatlas_nrt/maap_runtime/coordinator/algorithm_config.yaml\n",
      "/projects/fireatlas_nrt/maap_runtime/fire_forward/algorithm_config.yaml\n"
     ]
    }
   ],
   "source": [
    "targets = []\n",
    "for algo_to_register in current_scheduled_algos:\n",
    "    for config in configs:\n",
    "        if algo_to_register in config:\n",
    "            targets.append(config)\n",
    "for target in list(set(targets)):\n",
    "    print(target)"
   ]
  },
  {
   "cell_type": "code",
   "execution_count": 74,
   "id": "f33978d4-5af2-4f44-b8fa-d269a9e745d5",
   "metadata": {
    "tags": []
   },
   "outputs": [
    {
     "name": "stdout",
     "output_type": "stream",
     "text": [
      "{\"code\": 200, \"message\": {\"id\": \"aca4885b135a0979eecbd3a5452ed0f7a6450646\", \"short_id\": \"aca4885b\", \"created_at\": \"2024-03-30T01:33:45.000+00:00\", \"parent_ids\": [\"8653f21082db642cd4d47b7e962a9b15bbd816ee\"], \"title\": \"Registering algorithm: eis-feds-dps-fire-forward-v3\", \"message\": \"Registering algorithm: eis-feds-dps-fire-forward-v3\", \"author_name\": \"root\", \"author_email\": \"root@156a1941fa17\", \"authored_date\": \"2024-03-30T01:33:45.000+00:00\", \"committer_name\": \"root\", \"committer_email\": \"root@156a1941fa17\", \"committed_date\": \"2024-03-30T01:33:45.000+00:00\", \"trailers\": {}, \"web_url\": \"https://repo.maap-project.org/root/register-job-hysds-v4/-/commit/aca4885b135a0979eecbd3a5452ed0f7a6450646\", \"stats\": {\"additions\": 2, \"deletions\": 2, \"total\": 4}, \"status\": \"pending\", \"project_id\": 3, \"last_pipeline\": {\"id\": 13276, \"iid\": 998, \"project_id\": 3, \"sha\": \"aca4885b135a0979eecbd3a5452ed0f7a6450646\", \"ref\": \"main\", \"status\": \"pending\", \"source\": \"push\", \"created_at\": \"2024-03-30T01:33:45.981Z\", \"updated_at\": \"2024-03-30T01:33:46.628Z\", \"web_url\": \"https://repo.maap-project.org/root/register-job-hysds-v4/-/pipelines/13276\"}, \"job_web_url\": \"https://repo.maap-project.org/root/register-job-hysds-v4/-/jobs/13547\", \"job_log_url\": \"https://repo.maap-project.org/root/register-job-hysds-v4/-/jobs/13547/raw\"}}\n",
      "\n",
      "{\"code\": 200, \"message\": {\"id\": \"0c92a509126d20e15a8d1c6328b103ed26f8dc16\", \"short_id\": \"0c92a509\", \"created_at\": \"2024-03-30T01:33:47.000+00:00\", \"parent_ids\": [\"aca4885b135a0979eecbd3a5452ed0f7a6450646\"], \"title\": \"Registering algorithm: eis-feds-dask-coordinator-v3\", \"message\": \"Registering algorithm: eis-feds-dask-coordinator-v3\", \"author_name\": \"root\", \"author_email\": \"root@156a1941fa17\", \"authored_date\": \"2024-03-30T01:33:47.000+00:00\", \"committer_name\": \"root\", \"committer_email\": \"root@156a1941fa17\", \"committed_date\": \"2024-03-30T01:33:47.000+00:00\", \"trailers\": {}, \"web_url\": \"https://repo.maap-project.org/root/register-job-hysds-v4/-/commit/0c92a509126d20e15a8d1c6328b103ed26f8dc16\", \"stats\": {\"additions\": 2, \"deletions\": 2, \"total\": 4}, \"status\": \"pending\", \"project_id\": 3, \"last_pipeline\": {\"id\": 13277, \"iid\": 999, \"project_id\": 3, \"sha\": \"0c92a509126d20e15a8d1c6328b103ed26f8dc16\", \"ref\": \"main\", \"status\": \"pending\", \"source\": \"push\", \"created_at\": \"2024-03-30T01:33:48.582Z\", \"updated_at\": \"2024-03-30T01:33:48.988Z\", \"web_url\": \"https://repo.maap-project.org/root/register-job-hysds-v4/-/pipelines/13277\"}, \"job_web_url\": \"https://repo.maap-project.org/root/register-job-hysds-v4/-/jobs/13548\", \"job_log_url\": \"https://repo.maap-project.org/root/register-job-hysds-v4/-/jobs/13548/raw\"}}\n",
      "\n"
     ]
    }
   ],
   "source": [
    "for target_path in targets:\n",
    "    response = maap.register_algorithm_from_yaml_file(target_path)\n",
    "    print(response.text)"
   ]
  },
  {
   "cell_type": "code",
   "execution_count": null,
   "id": "1657c5e9-bdfa-4442-9b13-250b493f90ab",
   "metadata": {},
   "outputs": [],
   "source": []
  },
  {
   "cell_type": "code",
   "execution_count": null,
   "id": "ab416ba3-e18e-4a4b-98b0-38a84681d1be",
   "metadata": {},
   "outputs": [],
   "source": []
  }
 ],
 "metadata": {
  "kernelspec": {
   "display_name": "Python 3 (ipykernel)",
   "language": "python",
   "name": "python3"
  },
  "language_info": {
   "codemirror_mode": {
    "name": "ipython",
    "version": 3
   },
   "file_extension": ".py",
   "mimetype": "text/x-python",
   "name": "python",
   "nbconvert_exporter": "python",
   "pygments_lexer": "ipython3",
   "version": "3.10.13"
  }
 },
 "nbformat": 4,
 "nbformat_minor": 5
}
