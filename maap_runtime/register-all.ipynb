{
 "cells": [
  {
   "cell_type": "code",
   "execution_count": 1,
   "id": "c6ec38e0-8204-46aa-b675-b08414cd08cb",
   "metadata": {
    "tags": []
   },
   "outputs": [],
   "source": [
    "from maap.maap import MAAP\n",
    "maap = MAAP(maap_host='api.maap-project.org')"
   ]
  },
  {
   "cell_type": "code",
   "execution_count": 40,
   "id": "525c6d64-832a-4b4b-9762-dd3f58642c82",
   "metadata": {
    "tags": []
   },
   "outputs": [],
   "source": [
    "import glob, os\n",
    "current_dir = os.getcwd()\n",
    "configs = glob.glob(f'{current_dir}/*/algorithm_config.yaml')\n",
    "# current_scheduled_algos = ['combine_largefire_archive', 'combine_largefire_nrt']\n",
    "current_scheduled_algos = ['data_update_checker', 'preprocess_region', 'preprocess_region_t', 'fire_forward', 'coordinator']"
   ]
  },
  {
   "cell_type": "code",
   "execution_count": 41,
   "id": "3ce71f70-20b0-4ebd-9732-9255c0d2bc61",
   "metadata": {
    "tags": []
   },
   "outputs": [
    {
     "name": "stdout",
     "output_type": "stream",
     "text": [
      "/projects/fireatlas_nrt/maap_runtime/combine_largefire_nrt/algorithm_config.yaml\n",
      "/projects/fireatlas_nrt/maap_runtime/date_update_checker/algorithm_config.yaml\n",
      "/projects/fireatlas_nrt/maap_runtime/combine_largefire_archive/algorithm_config.yaml\n",
      "/projects/fireatlas_nrt/maap_runtime/conus_nrt/algorithm_config.yaml\n"
     ]
    }
   ],
   "source": [
    "targets = []\n",
    "for algo_to_register in current_scheduled_algos:\n",
    "    for config in configs:\n",
    "        if algo_to_register in config:\n",
    "            targets.append(config)\n",
    "for target in targets:\n",
    "    print(target)"
   ]
  },
  {
   "cell_type": "code",
   "execution_count": 2,
   "id": "f33978d4-5af2-4f44-b8fa-d269a9e745d5",
   "metadata": {
    "tags": []
   },
   "outputs": [
    {
     "name": "stdout",
     "output_type": "stream",
     "text": [
      "{\"code\": 200, \"message\": {\"id\": \"55246a13e1fa30ab6baa3d47400df4b559c2128f\", \"short_id\": \"55246a13\", \"created_at\": \"2023-08-01T23:16:48.000+00:00\", \"parent_ids\": [\"977b1e31edd28a3e9afedf61e9601516e0f7ab9d\"], \"title\": \"Registering algorithm: eis-fire-feds-nrt-dask-dps\", \"message\": \"Registering algorithm: eis-fire-feds-nrt-dask-dps\", \"author_name\": \"root\", \"author_email\": \"root@70b089753c71\", \"authored_date\": \"2023-08-01T23:16:48.000+00:00\", \"committer_name\": \"root\", \"committer_email\": \"root@70b089753c71\", \"committed_date\": \"2023-08-01T23:16:48.000+00:00\", \"trailers\": {}, \"web_url\": \"https://repo.maap-project.org/root/register-job-hysds-v4/-/commit/55246a13e1fa30ab6baa3d47400df4b559c2128f\", \"stats\": {\"additions\": 6, \"deletions\": 6, \"total\": 12}, \"status\": \"pending\", \"project_id\": 3, \"last_pipeline\": {\"id\": 532, \"iid\": 71, \"project_id\": 3, \"sha\": \"55246a13e1fa30ab6baa3d47400df4b559c2128f\", \"ref\": \"main\", \"status\": \"pending\", \"source\": \"push\", \"created_at\": \"2023-08-01T23:16:49.183Z\", \"updated_at\": \"2023-08-01T23:16:49.672Z\", \"web_url\": \"https://repo.maap-project.org/root/register-job-hysds-v4/-/pipelines/532\"}, \"job_web_url\": \"https://repo.maap-project.org/root/register-job-hysds-v4/-/jobs/695\", \"job_log_url\": \"https://repo.maap-project.org/root/register-job-hysds-v4/-/jobs/695/raw\"}}\n",
      "\n"
     ]
    }
   ],
   "source": [
    "for target_path in targets:\n",
    "    response = maap.register_algorithm_from_yaml_file(target_path)\n",
    "    print(response.text)"
   ]
  },
  {
   "cell_type": "code",
   "execution_count": null,
   "id": "ab416ba3-e18e-4a4b-98b0-38a84681d1be",
   "metadata": {},
   "outputs": [],
   "source": []
  }
 ],
 "metadata": {
  "kernelspec": {
   "display_name": "Python 3 (ipykernel)",
   "language": "python",
   "name": "python3"
  },
  "language_info": {
   "codemirror_mode": {
    "name": "ipython",
    "version": 3
   },
   "file_extension": ".py",
   "mimetype": "text/x-python",
   "name": "python",
   "nbconvert_exporter": "python",
   "pygments_lexer": "ipython3",
   "version": "3.10.8"
  }
 },
 "nbformat": 4,
 "nbformat_minor": 5
}