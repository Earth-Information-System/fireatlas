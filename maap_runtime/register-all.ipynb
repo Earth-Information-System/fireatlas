{
 "cells": [
  {
   "cell_type": "code",
   "execution_count": 31,
   "id": "c6ec38e0-8204-46aa-b675-b08414cd08cb",
   "metadata": {
    "tags": []
   },
   "outputs": [],
   "source": [
    "from maap.maap import MAAP\n",
    "maap = MAAP(maap_host='api.maap-project.org')"
   ]
  },
  {
   "cell_type": "code",
   "execution_count": 41,
   "id": "525c6d64-832a-4b4b-9762-dd3f58642c82",
   "metadata": {
    "tags": []
   },
   "outputs": [],
   "source": [
    "import glob, os\n",
    "current_dir = os.getcwd()\n",
    "configs = glob.glob(f'{current_dir}/*/algorithm_config.yaml')\n",
    "#current_scheduled_algos = ['data_update_checker', 'preprocess_region','preprocess_region_t','fire_forward', 'coordinator']\n",
    "current_scheduled_algos = ['preprocess_region']"
   ]
  },
  {
   "cell_type": "code",
   "execution_count": 42,
   "id": "3ce71f70-20b0-4ebd-9732-9255c0d2bc61",
   "metadata": {
    "tags": []
   },
   "outputs": [
    {
     "name": "stdout",
     "output_type": "stream",
     "text": [
      "/projects/fireatlas_nrt/maap_runtime/preprocess_region/algorithm_config.yaml\n",
      "/projects/fireatlas_nrt/maap_runtime/preprocess_region_t/algorithm_config.yaml\n"
     ]
    }
   ],
   "source": [
    "targets = []\n",
    "for algo_to_register in current_scheduled_algos:\n",
    "    for config in configs:\n",
    "        if algo_to_register in config:\n",
    "            targets.append(config)\n",
    "for target in list(set(targets)):\n",
    "    print(target)"
   ]
  },
  {
   "cell_type": "code",
   "execution_count": 43,
   "id": "f33978d4-5af2-4f44-b8fa-d269a9e745d5",
   "metadata": {
    "tags": []
   },
   "outputs": [
    {
     "name": "stdout",
     "output_type": "stream",
     "text": [
      "{\"code\": 200, \"message\": {\"id\": \"779d29fe19a3736448b790b5a87ffc7380a3132b\", \"short_id\": \"779d29fe\", \"created_at\": \"2024-03-29T20:39:56.000+00:00\", \"parent_ids\": [\"1243d59dcb08975de74ac38a63c3d6eac7dd70a5\"], \"title\": \"Registering algorithm: eis-feds-dps-preprocess-region-and-t-v3\", \"message\": \"Registering algorithm: eis-feds-dps-preprocess-region-and-t-v3\", \"author_name\": \"root\", \"author_email\": \"root@156a1941fa17\", \"authored_date\": \"2024-03-29T20:39:56.000+00:00\", \"committer_name\": \"root\", \"committer_email\": \"root@156a1941fa17\", \"committed_date\": \"2024-03-29T20:39:56.000+00:00\", \"trailers\": {}, \"web_url\": \"https://repo.maap-project.org/root/register-job-hysds-v4/-/commit/779d29fe19a3736448b790b5a87ffc7380a3132b\", \"stats\": {\"additions\": 2, \"deletions\": 2, \"total\": 4}, \"status\": \"running\", \"project_id\": 3, \"last_pipeline\": {\"id\": 13256, \"iid\": 983, \"project_id\": 3, \"sha\": \"779d29fe19a3736448b790b5a87ffc7380a3132b\", \"ref\": \"main\", \"status\": \"running\", \"source\": \"push\", \"created_at\": \"2024-03-29T20:39:57.951Z\", \"updated_at\": \"2024-03-29T20:39:58.487Z\", \"web_url\": \"https://repo.maap-project.org/root/register-job-hysds-v4/-/pipelines/13256\"}, \"job_web_url\": \"https://repo.maap-project.org/root/register-job-hysds-v4/-/jobs/13527\", \"job_log_url\": \"https://repo.maap-project.org/root/register-job-hysds-v4/-/jobs/13527/raw\"}}\n",
      "\n",
      "{\"code\": 200, \"message\": {\"id\": \"84d9255df17f180e9ffdfd530051148f17126720\", \"short_id\": \"84d9255d\", \"created_at\": \"2024-03-29T20:39:59.000+00:00\", \"parent_ids\": [\"779d29fe19a3736448b790b5a87ffc7380a3132b\"], \"title\": \"Registering algorithm: eis-feds-dps-precprocess-region-v3\", \"message\": \"Registering algorithm: eis-feds-dps-precprocess-region-v3\", \"author_name\": \"root\", \"author_email\": \"root@156a1941fa17\", \"authored_date\": \"2024-03-29T20:39:59.000+00:00\", \"committer_name\": \"root\", \"committer_email\": \"root@156a1941fa17\", \"committed_date\": \"2024-03-29T20:39:59.000+00:00\", \"trailers\": {}, \"web_url\": \"https://repo.maap-project.org/root/register-job-hysds-v4/-/commit/84d9255df17f180e9ffdfd530051148f17126720\", \"stats\": {\"additions\": 2, \"deletions\": 2, \"total\": 4}, \"status\": \"pending\", \"project_id\": 3, \"last_pipeline\": {\"id\": 13257, \"iid\": 984, \"project_id\": 3, \"sha\": \"84d9255df17f180e9ffdfd530051148f17126720\", \"ref\": \"main\", \"status\": \"pending\", \"source\": \"push\", \"created_at\": \"2024-03-29T20:40:00.140Z\", \"updated_at\": \"2024-03-29T20:40:00.591Z\", \"web_url\": \"https://repo.maap-project.org/root/register-job-hysds-v4/-/pipelines/13257\"}, \"job_web_url\": \"https://repo.maap-project.org/root/register-job-hysds-v4/-/jobs/13528\", \"job_log_url\": \"https://repo.maap-project.org/root/register-job-hysds-v4/-/jobs/13528/raw\"}}\n",
      "\n"
     ]
    }
   ],
   "source": [
    "for target_path in targets:\n",
    "    response = maap.register_algorithm_from_yaml_file(target_path)\n",
    "    print(response.text)"
   ]
  },
  {
   "cell_type": "code",
   "execution_count": null,
   "id": "1657c5e9-bdfa-4442-9b13-250b493f90ab",
   "metadata": {},
   "outputs": [],
   "source": []
  },
  {
   "cell_type": "code",
   "execution_count": null,
   "id": "ab416ba3-e18e-4a4b-98b0-38a84681d1be",
   "metadata": {},
   "outputs": [],
   "source": []
  }
 ],
 "metadata": {
  "kernelspec": {
   "display_name": "Python 3 (ipykernel)",
   "language": "python",
   "name": "python3"
  },
  "language_info": {
   "codemirror_mode": {
    "name": "ipython",
    "version": 3
   },
   "file_extension": ".py",
   "mimetype": "text/x-python",
   "name": "python",
   "nbconvert_exporter": "python",
   "pygments_lexer": "ipython3",
   "version": "3.10.13"
  }
 },
 "nbformat": 4,
 "nbformat_minor": 5
}
