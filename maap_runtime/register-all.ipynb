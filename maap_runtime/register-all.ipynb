{
 "cells": [
  {
   "cell_type": "code",
   "execution_count": 50,
   "id": "c6ec38e0-8204-46aa-b675-b08414cd08cb",
   "metadata": {
    "tags": []
   },
   "outputs": [],
   "source": [
    "from maap.maap import MAAP\n",
    "maap = MAAP(maap_host='api.maap-project.org')"
   ]
  },
  {
   "cell_type": "code",
   "execution_count": 57,
   "id": "525c6d64-832a-4b4b-9762-dd3f58642c82",
   "metadata": {
    "tags": []
   },
   "outputs": [],
   "source": [
    "import glob, os\n",
    "current_dir = os.getcwd()\n",
    "configs = glob.glob(f'{current_dir}/*/algorithm_config.yaml')\n",
    "#current_scheduled_algos = ['data_update_checker', 'preprocess_region','preprocess_region_t','fire_forward', 'coordinator']\n",
    "current_scheduled_algos = ['fire_forward', 'coordinator']"
   ]
  },
  {
   "cell_type": "code",
   "execution_count": 58,
   "id": "3ce71f70-20b0-4ebd-9732-9255c0d2bc61",
   "metadata": {
    "tags": []
   },
   "outputs": [
    {
     "name": "stdout",
     "output_type": "stream",
     "text": [
      "/projects/fireatlas_nrt/maap_runtime/coordinator/algorithm_config.yaml\n",
      "/projects/fireatlas_nrt/maap_runtime/fire_forward/algorithm_config.yaml\n"
     ]
    }
   ],
   "source": [
    "targets = []\n",
    "for algo_to_register in current_scheduled_algos:\n",
    "    for config in configs:\n",
    "        if algo_to_register in config:\n",
    "            targets.append(config)\n",
    "for target in list(set(targets)):\n",
    "    print(target)"
   ]
  },
  {
   "cell_type": "code",
   "execution_count": 59,
   "id": "f33978d4-5af2-4f44-b8fa-d269a9e745d5",
   "metadata": {
    "tags": []
   },
   "outputs": [
    {
     "name": "stdout",
     "output_type": "stream",
     "text": [
      "{\"code\": 200, \"message\": {\"id\": \"f4ad5da376d3d9814815b7a077a285f82b26494d\", \"short_id\": \"f4ad5da3\", \"created_at\": \"2024-03-29T21:53:14.000+00:00\", \"parent_ids\": [\"5a27780d4f4810d2f58a54ee9ef8bdecef145fb9\"], \"title\": \"Registering algorithm: eis-feds-dps-fire-forward-v3\", \"message\": \"Registering algorithm: eis-feds-dps-fire-forward-v3\", \"author_name\": \"root\", \"author_email\": \"root@156a1941fa17\", \"authored_date\": \"2024-03-29T21:53:14.000+00:00\", \"committer_name\": \"root\", \"committer_email\": \"root@156a1941fa17\", \"committed_date\": \"2024-03-29T21:53:14.000+00:00\", \"trailers\": {}, \"web_url\": \"https://repo.maap-project.org/root/register-job-hysds-v4/-/commit/f4ad5da376d3d9814815b7a077a285f82b26494d\", \"stats\": {\"additions\": 2, \"deletions\": 2, \"total\": 4}, \"status\": \"pending\", \"project_id\": 3, \"last_pipeline\": {\"id\": 13266, \"iid\": 992, \"project_id\": 3, \"sha\": \"f4ad5da376d3d9814815b7a077a285f82b26494d\", \"ref\": \"main\", \"status\": \"pending\", \"source\": \"push\", \"created_at\": \"2024-03-29T21:53:15.021Z\", \"updated_at\": \"2024-03-29T21:53:15.444Z\", \"web_url\": \"https://repo.maap-project.org/root/register-job-hysds-v4/-/pipelines/13266\"}, \"job_web_url\": \"https://repo.maap-project.org/root/register-job-hysds-v4/-/jobs/13537\", \"job_log_url\": \"https://repo.maap-project.org/root/register-job-hysds-v4/-/jobs/13537/raw\"}}\n",
      "\n",
      "{\"code\": 200, \"message\": {\"id\": \"3cb9934f4b86361f0d932bffb05d14d61a8251a8\", \"short_id\": \"3cb9934f\", \"created_at\": \"2024-03-29T21:53:16.000+00:00\", \"parent_ids\": [\"f4ad5da376d3d9814815b7a077a285f82b26494d\"], \"title\": \"Registering algorithm: eis-feds-dask-coordinator-v3\", \"message\": \"Registering algorithm: eis-feds-dask-coordinator-v3\", \"author_name\": \"root\", \"author_email\": \"root@156a1941fa17\", \"authored_date\": \"2024-03-29T21:53:16.000+00:00\", \"committer_name\": \"root\", \"committer_email\": \"root@156a1941fa17\", \"committed_date\": \"2024-03-29T21:53:16.000+00:00\", \"trailers\": {}, \"web_url\": \"https://repo.maap-project.org/root/register-job-hysds-v4/-/commit/3cb9934f4b86361f0d932bffb05d14d61a8251a8\", \"stats\": {\"additions\": 2, \"deletions\": 2, \"total\": 4}, \"status\": \"pending\", \"project_id\": 3, \"last_pipeline\": {\"id\": 13267, \"iid\": 993, \"project_id\": 3, \"sha\": \"3cb9934f4b86361f0d932bffb05d14d61a8251a8\", \"ref\": \"main\", \"status\": \"pending\", \"source\": \"push\", \"created_at\": \"2024-03-29T21:53:17.526Z\", \"updated_at\": \"2024-03-29T21:53:17.852Z\", \"web_url\": \"https://repo.maap-project.org/root/register-job-hysds-v4/-/pipelines/13267\"}, \"job_web_url\": \"https://repo.maap-project.org/root/register-job-hysds-v4/-/jobs/13538\", \"job_log_url\": \"https://repo.maap-project.org/root/register-job-hysds-v4/-/jobs/13538/raw\"}}\n",
      "\n"
     ]
    }
   ],
   "source": [
    "for target_path in targets:\n",
    "    response = maap.register_algorithm_from_yaml_file(target_path)\n",
    "    print(response.text)"
   ]
  },
  {
   "cell_type": "code",
   "execution_count": null,
   "id": "1657c5e9-bdfa-4442-9b13-250b493f90ab",
   "metadata": {},
   "outputs": [],
   "source": []
  },
  {
   "cell_type": "code",
   "execution_count": null,
   "id": "ab416ba3-e18e-4a4b-98b0-38a84681d1be",
   "metadata": {},
   "outputs": [],
   "source": []
  }
 ],
 "metadata": {
  "kernelspec": {
   "display_name": "Python 3 (ipykernel)",
   "language": "python",
   "name": "python3"
  },
  "language_info": {
   "codemirror_mode": {
    "name": "ipython",
    "version": 3
   },
   "file_extension": ".py",
   "mimetype": "text/x-python",
   "name": "python",
   "nbconvert_exporter": "python",
   "pygments_lexer": "ipython3",
   "version": "3.10.13"
  }
 },
 "nbformat": 4,
 "nbformat_minor": 5
}
