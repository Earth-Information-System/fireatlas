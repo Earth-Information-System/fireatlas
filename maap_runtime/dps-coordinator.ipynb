{
 "cells": [
  {
   "cell_type": "markdown",
   "id": "330dac07-86b5-4220-9da9-ba7e491c2130",
   "metadata": {},
   "source": [
    "### DPS Coordinator\n",
    "\n",
    "This notebook interacts with the MAAP API. It submits and runs all DPS jobs in the same order they run inside `fireatlas.FireRunDaskCoordinator.py`. Each step runs separately and blocks for successful output.\n",
    "\n",
    "The `poll_on_job_status` and `wait_for_job` allow us to block and get DPS job status for muliptle jobs before we continue on"
   ]
  },
  {
   "cell_type": "code",
   "execution_count": 28,
   "id": "22c7fa4c-505e-4302-a7b9-ce298fc3b1d4",
   "metadata": {
    "tags": []
   },
   "outputs": [],
   "source": [
    "#!pip install -e .."
   ]
  },
  {
   "cell_type": "code",
   "execution_count": 31,
   "id": "ef5b0200-485d-4c4e-adf6-e54124b8b8f2",
   "metadata": {
    "tags": []
   },
   "outputs": [],
   "source": [
    "import functools\n",
    "import json\n",
    "import argparse\n",
    "import os\n",
    "import time\n",
    "from typing import Tuple\n",
    "import concurrent\n",
    "from concurrent.futures import ThreadPoolExecutor\n",
    "\n",
    "from fireatlas import preprocess\n",
    "from fireatlas import FireTime\n",
    "from fireatlas.FireLog import logger\n",
    "from fireatlas.FireTypes import Region, TimeStep\n",
    "from fireatlas.utils import timed\n",
    "from fireatlas import FireConsts\n",
    "from fireatlas import FireIO\n",
    "\n",
    "from maap.maap import MAAP\n",
    "from maap.dps.dps_job import DPSJob\n",
    "from maap.utils import algorithm_utils\n",
    "\n",
    "\n",
    "class JobSubmissionException(Exception):\n",
    "    pass\n",
    "\n",
    "\n",
    "def get_algorithm_config_filepath(dir_names):\n",
    "    current_file_dir = os.path.dirname(os.path.abspath(__name__))\n",
    "    return [\n",
    "        os.path.join(current_file_dir, f'{dir_name}', 'algorithm_config.yaml')\n",
    "        for dir_name in dir_names\n",
    "    ]\n",
    "\n",
    "\n",
    "def validate_job_submission(submitted_jobs: Tuple[DPSJob]) -> Tuple[DPSJob]:\n",
    "    \"\"\"we don't retry job submissions, they should ideally always work\n",
    "\n",
    "    validate status of job submission results and return result 'job_id'\n",
    "    \"\"\"\n",
    "    failed_statuses = [result for result in submitted_jobs if result.status == 'failed']\n",
    "    if any(failed_statuses):\n",
    "        raise JobSubmissionException(f\"[ SUBMISSION FAILED ]: the following jobs failed to submit {failed_statuses}\")\n",
    "    return submitted_jobs\n",
    "\n",
    "\n",
    "def wait_for_job(dps_job: DPSJob) -> DPSJob:\n",
    "    \"\"\"this internal DPSJob function will block until job completes and use exponential backoff\n",
    "    https://github.com/MAAP-Project/maap-py/blob/master/maap/dps/dps_job.py#L80C9-L80C28\n",
    "\n",
    "    it seems the statuses.lower() are: ['failed', 'succeeded', 'accepted', 'running']\n",
    "    https://github.com/MAAP-Project/maap-py/blob/master/maap/dps/dps_job.py\n",
    "    \"\"\"\n",
    "    return dps_job.wait_for_completion()\n",
    "\n",
    "\n",
    "def poll_on_job_status(jobs: Tuple[DPSJob]) -> Tuple[DPSJob]:\n",
    "    failed_jobs = []\n",
    "    # don't want to overwhelm the MAAP api so keeping max_workers relatively small\n",
    "    with ThreadPoolExecutor(max_workers=5) as executor:\n",
    "        dps_job_futures = [executor.submit(wait_for_job, dps_job) for dps_job in jobs]\n",
    "        for dps_job in concurrent.futures.as_completed(dps_job_futures):\n",
    "            try:\n",
    "                if dps_job.result().retrieve_status().lower() != 'succeeded':\n",
    "                    failed_jobs.append(dps_job)\n",
    "            except Exception as e:\n",
    "                logger.exception(f\"'poll_on_jobs_status' failed with {e}\")\n",
    "    return failed_jobs\n",
    "\n",
    "\n",
    "def track_submitted_jobs(submitted_jobs: Tuple[DPSJob]) -> Tuple[DPSJob]:\n",
    "    queued_jobs = validate_job_submission(submitted_jobs)\n",
    "    failed_jobs = poll_on_job_status(queued_jobs)\n",
    "    return failed_jobs"
   ]
  },
  {
   "cell_type": "code",
   "execution_count": 32,
   "id": "49361f6a-216a-4f03-bd13-8c16e956d8de",
   "metadata": {
    "tags": []
   },
   "outputs": [],
   "source": [
    "tst = [2023,1,1,'AM']\n",
    "ted = [2023,3,1,'PM']\n",
    "region = [\"V3ShastaTrinity\", [-124.354248,40.624376,-122.250366,42.045213]]\n",
    "list_of_time_steps = list(FireTime.t_generator(tst, ted))"
   ]
  },
  {
   "cell_type": "markdown",
   "id": "89e6c949-8329-4bb5-80fa-80284a59e30e",
   "metadata": {},
   "source": [
    "#### Data Update Checker"
   ]
  },
  {
   "cell_type": "code",
   "execution_count": 3,
   "id": "a58bdcdf-dbda-4ae3-94c7-52a767d6aa65",
   "metadata": {
    "tags": []
   },
   "outputs": [
    {
     "name": "stdout",
     "output_type": "stream",
     "text": [
      "{'algorithm_description': 'Data update checker', 'algorithm_name': 'eis-feds-dps-data-checker-v3', 'algorithm_version': '1.0.0', 'environment': 'ubuntu', 'repository_url': 'https://repo.maap-project.org/gcorradini/fireatlas_nrt.git', 'docker_container_url': 'mas.maap-project.org/root/maap-workspaces/base_images/vanilla:v3.1.4', 'queue': 'maap-dps-eis-worker-64gb', 'run_command': 'fireatlas_nrt/maap_runtime/run_dps_data_checker.sh', 'build_command': 'fireatlas_nrt/maap_runtime/run_dps_build.sh', 'disk_space': '10GB'}\n"
     ]
    }
   ],
   "source": [
    "configs = get_algorithm_config_filepath(['data_update_checker',])\n",
    "maap_api = MAAP(maap_host='api.maap-project.org')\n",
    "algo_config = algorithm_utils.read_yaml_file(configs[0])\n",
    "algo_config.pop('inputs')\n",
    "print(algo_config)\n",
    "\n",
    "submitted_jobs = []\n",
    "submit_job_kwargs = {\n",
    "    \"identifier\": f\"job-{algo_config['algorithm_name']}:{algo_config['algorithm_version']}\",\n",
    "    \"algo_id\": algo_config[\"algorithm_name\"],\n",
    "    \"version\": algo_config[\"algorithm_version\"],\n",
    "    \"username\": \"gcorradini\",\n",
    "    \"queue\": algo_config[\"queue\"],\n",
    "}\n",
    "param_kwargs = {}\n",
    "result = maap_api.submitJob(**submit_job_kwargs, **param_kwargs)\n",
    "submitted_jobs.append(result)\n",
    "queued_jobs = validate_job_submission(submitted_jobs)"
   ]
  },
  {
   "cell_type": "markdown",
   "id": "103c0128-004b-4ba2-9479-c7561cb70133",
   "metadata": {},
   "source": [
    "#### Job Monitoring"
   ]
  },
  {
   "cell_type": "code",
   "execution_count": 4,
   "id": "a6cfceb2-df63-4e29-8a97-6618d525318d",
   "metadata": {
    "tags": []
   },
   "outputs": [
    {
     "data": {
      "text/plain": [
       "['Accepted']"
      ]
     },
     "execution_count": 4,
     "metadata": {},
     "output_type": "execute_result"
    }
   ],
   "source": [
    "[maap_api.getJobStatus(job.id) for job in queued_jobs]"
   ]
  },
  {
   "cell_type": "code",
   "execution_count": 5,
   "id": "e2ad9e12-14a4-4ea3-bdfe-829a91aa6fb4",
   "metadata": {
    "tags": []
   },
   "outputs": [
    {
     "name": "stderr",
     "output_type": "stream",
     "text": [
      "INFO:backoff:Backing off wait_for_completion(...) for 0.7s (RuntimeError)\n",
      "INFO:backoff:Backing off wait_for_completion(...) for 0.6s (RuntimeError)\n",
      "INFO:backoff:Backing off wait_for_completion(...) for 2.8s (RuntimeError)\n",
      "INFO:backoff:Backing off wait_for_completion(...) for 6.4s (RuntimeError)\n",
      "INFO:backoff:Backing off wait_for_completion(...) for 14.9s (RuntimeError)\n",
      "INFO:backoff:Backing off wait_for_completion(...) for 12.1s (RuntimeError)\n",
      "INFO:backoff:Backing off wait_for_completion(...) for 1.5s (RuntimeError)\n",
      "INFO:backoff:Backing off wait_for_completion(...) for 53.7s (RuntimeError)\n",
      "INFO:backoff:Backing off wait_for_completion(...) for 18.2s (RuntimeError)\n",
      "INFO:backoff:Backing off wait_for_completion(...) for 30.6s (RuntimeError)\n",
      "INFO:backoff:Backing off wait_for_completion(...) for 63.6s (RuntimeError)\n",
      "INFO:backoff:Backing off wait_for_completion(...) for 53.5s (RuntimeError)\n",
      "INFO:backoff:Backing off wait_for_completion(...) for 25.5s (RuntimeError)\n",
      "INFO:backoff:Backing off wait_for_completion(...) for 50.4s (RuntimeError)\n",
      "INFO:backoff:Backing off wait_for_completion(...) for 30.2s (RuntimeError)\n",
      "INFO:backoff:Backing off wait_for_completion(...) for 3.8s (RuntimeError)\n",
      "INFO:backoff:Backing off wait_for_completion(...) for 42.6s (RuntimeError)\n",
      "INFO:backoff:Backing off wait_for_completion(...) for 26.6s (RuntimeError)\n",
      "INFO:backoff:Backing off wait_for_completion(...) for 54.6s (RuntimeError)\n"
     ]
    },
    {
     "name": "stdout",
     "output_type": "stream",
     "text": [
      "CPU times: user 414 ms, sys: 47 ms, total: 461 ms\n",
      "Wall time: 8min 13s\n"
     ]
    }
   ],
   "source": [
    "%%time\n",
    "failed_jobs = poll_on_job_status(queued_jobs)"
   ]
  },
  {
   "cell_type": "markdown",
   "id": "fb6e3660-a847-4ed5-a101-43dd982974ef",
   "metadata": {},
   "source": [
    "### Preprocess Region"
   ]
  },
  {
   "cell_type": "code",
   "execution_count": 6,
   "id": "d8631fa4-05b3-420b-b44b-bd8622662ef4",
   "metadata": {
    "tags": []
   },
   "outputs": [
    {
     "name": "stdout",
     "output_type": "stream",
     "text": [
      "{'algorithm_name': 'eis-feds-dps-precprocess-region-v3', 'algorithm_description': 'create geojson for a region and maybe static source filter', 'algorithm_version': '1.0.0', 'environment': 'ubuntu', 'repository_url': 'https://repo.maap-project.org/gcorradini/fireatlas_nrt.git', 'docker_container_url': 'mas.maap-project.org/root/maap-workspaces/base_images/vanilla:v3.1.4', 'queue': 'maap-dps-eis-worker-64gb', 'run_command': 'fireatlas_nrt/maap_runtime/run_preprocess_region.sh', 'build_command': 'fireatlas_nrt/maap_runtime/run_dps_build.sh', 'disk_space': '100GB'}\n"
     ]
    }
   ],
   "source": [
    "configs = get_algorithm_config_filepath(['preprocess_region',])\n",
    "maap_api = MAAP(maap_host='api.maap-project.org')\n",
    "algo_config = algorithm_utils.read_yaml_file(configs[0])\n",
    "algo_config.pop('inputs')\n",
    "print(algo_config)\n",
    "\n",
    "submitted_jobs = []\n",
    "submit_job_kwargs = {\n",
    "    \"identifier\": f\"job-{algo_config['algorithm_name']}:{algo_config['algorithm_version']}\",\n",
    "    \"algo_id\": algo_config[\"algorithm_name\"],\n",
    "    \"version\": algo_config[\"algorithm_version\"],\n",
    "    \"username\": \"gcorradini\",\n",
    "    \"queue\": algo_config[\"queue\"],\n",
    "}\n",
    "param_kwargs = {\"regnm\": region[0], \"bbox\": region[1]}\n",
    "result = maap_api.submitJob(**submit_job_kwargs, **param_kwargs)\n",
    "submitted_jobs.append(result)\n",
    "queued_jobs = validate_job_submission(submitted_jobs)"
   ]
  },
  {
   "cell_type": "markdown",
   "id": "0da48b0b-1ff4-4d66-996d-49814974dba6",
   "metadata": {},
   "source": [
    "#### Job Monitoring"
   ]
  },
  {
   "cell_type": "code",
   "execution_count": 7,
   "id": "108242a8-a73e-4fee-8c4f-04256790f73d",
   "metadata": {
    "tags": []
   },
   "outputs": [
    {
     "data": {
      "text/plain": [
       "['Accepted']"
      ]
     },
     "execution_count": 7,
     "metadata": {},
     "output_type": "execute_result"
    }
   ],
   "source": [
    "[maap_api.getJobStatus(job.id) for job in queued_jobs]"
   ]
  },
  {
   "cell_type": "code",
   "execution_count": 8,
   "id": "9b4536d7-ed9f-4599-a711-6dfdafad6205",
   "metadata": {
    "tags": []
   },
   "outputs": [
    {
     "name": "stderr",
     "output_type": "stream",
     "text": [
      "INFO:backoff:Backing off wait_for_completion(...) for 0.9s (RuntimeError)\n",
      "INFO:backoff:Backing off wait_for_completion(...) for 1.6s (RuntimeError)\n",
      "INFO:backoff:Backing off wait_for_completion(...) for 1.3s (RuntimeError)\n",
      "INFO:backoff:Backing off wait_for_completion(...) for 2.5s (RuntimeError)\n",
      "INFO:backoff:Backing off wait_for_completion(...) for 3.4s (RuntimeError)\n",
      "INFO:backoff:Backing off wait_for_completion(...) for 11.3s (RuntimeError)\n",
      "INFO:backoff:Backing off wait_for_completion(...) for 9.7s (RuntimeError)\n",
      "INFO:backoff:Backing off wait_for_completion(...) for 6.3s (RuntimeError)\n",
      "INFO:backoff:Backing off wait_for_completion(...) for 10.7s (RuntimeError)\n",
      "INFO:backoff:Backing off wait_for_completion(...) for 48.0s (RuntimeError)\n",
      "INFO:backoff:Backing off wait_for_completion(...) for 13.1s (RuntimeError)\n",
      "INFO:backoff:Backing off wait_for_completion(...) for 56.1s (RuntimeError)\n",
      "INFO:backoff:Backing off wait_for_completion(...) for 37.9s (RuntimeError)\n",
      "INFO:backoff:Backing off wait_for_completion(...) for 25.2s (RuntimeError)\n",
      "INFO:backoff:Backing off wait_for_completion(...) for 7.1s (RuntimeError)\n",
      "INFO:backoff:Backing off wait_for_completion(...) for 59.7s (RuntimeError)\n",
      "INFO:backoff:Backing off wait_for_completion(...) for 9.6s (RuntimeError)\n",
      "INFO:backoff:Backing off wait_for_completion(...) for 47.3s (RuntimeError)\n",
      "INFO:backoff:Backing off wait_for_completion(...) for 17.5s (RuntimeError)\n",
      "INFO:backoff:Backing off wait_for_completion(...) for 12.2s (RuntimeError)\n",
      "INFO:backoff:Backing off wait_for_completion(...) for 60.1s (RuntimeError)\n",
      "INFO:backoff:Backing off wait_for_completion(...) for 63.3s (RuntimeError)\n",
      "INFO:backoff:Backing off wait_for_completion(...) for 46.8s (RuntimeError)\n",
      "INFO:backoff:Backing off wait_for_completion(...) for 3.3s (RuntimeError)\n"
     ]
    },
    {
     "name": "stdout",
     "output_type": "stream",
     "text": [
      "CPU times: user 509 ms, sys: 27.9 ms, total: 537 ms\n",
      "Wall time: 9min 17s\n"
     ]
    }
   ],
   "source": [
    "%%time\n",
    "failed_jobs = poll_on_job_status(queued_jobs)"
   ]
  },
  {
   "cell_type": "markdown",
   "id": "79fd022b-6764-4315-aaf6-86e58a4b5e1a",
   "metadata": {},
   "source": [
    "### Preprocess Region T"
   ]
  },
  {
   "cell_type": "code",
   "execution_count": 9,
   "id": "48b14b4b-cc0f-488b-bf31-a8c8b6bc080e",
   "metadata": {
    "tags": []
   },
   "outputs": [
    {
     "name": "stdout",
     "output_type": "stream",
     "text": [
      "{'algorithm_name': 'eis-feds-dps-preprocess-region-and-t-v3', 'algorithm_description': 'do initial filtering and clustering and write to dataframe', 'algorithm_version': '1.0.0', 'environment': 'ubuntu', 'repository_url': 'https://repo.maap-project.org/gcorradini/fireatlas_nrt.git', 'docker_container_url': 'mas.maap-project.org/root/maap-workspaces/base_images/vanilla:v3.1.4', 'queue': 'maap-dps-eis-worker-64gb', 'run_command': 'fireatlas_nrt/maap_runtime/run_preprocess_region_and_t.sh', 'build_command': 'fireatlas_nrt/maap_runtime/run_dps_build.sh', 'disk_space': '100GB'}\n",
      "[2023, 1, 1, 'AM']\n",
      "[2023, 1, 1, 'PM']\n",
      "[2023, 1, 2, 'AM']\n",
      "[2023, 1, 2, 'PM']\n",
      "[2023, 1, 3, 'AM']\n",
      "[2023, 1, 3, 'PM']\n",
      "[2023, 1, 4, 'AM']\n",
      "[2023, 1, 4, 'PM']\n",
      "[2023, 1, 5, 'AM']\n",
      "[2023, 1, 5, 'PM']\n",
      "[2023, 1, 6, 'AM']\n",
      "[2023, 1, 6, 'PM']\n",
      "[2023, 1, 7, 'AM']\n",
      "[2023, 1, 7, 'PM']\n",
      "[2023, 1, 8, 'AM']\n",
      "[2023, 1, 8, 'PM']\n",
      "[2023, 1, 9, 'AM']\n",
      "[2023, 1, 9, 'PM']\n",
      "[2023, 1, 10, 'AM']\n",
      "[2023, 1, 10, 'PM']\n",
      "[2023, 1, 11, 'AM']\n",
      "[2023, 1, 11, 'PM']\n",
      "[2023, 1, 12, 'AM']\n",
      "[2023, 1, 12, 'PM']\n",
      "[2023, 1, 13, 'AM']\n",
      "[2023, 1, 13, 'PM']\n",
      "[2023, 1, 14, 'AM']\n",
      "[2023, 1, 14, 'PM']\n",
      "[2023, 1, 15, 'AM']\n",
      "[2023, 1, 15, 'PM']\n",
      "[2023, 1, 16, 'AM']\n",
      "[2023, 1, 16, 'PM']\n",
      "[2023, 1, 17, 'AM']\n",
      "[2023, 1, 17, 'PM']\n",
      "[2023, 1, 18, 'AM']\n",
      "[2023, 1, 18, 'PM']\n",
      "[2023, 1, 19, 'AM']\n",
      "[2023, 1, 19, 'PM']\n",
      "[2023, 1, 20, 'AM']\n",
      "[2023, 1, 20, 'PM']\n",
      "[2023, 1, 21, 'AM']\n",
      "[2023, 1, 21, 'PM']\n",
      "[2023, 1, 22, 'AM']\n",
      "[2023, 1, 22, 'PM']\n",
      "[2023, 1, 23, 'AM']\n",
      "[2023, 1, 23, 'PM']\n",
      "[2023, 1, 24, 'AM']\n",
      "[2023, 1, 24, 'PM']\n",
      "[2023, 1, 25, 'AM']\n",
      "[2023, 1, 25, 'PM']\n",
      "[2023, 1, 26, 'AM']\n",
      "[2023, 1, 26, 'PM']\n",
      "[2023, 1, 27, 'AM']\n",
      "[2023, 1, 27, 'PM']\n",
      "[2023, 1, 28, 'AM']\n",
      "[2023, 1, 28, 'PM']\n",
      "[2023, 1, 29, 'AM']\n",
      "[2023, 1, 29, 'PM']\n",
      "[2023, 1, 30, 'AM']\n",
      "[2023, 1, 30, 'PM']\n",
      "[2023, 1, 31, 'AM']\n",
      "[2023, 1, 31, 'PM']\n",
      "[2023, 2, 1, 'AM']\n",
      "[2023, 2, 1, 'PM']\n",
      "[2023, 2, 2, 'AM']\n",
      "[2023, 2, 2, 'PM']\n",
      "[2023, 2, 3, 'AM']\n",
      "[2023, 2, 3, 'PM']\n",
      "[2023, 2, 4, 'AM']\n",
      "[2023, 2, 4, 'PM']\n",
      "[2023, 2, 5, 'AM']\n",
      "[2023, 2, 5, 'PM']\n",
      "[2023, 2, 6, 'AM']\n",
      "[2023, 2, 6, 'PM']\n",
      "[2023, 2, 7, 'AM']\n",
      "[2023, 2, 7, 'PM']\n",
      "[2023, 2, 8, 'AM']\n",
      "[2023, 2, 8, 'PM']\n",
      "[2023, 2, 9, 'AM']\n",
      "[2023, 2, 9, 'PM']\n",
      "[2023, 2, 10, 'AM']\n",
      "[2023, 2, 10, 'PM']\n",
      "[2023, 2, 11, 'AM']\n",
      "[2023, 2, 11, 'PM']\n",
      "[2023, 2, 12, 'AM']\n",
      "[2023, 2, 12, 'PM']\n",
      "[2023, 2, 13, 'AM']\n",
      "[2023, 2, 13, 'PM']\n",
      "[2023, 2, 14, 'AM']\n",
      "[2023, 2, 14, 'PM']\n",
      "[2023, 2, 15, 'AM']\n",
      "[2023, 2, 15, 'PM']\n",
      "[2023, 2, 16, 'AM']\n",
      "[2023, 2, 16, 'PM']\n",
      "[2023, 2, 17, 'AM']\n",
      "[2023, 2, 17, 'PM']\n",
      "[2023, 2, 18, 'AM']\n",
      "[2023, 2, 18, 'PM']\n",
      "[2023, 2, 19, 'AM']\n",
      "[2023, 2, 19, 'PM']\n",
      "[2023, 2, 20, 'AM']\n",
      "[2023, 2, 20, 'PM']\n",
      "[2023, 2, 21, 'AM']\n",
      "[2023, 2, 21, 'PM']\n",
      "[2023, 2, 22, 'AM']\n",
      "[2023, 2, 22, 'PM']\n",
      "[2023, 2, 23, 'AM']\n",
      "[2023, 2, 23, 'PM']\n",
      "[2023, 2, 24, 'AM']\n",
      "[2023, 2, 24, 'PM']\n",
      "[2023, 2, 25, 'AM']\n",
      "[2023, 2, 25, 'PM']\n",
      "[2023, 2, 26, 'AM']\n",
      "[2023, 2, 26, 'PM']\n",
      "[2023, 2, 27, 'AM']\n",
      "[2023, 2, 27, 'PM']\n",
      "[2023, 2, 28, 'AM']\n",
      "[2023, 2, 28, 'PM']\n",
      "[2023, 3, 1, 'AM']\n",
      "[2023, 3, 1, 'PM']\n"
     ]
    }
   ],
   "source": [
    "configs = get_algorithm_config_filepath(['preprocess_region_t',])\n",
    "maap_api = MAAP(maap_host='api.maap-project.org')\n",
    "algo_config = algorithm_utils.read_yaml_file(configs[0])\n",
    "algo_config.pop('inputs')\n",
    "print(algo_config)\n",
    "\n",
    "submitted_jobs = []\n",
    "submit_job_kwargs = {\n",
    "    \"identifier\": f\"job-{algo_config['algorithm_name']}:{algo_config['algorithm_version']}\",\n",
    "    \"algo_id\": algo_config[\"algorithm_name\"],\n",
    "    \"version\": algo_config[\"algorithm_version\"],\n",
    "    \"username\": \"gcorradini\",\n",
    "    \"queue\": algo_config[\"queue\"],\n",
    "}\n",
    "for t in list_of_time_steps:\n",
    "    print(t)\n",
    "    param_kwargs = {\"regnm\": region[0],\"t\": json.dumps(t)}\n",
    "    output_filepath = preprocess.preprocessed_filename(t, sat=FireConsts.firesrc, region=region, location=\"s3\")\n",
    "    if FireIO.os_path_exists(output_filepath):\n",
    "        logger.info(f\"skipping 'preprocess_region_t' b/c file \\\n",
    "        already exists for region {region[0]}, {output_filepath}\")\n",
    "        continue\n",
    "\n",
    "    result = maap_api.submitJob(**submit_job_kwargs, **param_kwargs)\n",
    "    submitted_jobs.append(result)\n",
    "queued_jobs = validate_job_submission(submitted_jobs)"
   ]
  },
  {
   "cell_type": "markdown",
   "id": "e44ae8dc-1d59-4190-b629-16ff39f8c7d4",
   "metadata": {},
   "source": [
    "#### Job Monitoring"
   ]
  },
  {
   "cell_type": "code",
   "execution_count": 10,
   "id": "7af92d79-6960-4ded-ba7e-e5ff92e56762",
   "metadata": {
    "tags": []
   },
   "outputs": [],
   "source": [
    "#[maap_api.getJobStatus(job.id) for job in queued_jobs]"
   ]
  },
  {
   "cell_type": "code",
   "execution_count": 11,
   "id": "f146007e-3110-4204-876e-d347aade5fd8",
   "metadata": {
    "tags": []
   },
   "outputs": [
    {
     "name": "stderr",
     "output_type": "stream",
     "text": [
      "INFO:backoff:Backing off wait_for_completion(...) for 0.5s (RuntimeError)\n",
      "INFO:backoff:Backing off wait_for_completion(...) for 0.5s (RuntimeError)\n",
      "INFO:backoff:Backing off wait_for_completion(...) for 0.2s (RuntimeError)\n",
      "INFO:backoff:Backing off wait_for_completion(...) for 0.6s (RuntimeError)\n",
      "INFO:backoff:Backing off wait_for_completion(...) for 0.7s (RuntimeError)\n",
      "INFO:backoff:Backing off wait_for_completion(...) for 0.3s (RuntimeError)\n",
      "INFO:backoff:Backing off wait_for_completion(...) for 0.3s (RuntimeError)\n",
      "INFO:backoff:Backing off wait_for_completion(...) for 1.7s (RuntimeError)\n",
      "INFO:backoff:Backing off wait_for_completion(...) for 0.6s (RuntimeError)\n",
      "INFO:backoff:Backing off wait_for_completion(...) for 1.3s (RuntimeError)\n",
      "INFO:backoff:Backing off wait_for_completion(...) for 0.8s (RuntimeError)\n",
      "INFO:backoff:Backing off wait_for_completion(...) for 1.6s (RuntimeError)\n",
      "INFO:backoff:Backing off wait_for_completion(...) for 4.3s (RuntimeError)\n",
      "INFO:backoff:Backing off wait_for_completion(...) for 2.5s (RuntimeError)\n",
      "INFO:backoff:Backing off wait_for_completion(...) for 3.6s (RuntimeError)\n",
      "INFO:backoff:Backing off wait_for_completion(...) for 3.0s (RuntimeError)\n",
      "INFO:backoff:Backing off wait_for_completion(...) for 6.0s (RuntimeError)\n",
      "INFO:backoff:Backing off wait_for_completion(...) for 5.0s (RuntimeError)\n",
      "INFO:backoff:Backing off wait_for_completion(...) for 0.5s (RuntimeError)\n",
      "INFO:backoff:Backing off wait_for_completion(...) for 9.7s (RuntimeError)\n",
      "INFO:backoff:Backing off wait_for_completion(...) for 4.9s (RuntimeError)\n",
      "INFO:backoff:Backing off wait_for_completion(...) for 1.7s (RuntimeError)\n",
      "INFO:backoff:Backing off wait_for_completion(...) for 1.2s (RuntimeError)\n",
      "INFO:backoff:Backing off wait_for_completion(...) for 10.3s (RuntimeError)\n",
      "INFO:backoff:Backing off wait_for_completion(...) for 1.6s (RuntimeError)\n",
      "INFO:backoff:Backing off wait_for_completion(...) for 11.7s (RuntimeError)\n",
      "INFO:backoff:Backing off wait_for_completion(...) for 8.1s (RuntimeError)\n",
      "INFO:backoff:Backing off wait_for_completion(...) for 10.8s (RuntimeError)\n",
      "INFO:backoff:Backing off wait_for_completion(...) for 11.7s (RuntimeError)\n",
      "INFO:backoff:Backing off wait_for_completion(...) for 24.5s (RuntimeError)\n",
      "INFO:backoff:Backing off wait_for_completion(...) for 4.9s (RuntimeError)\n",
      "INFO:backoff:Backing off wait_for_completion(...) for 28.3s (RuntimeError)\n",
      "INFO:backoff:Backing off wait_for_completion(...) for 16.7s (RuntimeError)\n",
      "INFO:backoff:Backing off wait_for_completion(...) for 12.8s (RuntimeError)\n",
      "INFO:backoff:Backing off wait_for_completion(...) for 31.8s (RuntimeError)\n",
      "INFO:backoff:Backing off wait_for_completion(...) for 9.4s (RuntimeError)\n",
      "INFO:backoff:Backing off wait_for_completion(...) for 33.4s (RuntimeError)\n",
      "INFO:backoff:Backing off wait_for_completion(...) for 48.6s (RuntimeError)\n",
      "INFO:backoff:Backing off wait_for_completion(...) for 10.3s (RuntimeError)\n",
      "INFO:backoff:Backing off wait_for_completion(...) for 62.8s (RuntimeError)\n",
      "INFO:backoff:Backing off wait_for_completion(...) for 11.7s (RuntimeError)\n",
      "INFO:backoff:Backing off wait_for_completion(...) for 0.2s (RuntimeError)\n",
      "INFO:backoff:Backing off wait_for_completion(...) for 1.7s (RuntimeError)\n",
      "INFO:backoff:Backing off wait_for_completion(...) for 0.5s (RuntimeError)\n",
      "INFO:backoff:Backing off wait_for_completion(...) for 2.5s (RuntimeError)\n",
      "INFO:backoff:Backing off wait_for_completion(...) for 5.2s (RuntimeError)\n",
      "INFO:backoff:Backing off wait_for_completion(...) for 0.4s (RuntimeError)\n",
      "INFO:backoff:Backing off wait_for_completion(...) for 0.3s (RuntimeError)\n",
      "INFO:backoff:Backing off wait_for_completion(...) for 3.8s (RuntimeError)\n",
      "INFO:backoff:Backing off wait_for_completion(...) for 20.6s (RuntimeError)\n",
      "INFO:backoff:Backing off wait_for_completion(...) for 35.3s (RuntimeError)\n",
      "INFO:backoff:Backing off wait_for_completion(...) for 5.2s (RuntimeError)\n",
      "INFO:backoff:Backing off wait_for_completion(...) for 0.8s (RuntimeError)\n",
      "INFO:backoff:Backing off wait_for_completion(...) for 27.0s (RuntimeError)\n",
      "INFO:backoff:Backing off wait_for_completion(...) for 62.6s (RuntimeError)\n",
      "INFO:backoff:Backing off wait_for_completion(...) for 46.8s (RuntimeError)\n",
      "INFO:backoff:Backing off wait_for_completion(...) for 29.5s (RuntimeError)\n",
      "INFO:backoff:Backing off wait_for_completion(...) for 0.1s (RuntimeError)\n",
      "INFO:backoff:Backing off wait_for_completion(...) for 0.2s (RuntimeError)\n",
      "INFO:backoff:Backing off wait_for_completion(...) for 3.4s (RuntimeError)\n",
      "INFO:backoff:Backing off wait_for_completion(...) for 0.3s (RuntimeError)\n",
      "INFO:backoff:Backing off wait_for_completion(...) for 5.7s (RuntimeError)\n",
      "INFO:backoff:Backing off wait_for_completion(...) for 0.7s (RuntimeError)\n",
      "INFO:backoff:Backing off wait_for_completion(...) for 1.4s (RuntimeError)\n",
      "INFO:backoff:Backing off wait_for_completion(...) for 1.9s (RuntimeError)\n",
      "INFO:backoff:Backing off wait_for_completion(...) for 6.4s (RuntimeError)\n",
      "INFO:backoff:Backing off wait_for_completion(...) for 19.5s (RuntimeError)\n",
      "INFO:backoff:Backing off wait_for_completion(...) for 9.8s (RuntimeError)\n",
      "INFO:backoff:Backing off wait_for_completion(...) for 29.2s (RuntimeError)\n",
      "INFO:backoff:Backing off wait_for_completion(...) for 61.0s (RuntimeError)\n",
      "INFO:backoff:Backing off wait_for_completion(...) for 5.0s (RuntimeError)\n",
      "INFO:backoff:Backing off wait_for_completion(...) for 0.7s (RuntimeError)\n",
      "INFO:backoff:Backing off wait_for_completion(...) for 1.8s (RuntimeError)\n",
      "INFO:backoff:Backing off wait_for_completion(...) for 1.3s (RuntimeError)\n",
      "INFO:backoff:Backing off wait_for_completion(...) for 2.7s (RuntimeError)\n",
      "INFO:backoff:Backing off wait_for_completion(...) for 5.1s (RuntimeError)\n",
      "INFO:backoff:Backing off wait_for_completion(...) for 16.6s (RuntimeError)\n",
      "INFO:backoff:Backing off wait_for_completion(...) for 8.8s (RuntimeError)\n",
      "INFO:backoff:Backing off wait_for_completion(...) for 27.8s (RuntimeError)\n",
      "INFO:backoff:Backing off wait_for_completion(...) for 17.6s (RuntimeError)\n",
      "INFO:backoff:Backing off wait_for_completion(...) for 9.9s (RuntimeError)\n",
      "INFO:backoff:Backing off wait_for_completion(...) for 2.1s (RuntimeError)\n",
      "INFO:backoff:Backing off wait_for_completion(...) for 16.1s (RuntimeError)\n",
      "INFO:backoff:Backing off wait_for_completion(...) for 59.5s (RuntimeError)\n",
      "INFO:backoff:Backing off wait_for_completion(...) for 39.7s (RuntimeError)\n",
      "INFO:backoff:Backing off wait_for_completion(...) for 1.4s (RuntimeError)\n",
      "INFO:backoff:Backing off wait_for_completion(...) for 0.8s (RuntimeError)\n",
      "INFO:backoff:Backing off wait_for_completion(...) for 0.3s (RuntimeError)\n",
      "INFO:backoff:Backing off wait_for_completion(...) for 2.7s (RuntimeError)\n",
      "INFO:backoff:Backing off wait_for_completion(...) for 47.1s (RuntimeError)\n",
      "INFO:backoff:Backing off wait_for_completion(...) for 2.4s (RuntimeError)\n",
      "INFO:backoff:Backing off wait_for_completion(...) for 12.2s (RuntimeError)\n",
      "INFO:backoff:Backing off wait_for_completion(...) for 0.2s (RuntimeError)\n",
      "INFO:backoff:Backing off wait_for_completion(...) for 1.4s (RuntimeError)\n",
      "INFO:backoff:Backing off wait_for_completion(...) for 2.1s (RuntimeError)\n",
      "INFO:backoff:Backing off wait_for_completion(...) for 2.2s (RuntimeError)\n",
      "INFO:backoff:Backing off wait_for_completion(...) for 6.9s (RuntimeError)\n",
      "INFO:backoff:Backing off wait_for_completion(...) for 55.5s (RuntimeError)\n",
      "INFO:backoff:Backing off wait_for_completion(...) for 3.4s (RuntimeError)\n",
      "INFO:backoff:Backing off wait_for_completion(...) for 13.7s (RuntimeError)\n",
      "INFO:backoff:Backing off wait_for_completion(...) for 63.2s (RuntimeError)\n",
      "INFO:backoff:Backing off wait_for_completion(...) for 8.2s (RuntimeError)\n",
      "INFO:backoff:Backing off wait_for_completion(...) for 17.5s (RuntimeError)\n",
      "INFO:backoff:Backing off wait_for_completion(...) for 0.3s (RuntimeError)\n",
      "INFO:backoff:Backing off wait_for_completion(...) for 1.9s (RuntimeError)\n",
      "INFO:backoff:Backing off wait_for_completion(...) for 38.7s (RuntimeError)\n",
      "INFO:backoff:Backing off wait_for_completion(...) for 2.6s (RuntimeError)\n",
      "INFO:backoff:Backing off wait_for_completion(...) for 4.6s (RuntimeError)\n",
      "INFO:backoff:Backing off wait_for_completion(...) for 6.4s (RuntimeError)\n",
      "INFO:backoff:Backing off wait_for_completion(...) for 0.3s (RuntimeError)\n",
      "INFO:backoff:Backing off wait_for_completion(...) for 0.5s (RuntimeError)\n",
      "INFO:backoff:Backing off wait_for_completion(...) for 16.1s (RuntimeError)\n",
      "INFO:backoff:Backing off wait_for_completion(...) for 0.0s (RuntimeError)\n",
      "INFO:backoff:Backing off wait_for_completion(...) for 1.8s (RuntimeError)\n",
      "INFO:backoff:Backing off wait_for_completion(...) for 3.8s (RuntimeError)\n",
      "INFO:backoff:Backing off wait_for_completion(...) for 22.3s (RuntimeError)\n",
      "INFO:backoff:Backing off wait_for_completion(...) for 54.5s (RuntimeError)\n",
      "INFO:backoff:Backing off wait_for_completion(...) for 28.7s (RuntimeError)\n",
      "INFO:backoff:Backing off wait_for_completion(...) for 48.7s (RuntimeError)\n",
      "INFO:backoff:Backing off wait_for_completion(...) for 60.2s (RuntimeError)\n",
      "INFO:backoff:Backing off wait_for_completion(...) for 0.7s (RuntimeError)\n",
      "INFO:backoff:Backing off wait_for_completion(...) for 0.2s (RuntimeError)\n",
      "INFO:backoff:Backing off wait_for_completion(...) for 3.6s (RuntimeError)\n",
      "INFO:backoff:Backing off wait_for_completion(...) for 0.6s (RuntimeError)\n",
      "INFO:backoff:Backing off wait_for_completion(...) for 5.3s (RuntimeError)\n",
      "INFO:backoff:Backing off wait_for_completion(...) for 18.3s (RuntimeError)\n",
      "INFO:backoff:Backing off wait_for_completion(...) for 4.0s (RuntimeError)\n",
      "INFO:backoff:Backing off wait_for_completion(...) for 29.8s (RuntimeError)\n",
      "INFO:backoff:Backing off wait_for_completion(...) for 42.6s (RuntimeError)\n",
      "INFO:backoff:Backing off wait_for_completion(...) for 0.8s (RuntimeError)\n",
      "INFO:backoff:Backing off wait_for_completion(...) for 1.7s (RuntimeError)\n",
      "INFO:backoff:Backing off wait_for_completion(...) for 3.9s (RuntimeError)\n",
      "INFO:backoff:Backing off wait_for_completion(...) for 3.2s (RuntimeError)\n",
      "INFO:backoff:Backing off wait_for_completion(...) for 8.8s (RuntimeError)\n",
      "INFO:backoff:Backing off wait_for_completion(...) for 8.5s (RuntimeError)\n",
      "INFO:backoff:Backing off wait_for_completion(...) for 27.8s (RuntimeError)\n",
      "INFO:backoff:Backing off wait_for_completion(...) for 0.3s (RuntimeError)\n",
      "INFO:backoff:Backing off wait_for_completion(...) for 1.5s (RuntimeError)\n",
      "INFO:backoff:Backing off wait_for_completion(...) for 28.4s (RuntimeError)\n",
      "INFO:backoff:Backing off wait_for_completion(...) for 2.7s (RuntimeError)\n",
      "INFO:backoff:Backing off wait_for_completion(...) for 2.8s (RuntimeError)\n",
      "INFO:backoff:Backing off wait_for_completion(...) for 56.7s (RuntimeError)\n",
      "INFO:backoff:Backing off wait_for_completion(...) for 7.5s (RuntimeError)\n",
      "INFO:backoff:Backing off wait_for_completion(...) for 25.9s (RuntimeError)\n",
      "INFO:backoff:Backing off wait_for_completion(...) for 41.5s (RuntimeError)\n",
      "INFO:backoff:Backing off wait_for_completion(...) for 4.1s (RuntimeError)\n",
      "INFO:backoff:Backing off wait_for_completion(...) for 0.4s (RuntimeError)\n",
      "INFO:backoff:Backing off wait_for_completion(...) for 1.6s (RuntimeError)\n",
      "INFO:backoff:Backing off wait_for_completion(...) for 50.7s (RuntimeError)\n",
      "INFO:backoff:Backing off wait_for_completion(...) for 2.7s (RuntimeError)\n",
      "INFO:backoff:Backing off wait_for_completion(...) for 4.3s (RuntimeError)\n",
      "INFO:backoff:Backing off wait_for_completion(...) for 10.6s (RuntimeError)\n",
      "INFO:backoff:Backing off wait_for_completion(...) for 1.2s (RuntimeError)\n",
      "INFO:backoff:Backing off wait_for_completion(...) for 31.8s (RuntimeError)\n",
      "INFO:backoff:Backing off wait_for_completion(...) for 19.0s (RuntimeError)\n",
      "INFO:backoff:Backing off wait_for_completion(...) for 18.4s (RuntimeError)\n",
      "INFO:backoff:Backing off wait_for_completion(...) for 59.5s (RuntimeError)\n",
      "INFO:backoff:Backing off wait_for_completion(...) for 25.5s (RuntimeError)\n",
      "INFO:backoff:Backing off wait_for_completion(...) for 42.4s (RuntimeError)\n",
      "INFO:backoff:Backing off wait_for_completion(...) for 11.2s (RuntimeError)\n",
      "INFO:backoff:Backing off wait_for_completion(...) for 42.2s (RuntimeError)\n",
      "INFO:backoff:Backing off wait_for_completion(...) for 37.0s (RuntimeError)\n",
      "INFO:backoff:Backing off wait_for_completion(...) for 6.0s (RuntimeError)\n",
      "INFO:backoff:Backing off wait_for_completion(...) for 46.5s (RuntimeError)\n",
      "INFO:backoff:Backing off wait_for_completion(...) for 24.1s (RuntimeError)\n",
      "INFO:backoff:Backing off wait_for_completion(...) for 27.4s (RuntimeError)\n",
      "INFO:backoff:Backing off wait_for_completion(...) for 45.1s (RuntimeError)\n",
      "INFO:backoff:Backing off wait_for_completion(...) for 0.1s (RuntimeError)\n",
      "INFO:backoff:Backing off wait_for_completion(...) for 13.2s (RuntimeError)\n",
      "INFO:backoff:Backing off wait_for_completion(...) for 12.9s (RuntimeError)\n",
      "INFO:backoff:Backing off wait_for_completion(...) for 56.9s (RuntimeError)\n",
      "INFO:backoff:Backing off wait_for_completion(...) for 15.3s (RuntimeError)\n",
      "INFO:backoff:Backing off wait_for_completion(...) for 55.3s (RuntimeError)\n",
      "INFO:backoff:Backing off wait_for_completion(...) for 4.6s (RuntimeError)\n",
      "INFO:backoff:Backing off wait_for_completion(...) for 20.1s (RuntimeError)\n",
      "INFO:backoff:Backing off wait_for_completion(...) for 52.0s (RuntimeError)\n",
      "INFO:backoff:Backing off wait_for_completion(...) for 20.6s (RuntimeError)\n",
      "INFO:backoff:Backing off wait_for_completion(...) for 40.4s (RuntimeError)\n",
      "INFO:backoff:Backing off wait_for_completion(...) for 12.2s (RuntimeError)\n",
      "INFO:backoff:Backing off wait_for_completion(...) for 26.8s (RuntimeError)\n",
      "INFO:backoff:Backing off wait_for_completion(...) for 31.4s (RuntimeError)\n",
      "INFO:backoff:Backing off wait_for_completion(...) for 6.2s (RuntimeError)\n",
      "INFO:backoff:Backing off wait_for_completion(...) for 56.8s (RuntimeError)\n",
      "INFO:backoff:Backing off wait_for_completion(...) for 27.7s (RuntimeError)\n",
      "INFO:backoff:Backing off wait_for_completion(...) for 13.7s (RuntimeError)\n",
      "INFO:backoff:Backing off wait_for_completion(...) for 14.9s (RuntimeError)\n",
      "INFO:backoff:Backing off wait_for_completion(...) for 59.3s (RuntimeError)\n",
      "INFO:backoff:Backing off wait_for_completion(...) for 22.8s (RuntimeError)\n",
      "INFO:backoff:Backing off wait_for_completion(...) for 48.7s (RuntimeError)\n",
      "INFO:backoff:Backing off wait_for_completion(...) for 48.6s (RuntimeError)\n",
      "INFO:backoff:Backing off wait_for_completion(...) for 0.5s (RuntimeError)\n",
      "INFO:backoff:Backing off wait_for_completion(...) for 0.0s (RuntimeError)\n",
      "INFO:backoff:Backing off wait_for_completion(...) for 1.8s (RuntimeError)\n",
      "INFO:backoff:Backing off wait_for_completion(...) for 2.4s (RuntimeError)\n",
      "INFO:backoff:Backing off wait_for_completion(...) for 9.9s (RuntimeError)\n",
      "INFO:backoff:Backing off wait_for_completion(...) for 0.4s (RuntimeError)\n",
      "INFO:backoff:Backing off wait_for_completion(...) for 0.5s (RuntimeError)\n",
      "INFO:backoff:Backing off wait_for_completion(...) for 2.6s (RuntimeError)\n",
      "INFO:backoff:Backing off wait_for_completion(...) for 26.6s (RuntimeError)\n",
      "INFO:backoff:Backing off wait_for_completion(...) for 4.1s (RuntimeError)\n",
      "INFO:backoff:Backing off wait_for_completion(...) for 15.4s (RuntimeError)\n",
      "INFO:backoff:Backing off wait_for_completion(...) for 35.2s (RuntimeError)\n",
      "INFO:backoff:Backing off wait_for_completion(...) for 0.8s (RuntimeError)\n",
      "INFO:backoff:Backing off wait_for_completion(...) for 0.9s (RuntimeError)\n",
      "INFO:backoff:Backing off wait_for_completion(...) for 13.1s (RuntimeError)\n",
      "INFO:backoff:Backing off wait_for_completion(...) for 2.6s (RuntimeError)\n",
      "INFO:backoff:Backing off wait_for_completion(...) for 1.0s (RuntimeError)\n",
      "INFO:backoff:Backing off wait_for_completion(...) for 0.1s (RuntimeError)\n",
      "INFO:backoff:Backing off wait_for_completion(...) for 2.0s (RuntimeError)\n",
      "INFO:backoff:Backing off wait_for_completion(...) for 2.6s (RuntimeError)\n",
      "INFO:backoff:Backing off wait_for_completion(...) for 7.9s (RuntimeError)\n",
      "INFO:backoff:Backing off wait_for_completion(...) for 15.1s (RuntimeError)\n",
      "INFO:backoff:Backing off wait_for_completion(...) for 58.5s (RuntimeError)\n",
      "INFO:backoff:Backing off wait_for_completion(...) for 4.8s (RuntimeError)\n",
      "INFO:backoff:Backing off wait_for_completion(...) for 47.0s (RuntimeError)\n",
      "INFO:backoff:Backing off wait_for_completion(...) for 11.1s (RuntimeError)\n",
      "INFO:backoff:Backing off wait_for_completion(...) for 4.5s (RuntimeError)\n",
      "INFO:backoff:Backing off wait_for_completion(...) for 17.1s (RuntimeError)\n",
      "INFO:backoff:Backing off wait_for_completion(...) for 38.9s (RuntimeError)\n",
      "INFO:backoff:Backing off wait_for_completion(...) for 9.2s (RuntimeError)\n",
      "INFO:backoff:Backing off wait_for_completion(...) for 30.3s (RuntimeError)\n",
      "INFO:backoff:Backing off wait_for_completion(...) for 56.3s (RuntimeError)\n",
      "INFO:backoff:Backing off wait_for_completion(...) for 33.2s (RuntimeError)\n",
      "INFO:backoff:Backing off wait_for_completion(...) for 54.0s (RuntimeError)\n",
      "INFO:backoff:Backing off wait_for_completion(...) for 41.9s (RuntimeError)\n",
      "INFO:backoff:Backing off wait_for_completion(...) for 36.2s (RuntimeError)\n",
      "INFO:backoff:Backing off wait_for_completion(...) for 0.3s (RuntimeError)\n",
      "INFO:backoff:Backing off wait_for_completion(...) for 1.7s (RuntimeError)\n",
      "INFO:backoff:Backing off wait_for_completion(...) for 0.3s (RuntimeError)\n",
      "INFO:backoff:Backing off wait_for_completion(...) for 3.7s (RuntimeError)\n",
      "INFO:backoff:Backing off wait_for_completion(...) for 0.3s (RuntimeError)\n",
      "INFO:backoff:Backing off wait_for_completion(...) for 1.9s (RuntimeError)\n",
      "INFO:backoff:Backing off wait_for_completion(...) for 11.5s (RuntimeError)\n",
      "INFO:backoff:Backing off wait_for_completion(...) for 3.9s (RuntimeError)\n",
      "INFO:backoff:Backing off wait_for_completion(...) for 7.3s (RuntimeError)\n",
      "INFO:backoff:Backing off wait_for_completion(...) for 0.6s (RuntimeError)\n",
      "INFO:backoff:Backing off wait_for_completion(...) for 1.9s (RuntimeError)\n",
      "INFO:backoff:Backing off wait_for_completion(...) for 0.9s (RuntimeError)\n",
      "INFO:backoff:Backing off wait_for_completion(...) for 1.2s (RuntimeError)\n",
      "INFO:backoff:Backing off wait_for_completion(...) for 1.7s (RuntimeError)\n",
      "INFO:backoff:Backing off wait_for_completion(...) for 4.3s (RuntimeError)\n",
      "INFO:backoff:Backing off wait_for_completion(...) for 1.6s (RuntimeError)\n",
      "INFO:backoff:Backing off wait_for_completion(...) for 12.6s (RuntimeError)\n",
      "INFO:backoff:Backing off wait_for_completion(...) for 0.4s (RuntimeError)\n",
      "INFO:backoff:Backing off wait_for_completion(...) for 11.3s (RuntimeError)\n",
      "INFO:backoff:Backing off wait_for_completion(...) for 0.7s (RuntimeError)\n",
      "INFO:backoff:Backing off wait_for_completion(...) for 11.2s (RuntimeError)\n",
      "INFO:backoff:Backing off wait_for_completion(...) for 32.9s (RuntimeError)\n",
      "INFO:backoff:Backing off wait_for_completion(...) for 38.4s (RuntimeError)\n",
      "INFO:backoff:Backing off wait_for_completion(...) for 13.8s (RuntimeError)\n",
      "INFO:backoff:Backing off wait_for_completion(...) for 3.7s (RuntimeError)\n",
      "INFO:backoff:Backing off wait_for_completion(...) for 17.6s (RuntimeError)\n",
      "INFO:backoff:Backing off wait_for_completion(...) for 22.8s (RuntimeError)\n",
      "INFO:backoff:Backing off wait_for_completion(...) for 45.5s (RuntimeError)\n",
      "INFO:backoff:Backing off wait_for_completion(...) for 37.5s (RuntimeError)\n",
      "INFO:backoff:Backing off wait_for_completion(...) for 52.7s (RuntimeError)\n",
      "INFO:backoff:Backing off wait_for_completion(...) for 49.3s (RuntimeError)\n",
      "INFO:backoff:Backing off wait_for_completion(...) for 35.7s (RuntimeError)\n",
      "INFO:backoff:Backing off wait_for_completion(...) for 52.4s (RuntimeError)\n",
      "INFO:backoff:Backing off wait_for_completion(...) for 39.3s (RuntimeError)\n",
      "INFO:backoff:Backing off wait_for_completion(...) for 28.8s (RuntimeError)\n",
      "INFO:backoff:Backing off wait_for_completion(...) for 44.8s (RuntimeError)\n",
      "INFO:backoff:Backing off wait_for_completion(...) for 4.5s (RuntimeError)\n",
      "INFO:backoff:Backing off wait_for_completion(...) for 2.9s (RuntimeError)\n",
      "INFO:backoff:Backing off wait_for_completion(...) for 50.2s (RuntimeError)\n"
     ]
    },
    {
     "name": "stdout",
     "output_type": "stream",
     "text": [
      "CPU times: user 10.3 s, sys: 567 ms, total: 10.9 s\n",
      "Wall time: 14min 41s\n"
     ]
    }
   ],
   "source": [
    "%%time\n",
    "failed_jobs = poll_on_job_status(queued_jobs)"
   ]
  },
  {
   "cell_type": "code",
   "execution_count": 29,
   "id": "7005e381-b12e-41c4-ae7b-ecb6e72543e5",
   "metadata": {
    "tags": []
   },
   "outputs": [
    {
     "data": {
      "text/plain": [
       "0"
      ]
     },
     "execution_count": 29,
     "metadata": {},
     "output_type": "execute_result"
    }
   ],
   "source": [
    "len(failed_jobs)"
   ]
  },
  {
   "cell_type": "markdown",
   "id": "68e63577-5ad0-4fec-aa6c-c695e948accb",
   "metadata": {
    "tags": []
   },
   "source": [
    "#### FireForward"
   ]
  },
  {
   "cell_type": "code",
   "execution_count": 22,
   "id": "59bfaff1-fdd7-4d72-8c78-2f2da9b51406",
   "metadata": {
    "tags": []
   },
   "outputs": [
    {
     "data": {
      "text/plain": [
       "'$[2023, 3, 1, \"PM\"]$'"
      ]
     },
     "execution_count": 22,
     "metadata": {},
     "output_type": "execute_result"
    }
   ],
   "source": [
    "f\"${json.dumps(ted)}$\""
   ]
  },
  {
   "cell_type": "code",
   "execution_count": 33,
   "id": "9684e956-9e80-4632-bdf8-a752ceacc27d",
   "metadata": {
    "tags": []
   },
   "outputs": [
    {
     "name": "stdout",
     "output_type": "stream",
     "text": [
      "{'algorithm_name': 'eis-feds-dps-fire-forward-v3', 'algorithm_description': 'run the merge and expand rtree algorithm over the preprocessed files', 'algorithm_version': '1.0.0', 'environment': 'ubuntu', 'repository_url': 'https://repo.maap-project.org/gcorradini/fireatlas_nrt.git', 'docker_container_url': 'mas.maap-project.org/root/maap-workspaces/base_images/vanilla:v3.1.4', 'queue': 'maap-dps-eis-worker-64gb', 'run_command': 'fireatlas_nrt/maap_runtime/run_fire_forward.sh', 'build_command': 'fireatlas_nrt/maap_runtime/run_dps_build.sh', 'disk_space': '100GB'}\n"
     ]
    }
   ],
   "source": [
    "configs = get_algorithm_config_filepath(['fire_forward',])\n",
    "maap_api = MAAP(maap_host='api.maap-project.org')\n",
    "algo_config = algorithm_utils.read_yaml_file(configs[0])\n",
    "algo_config.pop('inputs')\n",
    "print(algo_config)\n",
    "\n",
    "submitted_jobs = []\n",
    "submit_job_kwargs = {\n",
    "    \"identifier\": f\"job-{algo_config['algorithm_name']}:{algo_config['algorithm_version']}\",\n",
    "    \"algo_id\": algo_config[\"algorithm_name\"],\n",
    "    \"version\": algo_config[\"algorithm_version\"],\n",
    "    \"username\": \"gcorradini\",\n",
    "    \"queue\": algo_config[\"queue\"],\n",
    "}\n",
    "param_kwargs = {\"regnm\": region[0], \"tst\": json.dumps(tst), \"ted\": json.dumps(ted)}\n",
    "\n",
    "result = maap_api.submitJob(**submit_job_kwargs, **param_kwargs)\n",
    "submitted_jobs.append(result)\n",
    "queued_jobs = validate_job_submission(submitted_jobs)"
   ]
  },
  {
   "cell_type": "markdown",
   "id": "039a56ee-d158-4c08-9a5b-15db03555930",
   "metadata": {},
   "source": [
    "#### Job Monitoring"
   ]
  },
  {
   "cell_type": "code",
   "execution_count": 34,
   "id": "3e2314a3-2e67-410f-8e4d-284187e27407",
   "metadata": {
    "tags": []
   },
   "outputs": [
    {
     "data": {
      "text/plain": [
       "['Accepted']"
      ]
     },
     "execution_count": 34,
     "metadata": {},
     "output_type": "execute_result"
    }
   ],
   "source": [
    "[maap_api.getJobStatus(job.id) for job in queued_jobs]"
   ]
  },
  {
   "cell_type": "code",
   "execution_count": 35,
   "id": "48c6fa1f-975c-4f00-ad60-61cad297305a",
   "metadata": {
    "tags": []
   },
   "outputs": [
    {
     "name": "stderr",
     "output_type": "stream",
     "text": [
      "INFO:backoff:Backing off wait_for_completion(...) for 0.6s (RuntimeError)\n",
      "INFO:backoff:Backing off wait_for_completion(...) for 1.3s (RuntimeError)\n",
      "INFO:backoff:Backing off wait_for_completion(...) for 1.2s (RuntimeError)\n",
      "INFO:backoff:Backing off wait_for_completion(...) for 6.6s (RuntimeError)\n",
      "INFO:backoff:Backing off wait_for_completion(...) for 9.9s (RuntimeError)\n",
      "INFO:backoff:Backing off wait_for_completion(...) for 5.5s (RuntimeError)\n",
      "INFO:backoff:Backing off wait_for_completion(...) for 62.3s (RuntimeError)\n",
      "INFO:backoff:Backing off wait_for_completion(...) for 15.2s (RuntimeError)\n",
      "INFO:backoff:Backing off wait_for_completion(...) for 31.7s (RuntimeError)\n",
      "INFO:backoff:Backing off wait_for_completion(...) for 11.2s (RuntimeError)\n",
      "INFO:backoff:Backing off wait_for_completion(...) for 60.3s (RuntimeError)\n",
      "INFO:backoff:Backing off wait_for_completion(...) for 1.1s (RuntimeError)\n",
      "INFO:backoff:Backing off wait_for_completion(...) for 31.5s (RuntimeError)\n",
      "INFO:backoff:Backing off wait_for_completion(...) for 19.8s (RuntimeError)\n",
      "INFO:backoff:Backing off wait_for_completion(...) for 18.7s (RuntimeError)\n",
      "INFO:backoff:Backing off wait_for_completion(...) for 58.5s (RuntimeError)\n",
      "INFO:backoff:Backing off wait_for_completion(...) for 50.8s (RuntimeError)\n",
      "INFO:backoff:Backing off wait_for_completion(...) for 9.4s (RuntimeError)\n",
      "INFO:backoff:Backing off wait_for_completion(...) for 9.2s (RuntimeError)\n",
      "INFO:backoff:Backing off wait_for_completion(...) for 7.7s (RuntimeError)\n",
      "INFO:backoff:Backing off wait_for_completion(...) for 32.2s (RuntimeError)\n",
      "INFO:backoff:Backing off wait_for_completion(...) for 60.9s (RuntimeError)\n",
      "INFO:backoff:Backing off wait_for_completion(...) for 32.4s (RuntimeError)\n"
     ]
    },
    {
     "name": "stdout",
     "output_type": "stream",
     "text": [
      "CPU times: user 524 ms, sys: 33 ms, total: 557 ms\n",
      "Wall time: 8min 59s\n"
     ]
    }
   ],
   "source": [
    "%%time\n",
    "failed_jobs = poll_on_job_status(queued_jobs)"
   ]
  },
  {
   "cell_type": "code",
   "execution_count": 30,
   "id": "634f7378-9207-4eb4-98af-783aacd0de92",
   "metadata": {
    "tags": []
   },
   "outputs": [
    {
     "data": {
      "text/plain": [
       "0"
      ]
     },
     "execution_count": 30,
     "metadata": {},
     "output_type": "execute_result"
    }
   ],
   "source": [
    "len(failed_jobs)"
   ]
  },
  {
   "cell_type": "code",
   "execution_count": 40,
   "id": "ae0c2152-3a63-4305-a2e4-cb57549c7f5e",
   "metadata": {
    "tags": []
   },
   "outputs": [],
   "source": [
    "#failed_jobs[0].result().retrieve_result()"
   ]
  }
 ],
 "metadata": {
  "kernelspec": {
   "display_name": "pangeo",
   "language": "python",
   "name": "pangeo"
  },
  "language_info": {
   "codemirror_mode": {
    "name": "ipython",
    "version": 3
   },
   "file_extension": ".py",
   "mimetype": "text/x-python",
   "name": "python",
   "nbconvert_exporter": "python",
   "pygments_lexer": "ipython3",
   "version": "3.10.13"
  }
 },
 "nbformat": 4,
 "nbformat_minor": 5
}
