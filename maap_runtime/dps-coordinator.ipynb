{
 "cells": [
  {
   "cell_type": "code",
   "execution_count": 24,
   "id": "22c7fa4c-505e-4302-a7b9-ce298fc3b1d4",
   "metadata": {
    "tags": []
   },
   "outputs": [
    {
     "name": "stdout",
     "output_type": "stream",
     "text": [
      "Obtaining file:///projects/fireatlas_nrt\n",
      "  Installing build dependencies ... \u001b[?25ldone\n",
      "\u001b[?25h  Checking if build backend supports build_editable ... \u001b[?25ldone\n",
      "\u001b[?25h  Getting requirements to build editable ... \u001b[?25ldone\n",
      "\u001b[?25h  Preparing editable metadata (pyproject.toml) ... \u001b[?25ldone\n",
      "\u001b[?25hRequirement already satisfied: gdal in /opt/conda/envs/pangeo/lib/python3.10/site-packages (from fireatlas==0.99.1.dev23+g804753c.d20240329) (3.7.0)\n",
      "Requirement already satisfied: xarray in /opt/conda/envs/pangeo/lib/python3.10/site-packages (from fireatlas==0.99.1.dev23+g804753c.d20240329) (2023.12.0)\n",
      "Requirement already satisfied: pandas in /opt/conda/envs/pangeo/lib/python3.10/site-packages (from fireatlas==0.99.1.dev23+g804753c.d20240329) (2.1.4)\n",
      "Requirement already satisfied: dask in /opt/conda/envs/pangeo/lib/python3.10/site-packages (from fireatlas==0.99.1.dev23+g804753c.d20240329) (2023.4.0)\n",
      "Requirement already satisfied: geopandas in /opt/conda/envs/pangeo/lib/python3.10/site-packages (from fireatlas==0.99.1.dev23+g804753c.d20240329) (0.14.2)\n",
      "Requirement already satisfied: fiona in /opt/conda/envs/pangeo/lib/python3.10/site-packages (from fireatlas==0.99.1.dev23+g804753c.d20240329) (1.9.4)\n",
      "Requirement already satisfied: shapely in /opt/conda/envs/pangeo/lib/python3.10/site-packages (from fireatlas==0.99.1.dev23+g804753c.d20240329) (2.0.1)\n",
      "Requirement already satisfied: fsspec in /opt/conda/envs/pangeo/lib/python3.10/site-packages (from fireatlas==0.99.1.dev23+g804753c.d20240329) (2023.12.2)\n",
      "Requirement already satisfied: s3fs in /opt/conda/envs/pangeo/lib/python3.10/site-packages (from fireatlas==0.99.1.dev23+g804753c.d20240329) (2023.12.2)\n",
      "Requirement already satisfied: rtree in /opt/conda/envs/pangeo/lib/python3.10/site-packages (from fireatlas==0.99.1.dev23+g804753c.d20240329) (1.1.0)\n",
      "Requirement already satisfied: scikit-learn in /opt/conda/envs/pangeo/lib/python3.10/site-packages (from fireatlas==0.99.1.dev23+g804753c.d20240329) (1.3.2)\n",
      "Requirement already satisfied: pyarrow in /opt/conda/envs/pangeo/lib/python3.10/site-packages (from fireatlas==0.99.1.dev23+g804753c.d20240329) (14.0.1)\n",
      "Requirement already satisfied: rasterio in /opt/conda/envs/pangeo/lib/python3.10/site-packages (from fireatlas==0.99.1.dev23+g804753c.d20240329) (1.3.7)\n",
      "Requirement already satisfied: pyproj in /opt/conda/envs/pangeo/lib/python3.10/site-packages (from fireatlas==0.99.1.dev23+g804753c.d20240329) (3.5.0)\n",
      "Requirement already satisfied: tqdm in /opt/conda/envs/pangeo/lib/python3.10/site-packages (from fireatlas==0.99.1.dev23+g804753c.d20240329) (4.66.1)\n",
      "Requirement already satisfied: scalene in /opt/conda/envs/pangeo/lib/python3.10/site-packages (from fireatlas==0.99.1.dev23+g804753c.d20240329) (1.5.38)\n",
      "Requirement already satisfied: click>=7.0 in /opt/conda/envs/pangeo/lib/python3.10/site-packages (from dask->fireatlas==0.99.1.dev23+g804753c.d20240329) (8.1.7)\n",
      "Requirement already satisfied: cloudpickle>=1.1.1 in /opt/conda/envs/pangeo/lib/python3.10/site-packages (from dask->fireatlas==0.99.1.dev23+g804753c.d20240329) (3.0.0)\n",
      "Requirement already satisfied: packaging>=20.0 in /opt/conda/envs/pangeo/lib/python3.10/site-packages (from dask->fireatlas==0.99.1.dev23+g804753c.d20240329) (23.2)\n",
      "Requirement already satisfied: partd>=1.2.0 in /opt/conda/envs/pangeo/lib/python3.10/site-packages (from dask->fireatlas==0.99.1.dev23+g804753c.d20240329) (1.4.1)\n",
      "Requirement already satisfied: pyyaml>=5.3.1 in /opt/conda/envs/pangeo/lib/python3.10/site-packages (from dask->fireatlas==0.99.1.dev23+g804753c.d20240329) (6.0.1)\n",
      "Requirement already satisfied: toolz>=0.8.2 in /opt/conda/envs/pangeo/lib/python3.10/site-packages (from dask->fireatlas==0.99.1.dev23+g804753c.d20240329) (0.12.0)\n",
      "Requirement already satisfied: importlib-metadata>=4.13.0 in /opt/conda/envs/pangeo/lib/python3.10/site-packages (from dask->fireatlas==0.99.1.dev23+g804753c.d20240329) (7.0.1)\n",
      "Requirement already satisfied: attrs>=19.2.0 in /opt/conda/envs/pangeo/lib/python3.10/site-packages (from fiona->fireatlas==0.99.1.dev23+g804753c.d20240329) (23.2.0)\n",
      "Requirement already satisfied: certifi in /opt/conda/envs/pangeo/lib/python3.10/site-packages (from fiona->fireatlas==0.99.1.dev23+g804753c.d20240329) (2023.11.17)\n",
      "Requirement already satisfied: click-plugins>=1.0 in /opt/conda/envs/pangeo/lib/python3.10/site-packages (from fiona->fireatlas==0.99.1.dev23+g804753c.d20240329) (1.1.1)\n",
      "Requirement already satisfied: cligj>=0.5 in /opt/conda/envs/pangeo/lib/python3.10/site-packages (from fiona->fireatlas==0.99.1.dev23+g804753c.d20240329) (0.7.2)\n",
      "Requirement already satisfied: six in /opt/conda/envs/pangeo/lib/python3.10/site-packages (from fiona->fireatlas==0.99.1.dev23+g804753c.d20240329) (1.16.0)\n",
      "Requirement already satisfied: numpy<2,>=1.22.4 in /opt/conda/envs/pangeo/lib/python3.10/site-packages (from pandas->fireatlas==0.99.1.dev23+g804753c.d20240329) (1.26.3)\n",
      "Requirement already satisfied: python-dateutil>=2.8.2 in /opt/conda/envs/pangeo/lib/python3.10/site-packages (from pandas->fireatlas==0.99.1.dev23+g804753c.d20240329) (2.8.2)\n",
      "Requirement already satisfied: pytz>=2020.1 in /opt/conda/envs/pangeo/lib/python3.10/site-packages (from pandas->fireatlas==0.99.1.dev23+g804753c.d20240329) (2023.3.post1)\n",
      "Requirement already satisfied: tzdata>=2022.1 in /opt/conda/envs/pangeo/lib/python3.10/site-packages (from pandas->fireatlas==0.99.1.dev23+g804753c.d20240329) (2023.4)\n",
      "Requirement already satisfied: affine in /opt/conda/envs/pangeo/lib/python3.10/site-packages (from rasterio->fireatlas==0.99.1.dev23+g804753c.d20240329) (2.4.0)\n",
      "Requirement already satisfied: snuggs>=1.4.1 in /opt/conda/envs/pangeo/lib/python3.10/site-packages (from rasterio->fireatlas==0.99.1.dev23+g804753c.d20240329) (1.4.7)\n",
      "Requirement already satisfied: setuptools in /opt/conda/envs/pangeo/lib/python3.10/site-packages (from rasterio->fireatlas==0.99.1.dev23+g804753c.d20240329) (69.0.3)\n",
      "Requirement already satisfied: aiobotocore<3.0.0,>=2.5.4 in /opt/conda/envs/pangeo/lib/python3.10/site-packages (from s3fs->fireatlas==0.99.1.dev23+g804753c.d20240329) (2.9.0)\n",
      "Requirement already satisfied: aiohttp!=4.0.0a0,!=4.0.0a1 in /opt/conda/envs/pangeo/lib/python3.10/site-packages (from s3fs->fireatlas==0.99.1.dev23+g804753c.d20240329) (3.9.1)\n",
      "Requirement already satisfied: wheel>=0.36.1 in /opt/conda/envs/pangeo/lib/python3.10/site-packages (from scalene->fireatlas==0.99.1.dev23+g804753c.d20240329) (0.42.0)\n",
      "Requirement already satisfied: rich>=10.7.0 in /opt/conda/envs/pangeo/lib/python3.10/site-packages (from scalene->fireatlas==0.99.1.dev23+g804753c.d20240329) (13.7.1)\n",
      "Requirement already satisfied: pynvml<=11.5,>=11.0.0 in /opt/conda/envs/pangeo/lib/python3.10/site-packages (from scalene->fireatlas==0.99.1.dev23+g804753c.d20240329) (11.5.0)\n",
      "Requirement already satisfied: Jinja2>=3.0.3 in /opt/conda/envs/pangeo/lib/python3.10/site-packages (from scalene->fireatlas==0.99.1.dev23+g804753c.d20240329) (3.1.3)\n",
      "Requirement already satisfied: psutil>=5.9.2 in /opt/conda/envs/pangeo/lib/python3.10/site-packages (from scalene->fireatlas==0.99.1.dev23+g804753c.d20240329) (5.9.7)\n",
      "Requirement already satisfied: scipy>=1.5.0 in /opt/conda/envs/pangeo/lib/python3.10/site-packages (from scikit-learn->fireatlas==0.99.1.dev23+g804753c.d20240329) (1.11.4)\n",
      "Requirement already satisfied: joblib>=1.1.1 in /opt/conda/envs/pangeo/lib/python3.10/site-packages (from scikit-learn->fireatlas==0.99.1.dev23+g804753c.d20240329) (1.3.2)\n",
      "Requirement already satisfied: threadpoolctl>=2.0.0 in /opt/conda/envs/pangeo/lib/python3.10/site-packages (from scikit-learn->fireatlas==0.99.1.dev23+g804753c.d20240329) (3.2.0)\n",
      "Requirement already satisfied: botocore<1.33.14,>=1.33.2 in /opt/conda/envs/pangeo/lib/python3.10/site-packages (from aiobotocore<3.0.0,>=2.5.4->s3fs->fireatlas==0.99.1.dev23+g804753c.d20240329) (1.33.13)\n",
      "Requirement already satisfied: wrapt<2.0.0,>=1.10.10 in /opt/conda/envs/pangeo/lib/python3.10/site-packages (from aiobotocore<3.0.0,>=2.5.4->s3fs->fireatlas==0.99.1.dev23+g804753c.d20240329) (1.16.0)\n",
      "Requirement already satisfied: aioitertools<1.0.0,>=0.5.1 in /opt/conda/envs/pangeo/lib/python3.10/site-packages (from aiobotocore<3.0.0,>=2.5.4->s3fs->fireatlas==0.99.1.dev23+g804753c.d20240329) (0.11.0)\n",
      "Requirement already satisfied: multidict<7.0,>=4.5 in /opt/conda/envs/pangeo/lib/python3.10/site-packages (from aiohttp!=4.0.0a0,!=4.0.0a1->s3fs->fireatlas==0.99.1.dev23+g804753c.d20240329) (6.0.4)\n",
      "Requirement already satisfied: yarl<2.0,>=1.0 in /opt/conda/envs/pangeo/lib/python3.10/site-packages (from aiohttp!=4.0.0a0,!=4.0.0a1->s3fs->fireatlas==0.99.1.dev23+g804753c.d20240329) (1.9.3)\n",
      "Requirement already satisfied: frozenlist>=1.1.1 in /opt/conda/envs/pangeo/lib/python3.10/site-packages (from aiohttp!=4.0.0a0,!=4.0.0a1->s3fs->fireatlas==0.99.1.dev23+g804753c.d20240329) (1.4.1)\n",
      "Requirement already satisfied: aiosignal>=1.1.2 in /opt/conda/envs/pangeo/lib/python3.10/site-packages (from aiohttp!=4.0.0a0,!=4.0.0a1->s3fs->fireatlas==0.99.1.dev23+g804753c.d20240329) (1.3.1)\n",
      "Requirement already satisfied: async-timeout<5.0,>=4.0 in /opt/conda/envs/pangeo/lib/python3.10/site-packages (from aiohttp!=4.0.0a0,!=4.0.0a1->s3fs->fireatlas==0.99.1.dev23+g804753c.d20240329) (4.0.3)\n",
      "Requirement already satisfied: zipp>=0.5 in /opt/conda/envs/pangeo/lib/python3.10/site-packages (from importlib-metadata>=4.13.0->dask->fireatlas==0.99.1.dev23+g804753c.d20240329) (3.17.0)\n",
      "Requirement already satisfied: MarkupSafe>=2.0 in /opt/conda/envs/pangeo/lib/python3.10/site-packages (from Jinja2>=3.0.3->scalene->fireatlas==0.99.1.dev23+g804753c.d20240329) (2.1.3)\n",
      "Requirement already satisfied: locket in /opt/conda/envs/pangeo/lib/python3.10/site-packages (from partd>=1.2.0->dask->fireatlas==0.99.1.dev23+g804753c.d20240329) (1.0.0)\n",
      "Requirement already satisfied: markdown-it-py>=2.2.0 in /opt/conda/envs/pangeo/lib/python3.10/site-packages (from rich>=10.7.0->scalene->fireatlas==0.99.1.dev23+g804753c.d20240329) (3.0.0)\n",
      "Requirement already satisfied: pygments<3.0.0,>=2.13.0 in /opt/conda/envs/pangeo/lib/python3.10/site-packages (from rich>=10.7.0->scalene->fireatlas==0.99.1.dev23+g804753c.d20240329) (2.17.2)\n",
      "Requirement already satisfied: pyparsing>=2.1.6 in /opt/conda/envs/pangeo/lib/python3.10/site-packages (from snuggs>=1.4.1->rasterio->fireatlas==0.99.1.dev23+g804753c.d20240329) (3.1.1)\n",
      "Requirement already satisfied: jmespath<2.0.0,>=0.7.1 in /opt/conda/envs/pangeo/lib/python3.10/site-packages (from botocore<1.33.14,>=1.33.2->aiobotocore<3.0.0,>=2.5.4->s3fs->fireatlas==0.99.1.dev23+g804753c.d20240329) (1.0.1)\n",
      "Requirement already satisfied: urllib3<2.1,>=1.25.4 in /opt/conda/envs/pangeo/lib/python3.10/site-packages (from botocore<1.33.14,>=1.33.2->aiobotocore<3.0.0,>=2.5.4->s3fs->fireatlas==0.99.1.dev23+g804753c.d20240329) (1.26.18)\n",
      "Requirement already satisfied: mdurl~=0.1 in /opt/conda/envs/pangeo/lib/python3.10/site-packages (from markdown-it-py>=2.2.0->rich>=10.7.0->scalene->fireatlas==0.99.1.dev23+g804753c.d20240329) (0.1.2)\n",
      "Requirement already satisfied: idna>=2.0 in /opt/conda/envs/pangeo/lib/python3.10/site-packages (from yarl<2.0,>=1.0->aiohttp!=4.0.0a0,!=4.0.0a1->s3fs->fireatlas==0.99.1.dev23+g804753c.d20240329) (3.6)\n",
      "Building wheels for collected packages: fireatlas\n",
      "  Building editable for fireatlas (pyproject.toml) ... \u001b[?25ldone\n",
      "\u001b[?25h  Created wheel for fireatlas: filename=fireatlas-0.99.1.dev23+g804753c.d20240329-0.editable-py3-none-any.whl size=4406 sha256=5e6052a36e23a1be7eaac2e16ef886196872204423a14ed61ef8a8e9035ef9be\n",
      "  Stored in directory: /tmp/pip-ephem-wheel-cache-mblq0lbs/wheels/81/38/4c/ee942804efcea9519e5b862948c7e00b4d3bbec73eaa94fe1b\n",
      "Successfully built fireatlas\n",
      "Installing collected packages: fireatlas\n",
      "  Attempting uninstall: fireatlas\n",
      "    Found existing installation: fireatlas 0.99.1.dev23+g804753c.d20240329\n",
      "    Uninstalling fireatlas-0.99.1.dev23+g804753c.d20240329:\n",
      "      Successfully uninstalled fireatlas-0.99.1.dev23+g804753c.d20240329\n",
      "Successfully installed fireatlas-0.99.1.dev23+g804753c.d20240329\n",
      "\u001b[33mWARNING: Running pip as the 'root' user can result in broken permissions and conflicting behaviour with the system package manager. It is recommended to use a virtual environment instead: https://pip.pypa.io/warnings/venv\u001b[0m\u001b[33m\n",
      "\u001b[0m"
     ]
    }
   ],
   "source": [
    "!pip install -e .."
   ]
  },
  {
   "cell_type": "code",
   "execution_count": 5,
   "id": "ef5b0200-485d-4c4e-adf6-e54124b8b8f2",
   "metadata": {
    "tags": []
   },
   "outputs": [],
   "source": [
    "import functools\n",
    "import json\n",
    "import argparse\n",
    "import os\n",
    "import time\n",
    "from typing import Tuple\n",
    "import concurrent\n",
    "from concurrent.futures import ThreadPoolExecutor\n",
    "\n",
    "from fireatlas import preprocess\n",
    "from fireatlas import FireTime\n",
    "from fireatlas.FireLog import logger\n",
    "from fireatlas.FireTypes import Region, TimeStep\n",
    "from fireatlas.utils import timed\n",
    "from fireatlas import FireConsts\n",
    "from fireatlas import FireIO\n",
    "\n",
    "from maap.maap import MAAP\n",
    "from maap.dps.dps_job import DPSJob\n",
    "from maap.utils import algorithm_utils\n",
    "\n",
    "\n",
    "class JobSubmissionException(Exception):\n",
    "    pass\n",
    "\n",
    "\n",
    "def get_algorithm_config_filepath(dir_names):\n",
    "    current_file_dir = os.path.dirname(os.path.abspath(__name__))\n",
    "    return [\n",
    "        os.path.join(current_file_dir, f'{dir_name}', 'algorithm_config.yaml')\n",
    "        for dir_name in dir_names\n",
    "    ]\n",
    "\n",
    "\n",
    "def validate_job_submission(submitted_jobs: Tuple[DPSJob]) -> Tuple[DPSJob]:\n",
    "    \"\"\"we don't retry job submissions, they should ideally always work\n",
    "\n",
    "    validate status of job submission results and return result 'job_id'\n",
    "    \"\"\"\n",
    "    failed_statuses = [result for result in submitted_jobs if result.status == 'failed']\n",
    "    if any(failed_statuses):\n",
    "        raise JobSubmissionException(f\"[ SUBMISSION FAILED ]: the following jobs failed to submit {failed_statuses}\")\n",
    "    return submitted_jobs\n",
    "\n",
    "\n",
    "def wait_for_job(dps_job: DPSJob) -> DPSJob:\n",
    "    \"\"\"this internal DPSJob function will block until job completes and use exponential backoff\n",
    "    https://github.com/MAAP-Project/maap-py/blob/master/maap/dps/dps_job.py#L80C9-L80C28\n",
    "\n",
    "    it seems the statuses.lower() are: ['failed', 'succeeded', 'accepted', 'running']\n",
    "    https://github.com/MAAP-Project/maap-py/blob/master/maap/dps/dps_job.py\n",
    "    \"\"\"\n",
    "    return dps_job.wait_for_completion()\n",
    "\n",
    "\n",
    "def poll_on_job_status(jobs: Tuple[DPSJob]) -> Tuple[DPSJob]:\n",
    "    failed_jobs = []\n",
    "    # don't want to overwhelm the MAAP api so keeping max_workers relatively small\n",
    "    with ThreadPoolExecutor(max_workers=5) as executor:\n",
    "        dps_job_futures = [executor.submit(wait_for_job, dps_job) for dps_job in jobs]\n",
    "        for dps_job in concurrent.futures.as_completed(dps_job_futures):\n",
    "            try:\n",
    "                if dps_job.result().retrieve_status().lower() != 'succeeded':\n",
    "                    failed_jobs.append(dps_job)\n",
    "            except Exception as e:\n",
    "                logger.exception(f\"'poll_on_jobs_status' failed with {e}\")\n",
    "    return failed_jobs\n",
    "\n",
    "\n",
    "def track_submitted_jobs(submitted_jobs: Tuple[DPSJob]) -> Tuple[DPSJob]:\n",
    "    queued_jobs = validate_job_submission(submitted_jobs)\n",
    "    failed_jobs = poll_on_job_status(queued_jobs)\n",
    "    return failed_jobs"
   ]
  },
  {
   "cell_type": "code",
   "execution_count": 6,
   "id": "49361f6a-216a-4f03-bd13-8c16e956d8de",
   "metadata": {
    "tags": []
   },
   "outputs": [],
   "source": [
    "tst = [2023,1,1,'AM']\n",
    "ted = [2023,3,1,'PM']\n",
    "region = [\"V3ShastaTrinity\", [-124.354248,40.624376,-122.250366,42.045213]]\n",
    "list_of_time_steps = list(FireTime.t_generator(tst, ted))"
   ]
  },
  {
   "cell_type": "markdown",
   "id": "89e6c949-8329-4bb5-80fa-80284a59e30e",
   "metadata": {},
   "source": [
    "#### Data Update Checker"
   ]
  },
  {
   "cell_type": "code",
   "execution_count": 9,
   "id": "a58bdcdf-dbda-4ae3-94c7-52a767d6aa65",
   "metadata": {
    "tags": []
   },
   "outputs": [
    {
     "name": "stdout",
     "output_type": "stream",
     "text": [
      "{'algorithm_description': 'Data update checker', 'algorithm_name': 'eis-feds-dps-data-checker-v3', 'algorithm_version': '1.0.0', 'environment': 'ubuntu', 'repository_url': 'https://repo.maap-project.org/gcorradini/fireatlas_nrt.git', 'docker_container_url': 'mas.maap-project.org/root/maap-workspaces/base_images/vanilla:v3.1.4', 'queue': 'maap-dps-eis-worker-64gb', 'run_command': 'fireatlas_nrt/maap_runtime/run_dps_data_checker.sh', 'build_command': 'fireatlas_nrt/maap_runtime/run_dps_build.sh', 'disk_space': '10GB'}\n"
     ]
    }
   ],
   "source": [
    "configs = get_algorithm_config_filepath(['data_update_checker',])\n",
    "maap_api = MAAP(maap_host='api.maap-project.org')\n",
    "algo_config = algorithm_utils.read_yaml_file(configs[0])\n",
    "algo_config.pop('inputs')\n",
    "print(algo_config)\n",
    "\n",
    "submitted_jobs = []\n",
    "submit_job_kwargs = {\n",
    "    \"identifier\": f\"job-{algo_config['algorithm_name']}:{algo_config['algorithm_version']}\",\n",
    "    \"algo_id\": algo_config[\"algorithm_name\"],\n",
    "    \"version\": algo_config[\"algorithm_version\"],\n",
    "    \"username\": \"gcorradini\",\n",
    "    \"queue\": algo_config[\"queue\"],\n",
    "}\n",
    "param_kwargs = {}\n",
    "result = maap_api.submitJob(**submit_job_kwargs, **param_kwargs)\n",
    "submitted_jobs.append(result)\n",
    "queued_jobs = validate_job_submission(submitted_jobs)"
   ]
  },
  {
   "cell_type": "markdown",
   "id": "fb6e3660-a847-4ed5-a101-43dd982974ef",
   "metadata": {},
   "source": [
    "### Preprocess Region"
   ]
  },
  {
   "cell_type": "code",
   "execution_count": 18,
   "id": "d8631fa4-05b3-420b-b44b-bd8622662ef4",
   "metadata": {
    "tags": []
   },
   "outputs": [
    {
     "name": "stdout",
     "output_type": "stream",
     "text": [
      "{'algorithm_name': 'eis-feds-dps-precprocess-region-v3', 'algorithm_description': 'create geojson for a region and maybe static source filter', 'algorithm_version': '1.0.0', 'environment': 'ubuntu', 'repository_url': 'https://repo.maap-project.org/gcorradini/fireatlas_nrt.git', 'docker_container_url': 'mas.maap-project.org/root/maap-workspaces/base_images/vanilla:v3.1.4', 'queue': 'maap-dps-eis-worker-64gb', 'run_command': 'fireatlas_nrt/maap_runtime/run_preprocess_region.sh', 'build_command': 'fireatlas_nrt/maap_runtime/run_dps_build.sh', 'disk_space': '100GB'}\n"
     ]
    }
   ],
   "source": [
    "configs = get_algorithm_config_filepath(['preprocess_region',])\n",
    "maap_api = MAAP(maap_host='api.maap-project.org')\n",
    "algo_config = algorithm_utils.read_yaml_file(configs[0])\n",
    "algo_config.pop('inputs')\n",
    "print(algo_config)\n",
    "\n",
    "submitted_jobs = []\n",
    "submit_job_kwargs = {\n",
    "    \"identifier\": f\"job-{algo_config['algorithm_name']}:{algo_config['algorithm_version']}\",\n",
    "    \"algo_id\": algo_config[\"algorithm_name\"],\n",
    "    \"version\": algo_config[\"algorithm_version\"],\n",
    "    \"username\": \"gcorradini\",\n",
    "    \"queue\": algo_config[\"queue\"],\n",
    "}\n",
    "param_kwargs = {\"regnm\": region[0], \"bbox\": region[1]}\n",
    "result = maap_api.submitJob(**submit_job_kwargs, **param_kwargs)\n",
    "submitted_jobs.append(result)\n",
    "queued_jobs = validate_job_submission(submitted_jobs)"
   ]
  },
  {
   "cell_type": "markdown",
   "id": "79fd022b-6764-4315-aaf6-86e58a4b5e1a",
   "metadata": {},
   "source": [
    "### Preprocess Region T"
   ]
  },
  {
   "cell_type": "code",
   "execution_count": 19,
   "id": "48b14b4b-cc0f-488b-bf31-a8c8b6bc080e",
   "metadata": {
    "tags": []
   },
   "outputs": [],
   "source": [
    "# submitted_jobs = []\n",
    "# submit_job_kwargs = {\n",
    "#     \"identifier\": f\"job-{algo_config['algorithm_name']}:{algo_config['algorithm_version']}\",\n",
    "#     \"algo_id\": algo_config[\"algorithm_name\"],\n",
    "#     \"version\": algo_config[\"algorithm_version\"],\n",
    "#     \"username\": \"gcorradini\",\n",
    "#     \"queue\": algo_config[\"queue\"],\n",
    "# }\n",
    "# for t in list_of_time_steps:\n",
    "#     print(t)\n",
    "#     param_kwargs = {\"regnm\": region[0],\"t\": json.dumps(t)}\n",
    "#     output_filepath = preprocess.preprocessed_filename(t, sat=FireConsts.firesrc, region=region, location=\"s3\")\n",
    "#     if FireIO.os_path_exists(output_filepath):\n",
    "#         logger.info(f\"skipping 'preprocess_region_t' b/c file \\\n",
    "#         already exists for region {region[0]}, {output_filepath}\")\n",
    "#         continue\n",
    "\n",
    "#     result = maap_api.submitJob(**submit_job_kwargs, **param_kwargs)\n",
    "#     submitted_jobs.append(result)\n",
    "# queued_jobs = validate_job_submission(submitted_jobs)"
   ]
  },
  {
   "cell_type": "markdown",
   "id": "68e63577-5ad0-4fec-aa6c-c695e948accb",
   "metadata": {},
   "source": [
    "#### FireForward"
   ]
  },
  {
   "cell_type": "code",
   "execution_count": 20,
   "id": "9684e956-9e80-4632-bdf8-a752ceacc27d",
   "metadata": {
    "tags": []
   },
   "outputs": [],
   "source": [
    "# submitted_jobs = []\n",
    "# submit_job_kwargs = {\n",
    "#     \"identifier\": f\"job-{algo_config['algorithm_name']}:{algo_config['algorithm_version']}\",\n",
    "#     \"algo_id\": algo_config[\"algorithm_name\"],\n",
    "#     \"version\": algo_config[\"algorithm_version\"],\n",
    "#     \"username\": \"gcorradini\",\n",
    "#     \"queue\": algo_config[\"queue\"],\n",
    "# }\n",
    "# for t in list_of_time_steps:\n",
    "#     print(t)\n",
    "#     param_kwargs = {\"regnm\": region[0],\"t\": json.dumps(t)}\n",
    "#     output_filepath = preprocess.preprocessed_filename(t, sat=FireConsts.firesrc, region=region, location=\"s3\")\n",
    "#     if FireIO.os_path_exists(output_filepath):\n",
    "#         logger.info(f\"skipping 'preprocess_region_t' b/c file \\\n",
    "#         already exists for region {region[0]}, {output_filepath}\")\n",
    "#         continue\n",
    "\n",
    "#     result = maap_api.submitJob(**submit_job_kwargs, **param_kwargs)\n",
    "#     submitted_jobs.append(result)\n",
    "# queued_jobs = validate_job_submission(submitted_jobs)"
   ]
  },
  {
   "cell_type": "markdown",
   "id": "103c0128-004b-4ba2-9479-c7561cb70133",
   "metadata": {},
   "source": [
    "#### Job Monitoring"
   ]
  },
  {
   "cell_type": "code",
   "execution_count": 21,
   "id": "213d95ee-44b8-445b-b65d-930a826c885e",
   "metadata": {
    "tags": []
   },
   "outputs": [
    {
     "data": {
      "text/plain": [
       "['Running']"
      ]
     },
     "execution_count": 21,
     "metadata": {},
     "output_type": "execute_result"
    }
   ],
   "source": [
    "[maap_api.getJobStatus(job.id) for job in queued_jobs]"
   ]
  },
  {
   "cell_type": "code",
   "execution_count": 22,
   "id": "ae0c2152-3a63-4305-a2e4-cb57549c7f5e",
   "metadata": {
    "tags": []
   },
   "outputs": [
    {
     "name": "stderr",
     "output_type": "stream",
     "text": [
      "INFO:backoff:Backing off wait_for_completion(...) for 0.8s (RuntimeError)\n",
      "INFO:backoff:Backing off wait_for_completion(...) for 0.6s (RuntimeError)\n",
      "INFO:backoff:Backing off wait_for_completion(...) for 0.4s (RuntimeError)\n",
      "INFO:backoff:Backing off wait_for_completion(...) for 3.3s (RuntimeError)\n",
      "INFO:backoff:Backing off wait_for_completion(...) for 5.7s (RuntimeError)\n",
      "INFO:backoff:Backing off wait_for_completion(...) for 28.9s (RuntimeError)\n"
     ]
    },
    {
     "name": "stdout",
     "output_type": "stream",
     "text": [
      "CPU times: user 149 ms, sys: 13.2 ms, total: 162 ms\n",
      "Wall time: 40.2 s\n"
     ]
    }
   ],
   "source": [
    "%%time\n",
    "failed_jobs = poll_on_job_status(queued_jobs)"
   ]
  },
  {
   "cell_type": "code",
   "execution_count": 37,
   "id": "96c48248-7f84-44d8-a6bf-1d2f8e77ff71",
   "metadata": {},
   "outputs": [
    {
     "data": {
      "text/plain": [
       "['http://maap-ops-workspace.s3-website-us-west-2.amazonaws.com/dataset/triaged_job/eis-feds-dps-precprocess-region-v3/1.0.0/2024/03/29/7e2ebad6-3dc0-4a9f-b209-fab4d1315014',\n",
       " 's3://s3-us-west-2.amazonaws.com:80/maap-ops-workspace/dataset/triaged_job/eis-feds-dps-precprocess-region-v3/1.0.0/2024/03/29/7e2ebad6-3dc0-4a9f-b209-fab4d1315014',\n",
       " 'https://s3.console.aws.amazon.com/s3/buckets/maap-ops-workspace/dataset/triaged_job/eis-feds-dps-precprocess-region-v3/1.0.0/2024/03/29/7e2ebad6-3dc0-4a9f-b209-fab4d1315014/?region=us-east-1&tab=overview',\n",
       " \"++ python /app/get_username.py\\n+ USERNAME=gcorradini\\n+ DPS_MACHINE_TOKEN=Y6hERQKLKs0oH0h5Kgi3d-gVVyHgW_DR77YeARdzd-a3KJDE-gYldJzhB94s635KySUXi4r9WOtD6Vo_F9cEbfNI_QUhOG8N47heXHVcW1k3vEw3d0StttXYMOnQPtTzSQLAYKQwJLgbtX-R8ug1XGVeMolh97P9nHcW8awN7yjyaR7g\\n++ curl -sb -H 'Accept: application/json' -H 'Content-Type: application/json' -H 'dps-token: Y6hERQKLKs0oH0h5Kgi3d-gVVyHgW_DR77YeARdzd-a3KJDE-gYldJzhB94s635KySUXi4r9WOtD6Vo_F9cEbfNI_QUhOG8N47heXHVcW1k3vEw3d0StttXYMOnQPtTzSQLAYKQwJLgbtX-R8ug1XGVeMolh97P9nHcW8awN7yjyaR7g' https://api.maap-project.org/api/members/gcorradini\\n++ jq -r .session_key\\n+ export MAAP_PGT=PGT-1338-qc1UUIXPBnnfLBsibetT2TA2KkvYhGH8dbnSjsjTV1JYMdRz6B6CHyg1pc1iB2OW0bM-93f206e1209e\\n+ MAAP_PGT=PGT-1338-qc1UUIXPBnnfLBsibetT2TA2KkvYhGH8dbnSjsjTV1JYMdRz6B6CHyg1pc1iB2OW0bM-93f206e1209e\\n+ unset DPS_MACHINE_TOKEN\\n+ /app/fireatlas_nrt/maap_runtime/run_preprocess_region.sh V3ShastaTrinity '[-124.354248, 40.624376, -122.250366, 42.045213]'\\nScalene: could not find input file /app/fireatlas_nrt/maap_runtime/FireRunPeprocessRegion.py\\ncp: cannot stat '/app/fireatlas_nrt/maap_runtime/running.log': No such file or directory\\n/app/fireatlas_nrt/maap_runtime/run_preprocess_region.sh: line 25: popd: directory stack empty\\n+ cp _stderr.txt _alt_traceback.txt\\n\"]"
      ]
     },
     "execution_count": 37,
     "metadata": {},
     "output_type": "execute_result"
    }
   ],
   "source": [
    "failed_jobs[0].result().retrieve_result()"
   ]
  },
  {
   "cell_type": "code",
   "execution_count": null,
   "id": "2884a7d8-64ee-4ba5-a97d-677da91cfaa6",
   "metadata": {},
   "outputs": [],
   "source": []
  }
 ],
 "metadata": {
  "kernelspec": {
   "display_name": "pangeo",
   "language": "python",
   "name": "pangeo"
  },
  "language_info": {
   "codemirror_mode": {
    "name": "ipython",
    "version": 3
   },
   "file_extension": ".py",
   "mimetype": "text/x-python",
   "name": "python",
   "nbconvert_exporter": "python",
   "pygments_lexer": "ipython3",
   "version": "3.10.13"
  }
 },
 "nbformat": 4,
 "nbformat_minor": 5
}
