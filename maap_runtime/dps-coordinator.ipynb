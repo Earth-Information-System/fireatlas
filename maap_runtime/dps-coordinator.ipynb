{
 "cells": [
  {
   "cell_type": "code",
   "execution_count": null,
   "id": "22c7fa4c-505e-4302-a7b9-ce298fc3b1d4",
   "metadata": {
    "tags": []
   },
   "outputs": [],
   "source": [
    "!pip install -e .."
   ]
  },
  {
   "cell_type": "code",
   "execution_count": 48,
   "id": "ef5b0200-485d-4c4e-adf6-e54124b8b8f2",
   "metadata": {
    "tags": []
   },
   "outputs": [],
   "source": [
    "import functools\n",
    "import json\n",
    "import argparse\n",
    "import os\n",
    "import time\n",
    "from typing import Tuple\n",
    "import concurrent\n",
    "from concurrent.futures import ThreadPoolExecutor\n",
    "\n",
    "from fireatlas import preprocess\n",
    "from fireatlas import FireTime\n",
    "from fireatlas.FireLog import logger\n",
    "from fireatlas.FireTypes import Region, TimeStep\n",
    "from fireatlas.utils import timed\n",
    "from fireatlas import FireConsts\n",
    "from fireatlas import FireIO\n",
    "\n",
    "from maap.maap import MAAP\n",
    "from maap.dps.dps_job import DPSJob\n",
    "from maap.utils import algorithm_utils\n",
    "\n",
    "\n",
    "class JobSubmissionException(Exception):\n",
    "    pass\n",
    "\n",
    "\n",
    "def get_algorithm_config_filepath(dir_names):\n",
    "    current_file_dir = os.path.dirname(os.path.abspath(__name__))\n",
    "    return [\n",
    "        os.path.join(current_file_dir, f'{dir_name}', 'algorithm_config.yaml')\n",
    "        for dir_name in dir_names\n",
    "    ]\n",
    "\n",
    "\n",
    "def validate_job_submission(submitted_jobs: Tuple[DPSJob]) -> Tuple[DPSJob]:\n",
    "    \"\"\"we don't retry job submissions, they should ideally always work\n",
    "\n",
    "    validate status of job submission results and return result 'job_id'\n",
    "    \"\"\"\n",
    "    failed_statuses = [result for result in submitted_jobs if result.status == 'failed']\n",
    "    if any(failed_statuses):\n",
    "        raise JobSubmissionException(f\"[ SUBMISSION FAILED ]: the following jobs failed to submit {failed_statuses}\")\n",
    "    return submitted_jobs\n",
    "\n",
    "\n",
    "def wait_for_job(dps_job: DPSJob) -> DPSJob:\n",
    "    \"\"\"this internal DPSJob function will block until job completes and use exponential backoff\n",
    "    https://github.com/MAAP-Project/maap-py/blob/master/maap/dps/dps_job.py#L80C9-L80C28\n",
    "\n",
    "    it seems the statuses.lower() are: ['failed', 'succeeded', 'accepted', 'running']\n",
    "    https://github.com/MAAP-Project/maap-py/blob/master/maap/dps/dps_job.py\n",
    "    \"\"\"\n",
    "    return dps_job.wait_for_completion()\n",
    "\n",
    "\n",
    "def poll_on_job_status(jobs: Tuple[DPSJob]) -> Tuple[DPSJob]:\n",
    "    failed_jobs = []\n",
    "    # don't want to overwhelm the MAAP api so keeping max_workers relatively small\n",
    "    with ThreadPoolExecutor(max_workers=5) as executor:\n",
    "        dps_job_futures = [executor.submit(wait_for_job, dps_job) for dps_job in jobs]\n",
    "        for dps_job in concurrent.futures.as_completed(dps_job_futures):\n",
    "            try:\n",
    "                if dps_job.result().retrieve_status().lower() != 'succeeded':\n",
    "                    failed_jobs.append(dps_job)\n",
    "            except Exception as e:\n",
    "                logger.exception(f\"'poll_on_jobs_status' failed with {e}\")\n",
    "    return failed_jobs\n",
    "\n",
    "\n",
    "def track_submitted_jobs(submitted_jobs: Tuple[DPSJob]) -> Tuple[DPSJob]:\n",
    "    queued_jobs = validate_job_submission(submitted_jobs)\n",
    "    failed_jobs = poll_on_job_status(queued_jobs)\n",
    "    return failed_jobs"
   ]
  },
  {
   "cell_type": "code",
   "execution_count": 49,
   "id": "49361f6a-216a-4f03-bd13-8c16e956d8de",
   "metadata": {
    "tags": []
   },
   "outputs": [],
   "source": [
    "tst = [2023,1,1,'AM']\n",
    "ted = [2023,3,1,'PM']\n",
    "region = [\"V3ShastaTrinity\", [-124.354248,40.624376,-122.250366,42.045213]]\n",
    "list_of_time_steps = list(FireTime.t_generator(tst, ted))"
   ]
  },
  {
   "cell_type": "markdown",
   "id": "89e6c949-8329-4bb5-80fa-80284a59e30e",
   "metadata": {},
   "source": [
    "#### Data Update Checker"
   ]
  },
  {
   "cell_type": "code",
   "execution_count": 9,
   "id": "a58bdcdf-dbda-4ae3-94c7-52a767d6aa65",
   "metadata": {
    "tags": []
   },
   "outputs": [
    {
     "name": "stdout",
     "output_type": "stream",
     "text": [
      "{'algorithm_description': 'Data update checker', 'algorithm_name': 'eis-feds-dps-data-checker-v3', 'algorithm_version': '1.0.0', 'environment': 'ubuntu', 'repository_url': 'https://repo.maap-project.org/gcorradini/fireatlas_nrt.git', 'docker_container_url': 'mas.maap-project.org/root/maap-workspaces/base_images/vanilla:v3.1.4', 'queue': 'maap-dps-eis-worker-64gb', 'run_command': 'fireatlas_nrt/maap_runtime/run_dps_data_checker.sh', 'build_command': 'fireatlas_nrt/maap_runtime/run_dps_build.sh', 'disk_space': '10GB'}\n"
     ]
    }
   ],
   "source": [
    "configs = get_algorithm_config_filepath(['data_update_checker',])\n",
    "maap_api = MAAP(maap_host='api.maap-project.org')\n",
    "algo_config = algorithm_utils.read_yaml_file(configs[0])\n",
    "algo_config.pop('inputs')\n",
    "print(algo_config)\n",
    "\n",
    "submitted_jobs = []\n",
    "submit_job_kwargs = {\n",
    "    \"identifier\": f\"job-{algo_config['algorithm_name']}:{algo_config['algorithm_version']}\",\n",
    "    \"algo_id\": algo_config[\"algorithm_name\"],\n",
    "    \"version\": algo_config[\"algorithm_version\"],\n",
    "    \"username\": \"gcorradini\",\n",
    "    \"queue\": algo_config[\"queue\"],\n",
    "}\n",
    "param_kwargs = {}\n",
    "result = maap_api.submitJob(**submit_job_kwargs, **param_kwargs)\n",
    "submitted_jobs.append(result)\n",
    "queued_jobs = validate_job_submission(submitted_jobs)"
   ]
  },
  {
   "cell_type": "markdown",
   "id": "103c0128-004b-4ba2-9479-c7561cb70133",
   "metadata": {},
   "source": [
    "#### Job Monitoring"
   ]
  },
  {
   "cell_type": "code",
   "execution_count": 21,
   "id": "213d95ee-44b8-445b-b65d-930a826c885e",
   "metadata": {
    "tags": []
   },
   "outputs": [
    {
     "data": {
      "text/plain": [
       "['Running']"
      ]
     },
     "execution_count": 21,
     "metadata": {},
     "output_type": "execute_result"
    }
   ],
   "source": [
    "[maap_api.getJobStatus(job.id) for job in queued_jobs]\n",
    "%%time\n",
    "failed_jobs = poll_on_job_status(queued_jobs)"
   ]
  },
  {
   "cell_type": "markdown",
   "id": "fb6e3660-a847-4ed5-a101-43dd982974ef",
   "metadata": {},
   "source": [
    "### Preprocess Region"
   ]
  },
  {
   "cell_type": "code",
   "execution_count": 18,
   "id": "d8631fa4-05b3-420b-b44b-bd8622662ef4",
   "metadata": {
    "tags": []
   },
   "outputs": [
    {
     "name": "stdout",
     "output_type": "stream",
     "text": [
      "{'algorithm_name': 'eis-feds-dps-precprocess-region-v3', 'algorithm_description': 'create geojson for a region and maybe static source filter', 'algorithm_version': '1.0.0', 'environment': 'ubuntu', 'repository_url': 'https://repo.maap-project.org/gcorradini/fireatlas_nrt.git', 'docker_container_url': 'mas.maap-project.org/root/maap-workspaces/base_images/vanilla:v3.1.4', 'queue': 'maap-dps-eis-worker-64gb', 'run_command': 'fireatlas_nrt/maap_runtime/run_preprocess_region.sh', 'build_command': 'fireatlas_nrt/maap_runtime/run_dps_build.sh', 'disk_space': '100GB'}\n"
     ]
    }
   ],
   "source": [
    "configs = get_algorithm_config_filepath(['preprocess_region',])\n",
    "maap_api = MAAP(maap_host='api.maap-project.org')\n",
    "algo_config = algorithm_utils.read_yaml_file(configs[0])\n",
    "algo_config.pop('inputs')\n",
    "print(algo_config)\n",
    "\n",
    "submitted_jobs = []\n",
    "submit_job_kwargs = {\n",
    "    \"identifier\": f\"job-{algo_config['algorithm_name']}:{algo_config['algorithm_version']}\",\n",
    "    \"algo_id\": algo_config[\"algorithm_name\"],\n",
    "    \"version\": algo_config[\"algorithm_version\"],\n",
    "    \"username\": \"gcorradini\",\n",
    "    \"queue\": algo_config[\"queue\"],\n",
    "}\n",
    "param_kwargs = {\"regnm\": region[0], \"bbox\": region[1]}\n",
    "result = maap_api.submitJob(**submit_job_kwargs, **param_kwargs)\n",
    "submitted_jobs.append(result)\n",
    "queued_jobs = validate_job_submission(submitted_jobs)"
   ]
  },
  {
   "cell_type": "markdown",
   "id": "0da48b0b-1ff4-4d66-996d-49814974dba6",
   "metadata": {},
   "source": [
    "#### Job Monitoring"
   ]
  },
  {
   "cell_type": "code",
   "execution_count": 21,
   "id": "787bc5a6-4c10-47d6-ae74-81806aee9877",
   "metadata": {
    "tags": []
   },
   "outputs": [
    {
     "data": {
      "text/plain": [
       "['Running']"
      ]
     },
     "execution_count": 21,
     "metadata": {},
     "output_type": "execute_result"
    }
   ],
   "source": [
    "[maap_api.getJobStatus(job.id) for job in queued_jobs]\n",
    "%%time\n",
    "failed_jobs = poll_on_job_status(queued_jobs)"
   ]
  },
  {
   "cell_type": "markdown",
   "id": "79fd022b-6764-4315-aaf6-86e58a4b5e1a",
   "metadata": {},
   "source": [
    "### Preprocess Region T"
   ]
  },
  {
   "cell_type": "code",
   "execution_count": 43,
   "id": "48b14b4b-cc0f-488b-bf31-a8c8b6bc080e",
   "metadata": {
    "tags": []
   },
   "outputs": [
    {
     "name": "stdout",
     "output_type": "stream",
     "text": [
      "{'algorithm_name': 'eis-feds-dps-preprocess-region-and-t-v3', 'algorithm_description': 'do initial filtering and clustering and write to dataframe', 'algorithm_version': '1.0.0', 'environment': 'ubuntu', 'repository_url': 'https://repo.maap-project.org/gcorradini/fireatlas_nrt.git', 'docker_container_url': 'mas.maap-project.org/root/maap-workspaces/base_images/vanilla:v3.1.4', 'queue': 'maap-dps-eis-worker-64gb', 'run_command': 'fireatlas_nrt/maap_runtime/run_preprocess_region_and_t.sh', 'build_command': 'fireatlas_nrt/maap_runtime/run_dps_build.sh', 'disk_space': '100GB'}\n",
      "[2023, 1, 1, 'AM']\n",
      "[2023, 1, 1, 'PM']\n",
      "[2023, 1, 2, 'AM']\n",
      "[2023, 1, 2, 'PM']\n",
      "[2023, 1, 3, 'AM']\n",
      "[2023, 1, 3, 'PM']\n",
      "[2023, 1, 4, 'AM']\n",
      "[2023, 1, 4, 'PM']\n",
      "[2023, 1, 5, 'AM']\n",
      "[2023, 1, 5, 'PM']\n",
      "[2023, 1, 6, 'AM']\n",
      "[2023, 1, 6, 'PM']\n",
      "[2023, 1, 7, 'AM']\n",
      "[2023, 1, 7, 'PM']\n",
      "[2023, 1, 8, 'AM']\n",
      "[2023, 1, 8, 'PM']\n",
      "[2023, 1, 9, 'AM']\n",
      "[2023, 1, 9, 'PM']\n",
      "[2023, 1, 10, 'AM']\n",
      "[2023, 1, 10, 'PM']\n",
      "[2023, 1, 11, 'AM']\n",
      "[2023, 1, 11, 'PM']\n",
      "[2023, 1, 12, 'AM']\n",
      "[2023, 1, 12, 'PM']\n",
      "[2023, 1, 13, 'AM']\n",
      "[2023, 1, 13, 'PM']\n",
      "[2023, 1, 14, 'AM']\n",
      "[2023, 1, 14, 'PM']\n",
      "[2023, 1, 15, 'AM']\n",
      "[2023, 1, 15, 'PM']\n",
      "[2023, 1, 16, 'AM']\n",
      "[2023, 1, 16, 'PM']\n",
      "[2023, 1, 17, 'AM']\n",
      "[2023, 1, 17, 'PM']\n",
      "[2023, 1, 18, 'AM']\n",
      "[2023, 1, 18, 'PM']\n",
      "[2023, 1, 19, 'AM']\n",
      "[2023, 1, 19, 'PM']\n",
      "[2023, 1, 20, 'AM']\n",
      "[2023, 1, 20, 'PM']\n",
      "[2023, 1, 21, 'AM']\n",
      "[2023, 1, 21, 'PM']\n",
      "[2023, 1, 22, 'AM']\n",
      "[2023, 1, 22, 'PM']\n",
      "[2023, 1, 23, 'AM']\n",
      "[2023, 1, 23, 'PM']\n",
      "[2023, 1, 24, 'AM']\n",
      "[2023, 1, 24, 'PM']\n",
      "[2023, 1, 25, 'AM']\n",
      "[2023, 1, 25, 'PM']\n",
      "[2023, 1, 26, 'AM']\n",
      "[2023, 1, 26, 'PM']\n",
      "[2023, 1, 27, 'AM']\n",
      "[2023, 1, 27, 'PM']\n",
      "[2023, 1, 28, 'AM']\n",
      "[2023, 1, 28, 'PM']\n",
      "[2023, 1, 29, 'AM']\n",
      "[2023, 1, 29, 'PM']\n",
      "[2023, 1, 30, 'AM']\n",
      "[2023, 1, 30, 'PM']\n",
      "[2023, 1, 31, 'AM']\n",
      "[2023, 1, 31, 'PM']\n",
      "[2023, 2, 1, 'AM']\n",
      "[2023, 2, 1, 'PM']\n",
      "[2023, 2, 2, 'AM']\n",
      "[2023, 2, 2, 'PM']\n",
      "[2023, 2, 3, 'AM']\n",
      "[2023, 2, 3, 'PM']\n",
      "[2023, 2, 4, 'AM']\n",
      "[2023, 2, 4, 'PM']\n",
      "[2023, 2, 5, 'AM']\n",
      "[2023, 2, 5, 'PM']\n",
      "[2023, 2, 6, 'AM']\n",
      "[2023, 2, 6, 'PM']\n",
      "[2023, 2, 7, 'AM']\n",
      "[2023, 2, 7, 'PM']\n",
      "[2023, 2, 8, 'AM']\n",
      "[2023, 2, 8, 'PM']\n",
      "[2023, 2, 9, 'AM']\n",
      "[2023, 2, 9, 'PM']\n",
      "[2023, 2, 10, 'AM']\n",
      "[2023, 2, 10, 'PM']\n",
      "[2023, 2, 11, 'AM']\n",
      "[2023, 2, 11, 'PM']\n",
      "[2023, 2, 12, 'AM']\n",
      "[2023, 2, 12, 'PM']\n",
      "[2023, 2, 13, 'AM']\n",
      "[2023, 2, 13, 'PM']\n",
      "[2023, 2, 14, 'AM']\n",
      "[2023, 2, 14, 'PM']\n",
      "[2023, 2, 15, 'AM']\n",
      "[2023, 2, 15, 'PM']\n",
      "[2023, 2, 16, 'AM']\n",
      "[2023, 2, 16, 'PM']\n",
      "[2023, 2, 17, 'AM']\n",
      "[2023, 2, 17, 'PM']\n",
      "[2023, 2, 18, 'AM']\n",
      "[2023, 2, 18, 'PM']\n",
      "[2023, 2, 19, 'AM']\n",
      "[2023, 2, 19, 'PM']\n",
      "[2023, 2, 20, 'AM']\n",
      "[2023, 2, 20, 'PM']\n",
      "[2023, 2, 21, 'AM']\n",
      "[2023, 2, 21, 'PM']\n",
      "[2023, 2, 22, 'AM']\n",
      "[2023, 2, 22, 'PM']\n",
      "[2023, 2, 23, 'AM']\n",
      "[2023, 2, 23, 'PM']\n",
      "[2023, 2, 24, 'AM']\n",
      "[2023, 2, 24, 'PM']\n",
      "[2023, 2, 25, 'AM']\n",
      "[2023, 2, 25, 'PM']\n",
      "[2023, 2, 26, 'AM']\n",
      "[2023, 2, 26, 'PM']\n",
      "[2023, 2, 27, 'AM']\n",
      "[2023, 2, 27, 'PM']\n",
      "[2023, 2, 28, 'AM']\n",
      "[2023, 2, 28, 'PM']\n",
      "[2023, 3, 1, 'AM']\n",
      "[2023, 3, 1, 'PM']\n"
     ]
    }
   ],
   "source": [
    "configs = get_algorithm_config_filepath(['preprocess_region_t',])\n",
    "maap_api = MAAP(maap_host='api.maap-project.org')\n",
    "algo_config = algorithm_utils.read_yaml_file(configs[0])\n",
    "algo_config.pop('inputs')\n",
    "print(algo_config)\n",
    "\n",
    "submitted_jobs = []\n",
    "submit_job_kwargs = {\n",
    "    \"identifier\": f\"job-{algo_config['algorithm_name']}:{algo_config['algorithm_version']}\",\n",
    "    \"algo_id\": algo_config[\"algorithm_name\"],\n",
    "    \"version\": algo_config[\"algorithm_version\"],\n",
    "    \"username\": \"gcorradini\",\n",
    "    \"queue\": algo_config[\"queue\"],\n",
    "}\n",
    "for t in list_of_time_steps:\n",
    "    print(t)\n",
    "    param_kwargs = {\"regnm\": region[0],\"t\": json.dumps(t)}\n",
    "    output_filepath = preprocess.preprocessed_filename(t, sat=FireConsts.firesrc, region=region, location=\"s3\")\n",
    "    if FireIO.os_path_exists(output_filepath):\n",
    "        logger.info(f\"skipping 'preprocess_region_t' b/c file \\\n",
    "        already exists for region {region[0]}, {output_filepath}\")\n",
    "        continue\n",
    "\n",
    "    result = maap_api.submitJob(**submit_job_kwargs, **param_kwargs)\n",
    "    submitted_jobs.append(result)\n",
    "queued_jobs = validate_job_submission(submitted_jobs)"
   ]
  },
  {
   "cell_type": "markdown",
   "id": "e44ae8dc-1d59-4190-b629-16ff39f8c7d4",
   "metadata": {},
   "source": [
    "#### Job Monitoring"
   ]
  },
  {
   "cell_type": "code",
   "execution_count": 45,
   "id": "7af92d79-6960-4ded-ba7e-e5ff92e56762",
   "metadata": {
    "tags": []
   },
   "outputs": [],
   "source": [
    "#[maap_api.getJobStatus(job.id) for job in queued_jobs]"
   ]
  },
  {
   "cell_type": "code",
   "execution_count": 46,
   "id": "f146007e-3110-4204-876e-d347aade5fd8",
   "metadata": {
    "tags": []
   },
   "outputs": [
    {
     "name": "stderr",
     "output_type": "stream",
     "text": [
      "INFO:backoff:Backing off wait_for_completion(...) for 0.7s (RuntimeError)\n",
      "INFO:backoff:Backing off wait_for_completion(...) for 0.2s (RuntimeError)\n",
      "INFO:backoff:Backing off wait_for_completion(...) for 0.2s (RuntimeError)\n",
      "INFO:backoff:Backing off wait_for_completion(...) for 0.9s (RuntimeError)\n",
      "INFO:backoff:Backing off wait_for_completion(...) for 0.4s (RuntimeError)\n",
      "INFO:backoff:Backing off wait_for_completion(...) for 1.9s (RuntimeError)\n",
      "INFO:backoff:Backing off wait_for_completion(...) for 0.6s (RuntimeError)\n",
      "INFO:backoff:Backing off wait_for_completion(...) for 0.4s (RuntimeError)\n",
      "INFO:backoff:Backing off wait_for_completion(...) for 0.8s (RuntimeError)\n",
      "INFO:backoff:Backing off wait_for_completion(...) for 0.8s (RuntimeError)\n",
      "INFO:backoff:Backing off wait_for_completion(...) for 0.8s (RuntimeError)\n",
      "INFO:backoff:Backing off wait_for_completion(...) for 0.2s (RuntimeError)\n",
      "INFO:backoff:Backing off wait_for_completion(...) for 5.1s (RuntimeError)\n",
      "INFO:backoff:Backing off wait_for_completion(...) for 1.8s (RuntimeError)\n",
      "INFO:backoff:Backing off wait_for_completion(...) for 0.5s (RuntimeError)\n",
      "INFO:backoff:Backing off wait_for_completion(...) for 3.6s (RuntimeError)\n",
      "INFO:backoff:Backing off wait_for_completion(...) for 2.0s (RuntimeError)\n",
      "INFO:backoff:Backing off wait_for_completion(...) for 11.7s (RuntimeError)\n",
      "INFO:backoff:Backing off wait_for_completion(...) for 1.9s (RuntimeError)\n",
      "INFO:backoff:Backing off wait_for_completion(...) for 6.4s (RuntimeError)\n",
      "INFO:backoff:Backing off wait_for_completion(...) for 5.6s (RuntimeError)\n",
      "INFO:backoff:Backing off wait_for_completion(...) for 8.9s (RuntimeError)\n",
      "INFO:backoff:Backing off wait_for_completion(...) for 12.6s (RuntimeError)\n",
      "INFO:backoff:Backing off wait_for_completion(...) for 8.8s (RuntimeError)\n",
      "INFO:backoff:Backing off wait_for_completion(...) for 7.2s (RuntimeError)\n",
      "INFO:backoff:Backing off wait_for_completion(...) for 2.8s (RuntimeError)\n",
      "INFO:backoff:Backing off wait_for_completion(...) for 27.2s (RuntimeError)\n",
      "INFO:backoff:Backing off wait_for_completion(...) for 35.2s (RuntimeError)\n",
      "INFO:backoff:Backing off wait_for_completion(...) for 14.1s (RuntimeError)\n",
      "INFO:backoff:Backing off wait_for_completion(...) for 21.6s (RuntimeError)\n",
      "INFO:backoff:Backing off wait_for_completion(...) for 13.1s (RuntimeError)\n",
      "INFO:backoff:Backing off wait_for_completion(...) for 29.8s (RuntimeError)\n",
      "INFO:backoff:Backing off wait_for_completion(...) for 21.6s (RuntimeError)\n",
      "INFO:backoff:Backing off wait_for_completion(...) for 25.1s (RuntimeError)\n",
      "INFO:backoff:Backing off wait_for_completion(...) for 0.6s (RuntimeError)\n",
      "INFO:backoff:Backing off wait_for_completion(...) for 17.2s (RuntimeError)\n",
      "INFO:backoff:Backing off wait_for_completion(...) for 29.4s (RuntimeError)\n",
      "INFO:backoff:Backing off wait_for_completion(...) for 48.9s (RuntimeError)\n",
      "INFO:backoff:Backing off wait_for_completion(...) for 40.5s (RuntimeError)\n",
      "INFO:backoff:Backing off wait_for_completion(...) for 52.4s (RuntimeError)\n",
      "INFO:backoff:Backing off wait_for_completion(...) for 45.7s (RuntimeError)\n",
      "INFO:backoff:Backing off wait_for_completion(...) for 2.2s (RuntimeError)\n",
      "INFO:backoff:Backing off wait_for_completion(...) for 52.0s (RuntimeError)\n",
      "INFO:backoff:Backing off wait_for_completion(...) for 52.0s (RuntimeError)\n",
      "INFO:backoff:Backing off wait_for_completion(...) for 15.0s (RuntimeError)\n",
      "INFO:backoff:Backing off wait_for_completion(...) for 26.8s (RuntimeError)\n",
      "INFO:backoff:Backing off wait_for_completion(...) for 1.9s (RuntimeError)\n",
      "INFO:backoff:Backing off wait_for_completion(...) for 44.9s (RuntimeError)\n",
      "INFO:backoff:Backing off wait_for_completion(...) for 63.7s (RuntimeError)\n",
      "INFO:backoff:Backing off wait_for_completion(...) for 7.6s (RuntimeError)\n",
      "INFO:backoff:Backing off wait_for_completion(...) for 56.9s (RuntimeError)\n",
      "INFO:backoff:Backing off wait_for_completion(...) for 63.1s (RuntimeError)\n",
      "INFO:backoff:Backing off wait_for_completion(...) for 9.3s (RuntimeError)\n",
      "INFO:backoff:Backing off wait_for_completion(...) for 30.5s (RuntimeError)\n",
      "INFO:backoff:Backing off wait_for_completion(...) for 50.3s (RuntimeError)\n",
      "INFO:backoff:Backing off wait_for_completion(...) for 4.7s (RuntimeError)\n",
      "INFO:backoff:Backing off wait_for_completion(...) for 17.3s (RuntimeError)\n",
      "INFO:backoff:Backing off wait_for_completion(...) for 22.2s (RuntimeError)\n",
      "INFO:backoff:Backing off wait_for_completion(...) for 7.2s (RuntimeError)\n",
      "INFO:backoff:Backing off wait_for_completion(...) for 48.7s (RuntimeError)\n",
      "INFO:backoff:Backing off wait_for_completion(...) for 61.4s (RuntimeError)\n",
      "INFO:backoff:Backing off wait_for_completion(...) for 47.4s (RuntimeError)\n",
      "INFO:backoff:Backing off wait_for_completion(...) for 0.1s (RuntimeError)\n",
      "INFO:backoff:Backing off wait_for_completion(...) for 14.5s (RuntimeError)\n",
      "INFO:backoff:Backing off wait_for_completion(...) for 55.0s (RuntimeError)\n",
      "INFO:backoff:Backing off wait_for_completion(...) for 58.9s (RuntimeError)\n",
      "INFO:backoff:Backing off wait_for_completion(...) for 62.4s (RuntimeError)\n",
      "INFO:backoff:Backing off wait_for_completion(...) for 6.3s (RuntimeError)\n",
      "INFO:backoff:Backing off wait_for_completion(...) for 3.4s (RuntimeError)\n",
      "INFO:backoff:Backing off wait_for_completion(...) for 6.2s (RuntimeError)\n",
      "INFO:backoff:Backing off wait_for_completion(...) for 0.3s (RuntimeError)\n",
      "INFO:backoff:Backing off wait_for_completion(...) for 31.2s (RuntimeError)\n",
      "INFO:backoff:Backing off wait_for_completion(...) for 47.1s (RuntimeError)\n",
      "INFO:backoff:Backing off wait_for_completion(...) for 39.8s (RuntimeError)\n",
      "INFO:backoff:Backing off wait_for_completion(...) for 8.8s (RuntimeError)\n",
      "INFO:backoff:Backing off wait_for_completion(...) for 46.1s (RuntimeError)\n",
      "INFO:backoff:Backing off wait_for_completion(...) for 26.5s (RuntimeError)\n",
      "INFO:backoff:Backing off wait_for_completion(...) for 63.7s (RuntimeError)\n",
      "INFO:backoff:Backing off wait_for_completion(...) for 45.0s (RuntimeError)\n",
      "INFO:backoff:Backing off wait_for_completion(...) for 14.8s (RuntimeError)\n",
      "INFO:backoff:Backing off wait_for_completion(...) for 22.0s (RuntimeError)\n",
      "INFO:backoff:Backing off wait_for_completion(...) for 58.2s (RuntimeError)\n",
      "INFO:backoff:Backing off wait_for_completion(...) for 63.9s (RuntimeError)\n",
      "INFO:backoff:Backing off wait_for_completion(...) for 63.3s (RuntimeError)\n",
      "INFO:backoff:Backing off wait_for_completion(...) for 2.3s (RuntimeError)\n",
      "INFO:backoff:Backing off wait_for_completion(...) for 48.7s (RuntimeError)\n",
      "INFO:backoff:Backing off wait_for_completion(...) for 44.7s (RuntimeError)\n",
      "INFO:backoff:Backing off wait_for_completion(...) for 58.4s (RuntimeError)\n",
      "INFO:backoff:Backing off wait_for_completion(...) for 28.7s (RuntimeError)\n",
      "INFO:backoff:Backing off wait_for_completion(...) for 10.9s (RuntimeError)\n",
      "INFO:backoff:Backing off wait_for_completion(...) for 10.5s (RuntimeError)\n",
      "INFO:backoff:Backing off wait_for_completion(...) for 0.5s (RuntimeError)\n",
      "INFO:backoff:Backing off wait_for_completion(...) for 1.7s (RuntimeError)\n",
      "INFO:backoff:Backing off wait_for_completion(...) for 0.4s (RuntimeError)\n",
      "INFO:backoff:Backing off wait_for_completion(...) for 0.0s (RuntimeError)\n",
      "INFO:backoff:Backing off wait_for_completion(...) for 1.4s (RuntimeError)\n",
      "INFO:backoff:Backing off wait_for_completion(...) for 0.1s (RuntimeError)\n",
      "INFO:backoff:Backing off wait_for_completion(...) for 1.6s (RuntimeError)\n",
      "INFO:backoff:Backing off wait_for_completion(...) for 1.7s (RuntimeError)\n",
      "INFO:backoff:Backing off wait_for_completion(...) for 3.1s (RuntimeError)\n",
      "INFO:backoff:Backing off wait_for_completion(...) for 3.9s (RuntimeError)\n",
      "INFO:backoff:Backing off wait_for_completion(...) for 6.1s (RuntimeError)\n",
      "INFO:backoff:Backing off wait_for_completion(...) for 0.4s (RuntimeError)\n",
      "INFO:backoff:Backing off wait_for_completion(...) for 29.5s (RuntimeError)\n",
      "INFO:backoff:Backing off wait_for_completion(...) for 32.3s (RuntimeError)\n",
      "INFO:backoff:Backing off wait_for_completion(...) for 51.2s (RuntimeError)\n",
      "INFO:backoff:Backing off wait_for_completion(...) for 45.3s (RuntimeError)\n"
     ]
    },
    {
     "name": "stdout",
     "output_type": "stream",
     "text": [
      "CPU times: user 6.33 s, sys: 284 ms, total: 6.62 s\n",
      "Wall time: 9min 48s\n"
     ]
    }
   ],
   "source": [
    "%%time\n",
    "failed_jobs = poll_on_job_status(queued_jobs)"
   ]
  },
  {
   "cell_type": "code",
   "execution_count": 47,
   "id": "7005e381-b12e-41c4-ae7b-ecb6e72543e5",
   "metadata": {
    "tags": []
   },
   "outputs": [
    {
     "data": {
      "text/plain": [
       "0"
      ]
     },
     "execution_count": 47,
     "metadata": {},
     "output_type": "execute_result"
    }
   ],
   "source": [
    "len(failed_jobs)"
   ]
  },
  {
   "cell_type": "markdown",
   "id": "68e63577-5ad0-4fec-aa6c-c695e948accb",
   "metadata": {
    "tags": []
   },
   "source": [
    "#### FireForward"
   ]
  },
  {
   "cell_type": "code",
   "execution_count": 20,
   "id": "9684e956-9e80-4632-bdf8-a752ceacc27d",
   "metadata": {
    "tags": []
   },
   "outputs": [],
   "source": [
    "configs = get_algorithm_config_filepath(['data_update_checker',])\n",
    "maap_api = MAAP(maap_host='api.maap-project.org')\n",
    "algo_config = algorithm_utils.read_yaml_file(configs[0])\n",
    "algo_config.pop('inputs')\n",
    "print(algo_config)\n",
    "\n",
    "submitted_jobs = []\n",
    "submit_job_kwargs = {\n",
    "    \"identifier\": f\"job-{algo_config['algorithm_name']}:{algo_config['algorithm_version']}\",\n",
    "    \"algo_id\": algo_config[\"algorithm_name\"],\n",
    "    \"version\": algo_config[\"algorithm_version\"],\n",
    "    \"username\": \"gcorradini\",\n",
    "    \"queue\": algo_config[\"queue\"],\n",
    "}\n",
    "param_kwargs = {\"regnm\": region[0],\"t\": json.dumps(t)}\n",
    "\n",
    "result = maap_api.submitJob(**submit_job_kwargs, **param_kwargs)\n",
    "submitted_jobs.append(result)\n",
    "queued_jobs = validate_job_submission(submitted_jobs)"
   ]
  },
  {
   "cell_type": "markdown",
   "id": "039a56ee-d158-4c08-9a5b-15db03555930",
   "metadata": {},
   "source": [
    "#### Job Monitoring"
   ]
  },
  {
   "cell_type": "code",
   "execution_count": 21,
   "id": "390244f9-6df0-4dd1-bf8c-6c26abd2baa2",
   "metadata": {
    "tags": []
   },
   "outputs": [
    {
     "data": {
      "text/plain": [
       "['Running']"
      ]
     },
     "execution_count": 21,
     "metadata": {},
     "output_type": "execute_result"
    }
   ],
   "source": [
    "[maap_api.getJobStatus(job.id) for job in queued_jobs]\n",
    "%%time\n",
    "failed_jobs = poll_on_job_status(queued_jobs)"
   ]
  },
  {
   "cell_type": "code",
   "execution_count": 40,
   "id": "ae0c2152-3a63-4305-a2e4-cb57549c7f5e",
   "metadata": {
    "tags": []
   },
   "outputs": [],
   "source": [
    "#failed_jobs[0].result().retrieve_result()"
   ]
  }
 ],
 "metadata": {
  "kernelspec": {
   "display_name": "pangeo",
   "language": "python",
   "name": "pangeo"
  },
  "language_info": {
   "codemirror_mode": {
    "name": "ipython",
    "version": 3
   },
   "file_extension": ".py",
   "mimetype": "text/x-python",
   "name": "python",
   "nbconvert_exporter": "python",
   "pygments_lexer": "ipython3",
   "version": "3.10.13"
  }
 },
 "nbformat": 4,
 "nbformat_minor": 5
}
