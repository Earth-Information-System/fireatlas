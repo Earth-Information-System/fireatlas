{
 "cells": [
  {
   "cell_type": "markdown",
   "id": "330dac07-86b5-4220-9da9-ba7e491c2130",
   "metadata": {},
   "source": [
    "### DPS Coordinator\n",
    "\n",
    "This notebook interacts with the MAAP API. It submits and runs all DPS jobs in the same order they run inside `fireatlas.FireRunDaskCoordinator.py`. Each step runs separately and blocks for successful output.\n",
    "\n",
    "The `poll_on_job_status` and `wait_for_job` allow us to block and get DPS job status for muliptle jobs before we continue on"
   ]
  },
  {
   "cell_type": "code",
   "execution_count": null,
   "id": "22c7fa4c-505e-4302-a7b9-ce298fc3b1d4",
   "metadata": {
    "tags": []
   },
   "outputs": [],
   "source": [
    "#!pip install -e .."
   ]
  },
  {
   "cell_type": "code",
   "execution_count": 55,
   "id": "ef5b0200-485d-4c4e-adf6-e54124b8b8f2",
   "metadata": {
    "tags": []
   },
   "outputs": [],
   "source": [
    "import functools\n",
    "import json\n",
    "import argparse\n",
    "import os\n",
    "import time\n",
    "from typing import Tuple\n",
    "import concurrent\n",
    "from concurrent.futures import ThreadPoolExecutor\n",
    "\n",
    "from fireatlas import preprocess\n",
    "from fireatlas import FireTime\n",
    "from fireatlas.FireLog import logger\n",
    "from fireatlas.FireTypes import Region, TimeStep\n",
    "from fireatlas.utils import timed\n",
    "from fireatlas import FireConsts\n",
    "from fireatlas import FireIO\n",
    "\n",
    "from maap.maap import MAAP\n",
    "from maap.dps.dps_job import DPSJob\n",
    "from maap.utils import algorithm_utils\n",
    "\n",
    "\n",
    "class JobSubmissionException(Exception):\n",
    "    pass\n",
    "\n",
    "\n",
    "def get_algorithm_config_filepath(dir_names):\n",
    "    current_file_dir = os.path.dirname(os.path.abspath(__name__))\n",
    "    return [\n",
    "        os.path.join(current_file_dir, f'{dir_name}', 'algorithm_config.yaml')\n",
    "        for dir_name in dir_names\n",
    "    ]\n",
    "\n",
    "\n",
    "def validate_job_submission(submitted_jobs: Tuple[DPSJob]) -> Tuple[DPSJob]:\n",
    "    \"\"\"we don't retry job submissions, they should ideally always work\n",
    "\n",
    "    validate status of job submission results and return result 'job_id'\n",
    "    \"\"\"\n",
    "    failed_statuses = [result for result in submitted_jobs if result.status == 'failed']\n",
    "    if any(failed_statuses):\n",
    "        raise JobSubmissionException(f\"[ SUBMISSION FAILED ]: the following jobs failed to submit {failed_statuses}\")\n",
    "    return submitted_jobs\n",
    "\n",
    "\n",
    "def wait_for_job(dps_job: DPSJob) -> DPSJob:\n",
    "    \"\"\"this internal DPSJob function will block until job completes and use exponential backoff\n",
    "    https://github.com/MAAP-Project/maap-py/blob/master/maap/dps/dps_job.py#L80C9-L80C28\n",
    "\n",
    "    it seems the statuses.lower() are: ['failed', 'succeeded', 'accepted', 'running']\n",
    "    https://github.com/MAAP-Project/maap-py/blob/master/maap/dps/dps_job.py\n",
    "    \"\"\"\n",
    "    return dps_job.wait_for_completion()\n",
    "\n",
    "\n",
    "def poll_on_job_status(jobs: Tuple[DPSJob]) -> Tuple[DPSJob]:\n",
    "    failed_jobs = []\n",
    "    # don't want to overwhelm the MAAP api so keeping max_workers relatively small\n",
    "    with ThreadPoolExecutor(max_workers=5) as executor:\n",
    "        dps_job_futures = [executor.submit(wait_for_job, dps_job) for dps_job in jobs]\n",
    "        for dps_job in concurrent.futures.as_completed(dps_job_futures):\n",
    "            try:\n",
    "                if dps_job.result().retrieve_status().lower() != 'succeeded':\n",
    "                    failed_jobs.append(dps_job)\n",
    "            except Exception as e:\n",
    "                logger.exception(f\"'poll_on_jobs_status' failed with {e}\")\n",
    "    return failed_jobs\n",
    "\n",
    "\n",
    "def track_submitted_jobs(submitted_jobs: Tuple[DPSJob]) -> Tuple[DPSJob]:\n",
    "    queued_jobs = validate_job_submission(submitted_jobs)\n",
    "    failed_jobs = poll_on_job_status(queued_jobs)\n",
    "    return failed_jobs"
   ]
  },
  {
   "cell_type": "code",
   "execution_count": 56,
   "id": "49361f6a-216a-4f03-bd13-8c16e956d8de",
   "metadata": {
    "tags": []
   },
   "outputs": [],
   "source": [
    "tst = [2023,1,1,'AM']\n",
    "ted = [2023,3,1,'PM']\n",
    "region = [\"ShastaTrinity\", [-124.354248,40.624376,-122.250366,42.045213]]\n",
    "list_of_time_steps = list(FireTime.t_generator(tst, ted))"
   ]
  },
  {
   "cell_type": "markdown",
   "id": "89e6c949-8329-4bb5-80fa-80284a59e30e",
   "metadata": {},
   "source": [
    "#### Data Update Checker"
   ]
  },
  {
   "cell_type": "code",
   "execution_count": 58,
   "id": "a58bdcdf-dbda-4ae3-94c7-52a767d6aa65",
   "metadata": {
    "tags": []
   },
   "outputs": [
    {
     "name": "stdout",
     "output_type": "stream",
     "text": [
      "{'algorithm_name': 'eis-feds-dask-coordinator-v3', 'algorithm_description': 'coordinator for all regional jobs, preprocess and FireForward steps', 'algorithm_version': '1.0.0', 'environment': 'ubuntu', 'repository_url': 'https://repo.maap-project.org/gcorradini/fireatlas_nrt.git', 'docker_container_url': 'mas.maap-project.org/root/maap-workspaces/base_images/vanilla:v3.1.4', 'queue': 'maap-dps-eis-worker-64gb', 'run_command': 'fireatlas_nrt/maap_runtime/run_dps_cli.sh', 'build_command': 'fireatlas_nrt/maap_runtime/run_dps_build.sh', 'disk_space': '100GB'}\n"
     ]
    }
   ],
   "source": [
    "configs = get_algorithm_config_filepath(['coordinator',])\n",
    "maap_api = MAAP(maap_host='api.maap-project.org')\n",
    "algo_config = algorithm_utils.read_yaml_file(configs[0])\n",
    "algo_config.pop('inputs')\n",
    "print(algo_config)\n",
    "\n",
    "submitted_jobs = []\n",
    "submit_job_kwargs = {\n",
    "    \"identifier\": f\"job-{algo_config['algorithm_name']}:{algo_config['algorithm_version']}\",\n",
    "    \"algo_id\": algo_config[\"algorithm_name\"],\n",
    "    \"version\": algo_config[\"algorithm_version\"],\n",
    "    \"username\": \"gcorradini\",\n",
    "    \"queue\": algo_config[\"queue\"],\n",
    "}\n",
    "\n",
    "param_kwargs = {\"regnm\": region[0], \"tst\":  json.dumps(tst), \n",
    "                \"bbox\": region[1], \"ted\": json.dumps(ted), \"operation\": \"--data-update\"}\n",
    "result = maap_api.submitJob(**submit_job_kwargs, **param_kwargs)\n",
    "submitted_jobs.append(result)\n",
    "queued_jobs = validate_job_submission(submitted_jobs)"
   ]
  },
  {
   "cell_type": "markdown",
   "id": "103c0128-004b-4ba2-9479-c7561cb70133",
   "metadata": {},
   "source": [
    "#### Job Monitoring"
   ]
  },
  {
   "cell_type": "code",
   "execution_count": 59,
   "id": "a6cfceb2-df63-4e29-8a97-6618d525318d",
   "metadata": {
    "tags": []
   },
   "outputs": [
    {
     "data": {
      "text/plain": [
       "['Accepted']"
      ]
     },
     "execution_count": 59,
     "metadata": {},
     "output_type": "execute_result"
    }
   ],
   "source": [
    "[maap_api.getJobStatus(job.id) for job in queued_jobs]"
   ]
  },
  {
   "cell_type": "code",
   "execution_count": 60,
   "id": "e2ad9e12-14a4-4ea3-bdfe-829a91aa6fb4",
   "metadata": {
    "tags": []
   },
   "outputs": [
    {
     "name": "stderr",
     "output_type": "stream",
     "text": [
      "INFO:backoff:Backing off wait_for_completion(...) for 0.2s (RuntimeError)\n",
      "INFO:backoff:Backing off wait_for_completion(...) for 0.2s (RuntimeError)\n",
      "INFO:backoff:Backing off wait_for_completion(...) for 0.8s (RuntimeError)\n",
      "INFO:backoff:Backing off wait_for_completion(...) for 5.5s (RuntimeError)\n",
      "INFO:backoff:Backing off wait_for_completion(...) for 2.0s (RuntimeError)\n",
      "INFO:backoff:Backing off wait_for_completion(...) for 17.9s (RuntimeError)\n",
      "INFO:backoff:Backing off wait_for_completion(...) for 18.0s (RuntimeError)\n",
      "INFO:backoff:Backing off wait_for_completion(...) for 7.2s (RuntimeError)\n",
      "INFO:backoff:Backing off wait_for_completion(...) for 0.6s (RuntimeError)\n",
      "INFO:backoff:Backing off wait_for_completion(...) for 44.3s (RuntimeError)\n",
      "INFO:backoff:Backing off wait_for_completion(...) for 39.4s (RuntimeError)\n",
      "INFO:backoff:Backing off wait_for_completion(...) for 14.4s (RuntimeError)\n",
      "INFO:backoff:Backing off wait_for_completion(...) for 34.5s (RuntimeError)\n",
      "INFO:backoff:Backing off wait_for_completion(...) for 12.1s (RuntimeError)\n",
      "INFO:backoff:Backing off wait_for_completion(...) for 25.2s (RuntimeError)\n",
      "INFO:backoff:Backing off wait_for_completion(...) for 41.3s (RuntimeError)\n",
      "INFO:backoff:Backing off wait_for_completion(...) for 44.5s (RuntimeError)\n",
      "INFO:backoff:Backing off wait_for_completion(...) for 60.0s (RuntimeError)\n",
      "INFO:backoff:Backing off wait_for_completion(...) for 0.5s (RuntimeError)\n",
      "INFO:backoff:Backing off wait_for_completion(...) for 43.0s (RuntimeError)\n",
      "INFO:backoff:Backing off wait_for_completion(...) for 60.5s (RuntimeError)\n",
      "INFO:backoff:Backing off wait_for_completion(...) for 47.4s (RuntimeError)\n"
     ]
    },
    {
     "name": "stdout",
     "output_type": "stream",
     "text": [
      "CPU times: user 540 ms, sys: 176 ms, total: 715 ms\n",
      "Wall time: 8min 41s\n"
     ]
    }
   ],
   "source": [
    "%%time\n",
    "failed_jobs = poll_on_job_status(queued_jobs)"
   ]
  },
  {
   "cell_type": "markdown",
   "id": "fb6e3660-a847-4ed5-a101-43dd982974ef",
   "metadata": {},
   "source": [
    "### Preprocess Region"
   ]
  },
  {
   "cell_type": "code",
   "execution_count": 61,
   "id": "d8631fa4-05b3-420b-b44b-bd8622662ef4",
   "metadata": {
    "tags": []
   },
   "outputs": [
    {
     "name": "stdout",
     "output_type": "stream",
     "text": [
      "{'algorithm_name': 'eis-feds-dask-coordinator-v3', 'algorithm_description': 'coordinator for all regional jobs, preprocess and FireForward steps', 'algorithm_version': '1.0.0', 'environment': 'ubuntu', 'repository_url': 'https://repo.maap-project.org/gcorradini/fireatlas_nrt.git', 'docker_container_url': 'mas.maap-project.org/root/maap-workspaces/base_images/vanilla:v3.1.4', 'queue': 'maap-dps-eis-worker-64gb', 'run_command': 'fireatlas_nrt/maap_runtime/run_dps_cli.sh', 'build_command': 'fireatlas_nrt/maap_runtime/run_dps_build.sh', 'disk_space': '100GB'}\n"
     ]
    }
   ],
   "source": [
    "configs = get_algorithm_config_filepath(['coordinator',])\n",
    "maap_api = MAAP(maap_host='api.maap-project.org')\n",
    "algo_config = algorithm_utils.read_yaml_file(configs[0])\n",
    "algo_config.pop('inputs')\n",
    "print(algo_config)\n",
    "\n",
    "submitted_jobs = []\n",
    "submit_job_kwargs = {\n",
    "    \"identifier\": f\"job-{algo_config['algorithm_name']}:{algo_config['algorithm_version']}\",\n",
    "    \"algo_id\": algo_config[\"algorithm_name\"],\n",
    "    \"version\": algo_config[\"algorithm_version\"],\n",
    "    \"username\": \"gcorradini\",\n",
    "    \"queue\": algo_config[\"queue\"],\n",
    "}\n",
    "param_kwargs = {\"regnm\": region[0], \"tst\":  json.dumps(tst), \n",
    "                \"bbox\": region[1], \"ted\": json.dumps(ted), \"operation\": \"--preprocess-region\"}\n",
    "result = maap_api.submitJob(**submit_job_kwargs, **param_kwargs)\n",
    "submitted_jobs.append(result)\n",
    "queued_jobs = validate_job_submission(submitted_jobs)"
   ]
  },
  {
   "cell_type": "markdown",
   "id": "0da48b0b-1ff4-4d66-996d-49814974dba6",
   "metadata": {},
   "source": [
    "#### Job Monitoring"
   ]
  },
  {
   "cell_type": "code",
   "execution_count": 62,
   "id": "108242a8-a73e-4fee-8c4f-04256790f73d",
   "metadata": {
    "tags": []
   },
   "outputs": [
    {
     "data": {
      "text/plain": [
       "['Running']"
      ]
     },
     "execution_count": 62,
     "metadata": {},
     "output_type": "execute_result"
    }
   ],
   "source": [
    "[maap_api.getJobStatus(job.id) for job in queued_jobs]"
   ]
  },
  {
   "cell_type": "code",
   "execution_count": 63,
   "id": "9b4536d7-ed9f-4599-a711-6dfdafad6205",
   "metadata": {
    "tags": []
   },
   "outputs": [
    {
     "name": "stderr",
     "output_type": "stream",
     "text": [
      "INFO:backoff:Backing off wait_for_completion(...) for 0.3s (RuntimeError)\n",
      "INFO:backoff:Backing off wait_for_completion(...) for 1.3s (RuntimeError)\n",
      "INFO:backoff:Backing off wait_for_completion(...) for 0.2s (RuntimeError)\n",
      "INFO:backoff:Backing off wait_for_completion(...) for 0.9s (RuntimeError)\n",
      "INFO:backoff:Backing off wait_for_completion(...) for 0.3s (RuntimeError)\n",
      "INFO:backoff:Backing off wait_for_completion(...) for 20.8s (RuntimeError)\n"
     ]
    },
    {
     "name": "stdout",
     "output_type": "stream",
     "text": [
      "CPU times: user 174 ms, sys: 41.7 ms, total: 216 ms\n",
      "Wall time: 24.2 s\n"
     ]
    }
   ],
   "source": [
    "%%time\n",
    "failed_jobs = poll_on_job_status(queued_jobs)"
   ]
  },
  {
   "cell_type": "markdown",
   "id": "79fd022b-6764-4315-aaf6-86e58a4b5e1a",
   "metadata": {},
   "source": [
    "### Preprocess Region T"
   ]
  },
  {
   "cell_type": "code",
   "execution_count": null,
   "id": "48b14b4b-cc0f-488b-bf31-a8c8b6bc080e",
   "metadata": {
    "tags": []
   },
   "outputs": [],
   "source": [
    "configs = get_algorithm_config_filepath(['operation',])\n",
    "maap_api = MAAP(maap_host='api.maap-project.org')\n",
    "algo_config = algorithm_utils.read_yaml_file(configs[0])\n",
    "algo_config.pop('inputs')\n",
    "print(algo_config)\n",
    "\n",
    "submitted_jobs = []\n",
    "submit_job_kwargs = {\n",
    "    \"identifier\": f\"job-{algo_config['algorithm_name']}:{algo_config['algorithm_version']}\",\n",
    "    \"algo_id\": algo_config[\"algorithm_name\"],\n",
    "    \"version\": algo_config[\"algorithm_version\"],\n",
    "    \"username\": \"gcorradini\",\n",
    "    \"queue\": algo_config[\"queue\"],\n",
    "}\n",
    "for t in list_of_time_steps:\n",
    "    #print(t)\n",
    "    param_kwargs = {\"regnm\": region[0], \"tst\":  json.dumps(t), \n",
    "                \"bbox\": region[1], \"ted\": json.dumps(ted), \"operation\": \"--preprocess-region-t\"}\n",
    "    output_filepath = preprocess.preprocessed_filename(t, sat=FireConsts.firesrc, region=region, location=\"s3\")\n",
    "    if FireIO.os_path_exists(output_filepath):\n",
    "        logger.info(f\"skipping 'preprocess_region_t' b/c file \\\n",
    "        already exists for region {region[0]}, {output_filepath}\")\n",
    "        continue\n",
    "\n",
    "    result = maap_api.submitJob(**submit_job_kwargs, **param_kwargs)\n",
    "    submitted_jobs.append(result)\n",
    "queued_jobs = validate_job_submission(submitted_jobs)"
   ]
  },
  {
   "cell_type": "markdown",
   "id": "e44ae8dc-1d59-4190-b629-16ff39f8c7d4",
   "metadata": {},
   "source": [
    "#### Job Monitoring"
   ]
  },
  {
   "cell_type": "code",
   "execution_count": null,
   "id": "7af92d79-6960-4ded-ba7e-e5ff92e56762",
   "metadata": {
    "tags": []
   },
   "outputs": [],
   "source": [
    "#[maap_api.getJobStatus(job.id) for job in queued_jobs]"
   ]
  },
  {
   "cell_type": "code",
   "execution_count": null,
   "id": "f146007e-3110-4204-876e-d347aade5fd8",
   "metadata": {
    "tags": []
   },
   "outputs": [],
   "source": [
    "%%time\n",
    "failed_jobs = poll_on_job_status(queued_jobs)"
   ]
  },
  {
   "cell_type": "code",
   "execution_count": null,
   "id": "7005e381-b12e-41c4-ae7b-ecb6e72543e5",
   "metadata": {
    "tags": []
   },
   "outputs": [],
   "source": [
    "len(failed_jobs)"
   ]
  },
  {
   "cell_type": "markdown",
   "id": "68e63577-5ad0-4fec-aa6c-c695e948accb",
   "metadata": {
    "tags": []
   },
   "source": [
    "#### FireForward"
   ]
  },
  {
   "cell_type": "code",
   "execution_count": null,
   "id": "9684e956-9e80-4632-bdf8-a752ceacc27d",
   "metadata": {
    "tags": []
   },
   "outputs": [],
   "source": [
    "configs = get_algorithm_config_filepath(['coordinator',])\n",
    "maap_api = MAAP(maap_host='api.maap-project.org')\n",
    "algo_config = algorithm_utils.read_yaml_file(configs[0])\n",
    "algo_config.pop('inputs')\n",
    "print(algo_config)\n",
    "\n",
    "submitted_jobs = []\n",
    "submit_job_kwargs = {\n",
    "    \"identifier\": f\"job-{algo_config['algorithm_name']}:{algo_config['algorithm_version']}\",\n",
    "    \"algo_id\": algo_config[\"algorithm_name\"],\n",
    "    \"version\": algo_config[\"algorithm_version\"],\n",
    "    \"username\": \"gcorradini\",\n",
    "    \"queue\": algo_config[\"queue\"],\n",
    "}\n",
    "param_kwargs = {\"regnm\": region[0], \"tst\":  json.dumps(tst), \n",
    "                \"bbox\": region[1], \"ted\": json.dumps(ted), \"operation\": \"--fire-forward\"}\n",
    "\n",
    "result = maap_api.submitJob(**submit_job_kwargs, **param_kwargs)\n",
    "submitted_jobs.append(result)\n",
    "queued_jobs = validate_job_submission(submitted_jobs)"
   ]
  },
  {
   "cell_type": "markdown",
   "id": "039a56ee-d158-4c08-9a5b-15db03555930",
   "metadata": {},
   "source": [
    "#### Job Monitoring"
   ]
  },
  {
   "cell_type": "code",
   "execution_count": null,
   "id": "3e2314a3-2e67-410f-8e4d-284187e27407",
   "metadata": {
    "tags": []
   },
   "outputs": [],
   "source": [
    "[maap_api.getJobStatus(job.id) for job in queued_jobs]"
   ]
  },
  {
   "cell_type": "code",
   "execution_count": null,
   "id": "48c6fa1f-975c-4f00-ad60-61cad297305a",
   "metadata": {
    "tags": []
   },
   "outputs": [],
   "source": [
    "%%time\n",
    "failed_jobs = poll_on_job_status(queued_jobs)"
   ]
  },
  {
   "cell_type": "code",
   "execution_count": null,
   "id": "634f7378-9207-4eb4-98af-783aacd0de92",
   "metadata": {
    "tags": []
   },
   "outputs": [],
   "source": [
    "len(failed_jobs)"
   ]
  },
  {
   "cell_type": "code",
   "execution_count": null,
   "id": "ae0c2152-3a63-4305-a2e4-cb57549c7f5e",
   "metadata": {
    "tags": []
   },
   "outputs": [],
   "source": [
    "#failed_jobs[0].result().retrieve_result()"
   ]
  },
  {
   "cell_type": "markdown",
   "id": "63808adf-b421-4171-a1ae-51393b28fec6",
   "metadata": {},
   "source": [
    "#### Dask Coodinator"
   ]
  },
  {
   "cell_type": "code",
   "execution_count": 48,
   "id": "bc53d142-2175-400f-8e91-6ccf360e93ad",
   "metadata": {
    "tags": []
   },
   "outputs": [],
   "source": [
    "tst = [2023,1,1,'AM']\n",
    "ted = [2023,7,1,'PM']\n",
    "region = [\"Oregon\", [-124.925537,41.672912,-115.565186,46.513516]]"
   ]
  },
  {
   "cell_type": "code",
   "execution_count": 50,
   "id": "41cc9fad-de82-42d0-9dfe-6d58780e8f44",
   "metadata": {
    "tags": []
   },
   "outputs": [
    {
     "name": "stdout",
     "output_type": "stream",
     "text": [
      "{'algorithm_name': 'eis-feds-dask-coordinator-v3', 'algorithm_description': 'coordinator for all regional jobs, preprocess and FireForward steps', 'algorithm_version': '1.0.0', 'environment': 'ubuntu', 'repository_url': 'https://repo.maap-project.org/gcorradini/fireatlas_nrt.git', 'docker_container_url': 'mas.maap-project.org/root/maap-workspaces/base_images/vanilla:v3.1.4', 'queue': 'maap-dps-eis-worker-64gb', 'run_command': 'fireatlas_nrt/maap_runtime/run_dask_coordinator.sh', 'build_command': 'fireatlas_nrt/maap_runtime/run_dps_build.sh', 'disk_space': '100GB'}\n"
     ]
    }
   ],
   "source": [
    "configs = get_algorithm_config_filepath(['coordinator',])\n",
    "maap_api = MAAP(maap_host='api.maap-project.org')\n",
    "algo_config = algorithm_utils.read_yaml_file(configs[0])\n",
    "algo_config.pop('inputs')\n",
    "print(algo_config)\n",
    "\n",
    "submitted_jobs = []\n",
    "submit_job_kwargs = {\n",
    "    \"identifier\": f\"job-{algo_config['algorithm_name']}:{algo_config['algorithm_version']}\",\n",
    "    \"algo_id\": algo_config[\"algorithm_name\"],\n",
    "    \"version\": algo_config[\"algorithm_version\"],\n",
    "    \"username\": \"gcorradini\",\n",
    "    \"queue\": algo_config[\"queue\"],\n",
    "}\n",
    "param_kwargs = {\"regnm\": region[0], \"tst\":  json.dumps(tst), \n",
    "                \"bbox\": region[1], \"ted\": json.dumps(ted), \"operation\": \"--coordinate-all\"}\n",
    "\n",
    "result = maap_api.submitJob(**submit_job_kwargs, **param_kwargs)\n",
    "submitted_jobs.append(result)\n",
    "queued_jobs = validate_job_submission(submitted_jobs)"
   ]
  },
  {
   "cell_type": "code",
   "execution_count": 51,
   "id": "ca7da393-ffe0-4e81-b3f4-389c1c0d395d",
   "metadata": {
    "tags": []
   },
   "outputs": [
    {
     "name": "stderr",
     "output_type": "stream",
     "text": [
      "INFO:backoff:Backing off wait_for_completion(...) for 0.0s (RuntimeError)\n",
      "INFO:backoff:Backing off wait_for_completion(...) for 0.6s (RuntimeError)\n",
      "INFO:backoff:Backing off wait_for_completion(...) for 3.2s (RuntimeError)\n",
      "INFO:backoff:Backing off wait_for_completion(...) for 6.5s (RuntimeError)\n",
      "INFO:backoff:Backing off wait_for_completion(...) for 12.3s (RuntimeError)\n",
      "INFO:backoff:Backing off wait_for_completion(...) for 15.4s (RuntimeError)\n",
      "INFO:backoff:Backing off wait_for_completion(...) for 18.3s (RuntimeError)\n",
      "INFO:backoff:Backing off wait_for_completion(...) for 14.5s (RuntimeError)\n",
      "INFO:backoff:Backing off wait_for_completion(...) for 63.5s (RuntimeError)\n",
      "INFO:backoff:Backing off wait_for_completion(...) for 27.6s (RuntimeError)\n",
      "INFO:backoff:Backing off wait_for_completion(...) for 60.2s (RuntimeError)\n",
      "INFO:backoff:Backing off wait_for_completion(...) for 57.9s (RuntimeError)\n",
      "INFO:backoff:Backing off wait_for_completion(...) for 44.4s (RuntimeError)\n",
      "INFO:backoff:Backing off wait_for_completion(...) for 44.0s (RuntimeError)\n",
      "INFO:backoff:Backing off wait_for_completion(...) for 9.2s (RuntimeError)\n",
      "INFO:backoff:Backing off wait_for_completion(...) for 48.4s (RuntimeError)\n",
      "INFO:backoff:Backing off wait_for_completion(...) for 30.7s (RuntimeError)\n",
      "INFO:backoff:Backing off wait_for_completion(...) for 54.7s (RuntimeError)\n",
      "INFO:backoff:Backing off wait_for_completion(...) for 63.5s (RuntimeError)\n"
     ]
    },
    {
     "name": "stdout",
     "output_type": "stream",
     "text": [
      "CPU times: user 466 ms, sys: 32.2 ms, total: 499 ms\n",
      "Wall time: 9min 36s\n"
     ]
    }
   ],
   "source": [
    "%%time\n",
    "failed_jobs = poll_on_job_status(queued_jobs)"
   ]
  },
  {
   "cell_type": "code",
   "execution_count": 54,
   "id": "03fa2c5b-4dad-4db3-9835-9ee886fabef4",
   "metadata": {
    "tags": []
   },
   "outputs": [
    {
     "data": {
      "text/plain": [
       "['http://maap-ops-workspace.s3-website-us-west-2.amazonaws.com/dataset/triaged_job/eis-feds-dask-coordinator-v3/1.0.0/2024/03/30/264f7a19-37ea-4d88-8af3-31d378346423',\n",
       " 's3://s3-us-west-2.amazonaws.com:80/maap-ops-workspace/dataset/triaged_job/eis-feds-dask-coordinator-v3/1.0.0/2024/03/30/264f7a19-37ea-4d88-8af3-31d378346423',\n",
       " 'https://s3.console.aws.amazon.com/s3/buckets/maap-ops-workspace/dataset/triaged_job/eis-feds-dask-coordinator-v3/1.0.0/2024/03/30/264f7a19-37ea-4d88-8af3-31d378346423/?region=us-east-1&tab=overview',\n",
       " '++ python /app/get_username.py\\n+ USERNAME=gcorradini\\n+ DPS_MACHINE_TOKEN=Y6hERQKLKs0oH0h5Kgi3d-gVVyHgW_DR77YeARdzd-a3KJDE-gYldJzhB94s635KySUXi4r9WOtD6Vo_F9cEbfNI_QUhOG8N47heXHVcW1k3vEw3d0StttXYMOnQPtTzSQLAYKQwJLgbtX-R8ug1XGVeMolh97P9nHcW8awN7yjyaR7g\\n++ curl -sb -H \\'Accept: application/json\\' -H \\'Content-Type: application/json\\' -H \\'dps-token: Y6hERQKLKs0oH0h5Kgi3d-gVVyHgW_DR77YeARdzd-a3KJDE-gYldJzhB94s635KySUXi4r9WOtD6Vo_F9cEbfNI_QUhOG8N47heXHVcW1k3vEw3d0StttXYMOnQPtTzSQLAYKQwJLgbtX-R8ug1XGVeMolh97P9nHcW8awN7yjyaR7g\\' https://api.maap-project.org/api/members/gcorradini\\n++ jq -r .session_key\\n+ export MAAP_PGT=PGT-1338-qc1UUIXPBnnfLBsibetT2TA2KkvYhGH8dbnSjsjTV1JYMdRz6B6CHyg1pc1iB2OW0bM-93f206e1209e\\n+ MAAP_PGT=PGT-1338-qc1UUIXPBnnfLBsibetT2TA2KkvYhGH8dbnSjsjTV1JYMdRz6B6CHyg1pc1iB2OW0bM-93f206e1209e\\n+ unset DPS_MACHINE_TOKEN\\n+ /app/fireatlas_nrt/maap_runtime/run_dask_coordinator.sh Oregon \\'[-124.925537, 41.672912, -115.565186, 46.513516]\\' \\'[2023, 1, 1, \"AM\"]\\' \\'[2023, 7, 1, \"PM\"]\\'\\nScalene: could not find input file /app/fireatlas_nrt/maap_runtime/FireRunDaskCoordinator.py\\ncp: cannot stat \\'/app/fireatlas_nrt/maap_runtime/running.log\\': No such file or directory\\n/app/fireatlas_nrt/maap_runtime/run_dask_coordinator.sh: line 25: popd: directory stack empty\\n+ cp _stderr.txt _alt_traceback.txt\\n']"
      ]
     },
     "execution_count": 54,
     "metadata": {},
     "output_type": "execute_result"
    }
   ],
   "source": [
    "failed_jobs[0].result().retrieve_result()"
   ]
  },
  {
   "cell_type": "code",
   "execution_count": null,
   "id": "820d1aad-294e-4d45-826b-d991155d0753",
   "metadata": {},
   "outputs": [],
   "source": []
  }
 ],
 "metadata": {
  "kernelspec": {
   "display_name": "pangeo",
   "language": "python",
   "name": "pangeo"
  },
  "language_info": {
   "codemirror_mode": {
    "name": "ipython",
    "version": 3
   },
   "file_extension": ".py",
   "mimetype": "text/x-python",
   "name": "python",
   "nbconvert_exporter": "python",
   "pygments_lexer": "ipython3",
   "version": "3.10.13"
  }
 },
 "nbformat": 4,
 "nbformat_minor": 5
}
