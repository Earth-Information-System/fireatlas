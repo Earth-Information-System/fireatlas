{
 "cells": [
  {
   "cell_type": "markdown",
   "id": "d456dddd-f97c-40f6-8207-7298d09a8671",
   "metadata": {},
   "source": [
    "## Archive\n",
    "\n",
    "This notebook looks at a particular historical fire and generates all the output."
   ]
  },
  {
   "cell_type": "code",
   "execution_count": 1,
   "id": "bcc595d6-8e98-4108-8770-c6c904aea3f7",
   "metadata": {},
   "outputs": [],
   "source": [
    "import datetime\n",
    "import pandas as pd\n",
    "import geopandas as gpd\n",
    "\n",
    "from fireatlas import FireMain, FireTime, FireObj, FireConsts, postprocess, preprocess\n",
    "from fireatlas.utils import timed\n",
    "\n",
    "tst = [2020, 9, 5, \"AM\"]\n",
    "ted = [2020, 9, 8, \"PM\"]\n",
    "region = (\"Creek\", [-119.5, 36.8, -118.9, 37.7])\n",
    "\n",
    "list_of_ts = list(FireTime.t_generator(tst, ted))"
   ]
  },
  {
   "cell_type": "markdown",
   "id": "5e54a2d4-b41b-4d53-a4ba-7a41f02799f5",
   "metadata": {},
   "source": [
    "## Preprocess the region\n",
    "\n",
    "Preprocess the region to get rid of static flare sources. Save that new \"swiss cheese\" shape off into a geojson file for later."
   ]
  },
  {
   "cell_type": "code",
   "execution_count": 3,
   "id": "1a3c495d-66fa-458f-8afb-01e982b0709a",
   "metadata": {},
   "outputs": [
    {
     "name": "stderr",
     "output_type": "stream",
     "text": [
      "2024-03-26 17:23:35,650 - FireLog - INFO - func:preprocess_region took: 626.01 ms\n"
     ]
    },
    {
     "data": {
      "text/plain": [
       "'data/FEDSpreprocessed/Creek/Creek.json'"
      ]
     },
     "execution_count": 3,
     "metadata": {},
     "output_type": "execute_result"
    }
   ],
   "source": [
    "preprocess.preprocess_region(region)"
   ]
  },
  {
   "cell_type": "markdown",
   "id": "16bd857f-f57a-4fc3-9e49-2c9536c97019",
   "metadata": {},
   "source": [
    "## Are preprocessed input files available?\n",
    "\n",
    "Check to see if all the files that we need have already been processed and are available on s3.\n",
    "\n",
    "Note: \"NOAA20\" files for this time period are not in the input folder so we will only use \"SNPP\""
   ]
  },
  {
   "cell_type": "code",
   "execution_count": 8,
   "id": "8451d5d6-05b0-4393-a850-70758cd365db",
   "metadata": {},
   "outputs": [],
   "source": [
    "ts_that_need_preprocessing = preprocess.check_preprocessed_file(tst, ted, sat=\"SNPP\", freq=\"monthly\", location=\"s3\")"
   ]
  },
  {
   "cell_type": "code",
   "execution_count": 12,
   "id": "ba10e2b4-a8a1-4f26-943e-0779b140c4ee",
   "metadata": {},
   "outputs": [],
   "source": [
    "assert len(ts_that_need_preprocessing) == 1, \"There is one monthly file that is not preprocessed on s3\""
   ]
  },
  {
   "cell_type": "markdown",
   "id": "9e0a94fb-5b43-41f4-9950-d54eaf4d93c4",
   "metadata": {},
   "source": [
    "Since there is one file that needs processing, let's process that and then we can read from local."
   ]
  },
  {
   "cell_type": "code",
   "execution_count": 13,
   "id": "4143909e-0357-4a58-8d5f-21aab6abc380",
   "metadata": {},
   "outputs": [
    {
     "name": "stderr",
     "output_type": "stream",
     "text": [
      "2024-03-26 17:28:29,826 - FireLog - INFO - preprocessing VNP14IMGML.202009.C1.05.txt\n"
     ]
    },
    {
     "name": "stdout",
     "output_type": "stream",
     "text": [
      "Processing days: 100%|██████████| 30/30 [00:33<00:00,  1.11s/it]"
     ]
    },
    {
     "name": "stderr",
     "output_type": "stream",
     "text": [
      "2024-03-26 17:29:51,873 - FireLog - INFO - func:preprocess_input_file took: 1.37 min\n"
     ]
    },
    {
     "name": "stdout",
     "output_type": "stream",
     "text": [
      "\n"
     ]
    }
   ],
   "source": [
    "for t in ts_that_need_preprocessing:\n",
    "    preprocess.preprocess_monthly_file(t, \"SNPP\")"
   ]
  },
  {
   "cell_type": "markdown",
   "id": "73f9065d-3519-4673-98e5-3afd0e29ab80",
   "metadata": {},
   "source": [
    "## Preprocess for region and t\n",
    "\n",
    "Do initial filtering and clustering using the preprocessed region (from local) and the half day files (also from local)."
   ]
  },
  {
   "cell_type": "code",
   "execution_count": 15,
   "id": "5ed3b8b4-7330-48e4-a3ff-4ca4d56add2c",
   "metadata": {
    "editable": true,
    "scrolled": true,
    "slideshow": {
     "slide_type": ""
    },
    "tags": []
   },
   "outputs": [
    {
     "name": "stderr",
     "output_type": "stream",
     "text": [
      "2024-03-26 17:30:40,299 - FireLog - INFO - func:read_region took: 1.41 ms\n",
      "2024-03-26 17:30:40,299 - FireLog - INFO - filtering and clustering 2020-9-5 AM, SNPP, Creek\n",
      "2024-03-26 17:30:40,330 - FireLog - INFO - func:read_preprocessed_input took: 30.33 ms\n",
      "2024-03-26 17:30:46,881 - FireLog - INFO - func:do_clustering took: 383.37 ms\n",
      "2024-03-26 17:30:46,895 - FireLog - INFO - func:preprocess_region_t took: 6.60 sec\n",
      "2024-03-26 17:30:46,897 - FireLog - INFO - func:read_region took: 1.01 ms\n",
      "2024-03-26 17:30:46,897 - FireLog - INFO - filtering and clustering 2020-9-5 PM, SNPP, Creek\n",
      "2024-03-26 17:30:47,043 - FireLog - INFO - func:read_preprocessed_input took: 145.57 ms\n",
      "2024-03-26 17:30:47,069 - FireLog - INFO - func:do_clustering took: 10.47 ms\n",
      "2024-03-26 17:30:47,094 - FireLog - INFO - func:preprocess_region_t took: 198.05 ms\n",
      "2024-03-26 17:30:47,095 - FireLog - INFO - func:read_region took: 1.02 ms\n",
      "2024-03-26 17:30:47,096 - FireLog - INFO - filtering and clustering 2020-9-6 AM, SNPP, Creek\n",
      "2024-03-26 17:30:47,161 - FireLog - INFO - func:read_preprocessed_input took: 64.66 ms\n",
      "2024-03-26 17:30:47,404 - FireLog - INFO - func:do_clustering took: 213.78 ms\n",
      "2024-03-26 17:30:47,461 - FireLog - INFO - func:preprocess_region_t took: 366.68 ms\n",
      "2024-03-26 17:30:47,462 - FireLog - INFO - func:read_region took: 1.06 ms\n",
      "2024-03-26 17:30:47,463 - FireLog - INFO - filtering and clustering 2020-9-6 PM, SNPP, Creek\n",
      "2024-03-26 17:30:47,561 - FireLog - INFO - func:read_preprocessed_input took: 97.61 ms\n",
      "2024-03-26 17:30:47,579 - FireLog - INFO - func:preprocess_region_t took: 117.60 ms\n",
      "2024-03-26 17:30:47,580 - FireLog - INFO - func:read_region took: 1.04 ms\n",
      "2024-03-26 17:30:47,581 - FireLog - INFO - filtering and clustering 2020-9-7 AM, SNPP, Creek\n",
      "2024-03-26 17:30:47,633 - FireLog - INFO - func:read_preprocessed_input took: 52.17 ms\n",
      "2024-03-26 17:30:47,753 - FireLog - INFO - func:do_clustering took: 93.49 ms\n",
      "2024-03-26 17:30:47,801 - FireLog - INFO - func:preprocess_region_t took: 221.75 ms\n",
      "2024-03-26 17:30:47,803 - FireLog - INFO - func:read_region took: 1.11 ms\n",
      "2024-03-26 17:30:47,803 - FireLog - INFO - filtering and clustering 2020-9-7 PM, SNPP, Creek\n",
      "2024-03-26 17:30:47,929 - FireLog - INFO - func:read_preprocessed_input took: 124.60 ms\n",
      "2024-03-26 17:30:47,961 - FireLog - INFO - func:do_clustering took: 14.29 ms\n",
      "2024-03-26 17:30:47,991 - FireLog - INFO - func:preprocess_region_t took: 189.40 ms\n",
      "2024-03-26 17:30:47,993 - FireLog - INFO - func:read_region took: 1.09 ms\n",
      "2024-03-26 17:30:47,993 - FireLog - INFO - filtering and clustering 2020-9-8 AM, SNPP, Creek\n",
      "2024-03-26 17:30:48,045 - FireLog - INFO - func:read_preprocessed_input took: 52.00 ms\n",
      "2024-03-26 17:30:48,242 - FireLog - INFO - func:do_clustering took: 161.07 ms\n",
      "2024-03-26 17:30:48,319 - FireLog - INFO - func:preprocess_region_t took: 327.39 ms\n",
      "2024-03-26 17:30:48,321 - FireLog - INFO - func:read_region took: 1.05 ms\n",
      "2024-03-26 17:30:48,321 - FireLog - INFO - filtering and clustering 2020-9-8 PM, SNPP, Creek\n",
      "2024-03-26 17:30:48,480 - FireLog - INFO - func:read_preprocessed_input took: 158.92 ms\n",
      "2024-03-26 17:30:48,508 - FireLog - INFO - func:do_clustering took: 10.14 ms\n",
      "2024-03-26 17:30:48,536 - FireLog - INFO - func:preprocess_region_t took: 216.18 ms\n"
     ]
    },
    {
     "name": "stdout",
     "output_type": "stream",
     "text": [
      "CPU times: user 1.75 s, sys: 167 ms, total: 1.92 s\n",
      "Wall time: 8.24 s\n"
     ]
    }
   ],
   "source": [
    "%%time\n",
    "for t in list_of_ts:\n",
    "    preprocess.preprocess_region_t(t, sensor=\"SNPP\", region=region, read_location=\"local\")"
   ]
  },
  {
   "cell_type": "markdown",
   "id": "f14a2dc9-e4ba-46ea-9e35-fca95f4514b0",
   "metadata": {},
   "source": [
    "## Run the fire expansion and merging algorithm\n",
    "\n",
    "Now that we have all the region-specific preprocessed fires, we can go ahead and run `Fire_Forward`."
   ]
  },
  {
   "cell_type": "code",
   "execution_count": 16,
   "id": "f9177ca7-7ddb-4472-97a2-054467bf86f0",
   "metadata": {
    "scrolled": true
   },
   "outputs": [
    {
     "name": "stderr",
     "output_type": "stream",
     "text": [
      "2024-03-26 17:32:05,591 - FireLog - INFO - func:read_preprocessed took: 5.05 ms\n",
      "2024-03-26 17:32:05,596 - FireLog - INFO - func:read_preprocessed took: 4.23 ms\n",
      "2024-03-26 17:32:05,606 - FireLog - INFO - func:read_preprocessed took: 9.90 ms\n",
      "2024-03-26 17:32:05,611 - FireLog - INFO - func:read_preprocessed took: 4.01 ms\n",
      "2024-03-26 17:32:05,619 - FireLog - INFO - func:read_preprocessed took: 7.37 ms\n",
      "2024-03-26 17:32:05,625 - FireLog - INFO - func:read_preprocessed took: 5.43 ms\n",
      "2024-03-26 17:32:05,640 - FireLog - INFO - func:read_preprocessed took: 14.22 ms\n",
      "2024-03-26 17:32:05,647 - FireLog - INFO - func:read_preprocessed took: 6.79 ms\n",
      "2024-03-26 17:32:05,652 - FireLog - INFO - --------------------\n",
      "2024-03-26 17:32:05,652 - FireLog - INFO - Fire tracking at [2020, 9, 5, 'AM']\n",
      "2024-03-26 17:32:06,184 - FireLog - INFO - func:Fire_expand_rtree took: 529.83 ms\n",
      "2024-03-26 17:32:06,186 - FireLog - INFO - func:Fire_merge_rtree took: 0.76 ms\n",
      "2024-03-26 17:32:06,186 - FireLog - INFO - fids_expand: 0\n",
      "2024-03-26 17:32:06,187 - FireLog - INFO - fids_new: 1\n",
      "2024-03-26 17:32:06,187 - FireLog - INFO - fids_merged: 0\n",
      "2024-03-26 17:32:06,188 - FireLog - INFO - fids_invalid: 0\n",
      "2024-03-26 17:32:06,203 - FireLog - INFO - func:update_gdf took: 15.04 ms\n",
      "2024-03-26 17:32:06,204 - FireLog - INFO - func:Fire_Forward_one_step took: 552.48 ms\n",
      "2024-03-26 17:32:06,205 - FireLog - INFO - --------------------\n",
      "2024-03-26 17:32:06,205 - FireLog - INFO - Fire tracking at [2020, 9, 5, 'PM']\n",
      "2024-03-26 17:32:07,281 - FireLog - INFO - func:Fire_expand_rtree took: 1.07 sec\n",
      "2024-03-26 17:32:08,167 - FireLog - INFO - func:Fire_merge_rtree took: 884.85 ms\n",
      "2024-03-26 17:32:08,168 - FireLog - INFO - fids_expand: 1\n",
      "2024-03-26 17:32:08,168 - FireLog - INFO - fids_new: 3\n",
      "2024-03-26 17:32:08,169 - FireLog - INFO - fids_merged: 1\n",
      "2024-03-26 17:32:08,169 - FireLog - INFO - fids_invalid: 3\n",
      "2024-03-26 17:32:08,216 - FireLog - INFO - func:update_gdf took: 46.51 ms\n",
      "2024-03-26 17:32:08,217 - FireLog - INFO - func:Fire_Forward_one_step took: 2.01 sec\n",
      "2024-03-26 17:32:08,218 - FireLog - INFO - --------------------\n",
      "2024-03-26 17:32:08,218 - FireLog - INFO - Fire tracking at [2020, 9, 6, 'AM']\n",
      "2024-03-26 17:32:10,442 - FireLog - INFO - func:Fire_expand_rtree took: 2.22 sec\n",
      "2024-03-26 17:32:13,462 - FireLog - INFO - func:Fire_merge_rtree took: 3.02 sec\n",
      "2024-03-26 17:32:13,463 - FireLog - INFO - fids_expand: 1\n",
      "2024-03-26 17:32:13,463 - FireLog - INFO - fids_new: 5\n",
      "2024-03-26 17:32:13,464 - FireLog - INFO - fids_merged: 1\n",
      "2024-03-26 17:32:13,465 - FireLog - INFO - fids_invalid: 5\n",
      "2024-03-26 17:32:13,554 - FireLog - INFO - func:update_gdf took: 88.76 ms\n",
      "2024-03-26 17:32:13,555 - FireLog - INFO - func:Fire_Forward_one_step took: 5.34 sec\n",
      "2024-03-26 17:32:13,555 - FireLog - INFO - --------------------\n",
      "2024-03-26 17:32:13,556 - FireLog - INFO - Fire tracking at [2020, 9, 6, 'PM']\n",
      "2024-03-26 17:32:13,557 - FireLog - INFO - fids_expand: 0\n",
      "2024-03-26 17:32:13,558 - FireLog - INFO - fids_new: 0\n",
      "2024-03-26 17:32:13,558 - FireLog - INFO - fids_merged: 0\n",
      "2024-03-26 17:32:13,559 - FireLog - INFO - fids_invalid: 0\n",
      "2024-03-26 17:32:13,565 - FireLog - INFO - func:update_gdf took: 5.33 ms\n",
      "2024-03-26 17:32:13,565 - FireLog - INFO - func:Fire_Forward_one_step took: 10.46 ms\n",
      "2024-03-26 17:32:13,566 - FireLog - INFO - --------------------\n",
      "2024-03-26 17:32:13,567 - FireLog - INFO - Fire tracking at [2020, 9, 7, 'AM']\n",
      "2024-03-26 17:32:14,435 - FireLog - INFO - func:Fire_expand_rtree took: 865.38 ms\n",
      "2024-03-26 17:32:14,438 - FireLog - INFO - func:Fire_merge_rtree took: 2.32 ms\n",
      "2024-03-26 17:32:14,438 - FireLog - INFO - fids_expand: 1\n",
      "2024-03-26 17:32:14,439 - FireLog - INFO - fids_new: 0\n",
      "2024-03-26 17:32:14,439 - FireLog - INFO - fids_merged: 0\n",
      "2024-03-26 17:32:14,440 - FireLog - INFO - fids_invalid: 0\n",
      "2024-03-26 17:32:14,478 - FireLog - INFO - func:update_gdf took: 37.40 ms\n",
      "2024-03-26 17:32:14,479 - FireLog - INFO - func:Fire_Forward_one_step took: 913.11 ms\n",
      "2024-03-26 17:32:14,480 - FireLog - INFO - --------------------\n",
      "2024-03-26 17:32:14,480 - FireLog - INFO - Fire tracking at [2020, 9, 7, 'PM']\n",
      "2024-03-26 17:32:15,017 - FireLog - INFO - func:Fire_expand_rtree took: 535.31 ms\n",
      "2024-03-26 17:32:15,020 - FireLog - INFO - func:Fire_merge_rtree took: 1.90 ms\n",
      "2024-03-26 17:32:15,020 - FireLog - INFO - fids_expand: 1\n",
      "2024-03-26 17:32:15,021 - FireLog - INFO - fids_new: 0\n",
      "2024-03-26 17:32:15,021 - FireLog - INFO - fids_merged: 0\n",
      "2024-03-26 17:32:15,022 - FireLog - INFO - fids_invalid: 0\n",
      "2024-03-26 17:32:15,049 - FireLog - INFO - func:update_gdf took: 26.48 ms\n",
      "2024-03-26 17:32:15,049 - FireLog - INFO - func:Fire_Forward_one_step took: 569.76 ms\n",
      "2024-03-26 17:32:15,050 - FireLog - INFO - --------------------\n",
      "2024-03-26 17:32:15,050 - FireLog - INFO - Fire tracking at [2020, 9, 8, 'AM']\n",
      "2024-03-26 17:32:16,834 - FireLog - INFO - func:Fire_expand_rtree took: 1.78 sec\n",
      "2024-03-26 17:32:16,837 - FireLog - INFO - func:Fire_merge_rtree took: 2.74 ms\n",
      "2024-03-26 17:32:16,838 - FireLog - INFO - fids_expand: 1\n",
      "2024-03-26 17:32:16,838 - FireLog - INFO - fids_new: 1\n",
      "2024-03-26 17:32:16,839 - FireLog - INFO - fids_merged: 0\n",
      "2024-03-26 17:32:16,839 - FireLog - INFO - fids_invalid: 0\n",
      "2024-03-26 17:32:16,900 - FireLog - INFO - func:update_gdf took: 60.79 ms\n",
      "2024-03-26 17:32:16,901 - FireLog - INFO - func:Fire_Forward_one_step took: 1.85 sec\n",
      "2024-03-26 17:32:16,902 - FireLog - INFO - --------------------\n",
      "2024-03-26 17:32:16,902 - FireLog - INFO - Fire tracking at [2020, 9, 8, 'PM']\n",
      "2024-03-26 17:32:17,631 - FireLog - INFO - func:Fire_expand_rtree took: 727.26 ms\n",
      "2024-03-26 17:32:17,983 - FireLog - INFO - func:Fire_merge_rtree took: 351.06 ms\n",
      "2024-03-26 17:32:17,984 - FireLog - INFO - fids_expand: 1\n",
      "2024-03-26 17:32:17,984 - FireLog - INFO - fids_new: 1\n",
      "2024-03-26 17:32:17,985 - FireLog - INFO - fids_merged: 1\n",
      "2024-03-26 17:32:17,985 - FireLog - INFO - fids_invalid: 1\n",
      "2024-03-26 17:32:18,020 - FireLog - INFO - func:update_gdf took: 34.09 ms\n",
      "2024-03-26 17:32:18,021 - FireLog - INFO - func:Fire_Forward_one_step took: 1.12 sec\n",
      "2024-03-26 17:32:18,021 - FireLog - INFO - func:Fire_Forward took: 12.44 sec\n"
     ]
    }
   ],
   "source": [
    "allfires, allpixels = FireMain.Fire_Forward(tst=tst, ted=ted, sat=\"SNPP\", region=region, read_location=\"local\")"
   ]
  },
  {
   "cell_type": "markdown",
   "id": "7adb3eb7-c0ae-441d-906f-47cad2e52f4c",
   "metadata": {},
   "source": [
    "We can save these files off in case something goes wrong later"
   ]
  },
  {
   "cell_type": "code",
   "execution_count": 17,
   "id": "228d5db2-cfa1-4ba2-9521-d23c6d2e08e3",
   "metadata": {},
   "outputs": [
    {
     "name": "stderr",
     "output_type": "stream",
     "text": [
      "2024-03-26 17:32:36,125 - FireLog - INFO - func:save_allpixels took: 154.77 ms\n",
      "2024-03-26 17:32:36,177 - FireLog - INFO - func:save_allfires_gdf took: 51.20 ms\n"
     ]
    },
    {
     "data": {
      "text/plain": [
       "'data/FEDSoutput-s3-conus/Creek/2020/allfires_20200908_PM.parq'"
      ]
     },
     "execution_count": 17,
     "metadata": {},
     "output_type": "execute_result"
    }
   ],
   "source": [
    "postprocess.save_allpixels(allpixels, tst, ted, region)\n",
    "postprocess.save_allfires_gdf(allfires.gdf, tst, ted, region)"
   ]
  },
  {
   "cell_type": "markdown",
   "id": "2b48478f-189a-455d-b9ca-c323b46054e4",
   "metadata": {},
   "source": [
    "## Write Snapshot files\n",
    "\n",
    "Start by reading in the outputs from the run:"
   ]
  },
  {
   "cell_type": "code",
   "execution_count": 18,
   "id": "8d41cbc8-f2c0-4b03-b9bc-d360a2bdd231",
   "metadata": {},
   "outputs": [
    {
     "name": "stderr",
     "output_type": "stream",
     "text": [
      "2024-03-26 17:32:37,247 - FireLog - INFO - func:read_allpixels took: 27.20 ms\n",
      "2024-03-26 17:32:37,285 - FireLog - INFO - func:read_allfires_gdf took: 36.89 ms\n"
     ]
    }
   ],
   "source": [
    "allpixels = postprocess.read_allpixels(tst, ted, region, location=\"local\")\n",
    "allfires_gdf = postprocess.read_allfires_gdf(tst, ted, region, location=\"local\")"
   ]
  },
  {
   "cell_type": "markdown",
   "id": "e08a1bb9-74fe-4d91-878d-89709f0c9548",
   "metadata": {},
   "source": [
    "Then iterate through all of the ts and save the snapshot layers."
   ]
  },
  {
   "cell_type": "code",
   "execution_count": 19,
   "id": "be5fe52c-793d-4f9a-9bd7-8cf0421daecb",
   "metadata": {},
   "outputs": [
    {
     "name": "stderr",
     "output_type": "stream",
     "text": [
      "2024-03-26 17:32:48,300 - FireLog - INFO - func:save_snapshot_layers took: 431.14 ms\n",
      "2024-03-26 17:32:48,437 - FireLog - INFO - func:save_snapshot_layers took: 133.32 ms\n",
      "2024-03-26 17:32:48,606 - FireLog - INFO - func:save_snapshot_layers took: 165.06 ms\n",
      "2024-03-26 17:32:48,768 - FireLog - INFO - func:save_snapshot_layers took: 159.86 ms\n",
      "2024-03-26 17:32:48,921 - FireLog - INFO - func:save_snapshot_layers took: 149.10 ms\n",
      "2024-03-26 17:32:49,055 - FireLog - INFO - func:save_snapshot_layers took: 131.61 ms\n",
      "2024-03-26 17:32:49,230 - FireLog - INFO - func:save_snapshot_layers took: 172.76 ms\n",
      "2024-03-26 17:32:49,373 - FireLog - INFO - func:save_snapshot_layers took: 138.92 ms\n",
      "2024-03-26 17:32:49,374 - FireLog - INFO - func:save_snapshots took: 1.51 sec\n"
     ]
    },
    {
     "name": "stdout",
     "output_type": "stream",
     "text": [
      "CPU times: user 898 ms, sys: 18.3 ms, total: 916 ms\n",
      "Wall time: 1.51 s\n"
     ]
    }
   ],
   "source": [
    "%%time\n",
    "postprocess.save_snapshots(allfires_gdf, region, tst, ted)"
   ]
  },
  {
   "cell_type": "markdown",
   "id": "a81ffd2d-ed4b-498e-b45e-127f7c5fd594",
   "metadata": {},
   "source": [
    "## Write Largefire files\n",
    "\n",
    "First we will find all the large fires:"
   ]
  },
  {
   "cell_type": "code",
   "execution_count": 20,
   "id": "130838af-f05c-48fe-b52f-1e8d0a5d6747",
   "metadata": {},
   "outputs": [
    {
     "name": "stderr",
     "output_type": "stream",
     "text": [
      "2024-03-26 17:32:55,210 - FireLog - INFO - func:find_largefires took: 4.16 ms\n"
     ]
    }
   ],
   "source": [
    "large_fires = postprocess.find_largefires(allfires_gdf)"
   ]
  },
  {
   "cell_type": "markdown",
   "id": "cba1c376-8745-4805-8939-88bc146bb532",
   "metadata": {},
   "source": [
    "In this case there is only one since we set the region and time specifically to look at th Creek Fire"
   ]
  },
  {
   "cell_type": "code",
   "execution_count": 21,
   "id": "11dd1e08-eb77-4f80-9b78-9af19ce6f53b",
   "metadata": {},
   "outputs": [
    {
     "data": {
      "text/plain": [
       "array([1])"
      ]
     },
     "execution_count": 21,
     "metadata": {},
     "output_type": "execute_result"
    }
   ],
   "source": [
    "large_fires"
   ]
  },
  {
   "cell_type": "markdown",
   "id": "ceab6685-4dec-4ad6-9e0a-31f69db864cd",
   "metadata": {},
   "source": [
    "First we'll use the `allpixels` object to create the `nplist` layer"
   ]
  },
  {
   "cell_type": "code",
   "execution_count": 23,
   "id": "0718c1ae-99f2-4edd-9e89-a101279e3515",
   "metadata": {},
   "outputs": [
    {
     "name": "stderr",
     "output_type": "stream",
     "text": [
      "2024-03-26 17:33:40,378 - FireLog - INFO - func:save_fire_nplist took: 698.67 ms\n",
      "2024-03-26 17:33:40,379 - FireLog - INFO - func:save_large_fires_nplist took: 702.14 ms\n"
     ]
    },
    {
     "name": "stdout",
     "output_type": "stream",
     "text": [
      "CPU times: user 594 ms, sys: 110 µs, total: 594 ms\n",
      "Wall time: 703 ms\n"
     ]
    }
   ],
   "source": [
    "%%time\n",
    "postprocess.save_large_fires_nplist(allpixels, region, large_fires, tst)"
   ]
  },
  {
   "cell_type": "markdown",
   "id": "308bd400-ae4e-40aa-86b0-8f0986d34062",
   "metadata": {},
   "source": [
    "The rest of the layers will be created directly from the `allfires_gdf` and have some merge handling"
   ]
  },
  {
   "cell_type": "code",
   "execution_count": 24,
   "id": "09f77f34-e642-4de7-872c-3ba8b7d9a4c3",
   "metadata": {},
   "outputs": [
    {
     "name": "stderr",
     "output_type": "stream",
     "text": [
      "2024-03-26 17:33:41,190 - FireLog - INFO - func:merge_rows took: 14.44 ms\n"
     ]
    },
    {
     "name": "stdout",
     "output_type": "stream",
     "text": [
      "1 rows that potentially need a merge\n"
     ]
    },
    {
     "name": "stderr",
     "output_type": "stream",
     "text": [
      "2024-03-26 17:33:41,509 - FireLog - INFO - func:save_fire_layers took: 317.06 ms\n",
      "2024-03-26 17:33:41,510 - FireLog - INFO - func:save_large_fires_layers took: 339.10 ms\n"
     ]
    },
    {
     "name": "stdout",
     "output_type": "stream",
     "text": [
      "CPU times: user 246 ms, sys: 42.8 ms, total: 289 ms\n",
      "Wall time: 340 ms\n"
     ]
    }
   ],
   "source": [
    "%%time\n",
    "postprocess.save_large_fires_layers(allfires_gdf, region, large_fires, tst)"
   ]
  },
  {
   "cell_type": "code",
   "execution_count": null,
   "id": "1513e299-e5a7-4d69-87a1-67673c3d4811",
   "metadata": {},
   "outputs": [],
   "source": []
  }
 ],
 "metadata": {
  "kernelspec": {
   "display_name": "Python 3 (ipykernel)",
   "language": "python",
   "name": "python3"
  },
  "language_info": {
   "codemirror_mode": {
    "name": "ipython",
    "version": 3
   },
   "file_extension": ".py",
   "mimetype": "text/x-python",
   "name": "python",
   "nbconvert_exporter": "python",
   "pygments_lexer": "ipython3",
   "version": "3.11.8"
  }
 },
 "nbformat": 4,
 "nbformat_minor": 5
}
