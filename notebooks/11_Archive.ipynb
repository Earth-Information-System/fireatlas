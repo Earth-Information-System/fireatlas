{
 "cells": [
  {
   "cell_type": "markdown",
   "id": "d456dddd-f97c-40f6-8207-7298d09a8671",
   "metadata": {},
   "source": [
    "## Archive\n",
    "\n",
    "This notebook looks at a particular historical fire and generates all the output."
   ]
  },
  {
   "cell_type": "code",
   "execution_count": null,
   "id": "5fec613c-0aab-45fe-a587-7f89970d08ce",
   "metadata": {
    "tags": []
   },
   "outputs": [],
   "source": [
    "# If you haven't installed the fireatlas code yet, uncomment the following line and run this cell.\n",
    "\n",
    "# !pip install -e .. -q\n",
    "\n",
    "# After this runs, restart the notebook kernel."
   ]
  },
  {
   "cell_type": "code",
   "execution_count": null,
   "id": "bcc595d6-8e98-4108-8770-c6c904aea3f7",
   "metadata": {
    "tags": []
   },
   "outputs": [],
   "source": [
    "import datetime\n",
    "import pandas as pd\n",
    "import geopandas as gpd\n",
    "\n",
    "from fireatlas import FireMain, FireTime, FireObj, postprocess, preprocess\n",
    "from fireatlas.utils import timed\n",
    "\n",
    "tst = [2020, 9, 5, \"AM\"]\n",
    "ted = [2020, 9, 8, \"PM\"]\n",
    "region = (\"Creek\", [-119.5, 36.8, -118.9, 37.7])\n",
    "\n",
    "list_of_ts = list(FireTime.t_generator(tst, ted))"
   ]
  },
  {
   "cell_type": "markdown",
   "id": "5e54a2d4-b41b-4d53-a4ba-7a41f02799f5",
   "metadata": {},
   "source": [
    "## Preprocess the region\n",
    "\n",
    "Preprocess the region to get rid of static flare sources. Save that new \"swiss cheese\" shape off into a geojson file for later."
   ]
  },
  {
   "cell_type": "code",
   "execution_count": null,
   "id": "1a3c495d-66fa-458f-8afb-01e982b0709a",
   "metadata": {
    "tags": []
   },
   "outputs": [],
   "source": [
    "preprocess.preprocess_region(region)"
   ]
  },
  {
   "cell_type": "markdown",
   "id": "16bd857f-f57a-4fc3-9e49-2c9536c97019",
   "metadata": {},
   "source": [
    "## Are preprocessed input files available?\n",
    "\n",
    "Check to see if all the files that we need have already been processed and are available on s3.\n",
    "\n",
    "Note: \"NOAA20\" files for this time period are not in the input folder so we will only use \"SNPP\". Another way to do this\n",
    "for DPS jobs is to override the `FIRE_SOURCE` constant. You can export an os environment \n",
    "variable called `FEDS_FIRE_SOURCE='VIIRS'` or `FEDS_FIRE_SOURCE='SNPP'`"
   ]
  },
  {
   "cell_type": "code",
   "execution_count": null,
   "id": "8451d5d6-05b0-4393-a850-70758cd365db",
   "metadata": {
    "tags": []
   },
   "outputs": [],
   "source": [
    "ts_that_need_preprocessing = preprocess.check_preprocessed_file(tst, ted, sat=\"SNPP\", freq=\"monthly\", location=\"s3\")"
   ]
  },
  {
   "cell_type": "code",
   "execution_count": null,
   "id": "ba10e2b4-a8a1-4f26-943e-0779b140c4ee",
   "metadata": {
    "tags": []
   },
   "outputs": [],
   "source": [
    "assert len(ts_that_need_preprocessing) == 1, \"There is one monthly file that is not preprocessed on s3\""
   ]
  },
  {
   "cell_type": "markdown",
   "id": "9e0a94fb-5b43-41f4-9950-d54eaf4d93c4",
   "metadata": {},
   "source": [
    "Since there is one file that needs processing, let's process that and then we can read from local."
   ]
  },
  {
   "cell_type": "code",
   "execution_count": null,
   "id": "4143909e-0357-4a58-8d5f-21aab6abc380",
   "metadata": {
    "tags": []
   },
   "outputs": [],
   "source": [
    "for t in ts_that_need_preprocessing:\n",
    "    preprocess.preprocess_monthly_file(t, \"SNPP\")"
   ]
  },
  {
   "cell_type": "markdown",
   "id": "73f9065d-3519-4673-98e5-3afd0e29ab80",
   "metadata": {},
   "source": [
    "## Preprocess for region and t\n",
    "\n",
    "Do initial filtering and clustering using the preprocessed region (from local) and the half day files (also from local)."
   ]
  },
  {
   "cell_type": "code",
   "execution_count": null,
   "id": "5ed3b8b4-7330-48e4-a3ff-4ca4d56add2c",
   "metadata": {
    "editable": true,
    "scrolled": true,
    "slideshow": {
     "slide_type": ""
    },
    "tags": []
   },
   "outputs": [],
   "source": [
    "%%time\n",
    "for t in list_of_ts:\n",
    "    preprocess.preprocess_region_t(t, region=region, read_location=\"local\")"
   ]
  },
  {
   "cell_type": "markdown",
   "id": "f14a2dc9-e4ba-46ea-9e35-fca95f4514b0",
   "metadata": {},
   "source": [
    "## Run the fire expansion and merging algorithm\n",
    "\n",
    "Now that we have all the region-specific preprocessed fires, we can go ahead and run `Fire_Forward`."
   ]
  },
  {
   "cell_type": "code",
   "execution_count": null,
   "id": "f9177ca7-7ddb-4472-97a2-054467bf86f0",
   "metadata": {
    "scrolled": true,
    "tags": []
   },
   "outputs": [],
   "source": [
    "FireMain.Fire_Forward(tst=tst, ted=ted, region=region, read_location=\"local\")"
   ]
  },
  {
   "cell_type": "markdown",
   "id": "2b48478f-189a-455d-b9ca-c323b46054e4",
   "metadata": {},
   "source": [
    "## Write Snapshot files\n",
    "\n",
    "Start by reading in the outputs from the run:"
   ]
  },
  {
   "cell_type": "code",
   "execution_count": null,
   "id": "8d41cbc8-f2c0-4b03-b9bc-d360a2bdd231",
   "metadata": {
    "tags": []
   },
   "outputs": [],
   "source": [
    "allpixels = postprocess.read_allpixels(tst, ted, region, location=\"local\")\n",
    "allfires_gdf = postprocess.read_allfires_gdf(tst, ted, region, location=\"local\")"
   ]
  },
  {
   "cell_type": "markdown",
   "id": "e08a1bb9-74fe-4d91-878d-89709f0c9548",
   "metadata": {},
   "source": [
    "Then iterate through all of the ts and save the snapshot layers."
   ]
  },
  {
   "cell_type": "code",
   "execution_count": null,
   "id": "be5fe52c-793d-4f9a-9bd7-8cf0421daecb",
   "metadata": {
    "tags": []
   },
   "outputs": [],
   "source": [
    "%%time\n",
    "postprocess.save_snapshots(allfires_gdf, region, tst, ted)"
   ]
  },
  {
   "cell_type": "markdown",
   "id": "a81ffd2d-ed4b-498e-b45e-127f7c5fd594",
   "metadata": {},
   "source": [
    "## Write Largefire files\n",
    "\n",
    "First we will find all the large fires:"
   ]
  },
  {
   "cell_type": "code",
   "execution_count": null,
   "id": "130838af-f05c-48fe-b52f-1e8d0a5d6747",
   "metadata": {
    "tags": []
   },
   "outputs": [],
   "source": [
    "large_fires = postprocess.find_largefires(allfires_gdf)"
   ]
  },
  {
   "cell_type": "markdown",
   "id": "cba1c376-8745-4805-8939-88bc146bb532",
   "metadata": {},
   "source": [
    "In this case there is only one since we set the region and time specifically to look at th Creek Fire"
   ]
  },
  {
   "cell_type": "code",
   "execution_count": null,
   "id": "11dd1e08-eb77-4f80-9b78-9af19ce6f53b",
   "metadata": {
    "tags": []
   },
   "outputs": [],
   "source": [
    "large_fires"
   ]
  },
  {
   "cell_type": "markdown",
   "id": "ceab6685-4dec-4ad6-9e0a-31f69db864cd",
   "metadata": {},
   "source": [
    "First we'll use the `allpixels` object to create the `nplist` layer"
   ]
  },
  {
   "cell_type": "code",
   "execution_count": null,
   "id": "0718c1ae-99f2-4edd-9e89-a101279e3515",
   "metadata": {
    "tags": []
   },
   "outputs": [],
   "source": [
    "%%time\n",
    "postprocess.save_large_fires_nplist(allpixels, region, large_fires, tst)"
   ]
  },
  {
   "cell_type": "markdown",
   "id": "308bd400-ae4e-40aa-86b0-8f0986d34062",
   "metadata": {},
   "source": [
    "The rest of the layers will be created directly from the `allfires_gdf` and have some merge handling"
   ]
  },
  {
   "cell_type": "code",
   "execution_count": null,
   "id": "09f77f34-e642-4de7-872c-3ba8b7d9a4c3",
   "metadata": {
    "tags": []
   },
   "outputs": [],
   "source": [
    "%%time\n",
    "postprocess.save_large_fires_layers(allfires_gdf, region, large_fires, tst)"
   ]
  }
 ],
 "metadata": {
  "kernelspec": {
   "display_name": "Python 3 (ipykernel)",
   "language": "python",
   "name": "python3"
  },
  "language_info": {
   "codemirror_mode": {
    "name": "ipython",
    "version": 3
   },
   "file_extension": ".py",
   "mimetype": "text/x-python",
   "name": "python",
   "nbconvert_exporter": "python",
   "pygments_lexer": "ipython3",
   "version": "3.10.13"
  }
 },
 "nbformat": 4,
 "nbformat_minor": 5
}