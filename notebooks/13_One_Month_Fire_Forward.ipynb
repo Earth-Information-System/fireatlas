{
 "cells": [
  {
   "cell_type": "markdown",
   "id": "23082e31-7288-4835-ae80-aafb5d242e50",
   "metadata": {},
   "source": [
    "local_filename = preprocess.preprocess_region_t(t, sensor=\"VIIRS\", region=region)## One Month Fire Forward\n",
    "\n",
    "Given that you already have all the preprocessed_region_t files on s3, now read them in and run `Fire_Forward`."
   ]
  },
  {
   "cell_type": "code",
   "execution_count": null,
   "id": "3d271a54-50a6-4e2f-b969-e60ea1de3364",
   "metadata": {},
   "outputs": [],
   "source": [
    "# If you haven't installed the fireatlas code yet, uncomment the following line and run this cell.\n",
    "\n",
    "# !pip install -e .. -q\n",
    "\n",
    "# After this runs, restart the notebook kernel."
   ]
  },
  {
   "cell_type": "code",
   "execution_count": 1,
   "id": "87a90174-7d52-478d-a80a-2f9733f08c67",
   "metadata": {
    "tags": []
   },
   "outputs": [
    {
     "name": "stderr",
     "output_type": "stream",
     "text": [
      "2024-04-03 09:57:21,460 - fireatlas.FireLog - INFO - logger initialized!\n"
     ]
    }
   ],
   "source": [
    "import s3fs\n",
    "from fireatlas import postprocess, FireMain, FireIO\n",
    "\n",
    "tst = [2023, 1, 1, 'AM']\n",
    "ted = [2023, 2, 1, 'AM']\n",
    "region = ('WesternUS',[-125.698046875,31.676476158707615,\n",
    "                       -101.00078125,49.51429477264348])"
   ]
  },
  {
   "cell_type": "markdown",
   "id": "89a7fea2-151b-4b45-a84d-1e6445b8a533",
   "metadata": {},
   "source": [
    "This is how you run `Fire_Forward` for many timesteps. \n",
    "\n",
    "Beware: even a month for a large area like this will take a long time (up to a few hours)"
   ]
  },
  {
   "cell_type": "code",
   "execution_count": 2,
   "id": "07ada231-672f-4677-929e-62d595dc3372",
   "metadata": {
    "scrolled": true,
    "tags": []
   },
   "outputs": [
    {
     "name": "stderr",
     "output_type": "stream",
     "text": [
      "2024-04-03 08:00:19,103 - fireatlas.FireLog - INFO - func:read_preprocessed took: 1.26 sec\n",
      "2024-04-03 08:00:19,157 - fireatlas.FireLog - INFO - func:read_preprocessed took: 53.19 ms\n",
      "2024-04-03 08:00:19,227 - fireatlas.FireLog - INFO - func:read_preprocessed took: 69.16 ms\n",
      "2024-04-03 08:00:19,276 - fireatlas.FireLog - INFO - func:read_preprocessed took: 48.71 ms\n",
      "2024-04-03 08:00:19,319 - fireatlas.FireLog - INFO - func:read_preprocessed took: 41.93 ms\n",
      "2024-04-03 08:00:19,362 - fireatlas.FireLog - INFO - func:read_preprocessed took: 43.05 ms\n",
      "2024-04-03 08:00:19,411 - fireatlas.FireLog - INFO - func:read_preprocessed took: 48.25 ms\n",
      "2024-04-03 08:00:19,449 - fireatlas.FireLog - INFO - func:read_preprocessed took: 37.41 ms\n",
      "2024-04-03 08:00:19,498 - fireatlas.FireLog - INFO - func:read_preprocessed took: 48.42 ms\n",
      "2024-04-03 08:00:19,544 - fireatlas.FireLog - INFO - func:read_preprocessed took: 44.88 ms\n",
      "2024-04-03 08:00:19,598 - fireatlas.FireLog - INFO - func:read_preprocessed took: 53.87 ms\n",
      "2024-04-03 08:00:19,644 - fireatlas.FireLog - INFO - func:read_preprocessed took: 45.19 ms\n",
      "2024-04-03 08:00:19,696 - fireatlas.FireLog - INFO - func:read_preprocessed took: 50.80 ms\n",
      "2024-04-03 08:00:19,759 - fireatlas.FireLog - INFO - func:read_preprocessed took: 63.28 ms\n",
      "2024-04-03 08:00:19,819 - fireatlas.FireLog - INFO - func:read_preprocessed took: 59.46 ms\n",
      "2024-04-03 08:00:19,872 - fireatlas.FireLog - INFO - func:read_preprocessed took: 51.67 ms\n",
      "2024-04-03 08:00:19,923 - fireatlas.FireLog - INFO - func:read_preprocessed took: 50.60 ms\n",
      "2024-04-03 08:00:19,971 - fireatlas.FireLog - INFO - func:read_preprocessed took: 46.95 ms\n",
      "2024-04-03 08:00:20,033 - fireatlas.FireLog - INFO - func:read_preprocessed took: 61.96 ms\n",
      "2024-04-03 08:00:20,095 - fireatlas.FireLog - INFO - func:read_preprocessed took: 61.14 ms\n",
      "2024-04-03 08:00:20,150 - fireatlas.FireLog - INFO - func:read_preprocessed took: 54.58 ms\n",
      "2024-04-03 08:00:20,215 - fireatlas.FireLog - INFO - func:read_preprocessed took: 64.88 ms\n",
      "2024-04-03 08:00:20,295 - fireatlas.FireLog - INFO - func:read_preprocessed took: 78.85 ms\n",
      "2024-04-03 08:00:20,365 - fireatlas.FireLog - INFO - func:read_preprocessed took: 69.38 ms\n",
      "2024-04-03 08:00:20,412 - fireatlas.FireLog - INFO - func:read_preprocessed took: 46.40 ms\n",
      "2024-04-03 08:00:20,493 - fireatlas.FireLog - INFO - func:read_preprocessed took: 80.49 ms\n",
      "2024-04-03 08:00:20,537 - fireatlas.FireLog - INFO - func:read_preprocessed took: 42.59 ms\n",
      "2024-04-03 08:00:20,607 - fireatlas.FireLog - INFO - func:read_preprocessed took: 69.96 ms\n",
      "2024-04-03 08:00:20,667 - fireatlas.FireLog - INFO - func:read_preprocessed took: 58.92 ms\n",
      "2024-04-03 08:00:20,687 - fireatlas.FireLog - INFO - func:read_allpixels took: 16.12 ms\n",
      "2024-04-03 08:00:20,752 - fireatlas.FireLog - INFO - func:read_allfires_gdf took: 54.99 ms\n",
      "2024-04-03 08:00:21,347 - fireatlas.FireLog - INFO - func:rehydrate took: 649.23 ms\n",
      "2024-04-03 08:00:21,347 - fireatlas.FireLog - INFO - --------------------\n",
      "2024-04-03 08:00:21,348 - fireatlas.FireLog - INFO - Fire tracking at [2023, 1, 18, 'AM']\n",
      "2024-04-03 08:00:58,426 - fireatlas.FireLog - INFO - func:Fire_expand_rtree took: 37.08 sec\n",
      "2024-04-03 08:01:05,832 - fireatlas.FireLog - INFO - func:Fire_merge_rtree took: 7.40 sec\n",
      "2024-04-03 08:01:05,832 - fireatlas.FireLog - INFO - fids_expand: 20\n",
      "2024-04-03 08:01:05,833 - fireatlas.FireLog - INFO - fids_new: 14\n",
      "2024-04-03 08:01:05,834 - fireatlas.FireLog - INFO - fids_merged: 5\n",
      "2024-04-03 08:01:05,834 - fireatlas.FireLog - INFO - fids_invalid: 7\n",
      "2024-04-03 08:01:06,170 - fireatlas.FireLog - INFO - func:update_gdf took: 334.79 ms\n",
      "2024-04-03 08:01:06,170 - fireatlas.FireLog - INFO - func:Fire_Forward_one_step took: 44.82 sec\n",
      "2024-04-03 08:01:06,227 - fireatlas.FireLog - INFO - func:save_allpixels took: 56.38 ms\n",
      "2024-04-03 08:01:06,313 - fireatlas.FireLog - INFO - func:save_allfires_gdf took: 85.47 ms\n",
      "2024-04-03 08:01:06,314 - fireatlas.FireLog - INFO - --------------------\n",
      "2024-04-03 08:01:06,315 - fireatlas.FireLog - INFO - Fire tracking at [2023, 1, 18, 'PM']\n",
      "2024-04-03 08:01:21,555 - fireatlas.FireLog - INFO - func:Fire_expand_rtree took: 15.24 sec\n",
      "2024-04-03 08:01:21,598 - fireatlas.FireLog - INFO - func:Fire_merge_rtree took: 41.65 ms\n",
      "2024-04-03 08:01:21,599 - fireatlas.FireLog - INFO - fids_expand: 3\n",
      "2024-04-03 08:01:21,599 - fireatlas.FireLog - INFO - fids_new: 11\n",
      "2024-04-03 08:01:21,600 - fireatlas.FireLog - INFO - fids_merged: 0\n",
      "2024-04-03 08:01:21,601 - fireatlas.FireLog - INFO - fids_invalid: 0\n",
      "2024-04-03 08:01:21,729 - fireatlas.FireLog - INFO - func:update_gdf took: 128.10 ms\n",
      "2024-04-03 08:01:21,730 - fireatlas.FireLog - INFO - func:Fire_Forward_one_step took: 15.42 sec\n",
      "2024-04-03 08:01:21,786 - fireatlas.FireLog - INFO - func:save_allpixels took: 54.99 ms\n",
      "2024-04-03 08:01:21,874 - fireatlas.FireLog - INFO - func:save_allfires_gdf took: 87.88 ms\n",
      "2024-04-03 08:01:21,875 - fireatlas.FireLog - INFO - --------------------\n",
      "2024-04-03 08:01:21,876 - fireatlas.FireLog - INFO - Fire tracking at [2023, 1, 19, 'AM']\n",
      "2024-04-03 08:02:36,595 - fireatlas.FireLog - INFO - func:Fire_expand_rtree took: 1.25 min\n",
      "2024-04-03 08:02:51,350 - fireatlas.FireLog - INFO - func:Fire_merge_rtree took: 14.75 sec\n",
      "2024-04-03 08:02:51,351 - fireatlas.FireLog - INFO - fids_expand: 30\n",
      "2024-04-03 08:02:51,351 - fireatlas.FireLog - INFO - fids_new: 40\n",
      "2024-04-03 08:02:51,352 - fireatlas.FireLog - INFO - fids_merged: 14\n",
      "2024-04-03 08:02:51,352 - fireatlas.FireLog - INFO - fids_invalid: 14\n",
      "2024-04-03 08:02:52,047 - fireatlas.FireLog - INFO - func:update_gdf took: 693.96 ms\n",
      "2024-04-03 08:02:52,048 - fireatlas.FireLog - INFO - func:Fire_Forward_one_step took: 1.50 min\n",
      "2024-04-03 08:02:52,105 - fireatlas.FireLog - INFO - func:save_allpixels took: 56.63 ms\n",
      "2024-04-03 08:02:52,197 - fireatlas.FireLog - INFO - func:save_allfires_gdf took: 91.18 ms\n",
      "2024-04-03 08:02:52,198 - fireatlas.FireLog - INFO - --------------------\n",
      "2024-04-03 08:02:52,198 - fireatlas.FireLog - INFO - Fire tracking at [2023, 1, 19, 'PM']\n",
      "2024-04-03 08:03:20,308 - fireatlas.FireLog - INFO - func:Fire_expand_rtree took: 28.11 sec\n",
      "2024-04-03 08:03:22,581 - fireatlas.FireLog - INFO - func:Fire_merge_rtree took: 2.27 sec\n",
      "2024-04-03 08:03:22,582 - fireatlas.FireLog - INFO - fids_expand: 10\n",
      "2024-04-03 08:03:22,582 - fireatlas.FireLog - INFO - fids_new: 16\n",
      "2024-04-03 08:03:22,583 - fireatlas.FireLog - INFO - fids_merged: 2\n",
      "2024-04-03 08:03:22,584 - fireatlas.FireLog - INFO - fids_invalid: 2\n",
      "2024-04-03 08:03:22,846 - fireatlas.FireLog - INFO - func:update_gdf took: 261.73 ms\n",
      "2024-04-03 08:03:22,847 - fireatlas.FireLog - INFO - func:Fire_Forward_one_step took: 30.65 sec\n",
      "2024-04-03 08:03:22,908 - fireatlas.FireLog - INFO - func:save_allpixels took: 60.20 ms\n",
      "2024-04-03 08:03:23,005 - fireatlas.FireLog - INFO - func:save_allfires_gdf took: 96.41 ms\n",
      "2024-04-03 08:03:23,006 - fireatlas.FireLog - INFO - --------------------\n",
      "2024-04-03 08:03:23,006 - fireatlas.FireLog - INFO - Fire tracking at [2023, 1, 20, 'AM']\n"
     ]
    },
    {
     "ename": "KeyboardInterrupt",
     "evalue": "",
     "output_type": "error",
     "traceback": [
      "\u001b[0;31m---------------------------------------------------------------------------\u001b[0m",
      "\u001b[0;31mKeyboardInterrupt\u001b[0m                         Traceback (most recent call last)",
      "File \u001b[0;32m<timed exec>:1\u001b[0m\n",
      "File \u001b[0;32m~/fireatlas_nrt/fireatlas/utils.py:14\u001b[0m, in \u001b[0;36mtimed.<locals>.wrap\u001b[0;34m(*args, **kwargs)\u001b[0m\n\u001b[1;32m     11\u001b[0m t_start \u001b[38;5;241m=\u001b[39m time()\n\u001b[1;32m     13\u001b[0m \u001b[38;5;66;03m# run the function\u001b[39;00m\n\u001b[0;32m---> 14\u001b[0m result \u001b[38;5;241m=\u001b[39m \u001b[43mf\u001b[49m\u001b[43m(\u001b[49m\u001b[38;5;241;43m*\u001b[39;49m\u001b[43margs\u001b[49m\u001b[43m,\u001b[49m\u001b[43m \u001b[49m\u001b[38;5;241;43m*\u001b[39;49m\u001b[38;5;241;43m*\u001b[39;49m\u001b[43mkwargs\u001b[49m\u001b[43m)\u001b[49m\n\u001b[1;32m     16\u001b[0m \u001b[38;5;66;03m# capture the end time\u001b[39;00m\n\u001b[1;32m     17\u001b[0m t_end \u001b[38;5;241m=\u001b[39m time()\n",
      "File \u001b[0;32m~/fireatlas_nrt/fireatlas/FireMain.py:596\u001b[0m, in \u001b[0;36mFire_Forward\u001b[0;34m(tst, ted, sat, restart, region, read_location, read_saved_location)\u001b[0m\n\u001b[1;32m    594\u001b[0m \u001b[38;5;66;03m# loop over every t during the period, mutate allfires, allpixels, save\u001b[39;00m\n\u001b[1;32m    595\u001b[0m \u001b[38;5;28;01mfor\u001b[39;00m t \u001b[38;5;129;01min\u001b[39;00m list_of_ts:\n\u001b[0;32m--> 596\u001b[0m     allfires \u001b[38;5;241m=\u001b[39m \u001b[43mFire_Forward_one_step\u001b[49m\u001b[43m(\u001b[49m\u001b[43mallfires\u001b[49m\u001b[43m,\u001b[49m\u001b[43m \u001b[49m\u001b[43mallpixels\u001b[49m\u001b[43m,\u001b[49m\u001b[43m \u001b[49m\u001b[43mt\u001b[49m\u001b[43m,\u001b[49m\u001b[43m \u001b[49m\u001b[43mregion\u001b[49m\u001b[43m)\u001b[49m\n\u001b[1;32m    597\u001b[0m     \u001b[38;5;66;03m# save allpixels and allfires locally for up to t\u001b[39;00m\n\u001b[1;32m    598\u001b[0m     save_allpixels(allpixels, tst, t, region)\n",
      "File \u001b[0;32m~/fireatlas_nrt/fireatlas/utils.py:14\u001b[0m, in \u001b[0;36mtimed.<locals>.wrap\u001b[0;34m(*args, **kwargs)\u001b[0m\n\u001b[1;32m     11\u001b[0m t_start \u001b[38;5;241m=\u001b[39m time()\n\u001b[1;32m     13\u001b[0m \u001b[38;5;66;03m# run the function\u001b[39;00m\n\u001b[0;32m---> 14\u001b[0m result \u001b[38;5;241m=\u001b[39m \u001b[43mf\u001b[49m\u001b[43m(\u001b[49m\u001b[38;5;241;43m*\u001b[39;49m\u001b[43margs\u001b[49m\u001b[43m,\u001b[49m\u001b[43m \u001b[49m\u001b[38;5;241;43m*\u001b[39;49m\u001b[38;5;241;43m*\u001b[39;49m\u001b[43mkwargs\u001b[49m\u001b[43m)\u001b[49m\n\u001b[1;32m     16\u001b[0m \u001b[38;5;66;03m# capture the end time\u001b[39;00m\n\u001b[1;32m     17\u001b[0m t_end \u001b[38;5;241m=\u001b[39m time()\n",
      "File \u001b[0;32m~/fireatlas_nrt/fireatlas/FireMain.py:470\u001b[0m, in \u001b[0;36mFire_Forward_one_step\u001b[0;34m(allfires, allpixels, t, region)\u001b[0m\n\u001b[1;32m    467\u001b[0m \u001b[38;5;66;03m# 4.5. if active fire pixels are detected, do fire expansion/merging\u001b[39;00m\n\u001b[1;32m    468\u001b[0m \u001b[38;5;28;01mif\u001b[39;00m \u001b[38;5;28mlen\u001b[39m(tpixels) \u001b[38;5;241m>\u001b[39m \u001b[38;5;241m0\u001b[39m:\n\u001b[1;32m    469\u001b[0m     \u001b[38;5;66;03m# 4. do fire expansion/creation using allpixels\u001b[39;00m\n\u001b[0;32m--> 470\u001b[0m     allfires \u001b[38;5;241m=\u001b[39m \u001b[43mFire_expand_rtree\u001b[49m\u001b[43m(\u001b[49m\u001b[43mallfires\u001b[49m\u001b[43m,\u001b[49m\u001b[43m \u001b[49m\u001b[43mallpixels\u001b[49m\u001b[43m,\u001b[49m\u001b[43m \u001b[49m\u001b[43mtpixels\u001b[49m\u001b[43m,\u001b[49m\u001b[43m \u001b[49m\u001b[43mfids_ea\u001b[49m\u001b[43m)\u001b[49m\n\u001b[1;32m    472\u001b[0m     \u001b[38;5;66;03m# 5. do fire merging using updated fids_ne, fid_ea, fid_sleep\u001b[39;00m\n\u001b[1;32m    473\u001b[0m     fids_ne \u001b[38;5;241m=\u001b[39m allfires\u001b[38;5;241m.\u001b[39mfids_ne  \u001b[38;5;66;03m# new or expanded fires id\u001b[39;00m\n",
      "File \u001b[0;32m~/fireatlas_nrt/fireatlas/utils.py:14\u001b[0m, in \u001b[0;36mtimed.<locals>.wrap\u001b[0;34m(*args, **kwargs)\u001b[0m\n\u001b[1;32m     11\u001b[0m t_start \u001b[38;5;241m=\u001b[39m time()\n\u001b[1;32m     13\u001b[0m \u001b[38;5;66;03m# run the function\u001b[39;00m\n\u001b[0;32m---> 14\u001b[0m result \u001b[38;5;241m=\u001b[39m \u001b[43mf\u001b[49m\u001b[43m(\u001b[49m\u001b[38;5;241;43m*\u001b[39;49m\u001b[43margs\u001b[49m\u001b[43m,\u001b[49m\u001b[43m \u001b[49m\u001b[38;5;241;43m*\u001b[39;49m\u001b[38;5;241;43m*\u001b[39;49m\u001b[43mkwargs\u001b[49m\u001b[43m)\u001b[49m\n\u001b[1;32m     16\u001b[0m \u001b[38;5;66;03m# capture the end time\u001b[39;00m\n\u001b[1;32m     17\u001b[0m t_end \u001b[38;5;241m=\u001b[39m time()\n",
      "File \u001b[0;32m~/fireatlas_nrt/fireatlas/FireMain.py:282\u001b[0m, in \u001b[0;36mFire_expand_rtree\u001b[0;34m(allfires, allpixels, tpixels, fids_ea)\u001b[0m\n\u001b[1;32m    279\u001b[0m         f\u001b[38;5;241m.\u001b[39mupdatefline()\n\u001b[1;32m    281\u001b[0m         \u001b[38;5;66;03m# update the fire type\u001b[39;00m\n\u001b[0;32m--> 282\u001b[0m         \u001b[43mf\u001b[49m\u001b[38;5;241;43m.\u001b[39;49m\u001b[43mupdateftype\u001b[49m\u001b[43m(\u001b[49m\u001b[43m)\u001b[49m\n\u001b[1;32m    284\u001b[0m \u001b[38;5;66;03m# remove duplicates and sort the fid_expanded\u001b[39;00m\n\u001b[1;32m    285\u001b[0m fids_expanded \u001b[38;5;241m=\u001b[39m \u001b[38;5;28msorted\u001b[39m(\u001b[38;5;28mset\u001b[39m(fids_expanded))\n",
      "File \u001b[0;32m~/fireatlas_nrt/fireatlas/FireObj.py:675\u001b[0m, in \u001b[0;36mFire.updateftype\u001b[0;34m(self)\u001b[0m\n\u001b[1;32m    671\u001b[0m \u001b[38;5;28;01mdef\u001b[39;00m \u001b[38;5;21mupdateftype\u001b[39m(\u001b[38;5;28mself\u001b[39m):\n\u001b[1;32m    672\u001b[0m \u001b[38;5;250m    \u001b[39m\u001b[38;5;124;03m\"\"\"Update fire type\u001b[39;00m\n\u001b[1;32m    673\u001b[0m \u001b[38;5;124;03m    # do not use ftype as property since it may mess up when t updates (without pixel addition)\u001b[39;00m\n\u001b[1;32m    674\u001b[0m \u001b[38;5;124;03m    \"\"\"\u001b[39;00m\n\u001b[0;32m--> 675\u001b[0m     \u001b[38;5;28mself\u001b[39m\u001b[38;5;241m.\u001b[39mftype \u001b[38;5;241m=\u001b[39m \u001b[43mset_ftype\u001b[49m\u001b[43m(\u001b[49m\u001b[38;5;28;43mself\u001b[39;49m\u001b[43m)\u001b[49m\n",
      "File \u001b[0;32m~/fireatlas_nrt/fireatlas/FireFuncs.py:84\u001b[0m, in \u001b[0;36mset_ftype\u001b[0;34m(fire)\u001b[0m\n\u001b[1;32m     79\u001b[0m     uselocs \u001b[38;5;241m=\u001b[39m fire\u001b[38;5;241m.\u001b[39mnewlocs_geo[\n\u001b[1;32m     80\u001b[0m         np\u001b[38;5;241m.\u001b[39mrandom\u001b[38;5;241m.\u001b[39mchoice(fire\u001b[38;5;241m.\u001b[39mnewlocs_geo\u001b[38;5;241m.\u001b[39mshape[\u001b[38;5;241m0\u001b[39m], \u001b[38;5;241m1000\u001b[39m, replace\u001b[38;5;241m=\u001b[39m\u001b[38;5;28;01mFalse\u001b[39;00m), :\n\u001b[1;32m     81\u001b[0m     ]\n\u001b[1;32m     83\u001b[0m \u001b[38;5;66;03m# get all LCT for the fire pixels\u001b[39;00m\n\u001b[0;32m---> 84\u001b[0m vLCT \u001b[38;5;241m=\u001b[39m \u001b[43mFireIO\u001b[49m\u001b[38;5;241;43m.\u001b[39;49m\u001b[43mget_LCT_CONUS\u001b[49m\u001b[43m(\u001b[49m\u001b[43muselocs\u001b[49m\u001b[43m)\u001b[49m\n\u001b[1;32m     85\u001b[0m \u001b[38;5;28;01mtry\u001b[39;00m:\n\u001b[1;32m     86\u001b[0m     \u001b[38;5;66;03m# extract the LCT with most pixel counts\u001b[39;00m\n\u001b[1;32m     87\u001b[0m     LCTmax \u001b[38;5;241m=\u001b[39m \u001b[38;5;28mmax\u001b[39m(\u001b[38;5;28mset\u001b[39m(vLCT), key\u001b[38;5;241m=\u001b[39mvLCT\u001b[38;5;241m.\u001b[39mcount)\n",
      "File \u001b[0;32m~/fireatlas_nrt/fireatlas/FireIO.py:843\u001b[0m, in \u001b[0;36mget_LCT_CONUS\u001b[0;34m(locs)\u001b[0m\n\u001b[1;32m    841\u001b[0m \u001b[38;5;66;03m# read NLCD 500m data\u001b[39;00m\n\u001b[1;32m    842\u001b[0m fnmLCT \u001b[38;5;241m=\u001b[39m preprocessed_landcover_filename(\u001b[38;5;124m\"\u001b[39m\u001b[38;5;124mnlcd_export_510m_simplified\u001b[39m\u001b[38;5;124m\"\u001b[39m)\n\u001b[0;32m--> 843\u001b[0m dataset \u001b[38;5;241m=\u001b[39m \u001b[43mrasterio\u001b[49m\u001b[38;5;241;43m.\u001b[39;49m\u001b[43mopen\u001b[49m\u001b[43m(\u001b[49m\u001b[43mfnmLCT\u001b[49m\u001b[43m)\u001b[49m\n\u001b[1;32m    844\u001b[0m vLCT \u001b[38;5;241m=\u001b[39m dataset\u001b[38;5;241m.\u001b[39msample(locs, indexes\u001b[38;5;241m=\u001b[39m\u001b[38;5;241m1\u001b[39m)\n\u001b[1;32m    845\u001b[0m vLCT \u001b[38;5;241m=\u001b[39m [lc[\u001b[38;5;241m0\u001b[39m] \u001b[38;5;28;01mfor\u001b[39;00m lc \u001b[38;5;129;01min\u001b[39;00m vLCT]\n",
      "File \u001b[0;32m/opt/conda/envs/pangeo/lib/python3.10/site-packages/rasterio/env.py:445\u001b[0m, in \u001b[0;36mensure_env_with_credentials.<locals>.wrapper\u001b[0;34m(*args, **kwds)\u001b[0m\n\u001b[1;32m    442\u001b[0m     \u001b[38;5;28;01mif\u001b[39;00m local\u001b[38;5;241m.\u001b[39m_env \u001b[38;5;129;01mand\u001b[39;00m session_cls\u001b[38;5;241m.\u001b[39mhascreds(getenv()):\n\u001b[1;32m    443\u001b[0m         session_cls \u001b[38;5;241m=\u001b[39m DummySession\n\u001b[0;32m--> 445\u001b[0m     session \u001b[38;5;241m=\u001b[39m \u001b[43msession_cls\u001b[49m\u001b[43m(\u001b[49m\u001b[43m)\u001b[49m\n\u001b[1;32m    447\u001b[0m \u001b[38;5;28;01melse\u001b[39;00m:\n\u001b[1;32m    448\u001b[0m     session \u001b[38;5;241m=\u001b[39m DummySession()\n",
      "File \u001b[0;32m/opt/conda/envs/pangeo/lib/python3.10/site-packages/rasterio/session.py:294\u001b[0m, in \u001b[0;36mAWSSession.__init__\u001b[0;34m(self, session, aws_unsigned, aws_access_key_id, aws_secret_access_key, aws_session_token, region_name, profile_name, endpoint_url, requester_pays)\u001b[0m\n\u001b[1;32m    291\u001b[0m \u001b[38;5;28mself\u001b[39m\u001b[38;5;241m.\u001b[39munsigned \u001b[38;5;241m=\u001b[39m aws_unsigned\n\u001b[1;32m    292\u001b[0m \u001b[38;5;28mself\u001b[39m\u001b[38;5;241m.\u001b[39mendpoint_url \u001b[38;5;241m=\u001b[39m endpoint_url\n\u001b[1;32m    293\u001b[0m \u001b[38;5;28mself\u001b[39m\u001b[38;5;241m.\u001b[39m_creds \u001b[38;5;241m=\u001b[39m (\n\u001b[0;32m--> 294\u001b[0m     \u001b[38;5;28;43mself\u001b[39;49m\u001b[38;5;241;43m.\u001b[39;49m\u001b[43m_session\u001b[49m\u001b[38;5;241;43m.\u001b[39;49m\u001b[43mget_credentials\u001b[49m\u001b[43m(\u001b[49m\u001b[43m)\u001b[49m\n\u001b[1;32m    295\u001b[0m     \u001b[38;5;28;01mif\u001b[39;00m \u001b[38;5;129;01mnot\u001b[39;00m \u001b[38;5;28mself\u001b[39m\u001b[38;5;241m.\u001b[39munsigned\n\u001b[1;32m    296\u001b[0m     \u001b[38;5;28;01melse\u001b[39;00m \u001b[38;5;28;01mNone\u001b[39;00m\n\u001b[1;32m    297\u001b[0m )\n",
      "File \u001b[0;32m/opt/conda/envs/pangeo/lib/python3.10/site-packages/boto3/session.py:203\u001b[0m, in \u001b[0;36mSession.get_credentials\u001b[0;34m(self)\u001b[0m\n\u001b[1;32m    195\u001b[0m \u001b[38;5;28;01mdef\u001b[39;00m \u001b[38;5;21mget_credentials\u001b[39m(\u001b[38;5;28mself\u001b[39m):\n\u001b[1;32m    196\u001b[0m \u001b[38;5;250m    \u001b[39m\u001b[38;5;124;03m\"\"\"\u001b[39;00m\n\u001b[1;32m    197\u001b[0m \u001b[38;5;124;03m    Return the :class:`botocore.credentials.Credentials` object\u001b[39;00m\n\u001b[1;32m    198\u001b[0m \u001b[38;5;124;03m    associated with this session.  If the credentials have not\u001b[39;00m\n\u001b[0;32m   (...)\u001b[0m\n\u001b[1;32m    201\u001b[0m \u001b[38;5;124;03m    credentials.\u001b[39;00m\n\u001b[1;32m    202\u001b[0m \u001b[38;5;124;03m    \"\"\"\u001b[39;00m\n\u001b[0;32m--> 203\u001b[0m     \u001b[38;5;28;01mreturn\u001b[39;00m \u001b[38;5;28;43mself\u001b[39;49m\u001b[38;5;241;43m.\u001b[39;49m\u001b[43m_session\u001b[49m\u001b[38;5;241;43m.\u001b[39;49m\u001b[43mget_credentials\u001b[49m\u001b[43m(\u001b[49m\u001b[43m)\u001b[49m\n",
      "File \u001b[0;32m/opt/conda/envs/pangeo/lib/python3.10/site-packages/botocore/session.py:515\u001b[0m, in \u001b[0;36mSession.get_credentials\u001b[0;34m(self)\u001b[0m\n\u001b[1;32m    504\u001b[0m \u001b[38;5;250m\u001b[39m\u001b[38;5;124;03m\"\"\"\u001b[39;00m\n\u001b[1;32m    505\u001b[0m \u001b[38;5;124;03mReturn the :class:`botocore.credential.Credential` object\u001b[39;00m\n\u001b[1;32m    506\u001b[0m \u001b[38;5;124;03massociated with this session.  If the credentials have not\u001b[39;00m\n\u001b[0;32m   (...)\u001b[0m\n\u001b[1;32m    510\u001b[0m \n\u001b[1;32m    511\u001b[0m \u001b[38;5;124;03m\"\"\"\u001b[39;00m\n\u001b[1;32m    512\u001b[0m \u001b[38;5;28;01mif\u001b[39;00m \u001b[38;5;28mself\u001b[39m\u001b[38;5;241m.\u001b[39m_credentials \u001b[38;5;129;01mis\u001b[39;00m \u001b[38;5;28;01mNone\u001b[39;00m:\n\u001b[1;32m    513\u001b[0m     \u001b[38;5;28mself\u001b[39m\u001b[38;5;241m.\u001b[39m_credentials \u001b[38;5;241m=\u001b[39m \u001b[38;5;28;43mself\u001b[39;49m\u001b[38;5;241;43m.\u001b[39;49m\u001b[43m_components\u001b[49m\u001b[38;5;241;43m.\u001b[39;49m\u001b[43mget_component\u001b[49m\u001b[43m(\u001b[49m\n\u001b[1;32m    514\u001b[0m \u001b[43m        \u001b[49m\u001b[38;5;124;43m'\u001b[39;49m\u001b[38;5;124;43mcredential_provider\u001b[39;49m\u001b[38;5;124;43m'\u001b[39;49m\n\u001b[0;32m--> 515\u001b[0m \u001b[43m    \u001b[49m\u001b[43m)\u001b[49m\u001b[38;5;241;43m.\u001b[39;49m\u001b[43mload_credentials\u001b[49m\u001b[43m(\u001b[49m\u001b[43m)\u001b[49m\n\u001b[1;32m    516\u001b[0m \u001b[38;5;28;01mreturn\u001b[39;00m \u001b[38;5;28mself\u001b[39m\u001b[38;5;241m.\u001b[39m_credentials\n",
      "File \u001b[0;32m/opt/conda/envs/pangeo/lib/python3.10/site-packages/botocore/credentials.py:2074\u001b[0m, in \u001b[0;36mCredentialResolver.load_credentials\u001b[0;34m(self)\u001b[0m\n\u001b[1;32m   2072\u001b[0m \u001b[38;5;28;01mfor\u001b[39;00m provider \u001b[38;5;129;01min\u001b[39;00m \u001b[38;5;28mself\u001b[39m\u001b[38;5;241m.\u001b[39mproviders:\n\u001b[1;32m   2073\u001b[0m     logger\u001b[38;5;241m.\u001b[39mdebug(\u001b[38;5;124m\"\u001b[39m\u001b[38;5;124mLooking for credentials via: \u001b[39m\u001b[38;5;132;01m%s\u001b[39;00m\u001b[38;5;124m\"\u001b[39m, provider\u001b[38;5;241m.\u001b[39mMETHOD)\n\u001b[0;32m-> 2074\u001b[0m     creds \u001b[38;5;241m=\u001b[39m \u001b[43mprovider\u001b[49m\u001b[38;5;241;43m.\u001b[39;49m\u001b[43mload\u001b[49m\u001b[43m(\u001b[49m\u001b[43m)\u001b[49m\n\u001b[1;32m   2075\u001b[0m     \u001b[38;5;28;01mif\u001b[39;00m creds \u001b[38;5;129;01mis\u001b[39;00m \u001b[38;5;129;01mnot\u001b[39;00m \u001b[38;5;28;01mNone\u001b[39;00m:\n\u001b[1;32m   2076\u001b[0m         \u001b[38;5;28;01mreturn\u001b[39;00m creds\n",
      "File \u001b[0;32m/opt/conda/envs/pangeo/lib/python3.10/site-packages/botocore/credentials.py:1072\u001b[0m, in \u001b[0;36mInstanceMetadataProvider.load\u001b[0;34m(self)\u001b[0m\n\u001b[1;32m   1068\u001b[0m fetcher \u001b[38;5;241m=\u001b[39m \u001b[38;5;28mself\u001b[39m\u001b[38;5;241m.\u001b[39m_role_fetcher\n\u001b[1;32m   1069\u001b[0m \u001b[38;5;66;03m# We do the first request, to see if we get useful data back.\u001b[39;00m\n\u001b[1;32m   1070\u001b[0m \u001b[38;5;66;03m# If not, we'll pass & move on to whatever's next in the credential\u001b[39;00m\n\u001b[1;32m   1071\u001b[0m \u001b[38;5;66;03m# chain.\u001b[39;00m\n\u001b[0;32m-> 1072\u001b[0m metadata \u001b[38;5;241m=\u001b[39m \u001b[43mfetcher\u001b[49m\u001b[38;5;241;43m.\u001b[39;49m\u001b[43mretrieve_iam_role_credentials\u001b[49m\u001b[43m(\u001b[49m\u001b[43m)\u001b[49m\n\u001b[1;32m   1073\u001b[0m \u001b[38;5;28;01mif\u001b[39;00m \u001b[38;5;129;01mnot\u001b[39;00m metadata:\n\u001b[1;32m   1074\u001b[0m     \u001b[38;5;28;01mreturn\u001b[39;00m \u001b[38;5;28;01mNone\u001b[39;00m\n",
      "File \u001b[0;32m/opt/conda/envs/pangeo/lib/python3.10/site-packages/botocore/utils.py:581\u001b[0m, in \u001b[0;36mInstanceMetadataFetcher.retrieve_iam_role_credentials\u001b[0;34m(self)\u001b[0m\n\u001b[1;32m    579\u001b[0m \u001b[38;5;28;01mdef\u001b[39;00m \u001b[38;5;21mretrieve_iam_role_credentials\u001b[39m(\u001b[38;5;28mself\u001b[39m):\n\u001b[1;32m    580\u001b[0m     \u001b[38;5;28;01mtry\u001b[39;00m:\n\u001b[0;32m--> 581\u001b[0m         token \u001b[38;5;241m=\u001b[39m \u001b[38;5;28;43mself\u001b[39;49m\u001b[38;5;241;43m.\u001b[39;49m\u001b[43m_fetch_metadata_token\u001b[49m\u001b[43m(\u001b[49m\u001b[43m)\u001b[49m\n\u001b[1;32m    582\u001b[0m         role_name \u001b[38;5;241m=\u001b[39m \u001b[38;5;28mself\u001b[39m\u001b[38;5;241m.\u001b[39m_get_iam_role(token)\n\u001b[1;32m    583\u001b[0m         credentials \u001b[38;5;241m=\u001b[39m \u001b[38;5;28mself\u001b[39m\u001b[38;5;241m.\u001b[39m_get_credentials(role_name, token)\n",
      "File \u001b[0;32m/opt/conda/envs/pangeo/lib/python3.10/site-packages/botocore/utils.py:460\u001b[0m, in \u001b[0;36mIMDSFetcher._fetch_metadata_token\u001b[0;34m(self)\u001b[0m\n\u001b[1;32m    458\u001b[0m \u001b[38;5;28;01mfor\u001b[39;00m i \u001b[38;5;129;01min\u001b[39;00m \u001b[38;5;28mrange\u001b[39m(\u001b[38;5;28mself\u001b[39m\u001b[38;5;241m.\u001b[39m_num_attempts):\n\u001b[1;32m    459\u001b[0m     \u001b[38;5;28;01mtry\u001b[39;00m:\n\u001b[0;32m--> 460\u001b[0m         response \u001b[38;5;241m=\u001b[39m \u001b[38;5;28;43mself\u001b[39;49m\u001b[38;5;241;43m.\u001b[39;49m\u001b[43m_session\u001b[49m\u001b[38;5;241;43m.\u001b[39;49m\u001b[43msend\u001b[49m\u001b[43m(\u001b[49m\u001b[43mrequest\u001b[49m\u001b[38;5;241;43m.\u001b[39;49m\u001b[43mprepare\u001b[49m\u001b[43m(\u001b[49m\u001b[43m)\u001b[49m\u001b[43m)\u001b[49m\n\u001b[1;32m    461\u001b[0m         \u001b[38;5;28;01mif\u001b[39;00m response\u001b[38;5;241m.\u001b[39mstatus_code \u001b[38;5;241m==\u001b[39m \u001b[38;5;241m200\u001b[39m:\n\u001b[1;32m    462\u001b[0m             \u001b[38;5;28;01mreturn\u001b[39;00m response\u001b[38;5;241m.\u001b[39mtext\n",
      "File \u001b[0;32m/opt/conda/envs/pangeo/lib/python3.10/site-packages/botocore/httpsession.py:464\u001b[0m, in \u001b[0;36mURLLib3Session.send\u001b[0;34m(self, request)\u001b[0m\n\u001b[1;32m    461\u001b[0m     conn\u001b[38;5;241m.\u001b[39mproxy_headers[\u001b[38;5;124m'\u001b[39m\u001b[38;5;124mhost\u001b[39m\u001b[38;5;124m'\u001b[39m] \u001b[38;5;241m=\u001b[39m host\n\u001b[1;32m    463\u001b[0m request_target \u001b[38;5;241m=\u001b[39m \u001b[38;5;28mself\u001b[39m\u001b[38;5;241m.\u001b[39m_get_request_target(request\u001b[38;5;241m.\u001b[39murl, proxy_url)\n\u001b[0;32m--> 464\u001b[0m urllib_response \u001b[38;5;241m=\u001b[39m \u001b[43mconn\u001b[49m\u001b[38;5;241;43m.\u001b[39;49m\u001b[43murlopen\u001b[49m\u001b[43m(\u001b[49m\n\u001b[1;32m    465\u001b[0m \u001b[43m    \u001b[49m\u001b[43mmethod\u001b[49m\u001b[38;5;241;43m=\u001b[39;49m\u001b[43mrequest\u001b[49m\u001b[38;5;241;43m.\u001b[39;49m\u001b[43mmethod\u001b[49m\u001b[43m,\u001b[49m\n\u001b[1;32m    466\u001b[0m \u001b[43m    \u001b[49m\u001b[43murl\u001b[49m\u001b[38;5;241;43m=\u001b[39;49m\u001b[43mrequest_target\u001b[49m\u001b[43m,\u001b[49m\n\u001b[1;32m    467\u001b[0m \u001b[43m    \u001b[49m\u001b[43mbody\u001b[49m\u001b[38;5;241;43m=\u001b[39;49m\u001b[43mrequest\u001b[49m\u001b[38;5;241;43m.\u001b[39;49m\u001b[43mbody\u001b[49m\u001b[43m,\u001b[49m\n\u001b[1;32m    468\u001b[0m \u001b[43m    \u001b[49m\u001b[43mheaders\u001b[49m\u001b[38;5;241;43m=\u001b[39;49m\u001b[43mrequest\u001b[49m\u001b[38;5;241;43m.\u001b[39;49m\u001b[43mheaders\u001b[49m\u001b[43m,\u001b[49m\n\u001b[1;32m    469\u001b[0m \u001b[43m    \u001b[49m\u001b[43mretries\u001b[49m\u001b[38;5;241;43m=\u001b[39;49m\u001b[43mRetry\u001b[49m\u001b[43m(\u001b[49m\u001b[38;5;28;43;01mFalse\u001b[39;49;00m\u001b[43m)\u001b[49m\u001b[43m,\u001b[49m\n\u001b[1;32m    470\u001b[0m \u001b[43m    \u001b[49m\u001b[43massert_same_host\u001b[49m\u001b[38;5;241;43m=\u001b[39;49m\u001b[38;5;28;43;01mFalse\u001b[39;49;00m\u001b[43m,\u001b[49m\n\u001b[1;32m    471\u001b[0m \u001b[43m    \u001b[49m\u001b[43mpreload_content\u001b[49m\u001b[38;5;241;43m=\u001b[39;49m\u001b[38;5;28;43;01mFalse\u001b[39;49;00m\u001b[43m,\u001b[49m\n\u001b[1;32m    472\u001b[0m \u001b[43m    \u001b[49m\u001b[43mdecode_content\u001b[49m\u001b[38;5;241;43m=\u001b[39;49m\u001b[38;5;28;43;01mFalse\u001b[39;49;00m\u001b[43m,\u001b[49m\n\u001b[1;32m    473\u001b[0m \u001b[43m    \u001b[49m\u001b[43mchunked\u001b[49m\u001b[38;5;241;43m=\u001b[39;49m\u001b[38;5;28;43mself\u001b[39;49m\u001b[38;5;241;43m.\u001b[39;49m\u001b[43m_chunked\u001b[49m\u001b[43m(\u001b[49m\u001b[43mrequest\u001b[49m\u001b[38;5;241;43m.\u001b[39;49m\u001b[43mheaders\u001b[49m\u001b[43m)\u001b[49m\u001b[43m,\u001b[49m\n\u001b[1;32m    474\u001b[0m \u001b[43m\u001b[49m\u001b[43m)\u001b[49m\n\u001b[1;32m    476\u001b[0m http_response \u001b[38;5;241m=\u001b[39m botocore\u001b[38;5;241m.\u001b[39mawsrequest\u001b[38;5;241m.\u001b[39mAWSResponse(\n\u001b[1;32m    477\u001b[0m     request\u001b[38;5;241m.\u001b[39murl,\n\u001b[1;32m    478\u001b[0m     urllib_response\u001b[38;5;241m.\u001b[39mstatus,\n\u001b[1;32m    479\u001b[0m     urllib_response\u001b[38;5;241m.\u001b[39mheaders,\n\u001b[1;32m    480\u001b[0m     urllib_response,\n\u001b[1;32m    481\u001b[0m )\n\u001b[1;32m    483\u001b[0m \u001b[38;5;28;01mif\u001b[39;00m \u001b[38;5;129;01mnot\u001b[39;00m request\u001b[38;5;241m.\u001b[39mstream_output:\n\u001b[1;32m    484\u001b[0m     \u001b[38;5;66;03m# Cause the raw stream to be exhausted immediately. We do it\u001b[39;00m\n\u001b[1;32m    485\u001b[0m     \u001b[38;5;66;03m# this way instead of using preload_content because\u001b[39;00m\n\u001b[1;32m    486\u001b[0m     \u001b[38;5;66;03m# preload_content will never buffer chunked responses\u001b[39;00m\n",
      "File \u001b[0;32m/opt/conda/envs/pangeo/lib/python3.10/site-packages/urllib3/connectionpool.py:715\u001b[0m, in \u001b[0;36mHTTPConnectionPool.urlopen\u001b[0;34m(self, method, url, body, headers, retries, redirect, assert_same_host, timeout, pool_timeout, release_conn, chunked, body_pos, **response_kw)\u001b[0m\n\u001b[1;32m    712\u001b[0m     \u001b[38;5;28mself\u001b[39m\u001b[38;5;241m.\u001b[39m_prepare_proxy(conn)\n\u001b[1;32m    714\u001b[0m \u001b[38;5;66;03m# Make the request on the httplib connection object.\u001b[39;00m\n\u001b[0;32m--> 715\u001b[0m httplib_response \u001b[38;5;241m=\u001b[39m \u001b[38;5;28;43mself\u001b[39;49m\u001b[38;5;241;43m.\u001b[39;49m\u001b[43m_make_request\u001b[49m\u001b[43m(\u001b[49m\n\u001b[1;32m    716\u001b[0m \u001b[43m    \u001b[49m\u001b[43mconn\u001b[49m\u001b[43m,\u001b[49m\n\u001b[1;32m    717\u001b[0m \u001b[43m    \u001b[49m\u001b[43mmethod\u001b[49m\u001b[43m,\u001b[49m\n\u001b[1;32m    718\u001b[0m \u001b[43m    \u001b[49m\u001b[43murl\u001b[49m\u001b[43m,\u001b[49m\n\u001b[1;32m    719\u001b[0m \u001b[43m    \u001b[49m\u001b[43mtimeout\u001b[49m\u001b[38;5;241;43m=\u001b[39;49m\u001b[43mtimeout_obj\u001b[49m\u001b[43m,\u001b[49m\n\u001b[1;32m    720\u001b[0m \u001b[43m    \u001b[49m\u001b[43mbody\u001b[49m\u001b[38;5;241;43m=\u001b[39;49m\u001b[43mbody\u001b[49m\u001b[43m,\u001b[49m\n\u001b[1;32m    721\u001b[0m \u001b[43m    \u001b[49m\u001b[43mheaders\u001b[49m\u001b[38;5;241;43m=\u001b[39;49m\u001b[43mheaders\u001b[49m\u001b[43m,\u001b[49m\n\u001b[1;32m    722\u001b[0m \u001b[43m    \u001b[49m\u001b[43mchunked\u001b[49m\u001b[38;5;241;43m=\u001b[39;49m\u001b[43mchunked\u001b[49m\u001b[43m,\u001b[49m\n\u001b[1;32m    723\u001b[0m \u001b[43m\u001b[49m\u001b[43m)\u001b[49m\n\u001b[1;32m    725\u001b[0m \u001b[38;5;66;03m# If we're going to release the connection in ``finally:``, then\u001b[39;00m\n\u001b[1;32m    726\u001b[0m \u001b[38;5;66;03m# the response doesn't need to know about the connection. Otherwise\u001b[39;00m\n\u001b[1;32m    727\u001b[0m \u001b[38;5;66;03m# it will also try to release it and we'll have a double-release\u001b[39;00m\n\u001b[1;32m    728\u001b[0m \u001b[38;5;66;03m# mess.\u001b[39;00m\n\u001b[1;32m    729\u001b[0m response_conn \u001b[38;5;241m=\u001b[39m conn \u001b[38;5;28;01mif\u001b[39;00m \u001b[38;5;129;01mnot\u001b[39;00m release_conn \u001b[38;5;28;01melse\u001b[39;00m \u001b[38;5;28;01mNone\u001b[39;00m\n",
      "File \u001b[0;32m/opt/conda/envs/pangeo/lib/python3.10/site-packages/urllib3/connectionpool.py:467\u001b[0m, in \u001b[0;36mHTTPConnectionPool._make_request\u001b[0;34m(self, conn, method, url, timeout, chunked, **httplib_request_kw)\u001b[0m\n\u001b[1;32m    462\u001b[0m             httplib_response \u001b[38;5;241m=\u001b[39m conn\u001b[38;5;241m.\u001b[39mgetresponse()\n\u001b[1;32m    463\u001b[0m         \u001b[38;5;28;01mexcept\u001b[39;00m \u001b[38;5;167;01mBaseException\u001b[39;00m \u001b[38;5;28;01mas\u001b[39;00m e:\n\u001b[1;32m    464\u001b[0m             \u001b[38;5;66;03m# Remove the TypeError from the exception chain in\u001b[39;00m\n\u001b[1;32m    465\u001b[0m             \u001b[38;5;66;03m# Python 3 (including for exceptions like SystemExit).\u001b[39;00m\n\u001b[1;32m    466\u001b[0m             \u001b[38;5;66;03m# Otherwise it looks like a bug in the code.\u001b[39;00m\n\u001b[0;32m--> 467\u001b[0m             \u001b[43msix\u001b[49m\u001b[38;5;241;43m.\u001b[39;49m\u001b[43mraise_from\u001b[49m\u001b[43m(\u001b[49m\u001b[43me\u001b[49m\u001b[43m,\u001b[49m\u001b[43m \u001b[49m\u001b[38;5;28;43;01mNone\u001b[39;49;00m\u001b[43m)\u001b[49m\n\u001b[1;32m    468\u001b[0m \u001b[38;5;28;01mexcept\u001b[39;00m (SocketTimeout, BaseSSLError, SocketError) \u001b[38;5;28;01mas\u001b[39;00m e:\n\u001b[1;32m    469\u001b[0m     \u001b[38;5;28mself\u001b[39m\u001b[38;5;241m.\u001b[39m_raise_timeout(err\u001b[38;5;241m=\u001b[39me, url\u001b[38;5;241m=\u001b[39murl, timeout_value\u001b[38;5;241m=\u001b[39mread_timeout)\n",
      "File \u001b[0;32m<string>:3\u001b[0m, in \u001b[0;36mraise_from\u001b[0;34m(value, from_value)\u001b[0m\n",
      "File \u001b[0;32m/opt/conda/envs/pangeo/lib/python3.10/site-packages/urllib3/connectionpool.py:462\u001b[0m, in \u001b[0;36mHTTPConnectionPool._make_request\u001b[0;34m(self, conn, method, url, timeout, chunked, **httplib_request_kw)\u001b[0m\n\u001b[1;32m    459\u001b[0m \u001b[38;5;28;01mexcept\u001b[39;00m \u001b[38;5;167;01mTypeError\u001b[39;00m:\n\u001b[1;32m    460\u001b[0m     \u001b[38;5;66;03m# Python 3\u001b[39;00m\n\u001b[1;32m    461\u001b[0m     \u001b[38;5;28;01mtry\u001b[39;00m:\n\u001b[0;32m--> 462\u001b[0m         httplib_response \u001b[38;5;241m=\u001b[39m \u001b[43mconn\u001b[49m\u001b[38;5;241;43m.\u001b[39;49m\u001b[43mgetresponse\u001b[49m\u001b[43m(\u001b[49m\u001b[43m)\u001b[49m\n\u001b[1;32m    463\u001b[0m     \u001b[38;5;28;01mexcept\u001b[39;00m \u001b[38;5;167;01mBaseException\u001b[39;00m \u001b[38;5;28;01mas\u001b[39;00m e:\n\u001b[1;32m    464\u001b[0m         \u001b[38;5;66;03m# Remove the TypeError from the exception chain in\u001b[39;00m\n\u001b[1;32m    465\u001b[0m         \u001b[38;5;66;03m# Python 3 (including for exceptions like SystemExit).\u001b[39;00m\n\u001b[1;32m    466\u001b[0m         \u001b[38;5;66;03m# Otherwise it looks like a bug in the code.\u001b[39;00m\n\u001b[1;32m    467\u001b[0m         six\u001b[38;5;241m.\u001b[39mraise_from(e, \u001b[38;5;28;01mNone\u001b[39;00m)\n",
      "File \u001b[0;32m/opt/conda/envs/pangeo/lib/python3.10/http/client.py:1375\u001b[0m, in \u001b[0;36mHTTPConnection.getresponse\u001b[0;34m(self)\u001b[0m\n\u001b[1;32m   1373\u001b[0m \u001b[38;5;28;01mtry\u001b[39;00m:\n\u001b[1;32m   1374\u001b[0m     \u001b[38;5;28;01mtry\u001b[39;00m:\n\u001b[0;32m-> 1375\u001b[0m         \u001b[43mresponse\u001b[49m\u001b[38;5;241;43m.\u001b[39;49m\u001b[43mbegin\u001b[49m\u001b[43m(\u001b[49m\u001b[43m)\u001b[49m\n\u001b[1;32m   1376\u001b[0m     \u001b[38;5;28;01mexcept\u001b[39;00m \u001b[38;5;167;01mConnectionError\u001b[39;00m:\n\u001b[1;32m   1377\u001b[0m         \u001b[38;5;28mself\u001b[39m\u001b[38;5;241m.\u001b[39mclose()\n",
      "File \u001b[0;32m/opt/conda/envs/pangeo/lib/python3.10/http/client.py:318\u001b[0m, in \u001b[0;36mHTTPResponse.begin\u001b[0;34m(self)\u001b[0m\n\u001b[1;32m    316\u001b[0m \u001b[38;5;66;03m# read until we get a non-100 response\u001b[39;00m\n\u001b[1;32m    317\u001b[0m \u001b[38;5;28;01mwhile\u001b[39;00m \u001b[38;5;28;01mTrue\u001b[39;00m:\n\u001b[0;32m--> 318\u001b[0m     version, status, reason \u001b[38;5;241m=\u001b[39m \u001b[38;5;28;43mself\u001b[39;49m\u001b[38;5;241;43m.\u001b[39;49m\u001b[43m_read_status\u001b[49m\u001b[43m(\u001b[49m\u001b[43m)\u001b[49m\n\u001b[1;32m    319\u001b[0m     \u001b[38;5;28;01mif\u001b[39;00m status \u001b[38;5;241m!=\u001b[39m CONTINUE:\n\u001b[1;32m    320\u001b[0m         \u001b[38;5;28;01mbreak\u001b[39;00m\n",
      "File \u001b[0;32m/opt/conda/envs/pangeo/lib/python3.10/http/client.py:279\u001b[0m, in \u001b[0;36mHTTPResponse._read_status\u001b[0;34m(self)\u001b[0m\n\u001b[1;32m    278\u001b[0m \u001b[38;5;28;01mdef\u001b[39;00m \u001b[38;5;21m_read_status\u001b[39m(\u001b[38;5;28mself\u001b[39m):\n\u001b[0;32m--> 279\u001b[0m     line \u001b[38;5;241m=\u001b[39m \u001b[38;5;28mstr\u001b[39m(\u001b[38;5;28;43mself\u001b[39;49m\u001b[38;5;241;43m.\u001b[39;49m\u001b[43mfp\u001b[49m\u001b[38;5;241;43m.\u001b[39;49m\u001b[43mreadline\u001b[49m\u001b[43m(\u001b[49m\u001b[43m_MAXLINE\u001b[49m\u001b[43m \u001b[49m\u001b[38;5;241;43m+\u001b[39;49m\u001b[43m \u001b[49m\u001b[38;5;241;43m1\u001b[39;49m\u001b[43m)\u001b[49m, \u001b[38;5;124m\"\u001b[39m\u001b[38;5;124miso-8859-1\u001b[39m\u001b[38;5;124m\"\u001b[39m)\n\u001b[1;32m    280\u001b[0m     \u001b[38;5;28;01mif\u001b[39;00m \u001b[38;5;28mlen\u001b[39m(line) \u001b[38;5;241m>\u001b[39m _MAXLINE:\n\u001b[1;32m    281\u001b[0m         \u001b[38;5;28;01mraise\u001b[39;00m LineTooLong(\u001b[38;5;124m\"\u001b[39m\u001b[38;5;124mstatus line\u001b[39m\u001b[38;5;124m\"\u001b[39m)\n",
      "File \u001b[0;32m/opt/conda/envs/pangeo/lib/python3.10/socket.py:705\u001b[0m, in \u001b[0;36mSocketIO.readinto\u001b[0;34m(self, b)\u001b[0m\n\u001b[1;32m    703\u001b[0m \u001b[38;5;28;01mwhile\u001b[39;00m \u001b[38;5;28;01mTrue\u001b[39;00m:\n\u001b[1;32m    704\u001b[0m     \u001b[38;5;28;01mtry\u001b[39;00m:\n\u001b[0;32m--> 705\u001b[0m         \u001b[38;5;28;01mreturn\u001b[39;00m \u001b[38;5;28;43mself\u001b[39;49m\u001b[38;5;241;43m.\u001b[39;49m\u001b[43m_sock\u001b[49m\u001b[38;5;241;43m.\u001b[39;49m\u001b[43mrecv_into\u001b[49m\u001b[43m(\u001b[49m\u001b[43mb\u001b[49m\u001b[43m)\u001b[49m\n\u001b[1;32m    706\u001b[0m     \u001b[38;5;28;01mexcept\u001b[39;00m timeout:\n\u001b[1;32m    707\u001b[0m         \u001b[38;5;28mself\u001b[39m\u001b[38;5;241m.\u001b[39m_timeout_occurred \u001b[38;5;241m=\u001b[39m \u001b[38;5;28;01mTrue\u001b[39;00m\n",
      "\u001b[0;31mKeyboardInterrupt\u001b[0m: "
     ]
    }
   ],
   "source": [
    "%%time\n",
    "allfires, allpixels = FireMain.Fire_Forward(tst=tst, ted=ted, region=region, restart=False, read_location=\"s3\", read_saved_location=\"local\")"
   ]
  },
  {
   "cell_type": "markdown",
   "id": "d148fea3-50f2-48bf-a733-fb8f42f1e9f2",
   "metadata": {},
   "source": [
    "Now we don't necessarily need to store all the allpixels and allfires dataframes in the s3 bucket. It's enough to put files for the last timestep."
   ]
  },
  {
   "cell_type": "code",
   "execution_count": 2,
   "id": "d3d30ec9-ded2-441a-b4ea-23def2e3bd63",
   "metadata": {
    "tags": []
   },
   "outputs": [],
   "source": [
    "last_saved_t = postprocess.get_t_of_last_allfires_run(tst, ted, region, location=\"local\")\n",
    "\n",
    "allpixels_filepath = postprocess.allpixels_filepath(tst, last_saved_t, region, location=\"local\")\n",
    "allfires_filepath = postprocess.allfires_filepath(tst, last_saved_t, region, location=\"local\")"
   ]
  },
  {
   "cell_type": "code",
   "execution_count": 3,
   "id": "441b8257-5d62-46ab-8475-585239431cf1",
   "metadata": {
    "tags": []
   },
   "outputs": [
    {
     "name": "stderr",
     "output_type": "stream",
     "text": [
      "2024-04-03 09:57:23,054 - fireatlas.FireLog - INFO - uploading file /projects/fireatlas_nrt/data/FEDSoutput-v3/WesternUS/2023/allpixels_20230119_PM.csv to s3://maap-ops-workspace/shared/gsfc_landslides/FEDSoutput-v3/WesternUS/2023/allpixels_20230119_PM.csv\n",
      "2024-04-03 09:57:24,399 - fireatlas.FireLog - INFO - uploading file /projects/fireatlas_nrt/data/FEDSoutput-v3/WesternUS/2023/allfires_20230119_PM.parq to s3://maap-ops-workspace/shared/gsfc_landslides/FEDSoutput-v3/WesternUS/2023/allfires_20230119_PM.parq\n"
     ]
    }
   ],
   "source": [
    "FireIO.copy_from_local_to_s3(allpixels_filepath)\n",
    "FireIO.copy_from_local_to_s3(allfires_filepath)"
   ]
  },
  {
   "cell_type": "code",
   "execution_count": 8,
   "id": "28898161-cace-4e92-a04e-e92a7a153805",
   "metadata": {
    "tags": []
   },
   "outputs": [],
   "source": [
    "remote_filepath = postprocess.allpixels_filepath(tst, last_saved_t, region, location=\"s3\")"
   ]
  },
  {
   "cell_type": "code",
   "execution_count": 9,
   "id": "433e0bc8-ab4b-462e-acb6-26506afa41ef",
   "metadata": {
    "tags": []
   },
   "outputs": [
    {
     "data": {
      "text/plain": [
       "{'epsg': '9311',\n",
       " 'processedBy': 'jsignell',\n",
       " 'remove_static_sources_bool': 'True'}"
      ]
     },
     "execution_count": 9,
     "metadata": {},
     "output_type": "execute_result"
    }
   ],
   "source": [
    "s3 = s3fs.S3FileSystem()\n",
    "s3.get_tags(remote_filepath)"
   ]
  }
 ],
 "metadata": {
  "kernelspec": {
   "display_name": "Python 3 (ipykernel)",
   "language": "python",
   "name": "python3"
  },
  "language_info": {
   "codemirror_mode": {
    "name": "ipython",
    "version": 3
   },
   "file_extension": ".py",
   "mimetype": "text/x-python",
   "name": "python",
   "nbconvert_exporter": "python",
   "pygments_lexer": "ipython3",
   "version": "3.10.13"
  }
 },
 "nbformat": 4,
 "nbformat_minor": 5
}
