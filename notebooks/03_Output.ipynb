{
 "cells": [
  {
   "cell_type": "markdown",
   "id": "5016ad4a-8efc-4329-8260-79a12f8daca8",
   "metadata": {},
   "source": [
    "## Generate outputs\n",
    "\n",
    "What we want out of this notebook is:\n",
    " - a snapshot of all the fires at a given t\n",
    " - a timeseries of each fire across time. "
   ]
  },
  {
   "cell_type": "code",
   "execution_count": 1,
   "id": "2ed6f4c1-f380-4b1d-b478-b3dcd61d705d",
   "metadata": {
    "scrolled": true
   },
   "outputs": [],
   "source": [
    "import os\n",
    "import datetime\n",
    "import pandas as pd\n",
    "import geopandas as gpd\n",
    "\n",
    "from fireatlas import FireTime, FireObj, FireConsts, postprocess\n",
    "from fireatlas.utils import timed\n",
    "\n",
    "region = [\"WesternUS\",]  # note you don't need the shape in here, just the name\n",
    "tst = [2023, 8, 28, 'AM']\n",
    "ted = [2023, 9, 6, 'AM']"
   ]
  },
  {
   "cell_type": "markdown",
   "id": "fd6f2be6-286a-4868-adbe-a90aa5dfb4fd",
   "metadata": {},
   "source": [
    "## Read from disk"
   ]
  },
  {
   "cell_type": "code",
   "execution_count": 2,
   "id": "bb9d9818-89b0-4534-875d-8f5295eba2a0",
   "metadata": {},
   "outputs": [
    {
     "name": "stderr",
     "output_type": "stream",
     "text": [
      "2024-03-26 17:59:40,799 - FireLog - INFO - func:read_allpixels took: 45.34 ms\n"
     ]
    }
   ],
   "source": [
    "allpixels = postprocess.read_allpixels(tst, ted, region, location=\"local\")"
   ]
  },
  {
   "cell_type": "code",
   "execution_count": 3,
   "id": "713e07d4-3f8f-4ff3-a67b-88883a39b6c4",
   "metadata": {},
   "outputs": [
    {
     "name": "stderr",
     "output_type": "stream",
     "text": [
      "2024-03-26 17:59:40,876 - FireLog - INFO - func:read_allfires_gdf took: 73.48 ms\n"
     ]
    }
   ],
   "source": [
    "allfires_gdf = postprocess.read_allfires_gdf(tst, ted, region, location=\"local\")"
   ]
  },
  {
   "cell_type": "markdown",
   "id": "2b48478f-189a-455d-b9ca-c323b46054e4",
   "metadata": {},
   "source": [
    "## Write snapshots\n",
    "\n",
    "Write each geometry object into its own flatgeobuf file within a subdirectory."
   ]
  },
  {
   "cell_type": "code",
   "execution_count": 4,
   "id": "be5fe52c-793d-4f9a-9bd7-8cf0421daecb",
   "metadata": {},
   "outputs": [
    {
     "name": "stderr",
     "output_type": "stream",
     "text": [
      "2024-03-26 17:59:42,551 - FireLog - INFO - func:save_snapshot_layers took: 604.18 ms\n",
      "2024-03-26 17:59:42,955 - FireLog - INFO - func:save_snapshot_layers took: 401.12 ms\n",
      "2024-03-26 17:59:43,425 - FireLog - INFO - func:save_snapshot_layers took: 465.40 ms\n",
      "2024-03-26 17:59:43,910 - FireLog - INFO - func:save_snapshot_layers took: 481.65 ms\n",
      "2024-03-26 17:59:44,449 - FireLog - INFO - func:save_snapshot_layers took: 535.03 ms\n",
      "2024-03-26 17:59:45,005 - FireLog - INFO - func:save_snapshot_layers took: 552.54 ms\n",
      "2024-03-26 17:59:45,595 - FireLog - INFO - func:save_snapshot_layers took: 586.11 ms\n",
      "2024-03-26 17:59:46,197 - FireLog - INFO - func:save_snapshot_layers took: 598.86 ms\n",
      "2024-03-26 17:59:46,785 - FireLog - INFO - func:save_snapshot_layers took: 584.32 ms\n",
      "2024-03-26 17:59:47,382 - FireLog - INFO - func:save_snapshot_layers took: 592.67 ms\n",
      "2024-03-26 17:59:48,030 - FireLog - INFO - func:save_snapshot_layers took: 642.93 ms\n",
      "2024-03-26 17:59:48,658 - FireLog - INFO - func:save_snapshot_layers took: 625.00 ms\n",
      "2024-03-26 17:59:49,316 - FireLog - INFO - func:save_snapshot_layers took: 654.32 ms\n",
      "2024-03-26 17:59:49,962 - FireLog - INFO - func:save_snapshot_layers took: 641.34 ms\n",
      "2024-03-26 17:59:50,634 - FireLog - INFO - func:save_snapshot_layers took: 668.51 ms\n",
      "2024-03-26 17:59:51,299 - FireLog - INFO - func:save_snapshot_layers took: 661.14 ms\n",
      "2024-03-26 17:59:51,962 - FireLog - INFO - func:save_snapshot_layers took: 659.13 ms\n",
      "2024-03-26 17:59:52,674 - FireLog - INFO - func:save_snapshot_layers took: 708.18 ms\n",
      "2024-03-26 17:59:53,399 - FireLog - INFO - func:save_snapshot_layers took: 722.16 ms\n",
      "2024-03-26 17:59:53,400 - FireLog - INFO - func:save_snapshots took: 11.46 sec\n"
     ]
    },
    {
     "name": "stdout",
     "output_type": "stream",
     "text": [
      "CPU times: user 7.26 s, sys: 172 ms, total: 7.43 s\n",
      "Wall time: 11.5 s\n"
     ]
    }
   ],
   "source": [
    "%%time\n",
    "postprocess.save_snapshots(allfires_gdf, region, tst, ted)"
   ]
  },
  {
   "cell_type": "markdown",
   "id": "a81ffd2d-ed4b-498e-b45e-127f7c5fd594",
   "metadata": {},
   "source": [
    "## Write large fires\n",
    "\n",
    "Start by getting a list containing all the fireIDs for the large fires in the allfires geodataframe."
   ]
  },
  {
   "cell_type": "code",
   "execution_count": 5,
   "id": "130838af-f05c-48fe-b52f-1e8d0a5d6747",
   "metadata": {},
   "outputs": [
    {
     "name": "stderr",
     "output_type": "stream",
     "text": [
      "2024-03-26 17:59:56,434 - FireLog - INFO - func:find_largefires took: 4.74 ms\n"
     ]
    }
   ],
   "source": [
    "large_fires = postprocess.find_largefires(allfires_gdf)"
   ]
  },
  {
   "cell_type": "markdown",
   "id": "ceab6685-4dec-4ad6-9e0a-31f69db864cd",
   "metadata": {},
   "source": [
    "First we'll use the `allpixels` object to create the `nplist` layer"
   ]
  },
  {
   "cell_type": "code",
   "execution_count": 6,
   "id": "0718c1ae-99f2-4edd-9e89-a101279e3515",
   "metadata": {},
   "outputs": [
    {
     "name": "stderr",
     "output_type": "stream",
     "text": [
      "2024-03-26 17:59:57,739 - FireLog - INFO - func:save_fire_nplist took: 46.85 ms\n",
      "2024-03-26 17:59:57,776 - FireLog - INFO - func:save_fire_nplist took: 35.43 ms\n",
      "2024-03-26 17:59:57,825 - FireLog - INFO - func:save_fire_nplist took: 47.52 ms\n",
      "2024-03-26 17:59:57,875 - FireLog - INFO - func:save_fire_nplist took: 49.52 ms\n",
      "2024-03-26 17:59:57,921 - FireLog - INFO - func:save_fire_nplist took: 44.28 ms\n",
      "2024-03-26 17:59:57,961 - FireLog - INFO - func:save_fire_nplist took: 39.14 ms\n",
      "2024-03-26 17:59:58,000 - FireLog - INFO - func:save_fire_nplist took: 37.41 ms\n",
      "2024-03-26 17:59:58,043 - FireLog - INFO - func:save_fire_nplist took: 42.03 ms\n",
      "2024-03-26 17:59:58,093 - FireLog - INFO - func:save_fire_nplist took: 49.07 ms\n",
      "2024-03-26 17:59:58,135 - FireLog - INFO - func:save_fire_nplist took: 41.50 ms\n",
      "2024-03-26 17:59:58,179 - FireLog - INFO - func:save_fire_nplist took: 42.80 ms\n",
      "2024-03-26 17:59:58,229 - FireLog - INFO - func:save_fire_nplist took: 48.51 ms\n",
      "2024-03-26 17:59:58,283 - FireLog - INFO - func:save_fire_nplist took: 52.65 ms\n",
      "2024-03-26 17:59:58,329 - FireLog - INFO - func:save_fire_nplist took: 45.18 ms\n",
      "2024-03-26 17:59:58,409 - FireLog - INFO - func:save_fire_nplist took: 77.93 ms\n",
      "2024-03-26 17:59:58,462 - FireLog - INFO - func:save_fire_nplist took: 52.72 ms\n",
      "2024-03-26 17:59:58,503 - FireLog - INFO - func:save_fire_nplist took: 39.83 ms\n",
      "2024-03-26 17:59:58,766 - FireLog - INFO - func:save_fire_nplist took: 261.18 ms\n",
      "2024-03-26 17:59:58,806 - FireLog - INFO - func:save_fire_nplist took: 38.91 ms\n",
      "2024-03-26 17:59:58,857 - FireLog - INFO - func:save_fire_nplist took: 49.53 ms\n",
      "2024-03-26 17:59:58,908 - FireLog - INFO - func:save_fire_nplist took: 50.34 ms\n",
      "2024-03-26 17:59:58,964 - FireLog - INFO - func:save_fire_nplist took: 54.76 ms\n",
      "2024-03-26 17:59:59,005 - FireLog - INFO - func:save_fire_nplist took: 39.83 ms\n",
      "2024-03-26 17:59:59,049 - FireLog - INFO - func:save_fire_nplist took: 42.82 ms\n",
      "2024-03-26 17:59:59,142 - FireLog - INFO - func:save_fire_nplist took: 91.84 ms\n",
      "2024-03-26 17:59:59,189 - FireLog - INFO - func:save_fire_nplist took: 45.80 ms\n",
      "2024-03-26 17:59:59,284 - FireLog - INFO - func:save_fire_nplist took: 93.62 ms\n",
      "2024-03-26 17:59:59,419 - FireLog - INFO - func:save_fire_nplist took: 133.68 ms\n",
      "2024-03-26 17:59:59,559 - FireLog - INFO - func:save_fire_nplist took: 137.73 ms\n",
      "2024-03-26 17:59:59,666 - FireLog - INFO - func:save_fire_nplist took: 106.38 ms\n",
      "2024-03-26 17:59:59,714 - FireLog - INFO - func:save_fire_nplist took: 46.71 ms\n",
      "2024-03-26 17:59:59,755 - FireLog - INFO - func:save_fire_nplist took: 39.10 ms\n",
      "2024-03-26 17:59:59,793 - FireLog - INFO - func:save_fire_nplist took: 37.12 ms\n",
      "2024-03-26 17:59:59,793 - FireLog - INFO - func:save_large_fires_nplist took: 2.10 sec\n"
     ]
    }
   ],
   "source": [
    "postprocess.save_large_fires_nplist(allpixels, region, large_fires, tst)"
   ]
  },
  {
   "cell_type": "markdown",
   "id": "308bd400-ae4e-40aa-86b0-8f0986d34062",
   "metadata": {},
   "source": [
    "The rest of the layers will be created directly from the `allfires_gdf`."
   ]
  },
  {
   "cell_type": "code",
   "execution_count": 7,
   "id": "44990ba3-e2fd-4660-9787-069de89a4994",
   "metadata": {},
   "outputs": [
    {
     "name": "stderr",
     "output_type": "stream",
     "text": [
      "2024-03-26 18:00:02,769 - FireLog - INFO - func:save_fire_layers took: 129.36 ms\n"
     ]
    },
    {
     "name": "stdout",
     "output_type": "stream",
     "text": [
      "45 rows that potentially need a merge\n"
     ]
    },
    {
     "name": "stderr",
     "output_type": "stream",
     "text": [
      "2024-03-26 18:00:02,912 - FireLog - INFO - func:save_fire_layers took: 141.21 ms\n",
      "2024-03-26 18:00:03,027 - FireLog - INFO - func:save_fire_layers took: 114.36 ms\n",
      "2024-03-26 18:00:03,049 - FireLog - INFO - func:merge_rows took: 21.42 ms\n",
      "2024-03-26 18:00:03,171 - FireLog - INFO - func:save_fire_layers took: 121.75 ms\n",
      "2024-03-26 18:00:03,185 - FireLog - INFO - func:merge_rows took: 13.10 ms\n",
      "2024-03-26 18:00:03,302 - FireLog - INFO - func:save_fire_layers took: 116.29 ms\n",
      "2024-03-26 18:00:03,427 - FireLog - INFO - func:save_fire_layers took: 124.35 ms\n",
      "2024-03-26 18:00:03,540 - FireLog - INFO - func:save_fire_layers took: 112.56 ms\n",
      "2024-03-26 18:00:03,664 - FireLog - INFO - func:save_fire_layers took: 122.62 ms\n",
      "2024-03-26 18:00:03,781 - FireLog - INFO - func:save_fire_layers took: 115.56 ms\n",
      "2024-03-26 18:00:03,925 - FireLog - INFO - func:save_fire_layers took: 143.97 ms\n",
      "2024-03-26 18:00:04,043 - FireLog - INFO - func:save_fire_layers took: 117.09 ms\n",
      "2024-03-26 18:00:04,161 - FireLog - INFO - func:save_fire_layers took: 116.94 ms\n",
      "2024-03-26 18:00:04,290 - FireLog - INFO - func:save_fire_layers took: 128.63 ms\n",
      "2024-03-26 18:00:04,417 - FireLog - INFO - func:save_fire_layers took: 125.96 ms\n",
      "2024-03-26 18:00:04,543 - FireLog - INFO - func:save_fire_layers took: 124.57 ms\n",
      "2024-03-26 18:00:04,676 - FireLog - INFO - func:save_fire_layers took: 132.68 ms\n",
      "2024-03-26 18:00:04,734 - FireLog - INFO - func:merge_rows took: 57.14 ms\n",
      "2024-03-26 18:00:04,917 - FireLog - INFO - func:save_fire_layers took: 182.64 ms\n",
      "2024-03-26 18:00:05,072 - FireLog - INFO - func:save_fire_layers took: 154.23 ms\n",
      "2024-03-26 18:00:05,085 - FireLog - INFO - func:merge_rows took: 11.76 ms\n",
      "2024-03-26 18:00:05,241 - FireLog - INFO - func:save_fire_layers took: 155.90 ms\n",
      "2024-03-26 18:00:05,365 - FireLog - INFO - func:save_fire_layers took: 122.95 ms\n",
      "2024-03-26 18:00:05,485 - FireLog - INFO - func:save_fire_layers took: 118.77 ms\n",
      "2024-03-26 18:00:05,614 - FireLog - INFO - func:save_fire_layers took: 128.68 ms\n",
      "2024-03-26 18:00:05,754 - FireLog - INFO - func:save_fire_layers took: 138.69 ms\n",
      "2024-03-26 18:00:05,783 - FireLog - INFO - func:merge_rows took: 28.12 ms\n",
      "2024-03-26 18:00:05,923 - FireLog - INFO - func:save_fire_layers took: 140.11 ms\n",
      "2024-03-26 18:00:05,959 - FireLog - INFO - func:merge_rows took: 35.03 ms\n",
      "2024-03-26 18:00:06,084 - FireLog - INFO - func:save_fire_layers took: 124.40 ms\n",
      "2024-03-26 18:00:06,191 - FireLog - INFO - func:save_fire_layers took: 105.81 ms\n",
      "2024-03-26 18:00:06,309 - FireLog - INFO - func:save_fire_layers took: 117.14 ms\n",
      "2024-03-26 18:00:06,428 - FireLog - INFO - func:save_fire_layers took: 118.69 ms\n",
      "2024-03-26 18:00:06,551 - FireLog - INFO - func:save_fire_layers took: 121.76 ms\n",
      "2024-03-26 18:00:06,666 - FireLog - INFO - func:save_fire_layers took: 114.03 ms\n",
      "2024-03-26 18:00:06,790 - FireLog - INFO - func:save_fire_layers took: 122.92 ms\n",
      "2024-03-26 18:00:06,906 - FireLog - INFO - func:save_fire_layers took: 115.63 ms\n",
      "2024-03-26 18:00:07,020 - FireLog - INFO - func:save_fire_layers took: 113.39 ms\n",
      "2024-03-26 18:00:07,021 - FireLog - INFO - func:save_large_fires_layers took: 4.39 sec\n"
     ]
    }
   ],
   "source": [
    "postprocess.save_large_fires_layers(allfires_gdf, region, large_fires, tst)"
   ]
  }
 ],
 "metadata": {
  "kernelspec": {
   "display_name": "Python 3 (ipykernel)",
   "language": "python",
   "name": "python3"
  },
  "language_info": {
   "codemirror_mode": {
    "name": "ipython",
    "version": 3
   },
   "file_extension": ".py",
   "mimetype": "text/x-python",
   "name": "python",
   "nbconvert_exporter": "python",
   "pygments_lexer": "ipython3",
   "version": "3.11.8"
  }
 },
 "nbformat": 4,
 "nbformat_minor": 5
}
