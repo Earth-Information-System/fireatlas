{
 "cells": [
  {
   "cell_type": "markdown",
   "id": "94c43825-380c-423a-b5a5-56951eaf9b49",
   "metadata": {},
   "source": [
    "# VEDA - Run Archive California 2020\n",
    "\n",
    "This notebook runs the whole year of 2020 for California on VEDA. It includes uploading to s3. See [Performance notebok](./VEDA_Performance_Archive_California_2020.ipynb) for analysis."
   ]
  },
  {
   "cell_type": "code",
   "execution_count": null,
   "id": "f010cae6-922b-48d8-9fc5-5f686c6aedb6",
   "metadata": {},
   "outputs": [],
   "source": [
    "# If you haven't installed the fireatlas code yet, uncomment the following line and run this cell.\n",
    "\n",
    "# !pip install -e .. -q\n",
    "\n",
    "# After this runs, restart the notebook kernel."
   ]
  },
  {
   "cell_type": "code",
   "execution_count": null,
   "id": "df8aa986-213b-47a8-8737-0fb92d765282",
   "metadata": {},
   "outputs": [],
   "source": [
    "from fireatlas import settings\n",
    "\n",
    "settings.S3_PATH = \"s3://veda-data-store-staging/EIS\"\n",
    "settings.LOG_FILENAME = \"running2.log\"\n",
    "settings.N_DASK_WORKERS = 12"
   ]
  },
  {
   "cell_type": "code",
   "execution_count": null,
   "id": "46eb3578-9c69-4379-8867-165bc0ce41ee",
   "metadata": {},
   "outputs": [],
   "source": [
    "from fireatlas import FireRunDaskCoordinator\n",
    "\n",
    "tst = [2020, 1, 1, \"AM\"]\n",
    "ted = [2020, 12, 31, \"PM\"]\n",
    "region = (\"CaliforniaV3\", [-124, 33, -115, 42])"
   ]
  },
  {
   "cell_type": "code",
   "execution_count": null,
   "id": "0a16b6bb-8137-40ff-be07-d0514aa98d13",
   "metadata": {},
   "outputs": [],
   "source": [
    "FireRunDaskCoordinator.Run(region, tst, ted)"
   ]
  }
 ],
 "metadata": {
  "kernelspec": {
   "display_name": "Python 3 (ipykernel)",
   "language": "python",
   "name": "python3"
  },
  "language_info": {
   "codemirror_mode": {
    "name": "ipython",
    "version": 3
   },
   "file_extension": ".py",
   "mimetype": "text/x-python",
   "name": "python",
   "nbconvert_exporter": "python",
   "pygments_lexer": "ipython3",
   "version": "3.11.8"
  }
 },
 "nbformat": 4,
 "nbformat_minor": 5
}
