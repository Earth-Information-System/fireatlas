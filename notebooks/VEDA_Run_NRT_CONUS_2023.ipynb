{
 "cells": [
  {
   "cell_type": "markdown",
   "id": "75f672b1-fe90-4988-b86b-256e6600125f",
   "metadata": {},
   "source": [
    "# VEDA - Run NRT CONUS for 2023\n",
    "\n",
    "This notebook runs CONUS for the whole year of 2023 from the start of the year at each timestep. It mimics the NRT workflow. See \"Performance.ipynb\" for analysis."
   ]
  },
  {
   "cell_type": "code",
   "execution_count": null,
   "id": "2d726561-b6cf-4219-b569-dde30ec17570",
   "metadata": {},
   "outputs": [],
   "source": [
    "# If you haven't installed the fireatlas code yet, uncomment the following line and run this cell.\n",
    "\n",
    "# !pip install -e .. -q\n",
    "\n",
    "# After this runs, restart the notebook kernel."
   ]
  },
  {
   "cell_type": "markdown",
   "id": "4c39dbfe-22a8-461a-b58c-84571fcb77a3",
   "metadata": {},
   "source": [
    "First do some configuring of settings to get the right number of Dask workers and the right S3 path set up."
   ]
  },
  {
   "cell_type": "code",
   "execution_count": null,
   "id": "a2842322-b03b-4883-8293-b336099d708b",
   "metadata": {},
   "outputs": [],
   "source": [
    "import dask\n",
    "from fireatlas import settings\n",
    "\n",
    "# turn off dask warnings\n",
    "dask.config.set({'logging.distributed': 'error'})\n",
    "\n",
    "settings.S3_PATH = \"s3://veda-data-store-staging/EIS\"\n",
    "settings.LOG_FILENAME = \"running.log\"\n",
    "settings.N_DASK_WORKERS = 12"
   ]
  },
  {
   "cell_type": "code",
   "execution_count": null,
   "id": "71464b7f-bd52-45be-b3b6-64b7b95de9d8",
   "metadata": {},
   "outputs": [],
   "source": [
    "import os\n",
    "from shutil import rmtree\n",
    "from time import time\n",
    "\n",
    "from fireatlas import FireRunDaskCoordinator, preprocess\n",
    "from fireatlas.FireTime import t_generator, t2d, t2dt\n",
    "\n",
    "tst = [2023, 1, 1, \"AM\"]\n",
    "ted = [2023, 12, 31, \"PM\"]\n",
    "\n",
    "region = (\"CONUSV3\", [-126.401171875,24.071240929282325,-61.36210937500001,49.40003415463647])"
   ]
  },
  {
   "cell_type": "markdown",
   "id": "310e7205-34f8-49bc-b567-3fbec6dcecc9",
   "metadata": {},
   "source": [
    "Now to mimic what happens in a near real time run, we will iterate throught the whole year and use each half-day timestep as the value for `ted`. NB: This is not the most efficient way to create a year of archive data."
   ]
  },
  {
   "cell_type": "code",
   "execution_count": null,
   "id": "ce79ba49-dc00-404d-873a-0d39f6f60d3a",
   "metadata": {},
   "outputs": [],
   "source": [
    "# with open(\"/home/jovyan/fireatlas_nrt/notebooks/veda-output.csv\", \"w\") as f:\n",
    "#     f.write(\"t,took\\n\")\n",
    "\n",
    "# Starting at the place where the algorithm last quit\n",
    "for ted in t_generator([2023, 3, 15, 'PM'], ted):\n",
    "    if ted == tst:\n",
    "        continue\n",
    "    t_start = time()\n",
    "    FireRunDaskCoordinator.Run(region, tst, ted)\n",
    "    t_end = time()\n",
    "    with open(\"/home/jovyan/fireatlas_nrt/notebooks/veda-output.csv\", \"a\") as f:\n",
    "        f.write(f\"{t2dt(ted)},{t_end-t_start}\\n\")\n",
    "\n",
    "    # clean things out\n",
    "    for path in [\n",
    "        f'{settings.get_path(\"local\")}/{settings.PREPROCESSED_DIR}/{region[0]}',\n",
    "        f'{settings.get_path(\"local\")}/{settings.OUTPUT_DIR}/{region[0]}',\n",
    "    ]:\n",
    "        if os.path.exists(path):\n",
    "            rmtree(path)"
   ]
  }
 ],
 "metadata": {
  "kernelspec": {
   "display_name": "Python 3 (ipykernel)",
   "language": "python",
   "name": "python3"
  },
  "language_info": {
   "codemirror_mode": {
    "name": "ipython",
    "version": 3
   },
   "file_extension": ".py",
   "mimetype": "text/x-python",
   "name": "python",
   "nbconvert_exporter": "python",
   "pygments_lexer": "ipython3",
   "version": "3.11.9"
  }
 },
 "nbformat": 4,
 "nbformat_minor": 5
}
