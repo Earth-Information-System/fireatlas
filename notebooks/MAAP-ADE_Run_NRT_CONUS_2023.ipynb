{
 "cells": [
  {
   "cell_type": "markdown",
   "id": "5ccadee5-a6d0-4370-b7df-e34dfb7be36a",
   "metadata": {},
   "source": [
    "# MAAP ADE - Run NRT CONUS for 2023\n",
    "\n",
    "This notebook runs CONUS for the whole year of 2023 from the start of the year at each timestep. It mimics the NRT workflow. See [Performance notebook](./MAAP-ADE_Performance_NRT_CONUS_2023.ipynb) for analysis."
   ]
  },
  {
   "cell_type": "code",
   "execution_count": null,
   "id": "424f0d3b-78ec-4c04-8322-6772c7ed065d",
   "metadata": {
    "tags": []
   },
   "outputs": [],
   "source": [
    "# If you haven't installed the fireatlas code yet, uncomment the following line and run this cell.\n",
    "\n",
    "# !pip install -e .. -q\n",
    "\n",
    "# After this runs, restart the notebook kernel."
   ]
  },
  {
   "cell_type": "code",
   "execution_count": null,
   "id": "40dee979-bb57-40f8-a964-b48a2ff8dcd0",
   "metadata": {
    "tags": []
   },
   "outputs": [],
   "source": [
    "import os\n",
    "from shutil import rmtree\n",
    "from time import time\n",
    "\n",
    "from fireatlas import FireRunDaskCoordinator, settings\n",
    "from fireatlas.FireTime import t_generator, t2d, t2dt\n",
    "\n",
    "tst = [2023, 1, 1, \"AM\"]\n",
    "ted = [2023, 12, 31, \"PM\"]\n",
    "\n",
    "region = (\"CONUSV3\", [-126.401171875,24.071240929282325,-61.36210937500001,49.40003415463647])"
   ]
  },
  {
   "cell_type": "markdown",
   "id": "57822f81-5af7-4724-8320-b46d4f391931",
   "metadata": {},
   "source": [
    "Now to mimic what happens in a near real time run, we will iterate throught the whole year and use each half-day timestep as the value for `ted`. NB: This is not the most efficient way to create a year of archive data."
   ]
  },
  {
   "cell_type": "code",
   "execution_count": null,
   "id": "aca06626-940e-4ff3-bb59-54bdf175c665",
   "metadata": {
    "tags": []
   },
   "outputs": [],
   "source": [
    "# with open(\"/projects/fireatlas_nrt/notebooks/output.csv\", \"w\") as f:\n",
    "#     f.write(\"t,took\\n\")\n",
    "\n",
    "# Starting at the place where the algorithm last quit\n",
    "for ted in t_generator([2023, 6, 26, \"AM\"], ted):\n",
    "    if ted == tst:\n",
    "        continue\n",
    "    t_start = time()\n",
    "    FireRunDaskCoordinator.Run(region, tst, ted)\n",
    "    t_end = time()\n",
    "    with open(\"/projects/fireatlas_nrt/notebooks/output.csv\", \"a\") as f:\n",
    "        f.write(f\"{t2dt(ted)},{t_end-t_start}\\n\")\n",
    "\n",
    "    # clean things out\n",
    "    for path in [\n",
    "        f'{settings.get_path(\"local\")}/{settings.PREPROCESSED_DIR}/{region[0]}',\n",
    "        f'{settings.get_path(\"local\")}/{settings.OUTPUT_DIR}/{region[0]}',\n",
    "    ]:\n",
    "        if os.path.exists(path):\n",
    "            rmtree(path)"
   ]
  }
 ],
 "metadata": {
  "kernelspec": {
   "display_name": "Python 3 (ipykernel)",
   "language": "python",
   "name": "python3"
  },
  "language_info": {
   "codemirror_mode": {
    "name": "ipython",
    "version": 3
   },
   "file_extension": ".py",
   "mimetype": "text/x-python",
   "name": "python",
   "nbconvert_exporter": "python",
   "pygments_lexer": "ipython3",
   "version": "3.10.13"
  }
 },
 "nbformat": 4,
 "nbformat_minor": 5
}
