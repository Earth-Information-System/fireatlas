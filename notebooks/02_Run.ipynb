{
 "cells": [
  {
   "cell_type": "markdown",
   "id": "f14a2dc9-e4ba-46ea-9e35-fca95f4514b0",
   "metadata": {},
   "source": [
    "## Run the fire expansion and merging algorithm\n",
    "\n",
    "`Fire_Forward` is responsible for reading in the preprocessed data created in the Ingest notebook"
   ]
  },
  {
   "cell_type": "code",
   "execution_count": 1,
   "id": "2ed6f4c1-f380-4b1d-b478-b3dcd61d705d",
   "metadata": {
    "scrolled": true
   },
   "outputs": [],
   "source": [
    "import datetime\n",
    "import pandas as pd\n",
    "import geopandas as gpd\n",
    "\n",
    "from fireatlas import FireMain, FireTime, FireObj, postprocess\n",
    "from fireatlas.utils import timed\n",
    "\n",
    "region = [\"WesternUS\",]  # note you don't need the shape in here, just the name\n",
    "tst = [2023, 8, 28, 'AM']\n",
    "ted = [2023, 9, 6, 'AM']"
   ]
  },
  {
   "cell_type": "markdown",
   "id": "3c556708-9846-4c45-a86f-88abe0e334c5",
   "metadata": {},
   "source": [
    "Since we want to use precisely the files that we just created in the Ingest notebook. We will set the `read_location` to \"local\"."
   ]
  },
  {
   "cell_type": "code",
   "execution_count": null,
   "id": "7ccd529a-94e5-42b5-a099-e47fe352f1f9",
   "metadata": {},
   "outputs": [
    {
     "name": "stderr",
     "output_type": "stream",
     "text": [
      "2024-03-28 08:56:56,581 - fireatlas.FireLog - INFO - func:read_preprocessed took: 14.74 ms\n",
      "2024-03-28 08:56:56,590 - fireatlas.FireLog - INFO - func:read_preprocessed took: 8.70 ms\n",
      "2024-03-28 08:56:56,600 - fireatlas.FireLog - INFO - func:read_preprocessed took: 9.49 ms\n",
      "2024-03-28 08:56:56,606 - fireatlas.FireLog - INFO - func:read_preprocessed took: 5.56 ms\n",
      "2024-03-28 08:56:56,616 - fireatlas.FireLog - INFO - func:read_preprocessed took: 8.92 ms\n",
      "2024-03-28 08:56:56,626 - fireatlas.FireLog - INFO - func:read_preprocessed took: 9.83 ms\n",
      "2024-03-28 08:56:56,638 - fireatlas.FireLog - INFO - func:read_preprocessed took: 11.67 ms\n",
      "2024-03-28 08:56:56,642 - fireatlas.FireLog - INFO - func:read_preprocessed took: 3.44 ms\n",
      "2024-03-28 08:56:56,647 - fireatlas.FireLog - INFO - func:read_preprocessed took: 3.90 ms\n",
      "2024-03-28 08:56:56,651 - fireatlas.FireLog - INFO - func:read_preprocessed took: 3.45 ms\n",
      "2024-03-28 08:56:56,656 - fireatlas.FireLog - INFO - func:read_preprocessed took: 4.47 ms\n",
      "2024-03-28 08:56:56,660 - fireatlas.FireLog - INFO - func:read_preprocessed took: 3.88 ms\n",
      "2024-03-28 08:56:56,665 - fireatlas.FireLog - INFO - func:read_preprocessed took: 4.23 ms\n",
      "2024-03-28 08:56:56,669 - fireatlas.FireLog - INFO - func:read_preprocessed took: 3.50 ms\n",
      "2024-03-28 08:56:56,673 - fireatlas.FireLog - INFO - func:read_preprocessed took: 3.92 ms\n",
      "2024-03-28 08:56:56,677 - fireatlas.FireLog - INFO - func:read_preprocessed took: 3.59 ms\n",
      "2024-03-28 08:56:56,682 - fireatlas.FireLog - INFO - func:read_preprocessed took: 4.06 ms\n",
      "2024-03-28 08:56:56,686 - fireatlas.FireLog - INFO - func:read_preprocessed took: 4.22 ms\n",
      "2024-03-28 08:56:56,691 - fireatlas.FireLog - INFO - func:read_preprocessed took: 4.25 ms\n",
      "2024-03-28 08:56:56,696 - fireatlas.FireLog - INFO - --------------------\n",
      "2024-03-28 08:56:56,696 - fireatlas.FireLog - INFO - Fire tracking at [2023, 8, 28, 'AM']\n",
      "2024-03-28 09:01:38,276 - fireatlas.FireLog - INFO - func:Fire_expand_rtree took: 4.69 min\n",
      "2024-03-28 09:03:10,952 - fireatlas.FireLog - INFO - func:Fire_merge_rtree took: 1.54 min\n",
      "2024-03-28 09:03:10,953 - fireatlas.FireLog - INFO - fids_expand: 0\n",
      "2024-03-28 09:03:10,953 - fireatlas.FireLog - INFO - fids_new: 264\n",
      "2024-03-28 09:03:10,954 - fireatlas.FireLog - INFO - fids_merged: 32\n",
      "2024-03-28 09:03:10,954 - fireatlas.FireLog - INFO - fids_invalid: 87\n",
      "2024-03-28 09:03:13,034 - fireatlas.FireLog - INFO - func:update_gdf took: 2.08 sec\n",
      "2024-03-28 09:03:13,035 - fireatlas.FireLog - INFO - func:Fire_Forward_one_step took: 6.27 min\n",
      "2024-03-28 09:03:13,036 - fireatlas.FireLog - INFO - --------------------\n",
      "2024-03-28 09:03:13,036 - fireatlas.FireLog - INFO - Fire tracking at [2023, 8, 28, 'PM']\n",
      "2024-03-28 09:05:52,032 - fireatlas.FireLog - INFO - func:Fire_expand_rtree took: 2.65 min\n",
      "2024-03-28 09:06:10,143 - fireatlas.FireLog - INFO - func:Fire_merge_rtree took: 18.11 sec\n",
      "2024-03-28 09:06:10,144 - fireatlas.FireLog - INFO - fids_expand: 56\n",
      "2024-03-28 09:06:10,145 - fireatlas.FireLog - INFO - fids_new: 93\n",
      "2024-03-28 09:06:10,145 - fireatlas.FireLog - INFO - fids_merged: 13\n",
      "2024-03-28 09:06:10,145 - fireatlas.FireLog - INFO - fids_invalid: 17\n",
      "2024-03-28 09:06:11,394 - fireatlas.FireLog - INFO - func:update_gdf took: 1.25 sec\n",
      "2024-03-28 09:06:11,395 - fireatlas.FireLog - INFO - func:Fire_Forward_one_step took: 2.97 min\n",
      "2024-03-28 09:06:11,395 - fireatlas.FireLog - INFO - --------------------\n",
      "2024-03-28 09:06:11,396 - fireatlas.FireLog - INFO - Fire tracking at [2023, 8, 29, 'AM']\n",
      "2024-03-28 09:09:28,290 - fireatlas.FireLog - INFO - func:Fire_expand_rtree took: 3.28 min\n",
      "2024-03-28 09:09:45,869 - fireatlas.FireLog - INFO - func:Fire_merge_rtree took: 17.58 sec\n",
      "2024-03-28 09:09:45,870 - fireatlas.FireLog - INFO - fids_expand: 115\n",
      "2024-03-28 09:09:45,870 - fireatlas.FireLog - INFO - fids_new: 70\n",
      "2024-03-28 09:09:45,871 - fireatlas.FireLog - INFO - fids_merged: 9\n",
      "2024-03-28 09:09:45,871 - fireatlas.FireLog - INFO - fids_invalid: 16\n",
      "2024-03-28 09:09:47,444 - fireatlas.FireLog - INFO - func:update_gdf took: 1.57 sec\n",
      "2024-03-28 09:09:47,445 - fireatlas.FireLog - INFO - func:Fire_Forward_one_step took: 3.60 min\n",
      "2024-03-28 09:09:47,446 - fireatlas.FireLog - INFO - --------------------\n",
      "2024-03-28 09:09:47,447 - fireatlas.FireLog - INFO - Fire tracking at [2023, 8, 29, 'PM']\n",
      "2024-03-28 09:11:02,197 - fireatlas.FireLog - INFO - func:Fire_expand_rtree took: 1.25 min\n",
      "2024-03-28 09:11:05,451 - fireatlas.FireLog - INFO - func:Fire_merge_rtree took: 3.25 sec\n",
      "2024-03-28 09:11:05,452 - fireatlas.FireLog - INFO - fids_expand: 31\n",
      "2024-03-28 09:11:05,452 - fireatlas.FireLog - INFO - fids_new: 38\n",
      "2024-03-28 09:11:05,453 - fireatlas.FireLog - INFO - fids_merged: 3\n",
      "2024-03-28 09:11:05,453 - fireatlas.FireLog - INFO - fids_invalid: 3\n",
      "2024-03-28 09:11:06,066 - fireatlas.FireLog - INFO - func:update_gdf took: 611.84 ms\n",
      "2024-03-28 09:11:06,067 - fireatlas.FireLog - INFO - func:Fire_Forward_one_step took: 1.31 min\n",
      "2024-03-28 09:11:06,067 - fireatlas.FireLog - INFO - --------------------\n",
      "2024-03-28 09:11:06,068 - fireatlas.FireLog - INFO - Fire tracking at [2023, 8, 30, 'AM']\n",
      "2024-03-28 09:13:36,277 - fireatlas.FireLog - INFO - func:Fire_expand_rtree took: 2.50 min\n",
      "2024-03-28 09:13:42,736 - fireatlas.FireLog - INFO - func:Fire_merge_rtree took: 6.46 sec\n",
      "2024-03-28 09:13:42,737 - fireatlas.FireLog - INFO - fids_expand: 99\n",
      "2024-03-28 09:13:42,738 - fireatlas.FireLog - INFO - fids_new: 42\n",
      "2024-03-28 09:13:42,739 - fireatlas.FireLog - INFO - fids_merged: 4\n",
      "2024-03-28 09:13:42,739 - fireatlas.FireLog - INFO - fids_invalid: 6\n",
      "2024-03-28 09:13:43,957 - fireatlas.FireLog - INFO - func:update_gdf took: 1.22 sec\n",
      "2024-03-28 09:13:43,958 - fireatlas.FireLog - INFO - func:Fire_Forward_one_step took: 2.63 min\n",
      "2024-03-28 09:13:43,958 - fireatlas.FireLog - INFO - --------------------\n",
      "2024-03-28 09:13:43,959 - fireatlas.FireLog - INFO - Fire tracking at [2023, 8, 30, 'PM']\n",
      "2024-03-28 09:15:10,955 - fireatlas.FireLog - INFO - func:Fire_expand_rtree took: 1.45 min\n",
      "2024-03-28 09:15:17,100 - fireatlas.FireLog - INFO - func:Fire_merge_rtree took: 6.14 sec\n",
      "2024-03-28 09:15:17,101 - fireatlas.FireLog - INFO - fids_expand: 43\n",
      "2024-03-28 09:15:17,102 - fireatlas.FireLog - INFO - fids_new: 37\n",
      "2024-03-28 09:15:17,102 - fireatlas.FireLog - INFO - fids_merged: 4\n",
      "2024-03-28 09:15:17,103 - fireatlas.FireLog - INFO - fids_invalid: 5\n",
      "2024-03-28 09:15:17,827 - fireatlas.FireLog - INFO - func:update_gdf took: 723.58 ms\n",
      "2024-03-28 09:15:17,828 - fireatlas.FireLog - INFO - func:Fire_Forward_one_step took: 1.56 min\n",
      "2024-03-28 09:15:17,828 - fireatlas.FireLog - INFO - --------------------\n",
      "2024-03-28 09:15:17,829 - fireatlas.FireLog - INFO - Fire tracking at [2023, 8, 31, 'AM']\n",
      "2024-03-28 09:17:41,893 - fireatlas.FireLog - INFO - func:Fire_expand_rtree took: 2.40 min\n",
      "2024-03-28 09:17:48,665 - fireatlas.FireLog - INFO - func:Fire_merge_rtree took: 6.77 sec\n",
      "2024-03-28 09:17:48,666 - fireatlas.FireLog - INFO - fids_expand: 105\n",
      "2024-03-28 09:17:48,666 - fireatlas.FireLog - INFO - fids_new: 29\n",
      "2024-03-28 09:17:48,667 - fireatlas.FireLog - INFO - fids_merged: 5\n",
      "2024-03-28 09:17:48,667 - fireatlas.FireLog - INFO - fids_invalid: 6\n",
      "2024-03-28 09:17:49,880 - fireatlas.FireLog - INFO - func:update_gdf took: 1.21 sec\n",
      "2024-03-28 09:17:49,881 - fireatlas.FireLog - INFO - func:Fire_Forward_one_step took: 2.53 min\n",
      "2024-03-28 09:17:49,881 - fireatlas.FireLog - INFO - --------------------\n",
      "2024-03-28 09:17:49,882 - fireatlas.FireLog - INFO - Fire tracking at [2023, 8, 31, 'PM']\n",
      "2024-03-28 09:18:35,123 - fireatlas.FireLog - INFO - func:Fire_expand_rtree took: 45.24 sec\n",
      "2024-03-28 09:18:38,402 - fireatlas.FireLog - INFO - func:Fire_merge_rtree took: 3.28 sec\n",
      "2024-03-28 09:18:38,402 - fireatlas.FireLog - INFO - fids_expand: 22\n",
      "2024-03-28 09:18:38,403 - fireatlas.FireLog - INFO - fids_new: 20\n",
      "2024-03-28 09:18:38,403 - fireatlas.FireLog - INFO - fids_merged: 3\n",
      "2024-03-28 09:18:38,404 - fireatlas.FireLog - INFO - fids_invalid: 3\n",
      "2024-03-28 09:18:38,793 - fireatlas.FireLog - INFO - func:update_gdf took: 388.79 ms\n",
      "2024-03-28 09:18:38,794 - fireatlas.FireLog - INFO - func:Fire_Forward_one_step took: 48.91 sec\n",
      "2024-03-28 09:18:38,794 - fireatlas.FireLog - INFO - --------------------\n",
      "2024-03-28 09:18:38,795 - fireatlas.FireLog - INFO - Fire tracking at [2023, 9, 1, 'AM']\n",
      "2024-03-28 09:20:40,532 - fireatlas.FireLog - INFO - func:Fire_expand_rtree took: 2.03 min\n",
      "2024-03-28 09:20:41,677 - fireatlas.FireLog - INFO - func:Fire_merge_rtree took: 1.14 sec\n",
      "2024-03-28 09:20:41,678 - fireatlas.FireLog - INFO - fids_expand: 84\n",
      "2024-03-28 09:20:41,678 - fireatlas.FireLog - INFO - fids_new: 31\n",
      "2024-03-28 09:20:41,679 - fireatlas.FireLog - INFO - fids_merged: 1\n",
      "2024-03-28 09:20:41,679 - fireatlas.FireLog - INFO - fids_invalid: 1\n",
      "2024-03-28 09:20:42,685 - fireatlas.FireLog - INFO - func:update_gdf took: 1.00 sec\n",
      "2024-03-28 09:20:42,686 - fireatlas.FireLog - INFO - func:Fire_Forward_one_step took: 2.06 min\n",
      "2024-03-28 09:20:42,686 - fireatlas.FireLog - INFO - --------------------\n",
      "2024-03-28 09:20:42,687 - fireatlas.FireLog - INFO - Fire tracking at [2023, 9, 1, 'PM']\n",
      "2024-03-28 09:21:14,755 - fireatlas.FireLog - INFO - func:Fire_expand_rtree took: 32.07 sec\n",
      "2024-03-28 09:21:15,896 - fireatlas.FireLog - INFO - func:Fire_merge_rtree took: 1.14 sec\n",
      "2024-03-28 09:21:15,898 - fireatlas.FireLog - INFO - fids_expand: 10\n",
      "2024-03-28 09:21:15,899 - fireatlas.FireLog - INFO - fids_new: 20\n",
      "2024-03-28 09:21:15,899 - fireatlas.FireLog - INFO - fids_merged: 1\n",
      "2024-03-28 09:21:15,900 - fireatlas.FireLog - INFO - fids_invalid: 1\n",
      "2024-03-28 09:21:16,202 - fireatlas.FireLog - INFO - func:update_gdf took: 300.37 ms\n",
      "2024-03-28 09:21:16,203 - fireatlas.FireLog - INFO - func:Fire_Forward_one_step took: 33.52 sec\n",
      "2024-03-28 09:21:16,203 - fireatlas.FireLog - INFO - --------------------\n",
      "2024-03-28 09:21:16,204 - fireatlas.FireLog - INFO - Fire tracking at [2023, 9, 2, 'AM']\n"
     ]
    }
   ],
   "source": [
    "allfires, allpixels, t_saved = FireMain.Fire_Forward(tst=tst, ted=ted, restart=False, region=region, read_location=\"local\")"
   ]
  },
  {
   "cell_type": "markdown",
   "id": "e4458cb6-0c9c-4712-8d79-c43f84e756df",
   "metadata": {},
   "source": [
    "# Concepts\n",
    "This outputs two dataframes: an `allpixels` dataframe with 1 row per pixel and an `allfires` geodataframe with one row per-fire/per-t. \n",
    "\n",
    "The core concept is that if you use a dataframe to back the allfires and fire objects there are well-defined ways to serialize that to disk whenever you like (aka no more pickles!).\n",
    "\n",
    "Here's a bit of an overview of the lifecycle of each of these dataframes:\n",
    "\n",
    "## allpixels:\n",
    "\n",
    "- At the start of `Fire_Forward` all of the preprocessed pixel data is loaded and concatenated into one long dataframe.\n",
    "- Each row represents a fire pixel and there is a unique id per row.\n",
    "- As `Fire_Forward` iterates through the timesteps of interest the `allpixels` dataframe is updated in place.\n",
    "- Each `Fire` object refers to the `allpixels` object as the source of truth and does not hold pixel data but instead refers to subsets of the `allpixels` dataframe to return `n_pixels` or `newpixels`.\n",
    "- Merging fires at a particular `t` can update the `allpixels` at a former timestep.\n",
    "- When `Fire_Forward` is complete, the `allpixels` object can be serialized to csv (or any tabular format) optionally partitioned into files by `t`.\n",
    "- This dataframe can be used:\n",
    "    - together with `allfires_gdf` to rehydrate the `allfires` object at the latest `t` in order to run `Fire_Forward` on one new ingest file.\n",
    "    - independently to write the `nplist` output file for largefires\n",
    "\n",
    "## allfires_gdf:\n",
    "\n",
    "- At the start of `Fire_Forward` a new geodataframe object is initialized. It has a column for each of the `Fire` attributes that take a non-trivial amount of time to compute (`ftype`, `hull`, `fline`...).\n",
    "- As `Fire_Forward` iterates through the timesteps of interest it writes a row for every fire that is burning (aka has new pixels) at the `t`.\n",
    "- So each row contains the information about one fire at one `t`. The index is a MultiIndex of `(fid, t)`\n",
    "- Merging fires at a particular `t` updates the `mergeid` on the existing rows (_this part I am not totally confident is correct_).\n",
    "- When `Fire_Forward` is complete, the `allfires_gdf` object can be serialized to geoparquet (this is the best choice since it contains multiple geometry columns) optionally partitioned into files by `t`.\n",
    "- This geodataframe can be used:\n",
    "    - together with `allpixels` to rehydrate the `allfires` object at the latest `t` in order to run `Fire_Forward` on one new ingest file.\n",
    "    - independently to write all the snapshot and largefires output files.\n",
    "\n",
    "Side note: I like that in this branch the `allpixels` dataframe is referenced by all the `Fire` objects but it isn't copied around. This is different from how it works in `preprocess` where each `Fire` object (at each `t`) has its own dataframe. It is also different than the original version of this algorithm where each `Fire` object (at each `t`) holds a bunch of lists."
   ]
  },
  {
   "cell_type": "markdown",
   "id": "f88b111a-a729-45a6-95b2-65a2db573574",
   "metadata": {},
   "source": [
    "## Serialize to disk\n",
    "\n",
    "By default the allfires_gdf and allpixels will be serialized to disk as part of `Fire_Forward`\n",
    "\n",
    "- allpixels -> one file for each t (one row for each pixel).\n",
    "- allfires -> one geoparquet file to hold all information about each fire at each time (one row for each burning fire at each t)."
   ]
  },
  {
   "cell_type": "markdown",
   "id": "fd6f2be6-286a-4868-adbe-a90aa5dfb4fd",
   "metadata": {},
   "source": [
    "## Read from disk"
   ]
  },
  {
   "cell_type": "code",
   "execution_count": null,
   "id": "bb9d9818-89b0-4534-875d-8f5295eba2a0",
   "metadata": {},
   "outputs": [],
   "source": [
    "allpixels = postprocess.read_allpixels(tst, ted, region, location=\"local\")"
   ]
  },
  {
   "cell_type": "code",
   "execution_count": null,
   "id": "713e07d4-3f8f-4ff3-a67b-88883a39b6c4",
   "metadata": {},
   "outputs": [],
   "source": [
    "allfires_gdf = postprocess.read_allfires_gdf(tst, ted, region, location=\"local\")"
   ]
  },
  {
   "cell_type": "markdown",
   "id": "a81ffd2d-ed4b-498e-b45e-127f7c5fd594",
   "metadata": {},
   "source": [
    "## Pick out the large fires\n",
    "\n",
    "Let's compare the existing object-oriented approach with the new geodataframe approach"
   ]
  },
  {
   "cell_type": "code",
   "execution_count": null,
   "id": "94fa151c-0c50-45ca-81f3-6a188ce39bea",
   "metadata": {},
   "outputs": [],
   "source": [
    "%%time\n",
    "from fireatlas import FireGpkg_sfs\n",
    "\n",
    "large_fires_original = FireGpkg_sfs.find_largefires(allfires)"
   ]
  },
  {
   "cell_type": "code",
   "execution_count": null,
   "id": "130838af-f05c-48fe-b52f-1e8d0a5d6747",
   "metadata": {},
   "outputs": [],
   "source": [
    "large_fires_new = postprocess.find_largefires(allfires_gdf)"
   ]
  },
  {
   "cell_type": "code",
   "execution_count": null,
   "id": "693c4ef5-817e-4093-a013-954f3caa20c0",
   "metadata": {},
   "outputs": [],
   "source": [
    "assert set(large_fires_original) == set(large_fires_new), \"The large fires should match\""
   ]
  },
  {
   "cell_type": "markdown",
   "id": "ea5af427-e791-48de-b94c-8b555970d9d1",
   "metadata": {},
   "source": [
    "## Rehydrate the latest allfires"
   ]
  },
  {
   "cell_type": "markdown",
   "id": "cab20ea3-0592-4796-b604-6e5dcb70c26a",
   "metadata": {},
   "source": [
    "This is pretty experimental, but at least in theory you should be able to rehydrate the allfires object based on the allfires_gdf. If this works as expected it would let you pick up from a particular t and run another step of `Fire_Forward`.\n",
    "\n",
    "This should be equivalent to the allfires object that we generated at the top of this notebook."
   ]
  },
  {
   "cell_type": "code",
   "execution_count": null,
   "id": "5755e2d2-19b1-48f5-a3e6-8738c29f0ac8",
   "metadata": {
    "tags": []
   },
   "outputs": [],
   "source": [
    "a = FireObj.Allfires.rehydrate(tst, ted, region, include_dead=False, read_location=\"local\")\n",
    "a"
   ]
  }
 ],
 "metadata": {
  "kernelspec": {
   "display_name": "Python 3 (ipykernel)",
   "language": "python",
   "name": "python3"
  },
  "language_info": {
   "codemirror_mode": {
    "name": "ipython",
    "version": 3
   },
   "file_extension": ".py",
   "mimetype": "text/x-python",
   "name": "python",
   "nbconvert_exporter": "python",
   "pygments_lexer": "ipython3",
   "version": "3.10.13"
  }
 },
 "nbformat": 4,
 "nbformat_minor": 5
}
