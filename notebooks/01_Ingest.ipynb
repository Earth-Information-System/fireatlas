{
 "cells": [
  {
   "cell_type": "markdown",
   "id": "80204987-ec55-4cad-a572-e53bd1e896f8",
   "metadata": {},
   "source": [
    "## Ingest\n",
    "\n",
    "This notebook explains all the preprocesing steps that can happen in parallel before you even get to `Fire_Forward`. In practice many of these steps happen automatically and the output lives on s3."
   ]
  },
  {
   "cell_type": "code",
   "execution_count": 1,
   "id": "79ab616e-3fcf-476e-ab6b-091bb15bda08",
   "metadata": {
    "tags": []
   },
   "outputs": [
    {
     "name": "stdout",
     "output_type": "stream",
     "text": [
      "\u001b[33mWARNING: Running pip as the 'root' user can result in broken permissions and conflicting behaviour with the system package manager. It is recommended to use a virtual environment instead: https://pip.pypa.io/warnings/venv\u001b[0m\u001b[33m\n",
      "\u001b[0m"
     ]
    }
   ],
   "source": [
    "# If you haven't installed the fireatlas code yet, uncomment the following line and run this cell.\n",
    "\n",
    "# !pip install -e .. -q\n",
    "\n",
    "# After this runs, restart the notebook kernel."
   ]
  },
  {
   "cell_type": "code",
   "execution_count": 2,
   "id": "379304f8-1c03-4688-8f60-b86cd141296a",
   "metadata": {
    "tags": []
   },
   "outputs": [],
   "source": [
    "from fireatlas import preprocess\n",
    "from fireatlas import FireTime\n",
    "\n",
    "tst = [2023, 8, 28, 'AM']\n",
    "ted = [2023, 9, 6, 'AM']\n",
    "region = ('WesternUS',[-125.698046875,31.676476158707615,\n",
    "                       -101.00078125,49.51429477264348])\n",
    "list_of_ts = list(FireTime.t_generator(tst, ted))"
   ]
  },
  {
   "cell_type": "markdown",
   "id": "5e54a2d4-b41b-4d53-a4ba-7a41f02799f5",
   "metadata": {},
   "source": [
    "## Once per region\n",
    "\n",
    "Preprocess the region to get rid of static flare sources. Save that new \"swiss cheese\" shape off into a geojson file for later."
   ]
  },
  {
   "cell_type": "code",
   "execution_count": 3,
   "id": "1a3c495d-66fa-458f-8afb-01e982b0709a",
   "metadata": {
    "tags": []
   },
   "outputs": [
    {
     "name": "stderr",
     "output_type": "stream",
     "text": [
      "2024-03-28 08:34:48,936 - fireatlas.FireLog - INFO - func:preprocess_region took: 51.88 sec\n"
     ]
    },
    {
     "data": {
      "text/plain": [
       "'data/FEDSpreprocessed/WesternUS/WesternUS.json'"
      ]
     },
     "execution_count": 3,
     "metadata": {},
     "output_type": "execute_result"
    }
   ],
   "source": [
    "preprocess.preprocess_region(region, force=True)"
   ]
  },
  {
   "cell_type": "markdown",
   "id": "16bd857f-f57a-4fc3-9e49-2c9536c97019",
   "metadata": {},
   "source": [
    "## Once per input file\n",
    "\n",
    "Next process each NRT file into half day files. First we'll get all the times that are of interest. This could also be done by inspecting all looking at all the files that exist and seeing which have not been preprocessed yet."
   ]
  },
  {
   "cell_type": "code",
   "execution_count": 4,
   "id": "864146bf-ee1e-4785-9106-9df1359f2aaf",
   "metadata": {
    "tags": []
   },
   "outputs": [
    {
     "name": "stderr",
     "output_type": "stream",
     "text": [
      "2024-03-28 08:34:50,150 - fireatlas.FireLog - INFO - preprocessing SUOMI_VIIRS_C2_Global_VNP14IMGTDL_NRT_2023240.txt\n",
      "2024-03-28 08:34:51,725 - fireatlas.FireLog - INFO - func:preprocess_input_file took: 1.58 sec\n",
      "2024-03-28 08:34:51,743 - fireatlas.FireLog - INFO - preprocessing SUOMI_VIIRS_C2_Global_VNP14IMGTDL_NRT_2023241.txt\n",
      "2024-03-28 08:34:53,277 - fireatlas.FireLog - INFO - func:preprocess_input_file took: 1.53 sec\n",
      "2024-03-28 08:34:53,292 - fireatlas.FireLog - INFO - preprocessing SUOMI_VIIRS_C2_Global_VNP14IMGTDL_NRT_2023242.txt\n",
      "2024-03-28 08:34:54,602 - fireatlas.FireLog - INFO - func:preprocess_input_file took: 1.31 sec\n",
      "2024-03-28 08:34:54,619 - fireatlas.FireLog - INFO - preprocessing SUOMI_VIIRS_C2_Global_VNP14IMGTDL_NRT_2023243.txt\n",
      "2024-03-28 08:34:55,781 - fireatlas.FireLog - INFO - func:preprocess_input_file took: 1.16 sec\n",
      "2024-03-28 08:34:55,798 - fireatlas.FireLog - INFO - preprocessing SUOMI_VIIRS_C2_Global_VNP14IMGTDL_NRT_2023244.txt\n",
      "2024-03-28 08:34:57,284 - fireatlas.FireLog - INFO - func:preprocess_input_file took: 1.49 sec\n",
      "2024-03-28 08:34:57,302 - fireatlas.FireLog - INFO - preprocessing SUOMI_VIIRS_C2_Global_VNP14IMGTDL_NRT_2023245.txt\n",
      "2024-03-28 08:34:59,076 - fireatlas.FireLog - INFO - func:preprocess_input_file took: 1.77 sec\n",
      "2024-03-28 08:34:59,093 - fireatlas.FireLog - INFO - preprocessing SUOMI_VIIRS_C2_Global_VNP14IMGTDL_NRT_2023246.txt\n",
      "2024-03-28 08:35:00,382 - fireatlas.FireLog - INFO - func:preprocess_input_file took: 1.29 sec\n",
      "2024-03-28 08:35:00,398 - fireatlas.FireLog - INFO - preprocessing SUOMI_VIIRS_C2_Global_VNP14IMGTDL_NRT_2023247.txt\n",
      "2024-03-28 08:35:01,828 - fireatlas.FireLog - INFO - func:preprocess_input_file took: 1.43 sec\n",
      "2024-03-28 08:35:01,847 - fireatlas.FireLog - INFO - preprocessing SUOMI_VIIRS_C2_Global_VNP14IMGTDL_NRT_2023248.txt\n",
      "2024-03-28 08:35:03,153 - fireatlas.FireLog - INFO - func:preprocess_input_file took: 1.31 sec\n",
      "2024-03-28 08:35:03,176 - fireatlas.FireLog - INFO - preprocessing SUOMI_VIIRS_C2_Global_VNP14IMGTDL_NRT_2023249.txt\n",
      "2024-03-28 08:35:04,140 - fireatlas.FireLog - INFO - func:preprocess_input_file took: 964.42 ms\n",
      "2024-03-28 08:35:04,179 - fireatlas.FireLog - INFO - preprocessing J1_VIIRS_C2_Global_VJ114IMGTDL_NRT_2023240.txt\n",
      "2024-03-28 08:35:05,627 - fireatlas.FireLog - INFO - func:preprocess_input_file took: 1.45 sec\n",
      "2024-03-28 08:35:05,649 - fireatlas.FireLog - INFO - preprocessing J1_VIIRS_C2_Global_VJ114IMGTDL_NRT_2023241.txt\n",
      "2024-03-28 08:35:07,116 - fireatlas.FireLog - INFO - func:preprocess_input_file took: 1.47 sec\n",
      "2024-03-28 08:35:07,138 - fireatlas.FireLog - INFO - preprocessing J1_VIIRS_C2_Global_VJ114IMGTDL_NRT_2023242.txt\n",
      "2024-03-28 08:35:08,555 - fireatlas.FireLog - INFO - func:preprocess_input_file took: 1.42 sec\n",
      "2024-03-28 08:35:08,571 - fireatlas.FireLog - INFO - preprocessing J1_VIIRS_C2_Global_VJ114IMGTDL_NRT_2023243.txt\n",
      "2024-03-28 08:35:09,676 - fireatlas.FireLog - INFO - func:preprocess_input_file took: 1.10 sec\n",
      "2024-03-28 08:35:09,690 - fireatlas.FireLog - INFO - preprocessing J1_VIIRS_C2_Global_VJ114IMGTDL_NRT_2023244.txt\n",
      "2024-03-28 08:35:11,385 - fireatlas.FireLog - INFO - func:preprocess_input_file took: 1.69 sec\n",
      "2024-03-28 08:35:11,409 - fireatlas.FireLog - INFO - preprocessing J1_VIIRS_C2_Global_VJ114IMGTDL_NRT_2023245.txt\n",
      "2024-03-28 08:35:13,102 - fireatlas.FireLog - INFO - func:preprocess_input_file took: 1.69 sec\n",
      "2024-03-28 08:35:13,119 - fireatlas.FireLog - INFO - preprocessing J1_VIIRS_C2_Global_VJ114IMGTDL_NRT_2023246.txt\n",
      "2024-03-28 08:35:14,646 - fireatlas.FireLog - INFO - func:preprocess_input_file took: 1.53 sec\n",
      "2024-03-28 08:35:14,663 - fireatlas.FireLog - INFO - preprocessing J1_VIIRS_C2_Global_VJ114IMGTDL_NRT_2023247.txt\n",
      "2024-03-28 08:35:15,996 - fireatlas.FireLog - INFO - func:preprocess_input_file took: 1.33 sec\n",
      "2024-03-28 08:35:16,015 - fireatlas.FireLog - INFO - preprocessing J1_VIIRS_C2_Global_VJ114IMGTDL_NRT_2023248.txt\n",
      "2024-03-28 08:35:17,494 - fireatlas.FireLog - INFO - func:preprocess_input_file took: 1.48 sec\n",
      "2024-03-28 08:35:17,510 - fireatlas.FireLog - INFO - preprocessing J1_VIIRS_C2_Global_VJ114IMGTDL_NRT_2023249.txt\n",
      "2024-03-28 08:35:18,923 - fireatlas.FireLog - INFO - func:preprocess_input_file took: 1.41 sec\n"
     ]
    },
    {
     "name": "stdout",
     "output_type": "stream",
     "text": [
      "CPU times: user 16.2 s, sys: 626 ms, total: 16.9 s\n",
      "Wall time: 30 s\n"
     ]
    }
   ],
   "source": [
    "%%time\n",
    "for sat in [\"SNPP\", \"NOAA20\"]:\n",
    "    for t in list_of_ts[::2]:\n",
    "        preprocess.preprocess_NRT_file(t, sat)"
   ]
  },
  {
   "cell_type": "markdown",
   "id": "73f9065d-3519-4673-98e5-3afd0e29ab80",
   "metadata": {},
   "source": [
    "## Once per region and t\n",
    "\n",
    "Do initial filtering and clustering using the preprocessed region and the half day files. For this notebook we will read all the data from local storage. In practice some or all of it will likely be available on s3.\n",
    "\n",
    "Note: for the purpose of timing I am running this in a for loop, but each of these steps could run in a separate proccess fully in parallel."
   ]
  },
  {
   "cell_type": "code",
   "execution_count": 5,
   "id": "5ed3b8b4-7330-48e4-a3ff-4ca4d56add2c",
   "metadata": {
    "editable": true,
    "slideshow": {
     "slide_type": ""
    },
    "tags": []
   },
   "outputs": [
    {
     "name": "stderr",
     "output_type": "stream",
     "text": [
      "2024-03-28 08:35:19,185 - fireatlas.FireLog - INFO - func:read_region took: 256.38 ms\n",
      "2024-03-28 08:35:19,186 - fireatlas.FireLog - INFO - filtering and clustering 2023-8-28 AM, VIIRS, WesternUS\n",
      "2024-03-28 08:35:19,267 - fireatlas.FireLog - INFO - func:read_preprocessed_input took: 81.11 ms\n",
      "2024-03-28 08:35:19,342 - fireatlas.FireLog - INFO - func:read_preprocessed_input took: 73.67 ms\n",
      "2024-03-28 08:36:30,064 - fireatlas.FireLog - INFO - func:do_clustering took: 34.24 ms\n",
      "2024-03-28 08:36:30,122 - fireatlas.FireLog - INFO - func:preprocess_region_t took: 1.19 min\n",
      "2024-03-28 08:36:30,340 - fireatlas.FireLog - INFO - func:read_region took: 217.18 ms\n",
      "2024-03-28 08:36:30,341 - fireatlas.FireLog - INFO - filtering and clustering 2023-8-28 PM, VIIRS, WesternUS\n",
      "2024-03-28 08:36:30,413 - fireatlas.FireLog - INFO - func:read_preprocessed_input took: 71.06 ms\n",
      "2024-03-28 08:36:30,486 - fireatlas.FireLog - INFO - func:read_preprocessed_input took: 72.15 ms\n",
      "2024-03-28 08:36:58,294 - fireatlas.FireLog - INFO - func:do_clustering took: 17.94 ms\n",
      "2024-03-28 08:36:58,335 - fireatlas.FireLog - INFO - func:preprocess_region_t took: 28.21 sec\n",
      "2024-03-28 08:36:58,505 - fireatlas.FireLog - INFO - func:read_region took: 169.31 ms\n",
      "2024-03-28 08:36:58,505 - fireatlas.FireLog - INFO - filtering and clustering 2023-8-29 AM, VIIRS, WesternUS\n",
      "2024-03-28 08:36:58,596 - fireatlas.FireLog - INFO - func:read_preprocessed_input took: 89.62 ms\n",
      "2024-03-28 08:36:58,670 - fireatlas.FireLog - INFO - func:read_preprocessed_input took: 73.83 ms\n",
      "2024-03-28 08:37:38,676 - fireatlas.FireLog - INFO - func:do_clustering took: 27.59 ms\n",
      "2024-03-28 08:37:38,734 - fireatlas.FireLog - INFO - func:preprocess_region_t took: 40.40 sec\n",
      "2024-03-28 08:37:38,907 - fireatlas.FireLog - INFO - func:read_region took: 172.10 ms\n",
      "2024-03-28 08:37:38,907 - fireatlas.FireLog - INFO - filtering and clustering 2023-8-29 PM, VIIRS, WesternUS\n",
      "2024-03-28 08:37:38,972 - fireatlas.FireLog - INFO - func:read_preprocessed_input took: 64.43 ms\n",
      "2024-03-28 08:37:39,041 - fireatlas.FireLog - INFO - func:read_preprocessed_input took: 67.92 ms\n",
      "2024-03-28 08:37:59,558 - fireatlas.FireLog - INFO - func:do_clustering took: 13.17 ms\n",
      "2024-03-28 08:37:59,593 - fireatlas.FireLog - INFO - func:preprocess_region_t took: 20.86 sec\n",
      "2024-03-28 08:37:59,773 - fireatlas.FireLog - INFO - func:read_region took: 179.44 ms\n",
      "2024-03-28 08:37:59,774 - fireatlas.FireLog - INFO - filtering and clustering 2023-8-30 AM, VIIRS, WesternUS\n",
      "2024-03-28 08:37:59,834 - fireatlas.FireLog - INFO - func:read_preprocessed_input took: 59.29 ms\n",
      "2024-03-28 08:37:59,887 - fireatlas.FireLog - INFO - func:read_preprocessed_input took: 52.33 ms\n",
      "2024-03-28 08:38:33,810 - fireatlas.FireLog - INFO - func:do_clustering took: 22.15 ms\n",
      "2024-03-28 08:38:33,851 - fireatlas.FireLog - INFO - func:preprocess_region_t took: 34.26 sec\n",
      "2024-03-28 08:38:34,023 - fireatlas.FireLog - INFO - func:read_region took: 171.15 ms\n",
      "2024-03-28 08:38:34,024 - fireatlas.FireLog - INFO - filtering and clustering 2023-8-30 PM, VIIRS, WesternUS\n",
      "2024-03-28 08:38:34,097 - fireatlas.FireLog - INFO - func:read_preprocessed_input took: 72.45 ms\n",
      "2024-03-28 08:38:34,240 - fireatlas.FireLog - INFO - func:read_preprocessed_input took: 142.23 ms\n",
      "2024-03-28 08:39:14,255 - fireatlas.FireLog - INFO - func:do_clustering took: 31.54 ms\n",
      "2024-03-28 08:39:14,309 - fireatlas.FireLog - INFO - func:preprocess_region_t took: 40.46 sec\n",
      "2024-03-28 08:39:14,488 - fireatlas.FireLog - INFO - func:read_region took: 178.99 ms\n",
      "2024-03-28 08:39:14,489 - fireatlas.FireLog - INFO - filtering and clustering 2023-8-31 AM, VIIRS, WesternUS\n",
      "2024-03-28 08:39:14,514 - fireatlas.FireLog - INFO - func:read_preprocessed_input took: 24.00 ms\n",
      "2024-03-28 08:39:14,538 - fireatlas.FireLog - INFO - func:read_preprocessed_input took: 24.04 ms\n",
      "2024-03-28 08:40:06,293 - fireatlas.FireLog - INFO - func:do_clustering took: 36.81 ms\n",
      "2024-03-28 08:40:06,350 - fireatlas.FireLog - INFO - func:preprocess_region_t took: 52.04 sec\n",
      "2024-03-28 08:40:06,522 - fireatlas.FireLog - INFO - func:read_region took: 171.17 ms\n",
      "2024-03-28 08:40:06,523 - fireatlas.FireLog - INFO - filtering and clustering 2023-8-31 PM, VIIRS, WesternUS\n",
      "2024-03-28 08:40:06,608 - fireatlas.FireLog - INFO - func:read_preprocessed_input took: 84.57 ms\n",
      "2024-03-28 08:40:06,692 - fireatlas.FireLog - INFO - func:read_preprocessed_input took: 83.81 ms\n",
      "2024-03-28 08:40:10,726 - fireatlas.FireLog - INFO - func:do_clustering took: 3.34 ms\n",
      "2024-03-28 08:40:10,739 - fireatlas.FireLog - INFO - func:preprocess_region_t took: 4.39 sec\n",
      "2024-03-28 08:40:10,919 - fireatlas.FireLog - INFO - func:read_region took: 179.48 ms\n",
      "2024-03-28 08:40:10,919 - fireatlas.FireLog - INFO - filtering and clustering 2023-9-1 AM, VIIRS, WesternUS\n",
      "2024-03-28 08:40:10,969 - fireatlas.FireLog - INFO - func:read_preprocessed_input took: 49.25 ms\n",
      "2024-03-28 08:40:11,031 - fireatlas.FireLog - INFO - func:read_preprocessed_input took: 61.33 ms\n",
      "2024-03-28 08:40:19,106 - fireatlas.FireLog - INFO - func:do_clustering took: 5.63 ms\n",
      "2024-03-28 08:40:19,121 - fireatlas.FireLog - INFO - func:preprocess_region_t took: 8.38 sec\n",
      "2024-03-28 08:40:19,293 - fireatlas.FireLog - INFO - func:read_region took: 171.50 ms\n",
      "2024-03-28 08:40:19,294 - fireatlas.FireLog - INFO - filtering and clustering 2023-9-1 PM, VIIRS, WesternUS\n",
      "2024-03-28 08:40:19,493 - fireatlas.FireLog - INFO - func:read_preprocessed_input took: 198.48 ms\n",
      "2024-03-28 08:40:19,686 - fireatlas.FireLog - INFO - func:read_preprocessed_input took: 192.74 ms\n",
      "2024-03-28 08:40:22,197 - fireatlas.FireLog - INFO - func:do_clustering took: 2.56 ms\n",
      "2024-03-28 08:40:22,213 - fireatlas.FireLog - INFO - func:preprocess_region_t took: 3.09 sec\n",
      "2024-03-28 08:40:22,391 - fireatlas.FireLog - INFO - func:read_region took: 178.25 ms\n",
      "2024-03-28 08:40:22,392 - fireatlas.FireLog - INFO - filtering and clustering 2023-9-2 AM, VIIRS, WesternUS\n",
      "2024-03-28 08:40:22,483 - fireatlas.FireLog - INFO - func:read_preprocessed_input took: 90.39 ms\n",
      "2024-03-28 08:40:22,573 - fireatlas.FireLog - INFO - func:read_preprocessed_input took: 89.14 ms\n",
      "2024-03-28 08:40:29,952 - fireatlas.FireLog - INFO - func:do_clustering took: 4.60 ms\n",
      "2024-03-28 08:40:29,966 - fireatlas.FireLog - INFO - func:preprocess_region_t took: 7.75 sec\n",
      "2024-03-28 08:40:30,138 - fireatlas.FireLog - INFO - func:read_region took: 171.33 ms\n",
      "2024-03-28 08:40:30,139 - fireatlas.FireLog - INFO - filtering and clustering 2023-9-2 PM, VIIRS, WesternUS\n",
      "2024-03-28 08:40:30,345 - fireatlas.FireLog - INFO - func:read_preprocessed_input took: 205.90 ms\n",
      "2024-03-28 08:40:30,538 - fireatlas.FireLog - INFO - func:read_preprocessed_input took: 192.39 ms\n",
      "2024-03-28 08:40:32,666 - fireatlas.FireLog - INFO - func:do_clustering took: 2.43 ms\n",
      "2024-03-28 08:40:32,680 - fireatlas.FireLog - INFO - func:preprocess_region_t took: 2.71 sec\n",
      "2024-03-28 08:40:32,861 - fireatlas.FireLog - INFO - func:read_region took: 180.89 ms\n",
      "2024-03-28 08:40:32,862 - fireatlas.FireLog - INFO - filtering and clustering 2023-9-3 AM, VIIRS, WesternUS\n",
      "2024-03-28 08:40:32,939 - fireatlas.FireLog - INFO - func:read_preprocessed_input took: 76.47 ms\n",
      "2024-03-28 08:40:33,005 - fireatlas.FireLog - INFO - func:read_preprocessed_input took: 64.87 ms\n",
      "2024-03-28 08:40:41,339 - fireatlas.FireLog - INFO - func:do_clustering took: 5.68 ms\n",
      "2024-03-28 08:40:41,353 - fireatlas.FireLog - INFO - func:preprocess_region_t took: 8.67 sec\n",
      "2024-03-28 08:40:41,526 - fireatlas.FireLog - INFO - func:read_region took: 171.97 ms\n",
      "2024-03-28 08:40:41,527 - fireatlas.FireLog - INFO - filtering and clustering 2023-9-3 PM, VIIRS, WesternUS\n",
      "2024-03-28 08:40:41,619 - fireatlas.FireLog - INFO - func:read_preprocessed_input took: 92.01 ms\n",
      "2024-03-28 08:40:41,703 - fireatlas.FireLog - INFO - func:read_preprocessed_input took: 82.69 ms\n",
      "2024-03-28 08:40:43,068 - fireatlas.FireLog - INFO - func:do_clustering took: 1.94 ms\n",
      "2024-03-28 08:40:43,079 - fireatlas.FireLog - INFO - func:preprocess_region_t took: 1.73 sec\n",
      "2024-03-28 08:40:43,259 - fireatlas.FireLog - INFO - func:read_region took: 180.04 ms\n",
      "2024-03-28 08:40:43,260 - fireatlas.FireLog - INFO - filtering and clustering 2023-9-4 AM, VIIRS, WesternUS\n",
      "2024-03-28 08:40:43,312 - fireatlas.FireLog - INFO - func:read_preprocessed_input took: 51.58 ms\n",
      "2024-03-28 08:40:43,337 - fireatlas.FireLog - INFO - func:read_preprocessed_input took: 24.15 ms\n",
      "2024-03-28 08:40:48,754 - fireatlas.FireLog - INFO - func:do_clustering took: 4.09 ms\n",
      "2024-03-28 08:40:48,767 - fireatlas.FireLog - INFO - func:preprocess_region_t took: 5.69 sec\n",
      "2024-03-28 08:40:48,940 - fireatlas.FireLog - INFO - func:read_region took: 171.75 ms\n",
      "2024-03-28 08:40:48,940 - fireatlas.FireLog - INFO - filtering and clustering 2023-9-4 PM, VIIRS, WesternUS\n",
      "2024-03-28 08:40:49,034 - fireatlas.FireLog - INFO - func:read_preprocessed_input took: 92.85 ms\n",
      "2024-03-28 08:40:49,135 - fireatlas.FireLog - INFO - func:read_preprocessed_input took: 100.80 ms\n",
      "2024-03-28 08:40:51,053 - fireatlas.FireLog - INFO - func:do_clustering took: 2.19 ms\n",
      "2024-03-28 08:40:51,065 - fireatlas.FireLog - INFO - func:preprocess_region_t took: 2.30 sec\n",
      "2024-03-28 08:40:51,243 - fireatlas.FireLog - INFO - func:read_region took: 176.84 ms\n",
      "2024-03-28 08:40:51,244 - fireatlas.FireLog - INFO - filtering and clustering 2023-9-5 AM, VIIRS, WesternUS\n",
      "2024-03-28 08:40:51,298 - fireatlas.FireLog - INFO - func:read_preprocessed_input took: 53.71 ms\n",
      "2024-03-28 08:40:51,345 - fireatlas.FireLog - INFO - func:read_preprocessed_input took: 46.15 ms\n",
      "2024-03-28 08:40:58,894 - fireatlas.FireLog - INFO - func:do_clustering took: 4.95 ms\n",
      "2024-03-28 08:40:58,907 - fireatlas.FireLog - INFO - func:preprocess_region_t took: 7.84 sec\n",
      "2024-03-28 08:40:59,079 - fireatlas.FireLog - INFO - func:read_region took: 171.67 ms\n",
      "2024-03-28 08:40:59,080 - fireatlas.FireLog - INFO - filtering and clustering 2023-9-5 PM, VIIRS, WesternUS\n",
      "2024-03-28 08:40:59,176 - fireatlas.FireLog - INFO - func:read_preprocessed_input took: 95.15 ms\n",
      "2024-03-28 08:40:59,291 - fireatlas.FireLog - INFO - func:read_preprocessed_input took: 114.82 ms\n",
      "2024-03-28 08:41:06,152 - fireatlas.FireLog - INFO - func:do_clustering took: 4.94 ms\n",
      "2024-03-28 08:41:06,166 - fireatlas.FireLog - INFO - func:preprocess_region_t took: 7.26 sec\n",
      "2024-03-28 08:41:06,343 - fireatlas.FireLog - INFO - func:read_region took: 175.47 ms\n",
      "2024-03-28 08:41:06,343 - fireatlas.FireLog - INFO - filtering and clustering 2023-9-6 AM, VIIRS, WesternUS\n",
      "2024-03-28 08:41:06,392 - fireatlas.FireLog - INFO - func:read_preprocessed_input took: 48.12 ms\n",
      "2024-03-28 08:41:06,456 - fireatlas.FireLog - INFO - func:read_preprocessed_input took: 62.87 ms\n",
      "2024-03-28 08:41:15,181 - fireatlas.FireLog - INFO - func:do_clustering took: 5.82 ms\n",
      "2024-03-28 08:41:15,196 - fireatlas.FireLog - INFO - func:preprocess_region_t took: 9.03 sec\n"
     ]
    },
    {
     "name": "stdout",
     "output_type": "stream",
     "text": [
      "CPU times: user 5min 34s, sys: 698 ms, total: 5min 34s\n",
      "Wall time: 5min 56s\n"
     ]
    }
   ],
   "source": [
    "%%time\n",
    "for t in list_of_ts:\n",
    "    preprocess.preprocess_region_t(t, region=region, read_location=\"local\", force=True)"
   ]
  }
 ],
 "metadata": {
  "kernelspec": {
   "display_name": "Python 3 (ipykernel)",
   "language": "python",
   "name": "python3"
  },
  "language_info": {
   "codemirror_mode": {
    "name": "ipython",
    "version": 3
   },
   "file_extension": ".py",
   "mimetype": "text/x-python",
   "name": "python",
   "nbconvert_exporter": "python",
   "pygments_lexer": "ipython3",
   "version": "3.10.13"
  }
 },
 "nbformat": 4,
 "nbformat_minor": 5
}
