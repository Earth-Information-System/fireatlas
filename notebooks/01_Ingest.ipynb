{
 "cells": [
  {
   "cell_type": "markdown",
   "id": "80204987-ec55-4cad-a572-e53bd1e896f8",
   "metadata": {},
   "source": [
    "## Ingest\n",
    "\n",
    "This notebook explains all the preprocesing steps that can happen in parallel before you even get to `Fire_Forward`. In practice many of these steps happen automatically and the output lives on s3."
   ]
  },
  {
   "cell_type": "code",
   "execution_count": 1,
   "id": "79ab616e-3fcf-476e-ab6b-091bb15bda08",
   "metadata": {},
   "outputs": [],
   "source": [
    "#!pip install -e .."
   ]
  },
  {
   "cell_type": "code",
   "execution_count": 2,
   "id": "379304f8-1c03-4688-8f60-b86cd141296a",
   "metadata": {},
   "outputs": [],
   "source": [
    "from fireatlas import preprocess\n",
    "from fireatlas import FireTime\n",
    "\n",
    "tst = [2023, 8, 28, 'AM']\n",
    "ted = [2023, 9, 6, 'AM']\n",
    "region = ('WesternUS',[-125.698046875,31.676476158707615,\n",
    "                       -101.00078125,49.51429477264348])\n",
    "list_of_ts = list(FireTime.t_generator(tst, ted))"
   ]
  },
  {
   "cell_type": "markdown",
   "id": "5e54a2d4-b41b-4d53-a4ba-7a41f02799f5",
   "metadata": {},
   "source": [
    "## Once per region\n",
    "\n",
    "Preprocess the region to get rid of static flare sources. Save that new \"swiss cheese\" shape off into a geojson file for later."
   ]
  },
  {
   "cell_type": "code",
   "execution_count": 2,
   "id": "1a3c495d-66fa-458f-8afb-01e982b0709a",
   "metadata": {},
   "outputs": [
    {
     "name": "stderr",
     "output_type": "stream",
     "text": [
      "2024-03-26 17:44:44,226 - FireLog - INFO - func:preprocess_region took: 43.18 sec\n"
     ]
    },
    {
     "data": {
      "text/plain": [
       "'data/FEDSpreprocessed/WesternUS/WesternUS.json'"
      ]
     },
     "execution_count": 2,
     "metadata": {},
     "output_type": "execute_result"
    }
   ],
   "source": [
    "preprocess.preprocess_region(region, force=True)"
   ]
  },
  {
   "cell_type": "markdown",
   "id": "16bd857f-f57a-4fc3-9e49-2c9536c97019",
   "metadata": {},
   "source": [
    "## Once per input file\n",
    "\n",
    "Next process each NRT file into half day files. First we'll get all the times that are of interest. This could also be done by inspecting all looking at all the files that exist and seeing which have not been preprocessed yet."
   ]
  },
  {
   "cell_type": "code",
   "execution_count": 3,
   "id": "864146bf-ee1e-4785-9106-9df1359f2aaf",
   "metadata": {},
   "outputs": [
    {
     "name": "stderr",
     "output_type": "stream",
     "text": [
      "2024-03-26 17:44:44,438 - FireLog - INFO - preprocessing SUOMI_VIIRS_C2_Global_VNP14IMGTDL_NRT_2023240.txt\n",
      "2024-03-26 17:44:46,009 - FireLog - INFO - func:preprocess_input_file took: 1.57 sec\n",
      "2024-03-26 17:44:46,025 - FireLog - INFO - preprocessing SUOMI_VIIRS_C2_Global_VNP14IMGTDL_NRT_2023241.txt\n",
      "2024-03-26 17:44:47,602 - FireLog - INFO - func:preprocess_input_file took: 1.58 sec\n",
      "2024-03-26 17:44:47,614 - FireLog - INFO - preprocessing SUOMI_VIIRS_C2_Global_VNP14IMGTDL_NRT_2023242.txt\n",
      "2024-03-26 17:44:49,022 - FireLog - INFO - func:preprocess_input_file took: 1.41 sec\n",
      "2024-03-26 17:44:49,036 - FireLog - INFO - preprocessing SUOMI_VIIRS_C2_Global_VNP14IMGTDL_NRT_2023243.txt\n",
      "2024-03-26 17:44:50,382 - FireLog - INFO - func:preprocess_input_file took: 1.35 sec\n",
      "2024-03-26 17:44:50,396 - FireLog - INFO - preprocessing SUOMI_VIIRS_C2_Global_VNP14IMGTDL_NRT_2023244.txt\n",
      "2024-03-26 17:44:51,943 - FireLog - INFO - func:preprocess_input_file took: 1.55 sec\n",
      "2024-03-26 17:44:51,959 - FireLog - INFO - preprocessing SUOMI_VIIRS_C2_Global_VNP14IMGTDL_NRT_2023245.txt\n",
      "2024-03-26 17:44:53,850 - FireLog - INFO - func:preprocess_input_file took: 1.89 sec\n",
      "2024-03-26 17:44:53,862 - FireLog - INFO - preprocessing SUOMI_VIIRS_C2_Global_VNP14IMGTDL_NRT_2023246.txt\n",
      "2024-03-26 17:44:55,549 - FireLog - INFO - func:preprocess_input_file took: 1.69 sec\n",
      "2024-03-26 17:44:55,587 - FireLog - INFO - preprocessing SUOMI_VIIRS_C2_Global_VNP14IMGTDL_NRT_2023247.txt\n",
      "2024-03-26 17:44:57,035 - FireLog - INFO - func:preprocess_input_file took: 1.45 sec\n",
      "2024-03-26 17:44:57,048 - FireLog - INFO - preprocessing SUOMI_VIIRS_C2_Global_VNP14IMGTDL_NRT_2023248.txt\n",
      "2024-03-26 17:44:58,476 - FireLog - INFO - func:preprocess_input_file took: 1.43 sec\n",
      "2024-03-26 17:44:58,491 - FireLog - INFO - preprocessing SUOMI_VIIRS_C2_Global_VNP14IMGTDL_NRT_2023249.txt\n",
      "2024-03-26 17:44:59,528 - FireLog - INFO - func:preprocess_input_file took: 1.04 sec\n",
      "2024-03-26 17:44:59,539 - FireLog - INFO - preprocessing J1_VIIRS_C2_Global_VJ114IMGTDL_NRT_2023240.txt\n",
      "2024-03-26 17:45:01,011 - FireLog - INFO - func:preprocess_input_file took: 1.47 sec\n",
      "2024-03-26 17:45:01,023 - FireLog - INFO - preprocessing J1_VIIRS_C2_Global_VJ114IMGTDL_NRT_2023241.txt\n",
      "2024-03-26 17:45:02,433 - FireLog - INFO - func:preprocess_input_file took: 1.41 sec\n",
      "2024-03-26 17:45:02,474 - FireLog - INFO - preprocessing J1_VIIRS_C2_Global_VJ114IMGTDL_NRT_2023242.txt\n",
      "2024-03-26 17:45:03,681 - FireLog - INFO - func:preprocess_input_file took: 1.21 sec\n",
      "2024-03-26 17:45:03,693 - FireLog - INFO - preprocessing J1_VIIRS_C2_Global_VJ114IMGTDL_NRT_2023243.txt\n",
      "2024-03-26 17:45:05,014 - FireLog - INFO - func:preprocess_input_file took: 1.32 sec\n",
      "2024-03-26 17:45:05,035 - FireLog - INFO - preprocessing J1_VIIRS_C2_Global_VJ114IMGTDL_NRT_2023244.txt\n",
      "2024-03-26 17:45:06,866 - FireLog - INFO - func:preprocess_input_file took: 1.83 sec\n",
      "2024-03-26 17:45:06,878 - FireLog - INFO - preprocessing J1_VIIRS_C2_Global_VJ114IMGTDL_NRT_2023245.txt\n",
      "2024-03-26 17:45:08,637 - FireLog - INFO - func:preprocess_input_file took: 1.76 sec\n",
      "2024-03-26 17:45:08,649 - FireLog - INFO - preprocessing J1_VIIRS_C2_Global_VJ114IMGTDL_NRT_2023246.txt\n",
      "2024-03-26 17:45:10,473 - FireLog - INFO - func:preprocess_input_file took: 1.82 sec\n",
      "2024-03-26 17:45:10,489 - FireLog - INFO - preprocessing J1_VIIRS_C2_Global_VJ114IMGTDL_NRT_2023247.txt\n",
      "2024-03-26 17:45:11,765 - FireLog - INFO - func:preprocess_input_file took: 1.28 sec\n",
      "2024-03-26 17:45:11,778 - FireLog - INFO - preprocessing J1_VIIRS_C2_Global_VJ114IMGTDL_NRT_2023248.txt\n",
      "2024-03-26 17:45:13,362 - FireLog - INFO - func:preprocess_input_file took: 1.58 sec\n",
      "2024-03-26 17:45:13,375 - FireLog - INFO - preprocessing J1_VIIRS_C2_Global_VJ114IMGTDL_NRT_2023249.txt\n",
      "2024-03-26 17:45:14,852 - FireLog - INFO - func:preprocess_input_file took: 1.48 sec\n"
     ]
    },
    {
     "name": "stdout",
     "output_type": "stream",
     "text": [
      "CPU times: user 17.7 s, sys: 536 ms, total: 18.2 s\n",
      "Wall time: 30.6 s\n"
     ]
    }
   ],
   "source": [
    "%%time\n",
    "for sat in [\"SNPP\", \"NOAA20\"]:\n",
    "    for t in list_of_ts[::2]:\n",
    "        preprocess.preprocess_NRT_file(t, sat)"
   ]
  },
  {
   "cell_type": "markdown",
   "id": "73f9065d-3519-4673-98e5-3afd0e29ab80",
   "metadata": {},
   "source": [
    "## Once per region and t\n",
    "\n",
    "Do initial filtering and clustering using the preprocessed region and the half day files. For this notebook we will read all the data from local storage. In practice some or all of it will likely be available on s3.\n",
    "\n",
    "Note: for the purpose of timing I am running this in a for loop, but each of these steps could run in a separate proccess fully in parallel."
   ]
  },
  {
   "cell_type": "code",
   "execution_count": 4,
   "id": "5ed3b8b4-7330-48e4-a3ff-4ca4d56add2c",
   "metadata": {
    "editable": true,
    "slideshow": {
     "slide_type": ""
    },
    "tags": []
   },
   "outputs": [
    {
     "name": "stderr",
     "output_type": "stream",
     "text": [
      "2024-03-26 17:45:15,067 - FireLog - INFO - func:read_region took: 209.79 ms\n",
      "2024-03-26 17:45:15,068 - FireLog - INFO - filtering and clustering 2023-8-28 AM, VIIRS, WesternUS\n",
      "2024-03-26 17:45:15,130 - FireLog - INFO - func:read_preprocessed_input took: 61.76 ms\n",
      "2024-03-26 17:45:15,189 - FireLog - INFO - func:read_preprocessed_input took: 58.41 ms\n",
      "2024-03-26 17:46:08,501 - FireLog - INFO - func:do_clustering took: 411.77 ms\n",
      "2024-03-26 17:46:08,562 - FireLog - INFO - func:preprocess_region_t took: 53.70 sec\n",
      "2024-03-26 17:46:08,747 - FireLog - INFO - func:read_region took: 184.20 ms\n",
      "2024-03-26 17:46:08,748 - FireLog - INFO - filtering and clustering 2023-8-28 PM, VIIRS, WesternUS\n",
      "2024-03-26 17:46:08,843 - FireLog - INFO - func:read_preprocessed_input took: 94.73 ms\n",
      "2024-03-26 17:46:08,938 - FireLog - INFO - func:read_preprocessed_input took: 94.19 ms\n",
      "2024-03-26 17:46:30,698 - FireLog - INFO - func:do_clustering took: 18.09 ms\n",
      "2024-03-26 17:46:30,745 - FireLog - INFO - func:preprocess_region_t took: 22.18 sec\n",
      "2024-03-26 17:46:30,915 - FireLog - INFO - func:read_region took: 169.06 ms\n",
      "2024-03-26 17:46:30,916 - FireLog - INFO - filtering and clustering 2023-8-29 AM, VIIRS, WesternUS\n",
      "2024-03-26 17:46:30,985 - FireLog - INFO - func:read_preprocessed_input took: 69.53 ms\n",
      "2024-03-26 17:46:31,049 - FireLog - INFO - func:read_preprocessed_input took: 62.34 ms\n",
      "2024-03-26 17:47:01,416 - FireLog - INFO - func:do_clustering took: 27.46 ms\n",
      "2024-03-26 17:47:01,471 - FireLog - INFO - func:preprocess_region_t took: 30.73 sec\n",
      "2024-03-26 17:47:01,642 - FireLog - INFO - func:read_region took: 170.47 ms\n",
      "2024-03-26 17:47:01,643 - FireLog - INFO - filtering and clustering 2023-8-29 PM, VIIRS, WesternUS\n",
      "2024-03-26 17:47:01,738 - FireLog - INFO - func:read_preprocessed_input took: 93.92 ms\n",
      "2024-03-26 17:47:01,825 - FireLog - INFO - func:read_preprocessed_input took: 87.06 ms\n",
      "2024-03-26 17:47:17,260 - FireLog - INFO - func:do_clustering took: 12.76 ms\n",
      "2024-03-26 17:47:17,300 - FireLog - INFO - func:preprocess_region_t took: 15.83 sec\n",
      "2024-03-26 17:47:17,477 - FireLog - INFO - func:read_region took: 176.11 ms\n",
      "2024-03-26 17:47:17,478 - FireLog - INFO - filtering and clustering 2023-8-30 AM, VIIRS, WesternUS\n",
      "2024-03-26 17:47:17,535 - FireLog - INFO - func:read_preprocessed_input took: 56.89 ms\n",
      "2024-03-26 17:47:17,588 - FireLog - INFO - func:read_preprocessed_input took: 52.55 ms\n",
      "2024-03-26 17:47:43,831 - FireLog - INFO - func:do_clustering took: 22.07 ms\n",
      "2024-03-26 17:47:43,880 - FireLog - INFO - func:preprocess_region_t took: 26.58 sec\n",
      "2024-03-26 17:47:44,051 - FireLog - INFO - func:read_region took: 170.29 ms\n",
      "2024-03-26 17:47:44,052 - FireLog - INFO - filtering and clustering 2023-8-30 PM, VIIRS, WesternUS\n",
      "2024-03-26 17:47:44,146 - FireLog - INFO - func:read_preprocessed_input took: 93.48 ms\n",
      "2024-03-26 17:47:44,239 - FireLog - INFO - func:read_preprocessed_input took: 92.28 ms\n",
      "2024-03-26 17:48:15,363 - FireLog - INFO - func:do_clustering took: 31.97 ms\n",
      "2024-03-26 17:48:15,418 - FireLog - INFO - func:preprocess_region_t took: 31.54 sec\n",
      "2024-03-26 17:48:15,589 - FireLog - INFO - func:read_region took: 170.26 ms\n",
      "2024-03-26 17:48:15,589 - FireLog - INFO - filtering and clustering 2023-8-31 AM, VIIRS, WesternUS\n",
      "2024-03-26 17:48:15,636 - FireLog - INFO - func:read_preprocessed_input took: 46.46 ms\n",
      "2024-03-26 17:48:15,684 - FireLog - INFO - func:read_preprocessed_input took: 47.15 ms\n",
      "2024-03-26 17:48:55,223 - FireLog - INFO - func:do_clustering took: 37.35 ms\n",
      "2024-03-26 17:48:55,283 - FireLog - INFO - func:preprocess_region_t took: 39.86 sec\n",
      "2024-03-26 17:48:55,454 - FireLog - INFO - func:read_region took: 170.61 ms\n",
      "2024-03-26 17:48:55,455 - FireLog - INFO - filtering and clustering 2023-8-31 PM, VIIRS, WesternUS\n",
      "2024-03-26 17:48:55,551 - FireLog - INFO - func:read_preprocessed_input took: 95.75 ms\n",
      "2024-03-26 17:48:55,644 - FireLog - INFO - func:read_preprocessed_input took: 92.84 ms\n",
      "2024-03-26 17:48:58,759 - FireLog - INFO - func:do_clustering took: 3.11 ms\n",
      "2024-03-26 17:48:58,778 - FireLog - INFO - func:preprocess_region_t took: 3.49 sec\n",
      "2024-03-26 17:48:58,953 - FireLog - INFO - func:read_region took: 174.74 ms\n",
      "2024-03-26 17:48:58,954 - FireLog - INFO - filtering and clustering 2023-9-1 AM, VIIRS, WesternUS\n",
      "2024-03-26 17:48:59,001 - FireLog - INFO - func:read_preprocessed_input took: 47.32 ms\n",
      "2024-03-26 17:48:59,054 - FireLog - INFO - func:read_preprocessed_input took: 51.99 ms\n",
      "2024-03-26 17:49:05,352 - FireLog - INFO - func:do_clustering took: 5.38 ms\n",
      "2024-03-26 17:49:05,372 - FireLog - INFO - func:preprocess_region_t took: 6.59 sec\n",
      "2024-03-26 17:49:05,544 - FireLog - INFO - func:read_region took: 170.73 ms\n",
      "2024-03-26 17:49:05,544 - FireLog - INFO - filtering and clustering 2023-9-1 PM, VIIRS, WesternUS\n",
      "2024-03-26 17:49:05,671 - FireLog - INFO - func:read_preprocessed_input took: 126.67 ms\n",
      "2024-03-26 17:49:05,794 - FireLog - INFO - func:read_preprocessed_input took: 122.12 ms\n",
      "2024-03-26 17:49:07,773 - FireLog - INFO - func:do_clustering took: 2.36 ms\n",
      "2024-03-26 17:49:07,789 - FireLog - INFO - func:preprocess_region_t took: 2.42 sec\n",
      "2024-03-26 17:49:07,964 - FireLog - INFO - func:read_region took: 174.16 ms\n",
      "2024-03-26 17:49:07,965 - FireLog - INFO - filtering and clustering 2023-9-2 AM, VIIRS, WesternUS\n",
      "2024-03-26 17:49:08,033 - FireLog - INFO - func:read_preprocessed_input took: 68.22 ms\n",
      "2024-03-26 17:49:08,104 - FireLog - INFO - func:read_preprocessed_input took: 69.96 ms\n",
      "2024-03-26 17:49:13,800 - FireLog - INFO - func:do_clustering took: 4.52 ms\n",
      "2024-03-26 17:49:13,820 - FireLog - INFO - func:preprocess_region_t took: 6.03 sec\n",
      "2024-03-26 17:49:13,995 - FireLog - INFO - func:read_region took: 174.40 ms\n",
      "2024-03-26 17:49:13,996 - FireLog - INFO - filtering and clustering 2023-9-2 PM, VIIRS, WesternUS\n",
      "2024-03-26 17:49:14,116 - FireLog - INFO - func:read_preprocessed_input took: 120.33 ms\n",
      "2024-03-26 17:49:14,238 - FireLog - INFO - func:read_preprocessed_input took: 121.07 ms\n",
      "2024-03-26 17:49:15,858 - FireLog - INFO - func:do_clustering took: 2.27 ms\n",
      "2024-03-26 17:49:15,880 - FireLog - INFO - func:preprocess_region_t took: 2.06 sec\n",
      "2024-03-26 17:49:16,050 - FireLog - INFO - func:read_region took: 169.58 ms\n",
      "2024-03-26 17:49:16,051 - FireLog - INFO - filtering and clustering 2023-9-3 AM, VIIRS, WesternUS\n",
      "2024-03-26 17:49:16,116 - FireLog - INFO - func:read_preprocessed_input took: 64.07 ms\n",
      "2024-03-26 17:49:16,178 - FireLog - INFO - func:read_preprocessed_input took: 61.71 ms\n",
      "2024-03-26 17:49:22,608 - FireLog - INFO - func:do_clustering took: 5.41 ms\n",
      "2024-03-26 17:49:22,631 - FireLog - INFO - func:preprocess_region_t took: 6.75 sec\n",
      "2024-03-26 17:49:22,802 - FireLog - INFO - func:read_region took: 169.67 ms\n",
      "2024-03-26 17:49:22,803 - FireLog - INFO - filtering and clustering 2023-9-3 PM, VIIRS, WesternUS\n",
      "2024-03-26 17:49:22,908 - FireLog - INFO - func:read_preprocessed_input took: 105.07 ms\n",
      "2024-03-26 17:49:23,026 - FireLog - INFO - func:read_preprocessed_input took: 117.00 ms\n",
      "2024-03-26 17:49:24,082 - FireLog - INFO - func:do_clustering took: 1.78 ms\n",
      "2024-03-26 17:49:24,098 - FireLog - INFO - func:preprocess_region_t took: 1.47 sec\n",
      "2024-03-26 17:49:24,271 - FireLog - INFO - func:read_region took: 172.62 ms\n",
      "2024-03-26 17:49:24,272 - FireLog - INFO - filtering and clustering 2023-9-4 AM, VIIRS, WesternUS\n",
      "2024-03-26 17:49:24,327 - FireLog - INFO - func:read_preprocessed_input took: 54.98 ms\n",
      "2024-03-26 17:49:24,371 - FireLog - INFO - func:read_preprocessed_input took: 43.60 ms\n",
      "2024-03-26 17:49:28,836 - FireLog - INFO - func:do_clustering took: 3.95 ms\n",
      "2024-03-26 17:49:28,856 - FireLog - INFO - func:preprocess_region_t took: 4.76 sec\n",
      "2024-03-26 17:49:29,031 - FireLog - INFO - func:read_region took: 173.88 ms\n",
      "2024-03-26 17:49:29,032 - FireLog - INFO - filtering and clustering 2023-9-4 PM, VIIRS, WesternUS\n",
      "2024-03-26 17:49:29,138 - FireLog - INFO - func:read_preprocessed_input took: 105.24 ms\n",
      "2024-03-26 17:49:29,246 - FireLog - INFO - func:read_preprocessed_input took: 107.27 ms\n",
      "2024-03-26 17:49:30,920 - FireLog - INFO - func:do_clustering took: 2.04 ms\n",
      "2024-03-26 17:49:30,939 - FireLog - INFO - func:preprocess_region_t took: 2.08 sec\n",
      "2024-03-26 17:49:31,114 - FireLog - INFO - func:read_region took: 174.47 ms\n",
      "2024-03-26 17:49:31,115 - FireLog - INFO - filtering and clustering 2023-9-5 AM, VIIRS, WesternUS\n",
      "2024-03-26 17:49:31,169 - FireLog - INFO - func:read_preprocessed_input took: 54.23 ms\n",
      "2024-03-26 17:49:31,219 - FireLog - INFO - func:read_preprocessed_input took: 48.64 ms\n",
      "2024-03-26 17:49:37,483 - FireLog - INFO - func:do_clustering took: 4.90 ms\n",
      "2024-03-26 17:49:37,504 - FireLog - INFO - func:preprocess_region_t took: 6.56 sec\n",
      "2024-03-26 17:49:37,679 - FireLog - INFO - func:read_region took: 174.16 ms\n",
      "2024-03-26 17:49:37,679 - FireLog - INFO - filtering and clustering 2023-9-5 PM, VIIRS, WesternUS\n",
      "2024-03-26 17:49:37,800 - FireLog - INFO - func:read_preprocessed_input took: 120.08 ms\n",
      "2024-03-26 17:49:37,920 - FireLog - INFO - func:read_preprocessed_input took: 119.20 ms\n",
      "2024-03-26 17:49:43,368 - FireLog - INFO - func:do_clustering took: 4.70 ms\n",
      "2024-03-26 17:49:43,390 - FireLog - INFO - func:preprocess_region_t took: 5.89 sec\n",
      "2024-03-26 17:49:43,557 - FireLog - INFO - func:read_region took: 166.38 ms\n",
      "2024-03-26 17:49:43,558 - FireLog - INFO - filtering and clustering 2023-9-6 AM, VIIRS, WesternUS\n",
      "2024-03-26 17:49:43,617 - FireLog - INFO - func:read_preprocessed_input took: 58.79 ms\n",
      "2024-03-26 17:49:43,673 - FireLog - INFO - func:read_preprocessed_input took: 55.57 ms\n",
      "2024-03-26 17:49:50,586 - FireLog - INFO - func:do_clustering took: 5.50 ms\n",
      "2024-03-26 17:49:50,607 - FireLog - INFO - func:preprocess_region_t took: 7.22 sec\n"
     ]
    },
    {
     "name": "stdout",
     "output_type": "stream",
     "text": [
      "CPU times: user 4min 23s, sys: 540 ms, total: 4min 23s\n",
      "Wall time: 4min 35s\n"
     ]
    }
   ],
   "source": [
    "%%time\n",
    "for t in list_of_ts:\n",
    "    preprocess.preprocess_region_t(t, sensor=\"VIIRS\", region=region, read_location=\"local\", force=True)"
   ]
  }
 ],
 "metadata": {
  "kernelspec": {
   "display_name": "Python 3 (ipykernel)",
   "language": "python",
   "name": "python3"
  },
  "language_info": {
   "codemirror_mode": {
    "name": "ipython",
    "version": 3
   },
   "file_extension": ".py",
   "mimetype": "text/x-python",
   "name": "python",
   "nbconvert_exporter": "python",
   "pygments_lexer": "ipython3",
   "version": "3.11.8"
  }
 },
 "nbformat": 4,
 "nbformat_minor": 5
}
