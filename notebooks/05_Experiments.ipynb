{
 "cells": [
  {
   "cell_type": "markdown",
   "id": "1046e35b-0e46-4305-b117-8e9a321b0c3a",
   "metadata": {},
   "source": [
    "# Experiments\n",
    "\n",
    "This notebook constains some more experimental code.\n",
    "\n",
    "## Merge Experiments\n",
    "\n",
    "When creating the large fire outputs there are scenarios where clusters that were previously treated as separate fires at a certain timestep merge into one fire. When that happens the target fireID in is stored in the `mergeID` column. So we need to treat the rows after the fact and merge the rows that have the same fireID/mergeID and t."
   ]
  },
  {
   "cell_type": "code",
   "execution_count": 1,
   "id": "b5080aeb-a848-44c4-aed9-05f335c70024",
   "metadata": {},
   "outputs": [],
   "source": [
    "import datetime\n",
    "import pandas as pd\n",
    "import geopandas as gpd\n",
    "\n",
    "from fireatlas import FireMain, FireTime, FireObj, FireConsts, postprocess, preprocess\n",
    "from fireatlas.utils import timed\n",
    "\n",
    "tst = [2023, 8, 28, 'AM']\n",
    "ted = [2023, 9, 6, 'AM']\n",
    "region = ('WesternUS',[-125.698046875,31.676476158707615,\n",
    "                       -101.00078125,49.51429477264348])\n",
    "list_of_ts = list(FireTime.t_generator(tst, ted))"
   ]
  },
  {
   "cell_type": "code",
   "execution_count": 3,
   "id": "d1bfd52c-0804-4533-a2f4-29696dda393a",
   "metadata": {},
   "outputs": [
    {
     "name": "stderr",
     "output_type": "stream",
     "text": [
      "2024-03-26 18:09:37,669 - FireLog - INFO - func:read_allpixels took: 45.98 ms\n",
      "2024-03-26 18:09:37,744 - FireLog - INFO - func:read_allfires_gdf took: 74.35 ms\n"
     ]
    }
   ],
   "source": [
    "allpixels = postprocess.read_allpixels(tst, ted, region, location=\"local\")\n",
    "allfires_gdf = postprocess.read_allfires_gdf(tst, ted, region, location=\"local\")"
   ]
  },
  {
   "cell_type": "code",
   "execution_count": 4,
   "id": "ff63fc8e-968d-404d-909a-f1c4555db743",
   "metadata": {},
   "outputs": [
    {
     "name": "stderr",
     "output_type": "stream",
     "text": [
      "2024-03-26 18:09:40,297 - FireLog - INFO - func:find_largefires took: 6.41 ms\n"
     ]
    }
   ],
   "source": [
    "large_fires = postprocess.find_largefires(allfires_gdf)"
   ]
  },
  {
   "cell_type": "markdown",
   "id": "0346fa54-9bb0-41de-8f09-762afc885e61",
   "metadata": {},
   "source": [
    "We'll start by looking for the places where we need to perform this merge."
   ]
  },
  {
   "cell_type": "code",
   "execution_count": 5,
   "id": "5df5833e-4d29-473c-8bf3-9c41b25b7e92",
   "metadata": {},
   "outputs": [
    {
     "name": "stdout",
     "output_type": "stream",
     "text": [
      "45 rows that potentially need a merge\n"
     ]
    }
   ],
   "source": [
    "gdf = allfires_gdf.reset_index()\n",
    "\n",
    "merge_needed = (gdf.mergeid != gdf.fireID) & (gdf.invalid == False)\n",
    "print(f\"{merge_needed.sum()} rows that potentially need a merge\")\n",
    "\n",
    "# we'll set the \"fireID\" to \"mergeid\" in those spots\n",
    "gdf.loc[merge_needed, \"fireID\"] = gdf.loc[merge_needed, \"mergeid\"]"
   ]
  },
  {
   "cell_type": "markdown",
   "id": "0353c21c-c843-4c61-9fb7-83230f0c2812",
   "metadata": {},
   "source": [
    "Here are two different ideas of how to merge rows:\n",
    "\n",
    "1) The first version of the `merge_rows` function uses a unary union to join the hull and then recalculates the fline and the ftype. This is inspired by Lisa's single-fire workflow.\n",
    "2) The second version of the `merge_rows` function uses code that is more similar to the existing merge function. It constructs a MultiGeometry out of the various geometry objects."
   ]
  },
  {
   "cell_type": "code",
   "execution_count": null,
   "id": "93c592f9-91b6-446c-8b0b-730b30d53473",
   "metadata": {},
   "outputs": [],
   "source": [
    "data_per_fid = {}\n",
    "\n",
    "for fid, data in gdf[gdf[\"fireID\"].isin(large_fires)].groupby(\"fireID\"):\n",
    "    # merge any rows that have the same t\n",
    "    if data.t.duplicated().any():\n",
    "        data_per_fid[fid] = merge_rows(data)"
   ]
  },
  {
   "cell_type": "code",
   "execution_count": 88,
   "id": "1ef99dde-add8-4a15-b227-22f799e047d9",
   "metadata": {},
   "outputs": [],
   "source": [
    "def merge_rows(data):\n",
    "    def cumunion(x):\n",
    "        from shapely.ops import unary_union\n",
    "        for i in range(1, len(x)):\n",
    "            x[i] = unary_union([x[i-1], x[i]])\n",
    "        return x\n",
    "        \n",
    "    # summarize file by t. make sure you dissolve the hull\n",
    "    merged_t = data.set_geometry(\"hull\").dissolve(by='t', aggfunc={\n",
    "        'meanFRP': lambda x: (data.loc[x.index, 'meanFRP'] * data.loc[x.index, 'n_newpixels']).sum() / data.loc[x.index, 'n_newpixels'].sum(),\n",
    "        'n_newpixels': 'sum',\n",
    "        'duration': 'max'\n",
    "    }).reset_index()\n",
    "\n",
    "    # calculate cumulative sum of n_newpixels\n",
    "    merged_t['n_pixels'] = merged_t['n_newpixels'].cumsum()\n",
    "\n",
    "    # combine the geometries from previous days\n",
    "    merged_t['hull'] = cumunion(merged_t['hull'].tolist())\n",
    "    merged_t[\"fline\"] = cumunion(data.set_geometry(\"fline\").dissolve(by='t')[\"fline\"].tolist())\n",
    "\n",
    "    # do the rest of the calculations\n",
    "    merged_t['farea'] = merged_t['hull'].area / 10**6  # convert to km^2\n",
    "    merged_t['pixden'] = merged_t['n_pixels'] / merged_t['farea']\n",
    "\n",
    "    # reorder columns\n",
    "    col_order = ['t', 'duration', 'n_pixels', 'n_newpixels', 'meanFRP', 'pixden', 'farea', 'hull', 'fline']\n",
    "    merged_t = merged_t[col_order]\n",
    "    return merged_t"
   ]
  },
  {
   "cell_type": "code",
   "execution_count": null,
   "id": "78cf3f83-6297-4e39-a888-0e7a1ad13c1a",
   "metadata": {},
   "outputs": [],
   "source": [
    "def merge_rows(data):\n",
    "    \"\"\"For a subset of allfires data containing only one fire, merge any\n",
    "    rows that have the same `t`\n",
    "    \"\"\"\n",
    "    output = data.drop_duplicates(subset=[\"t\"]).set_index(\"t\").copy()\n",
    "    \n",
    "    # clean up any merges that are needed\n",
    "    for dt, rows in data[data.t.duplicated(False)].groupby(\"t\"):\n",
    "        # first get the weighted sums for pixden and meanFRP\n",
    "        pixweight = (rows[\"pixden\"] * rows[\"farea\"]).sum()\n",
    "        FRPweight = (rows[\"meanFRP\"] * rows[\"n_pixels\"]).sum()\n",
    "        \n",
    "        for col in [\"n_pixels\", \"n_newpixels\", \"farea\", \"fperim\", \"flinelen\"]:\n",
    "            output.loc[dt, col] = rows[col].sum()\n",
    "\n",
    "        output.loc[dt, \"t_st\"] = rows[\"t_st\"].min()\n",
    "        output.loc[dt, \"pixden\"] = pixweight / output.loc[dt, \"farea\"]\n",
    "        output.loc[dt, \"meanFRP\"] = FRPweight / output.loc[dt, \"n_pixels\"]\n",
    "\n",
    "        dissolved = rows.dissolve()\n",
    "        for col in [\"hull\", \"fline\", \"nfp\"]:\n",
    "            output.loc[dt, col] = dissolved[col].item()\n",
    "        \n",
    "    return output.reset_index()"
   ]
  },
  {
   "cell_type": "markdown",
   "id": "ed89f39a-3584-4621-a269-221e90db29e9",
   "metadata": {},
   "source": [
    "## Groupby experiments\n",
    "\n",
    "Does it make a big difference if you filter first rather than after?"
   ]
  },
  {
   "cell_type": "code",
   "execution_count": null,
   "id": "d3508587-0318-4e5f-926a-8bb89bfba655",
   "metadata": {},
   "outputs": [],
   "source": [
    "%%time\n",
    "for fid, data in gdf[gdf[\"fireID\"].isin(large_fires)].groupby(\"fireID\"):\n",
    "    f = fid"
   ]
  },
  {
   "cell_type": "code",
   "execution_count": null,
   "id": "787d37e5-0168-4dec-8182-06454dea7508",
   "metadata": {},
   "outputs": [],
   "source": [
    "%%time\n",
    "for fid, data in gdf.groupby(\"fireID\"):\n",
    "    if fid in large_fires:\n",
    "        f = fid"
   ]
  },
  {
   "cell_type": "code",
   "execution_count": null,
   "id": "178b5a35-b74f-4f5a-bf9d-8860404ebf2f",
   "metadata": {},
   "outputs": [],
   "source": [
    "%%time\n",
    "for fid in large_fires:\n",
    "    data = gdf[gdf[\"fireID\"] == fid]\n",
    "    f = fid"
   ]
  },
  {
   "cell_type": "code",
   "execution_count": null,
   "id": "5eb093a2-8bcd-4b90-bebe-92d9adac3b1c",
   "metadata": {},
   "outputs": [],
   "source": [
    "%%time\n",
    "for fid in large_fires:\n",
    "    data = allfires_gdf.loc[fid]\n",
    "    f = fid"
   ]
  }
 ],
 "metadata": {
  "kernelspec": {
   "display_name": "Python 3 (ipykernel)",
   "language": "python",
   "name": "python3"
  },
  "language_info": {
   "codemirror_mode": {
    "name": "ipython",
    "version": 3
   },
   "file_extension": ".py",
   "mimetype": "text/x-python",
   "name": "python",
   "nbconvert_exporter": "python",
   "pygments_lexer": "ipython3",
   "version": "3.11.8"
  }
 },
 "nbformat": 4,
 "nbformat_minor": 5
}
