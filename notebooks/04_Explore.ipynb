{
 "cells": [
  {
   "cell_type": "markdown",
   "id": "7f2ed42d-4d8d-4b6a-b4cf-2eb5f4c37cca",
   "metadata": {},
   "source": [
    "## Explore a particular set of outputs\n",
    "\n",
    "For a given region and time that you have already preprocessed, explore it on a map."
   ]
  },
  {
   "cell_type": "code",
   "execution_count": null,
   "id": "3262bdd1-d2e5-4f16-8f7d-df51c57547e0",
   "metadata": {},
   "outputs": [],
   "source": [
    "from fireatlas import FireIO, preprocess,  postprocess\n",
    "import branca.colormap as cm\n",
    "import folium\n",
    "\n",
    "tst = [2020, 9, 5, \"AM\"]\n",
    "ted = [2020, 9, 8, \"PM\"]\n",
    "region = (\"Creek\", [-119.5, 36.8, -118.9, 37.7])\n",
    "\n",
    "region = preprocess.read_region(region, location=\"local\")\n",
    "df = postprocess.read_allpixels(tst, ted, region, location=\"local\")\n",
    "gdf = postprocess.read_allfires_gdf(tst, ted, region, location=\"local\").reset_index()"
   ]
  },
  {
   "cell_type": "code",
   "execution_count": null,
   "id": "528a15d0-3453-47c0-8cc7-2209f2fe1f7f",
   "metadata": {},
   "outputs": [],
   "source": [
    "mymap = folium.Map(zoom_start=12)\n",
    "\n",
    "# put the region on the map\n",
    "folium.GeoJson(\n",
    "    region[1],\n",
    "    style_function=lambda x: {'fillColor': 'pink', 'color': 'red', 'weight': 2}\n",
    ").add_to(mymap)\n",
    "\n",
    "for i, t in enumerate(df.t.unique()[::-1]):\n",
    "    color = cm.linear.viridis(1 - i/len(df.t.unique()))\n",
    "\n",
    "    # add allpixels\n",
    "    data = df[df[\"t\"] == t]\n",
    "    for index, row in data.iterrows():\n",
    "        folium.CircleMarker(\n",
    "            location=[row['Lat'], row['Lon']],\n",
    "            radius=1,  # Define the circle size\n",
    "            color=color,\n",
    "            fill=True,\n",
    "            fill_color=color,\n",
    "            fill_opacity=0.6\n",
    "        ).add_to(mymap)\n",
    "\n",
    "    # add allfires perimeters\n",
    "    data = gdf[(gdf[\"t\"] == t) & (~gdf[\"invalid\"])]\n",
    "    folium.GeoJson(\n",
    "        data[\"hull\"],\n",
    "        name=f\"perimeter at {t}\",\n",
    "        color=color,\n",
    "        fill_opacity=0.2,\n",
    "        weight=2, \n",
    "    ).add_to(mymap)\n",
    "    \n",
    "mymap"
   ]
  }
 ],
 "metadata": {
  "kernelspec": {
   "display_name": "Python 3 (ipykernel)",
   "language": "python",
   "name": "python3"
  },
  "language_info": {
   "codemirror_mode": {
    "name": "ipython",
    "version": 3
   },
   "file_extension": ".py",
   "mimetype": "text/x-python",
   "name": "python",
   "nbconvert_exporter": "python",
   "pygments_lexer": "ipython3",
   "version": "3.10.13"
  }
 },
 "nbformat": 4,
 "nbformat_minor": 5
}
