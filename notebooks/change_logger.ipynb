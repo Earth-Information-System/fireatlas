{
 "cells": [
  {
   "cell_type": "markdown",
   "metadata": {},
   "source": [
    "### Test out the new logger function\n",
    "\n",
    "First test was to make sure that the logger only initiates (or at the very least makes a message) only once. Had to make the logger metaclass=Singleton. Totally don't understand that. "
   ]
  },
  {
   "cell_type": "code",
   "execution_count": 1,
   "metadata": {},
   "outputs": [
    {
     "name": "stderr",
     "output_type": "stream",
     "text": [
      "2024-08-13 12:58:16,648 - fireatlas.FireLog - INFO - logger initialized!\n"
     ]
    }
   ],
   "source": [
    "from fireatlas import FireConsts, settings, postprocess\n",
    "from fireatlas.FireLog import logger\n",
    "from dotenv import set_key\n",
    "import os"
   ]
  },
  {
   "cell_type": "markdown",
   "metadata": {},
   "source": [
    "Now let's test out it's ability to change the path of the file handler. Make its subdirectories defined by year and region. "
   ]
  },
  {
   "cell_type": "code",
   "execution_count": 2,
   "metadata": {},
   "outputs": [],
   "source": [
    "# in a typical script, there should be region and year already defined as global vars\n",
    "# define them here\n",
    "region = ['Zogg', 'Zogg_perimeter']\n",
    "tst = [2020, 9, 15, 'AM']\n",
    "location = None\n"
   ]
  },
  {
   "cell_type": "markdown",
   "metadata": {},
   "source": [
    "Show it's file handler path intially, change it to a subdirectory, reset it."
   ]
  },
  {
   "cell_type": "code",
   "execution_count": 3,
   "metadata": {},
   "outputs": [
    {
     "name": "stdout",
     "output_type": "stream",
     "text": [
      "[<StreamHandler stderr (INFO)>, <FileHandler D:\\fireatlas\\running.log (INFO)>]\n",
      "[<StreamHandler stderr (INFO)>, <FileHandler D:\\fireatlas\\data\\FEDSoutput-v3\\Zogg\\2020\\running.log (INFO)>]\n",
      "[<StreamHandler stderr (INFO)>, <FileHandler D:\\fireatlas\\running.log (INFO)>]\n"
     ]
    }
   ],
   "source": [
    "print(logger.handlers)\n",
    "newpath = postprocess.all_dir(tst, region, location)\n",
    "logger.update_fh_dir(newpath)\n",
    "print(logger.handlers)\n",
    "logger.reset_fh()\n",
    "print(logger.handlers)\n"
   ]
  },
  {
   "cell_type": "markdown",
   "metadata": {},
   "source": [
    "Next, need to show that the logger will change file handler path when the region and year changes. I suspect this will have no issues when done in serial, but question remains when done in parallel with `dask`. "
   ]
  },
  {
   "cell_type": "code",
   "execution_count": 4,
   "metadata": {},
   "outputs": [],
   "source": [
    "# create a list of \"fires\" to process\n",
    "region_list = [['castle', 'castle_perim'], \n",
    "               ['caldor', 'caldor_perim'], \n",
    "               ['mosquito', 'mosquito_perim'], \n",
    "               ['zogg', 'zogg_perim']]\n",
    "tst_list = [\n",
    "    [2020, 8], [2021, 7], [2022, 8], [2020, 9]\n",
    "]\n",
    "location = None"
   ]
  },
  {
   "cell_type": "code",
   "execution_count": 5,
   "metadata": {},
   "outputs": [],
   "source": [
    "# create a function to apply to each iteration\n",
    "# does the logger properly log in the right subdirectory\n",
    "# can it also log to the main directory when it's not region/year specific? \n",
    "def test_logger(logger, tst, region, location):\n",
    "    # log into the main file handler\n",
    "    logger.reset_fh()\n",
    "    logger.info(\"Processing something for all fires.\")\n",
    "\n",
    "    # log into a subdirectory\n",
    "    subdir = postprocess.all_dir(tst, region, location)\n",
    "    logger.update_fh_dir(subdir)\n",
    "    os.makedirs(subdir, exist_ok=True)\n",
    "    logger.info(f\"logging into the {region[0]} fire.\")\n",
    "    "
   ]
  },
  {
   "cell_type": "markdown",
   "metadata": {},
   "source": [
    "Logger works great when used in serial. Check out the running.log files in the data directory."
   ]
  },
  {
   "cell_type": "code",
   "execution_count": 6,
   "metadata": {},
   "outputs": [
    {
     "name": "stderr",
     "output_type": "stream",
     "text": [
      "2024-08-13 12:58:16,738 - fireatlas.FireLog - INFO - Processing something for all fires.\n",
      "2024-08-13 12:58:16,742 - fireatlas.FireLog - INFO - logging into the castle fire.\n",
      "2024-08-13 12:58:16,745 - fireatlas.FireLog - INFO - Processing something for all fires.\n",
      "2024-08-13 12:58:16,747 - fireatlas.FireLog - INFO - logging into the caldor fire.\n",
      "2024-08-13 12:58:16,748 - fireatlas.FireLog - INFO - Processing something for all fires.\n",
      "2024-08-13 12:58:16,748 - fireatlas.FireLog - INFO - logging into the mosquito fire.\n",
      "2024-08-13 12:58:16,756 - fireatlas.FireLog - INFO - Processing something for all fires.\n",
      "2024-08-13 12:58:16,756 - fireatlas.FireLog - INFO - logging into the zogg fire.\n"
     ]
    }
   ],
   "source": [
    "for tst, region in zip(tst_list, region_list):\n",
    "    test_logger(logger, tst, region, location)"
   ]
  },
  {
   "cell_type": "markdown",
   "metadata": {},
   "source": [
    "Test out the logger when using `dask`!"
   ]
  },
  {
   "cell_type": "code",
   "execution_count": 7,
   "metadata": {},
   "outputs": [
    {
     "name": "stdout",
     "output_type": "stream",
     "text": [
      "http://127.0.0.1:8787/status\n"
     ]
    }
   ],
   "source": [
    "from dask.distributed import Client\n",
    "import dask.delayed\n",
    "from functools import partial\n",
    "import logging\n",
    "\n",
    "# i need to set the level to error for the dask client. Have no clue how to not do this. \n",
    "logging.getLogger('client').setLevel(logging.ERROR)\n",
    "\n",
    "\n",
    "# start dask client\n",
    "client = Client(n_workers = 4, threads_per_worker = 1)\n",
    "\n",
    "print(client.dashboard_link)"
   ]
  },
  {
   "cell_type": "code",
   "execution_count": 8,
   "metadata": {},
   "outputs": [],
   "source": [
    "# try it out \n",
    "futures = client.map(partial(test_logger, logger, location=location), tst_list, region_list)\n",
    "results = client.gather(futures)"
   ]
  },
  {
   "cell_type": "code",
   "execution_count": 9,
   "metadata": {},
   "outputs": [],
   "source": [
    "client.close()"
   ]
  },
  {
   "cell_type": "code",
   "execution_count": 13,
   "metadata": {},
   "outputs": [
    {
     "data": {
      "text/plain": [
       "<CustomLogger fireatlas.FireLog (CRITICAL)>"
      ]
     },
     "execution_count": 13,
     "metadata": {},
     "output_type": "execute_result"
    }
   ],
   "source": [
    "# Print active loggers\n",
    "sorted(logger.root.manager.loggerDict.keys())\n",
    "\n",
    "logger.root.manager.loggerDict['client']\n",
    "\n",
    "\n"
   ]
  },
  {
   "cell_type": "code",
   "execution_count": 12,
   "metadata": {},
   "outputs": [],
   "source": [
    "import logging\n",
    "logging.getLogger('client').setLevel(logging.CRITICAL)"
   ]
  },
  {
   "cell_type": "code",
   "execution_count": null,
   "metadata": {},
   "outputs": [],
   "source": [
    "\n",
    "for logger_name in logging.root.manager.loggerDict:\n",
    "    logger = logging.getLogger(logger_name)\n",
    "    print(f\"{logger_name}: {logger.level}\")"
   ]
  },
  {
   "cell_type": "code",
   "execution_count": 5,
   "metadata": {},
   "outputs": [
    {
     "data": {
      "text/plain": [
       "(True, 'FEDS_INPUT_DIR', 'test')"
      ]
     },
     "execution_count": 5,
     "metadata": {},
     "output_type": "execute_result"
    }
   ],
   "source": [
    "# define env file\n",
    "filenm = os.path.join(FireConsts.root_dir, '.env')\n",
    "set_key(filenm, 'FEDS_LOG_SUBDIR', 'true')\n",
    "set_key(filenm, 'FEDS_READ_LOCATION', 'local')\n",
    "set_key(filenm, 'FEDS_INPUT_DIR', 'test')"
   ]
  },
  {
   "cell_type": "code",
   "execution_count": 6,
   "metadata": {},
   "outputs": [
    {
     "name": "stdout",
     "output_type": "stream",
     "text": [
      "True\n",
      "local\n",
      "test\n"
     ]
    }
   ],
   "source": [
    "print(settings.LOG_SUBDIR)\n",
    "print(settings.READ_LOCATION)\n",
    "print(settings.INPUT_DIR)"
   ]
  },
  {
   "cell_type": "code",
   "execution_count": 7,
   "metadata": {},
   "outputs": [],
   "source": [
    "FireLog.all_dir_logger(tst, region, location)"
   ]
  }
 ],
 "metadata": {
  "kernelspec": {
   "display_name": "fire",
   "language": "python",
   "name": "python3"
  },
  "language_info": {
   "codemirror_mode": {
    "name": "ipython",
    "version": 3
   },
   "file_extension": ".py",
   "mimetype": "text/x-python",
   "name": "python",
   "nbconvert_exporter": "python",
   "pygments_lexer": "ipython3",
   "version": "3.10.13"
  }
 },
 "nbformat": 4,
 "nbformat_minor": 2
}
